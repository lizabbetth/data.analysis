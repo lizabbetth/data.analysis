{
 "cells": [
  {
   "cell_type": "markdown",
   "id": "9503a552",
   "metadata": {},
   "source": [
    "# NPS\n",
    "\n",
    "The customer of this study is a large telecommunications company that provides services throughout the CIS. The company is faced with the task of determining the current level of consumer loyalty, or NPS, among customers from Russia.\n",
    "\n",
    "\n",
    "To determine the level of loyalty, customers were asked the classic question: \"On a scale of 1 to 10, rate the likelihood that you would recommend the company to friends and acquaintances.\"\n",
    "\n",
    "\n",
    "The company conducted a survey and asked to prepare a dashboard with its results. They did not deploy a large database for such a task and uploaded the data to SQLite.\n",
    "\n",
    "\n",
    "To evaluate the results of the survey, the assessments are usually divided into three groups:\n",
    "- 9-10 points - `promoters` \n",
    "- 7-8 points - `passives` \n",
    "- 0-6 points - `detractors` "
   ]
  },
  {
   "cell_type": "code",
   "execution_count": 2,
   "id": "c84d7788",
   "metadata": {
    "tags": [
     "aa81075c-062f-4de0-b5fe-14c73dc7468e"
    ]
   },
   "outputs": [],
   "source": [
    "import pandas as pd\n",
    "import numpy as np\n",
    "\n",
    "from sqlalchemy import create_engine"
   ]
  },
  {
   "cell_type": "code",
   "execution_count": 3,
   "id": "ab5e9b96",
   "metadata": {},
   "outputs": [],
   "source": [
    "path_to_db = '/datasets/telecomm_csi.db'\n",
    "engine = create_engine(f'sqlite:///{path_to_db}', echo = False)"
   ]
  },
  {
   "cell_type": "code",
   "execution_count": 4,
   "id": "68c485c0",
   "metadata": {},
   "outputs": [],
   "source": [
    "query = \"\"\"\n",
    "SELECT * FROM location;\n",
    "\"\"\""
   ]
  },
  {
   "cell_type": "code",
   "execution_count": 5,
   "id": "b30eb415",
   "metadata": {},
   "outputs": [
    {
     "data": {
      "text/html": [
       "<div>\n",
       "<style scoped>\n",
       "    .dataframe tbody tr th:only-of-type {\n",
       "        vertical-align: middle;\n",
       "    }\n",
       "\n",
       "    .dataframe tbody tr th {\n",
       "        vertical-align: top;\n",
       "    }\n",
       "\n",
       "    .dataframe thead th {\n",
       "        text-align: right;\n",
       "    }\n",
       "</style>\n",
       "<table border=\"1\" class=\"dataframe\">\n",
       "  <thead>\n",
       "    <tr style=\"text-align: right;\">\n",
       "      <th></th>\n",
       "      <th>location_id</th>\n",
       "      <th>city</th>\n",
       "      <th>country</th>\n",
       "    </tr>\n",
       "  </thead>\n",
       "  <tbody>\n",
       "    <tr>\n",
       "      <th>0</th>\n",
       "      <td>1</td>\n",
       "      <td>Архангельск</td>\n",
       "      <td>Россия</td>\n",
       "    </tr>\n",
       "    <tr>\n",
       "      <th>1</th>\n",
       "      <td>2</td>\n",
       "      <td>Астрахань</td>\n",
       "      <td>Россия</td>\n",
       "    </tr>\n",
       "    <tr>\n",
       "      <th>2</th>\n",
       "      <td>3</td>\n",
       "      <td>Балашиха</td>\n",
       "      <td>Россия</td>\n",
       "    </tr>\n",
       "  </tbody>\n",
       "</table>\n",
       "</div>"
      ],
      "text/plain": [
       "   location_id         city country\n",
       "0            1  Архангельск  Россия\n",
       "1            2    Астрахань  Россия\n",
       "2            3     Балашиха  Россия"
      ]
     },
     "execution_count": 5,
     "metadata": {},
     "output_type": "execute_result"
    }
   ],
   "source": [
    "df = pd.read_sql(query, engine)\n",
    "df.head(3)"
   ]
  },
  {
   "cell_type": "code",
   "execution_count": 6,
   "id": "2c78c74e",
   "metadata": {},
   "outputs": [],
   "source": [
    "df.to_csv('telecomm_csi_tableau.csv', index=False)"
   ]
  },
  {
   "cell_type": "code",
   "execution_count": 11,
   "id": "7371b888",
   "metadata": {},
   "outputs": [],
   "source": [
    "query_1 = \"\"\"\n",
    "SELECT u.user_id,\n",
    "u.lt_day,\n",
    "    CASE \n",
    "        WHEN lt_day <= 365 THEN 'Новый'\n",
    "        ELSE 'Старый'\n",
    "    END AS is_new,\n",
    "u.age,\n",
    "    CASE\n",
    "        WHEN gender_segment == 0 THEN 'мужчина'\n",
    "        WHEN gender_segment == 1 THEN 'женщина'\n",
    "        ELSE 'None'\n",
    "    END AS gender_segment,\n",
    "u.os_name,\n",
    "u.cpe_type_name,\n",
    "u.nps_score,\n",
    "    CASE\n",
    "        WHEN nps_score >=9 THEN 'cторонники'\n",
    "        WHEN nps_score >=7 AND nps_score <=8 THEN 'нейтралы'\n",
    "        WHEN nps_score <=6 THEN 'критики'\n",
    "    END AS nps_group,\n",
    "l.country,\n",
    "l.city,\n",
    "a.title AS age_segment,\n",
    "t.title AS traffic_segment,\n",
    "lt.title AS lifetime_segment\n",
    "FROM user AS u\n",
    "LEFT JOIN location AS l ON u.location_id = l.location_id\n",
    "LEFT JOIN age_segment AS a ON u.age_gr_id = a.age_gr_id\n",
    "LEFT JOIN traffic_segment AS t ON u.tr_gr_id = t.tr_gr_id\n",
    "LEFT JOIN lifetime_segment AS lt ON u.lt_gr_id = lt.lt_gr_id;\n",
    "\"\"\""
   ]
  },
  {
   "cell_type": "code",
   "execution_count": 12,
   "id": "fb584d36",
   "metadata": {},
   "outputs": [
    {
     "data": {
      "text/html": [
       "<div>\n",
       "<style scoped>\n",
       "    .dataframe tbody tr th:only-of-type {\n",
       "        vertical-align: middle;\n",
       "    }\n",
       "\n",
       "    .dataframe tbody tr th {\n",
       "        vertical-align: top;\n",
       "    }\n",
       "\n",
       "    .dataframe thead th {\n",
       "        text-align: right;\n",
       "    }\n",
       "</style>\n",
       "<table border=\"1\" class=\"dataframe\">\n",
       "  <thead>\n",
       "    <tr style=\"text-align: right;\">\n",
       "      <th></th>\n",
       "      <th>user_id</th>\n",
       "      <th>lt_day</th>\n",
       "      <th>is_new</th>\n",
       "      <th>age</th>\n",
       "      <th>gender_segment</th>\n",
       "      <th>os_name</th>\n",
       "      <th>cpe_type_name</th>\n",
       "      <th>nps_score</th>\n",
       "      <th>nps_group</th>\n",
       "      <th>country</th>\n",
       "      <th>city</th>\n",
       "      <th>age_segment</th>\n",
       "      <th>traffic_segment</th>\n",
       "      <th>lifetime_segment</th>\n",
       "    </tr>\n",
       "  </thead>\n",
       "  <tbody>\n",
       "    <tr>\n",
       "      <th>0</th>\n",
       "      <td>A001A2</td>\n",
       "      <td>2320</td>\n",
       "      <td>Старый</td>\n",
       "      <td>45.0</td>\n",
       "      <td>женщина</td>\n",
       "      <td>ANDROID</td>\n",
       "      <td>SMARTPHONE</td>\n",
       "      <td>10</td>\n",
       "      <td>cторонники</td>\n",
       "      <td>Россия</td>\n",
       "      <td>Уфа</td>\n",
       "      <td>05 45-54</td>\n",
       "      <td>04 1-5</td>\n",
       "      <td>08 36+</td>\n",
       "    </tr>\n",
       "    <tr>\n",
       "      <th>1</th>\n",
       "      <td>A001WF</td>\n",
       "      <td>2344</td>\n",
       "      <td>Старый</td>\n",
       "      <td>53.0</td>\n",
       "      <td>мужчина</td>\n",
       "      <td>ANDROID</td>\n",
       "      <td>SMARTPHONE</td>\n",
       "      <td>10</td>\n",
       "      <td>cторонники</td>\n",
       "      <td>Россия</td>\n",
       "      <td>Киров</td>\n",
       "      <td>05 45-54</td>\n",
       "      <td>04 1-5</td>\n",
       "      <td>08 36+</td>\n",
       "    </tr>\n",
       "    <tr>\n",
       "      <th>2</th>\n",
       "      <td>A003Q7</td>\n",
       "      <td>467</td>\n",
       "      <td>Старый</td>\n",
       "      <td>57.0</td>\n",
       "      <td>мужчина</td>\n",
       "      <td>ANDROID</td>\n",
       "      <td>SMARTPHONE</td>\n",
       "      <td>10</td>\n",
       "      <td>cторонники</td>\n",
       "      <td>Россия</td>\n",
       "      <td>Москва</td>\n",
       "      <td>06 55-64</td>\n",
       "      <td>08 20-25</td>\n",
       "      <td>06 13-24</td>\n",
       "    </tr>\n",
       "    <tr>\n",
       "      <th>3</th>\n",
       "      <td>A004TB</td>\n",
       "      <td>4190</td>\n",
       "      <td>Старый</td>\n",
       "      <td>44.0</td>\n",
       "      <td>женщина</td>\n",
       "      <td>IOS</td>\n",
       "      <td>SMARTPHONE</td>\n",
       "      <td>10</td>\n",
       "      <td>cторонники</td>\n",
       "      <td>Россия</td>\n",
       "      <td>РостовнаДону</td>\n",
       "      <td>04 35-44</td>\n",
       "      <td>03 0.1-1</td>\n",
       "      <td>08 36+</td>\n",
       "    </tr>\n",
       "    <tr>\n",
       "      <th>4</th>\n",
       "      <td>A004XT</td>\n",
       "      <td>1163</td>\n",
       "      <td>Старый</td>\n",
       "      <td>24.0</td>\n",
       "      <td>мужчина</td>\n",
       "      <td>ANDROID</td>\n",
       "      <td>SMARTPHONE</td>\n",
       "      <td>10</td>\n",
       "      <td>cторонники</td>\n",
       "      <td>Россия</td>\n",
       "      <td>Рязань</td>\n",
       "      <td>02 16-24</td>\n",
       "      <td>05 5-10</td>\n",
       "      <td>08 36+</td>\n",
       "    </tr>\n",
       "    <tr>\n",
       "      <th>...</th>\n",
       "      <td>...</td>\n",
       "      <td>...</td>\n",
       "      <td>...</td>\n",
       "      <td>...</td>\n",
       "      <td>...</td>\n",
       "      <td>...</td>\n",
       "      <td>...</td>\n",
       "      <td>...</td>\n",
       "      <td>...</td>\n",
       "      <td>...</td>\n",
       "      <td>...</td>\n",
       "      <td>...</td>\n",
       "      <td>...</td>\n",
       "      <td>...</td>\n",
       "    </tr>\n",
       "    <tr>\n",
       "      <th>502488</th>\n",
       "      <td>ZZZKLD</td>\n",
       "      <td>1249</td>\n",
       "      <td>Старый</td>\n",
       "      <td>54.0</td>\n",
       "      <td>женщина</td>\n",
       "      <td>ANDROID</td>\n",
       "      <td>SMARTPHONE</td>\n",
       "      <td>5</td>\n",
       "      <td>критики</td>\n",
       "      <td>Россия</td>\n",
       "      <td>Москва</td>\n",
       "      <td>05 45-54</td>\n",
       "      <td>04 1-5</td>\n",
       "      <td>08 36+</td>\n",
       "    </tr>\n",
       "    <tr>\n",
       "      <th>502489</th>\n",
       "      <td>ZZZLWY</td>\n",
       "      <td>129</td>\n",
       "      <td>Новый</td>\n",
       "      <td>31.0</td>\n",
       "      <td>мужчина</td>\n",
       "      <td>ANDROID</td>\n",
       "      <td>SMARTPHONE</td>\n",
       "      <td>8</td>\n",
       "      <td>нейтралы</td>\n",
       "      <td>Россия</td>\n",
       "      <td>Москва</td>\n",
       "      <td>03 25-34</td>\n",
       "      <td>04 1-5</td>\n",
       "      <td>04 4-6</td>\n",
       "    </tr>\n",
       "    <tr>\n",
       "      <th>502490</th>\n",
       "      <td>ZZZQ5F</td>\n",
       "      <td>522</td>\n",
       "      <td>Старый</td>\n",
       "      <td>36.0</td>\n",
       "      <td>мужчина</td>\n",
       "      <td>ANDROID</td>\n",
       "      <td>SMARTPHONE</td>\n",
       "      <td>10</td>\n",
       "      <td>cторонники</td>\n",
       "      <td>Россия</td>\n",
       "      <td>Сургут</td>\n",
       "      <td>04 35-44</td>\n",
       "      <td>09 25-30</td>\n",
       "      <td>06 13-24</td>\n",
       "    </tr>\n",
       "    <tr>\n",
       "      <th>502491</th>\n",
       "      <td>ZZZQ8E</td>\n",
       "      <td>2936</td>\n",
       "      <td>Старый</td>\n",
       "      <td>37.0</td>\n",
       "      <td>женщина</td>\n",
       "      <td>ANDROID</td>\n",
       "      <td>SMARTPHONE</td>\n",
       "      <td>9</td>\n",
       "      <td>cторонники</td>\n",
       "      <td>Россия</td>\n",
       "      <td>УланУдэ</td>\n",
       "      <td>04 35-44</td>\n",
       "      <td>17 65-70</td>\n",
       "      <td>08 36+</td>\n",
       "    </tr>\n",
       "    <tr>\n",
       "      <th>502492</th>\n",
       "      <td>ZZZYH0</td>\n",
       "      <td>2471</td>\n",
       "      <td>Старый</td>\n",
       "      <td>37.0</td>\n",
       "      <td>мужчина</td>\n",
       "      <td>IOS</td>\n",
       "      <td>SMARTPHONE</td>\n",
       "      <td>2</td>\n",
       "      <td>критики</td>\n",
       "      <td>Россия</td>\n",
       "      <td>Самара</td>\n",
       "      <td>04 35-44</td>\n",
       "      <td>06 10-15</td>\n",
       "      <td>08 36+</td>\n",
       "    </tr>\n",
       "  </tbody>\n",
       "</table>\n",
       "<p>502493 rows × 14 columns</p>\n",
       "</div>"
      ],
      "text/plain": [
       "       user_id  lt_day  is_new   age gender_segment  os_name cpe_type_name  \\\n",
       "0       A001A2    2320  Старый  45.0        женщина  ANDROID    SMARTPHONE   \n",
       "1       A001WF    2344  Старый  53.0        мужчина  ANDROID    SMARTPHONE   \n",
       "2       A003Q7     467  Старый  57.0        мужчина  ANDROID    SMARTPHONE   \n",
       "3       A004TB    4190  Старый  44.0        женщина      IOS    SMARTPHONE   \n",
       "4       A004XT    1163  Старый  24.0        мужчина  ANDROID    SMARTPHONE   \n",
       "...        ...     ...     ...   ...            ...      ...           ...   \n",
       "502488  ZZZKLD    1249  Старый  54.0        женщина  ANDROID    SMARTPHONE   \n",
       "502489  ZZZLWY     129   Новый  31.0        мужчина  ANDROID    SMARTPHONE   \n",
       "502490  ZZZQ5F     522  Старый  36.0        мужчина  ANDROID    SMARTPHONE   \n",
       "502491  ZZZQ8E    2936  Старый  37.0        женщина  ANDROID    SMARTPHONE   \n",
       "502492  ZZZYH0    2471  Старый  37.0        мужчина      IOS    SMARTPHONE   \n",
       "\n",
       "        nps_score   nps_group country          city age_segment  \\\n",
       "0              10  cторонники  Россия           Уфа    05 45-54   \n",
       "1              10  cторонники  Россия         Киров    05 45-54   \n",
       "2              10  cторонники  Россия        Москва    06 55-64   \n",
       "3              10  cторонники  Россия  РостовнаДону    04 35-44   \n",
       "4              10  cторонники  Россия        Рязань    02 16-24   \n",
       "...           ...         ...     ...           ...         ...   \n",
       "502488          5     критики  Россия        Москва    05 45-54   \n",
       "502489          8    нейтралы  Россия        Москва    03 25-34   \n",
       "502490         10  cторонники  Россия        Сургут    04 35-44   \n",
       "502491          9  cторонники  Россия       УланУдэ    04 35-44   \n",
       "502492          2     критики  Россия        Самара    04 35-44   \n",
       "\n",
       "       traffic_segment lifetime_segment  \n",
       "0               04 1-5           08 36+  \n",
       "1               04 1-5           08 36+  \n",
       "2             08 20-25         06 13-24  \n",
       "3             03 0.1-1           08 36+  \n",
       "4              05 5-10           08 36+  \n",
       "...                ...              ...  \n",
       "502488          04 1-5           08 36+  \n",
       "502489          04 1-5           04 4-6  \n",
       "502490        09 25-30         06 13-24  \n",
       "502491        17 65-70           08 36+  \n",
       "502492        06 10-15           08 36+  \n",
       "\n",
       "[502493 rows x 14 columns]"
      ]
     },
     "execution_count": 12,
     "metadata": {},
     "output_type": "execute_result"
    }
   ],
   "source": [
    "main_table = pd.read_sql(query_1, engine)\n",
    "main_table"
   ]
  },
  {
   "cell_type": "code",
   "execution_count": 13,
   "id": "9157ae7e",
   "metadata": {},
   "outputs": [
    {
     "data": {
      "text/plain": [
       "array(['женщина', 'мужчина', 'None'], dtype=object)"
      ]
     },
     "execution_count": 13,
     "metadata": {},
     "output_type": "execute_result"
    }
   ],
   "source": [
    "main_table['gender_segment'].unique()"
   ]
  },
  {
   "cell_type": "code",
   "execution_count": 14,
   "id": "bcd450d1",
   "metadata": {},
   "outputs": [],
   "source": [
    "main_table.to_csv('telecomm.csv', index=False)"
   ]
  },
  {
   "cell_type": "markdown",
   "id": "0f32090e",
   "metadata": {},
   "source": [
    "### Tableau Public board:"
   ]
  },
  {
   "cell_type": "markdown",
   "id": "146d5e90",
   "metadata": {},
   "source": [
    "https://public.tableau.com/views/NSPproject/Dashboard1?:language=en-US&publish=yes&:display_count=n&:origin=viz_share_link"
   ]
  },
  {
   "cell_type": "markdown",
   "id": "0efc01cd",
   "metadata": {},
   "source": [
    "### Presentation:"
   ]
  },
  {
   "cell_type": "markdown",
   "id": "b5f59a56",
   "metadata": {},
   "source": [
    "https://disk.yandex.ru/d/H00HgvGUWyGKBg"
   ]
  }
 ],
 "metadata": {
  "ExecuteTimeLog": [
   {
    "duration": 752,
    "start_time": "2021-10-03T17:40:52.731Z"
   },
   {
    "duration": 20,
    "start_time": "2021-10-03T17:40:53.486Z"
   },
   {
    "duration": 4,
    "start_time": "2021-10-03T17:41:04.638Z"
   },
   {
    "duration": 461,
    "start_time": "2021-10-03T17:41:04.912Z"
   },
   {
    "duration": 284,
    "start_time": "2021-10-03T17:41:05.376Z"
   },
   {
    "duration": 574,
    "start_time": "2021-10-06T07:55:05.029Z"
   },
   {
    "duration": 6,
    "start_time": "2021-10-06T07:55:05.605Z"
   },
   {
    "duration": 3,
    "start_time": "2021-10-06T07:55:14.685Z"
   },
   {
    "duration": 406,
    "start_time": "2021-10-06T07:55:15.522Z"
   },
   {
    "duration": 67,
    "start_time": "2021-10-06T07:55:15.929Z"
   },
   {
    "duration": 840,
    "start_time": "2021-10-07T07:54:04.647Z"
   },
   {
    "duration": 10,
    "start_time": "2021-10-07T07:54:05.490Z"
   },
   {
    "duration": 4,
    "start_time": "2021-10-07T07:54:05.544Z"
   },
   {
    "duration": 391,
    "start_time": "2021-10-07T07:54:06.237Z"
   },
   {
    "duration": 293,
    "start_time": "2021-10-07T07:54:06.654Z"
   },
   {
    "duration": 486,
    "start_time": "2022-05-04T13:50:59.852Z"
   },
   {
    "duration": 53,
    "start_time": "2022-05-04T13:51:01.172Z"
   },
   {
    "duration": 3,
    "start_time": "2022-05-04T13:51:02.349Z"
   },
   {
    "duration": 208,
    "start_time": "2022-05-04T13:51:03.538Z"
   },
   {
    "duration": 300,
    "start_time": "2022-05-04T13:51:05.359Z"
   },
   {
    "duration": 68,
    "start_time": "2022-05-04T13:53:51.493Z"
   },
   {
    "duration": 3,
    "start_time": "2022-05-04T13:53:55.015Z"
   },
   {
    "duration": 1553,
    "start_time": "2022-05-04T13:53:56.467Z"
   },
   {
    "duration": 1481,
    "start_time": "2022-05-04T13:54:07.772Z"
   },
   {
    "duration": 640,
    "start_time": "2022-05-06T08:24:24.545Z"
   },
   {
    "duration": 26,
    "start_time": "2022-05-06T08:24:25.907Z"
   },
   {
    "duration": 5,
    "start_time": "2022-05-06T08:24:26.636Z"
   },
   {
    "duration": 693,
    "start_time": "2022-05-06T08:24:27.509Z"
   },
   {
    "duration": 182,
    "start_time": "2022-05-06T08:24:30.250Z"
   },
   {
    "duration": 3,
    "start_time": "2022-05-06T08:29:18.360Z"
   },
   {
    "duration": 7644,
    "start_time": "2022-05-06T08:29:32.776Z"
   },
   {
    "duration": 4,
    "start_time": "2022-05-06T08:31:48.723Z"
   },
   {
    "duration": 665,
    "start_time": "2022-05-06T08:31:50.039Z"
   },
   {
    "duration": 3,
    "start_time": "2022-05-06T08:32:18.207Z"
   },
   {
    "duration": 560,
    "start_time": "2022-05-06T08:32:19.681Z"
   },
   {
    "duration": 3,
    "start_time": "2022-05-06T08:32:31.387Z"
   },
   {
    "duration": 4,
    "start_time": "2022-05-06T08:32:34.422Z"
   },
   {
    "duration": 532,
    "start_time": "2022-05-06T08:32:34.826Z"
   },
   {
    "duration": 4,
    "start_time": "2022-05-06T08:32:41.494Z"
   },
   {
    "duration": 712,
    "start_time": "2022-05-06T08:32:42.505Z"
   },
   {
    "duration": 3,
    "start_time": "2022-05-06T08:33:01.053Z"
   },
   {
    "duration": 4630,
    "start_time": "2022-05-06T08:33:01.507Z"
   },
   {
    "duration": 3,
    "start_time": "2022-05-06T08:33:16.809Z"
   },
   {
    "duration": 520,
    "start_time": "2022-05-06T08:33:17.625Z"
   },
   {
    "duration": 3,
    "start_time": "2022-05-06T08:33:26.072Z"
   },
   {
    "duration": 5033,
    "start_time": "2022-05-06T08:33:27.421Z"
   },
   {
    "duration": 4,
    "start_time": "2022-05-06T08:36:00.217Z"
   },
   {
    "duration": 623,
    "start_time": "2022-05-06T08:36:00.967Z"
   },
   {
    "duration": 598,
    "start_time": "2022-05-06T08:36:12.306Z"
   },
   {
    "duration": 4926,
    "start_time": "2022-05-06T08:36:30.862Z"
   },
   {
    "duration": 4,
    "start_time": "2022-05-06T08:39:11.394Z"
   },
   {
    "duration": 851,
    "start_time": "2022-05-06T08:39:13.355Z"
   },
   {
    "duration": 3,
    "start_time": "2022-05-06T08:39:35.067Z"
   },
   {
    "duration": 6104,
    "start_time": "2022-05-06T08:39:35.461Z"
   },
   {
    "duration": 3,
    "start_time": "2022-05-06T08:40:17.768Z"
   },
   {
    "duration": 623,
    "start_time": "2022-05-06T08:40:17.775Z"
   },
   {
    "duration": 4,
    "start_time": "2022-05-06T08:40:34.822Z"
   },
   {
    "duration": 619,
    "start_time": "2022-05-06T08:40:35.562Z"
   },
   {
    "duration": 5,
    "start_time": "2022-05-06T08:55:07.838Z"
   },
   {
    "duration": 2306,
    "start_time": "2022-05-06T08:55:09.343Z"
   },
   {
    "duration": 4,
    "start_time": "2022-05-06T08:55:37.443Z"
   },
   {
    "duration": 797,
    "start_time": "2022-05-06T08:55:37.975Z"
   },
   {
    "duration": 4,
    "start_time": "2022-05-06T08:55:59.515Z"
   },
   {
    "duration": 825,
    "start_time": "2022-05-06T08:56:00.014Z"
   },
   {
    "duration": 6,
    "start_time": "2022-05-06T08:56:12.070Z"
   },
   {
    "duration": 10541,
    "start_time": "2022-05-06T08:56:15.075Z"
   },
   {
    "duration": 5,
    "start_time": "2022-05-06T08:56:52.562Z"
   },
   {
    "duration": 6286,
    "start_time": "2022-05-06T08:56:53.034Z"
   },
   {
    "duration": 4,
    "start_time": "2022-05-06T08:58:32.376Z"
   },
   {
    "duration": 1777,
    "start_time": "2022-05-06T08:58:32.858Z"
   },
   {
    "duration": 3,
    "start_time": "2022-05-06T08:59:22.899Z"
   },
   {
    "duration": 508,
    "start_time": "2022-05-06T08:59:23.501Z"
   },
   {
    "duration": 3,
    "start_time": "2022-05-06T08:59:34.779Z"
   },
   {
    "duration": 2359,
    "start_time": "2022-05-06T08:59:35.222Z"
   },
   {
    "duration": 3,
    "start_time": "2022-05-06T08:59:48.871Z"
   },
   {
    "duration": 2273,
    "start_time": "2022-05-06T08:59:49.391Z"
   },
   {
    "duration": 4,
    "start_time": "2022-05-06T08:59:56.065Z"
   },
   {
    "duration": 1897,
    "start_time": "2022-05-06T08:59:57.365Z"
   },
   {
    "duration": 4,
    "start_time": "2022-05-06T09:02:27.804Z"
   },
   {
    "duration": 1823,
    "start_time": "2022-05-06T09:02:28.382Z"
   },
   {
    "duration": 5,
    "start_time": "2022-05-06T09:02:34.643Z"
   },
   {
    "duration": 8887,
    "start_time": "2022-05-06T09:02:35.707Z"
   },
   {
    "duration": 3,
    "start_time": "2022-05-06T09:05:20.586Z"
   },
   {
    "duration": 3,
    "start_time": "2022-05-06T09:05:25.866Z"
   },
   {
    "duration": 503,
    "start_time": "2022-05-06T09:05:26.792Z"
   },
   {
    "duration": 3,
    "start_time": "2022-05-06T09:05:42.023Z"
   },
   {
    "duration": 2288,
    "start_time": "2022-05-06T09:05:42.551Z"
   },
   {
    "duration": 4,
    "start_time": "2022-05-06T09:06:34.263Z"
   },
   {
    "duration": 7016,
    "start_time": "2022-05-06T09:06:35.420Z"
   },
   {
    "duration": 628,
    "start_time": "2022-05-06T09:09:04.908Z"
   },
   {
    "duration": 29,
    "start_time": "2022-05-06T09:09:08.296Z"
   },
   {
    "duration": 4,
    "start_time": "2022-05-06T09:09:09.008Z"
   },
   {
    "duration": 659,
    "start_time": "2022-05-06T09:09:09.763Z"
   },
   {
    "duration": 142,
    "start_time": "2022-05-06T09:09:11.529Z"
   },
   {
    "duration": 4,
    "start_time": "2022-05-06T09:09:12.314Z"
   },
   {
    "duration": 9494,
    "start_time": "2022-05-06T09:09:13.344Z"
   },
   {
    "duration": 7138,
    "start_time": "2022-05-06T09:10:10.752Z"
   },
   {
    "duration": 521,
    "start_time": "2022-05-08T04:33:44.870Z"
   },
   {
    "duration": 9,
    "start_time": "2022-05-08T04:33:45.393Z"
   },
   {
    "duration": 5,
    "start_time": "2022-05-08T04:33:45.403Z"
   },
   {
    "duration": 204,
    "start_time": "2022-05-08T04:33:45.409Z"
   },
   {
    "duration": 64,
    "start_time": "2022-05-08T04:33:45.615Z"
   },
   {
    "duration": 3,
    "start_time": "2022-05-08T04:33:45.681Z"
   },
   {
    "duration": 8778,
    "start_time": "2022-05-08T04:33:45.686Z"
   },
   {
    "duration": 3588,
    "start_time": "2022-05-08T04:33:54.466Z"
   },
   {
    "duration": 753,
    "start_time": "2022-05-08T08:49:26.033Z"
   },
   {
    "duration": 14,
    "start_time": "2022-05-08T08:49:27.798Z"
   },
   {
    "duration": 5,
    "start_time": "2022-05-08T08:49:28.264Z"
   },
   {
    "duration": 209,
    "start_time": "2022-05-08T08:49:28.802Z"
   },
   {
    "duration": 99,
    "start_time": "2022-05-08T08:49:31.086Z"
   },
   {
    "duration": 5,
    "start_time": "2022-05-08T08:50:39.989Z"
   },
   {
    "duration": 6642,
    "start_time": "2022-05-08T08:50:41.491Z"
   },
   {
    "duration": 6958,
    "start_time": "2022-05-08T08:52:35.861Z"
   },
   {
    "duration": 4,
    "start_time": "2022-05-08T08:58:12.852Z"
   },
   {
    "duration": 5,
    "start_time": "2022-05-08T08:58:13.478Z"
   },
   {
    "duration": 4,
    "start_time": "2022-05-08T08:58:13.972Z"
   },
   {
    "duration": 219,
    "start_time": "2022-05-08T08:58:14.477Z"
   },
   {
    "duration": 67,
    "start_time": "2022-05-08T08:58:15.325Z"
   },
   {
    "duration": 4,
    "start_time": "2022-05-08T08:58:16.256Z"
   },
   {
    "duration": 6942,
    "start_time": "2022-05-08T08:58:17.215Z"
   },
   {
    "duration": 164,
    "start_time": "2022-05-08T08:58:42.564Z"
   },
   {
    "duration": 489,
    "start_time": "2022-05-12T03:51:17.716Z"
   },
   {
    "duration": 23,
    "start_time": "2022-05-12T03:51:18.207Z"
   },
   {
    "duration": 2,
    "start_time": "2022-05-12T03:51:18.232Z"
   },
   {
    "duration": 188,
    "start_time": "2022-05-12T03:51:18.236Z"
   },
   {
    "duration": 68,
    "start_time": "2022-05-12T03:51:18.425Z"
   },
   {
    "duration": 3,
    "start_time": "2022-05-12T03:51:18.495Z"
   },
   {
    "duration": 5358,
    "start_time": "2022-05-12T03:51:18.500Z"
   },
   {
    "duration": 130,
    "start_time": "2022-05-12T03:51:23.859Z"
   },
   {
    "duration": 3585,
    "start_time": "2022-05-12T03:51:23.991Z"
   },
   {
    "duration": 1664,
    "start_time": "2022-05-12T04:16:57.359Z"
   },
   {
    "duration": 1642,
    "start_time": "2022-05-12T04:17:46.633Z"
   },
   {
    "duration": 669,
    "start_time": "2022-05-12T04:18:01.884Z"
   },
   {
    "duration": 618,
    "start_time": "2022-05-12T04:19:04.440Z"
   },
   {
    "duration": 922,
    "start_time": "2022-05-12T04:20:05.983Z"
   },
   {
    "duration": 862,
    "start_time": "2022-05-12T04:20:31.640Z"
   },
   {
    "duration": 668,
    "start_time": "2022-05-12T04:20:42.663Z"
   },
   {
    "duration": 485,
    "start_time": "2022-05-13T04:21:06.036Z"
   },
   {
    "duration": 8,
    "start_time": "2022-05-13T04:21:06.523Z"
   },
   {
    "duration": 2,
    "start_time": "2022-05-13T04:21:06.532Z"
   },
   {
    "duration": 208,
    "start_time": "2022-05-13T04:21:06.536Z"
   },
   {
    "duration": 65,
    "start_time": "2022-05-13T04:21:06.746Z"
   },
   {
    "duration": 3,
    "start_time": "2022-05-13T04:21:06.813Z"
   },
   {
    "duration": 255,
    "start_time": "2022-05-13T04:21:06.817Z"
   },
   {
    "duration": 0,
    "start_time": "2022-05-13T04:21:07.074Z"
   },
   {
    "duration": 0,
    "start_time": "2022-05-13T04:21:07.075Z"
   },
   {
    "duration": 46,
    "start_time": "2022-07-12T12:21:15.867Z"
   },
   {
    "duration": 662,
    "start_time": "2022-07-12T12:21:18.429Z"
   },
   {
    "duration": 24,
    "start_time": "2022-07-12T12:21:20.122Z"
   },
   {
    "duration": 2,
    "start_time": "2022-07-12T12:21:22.865Z"
   },
   {
    "duration": 251,
    "start_time": "2022-07-12T12:21:23.618Z"
   },
   {
    "duration": 70,
    "start_time": "2022-07-12T12:21:25.423Z"
   },
   {
    "duration": 4,
    "start_time": "2022-07-12T12:21:27.822Z"
   },
   {
    "duration": 230,
    "start_time": "2022-07-12T12:21:29.056Z"
   },
   {
    "duration": 8,
    "start_time": "2022-07-12T12:21:34.214Z"
   },
   {
    "duration": 289,
    "start_time": "2022-07-12T12:22:42.006Z"
   },
   {
    "duration": 3,
    "start_time": "2022-07-12T12:23:05.875Z"
   },
   {
    "duration": 6060,
    "start_time": "2022-07-12T12:23:06.625Z"
   },
   {
    "duration": 142,
    "start_time": "2022-07-12T12:23:18.140Z"
   },
   {
    "duration": 5531,
    "start_time": "2022-07-12T12:23:26.083Z"
   }
  ],
  "kernelspec": {
   "display_name": "Python 3 (ipykernel)",
   "language": "python",
   "name": "python3"
  },
  "language_info": {
   "codemirror_mode": {
    "name": "ipython",
    "version": 3
   },
   "file_extension": ".py",
   "mimetype": "text/x-python",
   "name": "python",
   "nbconvert_exporter": "python",
   "pygments_lexer": "ipython3",
   "version": "3.9.5"
  },
  "toc": {
   "base_numbering": 1,
   "nav_menu": {},
   "number_sections": true,
   "sideBar": true,
   "skip_h1_title": true,
   "title_cell": "Table of Contents",
   "title_sidebar": "Contents",
   "toc_cell": false,
   "toc_position": {},
   "toc_section_display": true,
   "toc_window_display": false
  }
 },
 "nbformat": 4,
 "nbformat_minor": 5
}
