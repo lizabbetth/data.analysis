{
 "cells": [
  {
   "cell_type": "markdown",
   "metadata": {},
   "source": [
    "# Stack Overflow"
   ]
  },
  {
   "cell_type": "code",
   "execution_count": 7,
   "metadata": {
    "id": "nlZBlglMDWKe"
   },
   "outputs": [],
   "source": [
    "import pandas as pd\n",
    "import matplotlib.pyplot as plt\n",
    "from sqlalchemy import create_engine "
   ]
  },
  {
   "cell_type": "code",
   "execution_count": 8,
   "metadata": {
    "id": "6p-yGp7qDWKg"
   },
   "outputs": [],
   "source": [
    "db_config = {\n",
    "    'user': 'praktikum_student', # имя пользователя\n",
    "    'pwd': 'Sdf4$2;d-d30pp', # пароль\n",
    "    'host': 'rc1b-wcoijxj3yxfsf3fs.mdb.yandexcloud.net',\n",
    "    'port': 6432, # порт подключения\n",
    "    'db': 'data-analyst-advanced-sql' # название базы данных\n",
    "}  \n",
    "\n",
    "connection_string = 'postgresql://{}:{}@{}:{}/{}'.format(\n",
    "    db_config['user'],\n",
    "    db_config['pwd'],\n",
    "    db_config['host'],\n",
    "    db_config['port'],\n",
    "    db_config['db'],\n",
    ")"
   ]
  },
  {
   "cell_type": "markdown",
   "metadata": {
    "id": "2Rg8ZpS0DWKh"
   },
   "source": [
    "## create the engine"
   ]
  },
  {
   "cell_type": "code",
   "execution_count": 9,
   "metadata": {
    "id": "DamCUTR6DWKi"
   },
   "outputs": [],
   "source": [
    "engine = create_engine(connection_string) "
   ]
  },
  {
   "cell_type": "markdown",
   "metadata": {
    "id": "bel8XeSlDWKj"
   },
   "source": [
    "A sample of database\n",
    "\n",
    "`sample_df`"
   ]
  },
  {
   "cell_type": "code",
   "execution_count": 10,
   "metadata": {
    "id": "6Z_fw0yLDWKk"
   },
   "outputs": [
    {
     "data": {
      "text/html": [
       "<div>\n",
       "<style scoped>\n",
       "    .dataframe tbody tr th:only-of-type {\n",
       "        vertical-align: middle;\n",
       "    }\n",
       "\n",
       "    .dataframe tbody tr th {\n",
       "        vertical-align: top;\n",
       "    }\n",
       "\n",
       "    .dataframe thead th {\n",
       "        text-align: right;\n",
       "    }\n",
       "</style>\n",
       "<table border=\"1\" class=\"dataframe\">\n",
       "  <thead>\n",
       "    <tr style=\"text-align: right;\">\n",
       "      <th></th>\n",
       "      <th>id</th>\n",
       "      <th>creation_date</th>\n",
       "      <th>display_name</th>\n",
       "      <th>last_access_date</th>\n",
       "      <th>location</th>\n",
       "      <th>reputation</th>\n",
       "      <th>views</th>\n",
       "    </tr>\n",
       "  </thead>\n",
       "  <tbody>\n",
       "    <tr>\n",
       "      <th>0</th>\n",
       "      <td>1</td>\n",
       "      <td>2008-07-31 14:22:31</td>\n",
       "      <td>Jeff Atwood</td>\n",
       "      <td>2018-08-29 02:34:23</td>\n",
       "      <td>El Cerrito, CA</td>\n",
       "      <td>44300</td>\n",
       "      <td>408587</td>\n",
       "    </tr>\n",
       "    <tr>\n",
       "      <th>1</th>\n",
       "      <td>2</td>\n",
       "      <td>2008-07-31 14:22:31</td>\n",
       "      <td>Geoff Dalgas</td>\n",
       "      <td>2018-08-23 17:31:56</td>\n",
       "      <td>Corvallis, OR</td>\n",
       "      <td>3491</td>\n",
       "      <td>23966</td>\n",
       "    </tr>\n",
       "    <tr>\n",
       "      <th>2</th>\n",
       "      <td>3</td>\n",
       "      <td>2008-07-31 14:22:31</td>\n",
       "      <td>Jarrod Dixon</td>\n",
       "      <td>2018-08-30 20:56:24</td>\n",
       "      <td>Raleigh, NC, United States</td>\n",
       "      <td>13418</td>\n",
       "      <td>24396</td>\n",
       "    </tr>\n",
       "    <tr>\n",
       "      <th>3</th>\n",
       "      <td>4</td>\n",
       "      <td>2008-07-31 14:22:31</td>\n",
       "      <td>Joel Spolsky</td>\n",
       "      <td>2018-08-14 22:18:15</td>\n",
       "      <td>New York, NY</td>\n",
       "      <td>28768</td>\n",
       "      <td>73755</td>\n",
       "    </tr>\n",
       "    <tr>\n",
       "      <th>4</th>\n",
       "      <td>5</td>\n",
       "      <td>2008-07-31 14:22:31</td>\n",
       "      <td>Jon Galloway</td>\n",
       "      <td>2018-08-29 16:48:36</td>\n",
       "      <td>San Diego, CA</td>\n",
       "      <td>39172</td>\n",
       "      <td>11700</td>\n",
       "    </tr>\n",
       "    <tr>\n",
       "      <th>5</th>\n",
       "      <td>8</td>\n",
       "      <td>2008-07-31 21:33:24</td>\n",
       "      <td>Eggs McLaren</td>\n",
       "      <td>2018-04-09 02:04:56</td>\n",
       "      <td>None</td>\n",
       "      <td>942</td>\n",
       "      <td>6372</td>\n",
       "    </tr>\n",
       "    <tr>\n",
       "      <th>6</th>\n",
       "      <td>9</td>\n",
       "      <td>2008-07-31 21:35:27</td>\n",
       "      <td>Kevin Dente</td>\n",
       "      <td>2018-08-30 18:18:03</td>\n",
       "      <td>Oakland, CA</td>\n",
       "      <td>14337</td>\n",
       "      <td>4949</td>\n",
       "    </tr>\n",
       "    <tr>\n",
       "      <th>7</th>\n",
       "      <td>11</td>\n",
       "      <td>2008-08-01 00:59:11</td>\n",
       "      <td>Anonymous User</td>\n",
       "      <td>2008-08-01 00:59:11</td>\n",
       "      <td>None</td>\n",
       "      <td>1890</td>\n",
       "      <td>2123</td>\n",
       "    </tr>\n",
       "    <tr>\n",
       "      <th>8</th>\n",
       "      <td>13</td>\n",
       "      <td>2008-08-01 04:18:05</td>\n",
       "      <td>Chris Jester-Young</td>\n",
       "      <td>2018-08-30 02:47:23</td>\n",
       "      <td>Raleigh, NC, United States</td>\n",
       "      <td>177138</td>\n",
       "      <td>35414</td>\n",
       "    </tr>\n",
       "    <tr>\n",
       "      <th>9</th>\n",
       "      <td>17</td>\n",
       "      <td>2008-08-01 12:02:22</td>\n",
       "      <td>Nick Berardi</td>\n",
       "      <td>2018-01-22 01:35:38</td>\n",
       "      <td>Issaquah, WA</td>\n",
       "      <td>44443</td>\n",
       "      <td>4786</td>\n",
       "    </tr>\n",
       "  </tbody>\n",
       "</table>\n",
       "</div>"
      ],
      "text/plain": [
       "   id       creation_date        display_name    last_access_date  \\\n",
       "0   1 2008-07-31 14:22:31         Jeff Atwood 2018-08-29 02:34:23   \n",
       "1   2 2008-07-31 14:22:31        Geoff Dalgas 2018-08-23 17:31:56   \n",
       "2   3 2008-07-31 14:22:31        Jarrod Dixon 2018-08-30 20:56:24   \n",
       "3   4 2008-07-31 14:22:31        Joel Spolsky 2018-08-14 22:18:15   \n",
       "4   5 2008-07-31 14:22:31        Jon Galloway 2018-08-29 16:48:36   \n",
       "5   8 2008-07-31 21:33:24        Eggs McLaren 2018-04-09 02:04:56   \n",
       "6   9 2008-07-31 21:35:27         Kevin Dente 2018-08-30 18:18:03   \n",
       "7  11 2008-08-01 00:59:11      Anonymous User 2008-08-01 00:59:11   \n",
       "8  13 2008-08-01 04:18:05  Chris Jester-Young 2018-08-30 02:47:23   \n",
       "9  17 2008-08-01 12:02:22        Nick Berardi 2018-01-22 01:35:38   \n",
       "\n",
       "                     location  reputation   views  \n",
       "0              El Cerrito, CA       44300  408587  \n",
       "1               Corvallis, OR        3491   23966  \n",
       "2  Raleigh, NC, United States       13418   24396  \n",
       "3                New York, NY       28768   73755  \n",
       "4               San Diego, CA       39172   11700  \n",
       "5                        None         942    6372  \n",
       "6                 Oakland, CA       14337    4949  \n",
       "7                        None        1890    2123  \n",
       "8  Raleigh, NC, United States      177138   35414  \n",
       "9                Issaquah, WA       44443    4786  "
      ]
     },
     "execution_count": 10,
     "metadata": {},
     "output_type": "execute_result"
    }
   ],
   "source": [
    "query = '''\n",
    "SELECT *\n",
    "FROM stackoverflow.users\n",
    "LIMIT 10;\n",
    "'''\n",
    "\n",
    "sample_df = pd.read_sql_query(query, con=engine) \n",
    "sample_df"
   ]
  },
  {
   "cell_type": "markdown",
   "metadata": {
    "id": "gnBMXkDBDWKm"
   },
   "source": [
    "# Task 1"
   ]
  },
  {
   "cell_type": "markdown",
   "metadata": {
    "id": "vHsfOrrNDWKn"
   },
   "source": [
    "Print the total sum of post views for each month of 2008. If there is no data for any month in the database, this month can be skipped. Sort the result in descending order of the total number of views."
   ]
  },
  {
   "cell_type": "markdown",
   "metadata": {
    "id": "N5rTgGNmDWKn"
   },
   "source": [
    "| month_date  | total_views |\n",
    "| ------------- | ------------- |\n",
    "| 2008-09-01  | 452928568  |\n",
    "| 2008-10-01  | 365400138  |\n",
    "| ...         | ... |"
   ]
  },
  {
   "cell_type": "code",
   "execution_count": 11,
   "metadata": {
    "id": "eWvykcXTDWKo"
   },
   "outputs": [
    {
     "data": {
      "text/html": [
       "<div>\n",
       "<style scoped>\n",
       "    .dataframe tbody tr th:only-of-type {\n",
       "        vertical-align: middle;\n",
       "    }\n",
       "\n",
       "    .dataframe tbody tr th {\n",
       "        vertical-align: top;\n",
       "    }\n",
       "\n",
       "    .dataframe thead th {\n",
       "        text-align: right;\n",
       "    }\n",
       "</style>\n",
       "<table border=\"1\" class=\"dataframe\">\n",
       "  <thead>\n",
       "    <tr style=\"text-align: right;\">\n",
       "      <th></th>\n",
       "      <th>month_date</th>\n",
       "      <th>total_views</th>\n",
       "    </tr>\n",
       "  </thead>\n",
       "  <tbody>\n",
       "    <tr>\n",
       "      <th>0</th>\n",
       "      <td>2008-09-01</td>\n",
       "      <td>452928568</td>\n",
       "    </tr>\n",
       "    <tr>\n",
       "      <th>1</th>\n",
       "      <td>2008-10-01</td>\n",
       "      <td>365400138</td>\n",
       "    </tr>\n",
       "    <tr>\n",
       "      <th>2</th>\n",
       "      <td>2008-11-01</td>\n",
       "      <td>221759651</td>\n",
       "    </tr>\n",
       "    <tr>\n",
       "      <th>3</th>\n",
       "      <td>2008-12-01</td>\n",
       "      <td>197792841</td>\n",
       "    </tr>\n",
       "    <tr>\n",
       "      <th>4</th>\n",
       "      <td>2008-08-01</td>\n",
       "      <td>131367083</td>\n",
       "    </tr>\n",
       "    <tr>\n",
       "      <th>5</th>\n",
       "      <td>2008-07-01</td>\n",
       "      <td>669895</td>\n",
       "    </tr>\n",
       "  </tbody>\n",
       "</table>\n",
       "</div>"
      ],
      "text/plain": [
       "   month_date  total_views\n",
       "0  2008-09-01    452928568\n",
       "1  2008-10-01    365400138\n",
       "2  2008-11-01    221759651\n",
       "3  2008-12-01    197792841\n",
       "4  2008-08-01    131367083\n",
       "5  2008-07-01       669895"
      ]
     },
     "execution_count": 11,
     "metadata": {},
     "output_type": "execute_result"
    }
   ],
   "source": [
    "\n",
    "query = '''\n",
    "\n",
    "SELECT CAST(DATE_TRUNC('month', creation_date) AS date) AS month_date,\n",
    "    SUM(views_count) AS total_views\n",
    "FROM stackoverflow.posts\n",
    "GROUP BY month_date\n",
    "ORDER BY total_views DESC;\n",
    "\n",
    "'''\n",
    "df = pd.read_sql_query(query, con=engine) \n",
    "df\n"
   ]
  },
  {
   "cell_type": "markdown",
   "metadata": {
    "id": "luxSj17oDWKq"
   },
   "source": [
    "**Conclusion:**\n",
    "\n",
    "The largest number of views falls on September, October and November, while the summer months have the smallest number of views. I think this is connected precisely with the time of year: in the fall everyone returns to work / study, and in the summer they have a rest and do not spend much time at work."
   ]
  },
  {
   "cell_type": "markdown",
   "metadata": {
    "id": "FziIXkn5DWKr"
   },
   "source": [
    "# Task 2"
   ]
  },
  {
   "cell_type": "markdown",
   "metadata": {
    "id": "fTGESZvYDWKr"
   },
   "source": [
    "Print the names of the most active users who gave more than 100 responses in the first month after registration (including the day of registration). Questions asked by users, do not count. For each username, print the number of unique `user_id` values. Sort the result by the field with the names in lexicographic order."
   ]
  },
  {
   "cell_type": "markdown",
   "metadata": {
    "id": "W5-tv6Y3DWKs"
   },
   "source": [
    "| display_name | count |\n",
    "| ------------ | ----- |\n",
    "| 1800 INFORMATION | 1 |\n",
    "| Adam Bellaire | 1 |\n",
    "| Adam Davis | 1 |\n",
    "| ... | ... |"
   ]
  },
  {
   "cell_type": "code",
   "execution_count": 12,
   "metadata": {
    "id": "fIO-y-YjDWKt"
   },
   "outputs": [
    {
     "data": {
      "text/html": [
       "<div>\n",
       "<style scoped>\n",
       "    .dataframe tbody tr th:only-of-type {\n",
       "        vertical-align: middle;\n",
       "    }\n",
       "\n",
       "    .dataframe tbody tr th {\n",
       "        vertical-align: top;\n",
       "    }\n",
       "\n",
       "    .dataframe thead th {\n",
       "        text-align: right;\n",
       "    }\n",
       "</style>\n",
       "<table border=\"1\" class=\"dataframe\">\n",
       "  <thead>\n",
       "    <tr style=\"text-align: right;\">\n",
       "      <th></th>\n",
       "      <th>display_name</th>\n",
       "      <th>count</th>\n",
       "    </tr>\n",
       "  </thead>\n",
       "  <tbody>\n",
       "    <tr>\n",
       "      <th>0</th>\n",
       "      <td>1800 INFORMATION</td>\n",
       "      <td>1</td>\n",
       "    </tr>\n",
       "    <tr>\n",
       "      <th>1</th>\n",
       "      <td>Adam Bellaire</td>\n",
       "      <td>1</td>\n",
       "    </tr>\n",
       "    <tr>\n",
       "      <th>2</th>\n",
       "      <td>Adam Davis</td>\n",
       "      <td>1</td>\n",
       "    </tr>\n",
       "    <tr>\n",
       "      <th>3</th>\n",
       "      <td>Adam Liss</td>\n",
       "      <td>1</td>\n",
       "    </tr>\n",
       "    <tr>\n",
       "      <th>4</th>\n",
       "      <td>Alan</td>\n",
       "      <td>8</td>\n",
       "    </tr>\n",
       "    <tr>\n",
       "      <th>...</th>\n",
       "      <td>...</td>\n",
       "      <td>...</td>\n",
       "    </tr>\n",
       "    <tr>\n",
       "      <th>74</th>\n",
       "      <td>lomaxx</td>\n",
       "      <td>1</td>\n",
       "    </tr>\n",
       "    <tr>\n",
       "      <th>75</th>\n",
       "      <td>mattlant</td>\n",
       "      <td>1</td>\n",
       "    </tr>\n",
       "    <tr>\n",
       "      <th>76</th>\n",
       "      <td>paxdiablo</td>\n",
       "      <td>1</td>\n",
       "    </tr>\n",
       "    <tr>\n",
       "      <th>77</th>\n",
       "      <td>tvanfosson</td>\n",
       "      <td>1</td>\n",
       "    </tr>\n",
       "    <tr>\n",
       "      <th>78</th>\n",
       "      <td>tzot</td>\n",
       "      <td>1</td>\n",
       "    </tr>\n",
       "  </tbody>\n",
       "</table>\n",
       "<p>79 rows × 2 columns</p>\n",
       "</div>"
      ],
      "text/plain": [
       "        display_name  count\n",
       "0   1800 INFORMATION      1\n",
       "1      Adam Bellaire      1\n",
       "2         Adam Davis      1\n",
       "3          Adam Liss      1\n",
       "4               Alan      8\n",
       "..               ...    ...\n",
       "74            lomaxx      1\n",
       "75          mattlant      1\n",
       "76         paxdiablo      1\n",
       "77        tvanfosson      1\n",
       "78              tzot      1\n",
       "\n",
       "[79 rows x 2 columns]"
      ]
     },
     "execution_count": 12,
     "metadata": {},
     "output_type": "execute_result"
    }
   ],
   "source": [
    "# напишите запрос\n",
    "query = '''\n",
    "\n",
    "SELECT u.display_name AS display_name,\n",
    "       COUNT(DISTINCT p.user_id) AS count \n",
    "FROM stackoverflow.users AS u\n",
    "INNER JOIN stackoverflow.posts AS p ON u.id = p.user_id\n",
    "INNER JOIN stackoverflow.post_types AS pt ON p.post_type_id = pt.id\n",
    "WHERE pt.type = 'Answer' AND\n",
    "      (DATE_TRUNC('day', p.creation_date) >= DATE_TRUNC('day', u.creation_date)\n",
    "      AND DATE_TRUNC('day', p.creation_date) <= DATE_TRUNC('day', u.creation_date) + INTERVAL '1 month')\n",
    "GROUP BY 1\n",
    "HAVING COUNT(pt.type) > 100\n",
    "ORDER BY u.display_name;\n",
    "'''\n",
    "\n",
    "df1 = pd.read_sql_query(query, con=engine) \n",
    "df1\n",
    "\n",
    "# выполните запрос"
   ]
  },
  {
   "cell_type": "code",
   "execution_count": 13,
   "metadata": {},
   "outputs": [
    {
     "data": {
      "text/plain": [
       "array([ 1,  8, 15, 29, 10, 21, 12,  7,  9, 16,  5, 11, 17,  3, 19])"
      ]
     },
     "execution_count": 13,
     "metadata": {},
     "output_type": "execute_result"
    }
   ],
   "source": [
    "df1['count'].unique()"
   ]
  },
  {
   "cell_type": "code",
   "execution_count": 14,
   "metadata": {},
   "outputs": [
    {
     "data": {
      "text/html": [
       "<div>\n",
       "<style scoped>\n",
       "    .dataframe tbody tr th:only-of-type {\n",
       "        vertical-align: middle;\n",
       "    }\n",
       "\n",
       "    .dataframe tbody tr th {\n",
       "        vertical-align: top;\n",
       "    }\n",
       "\n",
       "    .dataframe thead th {\n",
       "        text-align: right;\n",
       "    }\n",
       "</style>\n",
       "<table border=\"1\" class=\"dataframe\">\n",
       "  <thead>\n",
       "    <tr style=\"text-align: right;\">\n",
       "      <th></th>\n",
       "      <th>display_name</th>\n",
       "      <th>count</th>\n",
       "    </tr>\n",
       "  </thead>\n",
       "  <tbody>\n",
       "    <tr>\n",
       "      <th>10</th>\n",
       "      <td>Chris</td>\n",
       "      <td>29</td>\n",
       "    </tr>\n",
       "    <tr>\n",
       "      <th>45</th>\n",
       "      <td>Matt</td>\n",
       "      <td>29</td>\n",
       "    </tr>\n",
       "  </tbody>\n",
       "</table>\n",
       "</div>"
      ],
      "text/plain": [
       "   display_name  count\n",
       "10        Chris     29\n",
       "45         Matt     29"
      ]
     },
     "execution_count": 14,
     "metadata": {},
     "output_type": "execute_result"
    }
   ],
   "source": [
    "df1[df1['count'] == 29]"
   ]
  },
  {
   "cell_type": "markdown",
   "metadata": {
    "id": "CEIGGQ6ODWKy"
   },
   "source": [
    "I want to note that many use the same usernames use many users. For example, the usernames `Chris` and `Matt` are used by at least 29 users. It's not particularly convenient."
   ]
  },
  {
   "cell_type": "markdown",
   "metadata": {
    "id": "JhM2xXj5DWKu"
   },
   "source": [
    "# Task 3"
   ]
  },
  {
   "cell_type": "markdown",
   "metadata": {
    "id": "IS6xPqyyDWKu"
   },
   "source": [
    "Print the number of posts for 2008 by month. Select posts from users who signed up in September 2008 and made at least one post in December of that year. Sort the table by month value in descending order."
   ]
  },
  {
   "cell_type": "markdown",
   "metadata": {
    "id": "WmjhjV2xDWKv"
   },
   "source": [
    "| month | count |\n",
    "| ------|------ |\n",
    "| 2008-12-01 | 17641 |\n",
    "| 2008-11-01 | 18294 |\n",
    "| ... | ... |"
   ]
  },
  {
   "cell_type": "code",
   "execution_count": 15,
   "metadata": {
    "id": "kVu0FB8WDWKv"
   },
   "outputs": [
    {
     "data": {
      "text/html": [
       "<div>\n",
       "<style scoped>\n",
       "    .dataframe tbody tr th:only-of-type {\n",
       "        vertical-align: middle;\n",
       "    }\n",
       "\n",
       "    .dataframe tbody tr th {\n",
       "        vertical-align: top;\n",
       "    }\n",
       "\n",
       "    .dataframe thead th {\n",
       "        text-align: right;\n",
       "    }\n",
       "</style>\n",
       "<table border=\"1\" class=\"dataframe\">\n",
       "  <thead>\n",
       "    <tr style=\"text-align: right;\">\n",
       "      <th></th>\n",
       "      <th>month</th>\n",
       "      <th>count</th>\n",
       "    </tr>\n",
       "  </thead>\n",
       "  <tbody>\n",
       "    <tr>\n",
       "      <th>0</th>\n",
       "      <td>2008-12-01</td>\n",
       "      <td>17641</td>\n",
       "    </tr>\n",
       "    <tr>\n",
       "      <th>1</th>\n",
       "      <td>2008-11-01</td>\n",
       "      <td>18294</td>\n",
       "    </tr>\n",
       "    <tr>\n",
       "      <th>2</th>\n",
       "      <td>2008-10-01</td>\n",
       "      <td>27171</td>\n",
       "    </tr>\n",
       "    <tr>\n",
       "      <th>3</th>\n",
       "      <td>2008-09-01</td>\n",
       "      <td>24870</td>\n",
       "    </tr>\n",
       "    <tr>\n",
       "      <th>4</th>\n",
       "      <td>2008-08-01</td>\n",
       "      <td>32</td>\n",
       "    </tr>\n",
       "  </tbody>\n",
       "</table>\n",
       "</div>"
      ],
      "text/plain": [
       "        month  count\n",
       "0  2008-12-01  17641\n",
       "1  2008-11-01  18294\n",
       "2  2008-10-01  27171\n",
       "3  2008-09-01  24870\n",
       "4  2008-08-01     32"
      ]
     },
     "execution_count": 15,
     "metadata": {},
     "output_type": "execute_result"
    }
   ],
   "source": [
    "query = '''\n",
    "\n",
    "SELECT DATE_TRUNC('month', creation_date)::date AS month,\n",
    "       COUNT(*)\n",
    "FROM stackoverflow.posts\n",
    "WHERE user_id IN\n",
    "    (SELECT DISTINCT u.id\n",
    "     FROM stackoverflow.users u\n",
    "     JOIN stackoverflow.posts p ON u.id = p.user_id\n",
    "     WHERE DATE_TRUNC('month', u.creation_date) = '2008-09-01'\n",
    "       AND DATE_TRUNC('month', p.creation_date) = '2008-12-01')\n",
    "GROUP BY month\n",
    "ORDER BY month DESC;\n",
    "\n",
    "'''\n",
    "df2 = pd.read_sql_query(query, con=engine) \n",
    "df2\n",
    "\n"
   ]
  },
  {
   "cell_type": "markdown",
   "metadata": {
    "id": "MMVIz4yMlKpN"
   },
   "source": [
    "Since we're looking at data about users who signed up in September 2008, it seems rather strange that some of them managed to write a post as early as August of that year. Perhaps the reason is that users first wrote a post and then registered, and the system automatically added this post to this user."
   ]
  },
  {
   "cell_type": "markdown",
   "metadata": {
    "id": "5Pcizm0DDWKz"
   },
   "source": [
    "# Task 4"
   ]
  },
  {
   "cell_type": "markdown",
   "metadata": {
    "id": "KUZPF6vHDWKz"
   },
   "source": [
    "Using the post data, output a few fields:\n",
    "\n",
    "- ID of the user who wrote the post;\n",
    "- date of creation of the post;\n",
    "- the number of views of the current post;\n",
    "- the amount of views of the author's posts with accumulation.\n",
    "\n",
    "The data in the table should be sorted in ascending order of user IDs, and the data for the same user should be sorted in ascending order of the date the post was created."
   ]
  },
  {
   "cell_type": "markdown",
   "metadata": {
    "id": "ZpsTUVDYDWK0"
   },
   "source": [
    "| user_id | creation_date | views_count | cumulative_count |\n",
    "| ------ | -------------- | ----------- | ---------------- |\n",
    "| 1 | 2008-07-31 23:41:00  | 480476   | 480476  |\n",
    "| 1 | 2008-07-31 23:55:38  | 136033 | 616509  | \n",
    "| 1 | 2008-07-31 23:56:41  | 0 |  616509  |\n",
    "| ... | ... | ... | ... |\n",
    "| 2 | 2008-07-31 23:56:41 | 79087  | 79087 |\n",
    "| 2 | 2008-08-01 05:09:56 | 65443 | 144530 |\n",
    "| ... | ...  | ...  | ...  |"
   ]
  },
  {
   "cell_type": "code",
   "execution_count": 17,
   "metadata": {
    "id": "hDoJhMzfDWK0"
   },
   "outputs": [
    {
     "data": {
      "text/html": [
       "<div>\n",
       "<style scoped>\n",
       "    .dataframe tbody tr th:only-of-type {\n",
       "        vertical-align: middle;\n",
       "    }\n",
       "\n",
       "    .dataframe tbody tr th {\n",
       "        vertical-align: top;\n",
       "    }\n",
       "\n",
       "    .dataframe thead th {\n",
       "        text-align: right;\n",
       "    }\n",
       "</style>\n",
       "<table border=\"1\" class=\"dataframe\">\n",
       "  <thead>\n",
       "    <tr style=\"text-align: right;\">\n",
       "      <th></th>\n",
       "      <th>user_id</th>\n",
       "      <th>creation_date</th>\n",
       "      <th>views_count</th>\n",
       "      <th>cumulative_count</th>\n",
       "    </tr>\n",
       "  </thead>\n",
       "  <tbody>\n",
       "    <tr>\n",
       "      <th>0</th>\n",
       "      <td>1</td>\n",
       "      <td>2008-07-31 23:41:00</td>\n",
       "      <td>480476</td>\n",
       "      <td>480476</td>\n",
       "    </tr>\n",
       "    <tr>\n",
       "      <th>1</th>\n",
       "      <td>1</td>\n",
       "      <td>2008-07-31 23:55:38</td>\n",
       "      <td>136033</td>\n",
       "      <td>616509</td>\n",
       "    </tr>\n",
       "    <tr>\n",
       "      <th>2</th>\n",
       "      <td>1</td>\n",
       "      <td>2008-07-31 23:56:41</td>\n",
       "      <td>0</td>\n",
       "      <td>616509</td>\n",
       "    </tr>\n",
       "    <tr>\n",
       "      <th>3</th>\n",
       "      <td>1</td>\n",
       "      <td>2008-08-04 02:45:08</td>\n",
       "      <td>0</td>\n",
       "      <td>616509</td>\n",
       "    </tr>\n",
       "    <tr>\n",
       "      <th>4</th>\n",
       "      <td>1</td>\n",
       "      <td>2008-08-04 04:31:03</td>\n",
       "      <td>0</td>\n",
       "      <td>616509</td>\n",
       "    </tr>\n",
       "    <tr>\n",
       "      <th>...</th>\n",
       "      <td>...</td>\n",
       "      <td>...</td>\n",
       "      <td>...</td>\n",
       "      <td>...</td>\n",
       "    </tr>\n",
       "    <tr>\n",
       "      <th>243791</th>\n",
       "      <td>5696608</td>\n",
       "      <td>2008-12-23 16:00:37</td>\n",
       "      <td>0</td>\n",
       "      <td>2804</td>\n",
       "    </tr>\n",
       "    <tr>\n",
       "      <th>243792</th>\n",
       "      <td>5696608</td>\n",
       "      <td>2008-12-23 17:35:09</td>\n",
       "      <td>0</td>\n",
       "      <td>2804</td>\n",
       "    </tr>\n",
       "    <tr>\n",
       "      <th>243793</th>\n",
       "      <td>5696608</td>\n",
       "      <td>2008-12-24 01:02:48</td>\n",
       "      <td>0</td>\n",
       "      <td>2804</td>\n",
       "    </tr>\n",
       "    <tr>\n",
       "      <th>243794</th>\n",
       "      <td>5696608</td>\n",
       "      <td>2008-12-30 14:34:45</td>\n",
       "      <td>0</td>\n",
       "      <td>2804</td>\n",
       "    </tr>\n",
       "    <tr>\n",
       "      <th>243795</th>\n",
       "      <td>5696608</td>\n",
       "      <td>2008-12-30 16:32:12</td>\n",
       "      <td>0</td>\n",
       "      <td>2804</td>\n",
       "    </tr>\n",
       "  </tbody>\n",
       "</table>\n",
       "<p>243796 rows × 4 columns</p>\n",
       "</div>"
      ],
      "text/plain": [
       "        user_id       creation_date  views_count  cumulative_count\n",
       "0             1 2008-07-31 23:41:00       480476            480476\n",
       "1             1 2008-07-31 23:55:38       136033            616509\n",
       "2             1 2008-07-31 23:56:41            0            616509\n",
       "3             1 2008-08-04 02:45:08            0            616509\n",
       "4             1 2008-08-04 04:31:03            0            616509\n",
       "...         ...                 ...          ...               ...\n",
       "243791  5696608 2008-12-23 16:00:37            0              2804\n",
       "243792  5696608 2008-12-23 17:35:09            0              2804\n",
       "243793  5696608 2008-12-24 01:02:48            0              2804\n",
       "243794  5696608 2008-12-30 14:34:45            0              2804\n",
       "243795  5696608 2008-12-30 16:32:12            0              2804\n",
       "\n",
       "[243796 rows x 4 columns]"
      ]
     },
     "execution_count": 17,
     "metadata": {},
     "output_type": "execute_result"
    }
   ],
   "source": [
    "query = '''\n",
    "\n",
    "SELECT user_id,\n",
    "creation_date,\n",
    "views_count,\n",
    "SUM(views_count) OVER (PARTITION BY user_id ORDER BY creation_date) AS cumulative_count\n",
    "FROM stackoverflow.posts\n",
    "ORDER BY user_id, creation_date;\n",
    "\n",
    "'''\n",
    "df3 = pd.read_sql_query(query, con=engine) \n",
    "df3\n"
   ]
  },
  {
   "cell_type": "markdown",
   "metadata": {
    "id": "N0kHRHvIDWK2"
   },
   "source": [
    "# Task 5"
   ]
  },
  {
   "cell_type": "markdown",
   "metadata": {
    "id": "gBgvmPtODWK2"
   },
   "source": [
    "Find the average number of user posts per day for August 2008. Select data about users who published more than 120 posts in August. Do not count days without posting.\n"
   ]
  },
  {
   "cell_type": "markdown",
   "metadata": {
    "id": "nfzR08BODWK3"
   },
   "source": [
    "| user_id | avg_daily |\n",
    "| ------- | --------- |\n",
    "| 116     | 4.777778  |\n",
    "| 234     | 5.208333  |\n",
    "| ...     | ... |"
   ]
  },
  {
   "cell_type": "code",
   "execution_count": 18,
   "metadata": {
    "id": "YFyPNz5GDWK3"
   },
   "outputs": [
    {
     "data": {
      "text/html": [
       "<div>\n",
       "<style scoped>\n",
       "    .dataframe tbody tr th:only-of-type {\n",
       "        vertical-align: middle;\n",
       "    }\n",
       "\n",
       "    .dataframe tbody tr th {\n",
       "        vertical-align: top;\n",
       "    }\n",
       "\n",
       "    .dataframe thead th {\n",
       "        text-align: right;\n",
       "    }\n",
       "</style>\n",
       "<table border=\"1\" class=\"dataframe\">\n",
       "  <thead>\n",
       "    <tr style=\"text-align: right;\">\n",
       "      <th></th>\n",
       "      <th>user_id</th>\n",
       "      <th>avg_daily</th>\n",
       "    </tr>\n",
       "  </thead>\n",
       "  <tbody>\n",
       "    <tr>\n",
       "      <th>0</th>\n",
       "      <td>116</td>\n",
       "      <td>4.777778</td>\n",
       "    </tr>\n",
       "    <tr>\n",
       "      <th>1</th>\n",
       "      <td>234</td>\n",
       "      <td>5.208333</td>\n",
       "    </tr>\n",
       "    <tr>\n",
       "      <th>2</th>\n",
       "      <td>91</td>\n",
       "      <td>5.681818</td>\n",
       "    </tr>\n",
       "    <tr>\n",
       "      <th>3</th>\n",
       "      <td>905</td>\n",
       "      <td>7.000000</td>\n",
       "    </tr>\n",
       "    <tr>\n",
       "      <th>4</th>\n",
       "      <td>383</td>\n",
       "      <td>7.277778</td>\n",
       "    </tr>\n",
       "  </tbody>\n",
       "</table>\n",
       "</div>"
      ],
      "text/plain": [
       "   user_id  avg_daily\n",
       "0      116   4.777778\n",
       "1      234   5.208333\n",
       "2       91   5.681818\n",
       "3      905   7.000000\n",
       "4      383   7.277778"
      ]
     },
     "execution_count": 18,
     "metadata": {},
     "output_type": "execute_result"
    }
   ],
   "source": [
    "query = '''\n",
    "WITH temp_table AS\n",
    "  (SELECT user_id,\n",
    "          DATE_TRUNC('day', creation_date) AS day,\n",
    "          COUNT(DATE_TRUNC('day', creation_date)) AS posts_count\n",
    "   FROM stackoverflow.posts\n",
    "   WHERE DATE_TRUNC('day', creation_date) >= '2008-08-01'\n",
    "     AND DATE_TRUNC('day', creation_date) <= '2008-08-31'\n",
    "     AND user_id IN\n",
    "       (SELECT user_id\n",
    "        FROM stackoverflow.posts   \n",
    "        WHERE DATE_TRUNC('day', creation_date) >= '2008-08-01'\n",
    "          AND DATE_TRUNC('day', creation_date) <= '2008-08-31'\n",
    "        GROUP BY user_id\n",
    "        HAVING COUNT(user_id) > 120)\n",
    "   GROUP BY user_id,\n",
    "            DAY)\n",
    "SELECT user_id,\n",
    "       AVG(posts_count) AS avg_daily\n",
    "FROM temp_table\n",
    "GROUP BY user_id\n",
    "ORDER BY avg_daily;\n",
    "\n",
    "'''\n",
    "df4 = pd.read_sql_query(query, con=engine) \n",
    "df4\n"
   ]
  },
  {
   "cell_type": "markdown",
   "metadata": {
    "id": "EQ0dcFH4DWK5"
   },
   "source": [
    "# Task 6"
   ]
  },
  {
   "cell_type": "markdown",
   "metadata": {
    "id": "c7flfg_hDWK5"
   },
   "source": [
    "On average, how many days between 1 December 2008 and 7 December 2008 did users interact with the platform? For each user, select the days on which he or she posted at least one post."
   ]
  },
  {
   "cell_type": "markdown",
   "metadata": {
    "id": "RC1Ibzm9DWK6"
   },
   "source": [
    "| result |\n",
    "| -----  |\n",
    "| <'one number'> |"
   ]
  },
  {
   "cell_type": "code",
   "execution_count": 19,
   "metadata": {
    "id": "kZ7LXTr6DWK6"
   },
   "outputs": [
    {
     "data": {
      "text/html": [
       "<div>\n",
       "<style scoped>\n",
       "    .dataframe tbody tr th:only-of-type {\n",
       "        vertical-align: middle;\n",
       "    }\n",
       "\n",
       "    .dataframe tbody tr th {\n",
       "        vertical-align: top;\n",
       "    }\n",
       "\n",
       "    .dataframe thead th {\n",
       "        text-align: right;\n",
       "    }\n",
       "</style>\n",
       "<table border=\"1\" class=\"dataframe\">\n",
       "  <thead>\n",
       "    <tr style=\"text-align: right;\">\n",
       "      <th></th>\n",
       "      <th>result</th>\n",
       "    </tr>\n",
       "  </thead>\n",
       "  <tbody>\n",
       "    <tr>\n",
       "      <th>0</th>\n",
       "      <td>2</td>\n",
       "    </tr>\n",
       "  </tbody>\n",
       "</table>\n",
       "</div>"
      ],
      "text/plain": [
       "   result\n",
       "0       2"
      ]
     },
     "execution_count": 19,
     "metadata": {},
     "output_type": "execute_result"
    }
   ],
   "source": [
    "query = '''\n",
    "\n",
    "SELECT CAST(AVG(frequency) AS INT) AS result\n",
    "FROM (\n",
    "    SELECT COUNT(DISTINCT CAST(creation_date AS DATE)) AS frequency\n",
    "    FROM stackoverflow.posts\n",
    "    WHERE creation_date BETWEEN '2008-12-01' AND '2008-12-08'\n",
    "    GROUP BY user_id\n",
    ") AS f\n",
    "\n",
    "'''\n",
    "df5 = pd.read_sql_query(query, con=engine) \n",
    "df5\n"
   ]
  },
  {
   "cell_type": "markdown",
   "metadata": {
    "id": "LfUuYz-1DWK8"
   },
   "source": [
    "On average, during the week, users interact with the platform for 2 days. This is a good result, which means that users use the platform often. Probably on other days, users read other people's posts, write comments."
   ]
  },
  {
   "cell_type": "markdown",
   "metadata": {
    "id": "wfOmqmfLDWK8"
   },
   "source": [
    "# Task 7"
   ]
  },
  {
   "cell_type": "markdown",
   "metadata": {
    "id": "X4ARQimADWK9"
   },
   "source": [
    "Display the activity history of each user in this form: user ID, post publication date. Sort the output by ascending user ID, and for each user by ascending publication date.\n",
    "\n",
    "Add a new field to the table: for each post, it will contain the name of the month of the user's penultimate publication relative to the current one. If there is no such publication, specify `NULL`. Python will automatically change `NULL` to `None`, but you don't need to convert `None` values additionally."
   ]
  },
  {
   "cell_type": "markdown",
   "metadata": {
    "id": "IGPjRP01DWK9"
   },
   "source": [
    "| user_id | creation_date | second_last_month |\n",
    "| ------- | ------------- | ----------------- |\n",
    "| 1       | 2008-07-31 23:41:00 | None |\n",
    "| 1       | 2008-07-31 23:55:38 | None |\n",
    "| 1       | 2008-07-31 23:56:41 | July |\n",
    "| 1       | 2008-08-04 02:45:08 | July |\n",
    "| 1       | 2008-08-04 04:31:03 | July |\n",
    "| 1       | 2008-08-04 08:04:42 | August |\n",
    "| ... | ... | ... |"
   ]
  },
  {
   "cell_type": "code",
   "execution_count": 20,
   "metadata": {
    "id": "HzI1vhaMDWK-"
   },
   "outputs": [
    {
     "data": {
      "text/html": [
       "<div>\n",
       "<style scoped>\n",
       "    .dataframe tbody tr th:only-of-type {\n",
       "        vertical-align: middle;\n",
       "    }\n",
       "\n",
       "    .dataframe tbody tr th {\n",
       "        vertical-align: top;\n",
       "    }\n",
       "\n",
       "    .dataframe thead th {\n",
       "        text-align: right;\n",
       "    }\n",
       "</style>\n",
       "<table border=\"1\" class=\"dataframe\">\n",
       "  <thead>\n",
       "    <tr style=\"text-align: right;\">\n",
       "      <th></th>\n",
       "      <th>user_id</th>\n",
       "      <th>creation_date</th>\n",
       "      <th>case</th>\n",
       "    </tr>\n",
       "  </thead>\n",
       "  <tbody>\n",
       "    <tr>\n",
       "      <th>0</th>\n",
       "      <td>1</td>\n",
       "      <td>2008-07-31 23:41:00</td>\n",
       "      <td>None</td>\n",
       "    </tr>\n",
       "    <tr>\n",
       "      <th>1</th>\n",
       "      <td>1</td>\n",
       "      <td>2008-07-31 23:55:38</td>\n",
       "      <td>None</td>\n",
       "    </tr>\n",
       "    <tr>\n",
       "      <th>2</th>\n",
       "      <td>1</td>\n",
       "      <td>2008-07-31 23:56:41</td>\n",
       "      <td>July</td>\n",
       "    </tr>\n",
       "    <tr>\n",
       "      <th>3</th>\n",
       "      <td>1</td>\n",
       "      <td>2008-08-04 02:45:08</td>\n",
       "      <td>July</td>\n",
       "    </tr>\n",
       "    <tr>\n",
       "      <th>4</th>\n",
       "      <td>1</td>\n",
       "      <td>2008-08-04 04:31:03</td>\n",
       "      <td>July</td>\n",
       "    </tr>\n",
       "    <tr>\n",
       "      <th>...</th>\n",
       "      <td>...</td>\n",
       "      <td>...</td>\n",
       "      <td>...</td>\n",
       "    </tr>\n",
       "    <tr>\n",
       "      <th>243791</th>\n",
       "      <td>5696608</td>\n",
       "      <td>2008-12-23 16:00:37</td>\n",
       "      <td>December</td>\n",
       "    </tr>\n",
       "    <tr>\n",
       "      <th>243792</th>\n",
       "      <td>5696608</td>\n",
       "      <td>2008-12-23 17:35:09</td>\n",
       "      <td>December</td>\n",
       "    </tr>\n",
       "    <tr>\n",
       "      <th>243793</th>\n",
       "      <td>5696608</td>\n",
       "      <td>2008-12-24 01:02:48</td>\n",
       "      <td>December</td>\n",
       "    </tr>\n",
       "    <tr>\n",
       "      <th>243794</th>\n",
       "      <td>5696608</td>\n",
       "      <td>2008-12-30 14:34:45</td>\n",
       "      <td>December</td>\n",
       "    </tr>\n",
       "    <tr>\n",
       "      <th>243795</th>\n",
       "      <td>5696608</td>\n",
       "      <td>2008-12-30 16:32:12</td>\n",
       "      <td>December</td>\n",
       "    </tr>\n",
       "  </tbody>\n",
       "</table>\n",
       "<p>243796 rows × 3 columns</p>\n",
       "</div>"
      ],
      "text/plain": [
       "        user_id       creation_date      case\n",
       "0             1 2008-07-31 23:41:00      None\n",
       "1             1 2008-07-31 23:55:38      None\n",
       "2             1 2008-07-31 23:56:41      July\n",
       "3             1 2008-08-04 02:45:08      July\n",
       "4             1 2008-08-04 04:31:03      July\n",
       "...         ...                 ...       ...\n",
       "243791  5696608 2008-12-23 16:00:37  December\n",
       "243792  5696608 2008-12-23 17:35:09  December\n",
       "243793  5696608 2008-12-24 01:02:48  December\n",
       "243794  5696608 2008-12-30 14:34:45  December\n",
       "243795  5696608 2008-12-30 16:32:12  December\n",
       "\n",
       "[243796 rows x 3 columns]"
      ]
     },
     "execution_count": 20,
     "metadata": {},
     "output_type": "execute_result"
    }
   ],
   "source": [
    "query = '''\n",
    "\n",
    "SELECT user_id,\n",
    "creation_date, \n",
    "CASE EXTRACT(MONTH FROM CAST((lag(creation_date, 2, NULL) over (ORDER BY user_id, creation_date)) AS DATE))\n",
    "    WHEN 1.0 THEN 'January'\n",
    "    WHEN 2.0 THEN 'February'\n",
    "    WHEN 3.0 THEN 'March'\n",
    "    WHEN 4.0 THEN 'April'\n",
    "    WHEN 5.0 THEN 'May'\n",
    "    WHEN 6.0 THEN 'June'\n",
    "    WHEN 7.0 THEN 'July'\n",
    "    WHEN 8.0 THEN 'August'\n",
    "    WHEN 9.0 THEN 'September'\n",
    "    WHEN 10.0 THEN 'October'\n",
    "    WHEN 11.0 THEN 'November'\n",
    "    WHEN 12.0 THEN 'December' \n",
    "END\n",
    "FROM stackoverflow.posts\n",
    "ORDER BY user_id, creation_date\n",
    "\n",
    "'''\n",
    "df6 = pd.read_sql_query(query, con=engine) \n",
    "df6\n"
   ]
  },
  {
   "cell_type": "markdown",
   "metadata": {
    "id": "tf9qq2yzDWK_"
   },
   "source": [
    "# Task 8"
   ]
  },
  {
   "cell_type": "markdown",
   "metadata": {
    "id": "gfwLVXBYDWLA"
   },
   "source": [
    "Calculate the Retention Rate analog by month for StackOverflow users. Organize users into cohorts based on the month of their first post. Return is determined by the presence of a post in the current month."
   ]
  },
  {
   "cell_type": "markdown",
   "metadata": {
    "id": "kN2ic39WlKpl"
   },
   "source": [
    "| cohort_dt | session_date | users_cnt | cohort_users_cnt | retention_rate |\n",
    "| --- | --- | --- | --- | --- |\n",
    "| 2008-07-01 00:00:00 | 2008-07-01 00:00:00 | 3 | 3 | 100 |\n",
    "| 2008-07-01 00:00:00 | 2008-08-01 00:00:00 | 2 | 3 | 66,67 |\n",
    "| 2008-07-01 00:00:00 | 2008-09-01 00:00:00 | 1 | 3 | 33,33 |\n",
    "| 2008-07-01 00:00:00 | 2008-10-01 00:00:00 | 2 | 3 | 66,67 |\n",
    "| 2008-07-01 00:00:00 | 2008-11-01 00:00:00 | 1 | 3 | 33,33 |\n",
    "| 2008-07-01 00:00:00 | 2008-12-01 00:00:00 | 2 | 3 | 66,67 |\n",
    "| 2008-08-01 00:00:00 | 2008-08-01 00:00:00 | 2151 | 2151 | 100 |\n",
    "| ... | ... | ... | ... | ... |"
   ]
  },
  {
   "cell_type": "code",
   "execution_count": 21,
   "metadata": {
    "id": "LUgFmwmTDWLB"
   },
   "outputs": [
    {
     "data": {
      "text/html": [
       "<div>\n",
       "<style scoped>\n",
       "    .dataframe tbody tr th:only-of-type {\n",
       "        vertical-align: middle;\n",
       "    }\n",
       "\n",
       "    .dataframe tbody tr th {\n",
       "        vertical-align: top;\n",
       "    }\n",
       "\n",
       "    .dataframe thead th {\n",
       "        text-align: right;\n",
       "    }\n",
       "</style>\n",
       "<table border=\"1\" class=\"dataframe\">\n",
       "  <thead>\n",
       "    <tr style=\"text-align: right;\">\n",
       "      <th></th>\n",
       "      <th>cohort_dt</th>\n",
       "      <th>session_date</th>\n",
       "      <th>users_cnt</th>\n",
       "      <th>cohort_users_cnt</th>\n",
       "      <th>retention_rate</th>\n",
       "    </tr>\n",
       "  </thead>\n",
       "  <tbody>\n",
       "    <tr>\n",
       "      <th>0</th>\n",
       "      <td>2008-07-01</td>\n",
       "      <td>2008-07-01</td>\n",
       "      <td>3</td>\n",
       "      <td>3</td>\n",
       "      <td>100.00</td>\n",
       "    </tr>\n",
       "    <tr>\n",
       "      <th>1</th>\n",
       "      <td>2008-07-01</td>\n",
       "      <td>2008-08-01</td>\n",
       "      <td>2</td>\n",
       "      <td>3</td>\n",
       "      <td>66.67</td>\n",
       "    </tr>\n",
       "    <tr>\n",
       "      <th>2</th>\n",
       "      <td>2008-07-01</td>\n",
       "      <td>2008-09-01</td>\n",
       "      <td>1</td>\n",
       "      <td>3</td>\n",
       "      <td>33.33</td>\n",
       "    </tr>\n",
       "    <tr>\n",
       "      <th>3</th>\n",
       "      <td>2008-07-01</td>\n",
       "      <td>2008-10-01</td>\n",
       "      <td>2</td>\n",
       "      <td>3</td>\n",
       "      <td>66.67</td>\n",
       "    </tr>\n",
       "    <tr>\n",
       "      <th>4</th>\n",
       "      <td>2008-07-01</td>\n",
       "      <td>2008-11-01</td>\n",
       "      <td>1</td>\n",
       "      <td>3</td>\n",
       "      <td>33.33</td>\n",
       "    </tr>\n",
       "    <tr>\n",
       "      <th>5</th>\n",
       "      <td>2008-07-01</td>\n",
       "      <td>2008-12-01</td>\n",
       "      <td>2</td>\n",
       "      <td>3</td>\n",
       "      <td>66.67</td>\n",
       "    </tr>\n",
       "    <tr>\n",
       "      <th>6</th>\n",
       "      <td>2008-08-01</td>\n",
       "      <td>2008-08-01</td>\n",
       "      <td>2151</td>\n",
       "      <td>2151</td>\n",
       "      <td>100.00</td>\n",
       "    </tr>\n",
       "    <tr>\n",
       "      <th>7</th>\n",
       "      <td>2008-08-01</td>\n",
       "      <td>2008-09-01</td>\n",
       "      <td>1571</td>\n",
       "      <td>2151</td>\n",
       "      <td>73.04</td>\n",
       "    </tr>\n",
       "    <tr>\n",
       "      <th>8</th>\n",
       "      <td>2008-08-01</td>\n",
       "      <td>2008-10-01</td>\n",
       "      <td>1275</td>\n",
       "      <td>2151</td>\n",
       "      <td>59.27</td>\n",
       "    </tr>\n",
       "    <tr>\n",
       "      <th>9</th>\n",
       "      <td>2008-08-01</td>\n",
       "      <td>2008-11-01</td>\n",
       "      <td>1050</td>\n",
       "      <td>2151</td>\n",
       "      <td>48.81</td>\n",
       "    </tr>\n",
       "    <tr>\n",
       "      <th>10</th>\n",
       "      <td>2008-08-01</td>\n",
       "      <td>2008-12-01</td>\n",
       "      <td>894</td>\n",
       "      <td>2151</td>\n",
       "      <td>41.56</td>\n",
       "    </tr>\n",
       "    <tr>\n",
       "      <th>11</th>\n",
       "      <td>2008-09-01</td>\n",
       "      <td>2008-09-01</td>\n",
       "      <td>7678</td>\n",
       "      <td>7678</td>\n",
       "      <td>100.00</td>\n",
       "    </tr>\n",
       "    <tr>\n",
       "      <th>12</th>\n",
       "      <td>2008-09-01</td>\n",
       "      <td>2008-10-01</td>\n",
       "      <td>4132</td>\n",
       "      <td>7678</td>\n",
       "      <td>53.82</td>\n",
       "    </tr>\n",
       "    <tr>\n",
       "      <th>13</th>\n",
       "      <td>2008-09-01</td>\n",
       "      <td>2008-11-01</td>\n",
       "      <td>2966</td>\n",
       "      <td>7678</td>\n",
       "      <td>38.63</td>\n",
       "    </tr>\n",
       "    <tr>\n",
       "      <th>14</th>\n",
       "      <td>2008-09-01</td>\n",
       "      <td>2008-12-01</td>\n",
       "      <td>2500</td>\n",
       "      <td>7678</td>\n",
       "      <td>32.56</td>\n",
       "    </tr>\n",
       "    <tr>\n",
       "      <th>15</th>\n",
       "      <td>2008-10-01</td>\n",
       "      <td>2008-10-01</td>\n",
       "      <td>3629</td>\n",
       "      <td>3629</td>\n",
       "      <td>100.00</td>\n",
       "    </tr>\n",
       "    <tr>\n",
       "      <th>16</th>\n",
       "      <td>2008-10-01</td>\n",
       "      <td>2008-11-01</td>\n",
       "      <td>1640</td>\n",
       "      <td>3629</td>\n",
       "      <td>45.19</td>\n",
       "    </tr>\n",
       "    <tr>\n",
       "      <th>17</th>\n",
       "      <td>2008-10-01</td>\n",
       "      <td>2008-12-01</td>\n",
       "      <td>1221</td>\n",
       "      <td>3629</td>\n",
       "      <td>33.65</td>\n",
       "    </tr>\n",
       "    <tr>\n",
       "      <th>18</th>\n",
       "      <td>2008-11-01</td>\n",
       "      <td>2008-11-01</td>\n",
       "      <td>2852</td>\n",
       "      <td>2852</td>\n",
       "      <td>100.00</td>\n",
       "    </tr>\n",
       "    <tr>\n",
       "      <th>19</th>\n",
       "      <td>2008-11-01</td>\n",
       "      <td>2008-12-01</td>\n",
       "      <td>1151</td>\n",
       "      <td>2852</td>\n",
       "      <td>40.36</td>\n",
       "    </tr>\n",
       "    <tr>\n",
       "      <th>20</th>\n",
       "      <td>2008-12-01</td>\n",
       "      <td>2008-12-01</td>\n",
       "      <td>2536</td>\n",
       "      <td>2536</td>\n",
       "      <td>100.00</td>\n",
       "    </tr>\n",
       "  </tbody>\n",
       "</table>\n",
       "</div>"
      ],
      "text/plain": [
       "    cohort_dt session_date  users_cnt  cohort_users_cnt  retention_rate\n",
       "0  2008-07-01   2008-07-01          3                 3          100.00\n",
       "1  2008-07-01   2008-08-01          2                 3           66.67\n",
       "2  2008-07-01   2008-09-01          1                 3           33.33\n",
       "3  2008-07-01   2008-10-01          2                 3           66.67\n",
       "4  2008-07-01   2008-11-01          1                 3           33.33\n",
       "5  2008-07-01   2008-12-01          2                 3           66.67\n",
       "6  2008-08-01   2008-08-01       2151              2151          100.00\n",
       "7  2008-08-01   2008-09-01       1571              2151           73.04\n",
       "8  2008-08-01   2008-10-01       1275              2151           59.27\n",
       "9  2008-08-01   2008-11-01       1050              2151           48.81\n",
       "10 2008-08-01   2008-12-01        894              2151           41.56\n",
       "11 2008-09-01   2008-09-01       7678              7678          100.00\n",
       "12 2008-09-01   2008-10-01       4132              7678           53.82\n",
       "13 2008-09-01   2008-11-01       2966              7678           38.63\n",
       "14 2008-09-01   2008-12-01       2500              7678           32.56\n",
       "15 2008-10-01   2008-10-01       3629              3629          100.00\n",
       "16 2008-10-01   2008-11-01       1640              3629           45.19\n",
       "17 2008-10-01   2008-12-01       1221              3629           33.65\n",
       "18 2008-11-01   2008-11-01       2852              2852          100.00\n",
       "19 2008-11-01   2008-12-01       1151              2852           40.36\n",
       "20 2008-12-01   2008-12-01       2536              2536          100.00"
      ]
     },
     "execution_count": 21,
     "metadata": {},
     "output_type": "execute_result"
    }
   ],
   "source": [
    "query = '''\n",
    "\n",
    "WITH profile AS\n",
    "  (\n",
    "    SELECT user_id,\n",
    "    MIN(DATE_TRUNC('month', creation_date)) AS entry_date,\n",
    "    COUNT(*) OVER (PARTITION BY MIN(EXTRACT(MONTH FROM CAST(creation_date as DATE)))) AS cohort_users_cnt\n",
    "    FROM stackoverflow.posts\n",
    "    GROUP BY user_id\n",
    "   ),\n",
    "    sessions AS \n",
    "    (\n",
    "        SELECT distinct user_id, DATE_TRUNC('month', creation_date) as month\n",
    "        FROM stackoverflow.posts\n",
    "    )\n",
    "SELECT p.entry_date cohort_dt,\n",
    "       s.month session_date,\n",
    "       COUNT(p.user_id) AS users_cnt,\n",
    "       p.cohort_users_cnt,\n",
    "       ROUND(COUNT(p.user_id) * 100.0 / p.cohort_users_cnt, 2) AS retention_rate\n",
    "FROM profile p\n",
    "JOIN sessions s ON p.user_id = s.user_id\n",
    "GROUP BY 1,\n",
    "         2,\n",
    "         4;\n",
    "\n",
    "\n",
    "'''\n",
    "\n",
    "df7 = pd.read_sql_query(query, con=engine) \n",
    "df7\n"
   ]
  },
  {
   "cell_type": "markdown",
   "metadata": {
    "id": "_msBtnb2DWLC"
   },
   "source": [
    "Build a Retention Rate heatmap. What anomalies or other unusual phenomena have been identified? Formulate hypotheses about possible causes."
   ]
  },
  {
   "cell_type": "code",
   "execution_count": 22,
   "metadata": {
    "id": "qAEJc8H1DWLC"
   },
   "outputs": [
    {
     "data": {
      "image/png": "[encoded data removed]",
      "text/plain": [
       "<Figure size 792x792 with 2 Axes>"
      ]
     },
     "metadata": {
      "needs_background": "light"
     },
     "output_type": "display_data"
    }
   ],
   "source": [
    "import seaborn as sns\n",
    "\n",
    "\n",
    "retention = df7.pivot('cohort_dt', 'session_date', 'retention_rate')\n",
    "retention.index = [str(x)[0:10] for x in retention.index]\n",
    "retention.columns = [str(x)[0:10] for x in retention.columns]\n",
    "\n",
    "\n",
    "plt.figure(figsize=(11, 11)) \n",
    "sns.heatmap(retention, \n",
    "            annot=True, \n",
    "            fmt='') \n",
    "plt.title('Тепловая карта') \n",
    "plt.show()"
   ]
  },
  {
   "cell_type": "markdown",
   "metadata": {
    "id": "EgOfIsI4DWLC"
   },
   "source": [
    "The July cohort is very unusual, in which the values ​​in each of the following months alternate rather strangely, as if the data had gone astray. It would be good to double check. The best-performing cohort in August. It is rather strange that for each next cohort, the `retention rate` for the second month is decreasing and decreasing."
   ]
  },
  {
   "cell_type": "markdown",
   "metadata": {
    "id": "1k7oPWt5DWLK"
   },
   "source": [
    "# Task 9\n"
   ]
  },
  {
   "cell_type": "markdown",
   "metadata": {
    "id": "ALsYVSyRDWLM"
   },
   "source": [
    "By what percent did the number of posts change monthly from September 1 to December 31, 2008? Display a table with the following fields:\n",
    "\n",
    "- month number;\n",
    "- the number of posts per month;\n",
    "- a percentage that shows how much the number of posts in the current month has changed compared to the previous one.\n",
    "\n",
    "If there are fewer posts, the percentage value should be negative, if there are more, positive. Round the percentage value to two decimal places.\n"
   ]
  },
  {
   "cell_type": "markdown",
   "metadata": {
    "id": "u4E2zF8DDWLM"
   },
   "source": [
    "| creation_month | posts_count | percentage |\n",
    "| -------------- | ----------- | ---------- |\n",
    "| 9 | 70731 | Nan |\n",
    "| 10 | 63102 | -10.33 |\n",
    "| ... | ... | ... |"
   ]
  },
  {
   "cell_type": "code",
   "execution_count": 23,
   "metadata": {
    "id": "Mb5pShStDWLN"
   },
   "outputs": [
    {
     "data": {
      "text/html": [
       "<div>\n",
       "<style scoped>\n",
       "    .dataframe tbody tr th:only-of-type {\n",
       "        vertical-align: middle;\n",
       "    }\n",
       "\n",
       "    .dataframe tbody tr th {\n",
       "        vertical-align: top;\n",
       "    }\n",
       "\n",
       "    .dataframe thead th {\n",
       "        text-align: right;\n",
       "    }\n",
       "</style>\n",
       "<table border=\"1\" class=\"dataframe\">\n",
       "  <thead>\n",
       "    <tr style=\"text-align: right;\">\n",
       "      <th></th>\n",
       "      <th>month</th>\n",
       "      <th>count</th>\n",
       "      <th>change_percent</th>\n",
       "    </tr>\n",
       "  </thead>\n",
       "  <tbody>\n",
       "    <tr>\n",
       "      <th>0</th>\n",
       "      <td>9</td>\n",
       "      <td>70371</td>\n",
       "      <td>NaN</td>\n",
       "    </tr>\n",
       "    <tr>\n",
       "      <th>1</th>\n",
       "      <td>10</td>\n",
       "      <td>63102</td>\n",
       "      <td>-10.33</td>\n",
       "    </tr>\n",
       "    <tr>\n",
       "      <th>2</th>\n",
       "      <td>11</td>\n",
       "      <td>46975</td>\n",
       "      <td>-25.56</td>\n",
       "    </tr>\n",
       "    <tr>\n",
       "      <th>3</th>\n",
       "      <td>12</td>\n",
       "      <td>44592</td>\n",
       "      <td>-5.07</td>\n",
       "    </tr>\n",
       "  </tbody>\n",
       "</table>\n",
       "</div>"
      ],
      "text/plain": [
       "   month  count  change_percent\n",
       "0      9  70371             NaN\n",
       "1     10  63102          -10.33\n",
       "2     11  46975          -25.56\n",
       "3     12  44592           -5.07"
      ]
     },
     "execution_count": 23,
     "metadata": {},
     "output_type": "execute_result"
    }
   ],
   "source": [
    "query = '''\n",
    "\n",
    "WITH months AS\n",
    "    (SELECT EXTRACT(MONTH FROM CAST(creation_date AS DATE)) AS month, COUNT(id)\n",
    "    FROM stackoverflow.posts\n",
    "    WHERE creation_date BETWEEN '2008-09-01' AND '2009-01-01'\n",
    "    GROUP BY month)\n",
    "SELECT CAST(month AS int),\n",
    "count,\n",
    "ROUND(CAST((count - lag(count) OVER (ORDER BY month)) AS numeric) / cast(lag(count) OVER (ORDER BY month) AS numeric) * 100, 2) AS change_percent\n",
    "FROM months \n",
    "ORDER BY month\n",
    "\n",
    "'''\n",
    "df8 = pd.read_sql_query(query, con=engine) \n",
    "\n",
    "df8\n"
   ]
  },
  {
   "cell_type": "code",
   "execution_count": 24,
   "metadata": {
    "id": "377ABjiVDWLP"
   },
   "outputs": [
    {
     "data": {
      "image/png": "[encoded data removed]",
      "text/plain": [
       "<Figure size 432x288 with 1 Axes>"
      ]
     },
     "metadata": {},
     "output_type": "display_data"
    }
   ],
   "source": [
    "fig1, ax1 = plt.subplots()\n",
    "ax1.pie(df8['count'], labels=df8['month'])\n",
    "ax1.axis('equal')  \n",
    "plt.show()"
   ]
  },
  {
   "cell_type": "markdown",
   "metadata": {
    "id": "uw7qMtafDWLP"
   },
   "source": [
    "# Task 10"
   ]
  },
  {
   "cell_type": "markdown",
   "metadata": {
    "id": "oRBpWKx3DWLQ"
   },
   "source": [
    "Download the activity data of the user who posted the most posts of all time. Output the data for October 2008 like this:\n",
    "\n",
    "- week number;\n",
    "- date and time of the last post published this week."
   ]
  },
  {
   "cell_type": "markdown",
   "metadata": {
    "id": "XjAWSn_3DWLQ"
   },
   "source": [
    "| week_creation | creation_date |\n",
    "| ------------- | ------------- |\n",
    "| 40 | 2008-10-05 09:00:58 |\n",
    "| 41 | 2008-10-12 21:22:23 |\n",
    "| ... | ... |"
   ]
  },
  {
   "cell_type": "code",
   "execution_count": 25,
   "metadata": {
    "id": "r5F5fSkwDWLQ"
   },
   "outputs": [
    {
     "data": {
      "text/html": [
       "<div>\n",
       "<style scoped>\n",
       "    .dataframe tbody tr th:only-of-type {\n",
       "        vertical-align: middle;\n",
       "    }\n",
       "\n",
       "    .dataframe tbody tr th {\n",
       "        vertical-align: top;\n",
       "    }\n",
       "\n",
       "    .dataframe thead th {\n",
       "        text-align: right;\n",
       "    }\n",
       "</style>\n",
       "<table border=\"1\" class=\"dataframe\">\n",
       "  <thead>\n",
       "    <tr style=\"text-align: right;\">\n",
       "      <th></th>\n",
       "      <th>week</th>\n",
       "      <th>max</th>\n",
       "    </tr>\n",
       "  </thead>\n",
       "  <tbody>\n",
       "    <tr>\n",
       "      <th>0</th>\n",
       "      <td>40.0</td>\n",
       "      <td>2008-10-05 09:00:58</td>\n",
       "    </tr>\n",
       "    <tr>\n",
       "      <th>1</th>\n",
       "      <td>41.0</td>\n",
       "      <td>2008-10-12 21:22:23</td>\n",
       "    </tr>\n",
       "    <tr>\n",
       "      <th>2</th>\n",
       "      <td>42.0</td>\n",
       "      <td>2008-10-19 06:49:30</td>\n",
       "    </tr>\n",
       "    <tr>\n",
       "      <th>3</th>\n",
       "      <td>43.0</td>\n",
       "      <td>2008-10-26 21:44:36</td>\n",
       "    </tr>\n",
       "    <tr>\n",
       "      <th>4</th>\n",
       "      <td>44.0</td>\n",
       "      <td>2008-10-31 22:16:01</td>\n",
       "    </tr>\n",
       "  </tbody>\n",
       "</table>\n",
       "</div>"
      ],
      "text/plain": [
       "   week                 max\n",
       "0  40.0 2008-10-05 09:00:58\n",
       "1  41.0 2008-10-12 21:22:23\n",
       "2  42.0 2008-10-19 06:49:30\n",
       "3  43.0 2008-10-26 21:44:36\n",
       "4  44.0 2008-10-31 22:16:01"
      ]
     },
     "execution_count": 25,
     "metadata": {},
     "output_type": "execute_result"
    }
   ],
   "source": [
    "query = '''\n",
    "\n",
    "SELECT EXTRACT(WEEK FROM CAST(creation_date AS DATE)) AS week,\n",
    "MAX(creation_date)\n",
    "FROM stackoverflow.posts\n",
    "WHERE creation_date BETWEEN '2008-10-01' AND '2008-11-01' AND user_id = \n",
    "    (SELECT user_id\n",
    "    FROM stackoverflow.posts\n",
    "    GROUP BY user_id\n",
    "    ORDER BY COUNT(id) DESC\n",
    "    limit 1)\n",
    "GROUP BY week\n",
    "\n",
    "'''\n",
    "df9 = pd.read_sql_query(query, con=engine) \n",
    "df9\n"
   ]
  }
 ],
 "metadata": {
  "ExecuteTimeLog": [
   {
    "duration": 51,
    "start_time": "2022-06-27T11:35:30.342Z"
   },
   {
    "duration": 905,
    "start_time": "2022-06-27T11:35:39.590Z"
   },
   {
    "duration": 4,
    "start_time": "2022-06-27T11:35:40.497Z"
   },
   {
    "duration": 20492,
    "start_time": "2022-06-27T11:35:40.503Z"
   },
   {
    "duration": 58,
    "start_time": "2022-06-27T11:36:00.997Z"
   },
   {
    "duration": 166,
    "start_time": "2022-06-27T11:36:01.056Z"
   },
   {
    "duration": 0,
    "start_time": "2022-06-27T11:36:01.409Z"
   },
   {
    "duration": 0,
    "start_time": "2022-06-27T11:36:01.411Z"
   },
   {
    "duration": 0,
    "start_time": "2022-06-27T11:36:01.412Z"
   },
   {
    "duration": 0,
    "start_time": "2022-06-27T11:36:01.413Z"
   },
   {
    "duration": 0,
    "start_time": "2022-06-27T11:36:01.414Z"
   },
   {
    "duration": 0,
    "start_time": "2022-06-27T11:36:01.416Z"
   },
   {
    "duration": 0,
    "start_time": "2022-06-27T11:36:01.417Z"
   },
   {
    "duration": 0,
    "start_time": "2022-06-27T11:36:01.418Z"
   },
   {
    "duration": 0,
    "start_time": "2022-06-27T11:36:01.419Z"
   },
   {
    "duration": 0,
    "start_time": "2022-06-27T11:36:01.420Z"
   },
   {
    "duration": 0,
    "start_time": "2022-06-27T11:36:01.422Z"
   },
   {
    "duration": 0,
    "start_time": "2022-06-27T11:36:01.423Z"
   },
   {
    "duration": 0,
    "start_time": "2022-06-27T11:36:01.424Z"
   },
   {
    "duration": 0,
    "start_time": "2022-06-27T11:36:01.425Z"
   },
   {
    "duration": 0,
    "start_time": "2022-06-27T11:36:01.426Z"
   },
   {
    "duration": 0,
    "start_time": "2022-06-27T11:36:01.427Z"
   },
   {
    "duration": 0,
    "start_time": "2022-06-27T11:36:01.428Z"
   },
   {
    "duration": 116,
    "start_time": "2022-06-27T11:36:09.840Z"
   },
   {
    "duration": 134,
    "start_time": "2022-06-27T11:36:36.322Z"
   },
   {
    "duration": 126,
    "start_time": "2022-06-27T11:36:56.044Z"
   },
   {
    "duration": 8,
    "start_time": "2022-06-27T11:38:13.470Z"
   },
   {
    "duration": 186,
    "start_time": "2022-06-27T11:40:44.002Z"
   },
   {
    "duration": 117,
    "start_time": "2022-06-27T12:01:35.077Z"
   },
   {
    "duration": 143,
    "start_time": "2022-06-27T12:02:12.216Z"
   },
   {
    "duration": 5,
    "start_time": "2022-06-27T12:03:46.455Z"
   },
   {
    "duration": 9,
    "start_time": "2022-06-27T12:07:57.575Z"
   },
   {
    "duration": 88,
    "start_time": "2022-06-27T12:15:19.062Z"
   },
   {
    "duration": 22,
    "start_time": "2022-06-27T12:24:16.369Z"
   },
   {
    "duration": 58,
    "start_time": "2022-06-27T12:26:30.657Z"
   },
   {
    "duration": 117,
    "start_time": "2022-06-27T12:29:18.597Z"
   },
   {
    "duration": 106,
    "start_time": "2022-06-27T12:29:39.217Z"
   },
   {
    "duration": 1135,
    "start_time": "2022-06-27T12:30:08.878Z"
   },
   {
    "duration": 123,
    "start_time": "2022-06-27T12:30:51.196Z"
   },
   {
    "duration": 118,
    "start_time": "2022-06-27T12:31:01.405Z"
   },
   {
    "duration": 124,
    "start_time": "2022-06-27T12:31:57.816Z"
   },
   {
    "duration": 1194,
    "start_time": "2022-06-27T12:33:09.421Z"
   },
   {
    "duration": 3980,
    "start_time": "2022-06-27T12:34:45.679Z"
   },
   {
    "duration": 1162,
    "start_time": "2022-06-27T12:35:03.793Z"
   },
   {
    "duration": 1126,
    "start_time": "2022-06-27T12:36:11.794Z"
   },
   {
    "duration": 1119,
    "start_time": "2022-06-27T12:36:38.477Z"
   },
   {
    "duration": 145,
    "start_time": "2022-06-27T12:37:19.423Z"
   },
   {
    "duration": 1140,
    "start_time": "2022-06-27T12:37:35.949Z"
   },
   {
    "duration": 1032,
    "start_time": "2022-06-27T12:38:37.726Z"
   },
   {
    "duration": 1022,
    "start_time": "2022-06-27T12:39:11.644Z"
   },
   {
    "duration": 49,
    "start_time": "2022-06-27T19:26:44.944Z"
   },
   {
    "duration": 888,
    "start_time": "2022-06-27T19:26:47.686Z"
   },
   {
    "duration": 4,
    "start_time": "2022-06-27T19:26:48.576Z"
   },
   {
    "duration": 5333,
    "start_time": "2022-06-27T19:26:48.582Z"
   },
   {
    "duration": 195,
    "start_time": "2022-06-27T19:26:53.917Z"
   },
   {
    "duration": 16,
    "start_time": "2022-06-27T19:26:54.116Z"
   },
   {
    "duration": 150,
    "start_time": "2022-06-27T19:26:54.134Z"
   },
   {
    "duration": 176,
    "start_time": "2022-06-27T19:26:54.286Z"
   },
   {
    "duration": 4,
    "start_time": "2022-06-27T19:26:54.464Z"
   },
   {
    "duration": 17,
    "start_time": "2022-06-27T19:26:54.470Z"
   },
   {
    "duration": 159,
    "start_time": "2022-06-27T19:26:54.489Z"
   },
   {
    "duration": 0,
    "start_time": "2022-06-27T19:26:54.650Z"
   },
   {
    "duration": 0,
    "start_time": "2022-06-27T19:26:54.652Z"
   },
   {
    "duration": 0,
    "start_time": "2022-06-27T19:26:54.654Z"
   },
   {
    "duration": 0,
    "start_time": "2022-06-27T19:26:54.655Z"
   },
   {
    "duration": 0,
    "start_time": "2022-06-27T19:26:54.657Z"
   },
   {
    "duration": 0,
    "start_time": "2022-06-27T19:26:54.659Z"
   },
   {
    "duration": 0,
    "start_time": "2022-06-27T19:26:54.660Z"
   },
   {
    "duration": 0,
    "start_time": "2022-06-27T19:26:54.661Z"
   },
   {
    "duration": 0,
    "start_time": "2022-06-27T19:26:54.663Z"
   },
   {
    "duration": 0,
    "start_time": "2022-06-27T19:26:54.664Z"
   },
   {
    "duration": 0,
    "start_time": "2022-06-27T19:26:54.665Z"
   },
   {
    "duration": 0,
    "start_time": "2022-06-27T19:26:54.667Z"
   },
   {
    "duration": 140,
    "start_time": "2022-06-27T19:27:05.693Z"
   },
   {
    "duration": 108,
    "start_time": "2022-06-27T19:28:20.933Z"
   },
   {
    "duration": 138,
    "start_time": "2022-06-27T19:28:24.066Z"
   },
   {
    "duration": 140,
    "start_time": "2022-06-27T19:28:40.188Z"
   },
   {
    "duration": 140,
    "start_time": "2022-06-27T19:29:15.325Z"
   },
   {
    "duration": 145,
    "start_time": "2022-06-27T19:29:52.993Z"
   },
   {
    "duration": 147,
    "start_time": "2022-06-27T19:30:04.933Z"
   },
   {
    "duration": 122,
    "start_time": "2022-06-27T19:30:23.462Z"
   },
   {
    "duration": 142,
    "start_time": "2022-06-27T19:30:50.382Z"
   },
   {
    "duration": 1196,
    "start_time": "2022-06-27T19:35:10.460Z"
   },
   {
    "duration": 1097,
    "start_time": "2022-06-27T19:35:38.903Z"
   },
   {
    "duration": 1437,
    "start_time": "2022-06-27T19:35:51.175Z"
   },
   {
    "duration": 1071,
    "start_time": "2022-06-27T19:35:59.502Z"
   },
   {
    "duration": 1143,
    "start_time": "2022-06-27T19:36:49.873Z"
   },
   {
    "duration": 102,
    "start_time": "2022-06-27T19:40:50.826Z"
   },
   {
    "duration": 112,
    "start_time": "2022-06-27T19:41:26.647Z"
   },
   {
    "duration": 141,
    "start_time": "2022-06-27T19:41:44.411Z"
   },
   {
    "duration": 103,
    "start_time": "2022-06-27T19:41:53.064Z"
   },
   {
    "duration": 60,
    "start_time": "2022-06-27T19:42:25.688Z"
   },
   {
    "duration": 61,
    "start_time": "2022-06-27T19:43:30.188Z"
   },
   {
    "duration": 110,
    "start_time": "2022-06-27T19:45:01.565Z"
   },
   {
    "duration": 59,
    "start_time": "2022-06-27T19:45:15.068Z"
   },
   {
    "duration": 107,
    "start_time": "2022-06-27T19:45:55.464Z"
   },
   {
    "duration": 112,
    "start_time": "2022-06-27T19:46:08.967Z"
   },
   {
    "duration": 74,
    "start_time": "2022-06-27T19:46:19.148Z"
   },
   {
    "duration": 132,
    "start_time": "2022-06-27T19:46:44.920Z"
   },
   {
    "duration": 103,
    "start_time": "2022-06-27T19:48:17.640Z"
   },
   {
    "duration": 177,
    "start_time": "2022-06-27T19:49:40.412Z"
   },
   {
    "duration": 90,
    "start_time": "2022-06-27T19:51:34.260Z"
   },
   {
    "duration": 97,
    "start_time": "2022-06-27T19:51:48.902Z"
   },
   {
    "duration": 61,
    "start_time": "2022-06-27T19:53:09.412Z"
   },
   {
    "duration": 100,
    "start_time": "2022-06-27T19:57:18.282Z"
   },
   {
    "duration": 64,
    "start_time": "2022-06-27T19:57:36.438Z"
   },
   {
    "duration": 94,
    "start_time": "2022-06-27T19:58:43.229Z"
   },
   {
    "duration": 106,
    "start_time": "2022-06-27T19:59:03.108Z"
   },
   {
    "duration": 88,
    "start_time": "2022-06-27T19:59:10.541Z"
   },
   {
    "duration": 66,
    "start_time": "2022-06-27T19:59:29.763Z"
   },
   {
    "duration": 111,
    "start_time": "2022-06-27T20:01:04.768Z"
   },
   {
    "duration": 107,
    "start_time": "2022-06-27T20:01:52.427Z"
   },
   {
    "duration": 96,
    "start_time": "2022-06-27T20:02:03.388Z"
   },
   {
    "duration": 100,
    "start_time": "2022-06-27T20:02:17.814Z"
   },
   {
    "duration": 60,
    "start_time": "2022-06-27T20:02:32.137Z"
   },
   {
    "duration": 101,
    "start_time": "2022-06-27T20:03:08.799Z"
   },
   {
    "duration": 108,
    "start_time": "2022-06-27T20:03:15.710Z"
   },
   {
    "duration": 105,
    "start_time": "2022-06-27T20:03:24.897Z"
   },
   {
    "duration": 64,
    "start_time": "2022-06-27T20:03:33.338Z"
   },
   {
    "duration": 98,
    "start_time": "2022-06-27T20:03:42.960Z"
   },
   {
    "duration": 100,
    "start_time": "2022-06-27T20:03:47.423Z"
   },
   {
    "duration": 91,
    "start_time": "2022-06-27T20:04:02.331Z"
   },
   {
    "duration": 95,
    "start_time": "2022-06-27T20:04:06.124Z"
   },
   {
    "duration": 108,
    "start_time": "2022-06-27T20:04:20.209Z"
   },
   {
    "duration": 62,
    "start_time": "2022-06-27T20:04:27.953Z"
   },
   {
    "duration": 3633,
    "start_time": "2022-06-28T10:36:57.006Z"
   },
   {
    "duration": 4,
    "start_time": "2022-06-28T10:37:00.641Z"
   },
   {
    "duration": 6051,
    "start_time": "2022-06-28T10:37:00.647Z"
   },
   {
    "duration": 212,
    "start_time": "2022-06-28T10:37:06.700Z"
   },
   {
    "duration": 18,
    "start_time": "2022-06-28T10:37:06.914Z"
   },
   {
    "duration": 245,
    "start_time": "2022-06-28T10:37:06.934Z"
   },
   {
    "duration": 191,
    "start_time": "2022-06-28T10:37:07.181Z"
   },
   {
    "duration": 6,
    "start_time": "2022-06-28T10:37:07.374Z"
   },
   {
    "duration": 24,
    "start_time": "2022-06-28T10:37:07.382Z"
   },
   {
    "duration": 161,
    "start_time": "2022-06-28T10:37:07.408Z"
   },
   {
    "duration": 3,
    "start_time": "2022-06-28T10:37:07.570Z"
   },
   {
    "duration": 1553,
    "start_time": "2022-06-28T10:37:07.576Z"
   },
   {
    "duration": 87,
    "start_time": "2022-06-28T10:37:09.131Z"
   },
   {
    "duration": 2,
    "start_time": "2022-06-28T10:37:09.222Z"
   },
   {
    "duration": 13,
    "start_time": "2022-06-28T10:37:09.226Z"
   },
   {
    "duration": 8,
    "start_time": "2022-06-28T10:37:09.241Z"
   },
   {
    "duration": 11,
    "start_time": "2022-06-28T10:37:09.250Z"
   },
   {
    "duration": 10,
    "start_time": "2022-06-28T10:37:09.263Z"
   },
   {
    "duration": 5,
    "start_time": "2022-06-28T10:37:09.275Z"
   },
   {
    "duration": 29,
    "start_time": "2022-06-28T10:37:09.281Z"
   },
   {
    "duration": 14,
    "start_time": "2022-06-28T10:37:09.312Z"
   },
   {
    "duration": 12,
    "start_time": "2022-06-28T10:37:09.327Z"
   },
   {
    "duration": 65,
    "start_time": "2022-06-28T10:49:09.607Z"
   },
   {
    "duration": 203,
    "start_time": "2022-06-28T10:52:46.116Z"
   },
   {
    "duration": 108,
    "start_time": "2022-06-28T10:53:15.671Z"
   },
   {
    "duration": 97,
    "start_time": "2022-06-28T10:56:47.660Z"
   },
   {
    "duration": 100,
    "start_time": "2022-06-28T10:57:50.208Z"
   },
   {
    "duration": 98,
    "start_time": "2022-06-28T10:58:22.290Z"
   },
   {
    "duration": 105,
    "start_time": "2022-06-28T10:58:42.883Z"
   },
   {
    "duration": 89,
    "start_time": "2022-06-28T10:59:02.795Z"
   },
   {
    "duration": 95,
    "start_time": "2022-06-28T10:59:56.768Z"
   },
   {
    "duration": 8,
    "start_time": "2022-06-29T10:22:57.603Z"
   },
   {
    "duration": 899,
    "start_time": "2022-06-29T10:23:11.640Z"
   },
   {
    "duration": 3,
    "start_time": "2022-06-29T10:23:12.542Z"
   },
   {
    "duration": 6776,
    "start_time": "2022-06-29T10:23:12.547Z"
   },
   {
    "duration": 251,
    "start_time": "2022-06-29T10:23:19.325Z"
   },
   {
    "duration": 15,
    "start_time": "2022-06-29T10:23:19.578Z"
   },
   {
    "duration": 160,
    "start_time": "2022-06-29T10:23:19.594Z"
   },
   {
    "duration": 170,
    "start_time": "2022-06-29T10:23:19.757Z"
   },
   {
    "duration": 5,
    "start_time": "2022-06-29T10:23:19.938Z"
   },
   {
    "duration": 12,
    "start_time": "2022-06-29T10:23:19.945Z"
   },
   {
    "duration": 147,
    "start_time": "2022-06-29T10:23:19.958Z"
   },
   {
    "duration": 1180,
    "start_time": "2022-06-29T10:23:20.106Z"
   },
   {
    "duration": 91,
    "start_time": "2022-06-29T10:23:21.288Z"
   },
   {
    "duration": 214,
    "start_time": "2022-06-29T10:23:21.381Z"
   },
   {
    "duration": 0,
    "start_time": "2022-06-29T10:23:21.598Z"
   },
   {
    "duration": 0,
    "start_time": "2022-06-29T10:23:21.599Z"
   },
   {
    "duration": 0,
    "start_time": "2022-06-29T10:23:21.600Z"
   },
   {
    "duration": 0,
    "start_time": "2022-06-29T10:23:21.601Z"
   },
   {
    "duration": 0,
    "start_time": "2022-06-29T10:23:21.602Z"
   },
   {
    "duration": 0,
    "start_time": "2022-06-29T10:23:21.603Z"
   },
   {
    "duration": 0,
    "start_time": "2022-06-29T10:23:21.604Z"
   },
   {
    "duration": 0,
    "start_time": "2022-06-29T10:23:21.605Z"
   },
   {
    "duration": 117,
    "start_time": "2022-06-29T10:23:35.012Z"
   },
   {
    "duration": 106,
    "start_time": "2022-06-29T10:23:52.515Z"
   },
   {
    "duration": 117,
    "start_time": "2022-06-29T10:24:02.641Z"
   },
   {
    "duration": 99,
    "start_time": "2022-06-29T10:24:13.310Z"
   },
   {
    "duration": 58,
    "start_time": "2022-06-29T10:24:21.041Z"
   },
   {
    "duration": 106,
    "start_time": "2022-06-29T10:24:41.970Z"
   }
  ],
  "colab": {
   "name": "AdvansedSQLProjectTemplate.ipynb",
   "provenance": []
  },
  "kernelspec": {
   "display_name": "Python 3 (ipykernel)",
   "language": "python",
   "name": "python3"
  },
  "language_info": {
   "codemirror_mode": {
    "name": "ipython",
    "version": 3
   },
   "file_extension": ".py",
   "mimetype": "text/x-python",
   "name": "python",
   "nbconvert_exporter": "python",
   "pygments_lexer": "ipython3",
   "version": "3.9.7"
  },
  "toc": {
   "base_numbering": 1,
   "nav_menu": {},
   "number_sections": true,
   "sideBar": true,
   "skip_h1_title": true,
   "title_cell": "Table of Contents",
   "title_sidebar": "Contents",
   "toc_cell": false,
   "toc_position": {},
   "toc_section_display": true,
   "toc_window_display": false
  }
 },
 "nbformat": 4,
 "nbformat_minor": 1
}
