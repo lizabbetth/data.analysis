{
 "cells": [
  {
   "cell_type": "markdown",
   "metadata": {},
   "source": [
    "# Borrower Reliability Study\n",
    "\n",
    "The customer is the credit department of the bank. It is necessary to find out whether the marital status and the number of children of the client affect the fact of repaying the loan on time. Input data from the bank - statistics on the solvency of customers.\n",
    "\n",
    "The results of the study will be taken into account when building a **credit scoring** model - a special system that assesses the ability of a potential borrower to repay a loan to a bank.\n",
    "\n",
    "According to the data documentation:\n",
    "\n",
    "* `children` - the number of children in the family;\n",
    "* `days_employed` - total work experience in days;\n",
    "* `dob_years` — client's age in years;\n",
    "* `education` - the level of education of the client;\n",
    "* `education_id` — education level identifier;\n",
    "* `family_status` - marital status;\n",
    "* `family_status_id` - marital status identifier;\n",
    "* `gender` — gender of the client;\n",
    "* `income_type` - employment type;\n",
    "* `debt` - whether he had a debt to repay loans;\n",
    "* `total_income` - monthly income;\n",
    "* `purpose` - the purpose of the loan."
   ]
  },
  {
   "cell_type": "markdown",
   "metadata": {},
   "source": [
    "## Step 1. Explore the data"
   ]
  },
  {
   "cell_type": "code",
   "execution_count": 1,
   "metadata": {
    "scrolled": true
   },
   "outputs": [
    {
     "data": {
      "text/html": [
       "<div>\n",
       "<style scoped>\n",
       "    .dataframe tbody tr th:only-of-type {\n",
       "        vertical-align: middle;\n",
       "    }\n",
       "\n",
       "    .dataframe tbody tr th {\n",
       "        vertical-align: top;\n",
       "    }\n",
       "\n",
       "    .dataframe thead th {\n",
       "        text-align: right;\n",
       "    }\n",
       "</style>\n",
       "<table border=\"1\" class=\"dataframe\">\n",
       "  <thead>\n",
       "    <tr style=\"text-align: right;\">\n",
       "      <th></th>\n",
       "      <th>children</th>\n",
       "      <th>days_employed</th>\n",
       "      <th>dob_years</th>\n",
       "      <th>education</th>\n",
       "      <th>education_id</th>\n",
       "      <th>family_status</th>\n",
       "      <th>family_status_id</th>\n",
       "      <th>gender</th>\n",
       "      <th>income_type</th>\n",
       "      <th>debt</th>\n",
       "      <th>total_income</th>\n",
       "      <th>purpose</th>\n",
       "    </tr>\n",
       "  </thead>\n",
       "  <tbody>\n",
       "    <tr>\n",
       "      <th>0</th>\n",
       "      <td>1</td>\n",
       "      <td>-8437.673028</td>\n",
       "      <td>42</td>\n",
       "      <td>высшее</td>\n",
       "      <td>0</td>\n",
       "      <td>женат / замужем</td>\n",
       "      <td>0</td>\n",
       "      <td>F</td>\n",
       "      <td>сотрудник</td>\n",
       "      <td>0</td>\n",
       "      <td>253875.639453</td>\n",
       "      <td>покупка жилья</td>\n",
       "    </tr>\n",
       "    <tr>\n",
       "      <th>1</th>\n",
       "      <td>1</td>\n",
       "      <td>-4024.803754</td>\n",
       "      <td>36</td>\n",
       "      <td>среднее</td>\n",
       "      <td>1</td>\n",
       "      <td>женат / замужем</td>\n",
       "      <td>0</td>\n",
       "      <td>F</td>\n",
       "      <td>сотрудник</td>\n",
       "      <td>0</td>\n",
       "      <td>112080.014102</td>\n",
       "      <td>приобретение автомобиля</td>\n",
       "    </tr>\n",
       "    <tr>\n",
       "      <th>2</th>\n",
       "      <td>0</td>\n",
       "      <td>-5623.422610</td>\n",
       "      <td>33</td>\n",
       "      <td>Среднее</td>\n",
       "      <td>1</td>\n",
       "      <td>женат / замужем</td>\n",
       "      <td>0</td>\n",
       "      <td>M</td>\n",
       "      <td>сотрудник</td>\n",
       "      <td>0</td>\n",
       "      <td>145885.952297</td>\n",
       "      <td>покупка жилья</td>\n",
       "    </tr>\n",
       "    <tr>\n",
       "      <th>3</th>\n",
       "      <td>3</td>\n",
       "      <td>-4124.747207</td>\n",
       "      <td>32</td>\n",
       "      <td>среднее</td>\n",
       "      <td>1</td>\n",
       "      <td>женат / замужем</td>\n",
       "      <td>0</td>\n",
       "      <td>M</td>\n",
       "      <td>сотрудник</td>\n",
       "      <td>0</td>\n",
       "      <td>267628.550329</td>\n",
       "      <td>дополнительное образование</td>\n",
       "    </tr>\n",
       "    <tr>\n",
       "      <th>4</th>\n",
       "      <td>0</td>\n",
       "      <td>340266.072047</td>\n",
       "      <td>53</td>\n",
       "      <td>среднее</td>\n",
       "      <td>1</td>\n",
       "      <td>гражданский брак</td>\n",
       "      <td>1</td>\n",
       "      <td>F</td>\n",
       "      <td>пенсионер</td>\n",
       "      <td>0</td>\n",
       "      <td>158616.077870</td>\n",
       "      <td>сыграть свадьбу</td>\n",
       "    </tr>\n",
       "  </tbody>\n",
       "</table>\n",
       "</div>"
      ],
      "text/plain": [
       "   children  days_employed  dob_years education  education_id  \\\n",
       "0         1   -8437.673028         42    высшее             0   \n",
       "1         1   -4024.803754         36   среднее             1   \n",
       "2         0   -5623.422610         33   Среднее             1   \n",
       "3         3   -4124.747207         32   среднее             1   \n",
       "4         0  340266.072047         53   среднее             1   \n",
       "\n",
       "      family_status  family_status_id gender income_type  debt   total_income  \\\n",
       "0   женат / замужем                 0      F   сотрудник     0  253875.639453   \n",
       "1   женат / замужем                 0      F   сотрудник     0  112080.014102   \n",
       "2   женат / замужем                 0      M   сотрудник     0  145885.952297   \n",
       "3   женат / замужем                 0      M   сотрудник     0  267628.550329   \n",
       "4  гражданский брак                 1      F   пенсионер     0  158616.077870   \n",
       "\n",
       "                      purpose  \n",
       "0               покупка жилья  \n",
       "1     приобретение автомобиля  \n",
       "2               покупка жилья  \n",
       "3  дополнительное образование  \n",
       "4             сыграть свадьбу  "
      ]
     },
     "execution_count": 1,
     "metadata": {},
     "output_type": "execute_result"
    }
   ],
   "source": [
    "import pandas as pd\n",
    "df = pd.read_csv('/datasets/data.csv')\n",
    "df.head()"
   ]
  },
  {
   "cell_type": "code",
   "execution_count": 2,
   "metadata": {
    "scrolled": false
   },
   "outputs": [
    {
     "name": "stdout",
     "output_type": "stream",
     "text": [
      "<class 'pandas.core.frame.DataFrame'>\n",
      "RangeIndex: 21525 entries, 0 to 21524\n",
      "Data columns (total 12 columns):\n",
      " #   Column            Non-Null Count  Dtype  \n",
      "---  ------            --------------  -----  \n",
      " 0   children          21525 non-null  int64  \n",
      " 1   days_employed     19351 non-null  float64\n",
      " 2   dob_years         21525 non-null  int64  \n",
      " 3   education         21525 non-null  object \n",
      " 4   education_id      21525 non-null  int64  \n",
      " 5   family_status     21525 non-null  object \n",
      " 6   family_status_id  21525 non-null  int64  \n",
      " 7   gender            21525 non-null  object \n",
      " 8   income_type       21525 non-null  object \n",
      " 9   debt              21525 non-null  int64  \n",
      " 10  total_income      19351 non-null  float64\n",
      " 11  purpose           21525 non-null  object \n",
      "dtypes: float64(2), int64(5), object(5)\n",
      "memory usage: 2.0+ MB\n"
     ]
    }
   ],
   "source": [
    "df.info()"
   ]
  },
  {
   "cell_type": "code",
   "execution_count": 3,
   "metadata": {},
   "outputs": [
    {
     "data": {
      "text/html": [
       "<div>\n",
       "<style scoped>\n",
       "    .dataframe tbody tr th:only-of-type {\n",
       "        vertical-align: middle;\n",
       "    }\n",
       "\n",
       "    .dataframe tbody tr th {\n",
       "        vertical-align: top;\n",
       "    }\n",
       "\n",
       "    .dataframe thead th {\n",
       "        text-align: right;\n",
       "    }\n",
       "</style>\n",
       "<table border=\"1\" class=\"dataframe\">\n",
       "  <thead>\n",
       "    <tr style=\"text-align: right;\">\n",
       "      <th></th>\n",
       "      <th>children</th>\n",
       "      <th>days_employed</th>\n",
       "      <th>dob_years</th>\n",
       "      <th>education_id</th>\n",
       "      <th>family_status_id</th>\n",
       "      <th>debt</th>\n",
       "      <th>total_income</th>\n",
       "    </tr>\n",
       "  </thead>\n",
       "  <tbody>\n",
       "    <tr>\n",
       "      <th>count</th>\n",
       "      <td>21525.000000</td>\n",
       "      <td>19351.000000</td>\n",
       "      <td>21525.000000</td>\n",
       "      <td>21525.000000</td>\n",
       "      <td>21525.000000</td>\n",
       "      <td>21525.000000</td>\n",
       "      <td>1.935100e+04</td>\n",
       "    </tr>\n",
       "    <tr>\n",
       "      <th>mean</th>\n",
       "      <td>0.538908</td>\n",
       "      <td>63046.497661</td>\n",
       "      <td>43.293380</td>\n",
       "      <td>0.817236</td>\n",
       "      <td>0.972544</td>\n",
       "      <td>0.080883</td>\n",
       "      <td>1.674223e+05</td>\n",
       "    </tr>\n",
       "    <tr>\n",
       "      <th>std</th>\n",
       "      <td>1.381587</td>\n",
       "      <td>140827.311974</td>\n",
       "      <td>12.574584</td>\n",
       "      <td>0.548138</td>\n",
       "      <td>1.420324</td>\n",
       "      <td>0.272661</td>\n",
       "      <td>1.029716e+05</td>\n",
       "    </tr>\n",
       "    <tr>\n",
       "      <th>min</th>\n",
       "      <td>-1.000000</td>\n",
       "      <td>-18388.949901</td>\n",
       "      <td>0.000000</td>\n",
       "      <td>0.000000</td>\n",
       "      <td>0.000000</td>\n",
       "      <td>0.000000</td>\n",
       "      <td>2.066726e+04</td>\n",
       "    </tr>\n",
       "    <tr>\n",
       "      <th>25%</th>\n",
       "      <td>0.000000</td>\n",
       "      <td>-2747.423625</td>\n",
       "      <td>33.000000</td>\n",
       "      <td>1.000000</td>\n",
       "      <td>0.000000</td>\n",
       "      <td>0.000000</td>\n",
       "      <td>1.030532e+05</td>\n",
       "    </tr>\n",
       "    <tr>\n",
       "      <th>50%</th>\n",
       "      <td>0.000000</td>\n",
       "      <td>-1203.369529</td>\n",
       "      <td>42.000000</td>\n",
       "      <td>1.000000</td>\n",
       "      <td>0.000000</td>\n",
       "      <td>0.000000</td>\n",
       "      <td>1.450179e+05</td>\n",
       "    </tr>\n",
       "    <tr>\n",
       "      <th>75%</th>\n",
       "      <td>1.000000</td>\n",
       "      <td>-291.095954</td>\n",
       "      <td>53.000000</td>\n",
       "      <td>1.000000</td>\n",
       "      <td>1.000000</td>\n",
       "      <td>0.000000</td>\n",
       "      <td>2.034351e+05</td>\n",
       "    </tr>\n",
       "    <tr>\n",
       "      <th>max</th>\n",
       "      <td>20.000000</td>\n",
       "      <td>401755.400475</td>\n",
       "      <td>75.000000</td>\n",
       "      <td>4.000000</td>\n",
       "      <td>4.000000</td>\n",
       "      <td>1.000000</td>\n",
       "      <td>2.265604e+06</td>\n",
       "    </tr>\n",
       "  </tbody>\n",
       "</table>\n",
       "</div>"
      ],
      "text/plain": [
       "           children  days_employed     dob_years  education_id  \\\n",
       "count  21525.000000   19351.000000  21525.000000  21525.000000   \n",
       "mean       0.538908   63046.497661     43.293380      0.817236   \n",
       "std        1.381587  140827.311974     12.574584      0.548138   \n",
       "min       -1.000000  -18388.949901      0.000000      0.000000   \n",
       "25%        0.000000   -2747.423625     33.000000      1.000000   \n",
       "50%        0.000000   -1203.369529     42.000000      1.000000   \n",
       "75%        1.000000    -291.095954     53.000000      1.000000   \n",
       "max       20.000000  401755.400475     75.000000      4.000000   \n",
       "\n",
       "       family_status_id          debt  total_income  \n",
       "count      21525.000000  21525.000000  1.935100e+04  \n",
       "mean           0.972544      0.080883  1.674223e+05  \n",
       "std            1.420324      0.272661  1.029716e+05  \n",
       "min            0.000000      0.000000  2.066726e+04  \n",
       "25%            0.000000      0.000000  1.030532e+05  \n",
       "50%            0.000000      0.000000  1.450179e+05  \n",
       "75%            1.000000      0.000000  2.034351e+05  \n",
       "max            4.000000      1.000000  2.265604e+06  "
      ]
     },
     "execution_count": 3,
     "metadata": {},
     "output_type": "execute_result"
    }
   ],
   "source": [
    "df.describe()"
   ]
  },
  {
   "cell_type": "markdown",
   "metadata": {},
   "source": [
    "**Conclusion**\n",
    "\n",
    "The table has 12 columns. Column data types: `int64`, `float64` and `object`.\n",
    "\n",
    "There are also incorrect values in the data:\n",
    "* The number of values in the columns varies, so there are missing values\n",
    "* There are negative and too large values in the `children` and `days_employed` columns\n",
    "* Incorrect case of values in the `education` column\n",
    "* Too many similar purposes for obtaining a loan\n",
    "\n",
    "Each row of the table contains the data of the bank's clients. Some of the columns describe the client and his family: number of children, length of service, age, level of education, marital status, gender, type of employment and monthly income. The other part is related to the client's credit history: whether he had a debt on a loan and the purpose of obtaining a loan.\n",
    "Preliminarily, it can be said that there is enough data to test hypotheses. But there are gaps in the data.\n",
    "\n",
    "To move forward, problems in data have to be fixed. "
   ]
  },
  {
   "cell_type": "markdown",
   "metadata": {},
   "source": [
    "## Step 2. Data preprocessing"
   ]
  },
  {
   "cell_type": "markdown",
   "metadata": {},
   "source": [
    "First, let's calculate how many missing values are in the table."
   ]
  },
  {
   "cell_type": "code",
   "execution_count": 4,
   "metadata": {},
   "outputs": [
    {
     "data": {
      "text/plain": [
       "children               0\n",
       "days_employed       2174\n",
       "dob_years              0\n",
       "education              0\n",
       "education_id           0\n",
       "family_status          0\n",
       "family_status_id       0\n",
       "gender                 0\n",
       "income_type            0\n",
       "debt                   0\n",
       "total_income        2174\n",
       "purpose                0\n",
       "dtype: int64"
      ]
     },
     "execution_count": 4,
     "metadata": {},
     "output_type": "execute_result"
    }
   ],
   "source": [
    "df.isna().sum()"
   ]
  },
  {
   "cell_type": "markdown",
   "metadata": {},
   "source": [
    "**Conclusion**\n",
    "\n",
    "In the data, we omit the values of the total work experience in days and monthly income. Obviously, the monthly income directly depends on the length of service, so the data in the columns is not displayed accordingly.\n",
    "\n",
    "Let us replace the monthly income data with the median value for each type of employment."
   ]
  },
  {
   "cell_type": "code",
   "execution_count": 5,
   "metadata": {},
   "outputs": [
    {
     "name": "stdout",
     "output_type": "stream",
     "text": [
      "142594.39684740017\n",
      "118514.48641164352\n",
      "172357.95096577113\n",
      "150447.9352830068\n"
     ]
    }
   ],
   "source": [
    "employers_types = ['сотрудник', 'пенсионер', 'компаньон', 'госслужащий']\n",
    "for empoloyer_type in employers_types:   \n",
    "    median_income = df.loc[df['income_type'] == empoloyer_type]['total_income'].median()\n",
    "    print(median_income)\n",
    "    df.loc[(df['total_income'].isna()) & (df['income_type'] == empoloyer_type), 'total_income'] = median_income"
   ]
  },
  {
   "cell_type": "code",
   "execution_count": 7,
   "metadata": {},
   "outputs": [
    {
     "name": "stdout",
     "output_type": "stream",
     "text": [
      "<class 'pandas.core.frame.DataFrame'>\n",
      "RangeIndex: 21525 entries, 0 to 21524\n",
      "Data columns (total 12 columns):\n",
      " #   Column            Non-Null Count  Dtype  \n",
      "---  ------            --------------  -----  \n",
      " 0   children          21525 non-null  int64  \n",
      " 1   days_employed     19351 non-null  float64\n",
      " 2   dob_years         21525 non-null  int64  \n",
      " 3   education         21525 non-null  object \n",
      " 4   education_id      21525 non-null  int64  \n",
      " 5   family_status     21525 non-null  object \n",
      " 6   family_status_id  21525 non-null  int64  \n",
      " 7   gender            21525 non-null  object \n",
      " 8   income_type       21525 non-null  object \n",
      " 9   debt              21525 non-null  int64  \n",
      " 10  total_income      21524 non-null  float64\n",
      " 11  purpose           21525 non-null  object \n",
      "dtypes: float64(2), int64(5), object(5)\n",
      "memory usage: 2.0+ MB\n"
     ]
    }
   ],
   "source": [
    "df.info()"
   ]
  },
  {
   "cell_type": "markdown",
   "metadata": {},
   "source": [
    "There is one missing value in the `total_income` column, let's find it."
   ]
  },
  {
   "cell_type": "code",
   "execution_count": 8,
   "metadata": {
    "scrolled": true
   },
   "outputs": [
    {
     "data": {
      "text/html": [
       "<div>\n",
       "<style scoped>\n",
       "    .dataframe tbody tr th:only-of-type {\n",
       "        vertical-align: middle;\n",
       "    }\n",
       "\n",
       "    .dataframe tbody tr th {\n",
       "        vertical-align: top;\n",
       "    }\n",
       "\n",
       "    .dataframe thead th {\n",
       "        text-align: right;\n",
       "    }\n",
       "</style>\n",
       "<table border=\"1\" class=\"dataframe\">\n",
       "  <thead>\n",
       "    <tr style=\"text-align: right;\">\n",
       "      <th></th>\n",
       "      <th>children</th>\n",
       "      <th>days_employed</th>\n",
       "      <th>dob_years</th>\n",
       "      <th>education</th>\n",
       "      <th>education_id</th>\n",
       "      <th>family_status</th>\n",
       "      <th>family_status_id</th>\n",
       "      <th>gender</th>\n",
       "      <th>income_type</th>\n",
       "      <th>debt</th>\n",
       "      <th>total_income</th>\n",
       "      <th>purpose</th>\n",
       "    </tr>\n",
       "  </thead>\n",
       "  <tbody>\n",
       "    <tr>\n",
       "      <th>5936</th>\n",
       "      <td>0</td>\n",
       "      <td>NaN</td>\n",
       "      <td>58</td>\n",
       "      <td>высшее</td>\n",
       "      <td>0</td>\n",
       "      <td>женат / замужем</td>\n",
       "      <td>0</td>\n",
       "      <td>M</td>\n",
       "      <td>предприниматель</td>\n",
       "      <td>0</td>\n",
       "      <td>NaN</td>\n",
       "      <td>покупка жилой недвижимости</td>\n",
       "    </tr>\n",
       "  </tbody>\n",
       "</table>\n",
       "</div>"
      ],
      "text/plain": [
       "      children  days_employed  dob_years education  education_id  \\\n",
       "5936         0            NaN         58    высшее             0   \n",
       "\n",
       "        family_status  family_status_id gender      income_type  debt  \\\n",
       "5936  женат / замужем                 0      M  предприниматель     0   \n",
       "\n",
       "      total_income                     purpose  \n",
       "5936           NaN  покупка жилой недвижимости  "
      ]
     },
     "execution_count": 8,
     "metadata": {},
     "output_type": "execute_result"
    }
   ],
   "source": [
    "df[df['total_income'].isna()]"
   ]
  },
  {
   "cell_type": "code",
   "execution_count": 9,
   "metadata": {
    "scrolled": true
   },
   "outputs": [
    {
     "data": {
      "text/html": [
       "<div>\n",
       "<style scoped>\n",
       "    .dataframe tbody tr th:only-of-type {\n",
       "        vertical-align: middle;\n",
       "    }\n",
       "\n",
       "    .dataframe tbody tr th {\n",
       "        vertical-align: top;\n",
       "    }\n",
       "\n",
       "    .dataframe thead th {\n",
       "        text-align: right;\n",
       "    }\n",
       "</style>\n",
       "<table border=\"1\" class=\"dataframe\">\n",
       "  <thead>\n",
       "    <tr style=\"text-align: right;\">\n",
       "      <th></th>\n",
       "      <th>children</th>\n",
       "      <th>days_employed</th>\n",
       "      <th>dob_years</th>\n",
       "      <th>education</th>\n",
       "      <th>education_id</th>\n",
       "      <th>family_status</th>\n",
       "      <th>family_status_id</th>\n",
       "      <th>gender</th>\n",
       "      <th>income_type</th>\n",
       "      <th>debt</th>\n",
       "      <th>total_income</th>\n",
       "      <th>purpose</th>\n",
       "    </tr>\n",
       "  </thead>\n",
       "  <tbody>\n",
       "    <tr>\n",
       "      <th>5936</th>\n",
       "      <td>0</td>\n",
       "      <td>NaN</td>\n",
       "      <td>58</td>\n",
       "      <td>высшее</td>\n",
       "      <td>0</td>\n",
       "      <td>женат / замужем</td>\n",
       "      <td>0</td>\n",
       "      <td>M</td>\n",
       "      <td>предприниматель</td>\n",
       "      <td>0</td>\n",
       "      <td>NaN</td>\n",
       "      <td>покупка жилой недвижимости</td>\n",
       "    </tr>\n",
       "    <tr>\n",
       "      <th>18697</th>\n",
       "      <td>0</td>\n",
       "      <td>-520.848083</td>\n",
       "      <td>27</td>\n",
       "      <td>высшее</td>\n",
       "      <td>0</td>\n",
       "      <td>гражданский брак</td>\n",
       "      <td>1</td>\n",
       "      <td>F</td>\n",
       "      <td>предприниматель</td>\n",
       "      <td>0</td>\n",
       "      <td>499163.144947</td>\n",
       "      <td>на проведение свадьбы</td>\n",
       "    </tr>\n",
       "  </tbody>\n",
       "</table>\n",
       "</div>"
      ],
      "text/plain": [
       "       children  days_employed  dob_years education  education_id  \\\n",
       "5936          0            NaN         58    высшее             0   \n",
       "18697         0    -520.848083         27    высшее             0   \n",
       "\n",
       "          family_status  family_status_id gender      income_type  debt  \\\n",
       "5936    женат / замужем                 0      M  предприниматель     0   \n",
       "18697  гражданский брак                 1      F  предприниматель     0   \n",
       "\n",
       "        total_income                     purpose  \n",
       "5936             NaN  покупка жилой недвижимости  \n",
       "18697  499163.144947       на проведение свадьбы  "
      ]
     },
     "execution_count": 9,
     "metadata": {},
     "output_type": "execute_result"
    }
   ],
   "source": [
    "# Find all entrepreneurs in the table by the `income_type` column\n",
    "df[df['income_type'] == 'предприниматель']"
   ]
  },
  {
   "cell_type": "markdown",
   "metadata": {},
   "source": [
    "There are only 2 of them, so the median among entrepreneurs cannot be calculated.\n",
    "\n",
    "A client with missing data has no children, as well as another entrepreneur, so this person will not be an indicator for us. From this follows the decision to remove the row from the entire table in order to correctly analyze the data."
   ]
  },
  {
   "cell_type": "code",
   "execution_count": 10,
   "metadata": {
    "scrolled": true
   },
   "outputs": [
    {
     "name": "stdout",
     "output_type": "stream",
     "text": [
      "<class 'pandas.core.frame.DataFrame'>\n",
      "Int64Index: 21524 entries, 0 to 21524\n",
      "Data columns (total 12 columns):\n",
      " #   Column            Non-Null Count  Dtype  \n",
      "---  ------            --------------  -----  \n",
      " 0   children          21524 non-null  int64  \n",
      " 1   days_employed     19351 non-null  float64\n",
      " 2   dob_years         21524 non-null  int64  \n",
      " 3   education         21524 non-null  object \n",
      " 4   education_id      21524 non-null  int64  \n",
      " 5   family_status     21524 non-null  object \n",
      " 6   family_status_id  21524 non-null  int64  \n",
      " 7   gender            21524 non-null  object \n",
      " 8   income_type       21524 non-null  object \n",
      " 9   debt              21524 non-null  int64  \n",
      " 10  total_income      21524 non-null  float64\n",
      " 11  purpose           21524 non-null  object \n",
      "dtypes: float64(2), int64(5), object(5)\n",
      "memory usage: 2.1+ MB\n"
     ]
    }
   ],
   "source": [
    "df = df.dropna(subset=['total_income'])\n",
    "df.info()"
   ]
  },
  {
   "cell_type": "code",
   "execution_count": 11,
   "metadata": {},
   "outputs": [
    {
     "data": {
      "text/html": [
       "<div>\n",
       "<style scoped>\n",
       "    .dataframe tbody tr th:only-of-type {\n",
       "        vertical-align: middle;\n",
       "    }\n",
       "\n",
       "    .dataframe tbody tr th {\n",
       "        vertical-align: top;\n",
       "    }\n",
       "\n",
       "    .dataframe thead th {\n",
       "        text-align: right;\n",
       "    }\n",
       "</style>\n",
       "<table border=\"1\" class=\"dataframe\">\n",
       "  <thead>\n",
       "    <tr style=\"text-align: right;\">\n",
       "      <th></th>\n",
       "      <th>children</th>\n",
       "      <th>days_employed</th>\n",
       "      <th>dob_years</th>\n",
       "      <th>education</th>\n",
       "      <th>education_id</th>\n",
       "      <th>family_status</th>\n",
       "      <th>family_status_id</th>\n",
       "      <th>gender</th>\n",
       "      <th>income_type</th>\n",
       "      <th>debt</th>\n",
       "      <th>total_income</th>\n",
       "      <th>purpose</th>\n",
       "    </tr>\n",
       "  </thead>\n",
       "  <tbody>\n",
       "    <tr>\n",
       "      <td>12</td>\n",
       "      <td>0</td>\n",
       "      <td>NaN</td>\n",
       "      <td>65</td>\n",
       "      <td>среднее</td>\n",
       "      <td>1</td>\n",
       "      <td>гражданский брак</td>\n",
       "      <td>1</td>\n",
       "      <td>M</td>\n",
       "      <td>пенсионер</td>\n",
       "      <td>0</td>\n",
       "      <td>118514.486412</td>\n",
       "      <td>сыграть свадьбу</td>\n",
       "    </tr>\n",
       "    <tr>\n",
       "      <td>26</td>\n",
       "      <td>0</td>\n",
       "      <td>NaN</td>\n",
       "      <td>41</td>\n",
       "      <td>среднее</td>\n",
       "      <td>1</td>\n",
       "      <td>женат / замужем</td>\n",
       "      <td>0</td>\n",
       "      <td>M</td>\n",
       "      <td>госслужащий</td>\n",
       "      <td>0</td>\n",
       "      <td>150447.935283</td>\n",
       "      <td>образование</td>\n",
       "    </tr>\n",
       "    <tr>\n",
       "      <td>29</td>\n",
       "      <td>0</td>\n",
       "      <td>NaN</td>\n",
       "      <td>63</td>\n",
       "      <td>среднее</td>\n",
       "      <td>1</td>\n",
       "      <td>Не женат / не замужем</td>\n",
       "      <td>4</td>\n",
       "      <td>F</td>\n",
       "      <td>пенсионер</td>\n",
       "      <td>0</td>\n",
       "      <td>118514.486412</td>\n",
       "      <td>строительство жилой недвижимости</td>\n",
       "    </tr>\n",
       "    <tr>\n",
       "      <td>41</td>\n",
       "      <td>0</td>\n",
       "      <td>NaN</td>\n",
       "      <td>50</td>\n",
       "      <td>среднее</td>\n",
       "      <td>1</td>\n",
       "      <td>женат / замужем</td>\n",
       "      <td>0</td>\n",
       "      <td>F</td>\n",
       "      <td>госслужащий</td>\n",
       "      <td>0</td>\n",
       "      <td>150447.935283</td>\n",
       "      <td>сделка с подержанным автомобилем</td>\n",
       "    </tr>\n",
       "    <tr>\n",
       "      <td>55</td>\n",
       "      <td>0</td>\n",
       "      <td>NaN</td>\n",
       "      <td>54</td>\n",
       "      <td>среднее</td>\n",
       "      <td>1</td>\n",
       "      <td>гражданский брак</td>\n",
       "      <td>1</td>\n",
       "      <td>F</td>\n",
       "      <td>пенсионер</td>\n",
       "      <td>1</td>\n",
       "      <td>118514.486412</td>\n",
       "      <td>сыграть свадьбу</td>\n",
       "    </tr>\n",
       "    <tr>\n",
       "      <td>...</td>\n",
       "      <td>...</td>\n",
       "      <td>...</td>\n",
       "      <td>...</td>\n",
       "      <td>...</td>\n",
       "      <td>...</td>\n",
       "      <td>...</td>\n",
       "      <td>...</td>\n",
       "      <td>...</td>\n",
       "      <td>...</td>\n",
       "      <td>...</td>\n",
       "      <td>...</td>\n",
       "      <td>...</td>\n",
       "    </tr>\n",
       "    <tr>\n",
       "      <td>21489</td>\n",
       "      <td>2</td>\n",
       "      <td>NaN</td>\n",
       "      <td>47</td>\n",
       "      <td>Среднее</td>\n",
       "      <td>1</td>\n",
       "      <td>женат / замужем</td>\n",
       "      <td>0</td>\n",
       "      <td>M</td>\n",
       "      <td>компаньон</td>\n",
       "      <td>0</td>\n",
       "      <td>172357.950966</td>\n",
       "      <td>сделка с автомобилем</td>\n",
       "    </tr>\n",
       "    <tr>\n",
       "      <td>21495</td>\n",
       "      <td>1</td>\n",
       "      <td>NaN</td>\n",
       "      <td>50</td>\n",
       "      <td>среднее</td>\n",
       "      <td>1</td>\n",
       "      <td>гражданский брак</td>\n",
       "      <td>1</td>\n",
       "      <td>F</td>\n",
       "      <td>сотрудник</td>\n",
       "      <td>0</td>\n",
       "      <td>142594.396847</td>\n",
       "      <td>свадьба</td>\n",
       "    </tr>\n",
       "    <tr>\n",
       "      <td>21497</td>\n",
       "      <td>0</td>\n",
       "      <td>NaN</td>\n",
       "      <td>48</td>\n",
       "      <td>ВЫСШЕЕ</td>\n",
       "      <td>0</td>\n",
       "      <td>женат / замужем</td>\n",
       "      <td>0</td>\n",
       "      <td>F</td>\n",
       "      <td>компаньон</td>\n",
       "      <td>0</td>\n",
       "      <td>172357.950966</td>\n",
       "      <td>строительство недвижимости</td>\n",
       "    </tr>\n",
       "    <tr>\n",
       "      <td>21502</td>\n",
       "      <td>1</td>\n",
       "      <td>NaN</td>\n",
       "      <td>42</td>\n",
       "      <td>среднее</td>\n",
       "      <td>1</td>\n",
       "      <td>женат / замужем</td>\n",
       "      <td>0</td>\n",
       "      <td>F</td>\n",
       "      <td>сотрудник</td>\n",
       "      <td>0</td>\n",
       "      <td>142594.396847</td>\n",
       "      <td>строительство жилой недвижимости</td>\n",
       "    </tr>\n",
       "    <tr>\n",
       "      <td>21510</td>\n",
       "      <td>2</td>\n",
       "      <td>NaN</td>\n",
       "      <td>28</td>\n",
       "      <td>среднее</td>\n",
       "      <td>1</td>\n",
       "      <td>женат / замужем</td>\n",
       "      <td>0</td>\n",
       "      <td>F</td>\n",
       "      <td>сотрудник</td>\n",
       "      <td>0</td>\n",
       "      <td>142594.396847</td>\n",
       "      <td>приобретение автомобиля</td>\n",
       "    </tr>\n",
       "  </tbody>\n",
       "</table>\n",
       "<p>2173 rows × 12 columns</p>\n",
       "</div>"
      ],
      "text/plain": [
       "       children  days_employed  dob_years education  education_id  \\\n",
       "12            0            NaN         65   среднее             1   \n",
       "26            0            NaN         41   среднее             1   \n",
       "29            0            NaN         63   среднее             1   \n",
       "41            0            NaN         50   среднее             1   \n",
       "55            0            NaN         54   среднее             1   \n",
       "...         ...            ...        ...       ...           ...   \n",
       "21489         2            NaN         47   Среднее             1   \n",
       "21495         1            NaN         50   среднее             1   \n",
       "21497         0            NaN         48    ВЫСШЕЕ             0   \n",
       "21502         1            NaN         42   среднее             1   \n",
       "21510         2            NaN         28   среднее             1   \n",
       "\n",
       "               family_status  family_status_id gender  income_type  debt  \\\n",
       "12          гражданский брак                 1      M    пенсионер     0   \n",
       "26           женат / замужем                 0      M  госслужащий     0   \n",
       "29     Не женат / не замужем                 4      F    пенсионер     0   \n",
       "41           женат / замужем                 0      F  госслужащий     0   \n",
       "55          гражданский брак                 1      F    пенсионер     1   \n",
       "...                      ...               ...    ...          ...   ...   \n",
       "21489        женат / замужем                 0      M    компаньон     0   \n",
       "21495       гражданский брак                 1      F    сотрудник     0   \n",
       "21497        женат / замужем                 0      F    компаньон     0   \n",
       "21502        женат / замужем                 0      F    сотрудник     0   \n",
       "21510        женат / замужем                 0      F    сотрудник     0   \n",
       "\n",
       "        total_income                           purpose  \n",
       "12     118514.486412                   сыграть свадьбу  \n",
       "26     150447.935283                       образование  \n",
       "29     118514.486412  строительство жилой недвижимости  \n",
       "41     150447.935283  сделка с подержанным автомобилем  \n",
       "55     118514.486412                   сыграть свадьбу  \n",
       "...              ...                               ...  \n",
       "21489  172357.950966              сделка с автомобилем  \n",
       "21495  142594.396847                           свадьба  \n",
       "21497  172357.950966        строительство недвижимости  \n",
       "21502  142594.396847  строительство жилой недвижимости  \n",
       "21510  142594.396847           приобретение автомобиля  \n",
       "\n",
       "[2173 rows x 12 columns]"
      ]
     },
     "execution_count": 11,
     "metadata": {},
     "output_type": "execute_result"
    }
   ],
   "source": [
    "df[df['days_employed'].isna()]"
   ]
  },
  {
   "cell_type": "markdown",
   "metadata": {},
   "source": [
    "**Conclusion**\n",
    "\n",
    "During the skip processing step, we found gaps in the `total_income` and `days_employed` columns. We filled in the data in the `total_income` column with median data, while the data in `days_employed` could not be filled in."
   ]
  },
  {
   "cell_type": "code",
   "execution_count": 11,
   "metadata": {},
   "outputs": [
    {
     "name": "stdout",
     "output_type": "stream",
     "text": [
      "<class 'pandas.core.frame.DataFrame'>\n",
      "Int64Index: 21524 entries, 0 to 21524\n",
      "Data columns (total 12 columns):\n",
      " #   Column            Non-Null Count  Dtype  \n",
      "---  ------            --------------  -----  \n",
      " 0   children          21524 non-null  int64  \n",
      " 1   days_employed     19351 non-null  float64\n",
      " 2   dob_years         21524 non-null  int64  \n",
      " 3   education         21524 non-null  object \n",
      " 4   education_id      21524 non-null  int64  \n",
      " 5   family_status     21524 non-null  object \n",
      " 6   family_status_id  21524 non-null  int64  \n",
      " 7   gender            21524 non-null  object \n",
      " 8   income_type       21524 non-null  object \n",
      " 9   debt              21524 non-null  int64  \n",
      " 10  total_income      21524 non-null  int64  \n",
      " 11  purpose           21524 non-null  object \n",
      "dtypes: float64(1), int64(6), object(5)\n",
      "memory usage: 2.1+ MB\n"
     ]
    }
   ],
   "source": [
    "df['total_income'] = df['total_income'].astype('int')\n",
    "df.info()"
   ]
  },
  {
   "cell_type": "markdown",
   "metadata": {},
   "source": [
    "### Duplicate Handling"
   ]
  },
  {
   "cell_type": "code",
   "execution_count": 12,
   "metadata": {},
   "outputs": [
    {
     "data": {
      "text/plain": [
       "array(['высшее', 'среднее', 'Среднее', 'СРЕДНЕЕ', 'ВЫСШЕЕ',\n",
       "       'неоконченное высшее', 'начальное', 'Высшее',\n",
       "       'НЕОКОНЧЕННОЕ ВЫСШЕЕ', 'Неоконченное высшее', 'НАЧАЛЬНОЕ',\n",
       "       'Начальное', 'Ученая степень', 'УЧЕНАЯ СТЕПЕНЬ', 'ученая степень'],\n",
       "      dtype=object)"
      ]
     },
     "execution_count": 12,
     "metadata": {},
     "output_type": "execute_result"
    }
   ],
   "source": [
    "df['education'].unique()"
   ]
  },
  {
   "cell_type": "code",
   "execution_count": 13,
   "metadata": {},
   "outputs": [
    {
     "data": {
      "text/plain": [
       "array(['высшее', 'среднее', 'неоконченное высшее', 'начальное',\n",
       "       'ученая степень'], dtype=object)"
      ]
     },
     "execution_count": 13,
     "metadata": {},
     "output_type": "execute_result"
    }
   ],
   "source": [
    "df['education'] = df['education'].str.lower()\n",
    "df['education'].unique()"
   ]
  },
  {
   "cell_type": "code",
   "execution_count": 27,
   "metadata": {},
   "outputs": [
    {
     "data": {
      "text/plain": [
       "array(['покупка жилья', 'приобретение автомобиля',\n",
       "       'дополнительное образование', 'сыграть свадьбу',\n",
       "       'операции с жильем', 'образование', 'на проведение свадьбы',\n",
       "       'покупка жилья для семьи', 'покупка недвижимости',\n",
       "       'покупка коммерческой недвижимости', 'покупка жилой недвижимости',\n",
       "       'строительство собственной недвижимости', 'недвижимость',\n",
       "       'строительство недвижимости', 'на покупку подержанного автомобиля',\n",
       "       'на покупку своего автомобиля',\n",
       "       'операции с коммерческой недвижимостью',\n",
       "       'строительство жилой недвижимости', 'жилье',\n",
       "       'операции со своей недвижимостью', 'автомобили',\n",
       "       'заняться образованием', 'сделка с подержанным автомобилем',\n",
       "       'получение образования', 'автомобиль', 'свадьба',\n",
       "       'получение дополнительного образования', 'покупка своего жилья',\n",
       "       'операции с недвижимостью', 'получение высшего образования',\n",
       "       'свой автомобиль', 'сделка с автомобилем',\n",
       "       'профильное образование', 'высшее образование',\n",
       "       'покупка жилья для сдачи', 'на покупку автомобиля', 'ремонт жилью',\n",
       "       'заняться высшим образованием'], dtype=object)"
      ]
     },
     "execution_count": 27,
     "metadata": {},
     "output_type": "execute_result"
    }
   ],
   "source": [
    "df['purpose'].unique()"
   ]
  },
  {
   "cell_type": "markdown",
   "metadata": {},
   "source": [
    "The `purpose` column contains a large number of similar values, for this we need to bring all the values to similar ones, for this we will write a function in which we lemmatize the data.\n",
    "\n",
    "Let's create a new column called `purpose_general`, which will store 4 unique values: `real estate`, `education`, `wedding`, `wedding`.\n"
   ]
  },
  {
   "cell_type": "code",
   "execution_count": 14,
   "metadata": {
    "scrolled": true
   },
   "outputs": [
    {
     "data": {
      "text/html": [
       "<div>\n",
       "<style scoped>\n",
       "    .dataframe tbody tr th:only-of-type {\n",
       "        vertical-align: middle;\n",
       "    }\n",
       "\n",
       "    .dataframe tbody tr th {\n",
       "        vertical-align: top;\n",
       "    }\n",
       "\n",
       "    .dataframe thead th {\n",
       "        text-align: right;\n",
       "    }\n",
       "</style>\n",
       "<table border=\"1\" class=\"dataframe\">\n",
       "  <thead>\n",
       "    <tr style=\"text-align: right;\">\n",
       "      <th></th>\n",
       "      <th>children</th>\n",
       "      <th>days_employed</th>\n",
       "      <th>dob_years</th>\n",
       "      <th>education</th>\n",
       "      <th>education_id</th>\n",
       "      <th>family_status</th>\n",
       "      <th>family_status_id</th>\n",
       "      <th>gender</th>\n",
       "      <th>income_type</th>\n",
       "      <th>debt</th>\n",
       "      <th>total_income</th>\n",
       "      <th>purpose</th>\n",
       "      <th>purpose_general</th>\n",
       "    </tr>\n",
       "  </thead>\n",
       "  <tbody>\n",
       "    <tr>\n",
       "      <th>0</th>\n",
       "      <td>1</td>\n",
       "      <td>-8437.673028</td>\n",
       "      <td>42</td>\n",
       "      <td>высшее</td>\n",
       "      <td>0</td>\n",
       "      <td>женат / замужем</td>\n",
       "      <td>0</td>\n",
       "      <td>F</td>\n",
       "      <td>сотрудник</td>\n",
       "      <td>0</td>\n",
       "      <td>253875</td>\n",
       "      <td>покупка жилья</td>\n",
       "      <td>недвижимость</td>\n",
       "    </tr>\n",
       "    <tr>\n",
       "      <th>1</th>\n",
       "      <td>1</td>\n",
       "      <td>-4024.803754</td>\n",
       "      <td>36</td>\n",
       "      <td>среднее</td>\n",
       "      <td>1</td>\n",
       "      <td>женат / замужем</td>\n",
       "      <td>0</td>\n",
       "      <td>F</td>\n",
       "      <td>сотрудник</td>\n",
       "      <td>0</td>\n",
       "      <td>112080</td>\n",
       "      <td>приобретение автомобиля</td>\n",
       "      <td>автомобиль</td>\n",
       "    </tr>\n",
       "    <tr>\n",
       "      <th>2</th>\n",
       "      <td>0</td>\n",
       "      <td>-5623.422610</td>\n",
       "      <td>33</td>\n",
       "      <td>среднее</td>\n",
       "      <td>1</td>\n",
       "      <td>женат / замужем</td>\n",
       "      <td>0</td>\n",
       "      <td>M</td>\n",
       "      <td>сотрудник</td>\n",
       "      <td>0</td>\n",
       "      <td>145885</td>\n",
       "      <td>покупка жилья</td>\n",
       "      <td>недвижимость</td>\n",
       "    </tr>\n",
       "    <tr>\n",
       "      <th>3</th>\n",
       "      <td>3</td>\n",
       "      <td>-4124.747207</td>\n",
       "      <td>32</td>\n",
       "      <td>среднее</td>\n",
       "      <td>1</td>\n",
       "      <td>женат / замужем</td>\n",
       "      <td>0</td>\n",
       "      <td>M</td>\n",
       "      <td>сотрудник</td>\n",
       "      <td>0</td>\n",
       "      <td>267628</td>\n",
       "      <td>дополнительное образование</td>\n",
       "      <td>образование</td>\n",
       "    </tr>\n",
       "    <tr>\n",
       "      <th>4</th>\n",
       "      <td>0</td>\n",
       "      <td>340266.072047</td>\n",
       "      <td>53</td>\n",
       "      <td>среднее</td>\n",
       "      <td>1</td>\n",
       "      <td>гражданский брак</td>\n",
       "      <td>1</td>\n",
       "      <td>F</td>\n",
       "      <td>пенсионер</td>\n",
       "      <td>0</td>\n",
       "      <td>158616</td>\n",
       "      <td>сыграть свадьбу</td>\n",
       "      <td>свадьба</td>\n",
       "    </tr>\n",
       "  </tbody>\n",
       "</table>\n",
       "</div>"
      ],
      "text/plain": [
       "   children  days_employed  dob_years education  education_id  \\\n",
       "0         1   -8437.673028         42    высшее             0   \n",
       "1         1   -4024.803754         36   среднее             1   \n",
       "2         0   -5623.422610         33   среднее             1   \n",
       "3         3   -4124.747207         32   среднее             1   \n",
       "4         0  340266.072047         53   среднее             1   \n",
       "\n",
       "      family_status  family_status_id gender income_type  debt  total_income  \\\n",
       "0   женат / замужем                 0      F   сотрудник     0        253875   \n",
       "1   женат / замужем                 0      F   сотрудник     0        112080   \n",
       "2   женат / замужем                 0      M   сотрудник     0        145885   \n",
       "3   женат / замужем                 0      M   сотрудник     0        267628   \n",
       "4  гражданский брак                 1      F   пенсионер     0        158616   \n",
       "\n",
       "                      purpose purpose_general  \n",
       "0               покупка жилья    недвижимость  \n",
       "1     приобретение автомобиля      автомобиль  \n",
       "2               покупка жилья    недвижимость  \n",
       "3  дополнительное образование     образование  \n",
       "4             сыграть свадьбу         свадьба  "
      ]
     },
     "execution_count": 14,
     "metadata": {},
     "output_type": "execute_result"
    }
   ],
   "source": [
    "from pymystem3 import Mystem\n",
    "m = Mystem()\n",
    "def unique_purpose(purpose):\n",
    "    lemmas = ' '.join(m.lemmatize(purpose))\n",
    "    for lemma in lemmas:\n",
    "        if 'жилье' in lemmas or 'недвижимость' in lemmas:\n",
    "            return 'недвижимость'\n",
    "        elif 'образование' in lemmas:\n",
    "            return 'образование'\n",
    "        elif 'свадьба' in lemmas:\n",
    "            return 'свадьба'\n",
    "        elif 'автомобиль' in lemmas:\n",
    "            return 'автомобиль'\n",
    "df['purpose_general'] = df['purpose'].apply(unique_purpose)\n",
    "df.head(5)"
   ]
  },
  {
   "cell_type": "code",
   "execution_count": 15,
   "metadata": {},
   "outputs": [
    {
     "data": {
      "text/plain": [
       "71"
      ]
     },
     "execution_count": 15,
     "metadata": {},
     "output_type": "execute_result"
    }
   ],
   "source": [
    "df.duplicated().sum()"
   ]
  },
  {
   "cell_type": "markdown",
   "metadata": {},
   "source": [
    "At this stage, we have 71 duplicates, we will remove them by resetting the index"
   ]
  },
  {
   "cell_type": "code",
   "execution_count": 16,
   "metadata": {},
   "outputs": [],
   "source": [
    "df = df.drop_duplicates().reset_index(drop=True)"
   ]
  },
  {
   "cell_type": "code",
   "execution_count": 17,
   "metadata": {},
   "outputs": [
    {
     "data": {
      "text/plain": [
       "0"
      ]
     },
     "execution_count": 17,
     "metadata": {},
     "output_type": "execute_result"
    }
   ],
   "source": [
    "df.duplicated().sum()"
   ]
  },
  {
   "cell_type": "code",
   "execution_count": 18,
   "metadata": {},
   "outputs": [
    {
     "data": {
      "text/plain": [
       "array([ 1,  0,  3,  2, -1,  4, 20,  5])"
      ]
     },
     "execution_count": 18,
     "metadata": {},
     "output_type": "execute_result"
    }
   ],
   "source": [
    "df['children'].unique()"
   ]
  },
  {
   "cell_type": "markdown",
   "metadata": {},
   "source": [
    "There are negative and oversized values (-1 and 20) in the values. Most likely there was an error during data entry and the person meant 1 and 2, so we will replace these values accordingly"
   ]
  },
  {
   "cell_type": "code",
   "execution_count": 19,
   "metadata": {},
   "outputs": [
    {
     "data": {
      "text/plain": [
       "array([1, 0, 3, 2, 4, 5])"
      ]
     },
     "execution_count": 19,
     "metadata": {},
     "output_type": "execute_result"
    }
   ],
   "source": [
    "df['children'] = df['children'].replace(-1, 1)\n",
    "df['children'] = df['children'].replace(20, 2)\n",
    "df['children'].unique()"
   ]
  },
  {
   "cell_type": "code",
   "execution_count": 20,
   "metadata": {},
   "outputs": [
    {
     "data": {
      "text/plain": [
       "array([-8437.67302776, -4024.80375385, -5623.42261023, ...,\n",
       "       -2113.3468877 , -3112.4817052 , -1984.50758853])"
      ]
     },
     "execution_count": 20,
     "metadata": {},
     "output_type": "execute_result"
    }
   ],
   "source": [
    "df['days_employed'].unique()"
   ]
  },
  {
   "cell_type": "code",
   "execution_count": 21,
   "metadata": {},
   "outputs": [
    {
     "data": {
      "text/plain": [
       "count     19351.000000\n",
       "mean      63046.497661\n",
       "std      140827.311974\n",
       "min      -18388.949901\n",
       "25%       -2747.423625\n",
       "50%       -1203.369529\n",
       "75%        -291.095954\n",
       "max      401755.400475\n",
       "Name: days_employed, dtype: float64"
      ]
     },
     "execution_count": 21,
     "metadata": {},
     "output_type": "execute_result"
    }
   ],
   "source": [
    "df['days_employed'].describe()"
   ]
  },
  {
   "cell_type": "markdown",
   "metadata": {},
   "source": [
    "The values in this column are very chaotic. There are a variety of negative values, as well as non-integer ones. In this case, it is more convenient to count the length of service in years.\n",
    "\n",
    "Let's remove negative values first."
   ]
  },
  {
   "cell_type": "code",
   "execution_count": 22,
   "metadata": {},
   "outputs": [],
   "source": [
    "df['days_employed'] = df['days_employed'].abs()"
   ]
  },
  {
   "cell_type": "code",
   "execution_count": 23,
   "metadata": {},
   "outputs": [
    {
     "data": {
      "text/plain": [
       "count     19351.000000\n",
       "mean      66914.728907\n",
       "std      139030.880527\n",
       "min          24.141633\n",
       "25%         927.009265\n",
       "50%        2194.220567\n",
       "75%        5537.882441\n",
       "max      401755.400475\n",
       "Name: days_employed, dtype: float64"
      ]
     },
     "execution_count": 23,
     "metadata": {},
     "output_type": "execute_result"
    }
   ],
   "source": [
    "df['days_employed'].describe()"
   ]
  },
  {
   "cell_type": "markdown",
   "metadata": {},
   "source": [
    "Next, let's try to create a new column with years of service, take 365 days for a year and round the numbers."
   ]
  },
  {
   "cell_type": "code",
   "execution_count": 24,
   "metadata": {},
   "outputs": [],
   "source": [
    "df['years_employed'] = df['days_employed'] / 365"
   ]
  },
  {
   "cell_type": "code",
   "execution_count": 25,
   "metadata": {},
   "outputs": [
    {
     "data": {
      "text/plain": [
       "count    19351.000000\n",
       "mean       183.328024\n",
       "std        380.906522\n",
       "min          0.066141\n",
       "25%          2.539751\n",
       "50%          6.011563\n",
       "75%         15.172281\n",
       "max       1100.699727\n",
       "Name: years_employed, dtype: float64"
      ]
     },
     "execution_count": 25,
     "metadata": {},
     "output_type": "execute_result"
    }
   ],
   "source": [
    "df['years_employed'].describe()"
   ]
  },
  {
   "cell_type": "markdown",
   "metadata": {},
   "source": [
    "Very strange values. Lots of people with over 100 years of experience. The maximum number reaches 1100 years."
   ]
  },
  {
   "cell_type": "code",
   "execution_count": 26,
   "metadata": {},
   "outputs": [
    {
     "data": {
      "text/plain": [
       "count    2.145300e+04\n",
       "mean     1.653040e+05\n",
       "std      9.816313e+04\n",
       "min      2.066700e+04\n",
       "25%      1.076200e+05\n",
       "50%      1.425940e+05\n",
       "75%      1.958180e+05\n",
       "max      2.265604e+06\n",
       "Name: total_income, dtype: float64"
      ]
     },
     "execution_count": 26,
     "metadata": {},
     "output_type": "execute_result"
    }
   ],
   "source": [
    "df['total_income'].describe()"
   ]
  },
  {
   "cell_type": "code",
   "execution_count": 27,
   "metadata": {},
   "outputs": [
    {
     "data": {
      "text/html": [
       "<div>\n",
       "<style scoped>\n",
       "    .dataframe tbody tr th:only-of-type {\n",
       "        vertical-align: middle;\n",
       "    }\n",
       "\n",
       "    .dataframe tbody tr th {\n",
       "        vertical-align: top;\n",
       "    }\n",
       "\n",
       "    .dataframe thead th {\n",
       "        text-align: right;\n",
       "    }\n",
       "</style>\n",
       "<table border=\"1\" class=\"dataframe\">\n",
       "  <thead>\n",
       "    <tr style=\"text-align: right;\">\n",
       "      <th></th>\n",
       "      <th>children</th>\n",
       "      <th>days_employed</th>\n",
       "      <th>dob_years</th>\n",
       "      <th>education</th>\n",
       "      <th>education_id</th>\n",
       "      <th>family_status</th>\n",
       "      <th>family_status_id</th>\n",
       "      <th>gender</th>\n",
       "      <th>income_type</th>\n",
       "      <th>debt</th>\n",
       "      <th>total_income</th>\n",
       "      <th>purpose</th>\n",
       "      <th>purpose_general</th>\n",
       "      <th>years_employed</th>\n",
       "    </tr>\n",
       "  </thead>\n",
       "  <tbody>\n",
       "    <tr>\n",
       "      <th>12368</th>\n",
       "      <td>2</td>\n",
       "      <td>992.122926</td>\n",
       "      <td>31</td>\n",
       "      <td>неоконченное высшее</td>\n",
       "      <td>2</td>\n",
       "      <td>женат / замужем</td>\n",
       "      <td>0</td>\n",
       "      <td>F</td>\n",
       "      <td>компаньон</td>\n",
       "      <td>0</td>\n",
       "      <td>141671</td>\n",
       "      <td>приобретение автомобиля</td>\n",
       "      <td>автомобиль</td>\n",
       "      <td>2.718145</td>\n",
       "    </tr>\n",
       "    <tr>\n",
       "      <th>477</th>\n",
       "      <td>2</td>\n",
       "      <td>2837.717108</td>\n",
       "      <td>41</td>\n",
       "      <td>высшее</td>\n",
       "      <td>0</td>\n",
       "      <td>женат / замужем</td>\n",
       "      <td>0</td>\n",
       "      <td>F</td>\n",
       "      <td>госслужащий</td>\n",
       "      <td>0</td>\n",
       "      <td>99015</td>\n",
       "      <td>жилье</td>\n",
       "      <td>недвижимость</td>\n",
       "      <td>7.774567</td>\n",
       "    </tr>\n",
       "    <tr>\n",
       "      <th>20577</th>\n",
       "      <td>2</td>\n",
       "      <td>1223.172066</td>\n",
       "      <td>32</td>\n",
       "      <td>среднее</td>\n",
       "      <td>1</td>\n",
       "      <td>гражданский брак</td>\n",
       "      <td>1</td>\n",
       "      <td>M</td>\n",
       "      <td>компаньон</td>\n",
       "      <td>0</td>\n",
       "      <td>356590</td>\n",
       "      <td>на проведение свадьбы</td>\n",
       "      <td>свадьба</td>\n",
       "      <td>3.351156</td>\n",
       "    </tr>\n",
       "    <tr>\n",
       "      <th>7696</th>\n",
       "      <td>0</td>\n",
       "      <td>369845.413661</td>\n",
       "      <td>51</td>\n",
       "      <td>среднее</td>\n",
       "      <td>1</td>\n",
       "      <td>гражданский брак</td>\n",
       "      <td>1</td>\n",
       "      <td>F</td>\n",
       "      <td>пенсионер</td>\n",
       "      <td>0</td>\n",
       "      <td>390646</td>\n",
       "      <td>на проведение свадьбы</td>\n",
       "      <td>свадьба</td>\n",
       "      <td>1013.275106</td>\n",
       "    </tr>\n",
       "    <tr>\n",
       "      <th>17277</th>\n",
       "      <td>0</td>\n",
       "      <td>395933.742936</td>\n",
       "      <td>57</td>\n",
       "      <td>среднее</td>\n",
       "      <td>1</td>\n",
       "      <td>женат / замужем</td>\n",
       "      <td>0</td>\n",
       "      <td>F</td>\n",
       "      <td>пенсионер</td>\n",
       "      <td>0</td>\n",
       "      <td>176668</td>\n",
       "      <td>операции с жильем</td>\n",
       "      <td>недвижимость</td>\n",
       "      <td>1084.749981</td>\n",
       "    </tr>\n",
       "  </tbody>\n",
       "</table>\n",
       "</div>"
      ],
      "text/plain": [
       "       children  days_employed  dob_years            education  education_id  \\\n",
       "12368         2     992.122926         31  неоконченное высшее             2   \n",
       "477           2    2837.717108         41               высшее             0   \n",
       "20577         2    1223.172066         32              среднее             1   \n",
       "7696          0  369845.413661         51              среднее             1   \n",
       "17277         0  395933.742936         57              среднее             1   \n",
       "\n",
       "          family_status  family_status_id gender  income_type  debt  \\\n",
       "12368   женат / замужем                 0      F    компаньон     0   \n",
       "477     женат / замужем                 0      F  госслужащий     0   \n",
       "20577  гражданский брак                 1      M    компаньон     0   \n",
       "7696   гражданский брак                 1      F    пенсионер     0   \n",
       "17277   женат / замужем                 0      F    пенсионер     0   \n",
       "\n",
       "       total_income                  purpose purpose_general  years_employed  \n",
       "12368        141671  приобретение автомобиля      автомобиль        2.718145  \n",
       "477           99015                    жилье    недвижимость        7.774567  \n",
       "20577        356590    на проведение свадьбы         свадьба        3.351156  \n",
       "7696         390646    на проведение свадьбы         свадьба     1013.275106  \n",
       "17277        176668        операции с жильем    недвижимость     1084.749981  "
      ]
     },
     "execution_count": 27,
     "metadata": {},
     "output_type": "execute_result"
    }
   ],
   "source": [
    "df['total_income'] = df['total_income'].astype(int)\n",
    "df.sample(5)"
   ]
  },
  {
   "cell_type": "markdown",
   "metadata": {},
   "source": [
    "### Data categorization"
   ]
  },
  {
   "cell_type": "code",
   "execution_count": 28,
   "metadata": {},
   "outputs": [
    {
     "data": {
      "text/html": [
       "<div>\n",
       "<style scoped>\n",
       "    .dataframe tbody tr th:only-of-type {\n",
       "        vertical-align: middle;\n",
       "    }\n",
       "\n",
       "    .dataframe tbody tr th {\n",
       "        vertical-align: top;\n",
       "    }\n",
       "\n",
       "    .dataframe thead th {\n",
       "        text-align: right;\n",
       "    }\n",
       "</style>\n",
       "<table border=\"1\" class=\"dataframe\">\n",
       "  <thead>\n",
       "    <tr style=\"text-align: right;\">\n",
       "      <th></th>\n",
       "      <th>education_id</th>\n",
       "      <th>education</th>\n",
       "    </tr>\n",
       "  </thead>\n",
       "  <tbody>\n",
       "    <tr>\n",
       "      <th>0</th>\n",
       "      <td>0</td>\n",
       "      <td>высшее</td>\n",
       "    </tr>\n",
       "    <tr>\n",
       "      <th>1</th>\n",
       "      <td>1</td>\n",
       "      <td>среднее</td>\n",
       "    </tr>\n",
       "    <tr>\n",
       "      <th>13</th>\n",
       "      <td>2</td>\n",
       "      <td>неоконченное высшее</td>\n",
       "    </tr>\n",
       "    <tr>\n",
       "      <th>31</th>\n",
       "      <td>3</td>\n",
       "      <td>начальное</td>\n",
       "    </tr>\n",
       "    <tr>\n",
       "      <th>2962</th>\n",
       "      <td>4</td>\n",
       "      <td>ученая степень</td>\n",
       "    </tr>\n",
       "  </tbody>\n",
       "</table>\n",
       "</div>"
      ],
      "text/plain": [
       "      education_id            education\n",
       "0                0               высшее\n",
       "1                1              среднее\n",
       "13               2  неоконченное высшее\n",
       "31               3            начальное\n",
       "2962             4       ученая степень"
      ]
     },
     "execution_count": 28,
     "metadata": {},
     "output_type": "execute_result"
    }
   ],
   "source": [
    "df[['education_id', 'education']].drop_duplicates()"
   ]
  },
  {
   "cell_type": "code",
   "execution_count": 29,
   "metadata": {},
   "outputs": [
    {
     "data": {
      "text/html": [
       "<div>\n",
       "<style scoped>\n",
       "    .dataframe tbody tr th:only-of-type {\n",
       "        vertical-align: middle;\n",
       "    }\n",
       "\n",
       "    .dataframe tbody tr th {\n",
       "        vertical-align: top;\n",
       "    }\n",
       "\n",
       "    .dataframe thead th {\n",
       "        text-align: right;\n",
       "    }\n",
       "</style>\n",
       "<table border=\"1\" class=\"dataframe\">\n",
       "  <thead>\n",
       "    <tr style=\"text-align: right;\">\n",
       "      <th></th>\n",
       "      <th>family_status_id</th>\n",
       "      <th>family_status</th>\n",
       "    </tr>\n",
       "  </thead>\n",
       "  <tbody>\n",
       "    <tr>\n",
       "      <th>0</th>\n",
       "      <td>0</td>\n",
       "      <td>женат / замужем</td>\n",
       "    </tr>\n",
       "    <tr>\n",
       "      <th>4</th>\n",
       "      <td>1</td>\n",
       "      <td>гражданский брак</td>\n",
       "    </tr>\n",
       "    <tr>\n",
       "      <th>18</th>\n",
       "      <td>2</td>\n",
       "      <td>вдовец / вдова</td>\n",
       "    </tr>\n",
       "    <tr>\n",
       "      <th>19</th>\n",
       "      <td>3</td>\n",
       "      <td>в разводе</td>\n",
       "    </tr>\n",
       "    <tr>\n",
       "      <th>24</th>\n",
       "      <td>4</td>\n",
       "      <td>Не женат / не замужем</td>\n",
       "    </tr>\n",
       "  </tbody>\n",
       "</table>\n",
       "</div>"
      ],
      "text/plain": [
       "    family_status_id          family_status\n",
       "0                  0        женат / замужем\n",
       "4                  1       гражданский брак\n",
       "18                 2         вдовец / вдова\n",
       "19                 3              в разводе\n",
       "24                 4  Не женат / не замужем"
      ]
     },
     "execution_count": 29,
     "metadata": {},
     "output_type": "execute_result"
    }
   ],
   "source": [
    "df[['family_status_id', 'family_status']].drop_duplicates()"
   ]
  },
  {
   "cell_type": "markdown",
   "metadata": {},
   "source": [
    "## Step 3: Answer the questions"
   ]
  },
  {
   "cell_type": "markdown",
   "metadata": {},
   "source": [
    "- Is there a dependence between having children and repaying a loan on time?"
   ]
  },
  {
   "cell_type": "code",
   "execution_count": 30,
   "metadata": {},
   "outputs": [
    {
     "data": {
      "text/plain": [
       "children\n",
       "5    0.000000\n",
       "0    7.544358\n",
       "3    8.181818\n",
       "1    9.165808\n",
       "2    9.492481\n",
       "4    9.756098\n",
       "Name: debt, dtype: float64"
      ]
     },
     "execution_count": 30,
     "metadata": {},
     "output_type": "execute_result"
    }
   ],
   "source": [
    "children_reliance = df.groupby('children')['debt'].sum() / df.groupby('children')['debt'].count() * 100\n",
    "children_reliance.sort_values()"
   ]
  },
  {
   "cell_type": "code",
   "execution_count": 31,
   "metadata": {},
   "outputs": [
    {
     "data": {
      "text/html": [
       "<div>\n",
       "<style scoped>\n",
       "    .dataframe tbody tr th:only-of-type {\n",
       "        vertical-align: middle;\n",
       "    }\n",
       "\n",
       "    .dataframe tbody tr th {\n",
       "        vertical-align: top;\n",
       "    }\n",
       "\n",
       "    .dataframe thead th {\n",
       "        text-align: right;\n",
       "    }\n",
       "</style>\n",
       "<table border=\"1\" class=\"dataframe\">\n",
       "  <thead>\n",
       "    <tr style=\"text-align: right;\">\n",
       "      <th>debt</th>\n",
       "      <th>0</th>\n",
       "      <th>1</th>\n",
       "      <th>average</th>\n",
       "    </tr>\n",
       "    <tr>\n",
       "      <th>children</th>\n",
       "      <th></th>\n",
       "      <th></th>\n",
       "      <th></th>\n",
       "    </tr>\n",
       "  </thead>\n",
       "  <tbody>\n",
       "    <tr>\n",
       "      <th>0</th>\n",
       "      <td>13027.0</td>\n",
       "      <td>1063.0</td>\n",
       "      <td>8.159975</td>\n",
       "    </tr>\n",
       "    <tr>\n",
       "      <th>1</th>\n",
       "      <td>4410.0</td>\n",
       "      <td>445.0</td>\n",
       "      <td>10.090703</td>\n",
       "    </tr>\n",
       "    <tr>\n",
       "      <th>2</th>\n",
       "      <td>1926.0</td>\n",
       "      <td>202.0</td>\n",
       "      <td>10.488058</td>\n",
       "    </tr>\n",
       "    <tr>\n",
       "      <th>3</th>\n",
       "      <td>303.0</td>\n",
       "      <td>27.0</td>\n",
       "      <td>8.910891</td>\n",
       "    </tr>\n",
       "    <tr>\n",
       "      <th>4</th>\n",
       "      <td>37.0</td>\n",
       "      <td>4.0</td>\n",
       "      <td>10.810811</td>\n",
       "    </tr>\n",
       "    <tr>\n",
       "      <th>5</th>\n",
       "      <td>9.0</td>\n",
       "      <td>NaN</td>\n",
       "      <td>NaN</td>\n",
       "    </tr>\n",
       "  </tbody>\n",
       "</table>\n",
       "</div>"
      ],
      "text/plain": [
       "debt            0       1    average\n",
       "children                            \n",
       "0         13027.0  1063.0   8.159975\n",
       "1          4410.0   445.0  10.090703\n",
       "2          1926.0   202.0  10.488058\n",
       "3           303.0    27.0   8.910891\n",
       "4            37.0     4.0  10.810811\n",
       "5             9.0     NaN        NaN"
      ]
     },
     "execution_count": 31,
     "metadata": {},
     "output_type": "execute_result"
    }
   ],
   "source": [
    "children_table = df.pivot_table(index = ['children'],\n",
    "                                columns = ['debt'],\n",
    "                                values = 'purpose', aggfunc='count')\n",
    "\n",
    "children_table['average'] = children_table[1] / children_table[0] * 100\n",
    "children_table"
   ]
  },
  {
   "cell_type": "markdown",
   "metadata": {},
   "source": [
    "**Conclusion**\n",
    "\n",
    "Based on the data, it can be concluded that children do not particularly affect the repayment of the loan. Childless people, as well as people with 3 children, repay the loan the best, we have almost no data for people with 5 children and the indicator is at zero. And the worst rate of return of loans in people is people who have 4 and 2 children."
   ]
  },
  {
   "cell_type": "markdown",
   "metadata": {},
   "source": [
    "-Is there a dependence between marital status and loan repayment on time?"
   ]
  },
  {
   "cell_type": "code",
   "execution_count": 32,
   "metadata": {},
   "outputs": [
    {
     "data": {
      "text/plain": [
       "family_status\n",
       "вдовец / вдова           6.569343\n",
       "в разводе                7.112971\n",
       "женат / замужем          7.545793\n",
       "гражданский брак         9.347145\n",
       "Не женат / не замужем    9.750890\n",
       "Name: debt, dtype: float64"
      ]
     },
     "execution_count": 32,
     "metadata": {},
     "output_type": "execute_result"
    }
   ],
   "source": [
    "family_reliance = df.groupby('family_status')['debt'].sum() / df.groupby('family_status')['debt'].count() * 100\n",
    "family_reliance.sort_values()"
   ]
  },
  {
   "cell_type": "code",
   "execution_count": 33,
   "metadata": {},
   "outputs": [
    {
     "data": {
      "text/html": [
       "<div>\n",
       "<style scoped>\n",
       "    .dataframe tbody tr th:only-of-type {\n",
       "        vertical-align: middle;\n",
       "    }\n",
       "\n",
       "    .dataframe tbody tr th {\n",
       "        vertical-align: top;\n",
       "    }\n",
       "\n",
       "    .dataframe thead th {\n",
       "        text-align: right;\n",
       "    }\n",
       "</style>\n",
       "<table border=\"1\" class=\"dataframe\">\n",
       "  <thead>\n",
       "    <tr style=\"text-align: right;\">\n",
       "      <th>debt</th>\n",
       "      <th>0</th>\n",
       "      <th>1</th>\n",
       "      <th>average</th>\n",
       "    </tr>\n",
       "    <tr>\n",
       "      <th>family_status</th>\n",
       "      <th></th>\n",
       "      <th></th>\n",
       "      <th></th>\n",
       "    </tr>\n",
       "  </thead>\n",
       "  <tbody>\n",
       "    <tr>\n",
       "      <th>Не женат / не замужем</th>\n",
       "      <td>2536</td>\n",
       "      <td>274</td>\n",
       "      <td>10.804416</td>\n",
       "    </tr>\n",
       "    <tr>\n",
       "      <th>в разводе</th>\n",
       "      <td>1110</td>\n",
       "      <td>85</td>\n",
       "      <td>7.657658</td>\n",
       "    </tr>\n",
       "    <tr>\n",
       "      <th>вдовец / вдова</th>\n",
       "      <td>896</td>\n",
       "      <td>63</td>\n",
       "      <td>7.031250</td>\n",
       "    </tr>\n",
       "    <tr>\n",
       "      <th>гражданский брак</th>\n",
       "      <td>3763</td>\n",
       "      <td>388</td>\n",
       "      <td>10.310922</td>\n",
       "    </tr>\n",
       "    <tr>\n",
       "      <th>женат / замужем</th>\n",
       "      <td>11407</td>\n",
       "      <td>931</td>\n",
       "      <td>8.161655</td>\n",
       "    </tr>\n",
       "  </tbody>\n",
       "</table>\n",
       "</div>"
      ],
      "text/plain": [
       "debt                       0    1    average\n",
       "family_status                               \n",
       "Не женат / не замужем   2536  274  10.804416\n",
       "в разводе               1110   85   7.657658\n",
       "вдовец / вдова           896   63   7.031250\n",
       "гражданский брак        3763  388  10.310922\n",
       "женат / замужем        11407  931   8.161655"
      ]
     },
     "execution_count": 33,
     "metadata": {},
     "output_type": "execute_result"
    }
   ],
   "source": [
    "family_table = df.pivot_table(index=['family_status'], columns=['debt'], values='total_income', aggfunc='count')\n",
    "family_table['average'] = family_table[1] / family_table[0] * 100\n",
    "family_table"
   ]
  },
  {
   "cell_type": "markdown",
   "metadata": {},
   "source": [
    "**Conclusion**\n",
    "\n",
    "Based on these data, we can conclude that people who are divorced and widowed are the best at repaying loans, while the rates of single people and people in a civil marriage are low."
   ]
  },
  {
   "cell_type": "markdown",
   "metadata": {},
   "source": [
    "- Is there a correlation between income level and loan repayment on time?"
   ]
  },
  {
   "cell_type": "markdown",
   "metadata": {},
   "source": [
    "It is not entirely clear what limits to give to income levels, so I will guess and draw the limits myself. We will divide income levels into 4 categories: `low`, `medium`, `high` and `very high`."
   ]
  },
  {
   "cell_type": "code",
   "execution_count": 34,
   "metadata": {},
   "outputs": [
    {
     "data": {
      "text/plain": [
       "0.25    107620.0\n",
       "0.50    142594.0\n",
       "0.75    195818.0\n",
       "Name: total_income, dtype: float64"
      ]
     },
     "execution_count": 34,
     "metadata": {},
     "output_type": "execute_result"
    }
   ],
   "source": [
    "df['total_income'].quantile([0.25,0.5,0.75])"
   ]
  },
  {
   "cell_type": "code",
   "execution_count": 35,
   "metadata": {},
   "outputs": [],
   "source": [
    "def how_rich(total_income):\n",
    "    if total_income <= 107620.0:\n",
    "            return 'low'\n",
    "    if total_income <= 142594.0:\n",
    "            return 'medium'\n",
    "    if total_income < 195818.0:\n",
    "            return 'high'\n",
    "    return 'very high'"
   ]
  },
  {
   "cell_type": "code",
   "execution_count": 36,
   "metadata": {},
   "outputs": [
    {
     "data": {
      "text/html": [
       "<div>\n",
       "<style scoped>\n",
       "    .dataframe tbody tr th:only-of-type {\n",
       "        vertical-align: middle;\n",
       "    }\n",
       "\n",
       "    .dataframe tbody tr th {\n",
       "        vertical-align: top;\n",
       "    }\n",
       "\n",
       "    .dataframe thead th {\n",
       "        text-align: right;\n",
       "    }\n",
       "</style>\n",
       "<table border=\"1\" class=\"dataframe\">\n",
       "  <thead>\n",
       "    <tr style=\"text-align: right;\">\n",
       "      <th></th>\n",
       "      <th>children</th>\n",
       "      <th>days_employed</th>\n",
       "      <th>dob_years</th>\n",
       "      <th>education</th>\n",
       "      <th>education_id</th>\n",
       "      <th>family_status</th>\n",
       "      <th>family_status_id</th>\n",
       "      <th>gender</th>\n",
       "      <th>income_type</th>\n",
       "      <th>debt</th>\n",
       "      <th>total_income</th>\n",
       "      <th>purpose</th>\n",
       "      <th>purpose_general</th>\n",
       "      <th>years_employed</th>\n",
       "      <th>how_rich</th>\n",
       "    </tr>\n",
       "  </thead>\n",
       "  <tbody>\n",
       "    <tr>\n",
       "      <th>10318</th>\n",
       "      <td>0</td>\n",
       "      <td>6926.159986</td>\n",
       "      <td>43</td>\n",
       "      <td>среднее</td>\n",
       "      <td>1</td>\n",
       "      <td>Не женат / не замужем</td>\n",
       "      <td>4</td>\n",
       "      <td>F</td>\n",
       "      <td>сотрудник</td>\n",
       "      <td>0</td>\n",
       "      <td>69850</td>\n",
       "      <td>операции с недвижимостью</td>\n",
       "      <td>недвижимость</td>\n",
       "      <td>18.975781</td>\n",
       "      <td>low</td>\n",
       "    </tr>\n",
       "    <tr>\n",
       "      <th>13668</th>\n",
       "      <td>0</td>\n",
       "      <td>2202.767385</td>\n",
       "      <td>29</td>\n",
       "      <td>высшее</td>\n",
       "      <td>0</td>\n",
       "      <td>Не женат / не замужем</td>\n",
       "      <td>4</td>\n",
       "      <td>F</td>\n",
       "      <td>компаньон</td>\n",
       "      <td>0</td>\n",
       "      <td>206928</td>\n",
       "      <td>покупка своего жилья</td>\n",
       "      <td>недвижимость</td>\n",
       "      <td>6.034979</td>\n",
       "      <td>very high</td>\n",
       "    </tr>\n",
       "    <tr>\n",
       "      <th>1234</th>\n",
       "      <td>0</td>\n",
       "      <td>1774.256890</td>\n",
       "      <td>41</td>\n",
       "      <td>среднее</td>\n",
       "      <td>1</td>\n",
       "      <td>гражданский брак</td>\n",
       "      <td>1</td>\n",
       "      <td>F</td>\n",
       "      <td>сотрудник</td>\n",
       "      <td>0</td>\n",
       "      <td>267235</td>\n",
       "      <td>сыграть свадьбу</td>\n",
       "      <td>свадьба</td>\n",
       "      <td>4.860978</td>\n",
       "      <td>very high</td>\n",
       "    </tr>\n",
       "    <tr>\n",
       "      <th>7985</th>\n",
       "      <td>0</td>\n",
       "      <td>NaN</td>\n",
       "      <td>57</td>\n",
       "      <td>среднее</td>\n",
       "      <td>1</td>\n",
       "      <td>гражданский брак</td>\n",
       "      <td>1</td>\n",
       "      <td>F</td>\n",
       "      <td>пенсионер</td>\n",
       "      <td>0</td>\n",
       "      <td>118514</td>\n",
       "      <td>свадьба</td>\n",
       "      <td>свадьба</td>\n",
       "      <td>NaN</td>\n",
       "      <td>medium</td>\n",
       "    </tr>\n",
       "    <tr>\n",
       "      <th>12954</th>\n",
       "      <td>1</td>\n",
       "      <td>5034.339776</td>\n",
       "      <td>43</td>\n",
       "      <td>среднее</td>\n",
       "      <td>1</td>\n",
       "      <td>женат / замужем</td>\n",
       "      <td>0</td>\n",
       "      <td>M</td>\n",
       "      <td>сотрудник</td>\n",
       "      <td>0</td>\n",
       "      <td>144584</td>\n",
       "      <td>заняться высшим образованием</td>\n",
       "      <td>образование</td>\n",
       "      <td>13.792712</td>\n",
       "      <td>high</td>\n",
       "    </tr>\n",
       "  </tbody>\n",
       "</table>\n",
       "</div>"
      ],
      "text/plain": [
       "       children  days_employed  dob_years education  education_id  \\\n",
       "10318         0    6926.159986         43   среднее             1   \n",
       "13668         0    2202.767385         29    высшее             0   \n",
       "1234          0    1774.256890         41   среднее             1   \n",
       "7985          0            NaN         57   среднее             1   \n",
       "12954         1    5034.339776         43   среднее             1   \n",
       "\n",
       "               family_status  family_status_id gender income_type  debt  \\\n",
       "10318  Не женат / не замужем                 4      F   сотрудник     0   \n",
       "13668  Не женат / не замужем                 4      F   компаньон     0   \n",
       "1234        гражданский брак                 1      F   сотрудник     0   \n",
       "7985        гражданский брак                 1      F   пенсионер     0   \n",
       "12954        женат / замужем                 0      M   сотрудник     0   \n",
       "\n",
       "       total_income                       purpose purpose_general  \\\n",
       "10318         69850      операции с недвижимостью    недвижимость   \n",
       "13668        206928          покупка своего жилья    недвижимость   \n",
       "1234         267235               сыграть свадьбу         свадьба   \n",
       "7985         118514                       свадьба         свадьба   \n",
       "12954        144584  заняться высшим образованием     образование   \n",
       "\n",
       "       years_employed   how_rich  \n",
       "10318       18.975781        low  \n",
       "13668        6.034979  very high  \n",
       "1234         4.860978  very high  \n",
       "7985              NaN     medium  \n",
       "12954       13.792712       high  "
      ]
     },
     "execution_count": 36,
     "metadata": {},
     "output_type": "execute_result"
    }
   ],
   "source": [
    "df['how_rich'] = df['total_income'].apply(how_rich)\n",
    "df.sample(5)"
   ]
  },
  {
   "cell_type": "code",
   "execution_count": 37,
   "metadata": {},
   "outputs": [
    {
     "data": {
      "text/plain": [
       "how_rich\n",
       "very high    7.140194\n",
       "low          7.960477\n",
       "high         8.539840\n",
       "medium       8.815477\n",
       "Name: debt, dtype: float64"
      ]
     },
     "execution_count": 37,
     "metadata": {},
     "output_type": "execute_result"
    }
   ],
   "source": [
    "income_reliance = df.groupby('how_rich')['debt'].sum() / df.groupby('how_rich')['debt'].count() * 100\n",
    "income_reliance.sort_values()"
   ]
  },
  {
   "cell_type": "code",
   "execution_count": 38,
   "metadata": {},
   "outputs": [
    {
     "data": {
      "text/html": [
       "<div>\n",
       "<style scoped>\n",
       "    .dataframe tbody tr th:only-of-type {\n",
       "        vertical-align: middle;\n",
       "    }\n",
       "\n",
       "    .dataframe tbody tr th {\n",
       "        vertical-align: top;\n",
       "    }\n",
       "\n",
       "    .dataframe thead th {\n",
       "        text-align: right;\n",
       "    }\n",
       "</style>\n",
       "<table border=\"1\" class=\"dataframe\">\n",
       "  <thead>\n",
       "    <tr style=\"text-align: right;\">\n",
       "      <th>debt</th>\n",
       "      <th>0</th>\n",
       "      <th>1</th>\n",
       "      <th>average</th>\n",
       "    </tr>\n",
       "    <tr>\n",
       "      <th>how_rich</th>\n",
       "      <th></th>\n",
       "      <th></th>\n",
       "      <th></th>\n",
       "    </tr>\n",
       "  </thead>\n",
       "  <tbody>\n",
       "    <tr>\n",
       "      <th>high</th>\n",
       "      <td>4798</td>\n",
       "      <td>448</td>\n",
       "      <td>9.337224</td>\n",
       "    </tr>\n",
       "    <tr>\n",
       "      <th>low</th>\n",
       "      <td>4937</td>\n",
       "      <td>427</td>\n",
       "      <td>8.648977</td>\n",
       "    </tr>\n",
       "    <tr>\n",
       "      <th>medium</th>\n",
       "      <td>4996</td>\n",
       "      <td>483</td>\n",
       "      <td>9.667734</td>\n",
       "    </tr>\n",
       "    <tr>\n",
       "      <th>very high</th>\n",
       "      <td>4981</td>\n",
       "      <td>383</td>\n",
       "      <td>7.689219</td>\n",
       "    </tr>\n",
       "  </tbody>\n",
       "</table>\n",
       "</div>"
      ],
      "text/plain": [
       "debt          0    1   average\n",
       "how_rich                      \n",
       "high       4798  448  9.337224\n",
       "low        4937  427  8.648977\n",
       "medium     4996  483  9.667734\n",
       "very high  4981  383  7.689219"
      ]
     },
     "execution_count": 38,
     "metadata": {},
     "output_type": "execute_result"
    }
   ],
   "source": [
    "income_table = df.pivot_table(index=['how_rich'], columns=['debt'], values='education_id', aggfunc='count')\n",
    "income_table['average'] = income_table[1] / income_table[0] * 100\n",
    "income_table"
   ]
  },
  {
   "cell_type": "markdown",
   "metadata": {},
   "source": [
    "**Conclusion**\n",
    "\n",
    "Based on the results obtained, it can be concluded that people with medium and high income levels are the longest to repay the loan on time. Although the difference is small, it is still there. The highest return rates are associated with people with very high income levels."
   ]
  },
  {
   "cell_type": "markdown",
   "metadata": {},
   "source": [
    "- How do different purposes of a loan affect its repayment on time?"
   ]
  },
  {
   "cell_type": "code",
   "execution_count": 39,
   "metadata": {},
   "outputs": [
    {
     "data": {
      "text/plain": [
       "purpose_general\n",
       "недвижимость    7.234043\n",
       "свадьба         8.003442\n",
       "образование     9.220035\n",
       "автомобиль      9.359034\n",
       "Name: debt, dtype: float64"
      ]
     },
     "execution_count": 39,
     "metadata": {},
     "output_type": "execute_result"
    }
   ],
   "source": [
    "purpose_reliance = df.groupby('purpose_general')['debt'].sum() / df.groupby('purpose_general')['debt'].count() * 100\n",
    "purpose_reliance.sort_values()"
   ]
  },
  {
   "cell_type": "code",
   "execution_count": 40,
   "metadata": {},
   "outputs": [
    {
     "data": {
      "text/html": [
       "<div>\n",
       "<style scoped>\n",
       "    .dataframe tbody tr th:only-of-type {\n",
       "        vertical-align: middle;\n",
       "    }\n",
       "\n",
       "    .dataframe tbody tr th {\n",
       "        vertical-align: top;\n",
       "    }\n",
       "\n",
       "    .dataframe thead th {\n",
       "        text-align: right;\n",
       "    }\n",
       "</style>\n",
       "<table border=\"1\" class=\"dataframe\">\n",
       "  <thead>\n",
       "    <tr style=\"text-align: right;\">\n",
       "      <th>debt</th>\n",
       "      <th>0</th>\n",
       "      <th>1</th>\n",
       "      <th>average</th>\n",
       "    </tr>\n",
       "    <tr>\n",
       "      <th>purpose_general</th>\n",
       "      <th></th>\n",
       "      <th></th>\n",
       "      <th></th>\n",
       "    </tr>\n",
       "  </thead>\n",
       "  <tbody>\n",
       "    <tr>\n",
       "      <th>автомобиль</th>\n",
       "      <td>3903</td>\n",
       "      <td>403</td>\n",
       "      <td>10.325391</td>\n",
       "    </tr>\n",
       "    <tr>\n",
       "      <th>недвижимость</th>\n",
       "      <td>10028</td>\n",
       "      <td>782</td>\n",
       "      <td>7.798165</td>\n",
       "    </tr>\n",
       "    <tr>\n",
       "      <th>образование</th>\n",
       "      <td>3643</td>\n",
       "      <td>370</td>\n",
       "      <td>10.156464</td>\n",
       "    </tr>\n",
       "    <tr>\n",
       "      <th>свадьба</th>\n",
       "      <td>2138</td>\n",
       "      <td>186</td>\n",
       "      <td>8.699719</td>\n",
       "    </tr>\n",
       "  </tbody>\n",
       "</table>\n",
       "</div>"
      ],
      "text/plain": [
       "debt                 0    1    average\n",
       "purpose_general                       \n",
       "автомобиль        3903  403  10.325391\n",
       "недвижимость     10028  782   7.798165\n",
       "образование       3643  370  10.156464\n",
       "свадьба           2138  186   8.699719"
      ]
     },
     "execution_count": 40,
     "metadata": {},
     "output_type": "execute_result"
    }
   ],
   "source": [
    "purpose_table = df.pivot_table(index=['purpose_general'], columns=['debt'], values='education_id', aggfunc='count')\n",
    "purpose_table['average'] = purpose_table[1] / purpose_table[0] * 100\n",
    "purpose_table"
   ]
  },
  {
   "cell_type": "markdown",
   "metadata": {},
   "source": [
    "**Conlusion**\n",
    "\n",
    "This finding suggests that people whose loans are related to real estate or marriage pay off loans much faster than those who took out a loan for education or a car."
   ]
  },
  {
   "cell_type": "markdown",
   "metadata": {},
   "source": [
    "## Step 4. General conclusion"
   ]
  },
  {
   "cell_type": "markdown",
   "metadata": {},
   "source": [
    "We did a lot of analysis based on data from the bank. The main goal was to understand how different factors influence loan repayment on time. The main question was: \"Does the marital status and the number of children of the client affect the fact of repaying the loan on time?\"\n",
    "\n",
    "Having dealt with the errors in the data and after analyzing them, I can give a final answer to the question posed.\n",
    "\n",
    "The difference in indicators of marital status is quite obvious. Attention is drawn to single people and people in a civil marriage, whose indicators are the lowest.\n",
    "\n",
    "Data related to the number of children is not so obvious. We cannot draw explicit statistics in them. Based on the relationships, it can be seen that people who have 1, 2 or 4 children repay the loan the worst. This is most likely due to education loans and loans for large cars for large families. Unfortunately, we do not have enough data on people with 5 children, so we were not able to draw statistics on them."
   ]
  }
 ],
 "metadata": {
  "ExecuteTimeLog": [
   {
    "duration": 968,
    "start_time": "2021-09-17T09:41:06.615Z"
   },
   {
    "duration": 61,
    "start_time": "2021-09-17T09:43:32.589Z"
   },
   {
    "duration": 93,
    "start_time": "2021-09-17T09:43:42.449Z"
   },
   {
    "duration": 17,
    "start_time": "2021-09-17T09:44:04.868Z"
   },
   {
    "duration": 89,
    "start_time": "2021-09-17T09:45:13.512Z"
   },
   {
    "duration": 85,
    "start_time": "2021-09-17T09:46:10.299Z"
   },
   {
    "duration": 323,
    "start_time": "2021-09-17T10:08:43.615Z"
   },
   {
    "duration": 13,
    "start_time": "2021-09-17T10:17:40.311Z"
   },
   {
    "duration": 25,
    "start_time": "2021-09-17T10:24:11.644Z"
   },
   {
    "duration": 16,
    "start_time": "2021-09-17T10:28:02.790Z"
   },
   {
    "duration": 11,
    "start_time": "2021-09-17T10:58:31.131Z"
   },
   {
    "duration": 16,
    "start_time": "2021-09-17T10:58:55.156Z"
   },
   {
    "duration": 31,
    "start_time": "2021-09-17T10:59:24.507Z"
   },
   {
    "duration": 51,
    "start_time": "2021-09-17T10:59:40.311Z"
   },
   {
    "duration": 20,
    "start_time": "2021-09-17T10:59:51.378Z"
   },
   {
    "duration": 1048,
    "start_time": "2021-09-17T11:13:40.021Z"
   },
   {
    "duration": 37,
    "start_time": "2021-09-17T11:14:22.442Z"
   },
   {
    "duration": 10,
    "start_time": "2021-09-17T11:14:32.711Z"
   },
   {
    "duration": 27,
    "start_time": "2021-09-17T11:14:36.446Z"
   },
   {
    "duration": 10,
    "start_time": "2021-09-17T11:15:54.631Z"
   },
   {
    "duration": 15,
    "start_time": "2021-09-17T11:15:58.357Z"
   },
   {
    "duration": 243,
    "start_time": "2021-09-17T11:24:20.426Z"
   },
   {
    "duration": 278,
    "start_time": "2021-09-17T11:24:44.104Z"
   },
   {
    "duration": 1060,
    "start_time": "2021-09-17T11:29:38.939Z"
   },
   {
    "duration": 15,
    "start_time": "2021-09-17T11:29:54.381Z"
   },
   {
    "duration": 85,
    "start_time": "2021-09-17T11:29:59.579Z"
   },
   {
    "duration": 15,
    "start_time": "2021-09-17T11:30:05.660Z"
   },
   {
    "duration": 13,
    "start_time": "2021-09-17T11:30:14.658Z"
   },
   {
    "duration": 43,
    "start_time": "2021-09-17T11:30:18.141Z"
   },
   {
    "duration": 14,
    "start_time": "2021-09-17T11:30:22.821Z"
   },
   {
    "duration": 15,
    "start_time": "2021-09-17T11:34:11.431Z"
   },
   {
    "duration": 91,
    "start_time": "2021-09-17T11:34:54.554Z"
   },
   {
    "duration": 238,
    "start_time": "2021-09-17T11:35:04.100Z"
   },
   {
    "duration": 27,
    "start_time": "2021-09-17T11:35:30.376Z"
   },
   {
    "duration": 34,
    "start_time": "2021-09-17T11:35:46.854Z"
   },
   {
    "duration": 14,
    "start_time": "2021-09-17T11:54:04.080Z"
   },
   {
    "duration": 298,
    "start_time": "2021-09-17T11:55:05.843Z"
   },
   {
    "duration": 8,
    "start_time": "2021-09-17T11:57:51.971Z"
   },
   {
    "duration": 810,
    "start_time": "2021-09-17T11:58:35.288Z"
   },
   {
    "duration": 17,
    "start_time": "2021-09-17T12:00:23.026Z"
   },
   {
    "duration": 13,
    "start_time": "2021-09-17T12:01:06.695Z"
   },
   {
    "duration": 12,
    "start_time": "2021-09-17T12:01:25.081Z"
   },
   {
    "duration": 18,
    "start_time": "2021-09-17T12:02:04.698Z"
   },
   {
    "duration": 12,
    "start_time": "2021-09-17T12:09:19.069Z"
   },
   {
    "duration": 18,
    "start_time": "2021-09-17T12:09:28.710Z"
   },
   {
    "duration": 19,
    "start_time": "2021-09-17T12:11:05.781Z"
   },
   {
    "duration": 15,
    "start_time": "2021-09-17T12:24:53.254Z"
   },
   {
    "duration": 25,
    "start_time": "2021-09-17T12:25:04.562Z"
   },
   {
    "duration": 20,
    "start_time": "2021-09-17T12:25:50.859Z"
   },
   {
    "duration": 20,
    "start_time": "2021-09-17T12:26:37.580Z"
   },
   {
    "duration": 10,
    "start_time": "2021-09-17T12:26:40.364Z"
   },
   {
    "duration": 19,
    "start_time": "2021-09-17T12:26:47.982Z"
   },
   {
    "duration": 85,
    "start_time": "2021-09-17T12:26:55.524Z"
   },
   {
    "duration": 15,
    "start_time": "2021-09-17T12:27:00.043Z"
   },
   {
    "duration": 12,
    "start_time": "2021-09-17T12:27:03.945Z"
   },
   {
    "duration": 42,
    "start_time": "2021-09-17T12:27:06.314Z"
   },
   {
    "duration": 14,
    "start_time": "2021-09-17T12:27:07.037Z"
   },
   {
    "duration": 17,
    "start_time": "2021-09-17T12:27:10.233Z"
   },
   {
    "duration": 21,
    "start_time": "2021-09-17T12:27:11.301Z"
   },
   {
    "duration": 21,
    "start_time": "2021-09-17T12:27:13.855Z"
   },
   {
    "duration": 6,
    "start_time": "2021-09-17T12:27:26.710Z"
   },
   {
    "duration": 18,
    "start_time": "2021-09-17T12:27:38.043Z"
   },
   {
    "duration": 347,
    "start_time": "2021-09-17T12:28:08.717Z"
   },
   {
    "duration": 19,
    "start_time": "2021-09-17T12:28:35.765Z"
   },
   {
    "duration": 16,
    "start_time": "2021-09-17T12:29:20.436Z"
   },
   {
    "duration": 31,
    "start_time": "2021-09-17T12:29:41.477Z"
   },
   {
    "duration": 297,
    "start_time": "2021-09-17T12:30:25.084Z"
   },
   {
    "duration": 36,
    "start_time": "2021-09-17T12:31:07.395Z"
   },
   {
    "duration": 31,
    "start_time": "2021-09-17T12:34:03.426Z"
   },
   {
    "duration": 16,
    "start_time": "2021-09-17T12:35:30.992Z"
   },
   {
    "duration": 23,
    "start_time": "2021-09-17T12:47:02.853Z"
   },
   {
    "duration": 21,
    "start_time": "2021-09-17T12:47:49.801Z"
   },
   {
    "duration": 36,
    "start_time": "2021-09-17T12:48:02.877Z"
   },
   {
    "duration": 78,
    "start_time": "2021-09-17T12:49:00.083Z"
   },
   {
    "duration": 255,
    "start_time": "2021-09-17T12:53:35.598Z"
   },
   {
    "duration": 280,
    "start_time": "2021-09-17T12:54:07.681Z"
   },
   {
    "duration": 305,
    "start_time": "2021-09-17T12:54:20.530Z"
   },
   {
    "duration": 254,
    "start_time": "2021-09-17T12:55:32.291Z"
   },
   {
    "duration": 272,
    "start_time": "2021-09-17T12:55:44.182Z"
   },
   {
    "duration": 251,
    "start_time": "2021-09-17T12:55:58.485Z"
   },
   {
    "duration": 86,
    "start_time": "2021-09-17T12:56:09.692Z"
   },
   {
    "duration": 241,
    "start_time": "2021-09-17T12:56:18.148Z"
   },
   {
    "duration": 17,
    "start_time": "2021-09-17T12:56:35.764Z"
   },
   {
    "duration": 9,
    "start_time": "2021-09-17T12:57:20.627Z"
   },
   {
    "duration": 7,
    "start_time": "2021-09-17T12:57:42.349Z"
   },
   {
    "duration": 7,
    "start_time": "2021-09-17T12:57:55.788Z"
   },
   {
    "duration": 6,
    "start_time": "2021-09-17T13:06:42.301Z"
   },
   {
    "duration": 8,
    "start_time": "2021-09-17T13:06:55.203Z"
   },
   {
    "duration": 8,
    "start_time": "2021-09-17T13:07:00.371Z"
   },
   {
    "duration": 830,
    "start_time": "2021-09-17T13:10:46.012Z"
   },
   {
    "duration": 17,
    "start_time": "2021-09-17T13:11:04.729Z"
   },
   {
    "duration": 15,
    "start_time": "2021-09-17T13:12:53.531Z"
   },
   {
    "duration": 15,
    "start_time": "2021-09-17T13:13:04.808Z"
   },
   {
    "duration": 16,
    "start_time": "2021-09-17T13:13:10.364Z"
   },
   {
    "duration": 15,
    "start_time": "2021-09-17T13:13:27.786Z"
   },
   {
    "duration": 17,
    "start_time": "2021-09-17T13:13:31.794Z"
   },
   {
    "duration": 17,
    "start_time": "2021-09-17T13:13:53.438Z"
   },
   {
    "duration": 17,
    "start_time": "2021-09-17T13:14:51.539Z"
   },
   {
    "duration": 350,
    "start_time": "2021-09-17T13:15:46.455Z"
   },
   {
    "duration": 16,
    "start_time": "2021-09-17T13:16:04.723Z"
   },
   {
    "duration": 316,
    "start_time": "2021-09-17T13:24:17.073Z"
   },
   {
    "duration": 26,
    "start_time": "2021-09-17T13:26:10.352Z"
   },
   {
    "duration": 376,
    "start_time": "2021-09-17T13:28:40.619Z"
   },
   {
    "duration": 29,
    "start_time": "2021-09-17T13:28:57.923Z"
   },
   {
    "duration": 4,
    "start_time": "2021-09-17T13:29:06.978Z"
   },
   {
    "duration": 26,
    "start_time": "2021-09-17T13:30:22.801Z"
   },
   {
    "duration": 4,
    "start_time": "2021-09-17T13:30:35.839Z"
   },
   {
    "duration": 25,
    "start_time": "2021-09-17T13:30:50.734Z"
   },
   {
    "duration": 3,
    "start_time": "2021-09-17T13:30:52.703Z"
   },
   {
    "duration": 88,
    "start_time": "2021-09-17T13:31:10.569Z"
   },
   {
    "duration": 25,
    "start_time": "2021-09-17T13:32:39.348Z"
   },
   {
    "duration": 4,
    "start_time": "2021-09-17T13:32:41.349Z"
   },
   {
    "duration": 26,
    "start_time": "2021-09-17T13:33:01.360Z"
   },
   {
    "duration": 5,
    "start_time": "2021-09-17T13:33:03.234Z"
   },
   {
    "duration": 333,
    "start_time": "2021-09-17T13:34:07.433Z"
   },
   {
    "duration": 310,
    "start_time": "2021-09-17T13:34:30.136Z"
   },
   {
    "duration": 334,
    "start_time": "2021-09-17T13:35:09.101Z"
   },
   {
    "duration": 23,
    "start_time": "2021-09-17T13:35:16.604Z"
   },
   {
    "duration": 6,
    "start_time": "2021-09-17T13:35:22.803Z"
   },
   {
    "duration": 15,
    "start_time": "2021-09-17T13:35:38.060Z"
   },
   {
    "duration": 5,
    "start_time": "2021-09-17T13:35:40.122Z"
   },
   {
    "duration": 352,
    "start_time": "2021-09-17T13:35:55.917Z"
   },
   {
    "duration": 5,
    "start_time": "2021-09-17T13:36:19.710Z"
   },
   {
    "duration": 14,
    "start_time": "2021-09-17T13:38:34.274Z"
   },
   {
    "duration": 6,
    "start_time": "2021-09-17T13:38:36.524Z"
   },
   {
    "duration": 15,
    "start_time": "2021-09-17T13:39:38.684Z"
   },
   {
    "duration": 14,
    "start_time": "2021-09-17T13:39:44.057Z"
   },
   {
    "duration": 14,
    "start_time": "2021-09-17T13:39:46.587Z"
   },
   {
    "duration": 5,
    "start_time": "2021-09-17T13:39:54.457Z"
   },
   {
    "duration": 267,
    "start_time": "2021-09-17T13:40:30.986Z"
   },
   {
    "duration": 8,
    "start_time": "2021-09-17T13:40:35.635Z"
   },
   {
    "duration": 8,
    "start_time": "2021-09-17T13:40:42.634Z"
   },
   {
    "duration": 15,
    "start_time": "2021-09-17T13:41:57.746Z"
   },
   {
    "duration": 14,
    "start_time": "2021-09-17T13:42:32.152Z"
   },
   {
    "duration": 4,
    "start_time": "2021-09-17T13:44:42.553Z"
   },
   {
    "duration": 561,
    "start_time": "2021-09-17T13:46:04.172Z"
   },
   {
    "duration": 4,
    "start_time": "2021-09-17T13:46:47.194Z"
   },
   {
    "duration": 34,
    "start_time": "2021-09-17T13:46:51.246Z"
   },
   {
    "duration": 19,
    "start_time": "2021-09-17T13:48:29.666Z"
   },
   {
    "duration": 17,
    "start_time": "2021-09-17T13:48:31.635Z"
   },
   {
    "duration": 9,
    "start_time": "2021-09-17T13:48:32.230Z"
   },
   {
    "duration": 7,
    "start_time": "2021-09-17T13:48:51.494Z"
   },
   {
    "duration": 15,
    "start_time": "2021-09-17T13:49:18.067Z"
   },
   {
    "duration": 15,
    "start_time": "2021-09-17T13:49:24.327Z"
   },
   {
    "duration": 6,
    "start_time": "2021-09-17T13:49:28.059Z"
   },
   {
    "duration": 7,
    "start_time": "2021-09-17T13:49:32.104Z"
   },
   {
    "duration": 26,
    "start_time": "2021-09-17T13:50:21.047Z"
   },
   {
    "duration": 22,
    "start_time": "2021-09-17T13:50:43.989Z"
   },
   {
    "duration": 26,
    "start_time": "2021-09-17T13:51:33.807Z"
   },
   {
    "duration": 24,
    "start_time": "2021-09-17T13:51:42.394Z"
   },
   {
    "duration": 26,
    "start_time": "2021-09-17T13:52:21.915Z"
   },
   {
    "duration": 27,
    "start_time": "2021-09-17T13:53:28.035Z"
   },
   {
    "duration": 88,
    "start_time": "2021-09-17T13:53:38.931Z"
   },
   {
    "duration": 57,
    "start_time": "2021-09-17T13:53:44.269Z"
   },
   {
    "duration": 85,
    "start_time": "2021-09-17T13:53:57.069Z"
   },
   {
    "duration": 17,
    "start_time": "2021-09-17T13:53:57.991Z"
   },
   {
    "duration": 15,
    "start_time": "2021-09-17T13:54:01.111Z"
   },
   {
    "duration": 41,
    "start_time": "2021-09-17T13:54:02.053Z"
   },
   {
    "duration": 17,
    "start_time": "2021-09-17T13:54:02.516Z"
   },
   {
    "duration": 17,
    "start_time": "2021-09-17T13:54:08.934Z"
   },
   {
    "duration": 19,
    "start_time": "2021-09-17T13:54:10.011Z"
   },
   {
    "duration": 21,
    "start_time": "2021-09-17T13:54:12.009Z"
   },
   {
    "duration": 37,
    "start_time": "2021-09-17T13:54:12.304Z"
   },
   {
    "duration": 19,
    "start_time": "2021-09-17T13:54:13.643Z"
   },
   {
    "duration": 8,
    "start_time": "2021-09-17T13:54:15.093Z"
   },
   {
    "duration": 15,
    "start_time": "2021-09-17T13:54:15.475Z"
   },
   {
    "duration": 14,
    "start_time": "2021-09-17T13:54:15.875Z"
   },
   {
    "duration": 14,
    "start_time": "2021-09-17T13:54:16.295Z"
   },
   {
    "duration": 14,
    "start_time": "2021-09-17T13:54:16.672Z"
   },
   {
    "duration": 4,
    "start_time": "2021-09-17T13:54:17.242Z"
   },
   {
    "duration": 37,
    "start_time": "2021-09-17T13:54:17.735Z"
   },
   {
    "duration": 20,
    "start_time": "2021-09-17T13:54:18.655Z"
   },
   {
    "duration": 7,
    "start_time": "2021-09-17T13:54:19.139Z"
   },
   {
    "duration": 10,
    "start_time": "2021-09-17T13:54:25.244Z"
   },
   {
    "duration": 7,
    "start_time": "2021-09-17T13:54:28.602Z"
   },
   {
    "duration": 50,
    "start_time": "2021-09-17T13:54:46.696Z"
   },
   {
    "duration": 5,
    "start_time": "2021-09-17T13:55:09.984Z"
   },
   {
    "duration": 36,
    "start_time": "2021-09-17T13:55:10.958Z"
   },
   {
    "duration": 16,
    "start_time": "2021-09-17T13:55:35.165Z"
   },
   {
    "duration": 6,
    "start_time": "2021-09-17T13:55:38.818Z"
   },
   {
    "duration": 16,
    "start_time": "2021-09-17T13:56:00.407Z"
   },
   {
    "duration": 14,
    "start_time": "2021-09-17T13:56:02.356Z"
   },
   {
    "duration": 14,
    "start_time": "2021-09-17T13:56:02.887Z"
   },
   {
    "duration": 15,
    "start_time": "2021-09-17T13:56:03.451Z"
   },
   {
    "duration": 4,
    "start_time": "2021-09-17T13:56:07.369Z"
   },
   {
    "duration": 35,
    "start_time": "2021-09-17T13:56:10.511Z"
   },
   {
    "duration": 7,
    "start_time": "2021-09-17T13:56:14.980Z"
   },
   {
    "duration": 6,
    "start_time": "2021-09-17T13:57:02.100Z"
   },
   {
    "duration": 7,
    "start_time": "2021-09-17T13:57:04.986Z"
   },
   {
    "duration": 47,
    "start_time": "2021-09-17T13:57:23.019Z"
   },
   {
    "duration": 633,
    "start_time": "2021-12-04T09:57:27.412Z"
   },
   {
    "duration": 11,
    "start_time": "2021-12-04T09:57:28.047Z"
   },
   {
    "duration": 10,
    "start_time": "2021-12-04T09:57:32.820Z"
   },
   {
    "duration": 30,
    "start_time": "2021-12-04T09:57:34.905Z"
   },
   {
    "duration": 11,
    "start_time": "2021-12-04T09:57:35.592Z"
   },
   {
    "duration": 12,
    "start_time": "2021-12-04T09:57:36.908Z"
   },
   {
    "duration": 14,
    "start_time": "2021-12-04T09:57:40.879Z"
   },
   {
    "duration": 22,
    "start_time": "2021-12-04T09:57:43.119Z"
   },
   {
    "duration": 22,
    "start_time": "2021-12-04T09:57:49.071Z"
   },
   {
    "duration": 15,
    "start_time": "2021-12-04T09:57:53.012Z"
   },
   {
    "duration": 5,
    "start_time": "2021-12-04T09:57:57.029Z"
   },
   {
    "duration": 652,
    "start_time": "2021-12-04T09:58:16.892Z"
   },
   {
    "duration": 9,
    "start_time": "2021-12-04T09:58:47.649Z"
   },
   {
    "duration": 10,
    "start_time": "2021-12-04T09:58:48.686Z"
   },
   {
    "duration": 10,
    "start_time": "2021-12-04T09:58:49.742Z"
   },
   {
    "duration": 3,
    "start_time": "2021-12-04T09:58:57.095Z"
   },
   {
    "duration": 24,
    "start_time": "2021-12-04T09:58:58.327Z"
   },
   {
    "duration": 23,
    "start_time": "2021-12-04T10:00:00.655Z"
   },
   {
    "duration": 6,
    "start_time": "2021-12-04T10:00:11.285Z"
   },
   {
    "duration": 13,
    "start_time": "2021-12-04T10:00:23.614Z"
   },
   {
    "duration": 6,
    "start_time": "2021-12-04T10:00:24.388Z"
   },
   {
    "duration": 7,
    "start_time": "2021-12-04T10:00:26.055Z"
   },
   {
    "duration": 6,
    "start_time": "2021-12-04T10:00:27.310Z"
   },
   {
    "duration": 10,
    "start_time": "2021-12-04T10:01:08.486Z"
   },
   {
    "duration": 13,
    "start_time": "2021-12-04T10:01:15.413Z"
   },
   {
    "duration": 5,
    "start_time": "2021-12-04T10:01:18.473Z"
   },
   {
    "duration": 30,
    "start_time": "2021-12-04T10:01:25.607Z"
   },
   {
    "duration": 345,
    "start_time": "2021-12-04T10:06:01.063Z"
   },
   {
    "duration": 30,
    "start_time": "2021-12-04T10:06:36.214Z"
   },
   {
    "duration": 260,
    "start_time": "2021-12-04T10:07:44.046Z"
   },
   {
    "duration": 510,
    "start_time": "2021-12-04T10:07:52.100Z"
   },
   {
    "duration": 252,
    "start_time": "2021-12-04T10:08:29.064Z"
   },
   {
    "duration": 233,
    "start_time": "2021-12-04T10:08:51.781Z"
   },
   {
    "duration": 256,
    "start_time": "2021-12-04T10:09:20.179Z"
   },
   {
    "duration": 29,
    "start_time": "2021-12-04T10:09:25.354Z"
   },
   {
    "duration": 241,
    "start_time": "2021-12-04T10:09:27.891Z"
   },
   {
    "duration": 886,
    "start_time": "2021-12-07T21:46:05.943Z"
   },
   {
    "duration": 5,
    "start_time": "2021-12-07T21:46:46.061Z"
   },
   {
    "duration": 5,
    "start_time": "2021-12-07T21:47:07.370Z"
   },
   {
    "duration": 5,
    "start_time": "2021-12-07T21:47:25.018Z"
   },
   {
    "duration": 6,
    "start_time": "2021-12-07T21:47:35.222Z"
   },
   {
    "duration": 6,
    "start_time": "2021-12-07T21:48:45.479Z"
   },
   {
    "duration": 5,
    "start_time": "2021-12-07T21:49:01.095Z"
   },
   {
    "duration": 7,
    "start_time": "2021-12-07T21:49:08.038Z"
   },
   {
    "duration": 6,
    "start_time": "2021-12-07T21:49:20.017Z"
   },
   {
    "duration": 6,
    "start_time": "2021-12-07T21:49:31.029Z"
   },
   {
    "duration": 7,
    "start_time": "2021-12-07T21:49:40.077Z"
   },
   {
    "duration": 6,
    "start_time": "2021-12-07T21:49:46.691Z"
   },
   {
    "duration": 215,
    "start_time": "2021-12-11T09:53:32.614Z"
   },
   {
    "duration": 658,
    "start_time": "2021-12-11T09:54:32.367Z"
   },
   {
    "duration": 10,
    "start_time": "2021-12-11T09:54:33.027Z"
   },
   {
    "duration": 10,
    "start_time": "2021-12-11T09:54:36.439Z"
   },
   {
    "duration": 30,
    "start_time": "2021-12-11T09:54:37.360Z"
   },
   {
    "duration": 10,
    "start_time": "2021-12-11T09:54:37.763Z"
   },
   {
    "duration": 12,
    "start_time": "2021-12-11T09:54:38.467Z"
   },
   {
    "duration": 13,
    "start_time": "2021-12-11T09:54:39.232Z"
   },
   {
    "duration": 16,
    "start_time": "2021-12-11T09:54:40.031Z"
   },
   {
    "duration": 22,
    "start_time": "2021-12-11T09:54:40.424Z"
   },
   {
    "duration": 14,
    "start_time": "2021-12-11T09:54:42.017Z"
   },
   {
    "duration": 4,
    "start_time": "2021-12-11T09:54:44.900Z"
   },
   {
    "duration": 3,
    "start_time": "2021-12-11T09:56:33.737Z"
   },
   {
    "duration": 195,
    "start_time": "2021-12-11T09:59:17.558Z"
   },
   {
    "duration": 3,
    "start_time": "2021-12-11T09:59:24.988Z"
   },
   {
    "duration": 7,
    "start_time": "2021-12-11T09:59:25.600Z"
   },
   {
    "duration": 4,
    "start_time": "2021-12-11T09:59:46.571Z"
   },
   {
    "duration": 6,
    "start_time": "2021-12-11T10:01:23.182Z"
   },
   {
    "duration": 6,
    "start_time": "2021-12-11T10:02:12.558Z"
   },
   {
    "duration": 6,
    "start_time": "2021-12-11T10:02:56.633Z"
   },
   {
    "duration": 7,
    "start_time": "2021-12-11T10:03:25.962Z"
   },
   {
    "duration": 5,
    "start_time": "2021-12-11T10:04:08.314Z"
   },
   {
    "duration": 5,
    "start_time": "2021-12-11T10:04:51.363Z"
   },
   {
    "duration": 5,
    "start_time": "2021-12-11T10:05:19.750Z"
   },
   {
    "duration": 6,
    "start_time": "2021-12-11T10:05:40.899Z"
   },
   {
    "duration": 555,
    "start_time": "2021-12-11T10:05:41.399Z"
   },
   {
    "duration": 8,
    "start_time": "2021-12-11T10:05:41.956Z"
   },
   {
    "duration": 10,
    "start_time": "2021-12-11T10:05:42.507Z"
   },
   {
    "duration": 9,
    "start_time": "2021-12-11T10:05:43.002Z"
   },
   {
    "duration": 3,
    "start_time": "2021-12-11T10:05:43.564Z"
   },
   {
    "duration": 22,
    "start_time": "2021-12-11T10:05:44.078Z"
   },
   {
    "duration": 14,
    "start_time": "2021-12-11T10:05:44.568Z"
   },
   {
    "duration": 12,
    "start_time": "2021-12-11T10:05:45.077Z"
   },
   {
    "duration": 7,
    "start_time": "2021-12-11T10:05:45.610Z"
   },
   {
    "duration": 6,
    "start_time": "2021-12-11T10:05:46.274Z"
   },
   {
    "duration": 32,
    "start_time": "2021-12-11T10:05:47.553Z"
   },
   {
    "duration": 634,
    "start_time": "2021-12-27T09:53:34.257Z"
   },
   {
    "duration": 10,
    "start_time": "2021-12-27T09:53:34.892Z"
   },
   {
    "duration": 9,
    "start_time": "2021-12-27T09:53:34.904Z"
   },
   {
    "duration": 40,
    "start_time": "2021-12-27T09:53:34.914Z"
   },
   {
    "duration": 9,
    "start_time": "2021-12-27T09:53:34.956Z"
   },
   {
    "duration": 11,
    "start_time": "2021-12-27T09:53:34.966Z"
   },
   {
    "duration": 12,
    "start_time": "2021-12-27T09:53:34.978Z"
   },
   {
    "duration": 14,
    "start_time": "2021-12-27T09:53:34.992Z"
   },
   {
    "duration": 47,
    "start_time": "2021-12-27T09:53:35.009Z"
   },
   {
    "duration": 12,
    "start_time": "2021-12-27T09:53:35.058Z"
   },
   {
    "duration": 4,
    "start_time": "2021-12-27T09:53:35.072Z"
   },
   {
    "duration": 3,
    "start_time": "2021-12-27T09:53:35.078Z"
   },
   {
    "duration": 10,
    "start_time": "2021-12-27T09:53:35.082Z"
   },
   {
    "duration": 10,
    "start_time": "2021-12-27T09:53:35.094Z"
   },
   {
    "duration": 7,
    "start_time": "2021-12-27T09:53:35.105Z"
   },
   {
    "duration": 31,
    "start_time": "2021-12-27T09:53:35.113Z"
   },
   {
    "duration": 6,
    "start_time": "2021-12-27T09:53:35.145Z"
   },
   {
    "duration": 7,
    "start_time": "2021-12-27T09:53:35.152Z"
   },
   {
    "duration": 11,
    "start_time": "2021-12-27T09:53:35.161Z"
   },
   {
    "duration": 617,
    "start_time": "2021-12-27T09:53:35.173Z"
   },
   {
    "duration": 9,
    "start_time": "2021-12-27T09:53:35.792Z"
   },
   {
    "duration": 12,
    "start_time": "2021-12-27T09:53:35.803Z"
   },
   {
    "duration": 12,
    "start_time": "2021-12-27T09:53:35.817Z"
   },
   {
    "duration": 12,
    "start_time": "2021-12-27T09:53:35.831Z"
   },
   {
    "duration": 28,
    "start_time": "2021-12-27T09:53:35.845Z"
   },
   {
    "duration": 12,
    "start_time": "2021-12-27T09:53:35.874Z"
   },
   {
    "duration": 11,
    "start_time": "2021-12-27T09:53:35.889Z"
   },
   {
    "duration": 5,
    "start_time": "2021-12-27T09:53:35.902Z"
   },
   {
    "duration": 15,
    "start_time": "2021-12-27T09:53:35.909Z"
   },
   {
    "duration": 28,
    "start_time": "2021-12-27T09:53:35.941Z"
   },
   {
    "duration": 292,
    "start_time": "2022-01-04T19:43:10.215Z"
   },
   {
    "duration": 850,
    "start_time": "2022-01-04T19:43:26.448Z"
   },
   {
    "duration": 12,
    "start_time": "2022-01-04T19:43:27.300Z"
   },
   {
    "duration": 10,
    "start_time": "2022-01-04T19:43:28.661Z"
   },
   {
    "duration": 28,
    "start_time": "2022-01-04T19:43:29.142Z"
   },
   {
    "duration": 12,
    "start_time": "2022-01-04T19:43:29.617Z"
   },
   {
    "duration": 13,
    "start_time": "2022-01-04T19:43:30.014Z"
   },
   {
    "duration": 13,
    "start_time": "2022-01-04T19:43:30.366Z"
   },
   {
    "duration": 16,
    "start_time": "2022-01-04T19:43:30.708Z"
   },
   {
    "duration": 21,
    "start_time": "2022-01-04T19:43:30.858Z"
   },
   {
    "duration": 15,
    "start_time": "2022-01-04T19:43:31.624Z"
   },
   {
    "duration": 5,
    "start_time": "2022-01-04T19:43:33.000Z"
   },
   {
    "duration": 3,
    "start_time": "2022-01-04T19:43:33.414Z"
   },
   {
    "duration": 6,
    "start_time": "2022-01-04T19:43:33.609Z"
   },
   {
    "duration": 7,
    "start_time": "2022-01-04T19:43:33.859Z"
   },
   {
    "duration": 7,
    "start_time": "2022-01-04T19:43:34.136Z"
   },
   {
    "duration": 7,
    "start_time": "2022-01-04T19:43:34.416Z"
   },
   {
    "duration": 7,
    "start_time": "2022-01-04T19:43:34.857Z"
   },
   {
    "duration": 5,
    "start_time": "2022-01-04T19:43:36.880Z"
   },
   {
    "duration": 6,
    "start_time": "2022-01-04T19:43:37.817Z"
   },
   {
    "duration": 284,
    "start_time": "2022-01-04T19:43:39.858Z"
   },
   {
    "duration": 242,
    "start_time": "2022-01-04T19:44:48.904Z"
   },
   {
    "duration": 1281,
    "start_time": "2022-01-04T19:46:19.027Z"
   },
   {
    "duration": 241,
    "start_time": "2022-01-04T19:47:27.564Z"
   },
   {
    "duration": 251,
    "start_time": "2022-01-04T19:47:53.567Z"
   },
   {
    "duration": 83,
    "start_time": "2022-01-04T19:48:50.714Z"
   },
   {
    "duration": 243,
    "start_time": "2022-01-04T19:49:08.125Z"
   },
   {
    "duration": 246,
    "start_time": "2022-01-04T19:49:16.084Z"
   },
   {
    "duration": 304,
    "start_time": "2022-01-04T19:51:24.070Z"
   },
   {
    "duration": 3564,
    "start_time": "2022-01-04T19:52:33.583Z"
   },
   {
    "duration": 3561,
    "start_time": "2022-01-04T19:53:06.360Z"
   },
   {
    "duration": 3591,
    "start_time": "2022-01-04T19:53:28.017Z"
   },
   {
    "duration": 3587,
    "start_time": "2022-01-04T19:53:38.101Z"
   },
   {
    "duration": 3623,
    "start_time": "2022-01-04T19:56:59.092Z"
   },
   {
    "duration": 3618,
    "start_time": "2022-01-04T19:57:13.611Z"
   },
   {
    "duration": 3594,
    "start_time": "2022-01-04T19:57:27.467Z"
   },
   {
    "duration": 6,
    "start_time": "2022-01-04T19:58:22.225Z"
   },
   {
    "duration": 7,
    "start_time": "2022-01-04T19:58:32.569Z"
   },
   {
    "duration": 4,
    "start_time": "2022-01-04T20:09:14.549Z"
   },
   {
    "duration": 14,
    "start_time": "2022-01-04T20:09:27.224Z"
   },
   {
    "duration": 6390,
    "start_time": "2022-01-04T20:10:08.084Z"
   },
   {
    "duration": 65,
    "start_time": "2022-01-04T20:11:00.864Z"
   },
   {
    "duration": 14,
    "start_time": "2022-01-04T20:11:01.373Z"
   },
   {
    "duration": 11,
    "start_time": "2022-01-04T20:11:03.242Z"
   },
   {
    "duration": 45,
    "start_time": "2022-01-04T20:11:03.638Z"
   },
   {
    "duration": 15,
    "start_time": "2022-01-04T20:11:04.035Z"
   },
   {
    "duration": 12,
    "start_time": "2022-01-04T20:11:04.446Z"
   },
   {
    "duration": 14,
    "start_time": "2022-01-04T20:11:04.811Z"
   },
   {
    "duration": 15,
    "start_time": "2022-01-04T20:11:05.237Z"
   },
   {
    "duration": 32,
    "start_time": "2022-01-04T20:11:05.456Z"
   },
   {
    "duration": 14,
    "start_time": "2022-01-04T20:11:06.365Z"
   },
   {
    "duration": 5,
    "start_time": "2022-01-04T20:11:07.579Z"
   },
   {
    "duration": 3,
    "start_time": "2022-01-04T20:11:08.043Z"
   },
   {
    "duration": 6,
    "start_time": "2022-01-04T20:11:08.387Z"
   },
   {
    "duration": 7,
    "start_time": "2022-01-04T20:11:08.705Z"
   },
   {
    "duration": 7,
    "start_time": "2022-01-04T20:11:08.975Z"
   },
   {
    "duration": 8,
    "start_time": "2022-01-04T20:11:09.246Z"
   },
   {
    "duration": 6,
    "start_time": "2022-01-04T20:11:09.515Z"
   },
   {
    "duration": 5,
    "start_time": "2022-01-04T20:11:10.636Z"
   },
   {
    "duration": 6,
    "start_time": "2022-01-04T20:11:11.072Z"
   },
   {
    "duration": 3610,
    "start_time": "2022-01-04T20:11:11.862Z"
   },
   {
    "duration": 3527,
    "start_time": "2022-01-04T20:11:20.201Z"
   },
   {
    "duration": 3607,
    "start_time": "2022-01-04T20:11:51.400Z"
   },
   {
    "duration": 4,
    "start_time": "2022-01-04T20:11:59.586Z"
   },
   {
    "duration": 12,
    "start_time": "2022-01-04T20:12:05.799Z"
   },
   {
    "duration": 34,
    "start_time": "2022-01-04T20:13:05.034Z"
   },
   {
    "duration": 31,
    "start_time": "2022-01-04T20:23:47.817Z"
   },
   {
    "duration": 334,
    "start_time": "2022-01-05T13:25:24.116Z"
   },
   {
    "duration": 826,
    "start_time": "2022-01-05T13:25:32.605Z"
   },
   {
    "duration": 15,
    "start_time": "2022-01-05T13:25:34.101Z"
   },
   {
    "duration": 53,
    "start_time": "2022-01-05T13:25:34.577Z"
   },
   {
    "duration": 14,
    "start_time": "2022-01-05T13:25:38.193Z"
   },
   {
    "duration": 46,
    "start_time": "2022-01-05T13:25:39.184Z"
   },
   {
    "duration": 15,
    "start_time": "2022-01-05T13:25:40.132Z"
   },
   {
    "duration": 18,
    "start_time": "2022-01-05T13:25:41.146Z"
   },
   {
    "duration": 27,
    "start_time": "2022-01-05T13:25:44.454Z"
   },
   {
    "duration": 22,
    "start_time": "2022-01-05T13:25:46.164Z"
   },
   {
    "duration": 36,
    "start_time": "2022-01-05T13:25:47.011Z"
   },
   {
    "duration": 19,
    "start_time": "2022-01-05T13:25:54.251Z"
   },
   {
    "duration": 25,
    "start_time": "2022-01-05T13:25:58.342Z"
   },
   {
    "duration": 6,
    "start_time": "2022-01-05T13:26:54.801Z"
   },
   {
    "duration": 17,
    "start_time": "2022-01-05T13:28:09.044Z"
   },
   {
    "duration": 9,
    "start_time": "2022-01-05T13:28:18.894Z"
   },
   {
    "duration": 17,
    "start_time": "2022-01-05T13:29:16.712Z"
   },
   {
    "duration": 95,
    "start_time": "2022-01-05T13:29:29.435Z"
   },
   {
    "duration": 15,
    "start_time": "2022-01-05T13:29:29.871Z"
   },
   {
    "duration": 50,
    "start_time": "2022-01-05T13:29:30.195Z"
   },
   {
    "duration": 13,
    "start_time": "2022-01-05T13:29:31.825Z"
   },
   {
    "duration": 44,
    "start_time": "2022-01-05T13:29:32.098Z"
   },
   {
    "duration": 18,
    "start_time": "2022-01-05T13:29:32.463Z"
   },
   {
    "duration": 19,
    "start_time": "2022-01-05T13:29:32.712Z"
   },
   {
    "duration": 19,
    "start_time": "2022-01-05T13:29:33.550Z"
   },
   {
    "duration": 21,
    "start_time": "2022-01-05T13:29:33.880Z"
   },
   {
    "duration": 37,
    "start_time": "2022-01-05T13:29:34.072Z"
   },
   {
    "duration": 19,
    "start_time": "2022-01-05T13:29:36.002Z"
   },
   {
    "duration": 8,
    "start_time": "2022-01-05T13:29:38.450Z"
   },
   {
    "duration": 17,
    "start_time": "2022-01-05T13:29:41.016Z"
   },
   {
    "duration": 9,
    "start_time": "2022-01-05T13:29:45.175Z"
   },
   {
    "duration": 8,
    "start_time": "2022-01-05T13:29:55.510Z"
   },
   {
    "duration": 4664,
    "start_time": "2022-01-05T13:30:01.257Z"
   },
   {
    "duration": 6,
    "start_time": "2022-01-05T13:30:06.283Z"
   },
   {
    "duration": 91,
    "start_time": "2022-01-05T13:30:47.828Z"
   },
   {
    "duration": 15,
    "start_time": "2022-01-05T13:30:48.161Z"
   },
   {
    "duration": 50,
    "start_time": "2022-01-05T13:30:48.447Z"
   },
   {
    "duration": 13,
    "start_time": "2022-01-05T13:30:49.895Z"
   },
   {
    "duration": 50,
    "start_time": "2022-01-05T13:30:50.244Z"
   },
   {
    "duration": 16,
    "start_time": "2022-01-05T13:30:50.534Z"
   },
   {
    "duration": 18,
    "start_time": "2022-01-05T13:30:50.894Z"
   },
   {
    "duration": 19,
    "start_time": "2022-01-05T13:30:51.219Z"
   },
   {
    "duration": 22,
    "start_time": "2022-01-05T13:30:51.539Z"
   },
   {
    "duration": 39,
    "start_time": "2022-01-05T13:30:51.698Z"
   },
   {
    "duration": 18,
    "start_time": "2022-01-05T13:30:52.472Z"
   },
   {
    "duration": 7,
    "start_time": "2022-01-05T13:30:53.844Z"
   },
   {
    "duration": 17,
    "start_time": "2022-01-05T13:30:54.399Z"
   },
   {
    "duration": 10,
    "start_time": "2022-01-05T13:30:55.644Z"
   },
   {
    "duration": 9,
    "start_time": "2022-01-05T13:30:56.007Z"
   },
   {
    "duration": 4662,
    "start_time": "2022-01-05T13:30:59.657Z"
   },
   {
    "duration": 32,
    "start_time": "2022-01-05T13:31:19.955Z"
   },
   {
    "duration": 35,
    "start_time": "2022-01-05T13:32:55.096Z"
   },
   {
    "duration": 26,
    "start_time": "2022-01-05T13:33:04.007Z"
   },
   {
    "duration": 6,
    "start_time": "2022-01-05T13:34:35.740Z"
   },
   {
    "duration": 5,
    "start_time": "2022-01-05T13:38:45.307Z"
   },
   {
    "duration": 5,
    "start_time": "2022-01-05T13:39:13.162Z"
   },
   {
    "duration": 6,
    "start_time": "2022-01-05T13:39:45.280Z"
   },
   {
    "duration": 8,
    "start_time": "2022-01-05T13:40:47.637Z"
   },
   {
    "duration": 4,
    "start_time": "2022-01-05T13:41:27.582Z"
   },
   {
    "duration": 12,
    "start_time": "2022-01-05T13:41:41.904Z"
   },
   {
    "duration": 5,
    "start_time": "2022-01-05T13:45:50.812Z"
   },
   {
    "duration": 12,
    "start_time": "2022-01-05T13:45:55.590Z"
   },
   {
    "duration": 12,
    "start_time": "2022-01-05T13:46:12.172Z"
   },
   {
    "duration": 13,
    "start_time": "2022-01-05T13:48:06.474Z"
   },
   {
    "duration": 13,
    "start_time": "2022-01-05T13:48:24.946Z"
   },
   {
    "duration": 5,
    "start_time": "2022-01-05T13:49:11.866Z"
   },
   {
    "duration": 388,
    "start_time": "2022-01-05T13:49:12.510Z"
   },
   {
    "duration": 273,
    "start_time": "2022-01-05T13:49:30.822Z"
   },
   {
    "duration": 8,
    "start_time": "2022-01-05T13:49:35.852Z"
   },
   {
    "duration": 5,
    "start_time": "2022-01-05T13:49:36.732Z"
   },
   {
    "duration": 6,
    "start_time": "2022-01-05T13:49:36.980Z"
   },
   {
    "duration": 7,
    "start_time": "2022-01-05T13:49:37.418Z"
   },
   {
    "duration": 8,
    "start_time": "2022-01-05T13:49:37.759Z"
   },
   {
    "duration": 13,
    "start_time": "2022-01-05T13:49:37.930Z"
   },
   {
    "duration": 5,
    "start_time": "2022-01-05T13:49:38.300Z"
   },
   {
    "duration": 13,
    "start_time": "2022-01-05T13:49:38.471Z"
   },
   {
    "duration": 6,
    "start_time": "2022-01-05T13:49:39.142Z"
   },
   {
    "duration": 288,
    "start_time": "2022-01-05T13:49:39.797Z"
   },
   {
    "duration": 265,
    "start_time": "2022-01-05T13:49:49.310Z"
   },
   {
    "duration": 13,
    "start_time": "2022-01-05T13:50:10.843Z"
   },
   {
    "duration": 11,
    "start_time": "2022-01-05T13:56:16.830Z"
   },
   {
    "duration": 5,
    "start_time": "2022-01-05T13:57:45.091Z"
   },
   {
    "duration": 22,
    "start_time": "2022-01-05T13:58:29.716Z"
   },
   {
    "duration": 298,
    "start_time": "2022-01-05T14:05:17.602Z"
   },
   {
    "duration": 16,
    "start_time": "2022-01-05T14:05:24.641Z"
   },
   {
    "duration": 280,
    "start_time": "2022-01-05T14:05:55.365Z"
   },
   {
    "duration": 17,
    "start_time": "2022-01-05T14:05:59.025Z"
   },
   {
    "duration": 11,
    "start_time": "2022-01-05T14:15:45.012Z"
   },
   {
    "duration": 32,
    "start_time": "2022-01-05T14:17:57.612Z"
   },
   {
    "duration": 86,
    "start_time": "2022-01-05T14:37:40.638Z"
   },
   {
    "duration": 12,
    "start_time": "2022-01-05T14:38:32.705Z"
   },
   {
    "duration": 14,
    "start_time": "2022-01-05T14:38:39.166Z"
   },
   {
    "duration": 30,
    "start_time": "2022-01-05T14:40:07.352Z"
   },
   {
    "duration": 179,
    "start_time": "2022-01-10T19:13:31.859Z"
   },
   {
    "duration": 360,
    "start_time": "2022-01-10T19:13:50.807Z"
   },
   {
    "duration": 932,
    "start_time": "2022-01-10T19:13:59.035Z"
   },
   {
    "duration": 16,
    "start_time": "2022-01-10T19:14:00.806Z"
   },
   {
    "duration": 57,
    "start_time": "2022-01-10T19:14:02.069Z"
   },
   {
    "duration": 15,
    "start_time": "2022-01-10T19:14:05.259Z"
   },
   {
    "duration": 46,
    "start_time": "2022-01-10T19:14:06.369Z"
   },
   {
    "duration": 17,
    "start_time": "2022-01-10T19:14:07.469Z"
   },
   {
    "duration": 18,
    "start_time": "2022-01-10T19:14:08.524Z"
   },
   {
    "duration": 20,
    "start_time": "2022-01-10T19:14:09.468Z"
   },
   {
    "duration": 32,
    "start_time": "2022-01-10T19:14:10.440Z"
   },
   {
    "duration": 57,
    "start_time": "2022-01-10T19:14:10.991Z"
   },
   {
    "duration": 20,
    "start_time": "2022-01-10T19:14:12.960Z"
   },
   {
    "duration": 8,
    "start_time": "2022-01-10T19:14:15.062Z"
   },
   {
    "duration": 17,
    "start_time": "2022-01-10T19:14:16.034Z"
   },
   {
    "duration": 9,
    "start_time": "2022-01-10T19:14:17.651Z"
   },
   {
    "duration": 8,
    "start_time": "2022-01-10T19:14:18.131Z"
   },
   {
    "duration": 5191,
    "start_time": "2022-01-10T19:14:19.342Z"
   },
   {
    "duration": 50,
    "start_time": "2022-01-10T19:14:24.536Z"
   },
   {
    "duration": 31,
    "start_time": "2022-01-10T19:14:24.589Z"
   },
   {
    "duration": 50,
    "start_time": "2022-01-10T19:14:24.623Z"
   },
   {
    "duration": 6,
    "start_time": "2022-01-10T19:14:28.648Z"
   },
   {
    "duration": 6,
    "start_time": "2022-01-10T19:14:29.909Z"
   },
   {
    "duration": 6,
    "start_time": "2022-01-10T19:14:30.461Z"
   },
   {
    "duration": 7,
    "start_time": "2022-01-10T19:14:31.765Z"
   },
   {
    "duration": 8,
    "start_time": "2022-01-10T19:14:32.904Z"
   },
   {
    "duration": 13,
    "start_time": "2022-01-10T19:14:33.297Z"
   },
   {
    "duration": 6,
    "start_time": "2022-01-10T19:14:34.355Z"
   },
   {
    "duration": 17,
    "start_time": "2022-01-10T19:14:34.765Z"
   },
   {
    "duration": 13,
    "start_time": "2022-01-10T19:14:35.676Z"
   },
   {
    "duration": 17,
    "start_time": "2022-01-10T19:14:36.170Z"
   },
   {
    "duration": 13,
    "start_time": "2022-01-10T19:14:37.515Z"
   },
   {
    "duration": 6,
    "start_time": "2022-01-10T19:14:38.355Z"
   },
   {
    "duration": 33,
    "start_time": "2022-01-10T19:14:38.826Z"
   },
   {
    "duration": 18,
    "start_time": "2022-01-10T19:14:43.959Z"
   },
   {
    "duration": 15,
    "start_time": "2022-01-10T19:14:44.478Z"
   },
   {
    "duration": 12,
    "start_time": "2022-01-10T19:14:47.190Z"
   },
   {
    "duration": 35,
    "start_time": "2022-01-10T19:14:47.747Z"
   },
   {
    "duration": 15,
    "start_time": "2022-01-10T19:14:51.088Z"
   },
   {
    "duration": 36,
    "start_time": "2022-01-10T19:14:51.749Z"
   },
   {
    "duration": 10,
    "start_time": "2022-01-10T19:15:00.075Z"
   },
   {
    "duration": 4,
    "start_time": "2022-01-10T19:17:55.929Z"
   },
   {
    "duration": 36,
    "start_time": "2022-01-10T19:18:33.270Z"
   },
   {
    "duration": 19,
    "start_time": "2022-01-10T19:20:34.068Z"
   },
   {
    "duration": 16,
    "start_time": "2022-01-10T19:20:41.613Z"
   },
   {
    "duration": 16,
    "start_time": "2022-01-10T19:20:44.840Z"
   },
   {
    "duration": 30,
    "start_time": "2022-01-10T19:22:26.819Z"
   },
   {
    "duration": 15,
    "start_time": "2022-01-10T19:33:31.540Z"
   },
   {
    "duration": 14,
    "start_time": "2022-01-10T19:33:44.724Z"
   },
   {
    "duration": 20,
    "start_time": "2022-01-10T19:34:01.299Z"
   },
   {
    "duration": 18,
    "start_time": "2022-01-10T19:34:19.827Z"
   },
   {
    "duration": 355,
    "start_time": "2022-01-10T19:34:26.724Z"
   },
   {
    "duration": 39,
    "start_time": "2022-01-10T19:34:31.748Z"
   },
   {
    "duration": 16,
    "start_time": "2022-01-10T19:34:34.654Z"
   },
   {
    "duration": 17,
    "start_time": "2022-01-10T19:34:39.254Z"
   },
   {
    "duration": 14,
    "start_time": "2022-01-10T19:34:48.400Z"
   },
   {
    "duration": 16,
    "start_time": "2022-01-10T19:34:53.515Z"
   },
   {
    "duration": 12,
    "start_time": "2022-01-10T19:35:02.691Z"
   },
   {
    "duration": 32,
    "start_time": "2022-01-10T19:36:04.842Z"
   },
   {
    "duration": 142,
    "start_time": "2022-01-10T19:38:59.972Z"
   },
   {
    "duration": 677,
    "start_time": "2022-01-11T10:50:34.436Z"
   },
   {
    "duration": 11,
    "start_time": "2022-01-11T10:50:35.115Z"
   },
   {
    "duration": 37,
    "start_time": "2022-01-11T10:50:35.128Z"
   },
   {
    "duration": 8,
    "start_time": "2022-01-11T10:50:35.167Z"
   },
   {
    "duration": 41,
    "start_time": "2022-01-11T10:50:35.176Z"
   },
   {
    "duration": 11,
    "start_time": "2022-01-11T10:50:35.219Z"
   },
   {
    "duration": 24,
    "start_time": "2022-01-11T10:50:35.232Z"
   },
   {
    "duration": 18,
    "start_time": "2022-01-11T10:50:35.259Z"
   },
   {
    "duration": 18,
    "start_time": "2022-01-11T10:50:35.280Z"
   },
   {
    "duration": 34,
    "start_time": "2022-01-11T10:50:35.300Z"
   },
   {
    "duration": 16,
    "start_time": "2022-01-11T10:50:35.336Z"
   },
   {
    "duration": 5,
    "start_time": "2022-01-11T10:50:35.354Z"
   },
   {
    "duration": 25,
    "start_time": "2022-01-11T10:50:35.361Z"
   },
   {
    "duration": 21,
    "start_time": "2022-01-11T10:50:35.388Z"
   },
   {
    "duration": 20,
    "start_time": "2022-01-11T10:50:35.411Z"
   },
   {
    "duration": 4056,
    "start_time": "2022-01-11T10:50:35.433Z"
   },
   {
    "duration": 17,
    "start_time": "2022-01-11T10:50:39.491Z"
   },
   {
    "duration": 20,
    "start_time": "2022-01-11T10:50:39.526Z"
   },
   {
    "duration": 15,
    "start_time": "2022-01-11T10:50:39.548Z"
   },
   {
    "duration": 4,
    "start_time": "2022-01-11T10:50:39.564Z"
   },
   {
    "duration": 5,
    "start_time": "2022-01-11T10:50:39.570Z"
   },
   {
    "duration": 5,
    "start_time": "2022-01-11T10:50:39.576Z"
   },
   {
    "duration": 4,
    "start_time": "2022-01-11T10:50:39.584Z"
   },
   {
    "duration": 39,
    "start_time": "2022-01-11T10:50:39.590Z"
   },
   {
    "duration": 7,
    "start_time": "2022-01-11T10:50:39.630Z"
   },
   {
    "duration": 3,
    "start_time": "2022-01-11T10:50:39.639Z"
   },
   {
    "duration": 9,
    "start_time": "2022-01-11T10:50:39.643Z"
   },
   {
    "duration": 9,
    "start_time": "2022-01-11T10:50:39.654Z"
   },
   {
    "duration": 7,
    "start_time": "2022-01-11T10:50:39.664Z"
   },
   {
    "duration": 9,
    "start_time": "2022-01-11T10:50:39.672Z"
   },
   {
    "duration": 3,
    "start_time": "2022-01-11T10:50:39.682Z"
   },
   {
    "duration": 45,
    "start_time": "2022-01-11T10:50:39.686Z"
   },
   {
    "duration": 10,
    "start_time": "2022-01-11T10:50:39.732Z"
   },
   {
    "duration": 9,
    "start_time": "2022-01-11T10:50:39.743Z"
   },
   {
    "duration": 7,
    "start_time": "2022-01-11T10:50:39.753Z"
   },
   {
    "duration": 9,
    "start_time": "2022-01-11T10:50:39.762Z"
   },
   {
    "duration": 55,
    "start_time": "2022-01-11T10:50:39.772Z"
   },
   {
    "duration": 13,
    "start_time": "2022-01-11T10:50:39.829Z"
   },
   {
    "duration": 18,
    "start_time": "2022-01-11T10:50:39.844Z"
   },
   {
    "duration": 6,
    "start_time": "2022-01-11T10:50:39.863Z"
   },
   {
    "duration": 4,
    "start_time": "2022-01-11T10:50:39.870Z"
   },
   {
    "duration": 24,
    "start_time": "2022-01-11T10:50:39.875Z"
   },
   {
    "duration": 34,
    "start_time": "2022-01-11T10:50:39.900Z"
   },
   {
    "duration": 16,
    "start_time": "2022-01-11T10:50:39.935Z"
   },
   {
    "duration": 8,
    "start_time": "2022-01-11T10:50:39.953Z"
   },
   {
    "duration": 17,
    "start_time": "2022-01-11T10:50:39.963Z"
   },
   {
    "duration": 109,
    "start_time": "2022-01-11T20:02:38.180Z"
   },
   {
    "duration": 856,
    "start_time": "2022-01-11T20:03:08.694Z"
   },
   {
    "duration": 15,
    "start_time": "2022-01-11T20:03:09.553Z"
   },
   {
    "duration": 48,
    "start_time": "2022-01-11T20:03:09.827Z"
   },
   {
    "duration": 13,
    "start_time": "2022-01-11T20:03:11.696Z"
   },
   {
    "duration": 42,
    "start_time": "2022-01-11T20:03:12.004Z"
   },
   {
    "duration": 17,
    "start_time": "2022-01-11T20:03:12.300Z"
   },
   {
    "duration": 16,
    "start_time": "2022-01-11T20:03:12.634Z"
   },
   {
    "duration": 19,
    "start_time": "2022-01-11T20:03:12.950Z"
   },
   {
    "duration": 22,
    "start_time": "2022-01-11T20:03:13.294Z"
   },
   {
    "duration": 33,
    "start_time": "2022-01-11T20:03:13.466Z"
   },
   {
    "duration": 19,
    "start_time": "2022-01-11T20:03:14.198Z"
   },
   {
    "duration": 7,
    "start_time": "2022-01-11T20:03:15.010Z"
   },
   {
    "duration": 17,
    "start_time": "2022-01-11T20:03:15.348Z"
   },
   {
    "duration": 9,
    "start_time": "2022-01-11T20:03:15.897Z"
   },
   {
    "duration": 8,
    "start_time": "2022-01-11T20:03:16.054Z"
   },
   {
    "duration": 5046,
    "start_time": "2022-01-11T20:03:16.413Z"
   },
   {
    "duration": 29,
    "start_time": "2022-01-11T20:03:21.462Z"
   },
   {
    "duration": 53,
    "start_time": "2022-01-11T20:03:21.495Z"
   },
   {
    "duration": 28,
    "start_time": "2022-01-11T20:03:21.551Z"
   },
   {
    "duration": 40,
    "start_time": "2022-01-11T20:03:21.582Z"
   },
   {
    "duration": 7,
    "start_time": "2022-01-11T20:03:21.625Z"
   },
   {
    "duration": 5,
    "start_time": "2022-01-11T20:03:21.634Z"
   },
   {
    "duration": 8,
    "start_time": "2022-01-11T20:03:28.611Z"
   },
   {
    "duration": 18,
    "start_time": "2022-01-11T20:03:29.014Z"
   },
   {
    "duration": 8,
    "start_time": "2022-01-11T20:03:29.667Z"
   },
   {
    "duration": 9,
    "start_time": "2022-01-11T20:03:29.858Z"
   },
   {
    "duration": 4529,
    "start_time": "2022-01-11T20:03:30.562Z"
   },
   {
    "duration": 45,
    "start_time": "2022-01-11T20:03:35.095Z"
   },
   {
    "duration": 28,
    "start_time": "2022-01-11T20:03:35.143Z"
   },
   {
    "duration": 46,
    "start_time": "2022-01-11T20:03:35.173Z"
   },
   {
    "duration": 5,
    "start_time": "2022-01-11T20:03:35.221Z"
   },
   {
    "duration": 7,
    "start_time": "2022-01-11T20:03:35.228Z"
   },
   {
    "duration": 5,
    "start_time": "2022-01-11T20:03:35.237Z"
   },
   {
    "duration": 8,
    "start_time": "2022-01-11T20:03:35.245Z"
   },
   {
    "duration": 9,
    "start_time": "2022-01-11T20:03:35.255Z"
   },
   {
    "duration": 52,
    "start_time": "2022-01-11T20:03:35.266Z"
   },
   {
    "duration": 4,
    "start_time": "2022-01-11T20:03:35.515Z"
   },
   {
    "duration": 12,
    "start_time": "2022-01-11T20:03:35.764Z"
   },
   {
    "duration": 9,
    "start_time": "2022-01-11T20:03:36.324Z"
   },
   {
    "duration": 12,
    "start_time": "2022-01-11T20:03:36.565Z"
   },
   {
    "duration": 12,
    "start_time": "2022-01-11T20:03:37.270Z"
   },
   {
    "duration": 5,
    "start_time": "2022-01-11T20:03:37.717Z"
   },
   {
    "duration": 21,
    "start_time": "2022-01-11T20:03:37.922Z"
   },
   {
    "duration": 16,
    "start_time": "2022-01-11T20:03:39.739Z"
   },
   {
    "duration": 16,
    "start_time": "2022-01-11T20:03:39.952Z"
   },
   {
    "duration": 12,
    "start_time": "2022-01-11T20:03:40.666Z"
   },
   {
    "duration": 12,
    "start_time": "2022-01-11T20:03:42.447Z"
   },
   {
    "duration": 33,
    "start_time": "2022-01-11T20:03:42.672Z"
   },
   {
    "duration": 16,
    "start_time": "2022-01-11T20:03:44.450Z"
   },
   {
    "duration": 29,
    "start_time": "2022-01-11T20:03:44.631Z"
   },
   {
    "duration": 9,
    "start_time": "2022-01-11T20:03:46.299Z"
   },
   {
    "duration": 4,
    "start_time": "2022-01-11T20:03:46.627Z"
   },
   {
    "duration": 45,
    "start_time": "2022-01-11T20:03:46.984Z"
   },
   {
    "duration": 14,
    "start_time": "2022-01-11T20:03:47.311Z"
   },
   {
    "duration": 30,
    "start_time": "2022-01-11T20:03:47.620Z"
   },
   {
    "duration": 16,
    "start_time": "2022-01-11T20:03:49.116Z"
   },
   {
    "duration": 28,
    "start_time": "2022-01-11T20:03:49.521Z"
   },
   {
    "duration": 669,
    "start_time": "2022-07-03T20:42:40.856Z"
   },
   {
    "duration": 14,
    "start_time": "2022-07-03T20:42:45.763Z"
   },
   {
    "duration": 33,
    "start_time": "2022-07-03T20:42:51.316Z"
   },
   {
    "duration": 9,
    "start_time": "2022-07-03T20:46:43.966Z"
   },
   {
    "duration": 24,
    "start_time": "2022-07-03T20:47:35.290Z"
   },
   {
    "duration": 13,
    "start_time": "2022-07-03T20:47:58.564Z"
   },
   {
    "duration": 14,
    "start_time": "2022-07-03T20:48:10.584Z"
   },
   {
    "duration": 11,
    "start_time": "2022-07-03T20:48:40.798Z"
   },
   {
    "duration": 13,
    "start_time": "2022-07-03T20:49:06.864Z"
   },
   {
    "duration": 18,
    "start_time": "2022-07-03T20:49:34.286Z"
   },
   {
    "duration": 14,
    "start_time": "2022-07-03T20:50:43.307Z"
   },
   {
    "duration": 5,
    "start_time": "2022-07-03T20:51:31.308Z"
   },
   {
    "duration": 14,
    "start_time": "2022-07-03T20:51:44.001Z"
   },
   {
    "duration": 3577,
    "start_time": "2022-07-03T20:52:21.209Z"
   },
   {
    "duration": 22,
    "start_time": "2022-07-03T20:52:26.809Z"
   },
   {
    "duration": 29,
    "start_time": "2022-07-03T20:52:49.968Z"
   },
   {
    "duration": 20,
    "start_time": "2022-07-03T20:52:50.627Z"
   },
   {
    "duration": 5,
    "start_time": "2022-07-03T20:53:19.625Z"
   },
   {
    "duration": 7,
    "start_time": "2022-07-03T20:53:51.470Z"
   },
   {
    "duration": 7,
    "start_time": "2022-07-03T20:54:09.856Z"
   },
   {
    "duration": 9,
    "start_time": "2022-07-03T20:54:16.625Z"
   },
   {
    "duration": 4,
    "start_time": "2022-07-03T20:54:38.111Z"
   },
   {
    "duration": 10,
    "start_time": "2022-07-03T20:54:46.017Z"
   },
   {
    "duration": 4,
    "start_time": "2022-07-03T20:55:09.675Z"
   },
   {
    "duration": 9,
    "start_time": "2022-07-03T20:55:14.624Z"
   },
   {
    "duration": 9,
    "start_time": "2022-07-03T20:55:50.816Z"
   },
   {
    "duration": 15,
    "start_time": "2022-07-03T20:55:59.451Z"
   },
   {
    "duration": 11,
    "start_time": "2022-07-03T20:56:39.743Z"
   },
   {
    "duration": 11,
    "start_time": "2022-07-03T20:56:41.372Z"
   },
   {
    "duration": 12,
    "start_time": "2022-07-03T20:58:09.470Z"
   },
   {
    "duration": 24,
    "start_time": "2022-07-03T20:58:17.472Z"
   },
   {
    "duration": 16,
    "start_time": "2022-07-03T21:00:33.502Z"
   },
   {
    "duration": 19,
    "start_time": "2022-07-03T21:00:34.552Z"
   },
   {
    "duration": 8,
    "start_time": "2022-07-03T21:02:37.152Z"
   },
   {
    "duration": 4,
    "start_time": "2022-07-03T21:02:45.560Z"
   },
   {
    "duration": 31,
    "start_time": "2022-07-03T21:02:47.611Z"
   },
   {
    "duration": 11,
    "start_time": "2022-07-03T21:02:52.917Z"
   },
   {
    "duration": 16,
    "start_time": "2022-07-03T21:02:57.071Z"
   },
   {
    "duration": 12,
    "start_time": "2022-07-03T21:04:30.879Z"
   },
   {
    "duration": 19,
    "start_time": "2022-07-03T21:04:31.657Z"
   }
  ],
  "kernelspec": {
   "display_name": "Python 3 (ipykernel)",
   "language": "python",
   "name": "python3"
  },
  "language_info": {
   "codemirror_mode": {
    "name": "ipython",
    "version": 3
   },
   "file_extension": ".py",
   "mimetype": "text/x-python",
   "name": "python",
   "nbconvert_exporter": "python",
   "pygments_lexer": "ipython3",
   "version": "3.9.5"
  },
  "toc": {
   "base_numbering": 1,
   "nav_menu": {},
   "number_sections": true,
   "sideBar": true,
   "skip_h1_title": true,
   "title_cell": "Table of Contents",
   "title_sidebar": "Contents",
   "toc_cell": false,
   "toc_position": {
    "height": "calc(100% - 180px)",
    "left": "10px",
    "top": "150px",
    "width": "266px"
   },
   "toc_section_display": true,
   "toc_window_display": true
  }
 },
 "nbformat": 4,
 "nbformat_minor": 2
}
