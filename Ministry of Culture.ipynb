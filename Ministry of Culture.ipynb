{
 "cells": [
  {
   "cell_type": "markdown",
   "id": "87bdf2ef",
   "metadata": {},
   "source": [
    "# Ministry of Culture"
   ]
  },
  {
   "cell_type": "markdown",
   "id": "7c89fe18",
   "metadata": {},
   "source": [
    "### General information"
   ]
  },
  {
   "cell_type": "markdown",
   "id": "f13d1124",
   "metadata": {},
   "source": [
    "**Research customer** — Ministry of Culture of the Russian\n",
    "Federation.\n",
    "We need to study the Russian film distribution market and identify current trends, pay attention to movies that have received state support.\n",
    "\n",
    "I will work with data published on the portal of open\n",
    "data from the Ministry of Culture. The dataset contains information about\n",
    "rental certificates, fees and government support\n",
    "films, as well as information from the KinoPoisk website.\n",
    "\n",
    "**Data info:**\n",
    "* `title` - movie title;\n",
    "* `puNumber` — rental certificate number;\n",
    "* `show_start_date` - movie premiere date;\n",
    "* `type` - movie type;\n",
    "* `film_studio` - production studio;\n",
    "* `production_country` - country of origin;\n",
    "* `director` — director;\n",
    "* `producer` - producer;\n",
    "* `age_restriction` - age category;\n",
    "* `refundable_support` — amount of state support refundable funds;\n",
    "* `nonrefundable_support` - the amount of non-refundable state support funds;\n",
    "* `financing_source` - source of government funding;\n",
    "* `budget` - the total budget of the movie;\n",
    "* `ratings` — movie rating on KinoPoisk;\n",
    "* `genres` - movie genre;\n",
    "* `box_office` — fees in rubles."
   ]
  },
  {
   "cell_type": "markdown",
   "id": "d84c4389",
   "metadata": {},
   "source": [
    "## Step 1. Explore the data"
   ]
  },
  {
   "cell_type": "code",
   "execution_count": 87,
   "id": "0819bbe8",
   "metadata": {
    "scrolled": true
   },
   "outputs": [
    {
     "data": {
      "text/html": [
       "<div>\n",
       "<style scoped>\n",
       "    .dataframe tbody tr th:only-of-type {\n",
       "        vertical-align: middle;\n",
       "    }\n",
       "\n",
       "    .dataframe tbody tr th {\n",
       "        vertical-align: top;\n",
       "    }\n",
       "\n",
       "    .dataframe thead th {\n",
       "        text-align: right;\n",
       "    }\n",
       "</style>\n",
       "<table border=\"1\" class=\"dataframe\">\n",
       "  <thead>\n",
       "    <tr style=\"text-align: right;\">\n",
       "      <th></th>\n",
       "      <th>title</th>\n",
       "      <th>puNumber</th>\n",
       "      <th>show_start_date</th>\n",
       "      <th>type</th>\n",
       "      <th>film_studio</th>\n",
       "      <th>production_country</th>\n",
       "      <th>director</th>\n",
       "      <th>producer</th>\n",
       "      <th>age_restriction</th>\n",
       "      <th>refundable_support</th>\n",
       "      <th>nonrefundable_support</th>\n",
       "      <th>budget</th>\n",
       "      <th>financing_source</th>\n",
       "      <th>ratings</th>\n",
       "      <th>genres</th>\n",
       "    </tr>\n",
       "  </thead>\n",
       "  <tbody>\n",
       "    <tr>\n",
       "      <th>0</th>\n",
       "      <td>Открытый простор</td>\n",
       "      <td>221048915</td>\n",
       "      <td>2015-11-27T12:00:00.000Z</td>\n",
       "      <td>Художественный</td>\n",
       "      <td>Тачстоун Пикчерз, Кобальт Пикчерз, Бикон Пикче...</td>\n",
       "      <td>США</td>\n",
       "      <td>Кевин Костнер</td>\n",
       "      <td>Дэвид Валдес, Кевин Костнер, Джейк Эбертс</td>\n",
       "      <td>«18+» - запрещено для детей</td>\n",
       "      <td>NaN</td>\n",
       "      <td>NaN</td>\n",
       "      <td>NaN</td>\n",
       "      <td>NaN</td>\n",
       "      <td>7.2</td>\n",
       "      <td>боевик,драма,мелодрама</td>\n",
       "    </tr>\n",
       "    <tr>\n",
       "      <th>1</th>\n",
       "      <td>Особо важное задание</td>\n",
       "      <td>111013716</td>\n",
       "      <td>2016-09-13T12:00:00.000Z</td>\n",
       "      <td>Художественный</td>\n",
       "      <td>Киностудия \"Мосфильм\"</td>\n",
       "      <td>СССР</td>\n",
       "      <td>Е.Матвеев</td>\n",
       "      <td>NaN</td>\n",
       "      <td>«6+» - для детей старше 6 лет</td>\n",
       "      <td>NaN</td>\n",
       "      <td>NaN</td>\n",
       "      <td>NaN</td>\n",
       "      <td>NaN</td>\n",
       "      <td>6.6</td>\n",
       "      <td>драма,военный</td>\n",
       "    </tr>\n",
       "    <tr>\n",
       "      <th>2</th>\n",
       "      <td>Особо опасен</td>\n",
       "      <td>221038416</td>\n",
       "      <td>2016-10-10T12:00:00.000Z</td>\n",
       "      <td>Художественный</td>\n",
       "      <td>Юниверсал Пикчерз, Кикстарт Продакшнз, Марк Пл...</td>\n",
       "      <td>США</td>\n",
       "      <td>Тимур Бекмамбетов</td>\n",
       "      <td>Джим Лемли, Джейсон Нетер, Марк Е.Платт, Яйн Смит</td>\n",
       "      <td>«18+» - запрещено для детей</td>\n",
       "      <td>NaN</td>\n",
       "      <td>NaN</td>\n",
       "      <td>NaN</td>\n",
       "      <td>NaN</td>\n",
       "      <td>6.8</td>\n",
       "      <td>фантастика,боевик,триллер</td>\n",
       "    </tr>\n",
       "    <tr>\n",
       "      <th>3</th>\n",
       "      <td>Особо опасен</td>\n",
       "      <td>221026916</td>\n",
       "      <td>2016-06-10T12:00:00.000Z</td>\n",
       "      <td>Художественный</td>\n",
       "      <td>Юниверсал Пикчерз, Кикстарт Продакшнз, Марк Пл...</td>\n",
       "      <td>США</td>\n",
       "      <td>Тимур Бекмамбетов</td>\n",
       "      <td>Джим Лемли, Джейсон Нетер, Марк Е.Платт, Яйн Смит</td>\n",
       "      <td>«18+» - запрещено для детей</td>\n",
       "      <td>NaN</td>\n",
       "      <td>NaN</td>\n",
       "      <td>NaN</td>\n",
       "      <td>NaN</td>\n",
       "      <td>6.8</td>\n",
       "      <td>фантастика,боевик,триллер</td>\n",
       "    </tr>\n",
       "    <tr>\n",
       "      <th>4</th>\n",
       "      <td>Особо опасен</td>\n",
       "      <td>221030815</td>\n",
       "      <td>2015-07-29T12:00:00.000Z</td>\n",
       "      <td>Художественный</td>\n",
       "      <td>Юниверсал Пикчерз, Кикстарт Продакшнз, Марк Пл...</td>\n",
       "      <td>США</td>\n",
       "      <td>Тимур Бекмамбетов</td>\n",
       "      <td>Джим Лемли, Джейсон Нетер, Марк Е.Платт, Яйн Смит</td>\n",
       "      <td>«18+» - запрещено для детей</td>\n",
       "      <td>NaN</td>\n",
       "      <td>NaN</td>\n",
       "      <td>NaN</td>\n",
       "      <td>NaN</td>\n",
       "      <td>6.8</td>\n",
       "      <td>фантастика,боевик,триллер</td>\n",
       "    </tr>\n",
       "    <tr>\n",
       "      <th>...</th>\n",
       "      <td>...</td>\n",
       "      <td>...</td>\n",
       "      <td>...</td>\n",
       "      <td>...</td>\n",
       "      <td>...</td>\n",
       "      <td>...</td>\n",
       "      <td>...</td>\n",
       "      <td>...</td>\n",
       "      <td>...</td>\n",
       "      <td>...</td>\n",
       "      <td>...</td>\n",
       "      <td>...</td>\n",
       "      <td>...</td>\n",
       "      <td>...</td>\n",
       "      <td>...</td>\n",
       "    </tr>\n",
       "    <tr>\n",
       "      <th>7481</th>\n",
       "      <td>Сад художника: Американский импрессионизм</td>\n",
       "      <td>126008019</td>\n",
       "      <td>2019-12-23T12:00:00.000Z</td>\n",
       "      <td>Прочие</td>\n",
       "      <td>Севен Артс Продакшнз</td>\n",
       "      <td>Великобритания</td>\n",
       "      <td>Фил Грабски</td>\n",
       "      <td>Фил Грабски</td>\n",
       "      <td>«12+» - для детей старше 12 лет</td>\n",
       "      <td>NaN</td>\n",
       "      <td>NaN</td>\n",
       "      <td>NaN</td>\n",
       "      <td>NaN</td>\n",
       "      <td>NaN</td>\n",
       "      <td>NaN</td>\n",
       "    </tr>\n",
       "    <tr>\n",
       "      <th>7482</th>\n",
       "      <td>Звериная ярость</td>\n",
       "      <td>121037819</td>\n",
       "      <td>2019-12-24T12:00:00.000Z</td>\n",
       "      <td>Художественный</td>\n",
       "      <td>Дэниел Гродник Продакшнз, Вандерфилм Медиа Кор...</td>\n",
       "      <td>США</td>\n",
       "      <td>Ник Пауэлл</td>\n",
       "      <td>Джефф Боулер, Дэниэл Гродник, Луильо Руис, Брэ...</td>\n",
       "      <td>«16+» - для детей старше 16 лет</td>\n",
       "      <td>NaN</td>\n",
       "      <td>NaN</td>\n",
       "      <td>NaN</td>\n",
       "      <td>NaN</td>\n",
       "      <td>5.4</td>\n",
       "      <td>боевик,триллер</td>\n",
       "    </tr>\n",
       "    <tr>\n",
       "      <th>7483</th>\n",
       "      <td>Щенячий патруль: Скорей спешим на помощь!</td>\n",
       "      <td>124010819</td>\n",
       "      <td>2019-12-28T12:00:00.000Z</td>\n",
       "      <td>Художественный</td>\n",
       "      <td>Никелодеон Анимейшн Студиос, Спин Мастер</td>\n",
       "      <td>США - Канада</td>\n",
       "      <td>Чарльз Е.Бастьен</td>\n",
       "      <td>Дженнифер Додж</td>\n",
       "      <td>«0+» - для любой зрительской аудитории</td>\n",
       "      <td>NaN</td>\n",
       "      <td>NaN</td>\n",
       "      <td>NaN</td>\n",
       "      <td>NaN</td>\n",
       "      <td>NaN</td>\n",
       "      <td>NaN</td>\n",
       "    </tr>\n",
       "    <tr>\n",
       "      <th>7484</th>\n",
       "      <td>Машины песенки. Серия \"Испанские мотивы\"</td>\n",
       "      <td>124010619</td>\n",
       "      <td>2019-12-30T12:00:00.000Z</td>\n",
       "      <td>Анимационный</td>\n",
       "      <td>Анимаккорд Лтд., ООО Студия \"АНИМАККОРД\"</td>\n",
       "      <td>Республика Кипр, Россия</td>\n",
       "      <td>А.Беляев</td>\n",
       "      <td>Д.Ловейко</td>\n",
       "      <td>«0+» - для любой зрительской аудитории</td>\n",
       "      <td>NaN</td>\n",
       "      <td>NaN</td>\n",
       "      <td>NaN</td>\n",
       "      <td>NaN</td>\n",
       "      <td>NaN</td>\n",
       "      <td>NaN</td>\n",
       "    </tr>\n",
       "    <tr>\n",
       "      <th>7485</th>\n",
       "      <td>Машины песенки. Серия \"Когда цветут кактусы\"</td>\n",
       "      <td>124010719</td>\n",
       "      <td>2019-12-30T12:00:00.000Z</td>\n",
       "      <td>Анимационный</td>\n",
       "      <td>Анимаккорд Лтд., ООО Студия \"АНИМАККОРД\"</td>\n",
       "      <td>Республика Кипр, Россия</td>\n",
       "      <td>И.Трусов</td>\n",
       "      <td>Д.Ловейко</td>\n",
       "      <td>«0+» - для любой зрительской аудитории</td>\n",
       "      <td>NaN</td>\n",
       "      <td>NaN</td>\n",
       "      <td>NaN</td>\n",
       "      <td>NaN</td>\n",
       "      <td>6.3</td>\n",
       "      <td>комедия,вестерн</td>\n",
       "    </tr>\n",
       "  </tbody>\n",
       "</table>\n",
       "<p>7486 rows × 15 columns</p>\n",
       "</div>"
      ],
      "text/plain": [
       "                                             title   puNumber  \\\n",
       "0                                 Открытый простор  221048915   \n",
       "1                             Особо важное задание  111013716   \n",
       "2                                     Особо опасен  221038416   \n",
       "3                                     Особо опасен  221026916   \n",
       "4                                     Особо опасен  221030815   \n",
       "...                                            ...        ...   \n",
       "7481     Сад художника: Американский импрессионизм  126008019   \n",
       "7482                               Звериная ярость  121037819   \n",
       "7483     Щенячий патруль: Скорей спешим на помощь!  124010819   \n",
       "7484      Машины песенки. Серия \"Испанские мотивы\"  124010619   \n",
       "7485  Машины песенки. Серия \"Когда цветут кактусы\"  124010719   \n",
       "\n",
       "               show_start_date             type  \\\n",
       "0     2015-11-27T12:00:00.000Z   Художественный   \n",
       "1     2016-09-13T12:00:00.000Z   Художественный   \n",
       "2     2016-10-10T12:00:00.000Z   Художественный   \n",
       "3     2016-06-10T12:00:00.000Z   Художественный   \n",
       "4     2015-07-29T12:00:00.000Z   Художественный   \n",
       "...                        ...              ...   \n",
       "7481  2019-12-23T12:00:00.000Z           Прочие   \n",
       "7482  2019-12-24T12:00:00.000Z   Художественный   \n",
       "7483  2019-12-28T12:00:00.000Z   Художественный   \n",
       "7484  2019-12-30T12:00:00.000Z     Анимационный   \n",
       "7485  2019-12-30T12:00:00.000Z     Анимационный   \n",
       "\n",
       "                                            film_studio  \\\n",
       "0     Тачстоун Пикчерз, Кобальт Пикчерз, Бикон Пикче...   \n",
       "1                                 Киностудия \"Мосфильм\"   \n",
       "2     Юниверсал Пикчерз, Кикстарт Продакшнз, Марк Пл...   \n",
       "3     Юниверсал Пикчерз, Кикстарт Продакшнз, Марк Пл...   \n",
       "4     Юниверсал Пикчерз, Кикстарт Продакшнз, Марк Пл...   \n",
       "...                                                 ...   \n",
       "7481                               Севен Артс Продакшнз   \n",
       "7482  Дэниел Гродник Продакшнз, Вандерфилм Медиа Кор...   \n",
       "7483           Никелодеон Анимейшн Студиос, Спин Мастер   \n",
       "7484           Анимаккорд Лтд., ООО Студия \"АНИМАККОРД\"   \n",
       "7485           Анимаккорд Лтд., ООО Студия \"АНИМАККОРД\"   \n",
       "\n",
       "           production_country           director  \\\n",
       "0                         США      Кевин Костнер   \n",
       "1                        СССР          Е.Матвеев   \n",
       "2                         США  Тимур Бекмамбетов   \n",
       "3                         США  Тимур Бекмамбетов   \n",
       "4                         США  Тимур Бекмамбетов   \n",
       "...                       ...                ...   \n",
       "7481           Великобритания        Фил Грабски   \n",
       "7482                      США         Ник Пауэлл   \n",
       "7483             США - Канада   Чарльз Е.Бастьен   \n",
       "7484  Республика Кипр, Россия           А.Беляев   \n",
       "7485  Республика Кипр, Россия           И.Трусов   \n",
       "\n",
       "                                               producer  \\\n",
       "0             Дэвид Валдес, Кевин Костнер, Джейк Эбертс   \n",
       "1                                                   NaN   \n",
       "2     Джим Лемли, Джейсон Нетер, Марк Е.Платт, Яйн Смит   \n",
       "3     Джим Лемли, Джейсон Нетер, Марк Е.Платт, Яйн Смит   \n",
       "4     Джим Лемли, Джейсон Нетер, Марк Е.Платт, Яйн Смит   \n",
       "...                                                 ...   \n",
       "7481                                        Фил Грабски   \n",
       "7482  Джефф Боулер, Дэниэл Гродник, Луильо Руис, Брэ...   \n",
       "7483                                     Дженнифер Додж   \n",
       "7484                                          Д.Ловейко   \n",
       "7485                                          Д.Ловейко   \n",
       "\n",
       "                             age_restriction  refundable_support  \\\n",
       "0                «18+» - запрещено для детей                 NaN   \n",
       "1              «6+» - для детей старше 6 лет                 NaN   \n",
       "2                «18+» - запрещено для детей                 NaN   \n",
       "3                «18+» - запрещено для детей                 NaN   \n",
       "4                «18+» - запрещено для детей                 NaN   \n",
       "...                                      ...                 ...   \n",
       "7481         «12+» - для детей старше 12 лет                 NaN   \n",
       "7482         «16+» - для детей старше 16 лет                 NaN   \n",
       "7483  «0+» - для любой зрительской аудитории                 NaN   \n",
       "7484  «0+» - для любой зрительской аудитории                 NaN   \n",
       "7485  «0+» - для любой зрительской аудитории                 NaN   \n",
       "\n",
       "      nonrefundable_support  budget financing_source ratings  \\\n",
       "0                       NaN     NaN              NaN     7.2   \n",
       "1                       NaN     NaN              NaN     6.6   \n",
       "2                       NaN     NaN              NaN     6.8   \n",
       "3                       NaN     NaN              NaN     6.8   \n",
       "4                       NaN     NaN              NaN     6.8   \n",
       "...                     ...     ...              ...     ...   \n",
       "7481                    NaN     NaN              NaN     NaN   \n",
       "7482                    NaN     NaN              NaN     5.4   \n",
       "7483                    NaN     NaN              NaN     NaN   \n",
       "7484                    NaN     NaN              NaN     NaN   \n",
       "7485                    NaN     NaN              NaN     6.3   \n",
       "\n",
       "                         genres  \n",
       "0        боевик,драма,мелодрама  \n",
       "1                 драма,военный  \n",
       "2     фантастика,боевик,триллер  \n",
       "3     фантастика,боевик,триллер  \n",
       "4     фантастика,боевик,триллер  \n",
       "...                         ...  \n",
       "7481                        NaN  \n",
       "7482             боевик,триллер  \n",
       "7483                        NaN  \n",
       "7484                        NaN  \n",
       "7485            комедия,вестерн  \n",
       "\n",
       "[7486 rows x 15 columns]"
      ]
     },
     "execution_count": 87,
     "metadata": {},
     "output_type": "execute_result"
    }
   ],
   "source": [
    "import pandas as pd\n",
    "import matplotlib.pyplot as plt\n",
    "pd.options.display.float_format = '{:.2f}'.format\n",
    "import warnings\n",
    "\n",
    "warnings.filterwarnings(action='ignore', category=FutureWarning)\n",
    "\n",
    "movies = pd.read_csv('/datasets/mkrf_movies.csv')\n",
    "movies"
   ]
  },
  {
   "cell_type": "code",
   "execution_count": 88,
   "id": "253bdca4",
   "metadata": {},
   "outputs": [
    {
     "data": {
      "text/html": [
       "<div>\n",
       "<style scoped>\n",
       "    .dataframe tbody tr th:only-of-type {\n",
       "        vertical-align: middle;\n",
       "    }\n",
       "\n",
       "    .dataframe tbody tr th {\n",
       "        vertical-align: top;\n",
       "    }\n",
       "\n",
       "    .dataframe thead th {\n",
       "        text-align: right;\n",
       "    }\n",
       "</style>\n",
       "<table border=\"1\" class=\"dataframe\">\n",
       "  <thead>\n",
       "    <tr style=\"text-align: right;\">\n",
       "      <th></th>\n",
       "      <th>puNumber</th>\n",
       "      <th>box_office</th>\n",
       "    </tr>\n",
       "  </thead>\n",
       "  <tbody>\n",
       "    <tr>\n",
       "      <th>2661</th>\n",
       "      <td>124000916</td>\n",
       "      <td>1293483.00</td>\n",
       "    </tr>\n",
       "    <tr>\n",
       "      <th>435</th>\n",
       "      <td>111009216</td>\n",
       "      <td>3300.00</td>\n",
       "    </tr>\n",
       "    <tr>\n",
       "      <th>1997</th>\n",
       "      <td>121021514</td>\n",
       "      <td>385450.00</td>\n",
       "    </tr>\n",
       "    <tr>\n",
       "      <th>67</th>\n",
       "      <td>111001311</td>\n",
       "      <td>200.00</td>\n",
       "    </tr>\n",
       "    <tr>\n",
       "      <th>978</th>\n",
       "      <td>121001516</td>\n",
       "      <td>16269205.58</td>\n",
       "    </tr>\n",
       "  </tbody>\n",
       "</table>\n",
       "</div>"
      ],
      "text/plain": [
       "       puNumber  box_office\n",
       "2661  124000916  1293483.00\n",
       "435   111009216     3300.00\n",
       "1997  121021514   385450.00\n",
       "67    111001311      200.00\n",
       "978   121001516 16269205.58"
      ]
     },
     "execution_count": 88,
     "metadata": {},
     "output_type": "execute_result"
    }
   ],
   "source": [
    "box_office = pd.read_csv('/datasets/mkrf_shows.csv')\n",
    "box_office.sample(5)"
   ]
  },
  {
   "cell_type": "code",
   "execution_count": 89,
   "id": "e0ae5d0a",
   "metadata": {},
   "outputs": [
    {
     "name": "stdout",
     "output_type": "stream",
     "text": [
      "<class 'pandas.core.frame.DataFrame'>\n",
      "RangeIndex: 7486 entries, 0 to 7485\n",
      "Data columns (total 15 columns):\n",
      " #   Column                 Non-Null Count  Dtype  \n",
      "---  ------                 --------------  -----  \n",
      " 0   title                  7486 non-null   object \n",
      " 1   puNumber               7486 non-null   object \n",
      " 2   show_start_date        7486 non-null   object \n",
      " 3   type                   7486 non-null   object \n",
      " 4   film_studio            7468 non-null   object \n",
      " 5   production_country     7484 non-null   object \n",
      " 6   director               7477 non-null   object \n",
      " 7   producer               6918 non-null   object \n",
      " 8   age_restriction        7486 non-null   object \n",
      " 9   refundable_support     332 non-null    float64\n",
      " 10  nonrefundable_support  332 non-null    float64\n",
      " 11  budget                 332 non-null    float64\n",
      " 12  financing_source       332 non-null    object \n",
      " 13  ratings                6519 non-null   object \n",
      " 14  genres                 6510 non-null   object \n",
      "dtypes: float64(3), object(12)\n",
      "memory usage: 877.4+ KB\n"
     ]
    }
   ],
   "source": [
    "movies.info()"
   ]
  },
  {
   "cell_type": "code",
   "execution_count": 90,
   "id": "200bd232",
   "metadata": {},
   "outputs": [
    {
     "name": "stdout",
     "output_type": "stream",
     "text": [
      "<class 'pandas.core.frame.DataFrame'>\n",
      "RangeIndex: 3158 entries, 0 to 3157\n",
      "Data columns (total 2 columns):\n",
      " #   Column      Non-Null Count  Dtype  \n",
      "---  ------      --------------  -----  \n",
      " 0   puNumber    3158 non-null   int64  \n",
      " 1   box_office  3158 non-null   float64\n",
      "dtypes: float64(1), int64(1)\n",
      "memory usage: 49.5 KB\n"
     ]
    }
   ],
   "source": [
    "box_office.info()"
   ]
  },
  {
   "cell_type": "code",
   "execution_count": 91,
   "id": "94b5b89e",
   "metadata": {},
   "outputs": [
    {
     "data": {
      "text/html": [
       "<div>\n",
       "<style scoped>\n",
       "    .dataframe tbody tr th:only-of-type {\n",
       "        vertical-align: middle;\n",
       "    }\n",
       "\n",
       "    .dataframe tbody tr th {\n",
       "        vertical-align: top;\n",
       "    }\n",
       "\n",
       "    .dataframe thead th {\n",
       "        text-align: right;\n",
       "    }\n",
       "</style>\n",
       "<table border=\"1\" class=\"dataframe\">\n",
       "  <thead>\n",
       "    <tr style=\"text-align: right;\">\n",
       "      <th></th>\n",
       "      <th>title</th>\n",
       "      <th>puNumber</th>\n",
       "      <th>show_start_date</th>\n",
       "      <th>type</th>\n",
       "      <th>film_studio</th>\n",
       "      <th>production_country</th>\n",
       "      <th>director</th>\n",
       "      <th>producer</th>\n",
       "      <th>age_restriction</th>\n",
       "      <th>refundable_support</th>\n",
       "      <th>nonrefundable_support</th>\n",
       "      <th>budget</th>\n",
       "      <th>financing_source</th>\n",
       "      <th>ratings</th>\n",
       "      <th>genres</th>\n",
       "    </tr>\n",
       "  </thead>\n",
       "  <tbody>\n",
       "    <tr>\n",
       "      <th>1797</th>\n",
       "      <td>Курбан-роман. (История с жертвой)</td>\n",
       "      <td>нет</td>\n",
       "      <td>2014-05-15T12:00:00.000Z</td>\n",
       "      <td>Художественный</td>\n",
       "      <td>ФОНД \"ИННОВАЦИЯ\"</td>\n",
       "      <td>Россия</td>\n",
       "      <td>С.Юзеев</td>\n",
       "      <td>М.Галицкая</td>\n",
       "      <td>«12+» - для детей старше 12 лет</td>\n",
       "      <td>NaN</td>\n",
       "      <td>NaN</td>\n",
       "      <td>NaN</td>\n",
       "      <td>NaN</td>\n",
       "      <td>NaN</td>\n",
       "      <td>NaN</td>\n",
       "    </tr>\n",
       "  </tbody>\n",
       "</table>\n",
       "</div>"
      ],
      "text/plain": [
       "                                  title puNumber           show_start_date  \\\n",
       "1797  Курбан-роман. (История с жертвой)      нет  2014-05-15T12:00:00.000Z   \n",
       "\n",
       "                type       film_studio production_country director  \\\n",
       "1797  Художественный  ФОНД \"ИННОВАЦИЯ\"             Россия  С.Юзеев   \n",
       "\n",
       "        producer                  age_restriction  refundable_support  \\\n",
       "1797  М.Галицкая  «12+» - для детей старше 12 лет                 NaN   \n",
       "\n",
       "      nonrefundable_support  budget financing_source ratings genres  \n",
       "1797                    NaN     NaN              NaN     NaN    NaN  "
      ]
     },
     "execution_count": 91,
     "metadata": {},
     "output_type": "execute_result"
    }
   ],
   "source": [
    "movies[movies['puNumber'] == 'нет']"
   ]
  },
  {
   "cell_type": "code",
   "execution_count": 92,
   "id": "08e9a6e1",
   "metadata": {
    "scrolled": true
   },
   "outputs": [
    {
     "name": "stdout",
     "output_type": "stream",
     "text": [
      "<class 'pandas.core.frame.DataFrame'>\n",
      "RangeIndex: 7486 entries, 0 to 7485\n",
      "Data columns (total 15 columns):\n",
      " #   Column                 Non-Null Count  Dtype  \n",
      "---  ------                 --------------  -----  \n",
      " 0   title                  7486 non-null   object \n",
      " 1   puNumber               7486 non-null   int64  \n",
      " 2   show_start_date        7486 non-null   object \n",
      " 3   type                   7486 non-null   object \n",
      " 4   film_studio            7468 non-null   object \n",
      " 5   production_country     7484 non-null   object \n",
      " 6   director               7477 non-null   object \n",
      " 7   producer               6918 non-null   object \n",
      " 8   age_restriction        7486 non-null   object \n",
      " 9   refundable_support     332 non-null    float64\n",
      " 10  nonrefundable_support  332 non-null    float64\n",
      " 11  budget                 332 non-null    float64\n",
      " 12  financing_source       332 non-null    object \n",
      " 13  ratings                6519 non-null   object \n",
      " 14  genres                 6510 non-null   object \n",
      "dtypes: float64(3), int64(1), object(11)\n",
      "memory usage: 877.4+ KB\n"
     ]
    }
   ],
   "source": [
    "movies.loc[(movies['puNumber'] == 'нет'), 'puNumber'] = 0\n",
    "movies['puNumber'] = pd.to_numeric(movies['puNumber'])\n",
    "movies.info()"
   ]
  },
  {
   "cell_type": "code",
   "execution_count": 93,
   "id": "5655fb3b",
   "metadata": {},
   "outputs": [
    {
     "data": {
      "text/html": [
       "<div>\n",
       "<style scoped>\n",
       "    .dataframe tbody tr th:only-of-type {\n",
       "        vertical-align: middle;\n",
       "    }\n",
       "\n",
       "    .dataframe tbody tr th {\n",
       "        vertical-align: top;\n",
       "    }\n",
       "\n",
       "    .dataframe thead th {\n",
       "        text-align: right;\n",
       "    }\n",
       "</style>\n",
       "<table border=\"1\" class=\"dataframe\">\n",
       "  <thead>\n",
       "    <tr style=\"text-align: right;\">\n",
       "      <th></th>\n",
       "      <th>title</th>\n",
       "      <th>puNumber</th>\n",
       "      <th>show_start_date</th>\n",
       "      <th>type</th>\n",
       "      <th>film_studio</th>\n",
       "      <th>production_country</th>\n",
       "      <th>director</th>\n",
       "      <th>producer</th>\n",
       "      <th>age_restriction</th>\n",
       "      <th>refundable_support</th>\n",
       "      <th>nonrefundable_support</th>\n",
       "      <th>budget</th>\n",
       "      <th>financing_source</th>\n",
       "      <th>ratings</th>\n",
       "      <th>genres</th>\n",
       "      <th>box_office</th>\n",
       "    </tr>\n",
       "  </thead>\n",
       "  <tbody>\n",
       "    <tr>\n",
       "      <th>2464</th>\n",
       "      <td>Наваждение (2015)</td>\n",
       "      <td>126002815</td>\n",
       "      <td>2015-09-11T12:00:00.000Z</td>\n",
       "      <td>Прочие</td>\n",
       "      <td>Джугсоу Продакшнз, Скай Атлантик, Эйч Би Оу До...</td>\n",
       "      <td>США</td>\n",
       "      <td>Алекс Гибни</td>\n",
       "      <td>Кристин Ваурио, Алекс Гибни, Лоуренс Райт</td>\n",
       "      <td>«16+» - для детей старше 16 лет</td>\n",
       "      <td>NaN</td>\n",
       "      <td>NaN</td>\n",
       "      <td>NaN</td>\n",
       "      <td>NaN</td>\n",
       "      <td>7.3</td>\n",
       "      <td>документальный</td>\n",
       "      <td>1954807.00</td>\n",
       "    </tr>\n",
       "  </tbody>\n",
       "</table>\n",
       "</div>"
      ],
      "text/plain": [
       "                  title   puNumber           show_start_date    type  \\\n",
       "2464  Наваждение (2015)  126002815  2015-09-11T12:00:00.000Z  Прочие   \n",
       "\n",
       "                                            film_studio production_country  \\\n",
       "2464  Джугсоу Продакшнз, Скай Атлантик, Эйч Би Оу До...                США   \n",
       "\n",
       "         director                                   producer  \\\n",
       "2464  Алекс Гибни  Кристин Ваурио, Алекс Гибни, Лоуренс Райт   \n",
       "\n",
       "                      age_restriction  refundable_support  \\\n",
       "2464  «16+» - для детей старше 16 лет                 NaN   \n",
       "\n",
       "      nonrefundable_support  budget financing_source ratings          genres  \\\n",
       "2464                    NaN     NaN              NaN     7.3  документальный   \n",
       "\n",
       "      box_office  \n",
       "2464  1954807.00  "
      ]
     },
     "execution_count": 93,
     "metadata": {},
     "output_type": "execute_result"
    }
   ],
   "source": [
    "#let's match the tables\n",
    "movies = movies.merge(box_office, on='puNumber', how='outer')\n",
    "movies.sample()"
   ]
  },
  {
   "cell_type": "code",
   "execution_count": 94,
   "id": "5f7cfa8e",
   "metadata": {
    "scrolled": false
   },
   "outputs": [
    {
     "name": "stdout",
     "output_type": "stream",
     "text": [
      "<class 'pandas.core.frame.DataFrame'>\n",
      "Int64Index: 7486 entries, 0 to 7485\n",
      "Data columns (total 16 columns):\n",
      " #   Column                 Non-Null Count  Dtype  \n",
      "---  ------                 --------------  -----  \n",
      " 0   title                  7486 non-null   object \n",
      " 1   puNumber               7486 non-null   int64  \n",
      " 2   show_start_date        7486 non-null   object \n",
      " 3   type                   7486 non-null   object \n",
      " 4   film_studio            7468 non-null   object \n",
      " 5   production_country     7484 non-null   object \n",
      " 6   director               7477 non-null   object \n",
      " 7   producer               6918 non-null   object \n",
      " 8   age_restriction        7486 non-null   object \n",
      " 9   refundable_support     332 non-null    float64\n",
      " 10  nonrefundable_support  332 non-null    float64\n",
      " 11  budget                 332 non-null    float64\n",
      " 12  financing_source       332 non-null    object \n",
      " 13  ratings                6519 non-null   object \n",
      " 14  genres                 6510 non-null   object \n",
      " 15  box_office             3158 non-null   float64\n",
      "dtypes: float64(4), int64(1), object(11)\n",
      "memory usage: 994.2+ KB\n"
     ]
    }
   ],
   "source": [
    "#проверим, получилось ли у нас совместить таблицы\n",
    "movies.info()"
   ]
  },
  {
   "cell_type": "markdown",
   "id": "d51e0454",
   "metadata": {},
   "source": [
    "Great, the data is collected correctly, the `box_office` column has joined in full"
   ]
  },
  {
   "cell_type": "code",
   "execution_count": 95,
   "id": "4476eb30",
   "metadata": {},
   "outputs": [
    {
     "data": {
      "text/html": [
       "<div>\n",
       "<style scoped>\n",
       "    .dataframe tbody tr th:only-of-type {\n",
       "        vertical-align: middle;\n",
       "    }\n",
       "\n",
       "    .dataframe tbody tr th {\n",
       "        vertical-align: top;\n",
       "    }\n",
       "\n",
       "    .dataframe thead th {\n",
       "        text-align: right;\n",
       "    }\n",
       "</style>\n",
       "<table border=\"1\" class=\"dataframe\">\n",
       "  <thead>\n",
       "    <tr style=\"text-align: right;\">\n",
       "      <th></th>\n",
       "      <th>puNumber</th>\n",
       "      <th>refundable_support</th>\n",
       "      <th>nonrefundable_support</th>\n",
       "      <th>budget</th>\n",
       "      <th>box_office</th>\n",
       "    </tr>\n",
       "  </thead>\n",
       "  <tbody>\n",
       "    <tr>\n",
       "      <th>count</th>\n",
       "      <td>7486.00</td>\n",
       "      <td>332.00</td>\n",
       "      <td>332.00</td>\n",
       "      <td>332.00</td>\n",
       "      <td>3158.00</td>\n",
       "    </tr>\n",
       "    <tr>\n",
       "      <th>mean</th>\n",
       "      <td>135178527.64</td>\n",
       "      <td>11864457.83</td>\n",
       "      <td>48980988.89</td>\n",
       "      <td>127229716.68</td>\n",
       "      <td>76478696.16</td>\n",
       "    </tr>\n",
       "    <tr>\n",
       "      <th>std</th>\n",
       "      <td>38382177.41</td>\n",
       "      <td>24916555.26</td>\n",
       "      <td>59980117.92</td>\n",
       "      <td>188588333.12</td>\n",
       "      <td>240353122.82</td>\n",
       "    </tr>\n",
       "    <tr>\n",
       "      <th>min</th>\n",
       "      <td>0.00</td>\n",
       "      <td>0.00</td>\n",
       "      <td>0.00</td>\n",
       "      <td>0.00</td>\n",
       "      <td>0.00</td>\n",
       "    </tr>\n",
       "    <tr>\n",
       "      <th>25%</th>\n",
       "      <td>112025043.00</td>\n",
       "      <td>0.00</td>\n",
       "      <td>25000000.00</td>\n",
       "      <td>42000000.00</td>\n",
       "      <td>86239.00</td>\n",
       "    </tr>\n",
       "    <tr>\n",
       "      <th>50%</th>\n",
       "      <td>121015464.50</td>\n",
       "      <td>0.00</td>\n",
       "      <td>30000000.00</td>\n",
       "      <td>68649916.00</td>\n",
       "      <td>2327987.55</td>\n",
       "    </tr>\n",
       "    <tr>\n",
       "      <th>75%</th>\n",
       "      <td>124003313.75</td>\n",
       "      <td>15000000.00</td>\n",
       "      <td>40375000.00</td>\n",
       "      <td>141985319.50</td>\n",
       "      <td>23979671.02</td>\n",
       "    </tr>\n",
       "    <tr>\n",
       "      <th>max</th>\n",
       "      <td>231001111.00</td>\n",
       "      <td>180000000.00</td>\n",
       "      <td>400000000.00</td>\n",
       "      <td>2305074303.00</td>\n",
       "      <td>3073568690.79</td>\n",
       "    </tr>\n",
       "  </tbody>\n",
       "</table>\n",
       "</div>"
      ],
      "text/plain": [
       "          puNumber  refundable_support  nonrefundable_support        budget  \\\n",
       "count      7486.00              332.00                 332.00        332.00   \n",
       "mean  135178527.64         11864457.83            48980988.89  127229716.68   \n",
       "std    38382177.41         24916555.26            59980117.92  188588333.12   \n",
       "min           0.00                0.00                   0.00          0.00   \n",
       "25%   112025043.00                0.00            25000000.00   42000000.00   \n",
       "50%   121015464.50                0.00            30000000.00   68649916.00   \n",
       "75%   124003313.75         15000000.00            40375000.00  141985319.50   \n",
       "max   231001111.00        180000000.00           400000000.00 2305074303.00   \n",
       "\n",
       "         box_office  \n",
       "count       3158.00  \n",
       "mean    76478696.16  \n",
       "std    240353122.82  \n",
       "min            0.00  \n",
       "25%        86239.00  \n",
       "50%      2327987.55  \n",
       "75%     23979671.02  \n",
       "max   3073568690.79  "
      ]
     },
     "execution_count": 95,
     "metadata": {},
     "output_type": "execute_result"
    }
   ],
   "source": [
    "movies.describe()"
   ]
  },
  {
   "cell_type": "markdown",
   "id": "b53fd2b8",
   "metadata": {},
   "source": [
    "**Conclusion**\n",
    "We have 16 columns in the table, there are gaps, and the data in some of the gaps does not correspond to reality, we will need to deal with this in preprocessing and correct the table."
   ]
  },
  {
   "cell_type": "markdown",
   "id": "beb74c6f",
   "metadata": {},
   "source": [
    "## Step 2. Data preprocessing"
   ]
  },
  {
   "cell_type": "code",
   "execution_count": 96,
   "id": "c9a23c83",
   "metadata": {},
   "outputs": [
    {
     "data": {
      "text/plain": [
       "Index(['title', 'pu_number', 'show_start_date', 'type', 'film_studio',\n",
       "       'production_country', 'director', 'producer', 'age_restriction',\n",
       "       'refundable_support', 'nonrefundable_support', 'budget',\n",
       "       'financing_source', 'ratings', 'genres', 'box_office'],\n",
       "      dtype='object')"
      ]
     },
     "execution_count": 96,
     "metadata": {},
     "output_type": "execute_result"
    }
   ],
   "source": [
    "#we have almost no incorrect names, the only thing I would change is the name of the rental certificate number\n",
    "movies.rename(columns = {'puNumber':'pu_number'}, inplace=True)\n",
    "movies.columns"
   ]
  },
  {
   "cell_type": "code",
   "execution_count": 97,
   "id": "c3389b7d",
   "metadata": {},
   "outputs": [
    {
     "name": "stdout",
     "output_type": "stream",
     "text": [
      "<class 'pandas.core.frame.DataFrame'>\n",
      "Int64Index: 7486 entries, 0 to 7485\n",
      "Data columns (total 16 columns):\n",
      " #   Column                 Non-Null Count  Dtype  \n",
      "---  ------                 --------------  -----  \n",
      " 0   title                  7486 non-null   object \n",
      " 1   pu_number              7486 non-null   int64  \n",
      " 2   show_start_date        7486 non-null   object \n",
      " 3   type                   7486 non-null   object \n",
      " 4   film_studio            7468 non-null   object \n",
      " 5   production_country     7484 non-null   object \n",
      " 6   director               7477 non-null   object \n",
      " 7   producer               6918 non-null   object \n",
      " 8   age_restriction        7486 non-null   object \n",
      " 9   refundable_support     332 non-null    float64\n",
      " 10  nonrefundable_support  332 non-null    float64\n",
      " 11  budget                 332 non-null    float64\n",
      " 12  financing_source       332 non-null    object \n",
      " 13  ratings                6519 non-null   object \n",
      " 14  genres                 6510 non-null   object \n",
      " 15  box_office             3158 non-null   float64\n",
      "dtypes: float64(4), int64(1), object(11)\n",
      "memory usage: 994.2+ KB\n"
     ]
    }
   ],
   "source": [
    "movies.info()"
   ]
  },
  {
   "cell_type": "code",
   "execution_count": 98,
   "id": "524290c2",
   "metadata": {},
   "outputs": [
    {
     "data": {
      "text/html": [
       "<div>\n",
       "<style scoped>\n",
       "    .dataframe tbody tr th:only-of-type {\n",
       "        vertical-align: middle;\n",
       "    }\n",
       "\n",
       "    .dataframe tbody tr th {\n",
       "        vertical-align: top;\n",
       "    }\n",
       "\n",
       "    .dataframe thead th {\n",
       "        text-align: right;\n",
       "    }\n",
       "</style>\n",
       "<table border=\"1\" class=\"dataframe\">\n",
       "  <thead>\n",
       "    <tr style=\"text-align: right;\">\n",
       "      <th></th>\n",
       "      <th>title</th>\n",
       "      <th>pu_number</th>\n",
       "      <th>show_start_date</th>\n",
       "      <th>type</th>\n",
       "      <th>film_studio</th>\n",
       "      <th>production_country</th>\n",
       "      <th>director</th>\n",
       "      <th>producer</th>\n",
       "      <th>age_restriction</th>\n",
       "      <th>refundable_support</th>\n",
       "      <th>nonrefundable_support</th>\n",
       "      <th>budget</th>\n",
       "      <th>financing_source</th>\n",
       "      <th>ratings</th>\n",
       "      <th>genres</th>\n",
       "      <th>box_office</th>\n",
       "    </tr>\n",
       "  </thead>\n",
       "  <tbody>\n",
       "    <tr>\n",
       "      <th>4047</th>\n",
       "      <td>Супруги Морган в бегах</td>\n",
       "      <td>221007510</td>\n",
       "      <td>2010-02-05 12:00:00+00:00</td>\n",
       "      <td>Художественный</td>\n",
       "      <td>Коламбиа Пикчерз, Рилетивити Медиа, Кэстл Рок ...</td>\n",
       "      <td>США</td>\n",
       "      <td>Марк Лоуренс</td>\n",
       "      <td>Лиз Глотцер, Мартин Шэфер</td>\n",
       "      <td>«16+» - для детей старше 16 лет</td>\n",
       "      <td>NaN</td>\n",
       "      <td>NaN</td>\n",
       "      <td>NaN</td>\n",
       "      <td>NaN</td>\n",
       "      <td>5.6</td>\n",
       "      <td>драма,мелодрама,комедия</td>\n",
       "      <td>NaN</td>\n",
       "    </tr>\n",
       "  </tbody>\n",
       "</table>\n",
       "</div>"
      ],
      "text/plain": [
       "                       title  pu_number           show_start_date  \\\n",
       "4047  Супруги Морган в бегах  221007510 2010-02-05 12:00:00+00:00   \n",
       "\n",
       "                type                                        film_studio  \\\n",
       "4047  Художественный  Коламбиа Пикчерз, Рилетивити Медиа, Кэстл Рок ...   \n",
       "\n",
       "     production_country      director                   producer  \\\n",
       "4047                США  Марк Лоуренс  Лиз Глотцер, Мартин Шэфер   \n",
       "\n",
       "                      age_restriction  refundable_support  \\\n",
       "4047  «16+» - для детей старше 16 лет                 NaN   \n",
       "\n",
       "      nonrefundable_support  budget financing_source ratings  \\\n",
       "4047                    NaN     NaN              NaN     5.6   \n",
       "\n",
       "                       genres  box_office  \n",
       "4047  драма,мелодрама,комедия         NaN  "
      ]
     },
     "execution_count": 98,
     "metadata": {},
     "output_type": "execute_result"
    }
   ],
   "source": [
    "#change the data type in the show_start_date column to a date\n",
    "movies['show_start_date'] = pd.to_datetime(movies['show_start_date'], format='%Y-%m-%dT%H:%M:%S')\n",
    "movies.sample()"
   ]
  },
  {
   "cell_type": "code",
   "execution_count": 99,
   "id": "3d9222a8",
   "metadata": {},
   "outputs": [
    {
     "data": {
      "text/plain": [
       "array(['Художественный', 'Анимационный', 'Прочие', 'Документальный',\n",
       "       'Научно-популярный', ' Художественный', ' Анимационный',\n",
       "       'Музыкально-развлекательный'], dtype=object)"
      ]
     },
     "execution_count": 99,
     "metadata": {},
     "output_type": "execute_result"
    }
   ],
   "source": [
    "movies['type'].unique()"
   ]
  },
  {
   "cell_type": "markdown",
   "id": "b828d6b0",
   "metadata": {},
   "source": [
    "In the `type` column we have two duplicates, they are related to a space in the value, let's fix it"
   ]
  },
  {
   "cell_type": "code",
   "execution_count": 100,
   "id": "3d5ac2a7",
   "metadata": {},
   "outputs": [
    {
     "data": {
      "text/plain": [
       "array(['Художественный', 'Анимационный', 'Прочие', 'Документальный',\n",
       "       'Научно-популярный', 'Музыкально-развлекательный'], dtype=object)"
      ]
     },
     "execution_count": 100,
     "metadata": {},
     "output_type": "execute_result"
    }
   ],
   "source": [
    "movies['type'] = movies['type'].str.strip()\n",
    "movies['type'].unique()"
   ]
  },
  {
   "cell_type": "code",
   "execution_count": 101,
   "id": "d64d5a05",
   "metadata": {},
   "outputs": [
    {
     "data": {
      "text/plain": [
       "array(['«18+» - запрещено для детей', '«6+» - для детей старше 6 лет',\n",
       "       '«12+» - для детей старше 12 лет',\n",
       "       '«16+» - для детей старше 16 лет',\n",
       "       '«0+» - для любой зрительской аудитории'], dtype=object)"
      ]
     },
     "execution_count": 101,
     "metadata": {},
     "output_type": "execute_result"
    }
   ],
   "source": [
    "#here it's good\n",
    "movies['age_restriction'].unique()"
   ]
  },
  {
   "cell_type": "code",
   "execution_count": 102,
   "id": "e46d269a",
   "metadata": {},
   "outputs": [
    {
     "data": {
      "text/plain": [
       "array([         nan, 0.000000e+00, 5.000000e+07, 2.600000e+07,\n",
       "       3.000000e+07, 1.500000e+07, 1.000000e+07, 2.000000e+07,\n",
       "       7.153119e+06, 2.500000e+07, 4.000000e+07, 6.000000e+07,\n",
       "       4.400000e+07, 2.900000e+07, 4.100000e+07, 3.600000e+07,\n",
       "       3.500000e+06, 5.000000e+06, 1.900000e+07, 9.000000e+06,\n",
       "       1.100000e+08, 1.700000e+07, 7.500000e+07, 1.500000e+08,\n",
       "       3.800000e+07, 1.000000e+08, 5.500000e+07, 7.000000e+06,\n",
       "       7.346881e+06, 8.000000e+06, 1.150000e+08, 3.500000e+07,\n",
       "       1.800000e+08, 2.800000e+07, 8.000000e+07])"
      ]
     },
     "execution_count": 102,
     "metadata": {},
     "output_type": "execute_result"
    }
   ],
   "source": [
    "movies['refundable_support'].unique()"
   ]
  },
  {
   "cell_type": "code",
   "execution_count": 103,
   "id": "1c4e23c1",
   "metadata": {},
   "outputs": [
    {
     "data": {
      "text/plain": [
       "7154"
      ]
     },
     "execution_count": 103,
     "metadata": {},
     "output_type": "execute_result"
    }
   ],
   "source": [
    "movies['refundable_support'].isna().sum()"
   ]
  },
  {
   "cell_type": "code",
   "execution_count": 104,
   "id": "1936adbc",
   "metadata": {
    "scrolled": false
   },
   "outputs": [
    {
     "data": {
      "text/plain": [
       "array([           nan, 2.65000000e+07, 2.60000000e+07, 1.07847945e+08,\n",
       "       2.80000000e+07, 2.50000000e+07, 1.00000000e+08, 4.65022990e+07,\n",
       "       7.50000000e+07, 3.40000000e+07, 3.00000000e+07, 4.00000000e+07,\n",
       "       2.30000000e+07, 4.50000000e+07, 5.65790550e+07, 2.55000000e+07,\n",
       "       2.75100000e+07, 1.00000000e+07, 2.40000000e+07, 2.45000000e+07,\n",
       "       2.70000000e+07, 5.00000000e+06, 9.00000000e+07, 2.00000000e+07,\n",
       "       7.00000000e+07, 9.70000000e+07, 2.44500000e+07, 5.00000000e+07,\n",
       "       0.00000000e+00, 6.00000000e+07, 2.75000000e+07, 2.69500000e+07,\n",
       "       1.10000000e+08, 1.50000000e+07, 5.90000000e+07, 2.50000000e+08,\n",
       "       3.70000000e+07, 3.50000000e+07, 2.01452850e+07, 2.59000000e+07,\n",
       "       6.00000000e+06, 3.92104482e+08, 2.52000000e+07, 2.29040000e+07,\n",
       "       2.90000000e+07, 5.10000000e+07, 4.70000000e+06, 5.30000000e+06,\n",
       "       2.17000000e+07, 2.49860000e+07, 2.53450000e+07, 1.33000000e+08,\n",
       "       1.75000000e+08, 3.01239150e+07, 2.85000000e+07, 3.00000000e+08,\n",
       "       4.15000000e+07, 2.00000000e+08, 1.50000000e+08, 5.50000000e+07,\n",
       "       6.40000000e+07, 5.00008660e+07, 1.15200000e+07, 1.90000000e+08,\n",
       "       2.25000000e+08, 8.00000000e+06, 4.00000000e+08, 2.60000000e+08,\n",
       "       3.10000000e+07, 8.50000000e+07, 8.00000000e+07, 1.38969465e+08,\n",
       "       1.20000000e+08, 1.30000000e+08, 1.40000000e+08, 3.00000000e+06])"
      ]
     },
     "execution_count": 104,
     "metadata": {},
     "output_type": "execute_result"
    }
   ],
   "source": [
    "movies['nonrefundable_support'].unique()"
   ]
  },
  {
   "cell_type": "code",
   "execution_count": 105,
   "id": "9a50b972",
   "metadata": {},
   "outputs": [
    {
     "data": {
      "text/plain": [
       "7154"
      ]
     },
     "execution_count": 105,
     "metadata": {},
     "output_type": "execute_result"
    }
   ],
   "source": [
    "movies['nonrefundable_support'].isna().sum()"
   ]
  },
  {
   "cell_type": "markdown",
   "id": "75d10de6",
   "metadata": {},
   "source": [
    "On the issue of financing, we have the same lack of data, unfortunately we cannot fill it up, besides, the number is very large, so we will leave the data as it is and see how it goes on"
   ]
  },
  {
   "cell_type": "code",
   "execution_count": 106,
   "id": "b3c917d8",
   "metadata": {},
   "outputs": [
    {
     "data": {
      "text/plain": [
       "array([nan, 'Министерство культуры', 'Фонд кино',\n",
       "       'Министерство культуры, Фонд кино'], dtype=object)"
      ]
     },
     "execution_count": 106,
     "metadata": {},
     "output_type": "execute_result"
    }
   ],
   "source": [
    "movies['financing_source'].unique()"
   ]
  },
  {
   "cell_type": "code",
   "execution_count": 107,
   "id": "e269268d",
   "metadata": {},
   "outputs": [
    {
     "data": {
      "text/plain": [
       "7154"
      ]
     },
     "execution_count": 107,
     "metadata": {},
     "output_type": "execute_result"
    }
   ],
   "source": [
    "movies['financing_source'].isna().sum()"
   ]
  },
  {
   "cell_type": "markdown",
   "id": "1e8fd288",
   "metadata": {},
   "source": [
    "It's the same here, which is obvious, if we don't know who financed, we don't know how much they contributed. Passes are the same"
   ]
  },
  {
   "cell_type": "code",
   "execution_count": 108,
   "id": "ae22557a",
   "metadata": {
    "scrolled": true
   },
   "outputs": [
    {
     "data": {
      "text/plain": [
       "array([           nan, 7.94119000e+07, 3.71428570e+07, 1.76023490e+08,\n",
       "       4.05741400e+07, 4.00151220e+07, 5.18500000e+07, 2.20588394e+08,\n",
       "       8.62100670e+07, 1.39551503e+08, 4.85714300e+07, 8.00000000e+07,\n",
       "       3.62595000e+07, 7.08761720e+07, 2.52489571e+08, 7.49100000e+07,\n",
       "       0.00000000e+00, 8.97823120e+07, 4.36437176e+08, 4.05000000e+07,\n",
       "       6.84906060e+07, 4.50066090e+07, 1.31000000e+08, 5.00000000e+08,\n",
       "       6.10114070e+07, 4.00000000e+07, 3.73712620e+07, 3.52969500e+07,\n",
       "       4.30000000e+07, 7.74017510e+07, 3.50000000e+07, 5.11967110e+07,\n",
       "       9.01200000e+07, 2.67288892e+08, 4.92804960e+07, 4.90714280e+07,\n",
       "       4.69688830e+07, 5.51950000e+07, 1.56360666e+08, 3.74247960e+07,\n",
       "       3.57600600e+07, 2.81155800e+07, 3.79436520e+07, 1.38325738e+08,\n",
       "       4.22525090e+07, 3.99900000e+07, 1.12000000e+08, 5.57294240e+07,\n",
       "       3.57142860e+07, 1.39357211e+08, 5.02187410e+07, 4.02650000e+07,\n",
       "       3.90579710e+07, 9.25000000e+07, 4.14978600e+07, 8.62363940e+07,\n",
       "       8.03241370e+07, 2.40153900e+08, 1.00274436e+08, 4.02877700e+07,\n",
       "       2.85714290e+07, 3.84768690e+07, 2.70000000e+07, 8.16124110e+07,\n",
       "       6.40300800e+07, 8.02732770e+07, 3.60000000e+08, 1.30619336e+08,\n",
       "       5.28600000e+07, 1.11736163e+08, 5.54049630e+07, 7.33795540e+07,\n",
       "       4.20000000e+07, 1.05445546e+08, 5.80784510e+07, 1.34000000e+08,\n",
       "       8.46670380e+07, 1.64780000e+08, 4.19989840e+07, 5.95607460e+07,\n",
       "       7.40719180e+07, 3.90000000e+07, 8.53840000e+07, 1.50008573e+08,\n",
       "       5.21246380e+07, 2.11810247e+08, 6.35283867e+08, 3.78891650e+07,\n",
       "       4.62000000e+07, 7.59409410e+07, 5.42096570e+07, 9.00000000e+07,\n",
       "       6.94287280e+07, 6.98830490e+07, 4.28600000e+07, 4.61600000e+07,\n",
       "       6.20446460e+07, 4.86611500e+07, 3.99075326e+08, 6.10700000e+07,\n",
       "       3.84615380e+07, 4.55386550e+07, 3.80000000e+07, 5.69095200e+07,\n",
       "       5.38462000e+07, 1.79257987e+08, 1.09020947e+08, 9.02767740e+07,\n",
       "       7.86865000e+07, 1.44624640e+07, 2.15860000e+08, 5.00000000e+07,\n",
       "       7.00000000e+07, 9.10000000e+07, 3.70009900e+07, 2.22177790e+08,\n",
       "       3.84400000e+07, 6.82942000e+07, 1.62630398e+08, 2.26271533e+08,\n",
       "       5.28441977e+08, 5.99374700e+07, 7.50001350e+07, 2.22513841e+08,\n",
       "       4.61954270e+07, 6.88092260e+07, 6.10000000e+07, 6.84200536e+08,\n",
       "       2.87802711e+08, 7.00864390e+07, 6.30000000e+07, 3.85000000e+07,\n",
       "       1.10464061e+08, 9.50000000e+07, 1.13837339e+08, 5.43032220e+07,\n",
       "       4.30000000e+08, 1.82659393e+08, 3.23232109e+08, 5.78743750e+07,\n",
       "       2.06982031e+08, 1.20000000e+08, 2.02484224e+08, 9.08227660e+07,\n",
       "       3.60162690e+07, 1.26932894e+08, 5.46875000e+07, 2.43122945e+08,\n",
       "       3.13053130e+07, 2.15162287e+08, 3.78787870e+07, 2.10405981e+08,\n",
       "       3.20000000e+08, 4.61538870e+07, 1.80000000e+08, 4.54832330e+07,\n",
       "       4.06008000e+07, 2.04674000e+08, 3.44905389e+08, 1.28570000e+08,\n",
       "       6.50000000e+07, 4.73280000e+07, 1.87060800e+07, 5.77670810e+07,\n",
       "       9.02780630e+07, 5.40000000e+07, 6.31700000e+07, 4.66573110e+07,\n",
       "       3.00000000e+07, 1.03290596e+09, 7.70000000e+07, 8.35534120e+07,\n",
       "       1.57236080e+08, 5.71667970e+07, 4.93733957e+08, 3.52477575e+08,\n",
       "       7.80963150e+07, 2.19398491e+08, 7.42751000e+07, 5.00012729e+08,\n",
       "       3.84667000e+07, 1.81664180e+07, 4.86808580e+07, 1.36230333e+08,\n",
       "       5.84473010e+07, 1.50000000e+08, 1.74381922e+08, 1.30000000e+08,\n",
       "       5.90192191e+08, 1.74464395e+08, 4.46000000e+07, 2.92412422e+08,\n",
       "       1.70122675e+08, 1.48585222e+08, 6.00000000e+07, 1.09609029e+08,\n",
       "       8.28004880e+07, 8.76491270e+07, 2.04400968e+08, 1.40005238e+08,\n",
       "       1.10000000e+08, 3.90191139e+08, 1.09814241e+08, 3.78491030e+07,\n",
       "       1.18000000e+08, 2.98500000e+08, 2.00067392e+08, 3.76000000e+07,\n",
       "       1.14510306e+08, 3.91292890e+07, 9.50655460e+07, 3.85000000e+08,\n",
       "       3.08000000e+07, 3.77656540e+07, 6.20000000e+07, 1.68271268e+08,\n",
       "       1.11812387e+08, 4.50450500e+07, 1.81302726e+08, 7.03050000e+07,\n",
       "       8.24968890e+07, 6.03735760e+07, 7.69130580e+07, 4.69237760e+07,\n",
       "       4.82380750e+07, 9.30000000e+07, 4.50745470e+07, 1.54245687e+08,\n",
       "       1.72763618e+08, 1.85500705e+08, 3.97000000e+07, 1.79708770e+08,\n",
       "       5.63784717e+08, 3.56550000e+08, 3.35567667e+08, 1.23714264e+08,\n",
       "       1.15000000e+08, 4.42865840e+07, 5.66935590e+07, 1.01463696e+08,\n",
       "       1.08518988e+08, 4.99826569e+08, 4.69411400e+07, 7.83551540e+07,\n",
       "       1.02760000e+08, 2.64578774e+08, 1.69000000e+08, 2.40041307e+08,\n",
       "       1.65222908e+08, 4.53704666e+08, 3.77442800e+07, 3.88582600e+07,\n",
       "       3.75000000e+07, 4.80000000e+07, 4.61538460e+07, 1.05721524e+08,\n",
       "       4.10000000e+07, 6.15714490e+07, 4.63000000e+07, 4.72000000e+07,\n",
       "       3.00000000e+08, 5.50000000e+07, 6.06685760e+07, 4.50500000e+07,\n",
       "       7.15176310e+07, 1.50100000e+07, 6.01503760e+07, 6.47929130e+07,\n",
       "       6.79427180e+07, 2.30507430e+09, 1.01659240e+08, 6.24157490e+07,\n",
       "       1.54989700e+08, 7.79941965e+08, 3.30000000e+07, 1.47866278e+08,\n",
       "       5.78760000e+07, 2.50000000e+08, 1.40025000e+08, 3.04489110e+07,\n",
       "       7.50000000e+07, 3.60054850e+08, 4.77340500e+07, 7.84222120e+07,\n",
       "       2.70000000e+08, 1.60000000e+08, 9.80000000e+08, 1.90000000e+08,\n",
       "       9.44000000e+08, 4.61540000e+07, 1.50147502e+08])"
      ]
     },
     "execution_count": 108,
     "metadata": {},
     "output_type": "execute_result"
    }
   ],
   "source": [
    "movies['budget'].unique()"
   ]
  },
  {
   "cell_type": "code",
   "execution_count": 109,
   "id": "4259bb4e",
   "metadata": {},
   "outputs": [
    {
     "data": {
      "text/plain": [
       "7154"
      ]
     },
     "execution_count": 109,
     "metadata": {},
     "output_type": "execute_result"
    }
   ],
   "source": [
    "movies['budget'].isna().sum()"
   ]
  },
  {
   "cell_type": "markdown",
   "id": "dc7b11d3",
   "metadata": {},
   "source": [
    "The number of gaps in the budget coincides with the gaps in state support, which is quite interesting, because films are not always sponsored by the state, it can be private investors"
   ]
  },
  {
   "cell_type": "code",
   "execution_count": 110,
   "id": "94ae2f56",
   "metadata": {},
   "outputs": [
    {
     "data": {
      "text/plain": [
       "array([           nan, 2.70000000e+03, 3.60000000e+02, ...,\n",
       "       3.14379050e+06, 1.80017724e+07, 2.19569000e+05])"
      ]
     },
     "execution_count": 110,
     "metadata": {},
     "output_type": "execute_result"
    }
   ],
   "source": [
    "movies['box_office'].unique()"
   ]
  },
  {
   "cell_type": "code",
   "execution_count": 111,
   "id": "d1b6a383",
   "metadata": {},
   "outputs": [
    {
     "data": {
      "text/plain": [
       "4328"
      ]
     },
     "execution_count": 111,
     "metadata": {},
     "output_type": "execute_result"
    }
   ],
   "source": [
    "movies['box_office'].isna().sum()"
   ]
  },
  {
   "cell_type": "markdown",
   "id": "bf1ff608",
   "metadata": {},
   "source": [
    "The fees also have a fairly large number of passes: there are many sites that do not collect money for films, these are free streaming sites, pirated sites or services where payment is made by subscription, so there is no data on fees in such cases."
   ]
  },
  {
   "cell_type": "code",
   "execution_count": 112,
   "id": "408f430b",
   "metadata": {},
   "outputs": [
    {
     "data": {
      "text/plain": [
       "array(['боевик,драма,мелодрама', 'драма,военный',\n",
       "       'фантастика,боевик,триллер', 'драма', 'мелодрама,комедия',\n",
       "       'мюзикл,мелодрама,комедия', 'комедия,криминал',\n",
       "       'боевик,триллер,детектив', 'боевик,драма,приключения',\n",
       "       'драма,спорт', 'триллер,драма,мелодрама', 'комедия,мелодрама',\n",
       "       'драма,мелодрама,комедия', 'драма,мелодрама', 'драма,история',\n",
       "       'драма,мелодрама,семейный', 'комедия,мелодрама,криминал',\n",
       "       'комедия', 'боевик,драма,криминал', 'драма,комедия',\n",
       "       'ужасы,фантастика,комедия', 'мультфильм,короткометражка,мелодрама',\n",
       "       'драма,криминал', 'мультфильм,фантастика,фэнтези',\n",
       "       'триллер,драма,криминал', 'драма,мелодрама,биография',\n",
       "       'драма,комедия,военный', 'фантастика,драма,детектив',\n",
       "       'мюзикл,семейный', nan, 'военный,приключения,драма',\n",
       "       'документальный,драма', 'драма,биография,история',\n",
       "       'боевик,триллер,драма', 'фэнтези,боевик',\n",
       "       'боевик,комедия,криминал', 'мюзикл,комедия,детский',\n",
       "       'комедия,мелодрама,драма', 'мультфильм,фэнтези,комедия',\n",
       "       'комедия,история', 'мелодрама', 'драма,биография,музыка',\n",
       "       'фэнтези,драма,мелодрама', 'триллер,военный',\n",
       "       'драма,мелодрама,военный', 'мюзикл,драма,мелодрама',\n",
       "       'мюзикл,комедия', 'мультфильм,приключения,семейный',\n",
       "       'ужасы,триллер', 'боевик,драма,военный', 'драма,боевик',\n",
       "       'мультфильм,драма,комедия', 'триллер,криминал',\n",
       "       'военный,биография,драма', 'комедия,семейный', 'военный',\n",
       "       'драма,семейный,биография', 'фэнтези,приключения,семейный',\n",
       "       'драма,криминал,биография', 'ужасы,триллер,детектив',\n",
       "       'боевик,история,драма', 'ужасы,триллер,драма',\n",
       "       'драма,криминал,спорт', 'документальный,короткометражка',\n",
       "       'триллер,драма', 'криминал,детектив,приключения',\n",
       "       'драма,комедия,криминал', 'драма,комедия,вестерн',\n",
       "       'драма,мелодрама,детектив', 'мелодрама,биография',\n",
       "       'фэнтези,мелодрама,драма', 'драма,мелодрама,история',\n",
       "       'комедия,приключения,история', 'приключения', 'драма,семейный',\n",
       "       'криминал,детектив', 'мультфильм,короткометражка,ужасы',\n",
       "       'фантастика,триллер,драма', 'фэнтези,мелодрама,комедия',\n",
       "       'драма,биография', 'комедия,криминал,история',\n",
       "       'триллер,драма,детектив', 'фантастика,комедия,приключения',\n",
       "       'фэнтези,семейный', 'ужасы,фантастика,боевик',\n",
       "       'мелодрама,криминал', 'комедия,приключения,мелодрама',\n",
       "       'боевик,триллер,приключения', 'боевик,приключения',\n",
       "       'боевик,триллер,криминал', 'документальный,военный,история',\n",
       "       'драма,музыка', 'боевик,драма', 'приключения,боевик',\n",
       "       'драма,военный,биография', 'триллер,драма,приключения',\n",
       "       'аниме,мультфильм,фэнтези', 'триллер,детектив,драма',\n",
       "       'боевик,триллер,мелодрама', 'боевик,история',\n",
       "       'приключения,история', 'драма,комедия,приключения',\n",
       "       'фэнтези,комедия,приключения', 'драма,вестерн',\n",
       "       'документальный,музыка', 'мелодрама,драма',\n",
       "       'триллер,криминал,детектив', 'ужасы', 'боевик,комедия,приключения',\n",
       "       'мультфильм,фэнтези,боевик', 'боевик,фэнтези,драма',\n",
       "       'фэнтези,драма', 'фэнтези,боевик,комедия',\n",
       "       'приключения,детский,комедия', 'документальный',\n",
       "       'боевик,триллер,комедия', 'мелодрама,комедия,криминал',\n",
       "       'драма,детектив', 'мюзикл,ужасы,триллер', 'детектив,триллер,ужасы',\n",
       "       'ужасы,фэнтези', 'ужасы,фэнтези,триллер', 'мультфильм,драма',\n",
       "       'ужасы,боевик,фантастика', 'боевик', 'фантастика,боевик',\n",
       "       'мелодрама,комедия,приключения', 'триллер,детектив',\n",
       "       'мюзикл,мелодрама,фэнтези', 'криминал', 'триллер,комедия,криминал',\n",
       "       'боевик,приключения,триллер', 'триллер,драма,военный',\n",
       "       'комедия,семейный,музыка', 'комедия,фантастика,мелодрама',\n",
       "       'фантастика,триллер,криминал', 'комедия,драма', 'боевик,военный',\n",
       "       'ужасы,фантастика,триллер', 'фантастика,драма,мелодрама',\n",
       "       'фэнтези,драма,детектив', 'боевик,триллер', 'боевик,драма,история',\n",
       "       'мультфильм,мюзикл,фэнтези', 'для взрослых,драма,мелодрама',\n",
       "       'мультфильм,боевик,детектив', 'фантастика,мелодрама,боевик',\n",
       "       'ужасы,фантастика,детектив', 'фантастика,боевик,приключения',\n",
       "       'мелодрама,комедия,спорт', 'комедия,боевик,приключения',\n",
       "       'документальный,приключения', 'мультфильм,короткометражка,детский',\n",
       "       'комедия,приключения', 'ужасы,драма', 'ужасы,фэнтези,боевик',\n",
       "       'мультфильм,фэнтези,детский', 'мюзикл,боевик,драма',\n",
       "       'семейный,комедия,драма', 'концерт,музыка', 'фэнтези,боевик,драма',\n",
       "       'драма,комедия,музыка', 'фантастика,фэнтези,боевик',\n",
       "       'фэнтези,комедия,семейный', 'фэнтези,драма,комедия',\n",
       "       'мультфильм,мюзикл,драма', 'триллер', 'боевик,криминал,триллер',\n",
       "       'мультфильм,приключения,драма', 'мелодрама,музыка',\n",
       "       'документальный,музыка,концерт', 'мультфильм,семейный',\n",
       "       'мультфильм,комедия,приключения', 'мультфильм,комедия,семейный',\n",
       "       'фантастика,драма', 'фэнтези,боевик,приключения',\n",
       "       'мультфильм,приключения', 'драма,военный,история', 'история',\n",
       "       'драма,приключения,военный',\n",
       "       'документальный,короткометражка,семейный',\n",
       "       'мелодрама,история,триллер', 'ужасы,детектив',\n",
       "       'мюзикл,комедия,приключения', 'драма,спорт,биография',\n",
       "       'фантастика,боевик,комедия', 'фантастика,приключения,детектив',\n",
       "       'короткометражка,драма,военный', 'драма,мультфильм',\n",
       "       'приключения,семейный', 'детектив', 'триллер,приключения',\n",
       "       'аниме,мультфильм,боевик', 'драма,комедия,биография',\n",
       "       'драма,комедия,спорт', 'боевик,мелодрама,комедия',\n",
       "       'семейный,комедия', 'фэнтези,боевик,триллер',\n",
       "       'документальный,фэнтези,семейный', 'фантастика,фэнтези,драма',\n",
       "       'ужасы,комедия,фэнтези', 'документальный,биография,музыка',\n",
       "       'фантастика,боевик,фэнтези', 'ужасы,боевик,триллер',\n",
       "       'комедия,криминал,семейный', 'приключения,драма',\n",
       "       'криминал,драма,триллер', 'драма,детектив,криминал',\n",
       "       'фэнтези,приключения,комедия', 'комедия,спорт',\n",
       "       'мюзикл,фэнтези,мелодрама', 'мультфильм,фэнтези,приключения',\n",
       "       'фантастика,фэнтези,приключения', 'фэнтези',\n",
       "       'фэнтези,приключения,боевик', 'фантастика,боевик,драма',\n",
       "       'криминал,драма', 'криминал,триллер,драма',\n",
       "       'драма,мелодрама,приключения', 'детский,комедия',\n",
       "       'фантастика,драма,боевик', 'мультфильм,семейный,фэнтези',\n",
       "       'концерт,музыка,документальный', 'ужасы,комедия,приключения',\n",
       "       'драма,мелодрама,криминал', 'ужасы,фантастика,фэнтези',\n",
       "       'боевик,комедия', 'мультфильм,фантастика,комедия', 'триллер,ужасы',\n",
       "       'мультфильм,мюзикл,комедия', 'мелодрама,фэнтези,триллер',\n",
       "       'детский,приключения,комедия', 'комедия,детектив',\n",
       "       'аниме,мультфильм,мелодрама', 'документальный,драма,семейный',\n",
       "       'документальный,биография,история', 'военный,боевик,драма',\n",
       "       'ужасы,комедия', 'комедия,приключения,семейный',\n",
       "       'приключения,биография,история', 'детский,приключения,семейный',\n",
       "       'спорт,драма,биография', 'аниме,мультфильм,ужасы',\n",
       "       'фантастика,боевик,криминал', 'мюзикл,драма',\n",
       "       'драма,криминал,детектив', 'аниме,мультфильм,драма',\n",
       "       'драма,триллер,приключения', 'триллер,криминал,драма',\n",
       "       'фэнтези,комедия,драма', 'мультфильм,комедия',\n",
       "       'драма,комедия,история', 'комедия,биография,история',\n",
       "       'мультфильм,фантастика,приключения', 'аниме,мультфильм,фантастика',\n",
       "       'мультфильм,фэнтези,семейный', 'мультфильм,боевик,комедия',\n",
       "       'комедия,криминал,спорт', 'документальный,мюзикл',\n",
       "       'мелодрама,комедия,музыка', 'биография',\n",
       "       'триллер,криминал,комедия', 'фантастика,драма,комедия',\n",
       "       'комедия,драма,мелодрама', 'фантастика,приключения,боевик',\n",
       "       'мультфильм,фэнтези,драма', 'триллер,комедия',\n",
       "       'драма,приключения,биография', 'фантастика,комедия',\n",
       "       'мелодрама,драма,комедия', 'боевик,криминал',\n",
       "       'драма,криминал,боевик', 'мультфильм,мюзикл,детский',\n",
       "       'драма,фэнтези', 'документальный,семейный',\n",
       "       'фэнтези,драма,приключения', 'ужасы,комедия,фантастика',\n",
       "       'драма,мелодрама,музыка', 'фэнтези,драма,семейный',\n",
       "       'триллер,мелодрама,драма', 'вестерн,боевик,драма',\n",
       "       'мультфильм,короткометражка,комедия', 'триллер,драма,история',\n",
       "       'ужасы,фантастика', 'ужасы,мелодрама,комедия',\n",
       "       'фэнтези,приключения', 'фантастика,триллер',\n",
       "       'ужасы,боевик,фэнтези', 'мультфильм,комедия,детский',\n",
       "       'триллер,драма,биография', 'мультфильм,ужасы,фэнтези',\n",
       "       'мультфильм,ужасы,фантастика', 'ужасы,боевик,комедия',\n",
       "       'драма,биография,спорт', 'мультфильм', 'мелодрама,комедия,драма',\n",
       "       'приключения,фантастика,семейный', 'комедия,криминал,детектив',\n",
       "       'ужасы,триллер,комедия', 'криминал,комедия,триллер',\n",
       "       'семейный,приключения,комедия', 'мультфильм,драма,приключения',\n",
       "       'ужасы,драма,детектив', 'драма,приключения,фэнтези',\n",
       "       'фантастика,мультфильм,драма', 'драма,триллер,детектив',\n",
       "       'драма,история,музыка', 'детский', 'триллер,боевик,криминал',\n",
       "       'драма,фантастика', 'комедия,драма,семейный',\n",
       "       'боевик,драма,комедия', 'комедия,ужасы',\n",
       "       'драма,фантастика,триллер', 'фантастика,драма,триллер',\n",
       "       'история,спорт,драма', 'документальный,биография',\n",
       "       'биография,история', 'спорт,драма', 'боевик,фэнтези',\n",
       "       'мультфильм,фэнтези', 'документальный,комедия,история',\n",
       "       'криминал,комедия,боевик', 'фэнтези,приключения,драма',\n",
       "       'музыка,концерт', 'триллер,драма,боевик',\n",
       "       'комедия,криминал,боевик', 'комедия,фантастика,боевик',\n",
       "       'вестерн,приключения,боевик', 'аниме,мультфильм,комедия',\n",
       "       'детектив,криминал,триллер', 'мультфильм,комедия,криминал',\n",
       "       'комедия,приключения,детектив', 'мелодрама,фантастика,драма',\n",
       "       'драма,комедия,семейный', 'приключения,фантастика',\n",
       "       'триллер,детектив,ужасы', 'комедия,приключения,фэнтези',\n",
       "       'фэнтези,триллер,драма', 'мелодрама,приключения,боевик',\n",
       "       'детектив,триллер,криминал', 'фэнтези,семейный,мелодрама',\n",
       "       'военный,драма', 'документальный,приключения,семейный',\n",
       "       'криминал,комедия,драма', 'комедия,фантастика',\n",
       "       'история,биография,драма', 'мелодрама,драма,музыка',\n",
       "       'боевик,мелодрама', 'комедия,криминал,триллер',\n",
       "       'детектив,триллер,боевик', 'комедия,боевик,криминал',\n",
       "       'комедия,вестерн', 'детский,мелодрама,семейный',\n",
       "       'короткометражка,мультфильм', 'комедия,фэнтези',\n",
       "       'фантастика,драма,ужасы', 'триллер,драма,ужасы',\n",
       "       'драма,фэнтези,история', 'комедия,драма,короткометражка',\n",
       "       'фэнтези,триллер,приключения', 'семейный',\n",
       "       'комедия,криминал,драма', 'комедия,фэнтези,ужасы',\n",
       "       'короткометражка,комедия,криминал', 'фантастика',\n",
       "       'триллер,ужасы,драма', 'мелодрама,драма,фэнтези',\n",
       "       'фантастика,приключения,драма', 'боевик,детектив',\n",
       "       'военный,драма,боевик', 'комедия,мелодрама,фэнтези',\n",
       "       'вестерн,криминал,триллер', 'драма,история,триллер',\n",
       "       'мультфильм,фантастика,боевик', 'детектив,драма,криминал',\n",
       "       'приключения,история,драма', 'мультфильм,семейный,детский',\n",
       "       'биография,драма,история', 'триллер,криминал,боевик',\n",
       "       'история,мелодрама', 'приключения,детский',\n",
       "       'музыка,приключения,концерт', 'военный,драма,комедия',\n",
       "       'фэнтези,боевик,военный', 'фантастика,детектив,боевик',\n",
       "       'мультфильм,фэнтези,история', 'биография,мелодрама,драма',\n",
       "       'документальный,биография,спорт', 'фантастика,комедия,детектив',\n",
       "       'музыка,концерт,документальный', 'триллер,боевик,приключения',\n",
       "       'триллер,драма,комедия', 'детектив,криминал',\n",
       "       'мультфильм,приключения,фэнтези', 'мелодрама,приключения',\n",
       "       'комедия,музыка', 'мелодрама,комедия,ужасы',\n",
       "       'драма,криминал,приключения', 'приключения,детектив,мелодрама',\n",
       "       'драма,криминал,фантастика', 'фэнтези,драма,биография',\n",
       "       'детектив,фантастика,криминал', 'триллер,драма,фантастика',\n",
       "       'ужасы,комедия,боевик', 'мелодрама,история', 'триллер,боевик',\n",
       "       'фильм-нуар,триллер,детектив', 'комедия,криминал,приключения',\n",
       "       'ужасы,триллер,мелодрама', 'военный,драма,история',\n",
       "       'драма,спорт,история', 'документальный,драма,история',\n",
       "       'триллер,мелодрама,детектив', 'детский,семейный',\n",
       "       'мюзикл,семейный,драма', 'биография,военный,драма',\n",
       "       'мультфильм,детский', 'боевик,криминал,драма',\n",
       "       'детектив,фэнтези,триллер', 'драма,боевик,приключения',\n",
       "       'драма,мелодрама,фэнтези', 'детектив,история,драма',\n",
       "       'фэнтези,боевик,ужасы', 'ужасы,фэнтези,мелодрама',\n",
       "       'ужасы,приключения', 'боевик,фантастика',\n",
       "       'ужасы,мелодрама,детектив', 'фантастика,триллер,приключения',\n",
       "       'боевик,приключения,история', 'приключения,боевик,триллер',\n",
       "       'детектив,ужасы,криминал', 'семейный,фэнтези', 'мюзикл,мелодрама',\n",
       "       'драма,военный,приключения', 'фантастика,драма,приключения',\n",
       "       'приключения,семейный,драма', 'история,драма,боевик',\n",
       "       'мультфильм,приключения,комедия', 'криминал,драма,комедия',\n",
       "       'ужасы,комедия,драма', 'комедия,семейный,приключения',\n",
       "       'мюзикл,фэнтези,драма', 'драма,вестерн,боевик',\n",
       "       'фантастика,триллер,детектив', 'драма,история,детектив',\n",
       "       'короткометражка,биография', 'мультфильм,приключения,фантастика',\n",
       "       'комедия,триллер', 'мультфильм,приключения,детектив',\n",
       "       'драма,триллер', 'ужасы,триллер,криминал',\n",
       "       'документальный,криминал,военный', 'ужасы,фэнтези,драма',\n",
       "       'фэнтези,комедия', 'ужасы,фэнтези,комедия', 'комедия,музыка,драма',\n",
       "       'мультфильм,приключения,военный', 'мюзикл,фэнтези,комедия',\n",
       "       'боевик,фантастика,приключения', 'триллер,ужасы,криминал',\n",
       "       'ужасы,фантастика,драма', 'фантастика,приключения,семейный',\n",
       "       'короткометражка,музыка', 'мелодрама,детектив,комедия',\n",
       "       'документальный,триллер,биография', 'боевик,фантастика,триллер',\n",
       "       'спорт,драма,комедия', 'фэнтези,мелодрама,приключения',\n",
       "       'триллер,детектив,криминал', 'короткометражка,мелодрама',\n",
       "       'мультфильм,семейный,спорт', 'комедия,фэнтези,мелодрама',\n",
       "       'драма,спорт,комедия', 'история,драма,мелодрама',\n",
       "       'драма,боевик,криминал', 'драма,комедия,триллер',\n",
       "       'аниме,мультфильм', 'документальный,ужасы',\n",
       "       'мультфильм,короткометражка', 'драма,история,военный',\n",
       "       'мультфильм,короткометражка,фэнтези', 'комедия,военный,музыка',\n",
       "       'биография,история,драма', 'ужасы,драма,мелодрама',\n",
       "       'драма,комедия,детектив', 'комедия,семейный,фантастика',\n",
       "       'мультфильм,семейный,комедия', 'история,детектив',\n",
       "       'приключения,мелодрама,детектив', 'мюзикл,комедия,мелодрама',\n",
       "       'драма,фантастика,ужасы', 'мультфильм,ужасы,комедия',\n",
       "       'для взрослых,драма,комедия', 'ужасы,комедия,музыка',\n",
       "       'комедия,история,драма', 'семейный,детектив,детский',\n",
       "       'короткометражка,драма', 'документальный,новости,драма',\n",
       "       'триллер,мелодрама', 'ужасы,драма,вестерн',\n",
       "       'мюзикл,фэнтези,семейный', 'вестерн,драма,триллер',\n",
       "       'приключения,вестерн,боевик', 'семейный,комедия,музыка',\n",
       "       'боевик,драма,вестерн', 'ужасы,драма,триллер',\n",
       "       'фантастика,мелодрама', 'комедия,криминал,биография',\n",
       "       'семейный,мультфильм,комедия', 'комедия,драма,криминал',\n",
       "       'фантастика,боевик,военный', 'приключения,биография,драма',\n",
       "       'приключения,триллер,биография', 'криминал,боевик,триллер',\n",
       "       'боевик,вестерн,приключения', 'история,драма',\n",
       "       'фантастика,фэнтези,комедия', 'мультфильм,детский,комедия',\n",
       "       'мелодрама,комедия,триллер', 'документальный,боевик,приключения',\n",
       "       'драма,приключения', 'мелодрама,военный,драма', 'триллер,фэнтези',\n",
       "       'драма,триллер,биография', 'фэнтези,боевик,семейный',\n",
       "       'фантастика,триллер,комедия', 'документальный,фэнтези',\n",
       "       'комедия,мультфильм,фантастика', 'криминал,биография,комедия',\n",
       "       'биография,спорт,драма', 'приключения,военный',\n",
       "       'мультфильм,семейный,драма', 'документальный,фэнтези,драма',\n",
       "       'комедия,боевик,фантастика', 'семейный,приключения,военный',\n",
       "       'триллер,ужасы,детектив', 'короткометражка',\n",
       "       'мелодрама,триллер,история', 'документальный,история',\n",
       "       'мультфильм,приключения,детский', 'драма,комедия,мультфильм',\n",
       "       'военный,детектив', 'семейный,приключения,документальный',\n",
       "       'детский,фэнтези', 'документальный,комедия', 'комедия,биография',\n",
       "       'криминал,комедия', 'спорт,мелодрама,криминал',\n",
       "       'фантастика,комедия,боевик', 'боевик,приключения,детектив',\n",
       "       'детектив,триллер,драма', 'документальный,фантастика',\n",
       "       'мелодрама,комедия,семейный', 'мультфильм,мелодрама,комедия',\n",
       "       'драма,спорт,семейный', 'фантастика,мелодрама,фэнтези',\n",
       "       'мюзикл,комедия,музыка', 'фантастика,триллер,мелодрама',\n",
       "       'приключения,комедия,фэнтези', 'фэнтези,боевик,детектив',\n",
       "       'фэнтези,боевик,мелодрама', 'комедия,военный',\n",
       "       'драма,спорт,боевик', 'мультфильм,боевик,триллер',\n",
       "       'мелодрама,семейный', 'фантастика,боевик,детектив',\n",
       "       'драма,приключения,история', 'документальный,драма,музыка',\n",
       "       'фантастика,триллер,боевик', 'фэнтези,боевик,вестерн',\n",
       "       'драма,комедия,мелодрама', 'ужасы,фэнтези,приключения',\n",
       "       'триллер,фэнтези,драма', 'мультфильм,мюзикл,мелодрама',\n",
       "       'ужасы,триллер,фантастика', 'триллер,мелодрама,комедия',\n",
       "       'ужасы,комедия,семейный', 'комедия,приключения,музыка',\n",
       "       'документальный,комедия,криминал', 'мелодрама,детектив',\n",
       "       'детский,приключения,фантастика', 'короткометражка,боевик,драма',\n",
       "       'боевик,комедия,семейный', 'фантастика,боевик,мелодрама',\n",
       "       'фэнтези,триллер,мелодрама', 'драма,детектив,история',\n",
       "       'боевик,криминал,детектив', 'мультфильм,фэнтези,мелодрама',\n",
       "       'мелодрама,драма,боевик', 'драма,вестерн,приключения',\n",
       "       'драма,приключения,мелодрама', 'фэнтези,боевик,криминал',\n",
       "       'фантастика,комедия,семейный', 'детский,фэнтези,приключения',\n",
       "       'ужасы,боевик', 'фантастика,мелодрама,комедия',\n",
       "       'семейный,спорт,боевик', 'триллер,биография,драма',\n",
       "       'ужасы,драма,комедия', 'мультфильм,фэнтези,триллер', 'мюзикл',\n",
       "       'боевик,спорт,драма', 'комедия,приключения,вестерн',\n",
       "       'документальный,ужасы,боевик', 'фантастика,боевик,семейный',\n",
       "       'военный,история', 'ужасы,боевик,криминал', 'детектив,триллер',\n",
       "       'драма,семейный,комедия', 'драма,детектив,приключения',\n",
       "       'драма,криминал,история', 'приключения,триллер',\n",
       "       'боевик,драма,биография', 'драма,приключения,триллер',\n",
       "       'комедия,фэнтези,приключения', 'фантастика,боевик,ужасы',\n",
       "       'драма,комедия,фантастика', 'детектив,криминал,драма',\n",
       "       'боевик,триллер,фэнтези', 'приключения,детектив,семейный',\n",
       "       'ужасы,комедия,криминал', 'мультфильм,биография,драма',\n",
       "       'история,боевик,фэнтези', 'детектив,криминал,боевик',\n",
       "       'приключения,фэнтези', 'комедия,приключения,спорт',\n",
       "       'драма,биография,мюзикл', 'комедия,семейный,фэнтези',\n",
       "       'детектив,драма,триллер', 'боевик,приключения,семейный',\n",
       "       'биография,спорт,комедия', 'фантастика,приключения,военный',\n",
       "       'документальный,драма,биография', 'детектив,приключения,драма',\n",
       "       'аниме,мультфильм,приключения', 'семейный,приключения',\n",
       "       'ужасы,фэнтези,детектив', 'семейный,документальный',\n",
       "       'драма,приключения,семейный', 'приключения,история,военный',\n",
       "       'фэнтези,мелодрама', 'фэнтези,триллер,детектив',\n",
       "       'документальный,спорт,биография', 'комедия,триллер,драма',\n",
       "       'драма,ужасы', 'биография,музыка,драма', 'фэнтези,ужасы',\n",
       "       'детектив,мелодрама,фэнтези', 'боевик,военный,история',\n",
       "       'биография,драма,криминал', 'триллер,мелодрама,криминал',\n",
       "       'семейный,мелодрама', 'биография,драма', 'военный,история,драма',\n",
       "       'фантастика,детектив,фэнтези', 'детектив,приключения,триллер',\n",
       "       'фантастика,приключения', 'мультфильм,короткометражка,мюзикл',\n",
       "       'мультфильм,детский,семейный', 'документальный,драма,комедия',\n",
       "       'комедия,приключения,криминал', 'документальный,семейный,музыка',\n",
       "       'мелодрама,музыка,драма', 'детектив,фантастика,триллер',\n",
       "       'драма,мелодрама,триллер', 'биография,драма,военный',\n",
       "       'приключения,фантастика,драма', 'детектив,фильм-нуар,комедия',\n",
       "       'документальный,спорт', 'триллер,фантастика,драма',\n",
       "       'биография,документальный', 'ужасы,фантастика,мелодрама',\n",
       "       'детектив,комедия', 'история,биография,военный',\n",
       "       'криминал,мелодрама', 'драма,криминал,вестерн',\n",
       "       'мелодрама,семейный,приключения', 'триллер,ужасы,мелодрама',\n",
       "       'фэнтези,драма,фильм-нуар', 'детектив,мелодрама',\n",
       "       'комедия,драма,биография', 'драма,военный,боевик',\n",
       "       'драма,комедия,ужасы', 'фантастика,драма,криминал',\n",
       "       'документальный,музыка,биография', 'мультфильм,боевик,приключения',\n",
       "       'короткометражка,фантастика', 'мультфильм,мелодрама,драма',\n",
       "       'боевик,военный,драма', 'фэнтези,семейный,приключения',\n",
       "       'детский,мультфильм,приключения', 'семейный,фэнтези,комедия',\n",
       "       'фэнтези,ужасы,триллер', 'ужасы,триллер,приключения',\n",
       "       'драма,боевик,история', 'фэнтези,комедия,детектив',\n",
       "       'история,приключения', 'аниме,мультфильм,короткометражка',\n",
       "       'драма,военный,триллер', 'биография,криминал,триллер',\n",
       "       'фантастика,фэнтези,детектив', 'вестерн,биография,драма',\n",
       "       'биография,музыка,мюзикл', 'драма,история,биография',\n",
       "       'приключения,драма,фантастика', 'комедия,фэнтези,криминал',\n",
       "       'биография,спорт,история', 'драма,криминал,семейный',\n",
       "       'детектив,боевик,история', 'ужасы,комедия,детектив',\n",
       "       'триллер,приключения,драма', 'фэнтези,комедия,криминал',\n",
       "       'триллер,криминал,приключения', 'комедия,детектив,приключения',\n",
       "       'фэнтези,драма,ужасы', 'ужасы,драма,военный', 'реальное ТВ',\n",
       "       'аниме,мультфильм,детектив', 'приключения,фэнтези,семейный',\n",
       "       'драма,биография,комедия', 'триллер,комедия,ужасы',\n",
       "       'музыка,мелодрама,фэнтези', 'мультфильм,история',\n",
       "       'мультфильм,комедия,фантастика', 'биография,криминал,драма',\n",
       "       'комедия,мелодрама,фантастика', 'криминал,боевик,комедия',\n",
       "       'история,криминал', 'детектив,комедия,драма',\n",
       "       'триллер,фантастика,боевик', 'криминал,боевик',\n",
       "       'комедия,драма,военный', 'драма,триллер,криминал',\n",
       "       'мультфильм,мелодрама,приключения', 'фантастика,фэнтези,триллер',\n",
       "       'короткометражка,драма,триллер', 'военный,боевик,история',\n",
       "       'боевик,драма,триллер', 'документальный,военный,драма',\n",
       "       'драма,криминал,фильм-нуар', 'мультфильм,детский,приключения',\n",
       "       'мелодрама,история,драма'], dtype=object)"
      ]
     },
     "execution_count": 112,
     "metadata": {},
     "output_type": "execute_result"
    }
   ],
   "source": [
    "movies['genres'].unique()"
   ]
  },
  {
   "cell_type": "code",
   "execution_count": 113,
   "id": "c63c9f0d",
   "metadata": {},
   "outputs": [
    {
     "data": {
      "text/plain": [
       "976"
      ]
     },
     "execution_count": 113,
     "metadata": {},
     "output_type": "execute_result"
    }
   ],
   "source": [
    "movies['genres'].isna().sum()"
   ]
  },
  {
   "cell_type": "markdown",
   "id": "325cd7ca",
   "metadata": {},
   "source": [
    "In the `genres` column, we have quite a few gaps, it will take a very long time to search for each of them on the Internet, but they will not affect our further analysis so much. I suggest replacing them with something neutral"
   ]
  },
  {
   "cell_type": "code",
   "execution_count": 114,
   "id": "1dec6a6d",
   "metadata": {},
   "outputs": [
    {
     "data": {
      "text/plain": [
       "array(['США', 'СССР', 'Франция', 'СССР, Венгрия',\n",
       "       'Германия-Великобритания', 'Великобритания - Италия',\n",
       "       'Чехословакия', 'США - Франция - Турция', 'Новая Зеландия',\n",
       "       'Канада - Франция - Испания', 'США-Германия',\n",
       "       'США - Великобритания', 'Великобритания', 'США - Германия',\n",
       "       'Франция - Мексика - США', 'Россия, Казахстан, США',\n",
       "       'СССР, Швеция', 'СССР, Франция, Англия, Куба, ГДР', 'Германия',\n",
       "       'Великобритания-США-Германия-КНР',\n",
       "       'СССР, ЧССР, Западный Берлин, ПНР', 'СССР, Италия', 'Гонконг, КНР',\n",
       "       'США - Франция', 'США - Япония - Франция - Великобритания',\n",
       "       'Гонконг - Сингапур - Таиланд - Великобритания', 'США-Канада',\n",
       "       'Франция - Италия - Великобритания - США', 'Франция - США',\n",
       "       'Ирландия-Великобритания-Германия', 'Чехия', 'США-Австралия',\n",
       "       'СССР, Финляндия', 'США-Франция-Великобритания-Австрия',\n",
       "       'США - Бельгия', 'США - Ирландия - Великобритания',\n",
       "       'Великобритания - США',\n",
       "       'Люксембург - Нидерланды - Испания - Великобритания - США - Италия',\n",
       "       'Великобритания - Франция - США', 'Новая Зеландия - США',\n",
       "       'США - Великобритания - Чехия',\n",
       "       'Канада - Франция - Великобритания', 'Ирландия',\n",
       "       'Великобритания - Германия - США',\n",
       "       'США - Франция - Великобритания', 'Япония', 'СССР, Польша',\n",
       "       'Франция - Испания', 'Канада-Франция', 'Германия - Италия - США',\n",
       "       'Аргентина - Бразилия', 'Дания - Швейцария - Бельгия - Франция',\n",
       "       'США - Испания', 'Германия - США',\n",
       "       'Франция - Австрия - Германия - Италия - США', 'Австрия',\n",
       "       'США - Канада - Германия', 'США - Канада',\n",
       "       'СССР - Швейцария - Франция', 'Россия - Казахстан', 'Гонконг',\n",
       "       'Италия', 'США - ОАЭ', 'Россия',\n",
       "       'США - Франция - Испания - Великобритания',\n",
       "       'Великобритания - Франция', 'США-Италия-Испания-Аргентина',\n",
       "       'Франция-Великобритания', 'КНР - Гонконг',\n",
       "       'Франция - Италия - Швейцария', 'США - Новая Зеландия',\n",
       "       'Франция - Бельгия', 'КНР', 'Германия - Великобритания - Австрия',\n",
       "       'Великобритания - Израиль - Франция - Япония - США', 'Швеция',\n",
       "       'Испания', 'Дания', 'Франция - Бельгия - Люксембург',\n",
       "       'США - Индия - ОАЭ',\n",
       "       'Германия-Канада-Великобритания-Швейцария-Франция',\n",
       "       'Мексика - Чили', 'Аргентина', 'Бразилия', 'Чили', 'Австралия',\n",
       "       'Португалия - Франция', 'США - ЮАР', 'Исландия-Ирландия-Германия',\n",
       "       'США-Индонезия', 'Южная Корея', 'Мексика - Испания - Дания - США',\n",
       "       'Великобритания-США', 'Франция - Италия', 'США-Франция',\n",
       "       'США - Венгрия - Великобритания', 'Бельгия-Франция-Италия',\n",
       "       'Чехия - Германия', 'Германия - Франция', 'США-Нидерланды',\n",
       "       'Украина', 'Великобритания - Германия', 'Франция-Бельгия',\n",
       "       'США-Франция-Испания', 'Италия - Франция', 'Канада',\n",
       "       'Швеция-Франция-Дания', 'Германия-Франция-Польша',\n",
       "       'Франция-Великобритания - Германия',\n",
       "       'США - Бразилия - Франция - Австралия - Великобритания - Германия',\n",
       "       'Германия-Австрия', 'Германия-Италия- Шри-Ланка',\n",
       "       'Великобритания - Испания',\n",
       "       'США - Великобритания - Канада - Швеция',\n",
       "       'Босния и Герцеговина - Франция - Великобритания - Германия - Словения - Бельгия - Сербия',\n",
       "       'Великобритания - Франция - Италия - США', 'США-ОАЭ',\n",
       "       'Испания - Франция', 'США-Великобритания', 'США-ЮАР',\n",
       "       'Великобритания-Австралия - США',\n",
       "       'Норвегия - Швеция - Дания - Германия', 'Норвегия', 'Швейцария',\n",
       "       'Греция - Германия - Франция', 'Норвения', 'Южная Корея - США',\n",
       "       'Чили - Франция - США', 'Австрия - Германия - Франция',\n",
       "       'Швеция - Дания', 'Великобритания - Франция - Бельгия - Италия',\n",
       "       'Франция - Германия', 'Грузия - Франция - Люксембург',\n",
       "       'США - Франция - Великобритания - Бразилия ', 'США - КНР',\n",
       "       'Мексика - Франция', 'США - Германия - Гонконг - Сингапур',\n",
       "       'Финляндия - Австрия - Россия', 'Испания - Куба',\n",
       "       'Великобритания - ЮАР', 'Великобритания - Ирландия', 'Израиль',\n",
       "       'Бразилия - Германия - Порртугалия - Франция ',\n",
       "       'Франция - Канада - Бельгия', 'Франция-Испания',\n",
       "       'Испания - Канада - Япония', 'Иран', 'Швеция-Куба',\n",
       "       'США-Великобритания-Ирландия', 'Гонконг - КНР', 'Нидерланды',\n",
       "       'Испания - Канада', 'Япония-Великобритания',\n",
       "       'Великобритания - Норвегия - Дания - Германия',\n",
       "       'Финляндия - Франция - Германия',\n",
       "       'Мексика - Франция - Нидерланды - Германия', 'США - Индия',\n",
       "       'США-Великобритания-Индия', 'США-Канада-Бельгия',\n",
       "       'Республика Узбекистан', 'Италия ', 'Турция',\n",
       "       'Сербия - Словения - Хорватия - Черногория - Македония',\n",
       "       'Киргизия', 'Германия - Нидерланды - Беларусь - Россия - Латвия',\n",
       "       'Индия', 'Нидерланды - Россия - Германия',\n",
       "       'Великобритания - Нидерланды - Франция - Хорватия',\n",
       "       'Канада - Южная Корея',\n",
       "       'Великобритания - Польша - КНР - Индия - Норвегия',\n",
       "       'Япония - Франция - США - Южная Корея - Турция',\n",
       "       'Мексика - Аргентина - Великобритания', 'Израиль - Франция',\n",
       "       'Польша - Португалия - Франция - Великобритания',\n",
       "       'Австралия - США', 'США - Великобритания ',\n",
       "       'Франция - Люксембург - Бельгия', 'Армения',\n",
       "       'Бельгия - Люксембург - Франция - Швейцария',\n",
       "       'США - Великобритания - Канада', 'Норвегия - Швеция',\n",
       "       'Канада - Франция', 'КНР - Гонконг - США',\n",
       "       'США - Сингапур - Малайзия - Индонезия', 'Германия - Россия',\n",
       "       'Япония - Канада', 'Финляндия - Дания - Германия - Ирландия',\n",
       "       'Франция - Люксембург - Германия - Бельгия - Швейцария - Великобритания ',\n",
       "       'Канада - США', 'США-Италия-Испания', 'США-Испания',\n",
       "       'США - Швейцария - Франция', 'Испания - США - Колумбия',\n",
       "       'Канада-ЮАР', 'Франция - Россия',\n",
       "       'Германия - Финляндия - Австралия', 'Дания - Швеция', 'Бельгия',\n",
       "       'Германия - Франция - Австрия', 'Франция-Индия', 'ЮАР',\n",
       "       'Франция-Перу', 'Франция - Канада', 'Республика Беларусь',\n",
       "       'Великобритания - Австрия - Франция - США',\n",
       "       'Австрия-Германия-Франция', 'США-Россия', 'Германия-США',\n",
       "       'США - Южная Корея', 'Канада - КНР',\n",
       "       'Дания - Швеция - Италия - Франция - Германия',\n",
       "       'Франция-Италия-Испания-Венгрия', 'Франция - Германия - Бельгия',\n",
       "       'Франция-Великобритания-Чехия', 'Румыния - Франция - Бельгия',\n",
       "       'Болгария - Франция - Изриль',\n",
       "       'Израиль - Германия - Польша - Бельгия - Франция - Люксембург',\n",
       "       'Россия, Германия, Франция, Бельгия', 'Индонезия',\n",
       "       'Франция - Португалия', 'Великобритания - Пуэрто-Рико',\n",
       "       'СССР, ФРГ, Западный Берлин', 'Россия, Республика Беларусь',\n",
       "       'США, Великобритания', 'Франция - Австрия', 'Бельгия-Нидерланды',\n",
       "       'Великобритания - США - Индия', 'США - Великобритания - Австралия',\n",
       "       'Канада - Франция - США - ОАЭ - Великобритания',\n",
       "       'США - Австралия - Франция',\n",
       "       'Дания-Франция-Бельгия-Германия-Великобритания',\n",
       "       'Испания - Аргентина', 'Исландия - Финляндия',\n",
       "       'Россия-Польша-Голландия-Словакия', 'Дания - Германия - Швеция',\n",
       "       'Южная Корея - США - Канада', 'Таиланд', 'США-Мальта',\n",
       "       'США -Германия',\n",
       "       'Великобритания - Германия - Франция - Кипр - США', 'Мексика',\n",
       "       'США - Великобритания - Ирландия', 'США - Украина',\n",
       "       'США - Финляндия - Испания - Великобритания - Франция',\n",
       "       'Австралия-Великобритания',\n",
       "       'США - Канада - Афганистан - Бельгия - Франция',\n",
       "       'США - Великобритания - Германия - Новая Зеландия - Бельгия - Франция',\n",
       "       'Франция-Канада',\n",
       "       'Ирландия - Финляндия - Бельгия - Великобритания - США - Швейцария',\n",
       "       'Малайзия - США', 'Германия - Италия',\n",
       "       'США - Франция - Бельгия - Италия', 'Франция - Ирландия - Швеция',\n",
       "       'Азербайджан-Россия', 'Великобритания - Италия - Швейцария',\n",
       "       'США - Германия - Великобритания',\n",
       "       'Германия - Бельгия - США -Франция', 'США-Китай', 'Чили - Испания',\n",
       "       'Франция - Швейцария', 'Канада - Испания',\n",
       "       'США - Румыния - Великобритания', 'США - Япония',\n",
       "       'США - Россия - Франция', 'Франция-США', 'Парагвай',\n",
       "       'Германия - Канада', 'США - Канада - Великобритания',\n",
       "       'Финляндия - Канада', 'Уругвай-Мексика-Германия ', 'США - Чили',\n",
       "       'Германия - Аргентина - Нидерланды - Чили',\n",
       "       'США - Канада - Индонезия', 'Армения - Казахстан', 'Финляндия',\n",
       "       'Испания - Италия - Франция',\n",
       "       'Бельгия - Испания - Канада - Нидерланды',\n",
       "       'Великобритания - Франция - Швеция - Бельгия',\n",
       "       'Мексика - Эквадор - Канада - США - Франция - Малайзия - Италия - Аргентина - Германия - Индия  ',\n",
       "       'Франция - Бенльгия', 'Индия - Великобритания',\n",
       "       'Япония - Великобритания - Франция',\n",
       "       'Испания - Уругвай - Аргентина',\n",
       "       'Франция - Италия - Бельгия - Люксембург',\n",
       "       'Франция - Украина - Грузия - Армения',\n",
       "       'Сербия - Германия - Венгрия', 'Франция-Польша', 'Франция ',\n",
       "       'Румыния-США', 'Россия-Азербайджан',\n",
       "       'США - Нидерланды - Бельгия - Венгрия - Греция - Канада',\n",
       "       'Германия - Франция - Люксембург', 'США - Россия',\n",
       "       'Великобритания - США - Франция', 'США - Австралия - Дания',\n",
       "       'Бельгия-Франция', 'США-Мексика',\n",
       "       'Норвегия - Азербайджан - Россия - Колумбия - Великобритания - Венгрия - Румыния - Франция - Грузия',\n",
       "       'СЩА', 'Бразилия - Испания', 'Россия, Франция, Латвия',\n",
       "       'Нидерланды - США - Германия - Канада - Франция - Ирландия - Великобритания',\n",
       "       'Уругвай - Колумбия', 'США - Испания - Болгария',\n",
       "       'Армения - Германия', 'США - Великобритания- Франция - Швеция',\n",
       "       'США - Мексика', 'Австралия-Турция-США', 'Швеция - Германия',\n",
       "       'Польша - Италия - Россия', 'Франция - Бразилия',\n",
       "       'США - Канада - КНР', 'СССР, Венгрия, ЧССР, ГДР',\n",
       "       'Бельгия - Германия - Люксембург', 'СССР  ', 'СССР ', ' СССР ',\n",
       "       'США - Австралия', 'Бразилия - США',\n",
       "       'США - Великобритания - Канада - КНР', 'Франция - Чили',\n",
       "       'Франция - США - Великобритания - Колумбия - Бельгия - Россия',\n",
       "       'Дания - Великобритания - ЮАР', 'СССР   ',\n",
       "       'Россия-США-Канада-Люксембург', 'Россия - Республика Кипр',\n",
       "       'Германия - США - Швеция - Франция',\n",
       "       'Великобритания-Германия-Канада-ЮАР', ' СССР   ', 'СССР     ',\n",
       "       'Ирландия, Канада',\n",
       "       'Япония - Великобритания - Швейцария - Ирландия - Дания - Франция - Польша - Австралия - Канада  ',\n",
       "       'Великобритания, Канада', 'Бельгия - США',\n",
       "       'Великобритания - США - Россия', 'Россия-Украина',\n",
       "       'Германия - США - Великобритания - Израиль', 'Канада - Германия',\n",
       "       'США- Ю.Корея', 'Индия - Мексика',\n",
       "       'Великобритания - Франция - Республика Кипр - Швейцария - США - Сербия',\n",
       "       'Испания - Аргентина - Индия - США',\n",
       "       'Норвегия - Исландия - США - Великобритания ',\n",
       "       'Турция - Германя - Франция', 'Германия - Великобритания',\n",
       "       'Австралия - Германия', 'Мексика - Испания',\n",
       "       'Великобритания - США - Германия - Бельгия',\n",
       "       'США - Чехия - Франция', 'Россия - Италия', 'Франция-Россия',\n",
       "       'Норвегия - Дания - Швеция', 'Франция - Швейцария - Германия',\n",
       "       'Грузия - Украина', 'Россия - Эстония - Финляндия - Беларусь',\n",
       "       'США - Франция - ЮАР', 'Великобритания - США - Швейцария',\n",
       "       'Канада-США', 'Мексика - Нидерланды - Германия - Франция',\n",
       "       'США - Испания - Франция', 'США - Великобритания - КНР',\n",
       "       'США-Франция-Канада',\n",
       "       'Япония, Великобритания, Австрия, Германия, Ю.Корея',\n",
       "       'Великобритания - Ирландия - США', 'Бельгия - Италия - Франция ',\n",
       "       'Швейцария-Германия-ЮАР', 'Великобритания - США - Германия',\n",
       "       'Германия - Исландия', 'Испания - США', 'СССР    ', 'Хорватия',\n",
       "       'Финляндия - Исландия - Швеция',\n",
       "       'Канада - США - Германия - Франция',\n",
       "       'США - Великобритания - Испания', 'Ирландия-Великобритания',\n",
       "       'Аргентина - Испания', 'Австрия - Германия', ' СССР',\n",
       "       'Германия - Швейцария - Франция - Южная Корея - США',\n",
       "       'Украина - Нидерланды', 'Венгрия - Германия - Швеция',\n",
       "       'Германия - Франция -  Польша - Турция - Канада - Италия - Россия ',\n",
       "       'СССР, Афганистан', 'СССР, Монголия', 'Россия-Кипр',\n",
       "       'Россия, Грузия, Испания',\n",
       "       'Великобритания - Нидерланды - Германия - Франция - Бельгия - Австрия ',\n",
       "       'Испания - Великобритания - Франция',\n",
       "       'Дания - Норвегия - Великобритания',\n",
       "       'Бельгия - Франция - Люксембург',\n",
       "       'Италия - Франция - Швейцария - Великобритания',\n",
       "       'Франция - Бельгия - Великобритания - Испания - Германия - США',\n",
       "       'Швейцария - Израиль - Франция - Великобритания',\n",
       "       'Великобритания - США - Канада - Нидерланды - Франция',\n",
       "       'Россия, Италия', 'СССР, Албания',\n",
       "       'Россия, Украина, Республика Беларусь, Литва',\n",
       "       'Финляндия - Великобритания - Германия', 'Россия, Украина, Польша',\n",
       "       'Франция - Италия - Бельгия - КНР',\n",
       "       'Германия - Бельгия - Люксембург - Ирландия', 'КНР - Сингапур',\n",
       "       'Франция - Бельгия - Великобритания - США - Нидерланды - Канада',\n",
       "       'США - Россия - Польша - Германия - Пуэрто Рико',\n",
       "       'Франция - Бельгия - Канада', 'США ', 'Мексика - США',\n",
       "       'США - Гонконг - КНР ', 'Греция - Россия',\n",
       "       'Ирландия - Дания - Бельгия - Люксембург - Франция',\n",
       "       'Эстония - Россия',\n",
       "       'Великобритания - Исландия - Испания - Швейцария - США',\n",
       "       'Австралия - Великобритания - Бельгия - Индия',\n",
       "       'Швеция - Германия - Франция - Норвегия',\n",
       "       'Нидерланды - Бельгия - Германия - Ирландия',\n",
       "       'Нидерланды - Великобритания - Бельгия',\n",
       "       'США - Колумбия - Испания', 'Франция-Испания-Бельгия-Панама',\n",
       "       'США-Великобритания-Чехия-Румыния',\n",
       "       'Аргентина - Уругвай - Россия - Германия - Франция - Нидерланды',\n",
       "       'Швеция - Франция - Норвегия - Дания',\n",
       "       'Италия-Франция-Великобритания', 'Великобритания, Франция',\n",
       "       'Австралия, США', 'Венесуэла',\n",
       "       'Великобритания - США - Австралия - Ирландия - Германия - Куба - Канада',\n",
       "       'Южная Корея - КНР',\n",
       "       'Аргентина - Мексика - Бразилия - Франция - США', 'Швеция - США',\n",
       "       'Франция - Германия - Турция - Катар', 'Франция-Китай',\n",
       "       'Россия, Германия, Великобритания',\n",
       "       'Великобритания - Италия - Испания', 'Италия - Россия',\n",
       "       'Япония - КНР - Южная Корея', 'Россия, Германия',\n",
       "       'Россия-Ирландия', 'Македония - Франция - Великобритания',\n",
       "       'Франция - Бразилия - Италия', 'Россия-США', 'Армения-Россия',\n",
       "       'Россия, Румыния', 'Франция -  Бельгия', 'Грузия-Франция',\n",
       "       'ЮАР - США', 'Великобритания-США-Франция',\n",
       "       'Великобритания - США - Германия - Канада - Австралия',\n",
       "       'США-Ирландия', 'Россия, Республика Кипр',\n",
       "       'Германия - Люксембург - Франция', 'Россия-Франция',\n",
       "       'США - Нидерланды - Финляндия - Великобритания - Италия',\n",
       "       'Республика Кипр', 'Венгрия', 'Франция - США - Норвегия - Дания',\n",
       "       'Германия - Австрия - Ирландия', 'США - Финляндия',\n",
       "       'Италия-Великобритания', 'Россия, Испания',\n",
       "       'США - Великобритания - Болгария', 'Великобритания - Люксембург',\n",
       "       'Индия - США', 'США - Канада - Россия - Франция - Чили - Ирландия',\n",
       "       'Грузия-Россия',\n",
       "       'Дания - Австрия - Ирландия - Финляндия - Норвегия - Швеция - Нидерланды',\n",
       "       'США-КНР', 'Грузия', 'Австралия - Ирландия',\n",
       "       'Великобритания - Канада', 'Италия - Аргентина - Словения ',\n",
       "       'Испания - Франция - Нидерланды - Германия - Бельгия - Великобритания - Канада',\n",
       "       'Франция - Чехия - Бельгия',\n",
       "       'Великобритания - Франция - Германия - США',\n",
       "       'Ирландия - Великобритания - Франция - США - Германия - Нидерланды',\n",
       "       'США - Канада - Япония - КНР', 'Италия-Франция',\n",
       "       'США - Великобритания - Исландия', 'Великобритания-Франция',\n",
       "       'Франция - Германия - Нидерланды', 'Иран ',\n",
       "       'Франция - Германия - Швеция - США - Чехия - Словакия - Великобритания - Нидерланды',\n",
       "       'Франция - Канада - Н.Зеландия - США - Нидерланды - Германия - Швеция - Россия',\n",
       "       'Турция - США',\n",
       "       'Великобритания - США - Канада - Бельгия - Нидерланды - Австрия - Германия',\n",
       "       'Израиль - Франция - Германия - Палестина - США - Австрия - Великобритания',\n",
       "       'Аргентина - Франция - Испания', 'СССР, Россия',\n",
       "       'Великобритания - Франция - Италия - Индия - Дания - КНР - Бангладеш - Камбоджа - Гаити - Уганда',\n",
       "       'Италия - Франция - Швейцария',\n",
       "       'Ирландия - Великобритания - Канада', 'Перу', 'США - Норвегия',\n",
       "       'Испания-Канада', 'Китай-Гонконг', 'США - Германия - КНР',\n",
       "       'Великобритания - Новая Зеландия',\n",
       "       'Франция - Дания - Швеция - КНР',\n",
       "       'США - Великобритания - Германия - Бельгия - Дания',\n",
       "       'США - Франция - Канада - Германия - Австралия - Индия', nan,\n",
       "       'СССР, Румыния, Франция', 'СССР, ГДР', 'Австралия-Ирландия',\n",
       "       'США - Китай', 'Великобритания - Франция - Австрия - Швеция',\n",
       "       'Россия, Таджикистан', 'Нидерланды - Бельгия - Болгария',\n",
       "       'Великобритания - Канада - США', 'Франция - Бельгия - Испания',\n",
       "       'Китай-Гонконг-США', 'Франция - Великобритания', 'США - Вьетнам',\n",
       "       'США - Германия - Франция', 'Германия - Франция - Бельгия',\n",
       "       'США - Италия',\n",
       "       'Германия - Дания - Испания - Швеция - Канада - Эстония - Франция',\n",
       "       'Княжество Андорра - Украина', 'Германия - Люксембург - Бельгия',\n",
       "       'Великобритания - Россия - Украина - США',\n",
       "       'Германия - Бельгия - Люксембург - Норвегия',\n",
       "       'США - Австралия - Новая Зеландия - Великобритания',\n",
       "       'США - Франция - Канада - Великобритания', 'Испания-Колумбия',\n",
       "       'Великобритания - Чехия - Франция', 'Россия, Украина', 'Исландия',\n",
       "       'Великобритания - Франция - Венгрия',\n",
       "       'Россия, Франция, Германия, Бельгия', 'Франция - Македония',\n",
       "       'Нидерланды - Франция - Германия - Бельгия - Швеция - Великобритания',\n",
       "       'Испания - США - Великобритания - Канада', 'Германия - Австрия',\n",
       "       'Республика Казахстан',\n",
       "       'Франция - Испания - Дания - Венгрия - Швейцария', 'Франция-КНР',\n",
       "       'США - Пуэрто-Рико - Франция ', 'Мексика - Тайвань - США',\n",
       "       'Великобритания - Испания - Непал - Индия - Венгрия - Гонконг - Германия - Дания - Бахрейн',\n",
       "       'Великобритания - Аргентина - США - Франция - Россия - Испания',\n",
       "       'КНР - США', 'Италия - США', 'Финляндия - Швеция - Германия',\n",
       "       'Канада- Испания', 'Франция - Бельгия - Чехия',\n",
       "       'Франция-Бельгия-Канада', 'Франция - Германия - США',\n",
       "       'США - Дания', 'Индия - КНР', 'Чехия-Великобритания-США',\n",
       "       'США-ФРГ-Россия', 'Ирландия-Нидерланды-Франция-США-Великобритания',\n",
       "       'Россия, Грузия, Хорватия, Испания',\n",
       "       'Финляндия - Швеция - Норвегия', 'Сербия - Великобритания - США',\n",
       "       'США - Великобритания - Франция - Гонконг', 'Швейцария - Франция',\n",
       "       'Швейцария - Великобритания', 'ОАЭ - США',\n",
       "       'США - Франция - Германия - Канада - Австралия ',\n",
       "       'Германия - Австралия', 'Иран, Франция',\n",
       "       'США - Великобритания - Новая Зеландия', 'США-Колумбия',\n",
       "       'США-Франция-Ирландия', 'Великобритания - Франция - Бельгия',\n",
       "       'США - Великобритания - Япония', 'США - Франция - Германия',\n",
       "       'Польша - Ирландия', 'Ирландия - Великобритания - Франция - США',\n",
       "       'США - Бельгия - Великобритания', 'СССР, ВНР',\n",
       "       'Испания - Франция - США - Великобритания - Бельгия',\n",
       "       'Франция - Дания - США', 'США - Гонконг', 'Бразилия - К;анада',\n",
       "       'Франция-Германия', 'США - Колумбия',\n",
       "       'США - Ирландия - Великобритания - Франция',\n",
       "       'Великобритания - США - Канада', 'Польша - Франция',\n",
       "       'Канада - США - Нидерланды - Великобритания - Аргентина',\n",
       "       'Великобритания - Дания', 'Франция - Бельгия - Япония',\n",
       "       'Россия,  Испания', 'Франция -Бельгия',\n",
       "       'США - Канада - Германия - Франция', 'США-Канада-Франция',\n",
       "       'Россия - Германия', 'Россия-Италия', 'Китай - Гонконг',\n",
       "       'Германия-Австрия-Франция-Италия', 'США-Япония',\n",
       "       'США - Германия - Канада', 'Испания-Мексика',\n",
       "       'США - Япония - Канада - Великобритания - Германия - Франция',\n",
       "       'США -Великобритания - Австралия', 'Россия-Украина-Германия',\n",
       "       'Израиль - Франция - Великобритания - Германия', 'Корея',\n",
       "       'Россия - Болгария', 'США-Индия',\n",
       "       'Германия-Канада-Франция-Бельгия', 'Германия-Кения',\n",
       "       'Франция - Монако', 'Франция-Испания-Швейцария',\n",
       "       'Австрия-Франция-Германия', 'Румыния',\n",
       "       'США-Великобритания-Франция', 'Канада-Великобритания',\n",
       "       'Канада-Бразилия-Япония', 'Германия - Дания - Норвегия',\n",
       "       'Дания - Германия', 'СССР - Италия',\n",
       "       'СССР - ГДР - Польша - Италия',\n",
       "       'США - Испания - Франция - Великобритания', 'Китай',\n",
       "       'Мексика-Аргентина',\n",
       "       'Германия - Великобритания - Италия - Испания',\n",
       "       'Франция-Германия-Великобритания', 'Россия - Германия - Швейцария',\n",
       "       'Франция-Австралия', 'Голландия', 'Швейцария-Франция',\n",
       "       'Россия-Белоруссия', 'Франция - Испания - Тайвань',\n",
       "       'США-Южная Корея-Новая Зеландия', 'Великобритания-Венгрия',\n",
       "       'Россия-Германия', 'Великобритания-Франция-Германия',\n",
       "       'Франция-Германия-Италия', 'Швеция-Финляндия-Франция-Норвегия',\n",
       "       'Франция-Италия', 'Германия-Израиль',\n",
       "       'Швеция - Германия - Дания - Норвегия', 'США-Бельгия',\n",
       "       'Франция-Гонконг-Ирландия', 'Эстония', 'Литва-Россия-Украина',\n",
       "       'Германия - Италия - Франция',\n",
       "       'Великобритания - Австрия - Германия', 'Бельгия - Франция',\n",
       "       'Россия-Казахстан', 'Испания - Мальта',\n",
       "       'Франция-Россия-Румыния-Италия-Бельгия', 'Россия - Польша',\n",
       "       'Испания - Мексика', 'США-Аргентина', 'Великобритания ',\n",
       "       'Израиль-США-Франция', 'США - Новая Зеландия - Япония',\n",
       "       'Франция - Чехия - Великобритания', 'Россия-Польша',\n",
       "       'Германия-Франция-Великобритания', 'США-Германия-Канада',\n",
       "       'США-Гонконг-Китай', 'США - Великобритания - Германия',\n",
       "       'США-Канада-Австралия', 'Япония-США-Франция',\n",
       "       'Франция-Испания-Германия', 'США - Хорватия - Босния-Герцеговина',\n",
       "       'Великобритания - Чехия - Франция - Италия',\n",
       "       'США - Германия - Нидерланды', 'Германия - Франция - Канада',\n",
       "       'Франция-Грузия-Германия-Россия-Украина-Бельгия',\n",
       "       'Великобритания - Франция - Италия', 'Россия - США',\n",
       "       'Франция - Италия - Иран', 'Россия - Азербайджан', 'Греция',\n",
       "       'Дания - США', 'США-Великобритания-Новая Зеландия',\n",
       "       'США-Германия-Австралия', 'США-Канада-Италия',\n",
       "       'США - Япония - Германия', 'Австралия-США',\n",
       "       'Франция - Великобритания - Багамские острова - США',\n",
       "       'Швейцария - Люксембург', 'Швейцария - Австрия',\n",
       "       'Германия - Швейцария', 'Дания-Швеция-Франция-Германия', 'Польша',\n",
       "       'Швейцария-Австрия', 'Бразилия - Канада - США',\n",
       "       'Нидерланды - Россия', 'Португалия', 'Франция-Аргентина',\n",
       "       'Швеция-Франция', 'Франция-Украина', 'Германия-Украина-Нидерланды',\n",
       "       'Италия-Швейцария', 'США-Германия-Великобритания',\n",
       "       'Латвия - Россия', 'Германия-Франция-Великобритания-США',\n",
       "       'Канада - Италия', 'США - Объединенные Арабские Эмираты',\n",
       "       'США-Венгрия', 'Малайзия', 'Россия - Германия - Украина',\n",
       "       'США - Австралия - Мексика', 'Литва - Венгрия', 'Германия - Китай',\n",
       "       'Казахстан', 'Республика Корея',\n",
       "       'США - Германия - Франция - Великобритания - Канада ',\n",
       "       'Бельгия - Германия - Люксембург - Франция', 'Франция - Греция',\n",
       "       'Италия - Канада', 'США - Великобритания - Франция',\n",
       "       'США-Италия-Греция', 'Германия - США - Великобритания - Ирландия',\n",
       "       'Великобритания - Франция - Германия',\n",
       "       'Германия - Нидерланды - ЮАР',\n",
       "       'США-Япония-Германия-Великобритания-Нидерланды',\n",
       "       'США-Япония-Германия-Великобритания',\n",
       "       'Германия - Франция - Польша',\n",
       "       'Таиланд-Великобритания-Франция-Германия-Испания-Нидерланды',\n",
       "       'Германия-Италия-Швейцария',\n",
       "       'Дания - Швеция - Великобритания - Франция - Германия - Нидерланды - Норвегия - Финляндия',\n",
       "       'Франция - Великобритания - Нидерланды - Люксембург',\n",
       "       'Нидерланды-Великобритания-Франция-Италия-Япония',\n",
       "       'Финляндия-Дания-Германия-Ирландия', 'Испания-Аргентина',\n",
       "       'Великобритания - Нидерланды - Франция - США', 'Канада - Мексика',\n",
       "       'США, Франция', 'Канада-Южная Корея-США',\n",
       "       'Великобритания - Франция - Бельгия - США', 'КНР - Канада - США',\n",
       "       'Италия - Франция - Германия',\n",
       "       'Швеция - Германия - Франция - Дания', 'Франция - США - Бельгия',\n",
       "       'Украина - Германия - Латвия - Эстония', 'Австрия - Люксембург',\n",
       "       'Великобритания - КНР', 'Монголия', 'Франция - Дания',\n",
       "       'Швеция - Дания - Финляндия',\n",
       "       'Сингапур - Великобритания - Индонезия - Канада - США',\n",
       "       'США - Германия - Япония', 'Таиланд - США', 'Франция - Нидерланды',\n",
       "       'Великобритания - Румыния', 'США - Мальта',\n",
       "       'Великобритания - Германия - Нидерланды - Дания',\n",
       "       'Франция - Германия - Литва - Нидерланды - Россия',\n",
       "       'США - ЮАР - Гонконг', 'Австралия - Колумбия',\n",
       "       'Великобритания - Польша', 'США - Великобритания - Швеция',\n",
       "       'Франция - Швеция - Дания - Норвегия', 'Болгария - США',\n",
       "       'СССР, ФРГ', 'Бельгия - Нидерланды - Франция',\n",
       "       'Финляндия - Германия', 'Болгария',\n",
       "       'Грузия - Россия - Украина - Хорватия - Германия',\n",
       "       'Франция - Люксембург', 'Франция - Германия - Австрия',\n",
       "       'Норвегия - США', 'Германия-Швеция', 'Франция - Германия - Италия',\n",
       "       'Франция-Германия-Австрия', 'КНР-США',\n",
       "       'Великобритания - Ирландия - США ',\n",
       "       'Дания - Латвия - Россия - США', 'Финляндия - Польша',\n",
       "       'Германия - Бельгия', 'Германия - США - Франция - Испания',\n",
       "       'Бельгия-Германия-Канада-Франция-США-Великобритания',\n",
       "       'Нидерланды - Бельгия - Люксембург', 'Канада-Германия',\n",
       "       'Люксембург - Бельгия - Франция', 'США-Великобритания-Австралия',\n",
       "       'Великобритания, Новая Зеландия', 'Бельгия, Великобритания, США',\n",
       "       'Великобритания, Австралия', 'Исландия, Бельгия',\n",
       "       'Испания - Швейцария - Великобритания - Германия - Новая Зеландия - Нидерланды - Канада',\n",
       "       'Франция, Бельгия', 'Великобритания, США', 'Киргизия-Россия',\n",
       "       'Германия, США', 'Великобритания, США, Испания',\n",
       "       'Италия - Швейцария - Германия', 'Россия, Армения',\n",
       "       'Франция, Германия', 'Китай, Канада, США', 'Германия, Австралия',\n",
       "       'КНР, США', 'США, Великобритания, Люксембург',\n",
       "       'Испания, Ирландия, Бельгия, Франция',\n",
       "       'Великобритания - Гонконг - Венгрия - США - Ирландия',\n",
       "       'США - Пуэрто Рико', 'Аргентина - Испания - Уругвай',\n",
       "       'Израиль - Германия - Франция - Швейцария',\n",
       "       'Великобритания - Мексика - США', 'Испания - Болгария - США',\n",
       "       'Россия-Словакия-Чехия',\n",
       "       'Швейцария - КНР - США - Россия - Республика Корея - Великобритания',\n",
       "       'Россия, Нидерланды, Финляндия',\n",
       "       'Испания - Бельгия - Франция - Португалия - Великобритания',\n",
       "       'Бразилия - Португалия - Франция', 'Швеция - Норвегия',\n",
       "       'Франция - Польша - Бельгия', 'CША', 'Китай, США',\n",
       "       'Италия, Франция, Германия', 'Германия - Австрия - Франция',\n",
       "       'Чехия - Словакия - Хорватия', 'Россия, Польша, Финляндия',\n",
       "       'Россия, Латвия, Чешская Республика',\n",
       "       'Франция - Великобритания - Камбоджа - США - КНР',\n",
       "       'Чехия - Испания - США', 'Германия - Люксембург - Дания',\n",
       "       'Великобритания - Испания - Германия', 'Дания - Исландия',\n",
       "       'Германия, Франция, Великобритания',\n",
       "       'Великобритания - Испания - Италия - Латвия - Франция - Эстония',\n",
       "       'Дания, Швеция, Великобритания, Франция, Германия, Норвегия, Финляндия, Нидерланды, Италия',\n",
       "       'Польша - Франция - Великобритания',\n",
       "       'Дания, Норвегия, Венгрия, Чехия',\n",
       "       'Дания - Франция - Германия - Швеция',\n",
       "       'Великобритания, Швеция, США',\n",
       "       'Канада, Франция, Италия, Швейцария, США', 'США, Индия',\n",
       "       'США - Великобритания - Германия - - Швеция - Канада',\n",
       "       'Италия, Франция', 'Республика Беларусь, Германия, США, Россия',\n",
       "       'Италия-Швейцария-Франция-Германия ',\n",
       "       'Россия - Франция - Великобритания - Латвия', 'Россия-Беларусь',\n",
       "       'Франция - Испания - Румыния - США - Бельгия', 'Италия-США',\n",
       "       'Россия, Австрия', 'Ирландия - Великобритания - США',\n",
       "       'Швейцария, Великобритания, Франция, США, Ирландия',\n",
       "       'Мексика, Франция, Германия, Дания, Швеция', 'Нидерланды, Бельгия',\n",
       "       'Швеция, Норвегия, Финляндия, Франция', 'Испания, Франция, Италия',\n",
       "       'Испания-Франция-Греция-Индия-США-Россия-Великобритания',\n",
       "       'Великобритания - Япония - США',\n",
       "       'Дания, Канада, Норвегия, Австралия, США', 'Аргентина, Испания',\n",
       "       'Россия, Германия, Казахстан, Польша, Китай',\n",
       "       'Португалия, Франция, Польша, США', 'США - Канада - Аргентина',\n",
       "       'Ливан-США', 'Япония - США', 'США, Гонконг ',\n",
       "       'Франция - Россия - Швейцария - Румыния - Венгрия',\n",
       "       'Аргентина-Испания', 'Россия, Сербия', 'США - Болгария - Мексика',\n",
       "       'США - Великобритания - Швейцария - Франция',\n",
       "       'Таиланд - КНР - США',\n",
       "       'Великобритания, Нидерланды, Польша, Швейцария, Франция',\n",
       "       'Ирландия - США',\n",
       "       'Германия - Франция - Великобритания - Польша - США',\n",
       "       'Великобритания-Франция-Италия', 'США - Австралия - Индия',\n",
       "       'Франция - КНР', 'Великобритания - Израиль',\n",
       "       'Великобритания - Норвегия - Кения - Хорватия',\n",
       "       'США - Бразилия - Великобритания - Канада', 'Германия, Бельгия',\n",
       "       'Австралия, Канада', 'США, Великобритания, Франция',\n",
       "       'Кения, Германия', 'Нидерланды, Бельгия, Люксембург', 'Колумбия',\n",
       "       'Латвия - Франция', 'Ирландия, Великобритания',\n",
       "       'Франция - Израиль - Германия', 'Швеция, Франция, Великобритания',\n",
       "       'Бельгия - Люксембург', 'Германия - Бельгия - Великобритания',\n",
       "       'Испания, Франция, Великобритания, Дания, Бельгия, Германия',\n",
       "       'Румыния, ЮАР, Иран, Франция, Канада, Великобритания',\n",
       "       'Германия, Франция', 'США, Япония',\n",
       "       'США, Великобритания, Ирландия, Люксембург', 'Республика Армения',\n",
       "       'США, Франция, Япония', 'Япония, США', 'Канада, США',\n",
       "       'Республика Кипр - Россия',\n",
       "       'Дания - Франция - Италия - Бельгия - Нидерланды',\n",
       "       'Россия - Грузия', 'Италия, Германия', 'Норвегия, Швеция, Дания',\n",
       "       'Республика Кипр, Россия', 'КНР, Индия, Гонконг, США',\n",
       "       'Израиль, Украина', 'США, Россия', 'США - КНР - Индия - Ю.Корея',\n",
       "       'США - Швеция', 'Франция, Канада', 'Россия-Китай',\n",
       "       'Канада, Великобритания', 'США, Германия',\n",
       "       'Канада, США, Каймановы острова',\n",
       "       'Бразилия, Уругвай, Дания, Норвегия, Чили, Швеция',\n",
       "       'Пуэрто-Рико, Великобритания, США',\n",
       "       'Уругвай - Аргентина - Испания',\n",
       "       'США - Великобритания - Италия - Израиль - Сербия - Индия',\n",
       "       'США - Канада - Франция - Индия', 'Великобритания - Россия - КНР',\n",
       "       'Франция, Новая Зеландия', 'Франция, Люксембург, Бельгия',\n",
       "       'Канада, США, Норвегия', 'Италия, Испания',\n",
       "       'Испания - Германия - Нидерланды', 'Бразилия - США - КНР ',\n",
       "       'Великобритания, Германия, Дания, США', '2019',\n",
       "       'Италия - Фрация - Бразилия - Германия',\n",
       "       'Норвегия - Швеция - Россия', 'Великобритания, Япония, США',\n",
       "       'Сша, Канада', 'Бельгия, Канада',\n",
       "       'Великобритания - Австралия - США', 'США, Канада', 'КНР - США ',\n",
       "       'Франция - Финляндия', 'Колумбия - США',\n",
       "       'Великобритания, Франция, Бельгия', 'Норвегия - Нидерланды',\n",
       "       'Великобритания, Канада, США', 'Япония, Великобритания',\n",
       "       'Италия - Бельгия - Франция', 'Россия, Бельгия, Финляндия',\n",
       "       'США, Украина', 'Франция, Норвегия',\n",
       "       'Великобритания, Южная Корея, Канада, США, Индия, Китай, Япония',\n",
       "       'Канада - Норвегия', 'Республика Кипр-Россия', 'Германия, Россия',\n",
       "       'Польша - Франция - Испания - Бразилия - Швеция',\n",
       "       'Австрия, Великобритания, Германия', 'Франция - Сенегал - Бельгия',\n",
       "       'Франция, Бельгия, Люксембург', 'Финляндия, Латвия', 'Пакистан',\n",
       "       'Германия, Франция, США', 'Германия - Великобритания - США',\n",
       "       'КНР - Франция', 'Дания, Норвегия, Швеция, Исландия',\n",
       "       'Республика Кипр, США, Россия', 'Новая Зеландия - КНР',\n",
       "       'Дания - Канада - Швеция - Франция - Германия - Великобритания - США'],\n",
       "      dtype=object)"
      ]
     },
     "execution_count": 114,
     "metadata": {},
     "output_type": "execute_result"
    }
   ],
   "source": [
    "movies['production_country'].unique()"
   ]
  },
  {
   "cell_type": "code",
   "execution_count": 115,
   "id": "0d921711",
   "metadata": {},
   "outputs": [
    {
     "data": {
      "text/plain": [
       "2"
      ]
     },
     "execution_count": 115,
     "metadata": {},
     "output_type": "execute_result"
    }
   ],
   "source": [
    "movies['production_country'].isna().sum()"
   ]
  },
  {
   "cell_type": "code",
   "execution_count": 116,
   "id": "0b7a923b",
   "metadata": {},
   "outputs": [
    {
     "data": {
      "text/html": [
       "<div>\n",
       "<style scoped>\n",
       "    .dataframe tbody tr th:only-of-type {\n",
       "        vertical-align: middle;\n",
       "    }\n",
       "\n",
       "    .dataframe tbody tr th {\n",
       "        vertical-align: top;\n",
       "    }\n",
       "\n",
       "    .dataframe thead th {\n",
       "        text-align: right;\n",
       "    }\n",
       "</style>\n",
       "<table border=\"1\" class=\"dataframe\">\n",
       "  <thead>\n",
       "    <tr style=\"text-align: right;\">\n",
       "      <th></th>\n",
       "      <th>title</th>\n",
       "      <th>pu_number</th>\n",
       "      <th>show_start_date</th>\n",
       "      <th>type</th>\n",
       "      <th>film_studio</th>\n",
       "      <th>production_country</th>\n",
       "      <th>director</th>\n",
       "      <th>producer</th>\n",
       "      <th>age_restriction</th>\n",
       "      <th>refundable_support</th>\n",
       "      <th>nonrefundable_support</th>\n",
       "      <th>budget</th>\n",
       "      <th>financing_source</th>\n",
       "      <th>ratings</th>\n",
       "      <th>genres</th>\n",
       "      <th>box_office</th>\n",
       "    </tr>\n",
       "  </thead>\n",
       "  <tbody>\n",
       "    <tr>\n",
       "      <th>3186</th>\n",
       "      <td>Детский юмористический киножурнал \"Ералаш. Ну ...</td>\n",
       "      <td>111001216</td>\n",
       "      <td>2016-02-09 12:00:00+00:00</td>\n",
       "      <td>Художественный</td>\n",
       "      <td>ООО \"Продюсерский центр ЕРАЛАШ\"</td>\n",
       "      <td>NaN</td>\n",
       "      <td>Р.Светлов, И.Магитон, А.Арутюнян, Л.Мирский, А...</td>\n",
       "      <td>ООО \"Продюсерский центр ЕРАЛАШ\"</td>\n",
       "      <td>«0+» - для любой зрительской аудитории</td>\n",
       "      <td>NaN</td>\n",
       "      <td>NaN</td>\n",
       "      <td>NaN</td>\n",
       "      <td>NaN</td>\n",
       "      <td>7.2</td>\n",
       "      <td>детский,комедия</td>\n",
       "      <td>194527.00</td>\n",
       "    </tr>\n",
       "    <tr>\n",
       "      <th>4441</th>\n",
       "      <td>Мульт личности. Выпуск 5</td>\n",
       "      <td>214000410</td>\n",
       "      <td>2010-01-25 12:00:00+00:00</td>\n",
       "      <td>Художественный</td>\n",
       "      <td>NaN</td>\n",
       "      <td>NaN</td>\n",
       "      <td>NaN</td>\n",
       "      <td>NaN</td>\n",
       "      <td>«0+» - для любой зрительской аудитории</td>\n",
       "      <td>NaN</td>\n",
       "      <td>NaN</td>\n",
       "      <td>NaN</td>\n",
       "      <td>NaN</td>\n",
       "      <td>4.0</td>\n",
       "      <td>мультфильм,комедия</td>\n",
       "      <td>NaN</td>\n",
       "    </tr>\n",
       "  </tbody>\n",
       "</table>\n",
       "</div>"
      ],
      "text/plain": [
       "                                                  title  pu_number  \\\n",
       "3186  Детский юмористический киножурнал \"Ералаш. Ну ...  111001216   \n",
       "4441                           Мульт личности. Выпуск 5  214000410   \n",
       "\n",
       "               show_start_date            type  \\\n",
       "3186 2016-02-09 12:00:00+00:00  Художественный   \n",
       "4441 2010-01-25 12:00:00+00:00  Художественный   \n",
       "\n",
       "                          film_studio production_country  \\\n",
       "3186  ООО \"Продюсерский центр ЕРАЛАШ\"                NaN   \n",
       "4441                              NaN                NaN   \n",
       "\n",
       "                                               director  \\\n",
       "3186  Р.Светлов, И.Магитон, А.Арутюнян, Л.Мирский, А...   \n",
       "4441                                                NaN   \n",
       "\n",
       "                             producer                         age_restriction  \\\n",
       "3186  ООО \"Продюсерский центр ЕРАЛАШ\"  «0+» - для любой зрительской аудитории   \n",
       "4441                              NaN  «0+» - для любой зрительской аудитории   \n",
       "\n",
       "      refundable_support  nonrefundable_support  budget financing_source  \\\n",
       "3186                 NaN                    NaN     NaN              NaN   \n",
       "4441                 NaN                    NaN     NaN              NaN   \n",
       "\n",
       "     ratings              genres  box_office  \n",
       "3186     7.2     детский,комедия   194527.00  \n",
       "4441     4.0  мультфильм,комедия         NaN  "
      ]
     },
     "execution_count": 116,
     "metadata": {},
     "output_type": "execute_result"
    }
   ],
   "source": [
    "movies[movies['production_country'].isna()]"
   ]
  },
  {
   "cell_type": "markdown",
   "id": "9ab15aa5",
   "metadata": {},
   "source": [
    "We have only two gaps in this column, but I would leave them in place so as not to confuse further analysis of the data, because they contain some important data."
   ]
  },
  {
   "cell_type": "code",
   "execution_count": 117,
   "id": "1381fe93",
   "metadata": {},
   "outputs": [
    {
     "name": "stdout",
     "output_type": "stream",
     "text": [
      "<class 'pandas.core.frame.DataFrame'>\n",
      "Int64Index: 7486 entries, 0 to 7485\n",
      "Data columns (total 16 columns):\n",
      " #   Column                 Non-Null Count  Dtype              \n",
      "---  ------                 --------------  -----              \n",
      " 0   title                  7486 non-null   object             \n",
      " 1   pu_number              7486 non-null   int64              \n",
      " 2   show_start_date        7486 non-null   datetime64[ns, UTC]\n",
      " 3   type                   7486 non-null   object             \n",
      " 4   film_studio            7468 non-null   object             \n",
      " 5   production_country     7484 non-null   object             \n",
      " 6   director               7477 non-null   object             \n",
      " 7   producer               6918 non-null   object             \n",
      " 8   age_restriction        7486 non-null   object             \n",
      " 9   refundable_support     332 non-null    float64            \n",
      " 10  nonrefundable_support  332 non-null    float64            \n",
      " 11  budget                 332 non-null    float64            \n",
      " 12  financing_source       332 non-null    object             \n",
      " 13  ratings                6519 non-null   object             \n",
      " 14  genres                 6510 non-null   object             \n",
      " 15  box_office             3158 non-null   float64            \n",
      "dtypes: datetime64[ns, UTC](1), float64(4), int64(1), object(10)\n",
      "memory usage: 994.2+ KB\n"
     ]
    }
   ],
   "source": [
    "movies.info()"
   ]
  },
  {
   "cell_type": "code",
   "execution_count": 118,
   "id": "c1f8267f",
   "metadata": {},
   "outputs": [
    {
     "data": {
      "text/plain": [
       "0"
      ]
     },
     "execution_count": 118,
     "metadata": {},
     "output_type": "execute_result"
    }
   ],
   "source": [
    "movies.duplicated().sum()"
   ]
  },
  {
   "cell_type": "code",
   "execution_count": 119,
   "id": "3ec7cde9",
   "metadata": {},
   "outputs": [
    {
     "data": {
      "text/plain": [
       "title                       0\n",
       "pu_number                   0\n",
       "show_start_date             0\n",
       "type                        0\n",
       "film_studio                18\n",
       "production_country          2\n",
       "director                    9\n",
       "producer                  568\n",
       "age_restriction             0\n",
       "refundable_support       7154\n",
       "nonrefundable_support    7154\n",
       "budget                   7154\n",
       "financing_source         7154\n",
       "ratings                   967\n",
       "genres                    976\n",
       "box_office               4328\n",
       "dtype: int64"
      ]
     },
     "execution_count": 119,
     "metadata": {},
     "output_type": "execute_result"
    }
   ],
   "source": [
    "movies.isna().sum()"
   ]
  },
  {
   "cell_type": "markdown",
   "id": "1157f944",
   "metadata": {},
   "source": [
    "In general, we have quite a lot of gaps, but most of them are difficult to fill, so I leave the columns of fees, producer, rating, budget, genres, country, studio and director as they are (The data can be found on the Internet, but it will take a very long time)\n",
    "Columns with government funding, as well as the source - most likely these films did not receive government funding.\n",
    "The only thing, I will fill in the categorical columns, put the value \"not defined\" there"
   ]
  },
  {
   "cell_type": "code",
   "execution_count": 120,
   "id": "dc04326a",
   "metadata": {
    "scrolled": true
   },
   "outputs": [
    {
     "data": {
      "text/html": [
       "<div>\n",
       "<style scoped>\n",
       "    .dataframe tbody tr th:only-of-type {\n",
       "        vertical-align: middle;\n",
       "    }\n",
       "\n",
       "    .dataframe tbody tr th {\n",
       "        vertical-align: top;\n",
       "    }\n",
       "\n",
       "    .dataframe thead th {\n",
       "        text-align: right;\n",
       "    }\n",
       "</style>\n",
       "<table border=\"1\" class=\"dataframe\">\n",
       "  <thead>\n",
       "    <tr style=\"text-align: right;\">\n",
       "      <th></th>\n",
       "      <th>title</th>\n",
       "      <th>pu_number</th>\n",
       "      <th>show_start_date</th>\n",
       "      <th>type</th>\n",
       "      <th>film_studio</th>\n",
       "      <th>production_country</th>\n",
       "      <th>director</th>\n",
       "      <th>producer</th>\n",
       "      <th>age_restriction</th>\n",
       "      <th>refundable_support</th>\n",
       "      <th>nonrefundable_support</th>\n",
       "      <th>budget</th>\n",
       "      <th>financing_source</th>\n",
       "      <th>ratings</th>\n",
       "      <th>genres</th>\n",
       "      <th>box_office</th>\n",
       "    </tr>\n",
       "  </thead>\n",
       "  <tbody>\n",
       "    <tr>\n",
       "      <th>5780</th>\n",
       "      <td>Каникулы Президента</td>\n",
       "      <td>111002018</td>\n",
       "      <td>2018-03-21 12:00:00+00:00</td>\n",
       "      <td>Художественный</td>\n",
       "      <td>ООО \"Андрианова кино\"</td>\n",
       "      <td>Россия</td>\n",
       "      <td>И.Шерстобитов</td>\n",
       "      <td>О.Андрианова, И.Шерстобитов</td>\n",
       "      <td>«16+» - для детей старше 16 лет</td>\n",
       "      <td>NaN</td>\n",
       "      <td>NaN</td>\n",
       "      <td>NaN</td>\n",
       "      <td>NaN</td>\n",
       "      <td>5.7</td>\n",
       "      <td>комедия</td>\n",
       "      <td>44401434.60</td>\n",
       "    </tr>\n",
       "  </tbody>\n",
       "</table>\n",
       "</div>"
      ],
      "text/plain": [
       "                    title  pu_number           show_start_date  \\\n",
       "5780  Каникулы Президента  111002018 2018-03-21 12:00:00+00:00   \n",
       "\n",
       "                type            film_studio production_country       director  \\\n",
       "5780  Художественный  ООО \"Андрианова кино\"             Россия  И.Шерстобитов   \n",
       "\n",
       "                         producer                  age_restriction  \\\n",
       "5780  О.Андрианова, И.Шерстобитов  «16+» - для детей старше 16 лет   \n",
       "\n",
       "      refundable_support  nonrefundable_support  budget financing_source  \\\n",
       "5780                 NaN                    NaN     NaN              NaN   \n",
       "\n",
       "     ratings   genres  box_office  \n",
       "5780     5.7  комедия 44401434.60  "
      ]
     },
     "execution_count": 120,
     "metadata": {},
     "output_type": "execute_result"
    }
   ],
   "source": [
    "movies.sample()"
   ]
  },
  {
   "cell_type": "code",
   "execution_count": 121,
   "id": "f697a0f8",
   "metadata": {},
   "outputs": [
    {
     "data": {
      "text/plain": [
       "title                       0\n",
       "pu_number                   0\n",
       "show_start_date             0\n",
       "type                        0\n",
       "film_studio                 0\n",
       "production_country          0\n",
       "director                    0\n",
       "producer                    0\n",
       "age_restriction             0\n",
       "refundable_support       7154\n",
       "nonrefundable_support    7154\n",
       "budget                   7154\n",
       "financing_source         7154\n",
       "ratings                   967\n",
       "genres                      0\n",
       "box_office               4328\n",
       "dtype: int64"
      ]
     },
     "execution_count": 121,
     "metadata": {},
     "output_type": "execute_result"
    }
   ],
   "source": [
    "movies['film_studio'] = movies['film_studio'].fillna('not defined')\n",
    "movies['production_country'] = movies['production_country'].fillna('not defined')\n",
    "movies['director'] = movies['director'].fillna('not defined')\n",
    "movies['producer'] = movies['producer'].fillna('not defined')\n",
    "movies['genres'] = movies['genres'].fillna('not defined')\n",
    "movies.isna().sum()"
   ]
  },
  {
   "cell_type": "markdown",
   "id": "bf5452f1",
   "metadata": {},
   "source": [
    "We will not fill in the rest of the gaps, as I explained earlier, they will not interfere with the analysis, and we are unlikely to be able to find a good replacement for them."
   ]
  },
  {
   "cell_type": "code",
   "execution_count": 122,
   "id": "422782bb",
   "metadata": {},
   "outputs": [
    {
     "data": {
      "text/plain": [
       "array(['Кевин Костнер', 'Е.Матвеев', 'Тимур Бекмамбетов', ...,\n",
       "       'Ник Пауэлл', 'А.Беляев', 'И.Трусов'], dtype=object)"
      ]
     },
     "execution_count": 122,
     "metadata": {},
     "output_type": "execute_result"
    }
   ],
   "source": [
    "movies['director'].unique()"
   ]
  },
  {
   "cell_type": "code",
   "execution_count": 123,
   "id": "e733ba01",
   "metadata": {},
   "outputs": [
    {
     "data": {
      "text/plain": [
       "0"
      ]
     },
     "execution_count": 123,
     "metadata": {},
     "output_type": "execute_result"
    }
   ],
   "source": [
    "movies['director'].isna().sum()"
   ]
  },
  {
   "cell_type": "code",
   "execution_count": 124,
   "id": "f3061813",
   "metadata": {},
   "outputs": [
    {
     "data": {
      "text/plain": [
       "array(['Дэвид Валдес, Кевин Костнер, Джейк Эбертс', 'not defined',\n",
       "       'Джим Лемли, Джейсон Нетер, Марк Е.Платт, Яйн Смит', ...,\n",
       "       'Поппи Бегум, Ник Пойнц',\n",
       "       'Джефф Боулер, Дэниэл Гродник, Луильо Руис, Брэт Саксон, Кирк Шоу',\n",
       "       'Дженнифер Додж'], dtype=object)"
      ]
     },
     "execution_count": 124,
     "metadata": {},
     "output_type": "execute_result"
    }
   ],
   "source": [
    "movies['producer'].unique()"
   ]
  },
  {
   "cell_type": "code",
   "execution_count": 125,
   "id": "82207398",
   "metadata": {},
   "outputs": [
    {
     "data": {
      "text/plain": [
       "array(['Тачстоун Пикчерз, Кобальт Пикчерз, Бикон Пикчерз, Тиг Продакшнз',\n",
       "       'Киностудия \"Мосфильм\"',\n",
       "       'Юниверсал Пикчерз, Кикстарт Продакшнз, Марк Платт Продакшнз, Рилейтивити Медиа, Спайгласс Интертейнмент, Стилкин Филмз, Топ Кау Продакшнз',\n",
       "       ...,\n",
       "       'Дэниел Гродник Продакшнз, Вандерфилм Медиа Корпорэйшн, Импринт Интертейнмент, Вор Хорс Интертейнмент, Пимиента ',\n",
       "       'Никелодеон Анимейшн Студиос, Спин Мастер',\n",
       "       'Анимаккорд Лтд., ООО Студия \"АНИМАККОРД\"'], dtype=object)"
      ]
     },
     "execution_count": 125,
     "metadata": {},
     "output_type": "execute_result"
    }
   ],
   "source": [
    "movies['film_studio'].unique()"
   ]
  },
  {
   "cell_type": "code",
   "execution_count": 126,
   "id": "1a4931d8",
   "metadata": {},
   "outputs": [
    {
     "data": {
      "text/plain": [
       "День святого Валентина_                               5\n",
       "Шерлок Холмс                                          4\n",
       "Жена путешественника во времени                       4\n",
       "Начало_                                               4\n",
       "Белая мгла /По комиксу Грега Рукка и Стива Либера/    4\n",
       "                                                     ..\n",
       "Братья Медведи: Тайна трёх миров                      1\n",
       "Малхолланд Драйв                                      1\n",
       "Гениальный папа                                       1\n",
       "Киллер поневоле                                       1\n",
       "Пеле: Рождение легенды                                1\n",
       "Name: title, Length: 6772, dtype: int64"
      ]
     },
     "execution_count": 126,
     "metadata": {},
     "output_type": "execute_result"
    }
   ],
   "source": [
    "#duplicates check\n",
    "movies['title'].value_counts()"
   ]
  },
  {
   "cell_type": "code",
   "execution_count": 127,
   "id": "1f761a8d",
   "metadata": {
    "scrolled": false
   },
   "outputs": [
    {
     "data": {
      "text/html": [
       "<div>\n",
       "<style scoped>\n",
       "    .dataframe tbody tr th:only-of-type {\n",
       "        vertical-align: middle;\n",
       "    }\n",
       "\n",
       "    .dataframe tbody tr th {\n",
       "        vertical-align: top;\n",
       "    }\n",
       "\n",
       "    .dataframe thead th {\n",
       "        text-align: right;\n",
       "    }\n",
       "</style>\n",
       "<table border=\"1\" class=\"dataframe\">\n",
       "  <thead>\n",
       "    <tr style=\"text-align: right;\">\n",
       "      <th></th>\n",
       "      <th>title</th>\n",
       "      <th>pu_number</th>\n",
       "      <th>show_start_date</th>\n",
       "      <th>type</th>\n",
       "      <th>film_studio</th>\n",
       "      <th>production_country</th>\n",
       "      <th>director</th>\n",
       "      <th>producer</th>\n",
       "      <th>age_restriction</th>\n",
       "      <th>refundable_support</th>\n",
       "      <th>nonrefundable_support</th>\n",
       "      <th>budget</th>\n",
       "      <th>financing_source</th>\n",
       "      <th>ratings</th>\n",
       "      <th>genres</th>\n",
       "      <th>box_office</th>\n",
       "    </tr>\n",
       "  </thead>\n",
       "  <tbody>\n",
       "    <tr>\n",
       "      <th>3902</th>\n",
       "      <td>День святого Валентина_</td>\n",
       "      <td>221083810</td>\n",
       "      <td>2010-07-15 12:00:00+00:00</td>\n",
       "      <td>Художественный</td>\n",
       "      <td>Уорнер Бразерс, Нью Лайн Синема, Уэйн Райс, Ка...</td>\n",
       "      <td>США</td>\n",
       "      <td>Гарри Маршалл</td>\n",
       "      <td>Сэмюэл Дж.Браун</td>\n",
       "      <td>«16+» - для детей старше 16 лет</td>\n",
       "      <td>NaN</td>\n",
       "      <td>NaN</td>\n",
       "      <td>NaN</td>\n",
       "      <td>NaN</td>\n",
       "      <td>6.7</td>\n",
       "      <td>мелодрама,комедия</td>\n",
       "      <td>NaN</td>\n",
       "    </tr>\n",
       "    <tr>\n",
       "      <th>3991</th>\n",
       "      <td>День святого Валентина_</td>\n",
       "      <td>221068010</td>\n",
       "      <td>2010-05-14 12:00:00+00:00</td>\n",
       "      <td>Художественный</td>\n",
       "      <td>Уорнер Бразерс, Нью Лайн Синема, Уэйн Райс, Ка...</td>\n",
       "      <td>США</td>\n",
       "      <td>Гарри Маршалл</td>\n",
       "      <td>Сэмюэл Дж.Браун</td>\n",
       "      <td>«16+» - для детей старше 16 лет</td>\n",
       "      <td>NaN</td>\n",
       "      <td>NaN</td>\n",
       "      <td>NaN</td>\n",
       "      <td>NaN</td>\n",
       "      <td>6.7</td>\n",
       "      <td>мелодрама,комедия</td>\n",
       "      <td>NaN</td>\n",
       "    </tr>\n",
       "    <tr>\n",
       "      <th>4070</th>\n",
       "      <td>День святого Валентина_</td>\n",
       "      <td>121002210</td>\n",
       "      <td>2010-02-03 12:00:00+00:00</td>\n",
       "      <td>Художественный</td>\n",
       "      <td>Уорнер Бразерс, Нью Лайн Синема, Уэйн Райс, Ка...</td>\n",
       "      <td>США</td>\n",
       "      <td>Гарри Маршалл</td>\n",
       "      <td>Сэмюэл Дж.Браун</td>\n",
       "      <td>«16+» - для детей старше 16 лет</td>\n",
       "      <td>NaN</td>\n",
       "      <td>NaN</td>\n",
       "      <td>NaN</td>\n",
       "      <td>NaN</td>\n",
       "      <td>6.7</td>\n",
       "      <td>мелодрама,комедия</td>\n",
       "      <td>NaN</td>\n",
       "    </tr>\n",
       "    <tr>\n",
       "      <th>4196</th>\n",
       "      <td>День святого Валентина_</td>\n",
       "      <td>221136210</td>\n",
       "      <td>2010-11-30 12:00:00+00:00</td>\n",
       "      <td>Художественный</td>\n",
       "      <td>Уорнер Бразерс, Нью Лайн Синема, Уэйн Райс, Ка...</td>\n",
       "      <td>США</td>\n",
       "      <td>Гарри Маршалл</td>\n",
       "      <td>Сэмюэл Дж.Браун</td>\n",
       "      <td>«16+» - для детей старше 16 лет</td>\n",
       "      <td>NaN</td>\n",
       "      <td>NaN</td>\n",
       "      <td>NaN</td>\n",
       "      <td>NaN</td>\n",
       "      <td>6.7</td>\n",
       "      <td>мелодрама,комедия</td>\n",
       "      <td>NaN</td>\n",
       "    </tr>\n",
       "    <tr>\n",
       "      <th>5070</th>\n",
       "      <td>День святого Валентина_</td>\n",
       "      <td>221066410</td>\n",
       "      <td>2010-06-01 12:00:00+00:00</td>\n",
       "      <td>Художественный</td>\n",
       "      <td>Уорнер Бразерс, Нью Лайн Синема, Уэйн Райс, Ка...</td>\n",
       "      <td>США</td>\n",
       "      <td>Гарри Маршалл</td>\n",
       "      <td>Сэмюэл Дж.Браун</td>\n",
       "      <td>«16+» - для детей старше 16 лет</td>\n",
       "      <td>NaN</td>\n",
       "      <td>NaN</td>\n",
       "      <td>NaN</td>\n",
       "      <td>NaN</td>\n",
       "      <td>6.7</td>\n",
       "      <td>мелодрама,комедия</td>\n",
       "      <td>NaN</td>\n",
       "    </tr>\n",
       "  </tbody>\n",
       "</table>\n",
       "</div>"
      ],
      "text/plain": [
       "                        title  pu_number           show_start_date  \\\n",
       "3902  День святого Валентина_  221083810 2010-07-15 12:00:00+00:00   \n",
       "3991  День святого Валентина_  221068010 2010-05-14 12:00:00+00:00   \n",
       "4070  День святого Валентина_  121002210 2010-02-03 12:00:00+00:00   \n",
       "4196  День святого Валентина_  221136210 2010-11-30 12:00:00+00:00   \n",
       "5070  День святого Валентина_  221066410 2010-06-01 12:00:00+00:00   \n",
       "\n",
       "                type                                        film_studio  \\\n",
       "3902  Художественный  Уорнер Бразерс, Нью Лайн Синема, Уэйн Райс, Ка...   \n",
       "3991  Художественный  Уорнер Бразерс, Нью Лайн Синема, Уэйн Райс, Ка...   \n",
       "4070  Художественный  Уорнер Бразерс, Нью Лайн Синема, Уэйн Райс, Ка...   \n",
       "4196  Художественный  Уорнер Бразерс, Нью Лайн Синема, Уэйн Райс, Ка...   \n",
       "5070  Художественный  Уорнер Бразерс, Нью Лайн Синема, Уэйн Райс, Ка...   \n",
       "\n",
       "     production_country       director         producer  \\\n",
       "3902                США  Гарри Маршалл  Сэмюэл Дж.Браун   \n",
       "3991                США  Гарри Маршалл  Сэмюэл Дж.Браун   \n",
       "4070                США  Гарри Маршалл  Сэмюэл Дж.Браун   \n",
       "4196                США  Гарри Маршалл  Сэмюэл Дж.Браун   \n",
       "5070                США  Гарри Маршалл  Сэмюэл Дж.Браун   \n",
       "\n",
       "                      age_restriction  refundable_support  \\\n",
       "3902  «16+» - для детей старше 16 лет                 NaN   \n",
       "3991  «16+» - для детей старше 16 лет                 NaN   \n",
       "4070  «16+» - для детей старше 16 лет                 NaN   \n",
       "4196  «16+» - для детей старше 16 лет                 NaN   \n",
       "5070  «16+» - для детей старше 16 лет                 NaN   \n",
       "\n",
       "      nonrefundable_support  budget financing_source ratings  \\\n",
       "3902                    NaN     NaN              NaN     6.7   \n",
       "3991                    NaN     NaN              NaN     6.7   \n",
       "4070                    NaN     NaN              NaN     6.7   \n",
       "4196                    NaN     NaN              NaN     6.7   \n",
       "5070                    NaN     NaN              NaN     6.7   \n",
       "\n",
       "                 genres  box_office  \n",
       "3902  мелодрама,комедия         NaN  \n",
       "3991  мелодрама,комедия         NaN  \n",
       "4070  мелодрама,комедия         NaN  \n",
       "4196  мелодрама,комедия         NaN  \n",
       "5070  мелодрама,комедия         NaN  "
      ]
     },
     "execution_count": 127,
     "metadata": {},
     "output_type": "execute_result"
    }
   ],
   "source": [
    "movies[movies['title'] == 'День святого Валентина_']"
   ]
  },
  {
   "cell_type": "code",
   "execution_count": 128,
   "id": "bce49cac",
   "metadata": {},
   "outputs": [
    {
     "data": {
      "text/plain": [
       "221054410    2\n",
       "221154310    2\n",
       "0            1\n",
       "111008518    1\n",
       "114002716    1\n",
       "            ..\n",
       "121021814    1\n",
       "224028210    1\n",
       "121013618    1\n",
       "121017712    1\n",
       "126002916    1\n",
       "Name: pu_number, Length: 7484, dtype: int64"
      ]
     },
     "execution_count": 128,
     "metadata": {},
     "output_type": "execute_result"
    }
   ],
   "source": [
    "movies['pu_number'].value_counts()"
   ]
  },
  {
   "cell_type": "code",
   "execution_count": 129,
   "id": "8d3b3abb",
   "metadata": {},
   "outputs": [
    {
     "data": {
      "text/html": [
       "<div>\n",
       "<style scoped>\n",
       "    .dataframe tbody tr th:only-of-type {\n",
       "        vertical-align: middle;\n",
       "    }\n",
       "\n",
       "    .dataframe tbody tr th {\n",
       "        vertical-align: top;\n",
       "    }\n",
       "\n",
       "    .dataframe thead th {\n",
       "        text-align: right;\n",
       "    }\n",
       "</style>\n",
       "<table border=\"1\" class=\"dataframe\">\n",
       "  <thead>\n",
       "    <tr style=\"text-align: right;\">\n",
       "      <th></th>\n",
       "      <th>title</th>\n",
       "      <th>pu_number</th>\n",
       "      <th>show_start_date</th>\n",
       "      <th>type</th>\n",
       "      <th>film_studio</th>\n",
       "      <th>production_country</th>\n",
       "      <th>director</th>\n",
       "      <th>producer</th>\n",
       "      <th>age_restriction</th>\n",
       "      <th>refundable_support</th>\n",
       "      <th>nonrefundable_support</th>\n",
       "      <th>budget</th>\n",
       "      <th>financing_source</th>\n",
       "      <th>ratings</th>\n",
       "      <th>genres</th>\n",
       "      <th>box_office</th>\n",
       "    </tr>\n",
       "  </thead>\n",
       "  <tbody>\n",
       "    <tr>\n",
       "      <th>5067</th>\n",
       "      <td>Анализируй это!</td>\n",
       "      <td>221054410</td>\n",
       "      <td>2010-05-25 12:00:00+00:00</td>\n",
       "      <td>Художественный</td>\n",
       "      <td>Уорнер Бразерс, Вилладж Роудшоу Филмз ЛТД</td>\n",
       "      <td>США-Австралия</td>\n",
       "      <td>ХЭрольд Рэмис</td>\n",
       "      <td>Джейн Розенталь, Пола Уейнстейн</td>\n",
       "      <td>«16+» - для детей старше 16 лет</td>\n",
       "      <td>NaN</td>\n",
       "      <td>NaN</td>\n",
       "      <td>NaN</td>\n",
       "      <td>NaN</td>\n",
       "      <td>7.4</td>\n",
       "      <td>комедия,криминал</td>\n",
       "      <td>NaN</td>\n",
       "    </tr>\n",
       "    <tr>\n",
       "      <th>5068</th>\n",
       "      <td>Анализируй то!</td>\n",
       "      <td>221054410</td>\n",
       "      <td>2010-05-25 12:00:00+00:00</td>\n",
       "      <td>Художественный</td>\n",
       "      <td>Уорнер Бразерс, Виллидж Роадшоу Пикчерз, Эн-Пи...</td>\n",
       "      <td>США</td>\n",
       "      <td>Гарольд Реймис</td>\n",
       "      <td>Джейн Розенталь, Паул Уэйнстейн</td>\n",
       "      <td>«12+» - для детей старше 12 лет</td>\n",
       "      <td>NaN</td>\n",
       "      <td>NaN</td>\n",
       "      <td>NaN</td>\n",
       "      <td>NaN</td>\n",
       "      <td>6.8</td>\n",
       "      <td>комедия,криминал</td>\n",
       "      <td>NaN</td>\n",
       "    </tr>\n",
       "  </tbody>\n",
       "</table>\n",
       "</div>"
      ],
      "text/plain": [
       "                title  pu_number           show_start_date            type  \\\n",
       "5067  Анализируй это!  221054410 2010-05-25 12:00:00+00:00  Художественный   \n",
       "5068   Анализируй то!  221054410 2010-05-25 12:00:00+00:00  Художественный   \n",
       "\n",
       "                                            film_studio production_country  \\\n",
       "5067          Уорнер Бразерс, Вилладж Роудшоу Филмз ЛТД      США-Австралия   \n",
       "5068  Уорнер Бразерс, Виллидж Роадшоу Пикчерз, Эн-Пи...                США   \n",
       "\n",
       "            director                         producer  \\\n",
       "5067   ХЭрольд Рэмис  Джейн Розенталь, Пола Уейнстейн   \n",
       "5068  Гарольд Реймис  Джейн Розенталь, Паул Уэйнстейн   \n",
       "\n",
       "                      age_restriction  refundable_support  \\\n",
       "5067  «16+» - для детей старше 16 лет                 NaN   \n",
       "5068  «12+» - для детей старше 12 лет                 NaN   \n",
       "\n",
       "      nonrefundable_support  budget financing_source ratings  \\\n",
       "5067                    NaN     NaN              NaN     7.4   \n",
       "5068                    NaN     NaN              NaN     6.8   \n",
       "\n",
       "                genres  box_office  \n",
       "5067  комедия,криминал         NaN  \n",
       "5068  комедия,криминал         NaN  "
      ]
     },
     "execution_count": 129,
     "metadata": {},
     "output_type": "execute_result"
    }
   ],
   "source": [
    "movies[movies['pu_number'] == 221054410]"
   ]
  },
  {
   "cell_type": "markdown",
   "id": "efe3f5b1",
   "metadata": {},
   "source": [
    "I brought out an example of one of the duplicates, it is obvious that in the rest the data will be approximately the same. We can’t call it duplicates - yes, all the data from the title to the genre are the same, but if you look closely, the premiere date is different, most likely this is due to the fact that in cinemas and at different venues this film was released at different times, days, months. We can say the same about all subsequent implicit duplicates, there are definitely no errors here.\n",
    "\n",
    "I also noticed that in many categorical columns there are implicit duplicates: for example, everything matches except for the age category, or the name is translated from English in a different way. As I explained earlier, everything is connected with different rentals, so we will not classify them as duplicates either.\n",
    "\n",
    "However, we do have a problem with categorical columns:\n",
    "- Such data should indicate to us the category of data in the story, so that it would be easier for us to deal with them. Many columns have more than 1 category, and the data is written there separated by commas, so it is more difficult to deal with such data. Columns with this problem: `genres`, `producer`, `production_country `, `film_studio`. Which columns do not have this problem: `title`, `pu_number`, `type`, `director`, `age_restriction`, `financing_source`."
   ]
  },
  {
   "cell_type": "code",
   "execution_count": 130,
   "id": "311da983",
   "metadata": {},
   "outputs": [
    {
     "data": {
      "text/plain": [
       "array(['7.2', '6.6', '6.8', '7.7', '8.3', '8.0', '7.8', '8.1', '7.1',\n",
       "       '6.0', '7.4', '5.8', '8.7', '6.3', '6.9', '5.0', '4.3', '7.3',\n",
       "       '7.0', '6.4', nan, '8.2', '7.5', '6.7', '7.9', '5.9', '6.2', '5.6',\n",
       "       '6.5', '2.4', '7.6', '6.1', '8.6', '8.5', '8.8', '5.5', '5.1',\n",
       "       '5.7', '5.4', '99%', '4.4', '4.5', '5.3', '4.1', '8.4', '2.6',\n",
       "       '3.8', '4.6', '4.8', '4.0', '3.0', '1.6', '4.2', '5.2', '4.7',\n",
       "       '4.9', '3.9', '2.7', '3.3', '2.9', '28%', '3.7', '1.4', '3.1',\n",
       "       '97%', '3.5', '3.2', '2.8', '1.5', '2.1', '2.5', '9.2', '3.4',\n",
       "       '1.1', '3.6', '83%', '64%', '91%', '94%', '62%', '79%', '90%',\n",
       "       '19%', '88%', '1.0', '89%', '1.3', '1.9', '1.8', '1.2', '1.7',\n",
       "       '9.0', '98%', '8.9', '9.1'], dtype=object)"
      ]
     },
     "execution_count": 130,
     "metadata": {},
     "output_type": "execute_result"
    }
   ],
   "source": [
    "#вот тут у нас все напуталось\n",
    "movies['ratings'].unique()"
   ]
  },
  {
   "cell_type": "code",
   "execution_count": 131,
   "id": "9ab4d7a7",
   "metadata": {
    "scrolled": true
   },
   "outputs": [
    {
     "name": "stdout",
     "output_type": "stream",
     "text": [
      "<class 'pandas.core.frame.DataFrame'>\n",
      "Int64Index: 7486 entries, 0 to 7485\n",
      "Data columns (total 16 columns):\n",
      " #   Column                 Non-Null Count  Dtype              \n",
      "---  ------                 --------------  -----              \n",
      " 0   title                  7486 non-null   object             \n",
      " 1   pu_number              7486 non-null   int64              \n",
      " 2   show_start_date        7486 non-null   datetime64[ns, UTC]\n",
      " 3   type                   7486 non-null   object             \n",
      " 4   film_studio            7486 non-null   object             \n",
      " 5   production_country     7486 non-null   object             \n",
      " 6   director               7486 non-null   object             \n",
      " 7   producer               7486 non-null   object             \n",
      " 8   age_restriction        7486 non-null   object             \n",
      " 9   refundable_support     332 non-null    float64            \n",
      " 10  nonrefundable_support  332 non-null    float64            \n",
      " 11  budget                 332 non-null    float64            \n",
      " 12  financing_source       332 non-null    object             \n",
      " 13  ratings                6519 non-null   object             \n",
      " 14  genres                 7486 non-null   object             \n",
      " 15  box_office             3158 non-null   float64            \n",
      "dtypes: datetime64[ns, UTC](1), float64(4), int64(1), object(10)\n",
      "memory usage: 994.2+ KB\n"
     ]
    }
   ],
   "source": [
    "movies.info()"
   ]
  },
  {
   "cell_type": "code",
   "execution_count": 132,
   "id": "261cad02",
   "metadata": {},
   "outputs": [
    {
     "data": {
      "text/plain": [
       "array([7.2, 6.6, 6.8, 7.7, 8.3, 8. , 7.8, 8.1, 7.1, 6. , 7.4, 5.8, 8.7,\n",
       "       6.3, 6.9, 5. , 4.3, 7.3, 7. , 6.4, nan, 8.2, 7.5, 6.7, 7.9, 5.9,\n",
       "       6.2, 5.6, 6.5, 2.4, 7.6, 6.1, 8.6, 8.5, 8.8, 5.5, 5.1, 5.7, 5.4,\n",
       "       9.9, 4.4, 4.5, 5.3, 4.1, 8.4, 2.6, 3.8, 4.6, 4.8, 4. , 3. , 1.6,\n",
       "       4.2, 5.2, 4.7, 4.9, 3.9, 2.7, 3.3, 2.9, 2.8, 3.7, 1.4, 3.1, 9.7,\n",
       "       3.5, 3.2, 1.5, 2.1, 2.5, 9.2, 3.4, 1.1, 3.6, 9.1, 9.4, 9. , 1.9,\n",
       "       1. , 8.9, 1.3, 1.8, 1.2, 1.7, 9.8])"
      ]
     },
     "execution_count": 132,
     "metadata": {},
     "output_type": "execute_result"
    }
   ],
   "source": [
    "movies['ratings'] = movies['ratings'].str.replace('%', '').astype(float)\n",
    "movies.loc[movies['ratings'] > 10, 'ratings'] = movies.loc[movies['ratings'] > 10, 'ratings'] / 10\n",
    "movies['ratings'].unique()"
   ]
  },
  {
   "cell_type": "code",
   "execution_count": 133,
   "id": "c9193095",
   "metadata": {},
   "outputs": [
    {
     "data": {
      "text/html": [
       "<div>\n",
       "<style scoped>\n",
       "    .dataframe tbody tr th:only-of-type {\n",
       "        vertical-align: middle;\n",
       "    }\n",
       "\n",
       "    .dataframe tbody tr th {\n",
       "        vertical-align: top;\n",
       "    }\n",
       "\n",
       "    .dataframe thead th {\n",
       "        text-align: right;\n",
       "    }\n",
       "</style>\n",
       "<table border=\"1\" class=\"dataframe\">\n",
       "  <thead>\n",
       "    <tr style=\"text-align: right;\">\n",
       "      <th></th>\n",
       "      <th>title</th>\n",
       "      <th>pu_number</th>\n",
       "      <th>show_start_date</th>\n",
       "      <th>type</th>\n",
       "      <th>film_studio</th>\n",
       "      <th>production_country</th>\n",
       "      <th>director</th>\n",
       "      <th>producer</th>\n",
       "      <th>age_restriction</th>\n",
       "      <th>refundable_support</th>\n",
       "      <th>nonrefundable_support</th>\n",
       "      <th>budget</th>\n",
       "      <th>financing_source</th>\n",
       "      <th>ratings</th>\n",
       "      <th>genres</th>\n",
       "      <th>box_office</th>\n",
       "    </tr>\n",
       "  </thead>\n",
       "  <tbody>\n",
       "    <tr>\n",
       "      <th>1870</th>\n",
       "      <td>А зори здесь тихие..._</td>\n",
       "      <td>111002915</td>\n",
       "      <td>2015-03-16 12:00:00+00:00</td>\n",
       "      <td>Художественный</td>\n",
       "      <td>ООО \"Компания \"Реал-Дакота\"</td>\n",
       "      <td>Россия</td>\n",
       "      <td>Р.Давлетьяров</td>\n",
       "      <td>not defined</td>\n",
       "      <td>«12+» - для детей старше 12 лет</td>\n",
       "      <td>50000000.00</td>\n",
       "      <td>100000000.00</td>\n",
       "      <td>220588394.00</td>\n",
       "      <td>Фонд кино</td>\n",
       "      <td>8.50</td>\n",
       "      <td>драма,военный,история</td>\n",
       "      <td>249166767.70</td>\n",
       "    </tr>\n",
       "    <tr>\n",
       "      <th>1987</th>\n",
       "      <td>Елки Лохматые</td>\n",
       "      <td>111023114</td>\n",
       "      <td>2014-12-10 12:00:00+00:00</td>\n",
       "      <td>Художественный</td>\n",
       "      <td>ООО \"ТаББаК\"</td>\n",
       "      <td>Россия</td>\n",
       "      <td>Максим Свешников</td>\n",
       "      <td>Тимур Бекмамбетов, Евгения Аронова</td>\n",
       "      <td>«6+» - для детей старше 6 лет</td>\n",
       "      <td>26000000.00</td>\n",
       "      <td>30000000.00</td>\n",
       "      <td>80000000.00</td>\n",
       "      <td>Фонд кино</td>\n",
       "      <td>5.00</td>\n",
       "      <td>семейный,комедия</td>\n",
       "      <td>121225633.80</td>\n",
       "    </tr>\n",
       "    <tr>\n",
       "      <th>2005</th>\n",
       "      <td>Снежная Королева 2: Перезаморозка</td>\n",
       "      <td>114000214</td>\n",
       "      <td>2014-11-13 12:00:00+00:00</td>\n",
       "      <td>Анимационный</td>\n",
       "      <td>ООО \"ВИЗАРТ ФИЛЬМ\"</td>\n",
       "      <td>Россия</td>\n",
       "      <td>А.Цицилин</td>\n",
       "      <td>ООО \"ВИЗАРТ ФИЛЬМ\", ООО \"ТаББаК\"</td>\n",
       "      <td>«0+» - для любой зрительской аудитории</td>\n",
       "      <td>30000000.00</td>\n",
       "      <td>40000000.00</td>\n",
       "      <td>252489571.00</td>\n",
       "      <td>Фонд кино</td>\n",
       "      <td>6.50</td>\n",
       "      <td>мультфильм,фэнтези,приключения</td>\n",
       "      <td>313489846.50</td>\n",
       "    </tr>\n",
       "    <tr>\n",
       "      <th>2142</th>\n",
       "      <td>Территория</td>\n",
       "      <td>111000515</td>\n",
       "      <td>2015-01-27 12:00:00+00:00</td>\n",
       "      <td>Художественный</td>\n",
       "      <td>ООО \"Творческое объединение \"Кинокомпания \"Анд...</td>\n",
       "      <td>Россия</td>\n",
       "      <td>А.Мельник</td>\n",
       "      <td>А.Мельник</td>\n",
       "      <td>«12+» - для детей старше 12 лет</td>\n",
       "      <td>30000000.00</td>\n",
       "      <td>30000000.00</td>\n",
       "      <td>500000000.00</td>\n",
       "      <td>Фонд кино</td>\n",
       "      <td>6.80</td>\n",
       "      <td>детектив,фэнтези,триллер</td>\n",
       "      <td>72578317.40</td>\n",
       "    </tr>\n",
       "    <tr>\n",
       "      <th>2288</th>\n",
       "      <td>12 месяцев. Новая сказка</td>\n",
       "      <td>111014414</td>\n",
       "      <td>2014-10-16 12:00:00+00:00</td>\n",
       "      <td>Художественный</td>\n",
       "      <td>ООО \"Киностудия \"Никола-фильм\", ООО \"Инвестмен...</td>\n",
       "      <td>Россия</td>\n",
       "      <td>Д.Елеонский</td>\n",
       "      <td>И.Каленов</td>\n",
       "      <td>«0+» - для любой зрительской аудитории</td>\n",
       "      <td>15000000.00</td>\n",
       "      <td>5000000.00</td>\n",
       "      <td>90120000.00</td>\n",
       "      <td>Фонд кино</td>\n",
       "      <td>3.80</td>\n",
       "      <td>семейный,фэнтези</td>\n",
       "      <td>32244810.00</td>\n",
       "    </tr>\n",
       "  </tbody>\n",
       "</table>\n",
       "</div>"
      ],
      "text/plain": [
       "                                  title  pu_number           show_start_date  \\\n",
       "1870             А зори здесь тихие..._  111002915 2015-03-16 12:00:00+00:00   \n",
       "1987                      Елки Лохматые  111023114 2014-12-10 12:00:00+00:00   \n",
       "2005  Снежная Королева 2: Перезаморозка  114000214 2014-11-13 12:00:00+00:00   \n",
       "2142                         Территория  111000515 2015-01-27 12:00:00+00:00   \n",
       "2288           12 месяцев. Новая сказка  111014414 2014-10-16 12:00:00+00:00   \n",
       "\n",
       "                type                                        film_studio  \\\n",
       "1870  Художественный                        ООО \"Компания \"Реал-Дакота\"   \n",
       "1987  Художественный                                       ООО \"ТаББаК\"   \n",
       "2005    Анимационный                                 ООО \"ВИЗАРТ ФИЛЬМ\"   \n",
       "2142  Художественный  ООО \"Творческое объединение \"Кинокомпания \"Анд...   \n",
       "2288  Художественный  ООО \"Киностудия \"Никола-фильм\", ООО \"Инвестмен...   \n",
       "\n",
       "     production_country          director                            producer  \\\n",
       "1870             Россия     Р.Давлетьяров                         not defined   \n",
       "1987             Россия  Максим Свешников  Тимур Бекмамбетов, Евгения Аронова   \n",
       "2005             Россия         А.Цицилин    ООО \"ВИЗАРТ ФИЛЬМ\", ООО \"ТаББаК\"   \n",
       "2142             Россия         А.Мельник                           А.Мельник   \n",
       "2288             Россия       Д.Елеонский                           И.Каленов   \n",
       "\n",
       "                             age_restriction  refundable_support  \\\n",
       "1870         «12+» - для детей старше 12 лет         50000000.00   \n",
       "1987           «6+» - для детей старше 6 лет         26000000.00   \n",
       "2005  «0+» - для любой зрительской аудитории         30000000.00   \n",
       "2142         «12+» - для детей старше 12 лет         30000000.00   \n",
       "2288  «0+» - для любой зрительской аудитории         15000000.00   \n",
       "\n",
       "      nonrefundable_support       budget financing_source  ratings  \\\n",
       "1870           100000000.00 220588394.00        Фонд кино     8.50   \n",
       "1987            30000000.00  80000000.00        Фонд кино     5.00   \n",
       "2005            40000000.00 252489571.00        Фонд кино     6.50   \n",
       "2142            30000000.00 500000000.00        Фонд кино     6.80   \n",
       "2288             5000000.00  90120000.00        Фонд кино     3.80   \n",
       "\n",
       "                              genres   box_office  \n",
       "1870           драма,военный,история 249166767.70  \n",
       "1987                семейный,комедия 121225633.80  \n",
       "2005  мультфильм,фэнтези,приключения 313489846.50  \n",
       "2142        детектив,фэнтези,триллер  72578317.40  \n",
       "2288                семейный,фэнтези  32244810.00  "
      ]
     },
     "execution_count": 133,
     "metadata": {},
     "output_type": "execute_result"
    }
   ],
   "source": [
    "movies[movies['refundable_support'] > 0].head()"
   ]
  },
  {
   "cell_type": "code",
   "execution_count": 134,
   "id": "a50fb939",
   "metadata": {},
   "outputs": [
    {
     "data": {
      "text/plain": [
       "count         332.00\n",
       "mean     11864457.83\n",
       "std      24916555.26\n",
       "min             0.00\n",
       "25%             0.00\n",
       "50%             0.00\n",
       "75%      15000000.00\n",
       "max     180000000.00\n",
       "Name: refundable_support, dtype: float64"
      ]
     },
     "execution_count": 134,
     "metadata": {},
     "output_type": "execute_result"
    }
   ],
   "source": [
    "movies['refundable_support'].describe()"
   ]
  },
  {
   "cell_type": "code",
   "execution_count": 135,
   "id": "07e8a073",
   "metadata": {},
   "outputs": [
    {
     "data": {
      "text/plain": [
       "<AxesSubplot:>"
      ]
     },
     "execution_count": 135,
     "metadata": {},
     "output_type": "execute_result"
    },
    {
     "data": {
      "image/png": "[encoded data removed]",
      "text/plain": [
       "<Figure size 720x360 with 1 Axes>"
      ]
     },
     "metadata": {
      "needs_background": "light"
     },
     "output_type": "display_data"
    }
   ],
   "source": [
    "movies['refundable_support'].hist(bins=25, figsize=(10, 5))"
   ]
  },
  {
   "cell_type": "code",
   "execution_count": 136,
   "id": "490130d1",
   "metadata": {},
   "outputs": [
    {
     "data": {
      "text/plain": [
       "count         332.00\n",
       "mean     48980988.89\n",
       "std      59980117.92\n",
       "min             0.00\n",
       "25%      25000000.00\n",
       "50%      30000000.00\n",
       "75%      40375000.00\n",
       "max     400000000.00\n",
       "Name: nonrefundable_support, dtype: float64"
      ]
     },
     "execution_count": 136,
     "metadata": {},
     "output_type": "execute_result"
    }
   ],
   "source": [
    "movies['nonrefundable_support'].describe()"
   ]
  },
  {
   "cell_type": "code",
   "execution_count": 137,
   "id": "aa44b111",
   "metadata": {},
   "outputs": [
    {
     "data": {
      "text/plain": [
       "<AxesSubplot:>"
      ]
     },
     "execution_count": 137,
     "metadata": {},
     "output_type": "execute_result"
    },
    {
     "data": {
      "image/png": "[encoded data removed]",
      "text/plain": [
       "<Figure size 720x360 with 1 Axes>"
      ]
     },
     "metadata": {
      "needs_background": "light"
     },
     "output_type": "display_data"
    }
   ],
   "source": [
    "movies['nonrefundable_support'].hist(bins=25, figsize=(10, 5))"
   ]
  },
  {
   "cell_type": "code",
   "execution_count": 138,
   "id": "4374da45",
   "metadata": {},
   "outputs": [
    {
     "data": {
      "text/plain": [
       "count          332.00\n",
       "mean     127229716.68\n",
       "std      188588333.12\n",
       "min              0.00\n",
       "25%       42000000.00\n",
       "50%       68649916.00\n",
       "75%      141985319.50\n",
       "max     2305074303.00\n",
       "Name: budget, dtype: float64"
      ]
     },
     "execution_count": 138,
     "metadata": {},
     "output_type": "execute_result"
    }
   ],
   "source": [
    "movies['budget'].describe()"
   ]
  },
  {
   "cell_type": "code",
   "execution_count": 139,
   "id": "7bc3b6e7",
   "metadata": {},
   "outputs": [
    {
     "data": {
      "text/plain": [
       "<AxesSubplot:>"
      ]
     },
     "execution_count": 139,
     "metadata": {},
     "output_type": "execute_result"
    },
    {
     "data": {
      "image/png": "[encoded data removed]",
      "text/plain": [
       "<Figure size 720x360 with 1 Axes>"
      ]
     },
     "metadata": {
      "needs_background": "light"
     },
     "output_type": "display_data"
    }
   ],
   "source": [
    "movies['budget'].hist(bins=25, figsize=(10, 5))"
   ]
  },
  {
   "cell_type": "code",
   "execution_count": 140,
   "id": "0167066a",
   "metadata": {},
   "outputs": [
    {
     "data": {
      "text/plain": [
       "count         3158.00\n",
       "mean      76478696.16\n",
       "std      240353122.82\n",
       "min              0.00\n",
       "25%          86239.00\n",
       "50%        2327987.55\n",
       "75%       23979671.02\n",
       "max     3073568690.79\n",
       "Name: box_office, dtype: float64"
      ]
     },
     "execution_count": 140,
     "metadata": {},
     "output_type": "execute_result"
    }
   ],
   "source": [
    "movies['box_office'].describe()"
   ]
  },
  {
   "cell_type": "code",
   "execution_count": 141,
   "id": "77cbc887",
   "metadata": {},
   "outputs": [
    {
     "data": {
      "text/plain": [
       "<AxesSubplot:>"
      ]
     },
     "execution_count": 141,
     "metadata": {},
     "output_type": "execute_result"
    },
    {
     "data": {
      "image/png": "[encoded data removed]",
      "text/plain": [
       "<Figure size 720x360 with 1 Axes>"
      ]
     },
     "metadata": {
      "needs_background": "light"
     },
     "output_type": "display_data"
    }
   ],
   "source": [
    "movies['box_office'].hist(bins=25, figsize=(10, 5))"
   ]
  },
  {
   "cell_type": "markdown",
   "id": "6e52a962",
   "metadata": {},
   "source": [
    "- `refundable_support`: Basically, our refundable support values are around 11-12 million rubles, despite this, there are also very suspicious values, such as 180 million rubles. I wonder if the film managed to recoup such an amount. In general, we have rather chaotically jumping values on the graph, for example, 100 million, or 70 million. Sharp elevations\n",
    "- `nonrefundable_support`: Here the bulk of the money is up to 50 million rubles, then there is a decrease and then emissions. Emissions are also quite chaotic, for example, the maximum amount of non-refundable support is 400 million rubles. I wonder how the owner of the film was able to knock out such an amount, the same emissions we have going from 150 million to 300\n",
    "- `budget`: The budget is also an interesting story. Basically, films collect up to 500 million rubles of the budget. Nevertheless, one got confused and invested 2 billion 300 million rubles in the film. Quite a lot for a movie. A movie like this deserves an Oscar nomination.\n",
    "- `box_office`: We'll talk about cash receipts from films a little later, but I want to note that films generally collect up to 500-700 million rubles. Despite this, we have a couple of films, the directors of which very pleasantly surprised the audience and hit the jackpot, for example, the largest fees amounted to 3 billion rubles. We also have smaller, but also quite attractive amounts: from 1 to 2 billion rubles"
   ]
  },
  {
   "cell_type": "code",
   "execution_count": 142,
   "id": "593d4df7",
   "metadata": {
    "scrolled": true
   },
   "outputs": [
    {
     "data": {
      "text/html": [
       "<div>\n",
       "<style scoped>\n",
       "    .dataframe tbody tr th:only-of-type {\n",
       "        vertical-align: middle;\n",
       "    }\n",
       "\n",
       "    .dataframe tbody tr th {\n",
       "        vertical-align: top;\n",
       "    }\n",
       "\n",
       "    .dataframe thead th {\n",
       "        text-align: right;\n",
       "    }\n",
       "</style>\n",
       "<table border=\"1\" class=\"dataframe\">\n",
       "  <thead>\n",
       "    <tr style=\"text-align: right;\">\n",
       "      <th></th>\n",
       "      <th>title</th>\n",
       "      <th>pu_number</th>\n",
       "      <th>show_start_date</th>\n",
       "      <th>type</th>\n",
       "      <th>film_studio</th>\n",
       "      <th>production_country</th>\n",
       "      <th>director</th>\n",
       "      <th>producer</th>\n",
       "      <th>age_restriction</th>\n",
       "      <th>refundable_support</th>\n",
       "      <th>nonrefundable_support</th>\n",
       "      <th>budget</th>\n",
       "      <th>financing_source</th>\n",
       "      <th>ratings</th>\n",
       "      <th>genres</th>\n",
       "      <th>box_office</th>\n",
       "    </tr>\n",
       "  </thead>\n",
       "  <tbody>\n",
       "    <tr>\n",
       "      <th>1281</th>\n",
       "      <td>Пока еще жива</td>\n",
       "      <td>111005313</td>\n",
       "      <td>2013-10-11 12:00:00+00:00</td>\n",
       "      <td>Художественный</td>\n",
       "      <td>АНО содействия развитию кинематографии \"Ангел-...</td>\n",
       "      <td>Россия</td>\n",
       "      <td>А.Атанесян</td>\n",
       "      <td>А.Атанесян, М.Бабаханов, Р.Бутко</td>\n",
       "      <td>«16+» - для детей старше 16 лет</td>\n",
       "      <td>0.00</td>\n",
       "      <td>26500000.00</td>\n",
       "      <td>79411900.00</td>\n",
       "      <td>Министерство культуры</td>\n",
       "      <td>8.10</td>\n",
       "      <td>драма,мелодрама</td>\n",
       "      <td>365353.60</td>\n",
       "    </tr>\n",
       "    <tr>\n",
       "      <th>1448</th>\n",
       "      <td>Бесславные придурки</td>\n",
       "      <td>111003314</td>\n",
       "      <td>2014-03-28 12:00:00+00:00</td>\n",
       "      <td>Художественный</td>\n",
       "      <td>ООО \"Компания \"АТК-Студио\"</td>\n",
       "      <td>Россия</td>\n",
       "      <td>А.Якимчук</td>\n",
       "      <td>А.Тютрюмов</td>\n",
       "      <td>«12+» - для детей старше 12 лет</td>\n",
       "      <td>0.00</td>\n",
       "      <td>26000000.00</td>\n",
       "      <td>37142857.00</td>\n",
       "      <td>Министерство культуры</td>\n",
       "      <td>NaN</td>\n",
       "      <td>not defined</td>\n",
       "      <td>28140.00</td>\n",
       "    </tr>\n",
       "    <tr>\n",
       "      <th>1498</th>\n",
       "      <td>Невидимки</td>\n",
       "      <td>111004213</td>\n",
       "      <td>2013-09-10 12:00:00+00:00</td>\n",
       "      <td>Художественный</td>\n",
       "      <td>ООО \"Компания \"РЕАЛ-ДАКОТА\"</td>\n",
       "      <td>Россия</td>\n",
       "      <td>Р.Давлетьяров, С.Комаров</td>\n",
       "      <td>Р.Давлетьяров, А.Котелевский, А.Олейников</td>\n",
       "      <td>«12+» - для детей старше 12 лет</td>\n",
       "      <td>0.00</td>\n",
       "      <td>107847945.00</td>\n",
       "      <td>176023490.00</td>\n",
       "      <td>Фонд кино</td>\n",
       "      <td>5.30</td>\n",
       "      <td>комедия,фантастика</td>\n",
       "      <td>19957031.50</td>\n",
       "    </tr>\n",
       "    <tr>\n",
       "      <th>1524</th>\n",
       "      <td>БЕРЦЫ</td>\n",
       "      <td>111004314</td>\n",
       "      <td>2014-05-05 12:00:00+00:00</td>\n",
       "      <td>Художественный</td>\n",
       "      <td>ООО \"Студия \"Пассажир\"</td>\n",
       "      <td>Россия</td>\n",
       "      <td>Е.Миндадзе (псевдоним Катя Шагалова)</td>\n",
       "      <td>Л.Антонова</td>\n",
       "      <td>«16+» - для детей старше 16 лет</td>\n",
       "      <td>0.00</td>\n",
       "      <td>28000000.00</td>\n",
       "      <td>40574140.00</td>\n",
       "      <td>Министерство культуры</td>\n",
       "      <td>4.20</td>\n",
       "      <td>драма</td>\n",
       "      <td>55917.50</td>\n",
       "    </tr>\n",
       "    <tr>\n",
       "      <th>1792</th>\n",
       "      <td>Братья Ч</td>\n",
       "      <td>111004414</td>\n",
       "      <td>2014-04-23 12:00:00+00:00</td>\n",
       "      <td>Художественный</td>\n",
       "      <td>ООО \"Студия \"Пассажир\"</td>\n",
       "      <td>Россия</td>\n",
       "      <td>М.Угаров</td>\n",
       "      <td>А.Миндадзе, Л.Антонова</td>\n",
       "      <td>«16+» - для детей старше 16 лет</td>\n",
       "      <td>0.00</td>\n",
       "      <td>25000000.00</td>\n",
       "      <td>40015122.00</td>\n",
       "      <td>Министерство культуры</td>\n",
       "      <td>6.40</td>\n",
       "      <td>драма</td>\n",
       "      <td>232100.00</td>\n",
       "    </tr>\n",
       "    <tr>\n",
       "      <th>...</th>\n",
       "      <td>...</td>\n",
       "      <td>...</td>\n",
       "      <td>...</td>\n",
       "      <td>...</td>\n",
       "      <td>...</td>\n",
       "      <td>...</td>\n",
       "      <td>...</td>\n",
       "      <td>...</td>\n",
       "      <td>...</td>\n",
       "      <td>...</td>\n",
       "      <td>...</td>\n",
       "      <td>...</td>\n",
       "      <td>...</td>\n",
       "      <td>...</td>\n",
       "      <td>...</td>\n",
       "      <td>...</td>\n",
       "    </tr>\n",
       "    <tr>\n",
       "      <th>7464</th>\n",
       "      <td>Союз спасения</td>\n",
       "      <td>111022019</td>\n",
       "      <td>2019-12-26 12:00:00+00:00</td>\n",
       "      <td>Художественный</td>\n",
       "      <td>ЗАО \"Дирекция кино\"</td>\n",
       "      <td>Россия</td>\n",
       "      <td>А.Кравчук</td>\n",
       "      <td>А.Максимов, К.Эрнст</td>\n",
       "      <td>«12+» - для детей старше 12 лет</td>\n",
       "      <td>100000000.00</td>\n",
       "      <td>400000000.00</td>\n",
       "      <td>980000000.00</td>\n",
       "      <td>Фонд кино</td>\n",
       "      <td>6.00</td>\n",
       "      <td>история,биография,драма</td>\n",
       "      <td>717703185.53</td>\n",
       "    </tr>\n",
       "    <tr>\n",
       "      <th>7466</th>\n",
       "      <td>Иван Царевич и Серый Волк 4</td>\n",
       "      <td>114005019</td>\n",
       "      <td>2019-12-20 12:00:00+00:00</td>\n",
       "      <td>Анимационный</td>\n",
       "      <td>ООО \"Студия анимационного кино \"Мельница\"</td>\n",
       "      <td>Россия</td>\n",
       "      <td>Д.Шмидт, К.Феоктистов</td>\n",
       "      <td>С.Сельянов, А.Боярский</td>\n",
       "      <td>«6+» - для детей старше 6 лет</td>\n",
       "      <td>100000000.00</td>\n",
       "      <td>0.00</td>\n",
       "      <td>190000000.00</td>\n",
       "      <td>Фонд кино</td>\n",
       "      <td>6.70</td>\n",
       "      <td>мультфильм,приключения,семейный</td>\n",
       "      <td>501069235.00</td>\n",
       "    </tr>\n",
       "    <tr>\n",
       "      <th>7474</th>\n",
       "      <td>Вторжение</td>\n",
       "      <td>111022519</td>\n",
       "      <td>2019-12-23 12:00:00+00:00</td>\n",
       "      <td>Художественный</td>\n",
       "      <td>ООО \"Арт Пикчерс Студия\", ООО \"Водород 2011\"</td>\n",
       "      <td>Россия</td>\n",
       "      <td>Ф.Бондарчук</td>\n",
       "      <td>Ф.Бондарчук, М.Врубель, А.Андрющенко, Д.Рудовский</td>\n",
       "      <td>«12+» - для детей старше 12 лет</td>\n",
       "      <td>100000000.00</td>\n",
       "      <td>400000000.00</td>\n",
       "      <td>944000000.00</td>\n",
       "      <td>Фонд кино</td>\n",
       "      <td>5.70</td>\n",
       "      <td>фантастика,боевик</td>\n",
       "      <td>NaN</td>\n",
       "    </tr>\n",
       "    <tr>\n",
       "      <th>7476</th>\n",
       "      <td>Я свободен</td>\n",
       "      <td>111023019</td>\n",
       "      <td>2019-12-26 12:00:00+00:00</td>\n",
       "      <td>Художественный</td>\n",
       "      <td>АО \"ТПО \"Киностудия им. М.Горького\"</td>\n",
       "      <td>Россия</td>\n",
       "      <td>И.Северов</td>\n",
       "      <td>С.Зернов</td>\n",
       "      <td>«12+» - для детей старше 12 лет</td>\n",
       "      <td>0.00</td>\n",
       "      <td>30000000.00</td>\n",
       "      <td>46154000.00</td>\n",
       "      <td>Министерство культуры</td>\n",
       "      <td>5.90</td>\n",
       "      <td>драма</td>\n",
       "      <td>NaN</td>\n",
       "    </tr>\n",
       "    <tr>\n",
       "      <th>7478</th>\n",
       "      <td>(Не)идеальный мужчина</td>\n",
       "      <td>111023119</td>\n",
       "      <td>2019-12-24 12:00:00+00:00</td>\n",
       "      <td>Художественный</td>\n",
       "      <td>ООО \"Нон-Стоп Продакшн\"</td>\n",
       "      <td>Россия</td>\n",
       "      <td>М.Бальчюнас (псевдоним М.Вайсберг)</td>\n",
       "      <td>С.Мелькумов, А.Роднянский, М.Вайсберг, Р.Минас...</td>\n",
       "      <td>«12+» - для детей старше 12 лет</td>\n",
       "      <td>40000000.00</td>\n",
       "      <td>60000000.00</td>\n",
       "      <td>150147502.00</td>\n",
       "      <td>Фонд кино</td>\n",
       "      <td>4.50</td>\n",
       "      <td>комедия,фантастика,мелодрама</td>\n",
       "      <td>NaN</td>\n",
       "    </tr>\n",
       "  </tbody>\n",
       "</table>\n",
       "<p>315 rows × 16 columns</p>\n",
       "</div>"
      ],
      "text/plain": [
       "                            title  pu_number           show_start_date  \\\n",
       "1281                Пока еще жива  111005313 2013-10-11 12:00:00+00:00   \n",
       "1448          Бесславные придурки  111003314 2014-03-28 12:00:00+00:00   \n",
       "1498                    Невидимки  111004213 2013-09-10 12:00:00+00:00   \n",
       "1524                        БЕРЦЫ  111004314 2014-05-05 12:00:00+00:00   \n",
       "1792                     Братья Ч  111004414 2014-04-23 12:00:00+00:00   \n",
       "...                           ...        ...                       ...   \n",
       "7464                Союз спасения  111022019 2019-12-26 12:00:00+00:00   \n",
       "7466  Иван Царевич и Серый Волк 4  114005019 2019-12-20 12:00:00+00:00   \n",
       "7474                    Вторжение  111022519 2019-12-23 12:00:00+00:00   \n",
       "7476                   Я свободен  111023019 2019-12-26 12:00:00+00:00   \n",
       "7478        (Не)идеальный мужчина  111023119 2019-12-24 12:00:00+00:00   \n",
       "\n",
       "                type                                        film_studio  \\\n",
       "1281  Художественный  АНО содействия развитию кинематографии \"Ангел-...   \n",
       "1448  Художественный                         ООО \"Компания \"АТК-Студио\"   \n",
       "1498  Художественный                        ООО \"Компания \"РЕАЛ-ДАКОТА\"   \n",
       "1524  Художественный                             ООО \"Студия \"Пассажир\"   \n",
       "1792  Художественный                             ООО \"Студия \"Пассажир\"   \n",
       "...              ...                                                ...   \n",
       "7464  Художественный                                ЗАО \"Дирекция кино\"   \n",
       "7466    Анимационный          ООО \"Студия анимационного кино \"Мельница\"   \n",
       "7474  Художественный       ООО \"Арт Пикчерс Студия\", ООО \"Водород 2011\"   \n",
       "7476  Художественный                АО \"ТПО \"Киностудия им. М.Горького\"   \n",
       "7478  Художественный                           ООО \"Нон-Стоп Продакшн\"    \n",
       "\n",
       "     production_country                              director  \\\n",
       "1281             Россия                            А.Атанесян   \n",
       "1448             Россия                             А.Якимчук   \n",
       "1498             Россия              Р.Давлетьяров, С.Комаров   \n",
       "1524             Россия  Е.Миндадзе (псевдоним Катя Шагалова)   \n",
       "1792             Россия                              М.Угаров   \n",
       "...                 ...                                   ...   \n",
       "7464             Россия                             А.Кравчук   \n",
       "7466             Россия                 Д.Шмидт, К.Феоктистов   \n",
       "7474             Россия                           Ф.Бондарчук   \n",
       "7476             Россия                             И.Северов   \n",
       "7478             Россия    М.Бальчюнас (псевдоним М.Вайсберг)   \n",
       "\n",
       "                                               producer  \\\n",
       "1281                   А.Атанесян, М.Бабаханов, Р.Бутко   \n",
       "1448                                         А.Тютрюмов   \n",
       "1498          Р.Давлетьяров, А.Котелевский, А.Олейников   \n",
       "1524                                         Л.Антонова   \n",
       "1792                             А.Миндадзе, Л.Антонова   \n",
       "...                                                 ...   \n",
       "7464                                А.Максимов, К.Эрнст   \n",
       "7466                             С.Сельянов, А.Боярский   \n",
       "7474  Ф.Бондарчук, М.Врубель, А.Андрющенко, Д.Рудовский   \n",
       "7476                                           С.Зернов   \n",
       "7478  С.Мелькумов, А.Роднянский, М.Вайсберг, Р.Минас...   \n",
       "\n",
       "                      age_restriction  refundable_support  \\\n",
       "1281  «16+» - для детей старше 16 лет                0.00   \n",
       "1448  «12+» - для детей старше 12 лет                0.00   \n",
       "1498  «12+» - для детей старше 12 лет                0.00   \n",
       "1524  «16+» - для детей старше 16 лет                0.00   \n",
       "1792  «16+» - для детей старше 16 лет                0.00   \n",
       "...                               ...                 ...   \n",
       "7464  «12+» - для детей старше 12 лет        100000000.00   \n",
       "7466    «6+» - для детей старше 6 лет        100000000.00   \n",
       "7474  «12+» - для детей старше 12 лет        100000000.00   \n",
       "7476  «12+» - для детей старше 12 лет                0.00   \n",
       "7478  «12+» - для детей старше 12 лет         40000000.00   \n",
       "\n",
       "      nonrefundable_support       budget       financing_source  ratings  \\\n",
       "1281            26500000.00  79411900.00  Министерство культуры     8.10   \n",
       "1448            26000000.00  37142857.00  Министерство культуры      NaN   \n",
       "1498           107847945.00 176023490.00              Фонд кино     5.30   \n",
       "1524            28000000.00  40574140.00  Министерство культуры     4.20   \n",
       "1792            25000000.00  40015122.00  Министерство культуры     6.40   \n",
       "...                     ...          ...                    ...      ...   \n",
       "7464           400000000.00 980000000.00              Фонд кино     6.00   \n",
       "7466                   0.00 190000000.00              Фонд кино     6.70   \n",
       "7474           400000000.00 944000000.00              Фонд кино     5.70   \n",
       "7476            30000000.00  46154000.00  Министерство культуры     5.90   \n",
       "7478            60000000.00 150147502.00              Фонд кино     4.50   \n",
       "\n",
       "                               genres   box_office  \n",
       "1281                  драма,мелодрама    365353.60  \n",
       "1448                      not defined     28140.00  \n",
       "1498               комедия,фантастика  19957031.50  \n",
       "1524                            драма     55917.50  \n",
       "1792                            драма    232100.00  \n",
       "...                               ...          ...  \n",
       "7464          история,биография,драма 717703185.53  \n",
       "7466  мультфильм,приключения,семейный 501069235.00  \n",
       "7474                фантастика,боевик          NaN  \n",
       "7476                            драма          NaN  \n",
       "7478     комедия,фантастика,мелодрама          NaN  \n",
       "\n",
       "[315 rows x 16 columns]"
      ]
     },
     "execution_count": 142,
     "metadata": {},
     "output_type": "execute_result"
    }
   ],
   "source": [
    "movies[movies['budget']>(movies['refundable_support']+movies['nonrefundable_support'])]"
   ]
  },
  {
   "cell_type": "code",
   "execution_count": 143,
   "id": "fbcb2a1e",
   "metadata": {
    "scrolled": true
   },
   "outputs": [
    {
     "data": {
      "text/html": [
       "<div>\n",
       "<style scoped>\n",
       "    .dataframe tbody tr th:only-of-type {\n",
       "        vertical-align: middle;\n",
       "    }\n",
       "\n",
       "    .dataframe tbody tr th {\n",
       "        vertical-align: top;\n",
       "    }\n",
       "\n",
       "    .dataframe thead th {\n",
       "        text-align: right;\n",
       "    }\n",
       "</style>\n",
       "<table border=\"1\" class=\"dataframe\">\n",
       "  <thead>\n",
       "    <tr style=\"text-align: right;\">\n",
       "      <th></th>\n",
       "      <th>title</th>\n",
       "      <th>pu_number</th>\n",
       "      <th>show_start_date</th>\n",
       "      <th>type</th>\n",
       "      <th>film_studio</th>\n",
       "      <th>production_country</th>\n",
       "      <th>director</th>\n",
       "      <th>producer</th>\n",
       "      <th>age_restriction</th>\n",
       "      <th>refundable_support</th>\n",
       "      <th>nonrefundable_support</th>\n",
       "      <th>budget</th>\n",
       "      <th>financing_source</th>\n",
       "      <th>ratings</th>\n",
       "      <th>genres</th>\n",
       "      <th>box_office</th>\n",
       "    </tr>\n",
       "  </thead>\n",
       "  <tbody>\n",
       "    <tr>\n",
       "      <th>2053</th>\n",
       "      <td>14+</td>\n",
       "      <td>111023614</td>\n",
       "      <td>2014-12-19 12:00:00+00:00</td>\n",
       "      <td>Художественный</td>\n",
       "      <td>ООО Киностудия  \"Сентябрь\"</td>\n",
       "      <td>Россия</td>\n",
       "      <td>А.Зайцев</td>\n",
       "      <td>О.Гранина, А.Зайцев</td>\n",
       "      <td>«16+» - для детей старше 16 лет</td>\n",
       "      <td>0.00</td>\n",
       "      <td>23000000.00</td>\n",
       "      <td>0.00</td>\n",
       "      <td>Министерство культуры, Фонд кино</td>\n",
       "      <td>6.60</td>\n",
       "      <td>мелодрама</td>\n",
       "      <td>10234016.10</td>\n",
       "    </tr>\n",
       "    <tr>\n",
       "      <th>2058</th>\n",
       "      <td>Дуxless 2</td>\n",
       "      <td>111000415</td>\n",
       "      <td>2015-01-26 12:00:00+00:00</td>\n",
       "      <td>Художественный</td>\n",
       "      <td>ООО \"Киностудия \"Слово\", ООО \"Арт Пикчерс Студия\"</td>\n",
       "      <td>Россия</td>\n",
       "      <td>Р.Прыгунов</td>\n",
       "      <td>П.Ануров, Ф.Бондарчук, Д.Рудовский</td>\n",
       "      <td>«16+» - для детей старше 16 лет</td>\n",
       "      <td>0.00</td>\n",
       "      <td>75000000.00</td>\n",
       "      <td>0.00</td>\n",
       "      <td>Фонд кино</td>\n",
       "      <td>6.60</td>\n",
       "      <td>драма</td>\n",
       "      <td>446163511.00</td>\n",
       "    </tr>\n",
       "    <tr>\n",
       "      <th>2472</th>\n",
       "      <td>Воин (2015)</td>\n",
       "      <td>111017315</td>\n",
       "      <td>2015-09-28 12:00:00+00:00</td>\n",
       "      <td>Художественный</td>\n",
       "      <td>ООО \"Форпост Продакшн\", ООО \"Арт Пикчерс Студия\"</td>\n",
       "      <td>Россия</td>\n",
       "      <td>А.Андрианов</td>\n",
       "      <td>ООО \"Арт Пикчерс Студия\"</td>\n",
       "      <td>«12+» - для детей старше 12 лет</td>\n",
       "      <td>10000000.00</td>\n",
       "      <td>70000000.00</td>\n",
       "      <td>0.00</td>\n",
       "      <td>Фонд кино</td>\n",
       "      <td>7.80</td>\n",
       "      <td>боевик,драма,криминал</td>\n",
       "      <td>196572438.40</td>\n",
       "    </tr>\n",
       "    <tr>\n",
       "      <th>2532</th>\n",
       "      <td>Бармен.</td>\n",
       "      <td>111009615</td>\n",
       "      <td>2015-05-26 12:00:00+00:00</td>\n",
       "      <td>Художественный</td>\n",
       "      <td>АО \"ВайТ Медиа\", ООО \"Арт Пикчерс Студия\"</td>\n",
       "      <td>Россия</td>\n",
       "      <td>Д.Штурманова</td>\n",
       "      <td>Т.Вайнштейн</td>\n",
       "      <td>«16+» - для детей старше 16 лет</td>\n",
       "      <td>20000000.00</td>\n",
       "      <td>0.00</td>\n",
       "      <td>0.00</td>\n",
       "      <td>Фонд кино</td>\n",
       "      <td>6.20</td>\n",
       "      <td>комедия,фэнтези</td>\n",
       "      <td>67418974.80</td>\n",
       "    </tr>\n",
       "    <tr>\n",
       "      <th>2615</th>\n",
       "      <td>Савва. Сердце воина</td>\n",
       "      <td>114001715</td>\n",
       "      <td>2015-07-21 12:00:00+00:00</td>\n",
       "      <td>Анимационный</td>\n",
       "      <td>ООО \"Глюкоза Продакшн\", ООО \"Арт Пикчерс Студия\"</td>\n",
       "      <td>Россия</td>\n",
       "      <td>М.Фадеев</td>\n",
       "      <td>А.Чистяков</td>\n",
       "      <td>«6+» - для детей старше 6 лет</td>\n",
       "      <td>60000000.00</td>\n",
       "      <td>100000000.00</td>\n",
       "      <td>0.00</td>\n",
       "      <td>Фонд кино</td>\n",
       "      <td>4.60</td>\n",
       "      <td>мультфильм,приключения,фэнтези</td>\n",
       "      <td>184487551.40</td>\n",
       "    </tr>\n",
       "    <tr>\n",
       "      <th>2684</th>\n",
       "      <td>Тряпичный союз</td>\n",
       "      <td>111010215</td>\n",
       "      <td>2015-06-08 12:00:00+00:00</td>\n",
       "      <td>Художественный</td>\n",
       "      <td>ООО \"Кинокомпания \"КОКТЕБЕЛЬ\"</td>\n",
       "      <td>Россия</td>\n",
       "      <td>М.Местецкий</td>\n",
       "      <td>Р.Борисевич, А.Кушаев</td>\n",
       "      <td>«18+» - запрещено для детей</td>\n",
       "      <td>0.00</td>\n",
       "      <td>59000000.00</td>\n",
       "      <td>0.00</td>\n",
       "      <td>Фонд кино</td>\n",
       "      <td>6.30</td>\n",
       "      <td>комедия,драма</td>\n",
       "      <td>1957738.51</td>\n",
       "    </tr>\n",
       "    <tr>\n",
       "      <th>2788</th>\n",
       "      <td>Срочно выйду замуж</td>\n",
       "      <td>111017115</td>\n",
       "      <td>2015-09-30 12:00:00+00:00</td>\n",
       "      <td>Художественный</td>\n",
       "      <td>АО \"ВайТ Медиа\", ООО \"Арт Пикчерс Студия\"</td>\n",
       "      <td>Россия</td>\n",
       "      <td>С Чекалов</td>\n",
       "      <td>Ф.Бондарчук, Т.Вайнштейн, Д.Рудовский</td>\n",
       "      <td>«16+» - для детей старше 16 лет</td>\n",
       "      <td>0.00</td>\n",
       "      <td>35000000.00</td>\n",
       "      <td>0.00</td>\n",
       "      <td>Фонд кино</td>\n",
       "      <td>5.10</td>\n",
       "      <td>комедия,мелодрама</td>\n",
       "      <td>72937783.20</td>\n",
       "    </tr>\n",
       "    <tr>\n",
       "      <th>2874</th>\n",
       "      <td>Помню - не помню!</td>\n",
       "      <td>111004916</td>\n",
       "      <td>2016-03-01 12:00:00+00:00</td>\n",
       "      <td>Художественный</td>\n",
       "      <td>ООО \"КиноФирма\"</td>\n",
       "      <td>Россия</td>\n",
       "      <td>В.Ровенский</td>\n",
       "      <td>ООО \"КиноФирма\"</td>\n",
       "      <td>«12+» - для детей старше 12 лет</td>\n",
       "      <td>0.00</td>\n",
       "      <td>6000000.00</td>\n",
       "      <td>0.00</td>\n",
       "      <td>Министерство культуры</td>\n",
       "      <td>4.30</td>\n",
       "      <td>комедия</td>\n",
       "      <td>15362931.43</td>\n",
       "    </tr>\n",
       "    <tr>\n",
       "      <th>3047</th>\n",
       "      <td>Любовь с ограничениями</td>\n",
       "      <td>111008216</td>\n",
       "      <td>2016-04-29 12:00:00+00:00</td>\n",
       "      <td>Художественный</td>\n",
       "      <td>АО \"ВайТ Медиа\", ООО \"Арт Пикчерс Студия\"</td>\n",
       "      <td>Россия</td>\n",
       "      <td>Д.Тюрин</td>\n",
       "      <td>Ф.Бондарчук, Т.Вайнштейн, Д.Рудовский</td>\n",
       "      <td>«16+» - для детей старше 16 лет</td>\n",
       "      <td>19000000.00</td>\n",
       "      <td>51000000.00</td>\n",
       "      <td>0.00</td>\n",
       "      <td>Фонд кино</td>\n",
       "      <td>6.30</td>\n",
       "      <td>комедия,мелодрама</td>\n",
       "      <td>70299052.00</td>\n",
       "    </tr>\n",
       "    <tr>\n",
       "      <th>3565</th>\n",
       "      <td>Притяжение (2016)</td>\n",
       "      <td>111018116</td>\n",
       "      <td>2016-12-16 12:00:00+00:00</td>\n",
       "      <td>Художественный</td>\n",
       "      <td>ООО \"Водород 2011\",  ООО \"Арт Пикчерс Студия\"</td>\n",
       "      <td>Россия</td>\n",
       "      <td>Ф.Бондарчук</td>\n",
       "      <td>ООО \"Арт Пикчерс Студия\"</td>\n",
       "      <td>«12+» - для детей старше 12 лет</td>\n",
       "      <td>0.00</td>\n",
       "      <td>250000000.00</td>\n",
       "      <td>0.00</td>\n",
       "      <td>Фонд кино</td>\n",
       "      <td>5.60</td>\n",
       "      <td>фантастика</td>\n",
       "      <td>1038321489.00</td>\n",
       "    </tr>\n",
       "    <tr>\n",
       "      <th>3675</th>\n",
       "      <td>Чудо-юдо</td>\n",
       "      <td>114001817</td>\n",
       "      <td>2017-06-27 12:00:00+00:00</td>\n",
       "      <td>Анимационный</td>\n",
       "      <td>ООО \"КиноФирма\"</td>\n",
       "      <td>Россия</td>\n",
       "      <td>А.Лукичев</td>\n",
       "      <td>ООО \"КиноФирма\"</td>\n",
       "      <td>«6+» - для детей старше 6 лет</td>\n",
       "      <td>20000000.00</td>\n",
       "      <td>20000000.00</td>\n",
       "      <td>0.00</td>\n",
       "      <td>Фонд кино</td>\n",
       "      <td>5.20</td>\n",
       "      <td>мультфильм,фэнтези,семейный</td>\n",
       "      <td>55108014.76</td>\n",
       "    </tr>\n",
       "    <tr>\n",
       "      <th>3739</th>\n",
       "      <td>Мифы</td>\n",
       "      <td>111004317</td>\n",
       "      <td>2017-06-07 12:00:00+00:00</td>\n",
       "      <td>Художественный</td>\n",
       "      <td>ООО \"ХАЙПФИЛМ\", ООО \"Арт Пикчерс Студия\"</td>\n",
       "      <td>Россия</td>\n",
       "      <td>А.Молочников</td>\n",
       "      <td>Ф.Бондарчук, Д.Рудовский, И.Стюарт, М.Османн, ...</td>\n",
       "      <td>«16+» - для детей старше 16 лет</td>\n",
       "      <td>25000000.00</td>\n",
       "      <td>20000000.00</td>\n",
       "      <td>0.00</td>\n",
       "      <td>Фонд кино</td>\n",
       "      <td>4.80</td>\n",
       "      <td>комедия</td>\n",
       "      <td>50451949.00</td>\n",
       "    </tr>\n",
       "    <tr>\n",
       "      <th>5673</th>\n",
       "      <td>Селфи</td>\n",
       "      <td>111012117</td>\n",
       "      <td>2018-02-01 12:00:00+00:00</td>\n",
       "      <td>Художественный</td>\n",
       "      <td>ООО \"Киностудия \"Слово\", ООО \"Арт Пикчерс Студия\"</td>\n",
       "      <td>Россия</td>\n",
       "      <td>Н.Хомерики</td>\n",
       "      <td>П.Ануров, Ф.Бондарчук, Д.Рудовский</td>\n",
       "      <td>«16+» - для детей старше 16 лет</td>\n",
       "      <td>20000000.00</td>\n",
       "      <td>40000000.00</td>\n",
       "      <td>0.00</td>\n",
       "      <td>Фонд кино</td>\n",
       "      <td>5.80</td>\n",
       "      <td>триллер,драма</td>\n",
       "      <td>225196400.03</td>\n",
       "    </tr>\n",
       "    <tr>\n",
       "      <th>5806</th>\n",
       "      <td>Два хвоста</td>\n",
       "      <td>114001018</td>\n",
       "      <td>2018-05-31 12:00:00+00:00</td>\n",
       "      <td>Анимационный</td>\n",
       "      <td>ООО \"ЛИЦЕНЗИОННЫЕ БРЕНДЫ\"</td>\n",
       "      <td>Россия</td>\n",
       "      <td>В.Ровенский, Н.Лопато, В.Азеев</td>\n",
       "      <td>ООО \"ЛИЦЕНЗИОННЫЕ БРЕНДЫ\"</td>\n",
       "      <td>«6+» - для детей старше 6 лет</td>\n",
       "      <td>10000000.00</td>\n",
       "      <td>60000000.00</td>\n",
       "      <td>0.00</td>\n",
       "      <td>Фонд кино</td>\n",
       "      <td>5.00</td>\n",
       "      <td>мультфильм,детский</td>\n",
       "      <td>106514301.03</td>\n",
       "    </tr>\n",
       "    <tr>\n",
       "      <th>6008</th>\n",
       "      <td>Принцесса и дракон</td>\n",
       "      <td>114003018</td>\n",
       "      <td>2018-08-23 12:00:00+00:00</td>\n",
       "      <td>Анимационный</td>\n",
       "      <td>ООО \"ЛИЦЕНЗИОННЫЕ БРЕНДЫ\"</td>\n",
       "      <td>Россия</td>\n",
       "      <td>М.Нефедова</td>\n",
       "      <td>ООО \"ЛИЦЕНЗИОННЫЕ БРЕНДЫ\"</td>\n",
       "      <td>«6+» - для детей старше 6 лет</td>\n",
       "      <td>40000000.00</td>\n",
       "      <td>40000000.00</td>\n",
       "      <td>0.00</td>\n",
       "      <td>Фонд кино</td>\n",
       "      <td>5.20</td>\n",
       "      <td>мультфильм,фэнтези,детский</td>\n",
       "      <td>83366328.66</td>\n",
       "    </tr>\n",
       "    <tr>\n",
       "      <th>6323</th>\n",
       "      <td>Баба Яга</td>\n",
       "      <td>114006518</td>\n",
       "      <td>2018-11-08 12:00:00+00:00</td>\n",
       "      <td>Анимационный</td>\n",
       "      <td>ООО \"Арт Пикчерс Студия\"</td>\n",
       "      <td>Россия</td>\n",
       "      <td>В.Саков</td>\n",
       "      <td>ООО \"Арт Пикчерс Студия\", ООО \"КРИЭЙТИВ АНИМЭЙ...</td>\n",
       "      <td>«6+» - для детей старше 6 лет</td>\n",
       "      <td>0.00</td>\n",
       "      <td>138969465.00</td>\n",
       "      <td>0.00</td>\n",
       "      <td>Фонд кино</td>\n",
       "      <td>NaN</td>\n",
       "      <td>not defined</td>\n",
       "      <td>1334699.40</td>\n",
       "    </tr>\n",
       "    <tr>\n",
       "      <th>6823</th>\n",
       "      <td>Большое путешествие</td>\n",
       "      <td>114002419</td>\n",
       "      <td>2019-04-20 12:00:00+00:00</td>\n",
       "      <td>Анимационный</td>\n",
       "      <td>ООО \"ЛИЦЕНЗИОННЫЕ БРЕНДЫ\"</td>\n",
       "      <td>Россия</td>\n",
       "      <td>Н.Лопато, В.Ровенский</td>\n",
       "      <td>ООО \"ЛИЦЕНЗИОННЫЕ БРЕНДЫ\"</td>\n",
       "      <td>«6+» - для детей старше 6 лет</td>\n",
       "      <td>60000000.00</td>\n",
       "      <td>120000000.00</td>\n",
       "      <td>0.00</td>\n",
       "      <td>Фонд кино</td>\n",
       "      <td>6.20</td>\n",
       "      <td>мультфильм,комедия,приключения</td>\n",
       "      <td>147606826.51</td>\n",
       "    </tr>\n",
       "  </tbody>\n",
       "</table>\n",
       "</div>"
      ],
      "text/plain": [
       "                       title  pu_number           show_start_date  \\\n",
       "2053                     14+  111023614 2014-12-19 12:00:00+00:00   \n",
       "2058               Дуxless 2  111000415 2015-01-26 12:00:00+00:00   \n",
       "2472             Воин (2015)  111017315 2015-09-28 12:00:00+00:00   \n",
       "2532                 Бармен.  111009615 2015-05-26 12:00:00+00:00   \n",
       "2615     Савва. Сердце воина  114001715 2015-07-21 12:00:00+00:00   \n",
       "2684          Тряпичный союз  111010215 2015-06-08 12:00:00+00:00   \n",
       "2788      Срочно выйду замуж  111017115 2015-09-30 12:00:00+00:00   \n",
       "2874       Помню - не помню!  111004916 2016-03-01 12:00:00+00:00   \n",
       "3047  Любовь с ограничениями  111008216 2016-04-29 12:00:00+00:00   \n",
       "3565       Притяжение (2016)  111018116 2016-12-16 12:00:00+00:00   \n",
       "3675                Чудо-юдо  114001817 2017-06-27 12:00:00+00:00   \n",
       "3739                    Мифы  111004317 2017-06-07 12:00:00+00:00   \n",
       "5673                   Селфи  111012117 2018-02-01 12:00:00+00:00   \n",
       "5806              Два хвоста  114001018 2018-05-31 12:00:00+00:00   \n",
       "6008      Принцесса и дракон  114003018 2018-08-23 12:00:00+00:00   \n",
       "6323                Баба Яга  114006518 2018-11-08 12:00:00+00:00   \n",
       "6823     Большое путешествие  114002419 2019-04-20 12:00:00+00:00   \n",
       "\n",
       "                type                                        film_studio  \\\n",
       "2053  Художественный                         ООО Киностудия  \"Сентябрь\"   \n",
       "2058  Художественный  ООО \"Киностудия \"Слово\", ООО \"Арт Пикчерс Студия\"   \n",
       "2472  Художественный   ООО \"Форпост Продакшн\", ООО \"Арт Пикчерс Студия\"   \n",
       "2532  Художественный          АО \"ВайТ Медиа\", ООО \"Арт Пикчерс Студия\"   \n",
       "2615    Анимационный   ООО \"Глюкоза Продакшн\", ООО \"Арт Пикчерс Студия\"   \n",
       "2684  Художественный                      ООО \"Кинокомпания \"КОКТЕБЕЛЬ\"   \n",
       "2788  Художественный          АО \"ВайТ Медиа\", ООО \"Арт Пикчерс Студия\"   \n",
       "2874  Художественный                                    ООО \"КиноФирма\"   \n",
       "3047  Художественный          АО \"ВайТ Медиа\", ООО \"Арт Пикчерс Студия\"   \n",
       "3565  Художественный      ООО \"Водород 2011\",  ООО \"Арт Пикчерс Студия\"   \n",
       "3675    Анимационный                                    ООО \"КиноФирма\"   \n",
       "3739  Художественный           ООО \"ХАЙПФИЛМ\", ООО \"Арт Пикчерс Студия\"   \n",
       "5673  Художественный  ООО \"Киностудия \"Слово\", ООО \"Арт Пикчерс Студия\"   \n",
       "5806    Анимационный                          ООО \"ЛИЦЕНЗИОННЫЕ БРЕНДЫ\"   \n",
       "6008    Анимационный                          ООО \"ЛИЦЕНЗИОННЫЕ БРЕНДЫ\"   \n",
       "6323    Анимационный                           ООО \"Арт Пикчерс Студия\"   \n",
       "6823    Анимационный                          ООО \"ЛИЦЕНЗИОННЫЕ БРЕНДЫ\"   \n",
       "\n",
       "     production_country                        director  \\\n",
       "2053             Россия                        А.Зайцев   \n",
       "2058             Россия                      Р.Прыгунов   \n",
       "2472             Россия                     А.Андрианов   \n",
       "2532             Россия                    Д.Штурманова   \n",
       "2615             Россия                        М.Фадеев   \n",
       "2684             Россия                     М.Местецкий   \n",
       "2788             Россия                       С Чекалов   \n",
       "2874             Россия                     В.Ровенский   \n",
       "3047             Россия                         Д.Тюрин   \n",
       "3565             Россия                     Ф.Бондарчук   \n",
       "3675             Россия                       А.Лукичев   \n",
       "3739             Россия                    А.Молочников   \n",
       "5673             Россия                      Н.Хомерики   \n",
       "5806             Россия  В.Ровенский, Н.Лопато, В.Азеев   \n",
       "6008             Россия                      М.Нефедова   \n",
       "6323             Россия                         В.Саков   \n",
       "6823             Россия           Н.Лопато, В.Ровенский   \n",
       "\n",
       "                                               producer  \\\n",
       "2053                                О.Гранина, А.Зайцев   \n",
       "2058                 П.Ануров, Ф.Бондарчук, Д.Рудовский   \n",
       "2472                           ООО \"Арт Пикчерс Студия\"   \n",
       "2532                                        Т.Вайнштейн   \n",
       "2615                                         А.Чистяков   \n",
       "2684                              Р.Борисевич, А.Кушаев   \n",
       "2788              Ф.Бондарчук, Т.Вайнштейн, Д.Рудовский   \n",
       "2874                                    ООО \"КиноФирма\"   \n",
       "3047              Ф.Бондарчук, Т.Вайнштейн, Д.Рудовский   \n",
       "3565                           ООО \"Арт Пикчерс Студия\"   \n",
       "3675                                    ООО \"КиноФирма\"   \n",
       "3739  Ф.Бондарчук, Д.Рудовский, И.Стюарт, М.Османн, ...   \n",
       "5673                 П.Ануров, Ф.Бондарчук, Д.Рудовский   \n",
       "5806                          ООО \"ЛИЦЕНЗИОННЫЕ БРЕНДЫ\"   \n",
       "6008                          ООО \"ЛИЦЕНЗИОННЫЕ БРЕНДЫ\"   \n",
       "6323  ООО \"Арт Пикчерс Студия\", ООО \"КРИЭЙТИВ АНИМЭЙ...   \n",
       "6823                          ООО \"ЛИЦЕНЗИОННЫЕ БРЕНДЫ\"   \n",
       "\n",
       "                      age_restriction  refundable_support  \\\n",
       "2053  «16+» - для детей старше 16 лет                0.00   \n",
       "2058  «16+» - для детей старше 16 лет                0.00   \n",
       "2472  «12+» - для детей старше 12 лет         10000000.00   \n",
       "2532  «16+» - для детей старше 16 лет         20000000.00   \n",
       "2615    «6+» - для детей старше 6 лет         60000000.00   \n",
       "2684      «18+» - запрещено для детей                0.00   \n",
       "2788  «16+» - для детей старше 16 лет                0.00   \n",
       "2874  «12+» - для детей старше 12 лет                0.00   \n",
       "3047  «16+» - для детей старше 16 лет         19000000.00   \n",
       "3565  «12+» - для детей старше 12 лет                0.00   \n",
       "3675    «6+» - для детей старше 6 лет         20000000.00   \n",
       "3739  «16+» - для детей старше 16 лет         25000000.00   \n",
       "5673  «16+» - для детей старше 16 лет         20000000.00   \n",
       "5806    «6+» - для детей старше 6 лет         10000000.00   \n",
       "6008    «6+» - для детей старше 6 лет         40000000.00   \n",
       "6323    «6+» - для детей старше 6 лет                0.00   \n",
       "6823    «6+» - для детей старше 6 лет         60000000.00   \n",
       "\n",
       "      nonrefundable_support  budget                  financing_source  \\\n",
       "2053            23000000.00    0.00  Министерство культуры, Фонд кино   \n",
       "2058            75000000.00    0.00                         Фонд кино   \n",
       "2472            70000000.00    0.00                         Фонд кино   \n",
       "2532                   0.00    0.00                         Фонд кино   \n",
       "2615           100000000.00    0.00                         Фонд кино   \n",
       "2684            59000000.00    0.00                         Фонд кино   \n",
       "2788            35000000.00    0.00                         Фонд кино   \n",
       "2874             6000000.00    0.00             Министерство культуры   \n",
       "3047            51000000.00    0.00                         Фонд кино   \n",
       "3565           250000000.00    0.00                         Фонд кино   \n",
       "3675            20000000.00    0.00                         Фонд кино   \n",
       "3739            20000000.00    0.00                         Фонд кино   \n",
       "5673            40000000.00    0.00                         Фонд кино   \n",
       "5806            60000000.00    0.00                         Фонд кино   \n",
       "6008            40000000.00    0.00                         Фонд кино   \n",
       "6323           138969465.00    0.00                         Фонд кино   \n",
       "6823           120000000.00    0.00                         Фонд кино   \n",
       "\n",
       "      ratings                          genres    box_office  \n",
       "2053     6.60                       мелодрама   10234016.10  \n",
       "2058     6.60                           драма  446163511.00  \n",
       "2472     7.80           боевик,драма,криминал  196572438.40  \n",
       "2532     6.20                 комедия,фэнтези   67418974.80  \n",
       "2615     4.60  мультфильм,приключения,фэнтези  184487551.40  \n",
       "2684     6.30                   комедия,драма    1957738.51  \n",
       "2788     5.10               комедия,мелодрама   72937783.20  \n",
       "2874     4.30                         комедия   15362931.43  \n",
       "3047     6.30               комедия,мелодрама   70299052.00  \n",
       "3565     5.60                      фантастика 1038321489.00  \n",
       "3675     5.20     мультфильм,фэнтези,семейный   55108014.76  \n",
       "3739     4.80                         комедия   50451949.00  \n",
       "5673     5.80                   триллер,драма  225196400.03  \n",
       "5806     5.00              мультфильм,детский  106514301.03  \n",
       "6008     5.20      мультфильм,фэнтези,детский   83366328.66  \n",
       "6323      NaN                     not defined    1334699.40  \n",
       "6823     6.20  мультфильм,комедия,приключения  147606826.51  "
      ]
     },
     "execution_count": 143,
     "metadata": {},
     "output_type": "execute_result"
    }
   ],
   "source": [
    "movies[movies['budget']<(movies['refundable_support']+movies['nonrefundable_support'])]"
   ]
  },
  {
   "cell_type": "markdown",
   "id": "e262ac82",
   "metadata": {},
   "source": [
    "Interesting patterns:\n",
    "- Reimbursable support is allocated much less than non-refundable\n",
    "- The figures of the budget greatly exceed the data on state support. Earlier, I wrote that the gaps in this data are strange, since not all films are sponsored only by the state. But here it is clear that apparently the budget data is not given to all films, and the total budget of films often exceeds state support.\n",
    "- Looking at the column of the budget, I wanted to check it. The description says that the `budget` column includes the full amount of government support. Nevertheless, I found 17 lines in which the budget is 0, and the state still allocated money. Here we clearly have a small error in the data. It is also worth noting that many films are sponsored by other sources, as it often happens when the budget exceeds state support."
   ]
  },
  {
   "cell_type": "code",
   "execution_count": 144,
   "id": "de2fdf53",
   "metadata": {},
   "outputs": [
    {
     "data": {
      "text/plain": [
       "count   6519.00\n",
       "mean       6.49\n",
       "std        1.11\n",
       "min        1.00\n",
       "25%        5.90\n",
       "50%        6.60\n",
       "75%        7.20\n",
       "max        9.90\n",
       "Name: ratings, dtype: float64"
      ]
     },
     "execution_count": 144,
     "metadata": {},
     "output_type": "execute_result"
    }
   ],
   "source": [
    "movies['ratings'].describe()"
   ]
  },
  {
   "cell_type": "code",
   "execution_count": 145,
   "id": "09b269fd",
   "metadata": {},
   "outputs": [
    {
     "data": {
      "text/plain": [
       "<AxesSubplot:>"
      ]
     },
     "execution_count": 145,
     "metadata": {},
     "output_type": "execute_result"
    },
    {
     "data": {
      "image/png": "[encoded data removed]",
      "text/plain": [
       "<Figure size 720x360 with 1 Axes>"
      ]
     },
     "metadata": {
      "needs_background": "light"
     },
     "output_type": "display_data"
    }
   ],
   "source": [
    "movies['ratings'].hist(bins=25, figsize=(10,5))"
   ]
  },
  {
   "cell_type": "markdown",
   "id": "17451390",
   "metadata": {},
   "source": [
    "Our rating of films is on average 6.49. A very neutral number. However, we also have suspicious values, such as a rating `9.9`, which is very rare for movies. Maybe a mistake, or maybe the movie is really that cool. We also have small values from 1 to 4, such ratings are also quite rare, given that the rating is general. It would be worth checking this data, it may be false"
   ]
  },
  {
   "cell_type": "markdown",
   "id": "17e6e7c7",
   "metadata": {},
   "source": [
    "\n",
    "Let's add new columns"
   ]
  },
  {
   "cell_type": "code",
   "execution_count": 146,
   "id": "35042eed",
   "metadata": {},
   "outputs": [
    {
     "data": {
      "text/html": [
       "<div>\n",
       "<style scoped>\n",
       "    .dataframe tbody tr th:only-of-type {\n",
       "        vertical-align: middle;\n",
       "    }\n",
       "\n",
       "    .dataframe tbody tr th {\n",
       "        vertical-align: top;\n",
       "    }\n",
       "\n",
       "    .dataframe thead th {\n",
       "        text-align: right;\n",
       "    }\n",
       "</style>\n",
       "<table border=\"1\" class=\"dataframe\">\n",
       "  <thead>\n",
       "    <tr style=\"text-align: right;\">\n",
       "      <th></th>\n",
       "      <th>title</th>\n",
       "      <th>pu_number</th>\n",
       "      <th>show_start_date</th>\n",
       "      <th>type</th>\n",
       "      <th>film_studio</th>\n",
       "      <th>production_country</th>\n",
       "      <th>director</th>\n",
       "      <th>producer</th>\n",
       "      <th>age_restriction</th>\n",
       "      <th>refundable_support</th>\n",
       "      <th>nonrefundable_support</th>\n",
       "      <th>budget</th>\n",
       "      <th>financing_source</th>\n",
       "      <th>ratings</th>\n",
       "      <th>genres</th>\n",
       "      <th>box_office</th>\n",
       "      <th>show_start_year</th>\n",
       "    </tr>\n",
       "  </thead>\n",
       "  <tbody>\n",
       "    <tr>\n",
       "      <th>3405</th>\n",
       "      <td>Суперстюард</td>\n",
       "      <td>121035716</td>\n",
       "      <td>2016-12-30 12:00:00+00:00</td>\n",
       "      <td>Художественный</td>\n",
       "      <td>Найт энд Дэй Пикчерз</td>\n",
       "      <td>США</td>\n",
       "      <td>Сэм Фридлендер</td>\n",
       "      <td>Тед Кребер, Марк Фойерстин, Сэм Фридлендер</td>\n",
       "      <td>«18+» - запрещено для детей</td>\n",
       "      <td>NaN</td>\n",
       "      <td>NaN</td>\n",
       "      <td>NaN</td>\n",
       "      <td>NaN</td>\n",
       "      <td>4.50</td>\n",
       "      <td>фэнтези,драма,мелодрама</td>\n",
       "      <td>356884.00</td>\n",
       "      <td>2016</td>\n",
       "    </tr>\n",
       "  </tbody>\n",
       "</table>\n",
       "</div>"
      ],
      "text/plain": [
       "            title  pu_number           show_start_date            type  \\\n",
       "3405  Суперстюард  121035716 2016-12-30 12:00:00+00:00  Художественный   \n",
       "\n",
       "               film_studio production_country        director  \\\n",
       "3405  Найт энд Дэй Пикчерз                США  Сэм Фридлендер   \n",
       "\n",
       "                                        producer              age_restriction  \\\n",
       "3405  Тед Кребер, Марк Фойерстин, Сэм Фридлендер  «18+» - запрещено для детей   \n",
       "\n",
       "      refundable_support  nonrefundable_support  budget financing_source  \\\n",
       "3405                 NaN                    NaN     NaN              NaN   \n",
       "\n",
       "      ratings                   genres  box_office  show_start_year  \n",
       "3405     4.50  фэнтези,драма,мелодрама   356884.00             2016  "
      ]
     },
     "execution_count": 146,
     "metadata": {},
     "output_type": "execute_result"
    }
   ],
   "source": [
    "#year column\n",
    "movies['show_start_year'] = movies['show_start_date'].dt.year\n",
    "movies.sample()"
   ]
  },
  {
   "cell_type": "code",
   "execution_count": 147,
   "id": "65441a75",
   "metadata": {},
   "outputs": [
    {
     "data": {
      "text/html": [
       "<div>\n",
       "<style scoped>\n",
       "    .dataframe tbody tr th:only-of-type {\n",
       "        vertical-align: middle;\n",
       "    }\n",
       "\n",
       "    .dataframe tbody tr th {\n",
       "        vertical-align: top;\n",
       "    }\n",
       "\n",
       "    .dataframe thead th {\n",
       "        text-align: right;\n",
       "    }\n",
       "</style>\n",
       "<table border=\"1\" class=\"dataframe\">\n",
       "  <thead>\n",
       "    <tr style=\"text-align: right;\">\n",
       "      <th></th>\n",
       "      <th>title</th>\n",
       "      <th>pu_number</th>\n",
       "      <th>show_start_date</th>\n",
       "      <th>type</th>\n",
       "      <th>film_studio</th>\n",
       "      <th>production_country</th>\n",
       "      <th>director</th>\n",
       "      <th>producer</th>\n",
       "      <th>age_restriction</th>\n",
       "      <th>refundable_support</th>\n",
       "      <th>nonrefundable_support</th>\n",
       "      <th>budget</th>\n",
       "      <th>financing_source</th>\n",
       "      <th>ratings</th>\n",
       "      <th>genres</th>\n",
       "      <th>box_office</th>\n",
       "      <th>show_start_year</th>\n",
       "      <th>main_director</th>\n",
       "      <th>main_genres</th>\n",
       "    </tr>\n",
       "  </thead>\n",
       "  <tbody>\n",
       "    <tr>\n",
       "      <th>2132</th>\n",
       "      <td>Битва за Севастополь</td>\n",
       "      <td>111001415</td>\n",
       "      <td>2015-02-20 12:00:00+00:00</td>\n",
       "      <td>Художественный</td>\n",
       "      <td>ООО \"Кинокомпания \"Новые люди\", ООО \"Студия \"К...</td>\n",
       "      <td>Россия-Украина</td>\n",
       "      <td>С.Мокрицкий</td>\n",
       "      <td>Н.Мокрицкая, Е.Олесов</td>\n",
       "      <td>«12+» - для детей старше 12 лет</td>\n",
       "      <td>0.00</td>\n",
       "      <td>27510000.00</td>\n",
       "      <td>131000000.00</td>\n",
       "      <td>Министерство культуры</td>\n",
       "      <td>7.50</td>\n",
       "      <td>биография,военный,драма</td>\n",
       "      <td>401804461.90</td>\n",
       "      <td>2015</td>\n",
       "      <td>С.Мокрицкий</td>\n",
       "      <td>биография</td>\n",
       "    </tr>\n",
       "  </tbody>\n",
       "</table>\n",
       "</div>"
      ],
      "text/plain": [
       "                     title  pu_number           show_start_date  \\\n",
       "2132  Битва за Севастополь  111001415 2015-02-20 12:00:00+00:00   \n",
       "\n",
       "                type                                        film_studio  \\\n",
       "2132  Художественный  ООО \"Кинокомпания \"Новые люди\", ООО \"Студия \"К...   \n",
       "\n",
       "     production_country     director               producer  \\\n",
       "2132     Россия-Украина  С.Мокрицкий  Н.Мокрицкая, Е.Олесов   \n",
       "\n",
       "                      age_restriction  refundable_support  \\\n",
       "2132  «12+» - для детей старше 12 лет                0.00   \n",
       "\n",
       "      nonrefundable_support       budget       financing_source  ratings  \\\n",
       "2132            27510000.00 131000000.00  Министерство культуры     7.50   \n",
       "\n",
       "                       genres   box_office  show_start_year main_director  \\\n",
       "2132  биография,военный,драма 401804461.90             2015   С.Мокрицкий   \n",
       "\n",
       "     main_genres  \n",
       "2132   биография  "
      ]
     },
     "execution_count": 147,
     "metadata": {},
     "output_type": "execute_result"
    }
   ],
   "source": [
    "#main director and genre\n",
    "def main_data(cell_value):\n",
    "    return cell_value.split(',')[0]\n",
    "\n",
    "movies['main_director'] = movies['director'].apply(main_data)\n",
    "movies['main_genres'] = movies['genres'].apply(main_data)\n",
    "movies.sample()"
   ]
  },
  {
   "cell_type": "code",
   "execution_count": 148,
   "id": "47a7eb62",
   "metadata": {
    "scrolled": true
   },
   "outputs": [
    {
     "data": {
      "text/html": [
       "<div>\n",
       "<style scoped>\n",
       "    .dataframe tbody tr th:only-of-type {\n",
       "        vertical-align: middle;\n",
       "    }\n",
       "\n",
       "    .dataframe tbody tr th {\n",
       "        vertical-align: top;\n",
       "    }\n",
       "\n",
       "    .dataframe thead th {\n",
       "        text-align: right;\n",
       "    }\n",
       "</style>\n",
       "<table border=\"1\" class=\"dataframe\">\n",
       "  <thead>\n",
       "    <tr style=\"text-align: right;\">\n",
       "      <th></th>\n",
       "      <th>title</th>\n",
       "      <th>pu_number</th>\n",
       "      <th>show_start_date</th>\n",
       "      <th>type</th>\n",
       "      <th>film_studio</th>\n",
       "      <th>production_country</th>\n",
       "      <th>director</th>\n",
       "      <th>producer</th>\n",
       "      <th>age_restriction</th>\n",
       "      <th>refundable_support</th>\n",
       "      <th>nonrefundable_support</th>\n",
       "      <th>budget</th>\n",
       "      <th>financing_source</th>\n",
       "      <th>ratings</th>\n",
       "      <th>genres</th>\n",
       "      <th>box_office</th>\n",
       "      <th>show_start_year</th>\n",
       "      <th>main_director</th>\n",
       "      <th>main_genres</th>\n",
       "      <th>percent_of_budget</th>\n",
       "    </tr>\n",
       "  </thead>\n",
       "  <tbody>\n",
       "    <tr>\n",
       "      <th>5870</th>\n",
       "      <td>Кислота</td>\n",
       "      <td>111004818</td>\n",
       "      <td>2018-06-07 12:00:00+00:00</td>\n",
       "      <td>Художественный</td>\n",
       "      <td>ООО \"Студия \"СЛОН\"</td>\n",
       "      <td>Россия</td>\n",
       "      <td>А.Горчилин</td>\n",
       "      <td>С.Еремеева</td>\n",
       "      <td>«18+» - запрещено для детей</td>\n",
       "      <td>0.00</td>\n",
       "      <td>25000000.00</td>\n",
       "      <td>37600000.00</td>\n",
       "      <td>Министерство культуры</td>\n",
       "      <td>6.20</td>\n",
       "      <td>драма</td>\n",
       "      <td>21522348.20</td>\n",
       "      <td>2018</td>\n",
       "      <td>А.Горчилин</td>\n",
       "      <td>драма</td>\n",
       "      <td>0.66</td>\n",
       "    </tr>\n",
       "  </tbody>\n",
       "</table>\n",
       "</div>"
      ],
      "text/plain": [
       "        title  pu_number           show_start_date            type  \\\n",
       "5870  Кислота  111004818 2018-06-07 12:00:00+00:00  Художественный   \n",
       "\n",
       "             film_studio production_country    director    producer  \\\n",
       "5870  ООО \"Студия \"СЛОН\"             Россия  А.Горчилин  С.Еремеева   \n",
       "\n",
       "                  age_restriction  refundable_support  nonrefundable_support  \\\n",
       "5870  «18+» - запрещено для детей                0.00            25000000.00   \n",
       "\n",
       "          budget       financing_source  ratings genres  box_office  \\\n",
       "5870 37600000.00  Министерство культуры     6.20  драма 21522348.20   \n",
       "\n",
       "      show_start_year main_director main_genres  percent_of_budget  \n",
       "5870             2018    А.Горчилин       драма               0.66  "
      ]
     },
     "execution_count": 148,
     "metadata": {},
     "output_type": "execute_result"
    }
   ],
   "source": [
    "#Let's calculate the share of the statebudget from the total and add\n",
    "movies['percent_of_budget'] = (movies['refundable_support']+movies['nonrefundable_support'])/movies['budget']\n",
    "movies[movies['percent_of_budget'] > 0].sample()                                                "
   ]
  },
  {
   "cell_type": "markdown",
   "id": "7c142af8",
   "metadata": {},
   "source": [
    "# Step 3: Exploratory Data Analysis"
   ]
  },
  {
   "cell_type": "markdown",
   "id": "66143cf7",
   "metadata": {},
   "source": [
    "### Look at how many films were released each year. Calculate the share of films with the specified information about rental in cinemas"
   ]
  },
  {
   "cell_type": "markdown",
   "id": "8d342afb",
   "metadata": {},
   "source": [
    "For rental, I will consider those films that raised money after the release, because if the film was not released, then they did not earn any money on it either"
   ]
  },
  {
   "cell_type": "code",
   "execution_count": 149,
   "id": "bc5f9aa6",
   "metadata": {},
   "outputs": [
    {
     "data": {
      "text/html": [
       "<div>\n",
       "<style scoped>\n",
       "    .dataframe tbody tr th:only-of-type {\n",
       "        vertical-align: middle;\n",
       "    }\n",
       "\n",
       "    .dataframe tbody tr th {\n",
       "        vertical-align: top;\n",
       "    }\n",
       "\n",
       "    .dataframe thead th {\n",
       "        text-align: right;\n",
       "    }\n",
       "</style>\n",
       "<table border=\"1\" class=\"dataframe\">\n",
       "  <thead>\n",
       "    <tr style=\"text-align: right;\">\n",
       "      <th></th>\n",
       "      <th>box_office</th>\n",
       "      <th>show_start_year</th>\n",
       "    </tr>\n",
       "  </thead>\n",
       "  <tbody>\n",
       "    <tr>\n",
       "      <th>6</th>\n",
       "      <td>2700.00</td>\n",
       "      <td>2013</td>\n",
       "    </tr>\n",
       "    <tr>\n",
       "      <th>18</th>\n",
       "      <td>360.00</td>\n",
       "      <td>2016</td>\n",
       "    </tr>\n",
       "    <tr>\n",
       "      <th>19</th>\n",
       "      <td>420.00</td>\n",
       "      <td>2016</td>\n",
       "    </tr>\n",
       "    <tr>\n",
       "      <th>22</th>\n",
       "      <td>380.00</td>\n",
       "      <td>2013</td>\n",
       "    </tr>\n",
       "    <tr>\n",
       "      <th>38</th>\n",
       "      <td>1165.00</td>\n",
       "      <td>2013</td>\n",
       "    </tr>\n",
       "    <tr>\n",
       "      <th>...</th>\n",
       "      <td>...</td>\n",
       "      <td>...</td>\n",
       "    </tr>\n",
       "    <tr>\n",
       "      <th>7464</th>\n",
       "      <td>717703185.53</td>\n",
       "      <td>2019</td>\n",
       "    </tr>\n",
       "    <tr>\n",
       "      <th>7466</th>\n",
       "      <td>501069235.00</td>\n",
       "      <td>2019</td>\n",
       "    </tr>\n",
       "    <tr>\n",
       "      <th>7471</th>\n",
       "      <td>3143790.50</td>\n",
       "      <td>2019</td>\n",
       "    </tr>\n",
       "    <tr>\n",
       "      <th>7472</th>\n",
       "      <td>18001772.43</td>\n",
       "      <td>2019</td>\n",
       "    </tr>\n",
       "    <tr>\n",
       "      <th>7480</th>\n",
       "      <td>219569.00</td>\n",
       "      <td>2019</td>\n",
       "    </tr>\n",
       "  </tbody>\n",
       "</table>\n",
       "<p>3134 rows × 2 columns</p>\n",
       "</div>"
      ],
      "text/plain": [
       "       box_office  show_start_year\n",
       "6         2700.00             2013\n",
       "18         360.00             2016\n",
       "19         420.00             2016\n",
       "22         380.00             2013\n",
       "38        1165.00             2013\n",
       "...           ...              ...\n",
       "7464 717703185.53             2019\n",
       "7466 501069235.00             2019\n",
       "7471   3143790.50             2019\n",
       "7472  18001772.43             2019\n",
       "7480    219569.00             2019\n",
       "\n",
       "[3134 rows x 2 columns]"
      ]
     },
     "execution_count": 149,
     "metadata": {},
     "output_type": "execute_result"
    }
   ],
   "source": [
    "year_rating = movies[['box_office', 'show_start_year']]\n",
    "filter_rating = year_rating['box_office'] > 0\n",
    "year_rating = year_rating.loc[filter_rating]\n",
    "year_rating"
   ]
  },
  {
   "cell_type": "code",
   "execution_count": 150,
   "id": "0ec60d31",
   "metadata": {},
   "outputs": [
    {
     "data": {
      "text/plain": [
       "2019    530\n",
       "2016    525\n",
       "2018    475\n",
       "2015    462\n",
       "2017    357\n",
       "2014    273\n",
       "2013    179\n",
       "2012    123\n",
       "2011    109\n",
       "2010    101\n",
       "Name: show_start_year, dtype: int64"
      ]
     },
     "execution_count": 150,
     "metadata": {},
     "output_type": "execute_result"
    }
   ],
   "source": [
    "only_year_rating = year_rating['show_start_year'].value_counts()\n",
    "only_year_rating"
   ]
  },
  {
   "cell_type": "code",
   "execution_count": 151,
   "id": "5cc0d048",
   "metadata": {
    "scrolled": false
   },
   "outputs": [
    {
     "data": {
      "text/plain": [
       "Text(0, 0.5, 'Movies count')"
      ]
     },
     "execution_count": 151,
     "metadata": {},
     "output_type": "execute_result"
    },
    {
     "data": {
      "image/png": "[encoded data removed]",
      "text/plain": [
       "<Figure size 720x360 with 1 Axes>"
      ]
     },
     "metadata": {
      "needs_background": "light"
     },
     "output_type": "display_data"
    }
   ],
   "source": [
    "only_year_rating.plot(kind='bar', grid = True, figsize = (10, 5))\n",
    "plt.title('Movies per year')\n",
    "plt.xlabel('Year of release')\n",
    "plt.ylabel('Movies count')"
   ]
  },
  {
   "cell_type": "markdown",
   "id": "e01c7e0b",
   "metadata": {},
   "source": [
    "### Learn how rental dynamics have changed over the years. In what year was the minimum amount collected? And the maximum?"
   ]
  },
  {
   "cell_type": "code",
   "execution_count": 152,
   "id": "9c02b6f7",
   "metadata": {},
   "outputs": [
    {
     "data": {
      "text/plain": [
       "Text(0, 0.5, 'Collected amount')"
      ]
     },
     "execution_count": 152,
     "metadata": {},
     "output_type": "execute_result"
    },
    {
     "data": {
      "image/png": "[encoded data removed]",
      "text/plain": [
       "<Figure size 720x360 with 1 Axes>"
      ]
     },
     "metadata": {
      "needs_background": "light"
     },
     "output_type": "display_data"
    }
   ],
   "source": [
    "mp = movies[['show_start_year', 'box_office', 'age_restriction']]\n",
    "mp.plot(x='show_start_year', y='box_office',  kind='scatter', ylim = (5, 2000000), alpha=0.6,grid = True, figsize = (10, 5))\n",
    "plt.title('The dependence of the fee on the year of rental')\n",
    "plt.xlabel('Years')\n",
    "plt.ylabel('Collected amount')"
   ]
  },
  {
   "cell_type": "code",
   "execution_count": 153,
   "id": "e2b46963",
   "metadata": {},
   "outputs": [
    {
     "data": {
      "image/png": "[encoded data removed]",
      "text/plain": [
       "<Figure size 720x360 with 1 Axes>"
      ]
     },
     "metadata": {
      "needs_background": "light"
     },
     "output_type": "display_data"
    }
   ],
   "source": [
    "movies.groupby('show_start_year')['box_office'].sum().plot(\n",
    "    x = 'show_start_year', y = 'box_office', kind = 'bar', grid = True, figsize = (10,5)\n",
    ")\n",
    "plt.title('The dependence of the fee on the year of rental')\n",
    "plt.xlabel('Years')\n",
    "plt.ylabel('Collected amount')\n",
    "plt.show()"
   ]
  },
  {
   "cell_type": "markdown",
   "id": "f597c753",
   "metadata": {},
   "source": [
    "On the graph, we can see how the amount of fees changes in each year. The most successful year turned out to be 2018, while from 2010 to 2013 the fees are minimal. I would also like to note that a noticeable increase in the box office began in 2014 and continued until 2018, in 2019 the situation began to decline, but not much, 2019 still won all the previous ones.\n",
    "\n",
    "I think that such a sharp increase in 2014 may be due to the collapse of the ruble, then all prices rose and rise to this day, therefore, in comparison with previous years, it seems that an order of magnitude more was earned"
   ]
  },
  {
   "cell_type": "markdown",
   "id": "5a277708",
   "metadata": {},
   "source": [
    "### Use the pivot table to calculate the average and median fees for each year"
   ]
  },
  {
   "cell_type": "code",
   "execution_count": 154,
   "id": "554bb6a3",
   "metadata": {},
   "outputs": [
    {
     "data": {
      "text/html": [
       "<div>\n",
       "<style scoped>\n",
       "    .dataframe tbody tr th:only-of-type {\n",
       "        vertical-align: middle;\n",
       "    }\n",
       "\n",
       "    .dataframe tbody tr th {\n",
       "        vertical-align: top;\n",
       "    }\n",
       "\n",
       "    .dataframe thead th {\n",
       "        text-align: right;\n",
       "    }\n",
       "</style>\n",
       "<table border=\"1\" class=\"dataframe\">\n",
       "  <thead>\n",
       "    <tr style=\"text-align: right;\">\n",
       "      <th></th>\n",
       "      <th>box_office</th>\n",
       "    </tr>\n",
       "    <tr>\n",
       "      <th>show_start_year</th>\n",
       "      <th></th>\n",
       "    </tr>\n",
       "  </thead>\n",
       "  <tbody>\n",
       "    <tr>\n",
       "      <th>2010</th>\n",
       "      <td>23130.04</td>\n",
       "    </tr>\n",
       "    <tr>\n",
       "      <th>2012</th>\n",
       "      <td>54339.24</td>\n",
       "    </tr>\n",
       "    <tr>\n",
       "      <th>2011</th>\n",
       "      <td>129383.17</td>\n",
       "    </tr>\n",
       "    <tr>\n",
       "      <th>2013</th>\n",
       "      <td>161954.92</td>\n",
       "    </tr>\n",
       "    <tr>\n",
       "      <th>2014</th>\n",
       "      <td>26684415.27</td>\n",
       "    </tr>\n",
       "    <tr>\n",
       "      <th>2015</th>\n",
       "      <td>84940570.31</td>\n",
       "    </tr>\n",
       "    <tr>\n",
       "      <th>2016</th>\n",
       "      <td>91000569.85</td>\n",
       "    </tr>\n",
       "    <tr>\n",
       "      <th>2019</th>\n",
       "      <td>91369261.85</td>\n",
       "    </tr>\n",
       "    <tr>\n",
       "      <th>2018</th>\n",
       "      <td>104565059.23</td>\n",
       "    </tr>\n",
       "    <tr>\n",
       "      <th>2017</th>\n",
       "      <td>136032793.33</td>\n",
       "    </tr>\n",
       "  </tbody>\n",
       "</table>\n",
       "</div>"
      ],
      "text/plain": [
       "                  box_office\n",
       "show_start_year             \n",
       "2010                23130.04\n",
       "2012                54339.24\n",
       "2011               129383.17\n",
       "2013               161954.92\n",
       "2014             26684415.27\n",
       "2015             84940570.31\n",
       "2016             91000569.85\n",
       "2019             91369261.85\n",
       "2018            104565059.23\n",
       "2017            136032793.33"
      ]
     },
     "execution_count": 154,
     "metadata": {},
     "output_type": "execute_result"
    }
   ],
   "source": [
    "box_office_pivot = mp.pivot_table(index='show_start_year', values='box_office')\n",
    "box_office_pivot.sort_values(by='box_office')"
   ]
  },
  {
   "cell_type": "code",
   "execution_count": 155,
   "id": "2bbcfa04",
   "metadata": {},
   "outputs": [
    {
     "data": {
      "text/plain": [
       "Text(0, 0.5, 'Amount')"
      ]
     },
     "execution_count": 155,
     "metadata": {},
     "output_type": "execute_result"
    },
    {
     "data": {
      "image/png": "[encoded data removed]",
      "text/plain": [
       "<Figure size 720x360 with 1 Axes>"
      ]
     },
     "metadata": {
      "needs_background": "light"
     },
     "output_type": "display_data"
    }
   ],
   "source": [
    "box_office_pivot.plot(kind='bar', grid = True, figsize = (10, 5))\n",
    "plt.title('Average revenue')\n",
    "plt.xlabel('Year')\n",
    "plt.ylabel('Amount')"
   ]
  },
  {
   "cell_type": "code",
   "execution_count": 156,
   "id": "de314dc7",
   "metadata": {},
   "outputs": [
    {
     "data": {
      "text/html": [
       "<div>\n",
       "<style scoped>\n",
       "    .dataframe tbody tr th:only-of-type {\n",
       "        vertical-align: middle;\n",
       "    }\n",
       "\n",
       "    .dataframe tbody tr th {\n",
       "        vertical-align: top;\n",
       "    }\n",
       "\n",
       "    .dataframe thead th {\n",
       "        text-align: right;\n",
       "    }\n",
       "</style>\n",
       "<table border=\"1\" class=\"dataframe\">\n",
       "  <thead>\n",
       "    <tr style=\"text-align: right;\">\n",
       "      <th></th>\n",
       "      <th>box_office</th>\n",
       "    </tr>\n",
       "    <tr>\n",
       "      <th>show_start_year</th>\n",
       "      <th></th>\n",
       "    </tr>\n",
       "  </thead>\n",
       "  <tbody>\n",
       "    <tr>\n",
       "      <th>2010</th>\n",
       "      <td>1700.00</td>\n",
       "    </tr>\n",
       "    <tr>\n",
       "      <th>2011</th>\n",
       "      <td>3000.00</td>\n",
       "    </tr>\n",
       "    <tr>\n",
       "      <th>2013</th>\n",
       "      <td>3522.50</td>\n",
       "    </tr>\n",
       "    <tr>\n",
       "      <th>2012</th>\n",
       "      <td>5660.00</td>\n",
       "    </tr>\n",
       "    <tr>\n",
       "      <th>2014</th>\n",
       "      <td>18160.00</td>\n",
       "    </tr>\n",
       "    <tr>\n",
       "      <th>2016</th>\n",
       "      <td>3846679.41</td>\n",
       "    </tr>\n",
       "    <tr>\n",
       "      <th>2019</th>\n",
       "      <td>4627798.34</td>\n",
       "    </tr>\n",
       "    <tr>\n",
       "      <th>2015</th>\n",
       "      <td>4920933.00</td>\n",
       "    </tr>\n",
       "    <tr>\n",
       "      <th>2018</th>\n",
       "      <td>8891102.21</td>\n",
       "    </tr>\n",
       "    <tr>\n",
       "      <th>2017</th>\n",
       "      <td>9968340.00</td>\n",
       "    </tr>\n",
       "  </tbody>\n",
       "</table>\n",
       "</div>"
      ],
      "text/plain": [
       "                 box_office\n",
       "show_start_year            \n",
       "2010                1700.00\n",
       "2011                3000.00\n",
       "2013                3522.50\n",
       "2012                5660.00\n",
       "2014               18160.00\n",
       "2016             3846679.41\n",
       "2019             4627798.34\n",
       "2015             4920933.00\n",
       "2018             8891102.21\n",
       "2017             9968340.00"
      ]
     },
     "execution_count": 156,
     "metadata": {},
     "output_type": "execute_result"
    }
   ],
   "source": [
    "box_office_pivot_mean = mp.pivot_table(index='show_start_year', values='box_office', aggfunc='median')\n",
    "box_office_pivot_mean.sort_values(by='box_office')"
   ]
  },
  {
   "cell_type": "code",
   "execution_count": 157,
   "id": "8403f5a7",
   "metadata": {},
   "outputs": [
    {
     "data": {
      "text/plain": [
       "Text(0, 0.5, 'Amount')"
      ]
     },
     "execution_count": 157,
     "metadata": {},
     "output_type": "execute_result"
    },
    {
     "data": {
      "image/png": "[encoded data removed]",
      "text/plain": [
       "<Figure size 720x360 with 1 Axes>"
      ]
     },
     "metadata": {
      "needs_background": "light"
     },
     "output_type": "display_data"
    }
   ],
   "source": [
    "box_office_pivot_mean.plot(kind='bar', grid = True, figsize = (10, 5))\n",
    "plt.title('Median revenue')\n",
    "plt.xlabel('Year')\n",
    "plt.ylabel('Amount')"
   ]
  },
  {
   "cell_type": "markdown",
   "id": "85684fb0",
   "metadata": {},
   "source": [
    "After analyzing the tables, we can conclude that the highest median and average price belongs to 2017. The graphs show that our smallest figures still belong to 2010-2013, but the median amount of fees is also minimal in 2014 - only 18,160.\n",
    "\n",
    "I think that such a difference in the amounts in the average and median values ​​can be explained by an increase in cinema attendance. The average value shows us the average of the whole cisle in general, which means that the amounts received for this year were larger, besides, perhaps many more people went to the cinema or bought films, hence the average is larger. In 2017, probably not so many people went to cinemas and films were not as affordable, and the price per film was much higher than in subsequent years, as the graph shows."
   ]
  },
  {
   "cell_type": "markdown",
   "id": "f5d5b2e6",
   "metadata": {},
   "source": [
    "### Determine if the age limit of the audience (“6+”, “12+”, “16+”, “18+”, etc.) affects the box office of the film in the period from 2015 to 2019? Films with which age limit have collected the most money at the box office? Does the picture change depending on the year? If yes, what could be the reason for this?"
   ]
  },
  {
   "cell_type": "code",
   "execution_count": 158,
   "id": "9f3b5ae3",
   "metadata": {},
   "outputs": [
    {
     "data": {
      "text/html": [
       "<div>\n",
       "<style scoped>\n",
       "    .dataframe tbody tr th:only-of-type {\n",
       "        vertical-align: middle;\n",
       "    }\n",
       "\n",
       "    .dataframe tbody tr th {\n",
       "        vertical-align: top;\n",
       "    }\n",
       "\n",
       "    .dataframe thead th {\n",
       "        text-align: right;\n",
       "    }\n",
       "</style>\n",
       "<table border=\"1\" class=\"dataframe\">\n",
       "  <thead>\n",
       "    <tr style=\"text-align: right;\">\n",
       "      <th></th>\n",
       "      <th>show_start_year</th>\n",
       "      <th>box_office</th>\n",
       "      <th>age_restriction</th>\n",
       "    </tr>\n",
       "  </thead>\n",
       "  <tbody>\n",
       "    <tr>\n",
       "      <th>3480</th>\n",
       "      <td>2017</td>\n",
       "      <td>941788.00</td>\n",
       "      <td>«0+» - для любой зрительской аудитории</td>\n",
       "    </tr>\n",
       "  </tbody>\n",
       "</table>\n",
       "</div>"
      ],
      "text/plain": [
       "      show_start_year  box_office                         age_restriction\n",
       "3480             2017   941788.00  «0+» - для любой зрительской аудитории"
      ]
     },
     "execution_count": 158,
     "metadata": {},
     "output_type": "execute_result"
    }
   ],
   "source": [
    "mp = mp.loc[mp['show_start_year'] > 2014]\n",
    "mp.sample()"
   ]
  },
  {
   "cell_type": "code",
   "execution_count": 159,
   "id": "c392cd25",
   "metadata": {},
   "outputs": [
    {
     "data": {
      "text/html": [
       "<div>\n",
       "<style scoped>\n",
       "    .dataframe tbody tr th:only-of-type {\n",
       "        vertical-align: middle;\n",
       "    }\n",
       "\n",
       "    .dataframe tbody tr th {\n",
       "        vertical-align: top;\n",
       "    }\n",
       "\n",
       "    .dataframe thead th {\n",
       "        text-align: right;\n",
       "    }\n",
       "</style>\n",
       "<table border=\"1\" class=\"dataframe\">\n",
       "  <thead>\n",
       "    <tr style=\"text-align: right;\">\n",
       "      <th>age_restriction</th>\n",
       "      <th>«0+» - для любой зрительской аудитории</th>\n",
       "      <th>«12+» - для детей старше 12 лет</th>\n",
       "      <th>«16+» - для детей старше 16 лет</th>\n",
       "      <th>«18+» - запрещено для детей</th>\n",
       "      <th>«6+» - для детей старше 6 лет</th>\n",
       "    </tr>\n",
       "    <tr>\n",
       "      <th>show_start_year</th>\n",
       "      <th></th>\n",
       "      <th></th>\n",
       "      <th></th>\n",
       "      <th></th>\n",
       "      <th></th>\n",
       "    </tr>\n",
       "  </thead>\n",
       "  <tbody>\n",
       "    <tr>\n",
       "      <th>2015</th>\n",
       "      <td>379054578.37</td>\n",
       "      <td>13616082008.91</td>\n",
       "      <td>11368120870.27</td>\n",
       "      <td>5432308367.44</td>\n",
       "      <td>8701799371.41</td>\n",
       "    </tr>\n",
       "    <tr>\n",
       "      <th>2016</th>\n",
       "      <td>150228848.67</td>\n",
       "      <td>12204446524.39</td>\n",
       "      <td>16664548541.74</td>\n",
       "      <td>6793929818.87</td>\n",
       "      <td>12053146008.24</td>\n",
       "    </tr>\n",
       "    <tr>\n",
       "      <th>2017</th>\n",
       "      <td>229598930.00</td>\n",
       "      <td>7851427660.67</td>\n",
       "      <td>18745042900.06</td>\n",
       "      <td>9651495581.02</td>\n",
       "      <td>12086142145.76</td>\n",
       "    </tr>\n",
       "    <tr>\n",
       "      <th>2018</th>\n",
       "      <td>32449002.11</td>\n",
       "      <td>14267291660.69</td>\n",
       "      <td>16503602346.96</td>\n",
       "      <td>8760085501.15</td>\n",
       "      <td>10104974623.41</td>\n",
       "    </tr>\n",
       "    <tr>\n",
       "      <th>2019</th>\n",
       "      <td>17746066.82</td>\n",
       "      <td>12680198773.67</td>\n",
       "      <td>12753418984.60</td>\n",
       "      <td>10121796303.64</td>\n",
       "      <td>12852548650.86</td>\n",
       "    </tr>\n",
       "  </tbody>\n",
       "</table>\n",
       "</div>"
      ],
      "text/plain": [
       "age_restriction  «0+» - для любой зрительской аудитории  \\\n",
       "show_start_year                                           \n",
       "2015                                       379054578.37   \n",
       "2016                                       150228848.67   \n",
       "2017                                       229598930.00   \n",
       "2018                                        32449002.11   \n",
       "2019                                        17746066.82   \n",
       "\n",
       "age_restriction  «12+» - для детей старше 12 лет  \\\n",
       "show_start_year                                    \n",
       "2015                              13616082008.91   \n",
       "2016                              12204446524.39   \n",
       "2017                               7851427660.67   \n",
       "2018                              14267291660.69   \n",
       "2019                              12680198773.67   \n",
       "\n",
       "age_restriction  «16+» - для детей старше 16 лет  «18+» - запрещено для детей  \\\n",
       "show_start_year                                                                 \n",
       "2015                              11368120870.27                5432308367.44   \n",
       "2016                              16664548541.74                6793929818.87   \n",
       "2017                              18745042900.06                9651495581.02   \n",
       "2018                              16503602346.96                8760085501.15   \n",
       "2019                              12753418984.60               10121796303.64   \n",
       "\n",
       "age_restriction  «6+» - для детей старше 6 лет  \n",
       "show_start_year                                 \n",
       "2015                             8701799371.41  \n",
       "2016                            12053146008.24  \n",
       "2017                            12086142145.76  \n",
       "2018                            10104974623.41  \n",
       "2019                            12852548650.86  "
      ]
     },
     "execution_count": 159,
     "metadata": {},
     "output_type": "execute_result"
    }
   ],
   "source": [
    "year_mp = mp.pivot_table( index='show_start_year', columns='age_restriction', values='box_office',\n",
    "                         aggfunc='sum')\n",
    "year_mp"
   ]
  },
  {
   "cell_type": "code",
   "execution_count": 160,
   "id": "f805652a",
   "metadata": {},
   "outputs": [
    {
     "data": {
      "text/plain": [
       "Text(0, 0.5, 'Revenue')"
      ]
     },
     "execution_count": 160,
     "metadata": {},
     "output_type": "execute_result"
    },
    {
     "data": {
      "image/png": "[encoded data removed]",
      "text/plain": [
       "<Figure size 1008x432 with 1 Axes>"
      ]
     },
     "metadata": {
      "needs_background": "light"
     },
     "output_type": "display_data"
    }
   ],
   "source": [
    "year_mp.plot(figsize = (14,6))\n",
    "plt.title('The influence of the age limit')\n",
    "plt.xlabel('Year')\n",
    "plt.ylabel('Revenue')"
   ]
  },
  {
   "cell_type": "markdown",
   "id": "d286205b",
   "metadata": {},
   "source": [
    "This graph perfectly reflects the situation, I will go in ascending order:\n",
    "* Films 0+ have the lowest fees. I can assume that this is due to the fact that such films (or rather cartoons) are produced exclusively for small children who sometimes do not like going to the cinema, or parents do not have the time and desire to spend time and money on this.\n",
    "* The following films in our rating are 18+. This is most likely due to the fact that mostly teenagers go to the cinema, and they are not allowed in, and people 18+ simply do not have time for cinema, or many prefer to watch such films in a more intimate setting at home.\n",
    "* Further we have films 12+ and 6+. They both deserve 2nd place. The fact is that there are quite a lot of films in these categories, many family films and cartoons are released every year, which, as a rule, the whole family with children go to, so more tickets are bought. Plus it's a great time to spend with your family.\n",
    "* An the winners are movies with a 16+ limit. They deserve 1st place. And this is not surprising. There are probably most films with this limitation, so teenagers willingly go to them, they have an interesting plot that will suit the majority."
   ]
  },
  {
   "cell_type": "markdown",
   "id": "9e7f20a8",
   "metadata": {},
   "source": [
    "# Step 4: Research Films That Have Received Government Support"
   ]
  },
  {
   "cell_type": "markdown",
   "id": "9bd797fa",
   "metadata": {},
   "source": [
    "### How much money is allocated to support cinema"
   ]
  },
  {
   "cell_type": "code",
   "execution_count": 161,
   "id": "cd5a4d72",
   "metadata": {},
   "outputs": [
    {
     "data": {
      "text/html": [
       "<div>\n",
       "<style scoped>\n",
       "    .dataframe tbody tr th:only-of-type {\n",
       "        vertical-align: middle;\n",
       "    }\n",
       "\n",
       "    .dataframe tbody tr th {\n",
       "        vertical-align: top;\n",
       "    }\n",
       "\n",
       "    .dataframe thead th {\n",
       "        text-align: right;\n",
       "    }\n",
       "</style>\n",
       "<table border=\"1\" class=\"dataframe\">\n",
       "  <thead>\n",
       "    <tr style=\"text-align: right;\">\n",
       "      <th></th>\n",
       "      <th>title</th>\n",
       "      <th>pu_number</th>\n",
       "      <th>show_start_date</th>\n",
       "      <th>type</th>\n",
       "      <th>film_studio</th>\n",
       "      <th>production_country</th>\n",
       "      <th>director</th>\n",
       "      <th>producer</th>\n",
       "      <th>age_restriction</th>\n",
       "      <th>refundable_support</th>\n",
       "      <th>nonrefundable_support</th>\n",
       "      <th>budget</th>\n",
       "      <th>financing_source</th>\n",
       "      <th>ratings</th>\n",
       "      <th>genres</th>\n",
       "      <th>box_office</th>\n",
       "      <th>show_start_year</th>\n",
       "      <th>main_director</th>\n",
       "      <th>main_genres</th>\n",
       "      <th>percent_of_budget</th>\n",
       "    </tr>\n",
       "  </thead>\n",
       "  <tbody>\n",
       "    <tr>\n",
       "      <th>933</th>\n",
       "      <td>Летние войны</td>\n",
       "      <td>124002812</td>\n",
       "      <td>2012-10-25 12:00:00+00:00</td>\n",
       "      <td>Анимационный</td>\n",
       "      <td>Медхауз, Ниппон Телевижн Нетуорк Корпорейшн, К...</td>\n",
       "      <td>Япония</td>\n",
       "      <td>Мамору Хосода</td>\n",
       "      <td>Такафуми Ватанабэ, Такуя Ито, Сэйдзи Окуда, Юи...</td>\n",
       "      <td>«12+» - для детей старше 12 лет</td>\n",
       "      <td>NaN</td>\n",
       "      <td>NaN</td>\n",
       "      <td>NaN</td>\n",
       "      <td>NaN</td>\n",
       "      <td>7.70</td>\n",
       "      <td>аниме,мультфильм,фантастика</td>\n",
       "      <td>0.00</td>\n",
       "      <td>2012</td>\n",
       "      <td>Мамору Хосода</td>\n",
       "      <td>аниме</td>\n",
       "      <td>NaN</td>\n",
       "    </tr>\n",
       "  </tbody>\n",
       "</table>\n",
       "</div>"
      ],
      "text/plain": [
       "            title  pu_number           show_start_date          type  \\\n",
       "933  Летние войны  124002812 2012-10-25 12:00:00+00:00  Анимационный   \n",
       "\n",
       "                                           film_studio production_country  \\\n",
       "933  Медхауз, Ниппон Телевижн Нетуорк Корпорейшн, К...             Япония   \n",
       "\n",
       "          director                                           producer  \\\n",
       "933  Мамору Хосода  Такафуми Ватанабэ, Такуя Ито, Сэйдзи Окуда, Юи...   \n",
       "\n",
       "                     age_restriction  refundable_support  \\\n",
       "933  «12+» - для детей старше 12 лет                 NaN   \n",
       "\n",
       "     nonrefundable_support  budget financing_source  ratings  \\\n",
       "933                    NaN     NaN              NaN     7.70   \n",
       "\n",
       "                          genres  box_office  show_start_year  main_director  \\\n",
       "933  аниме,мультфильм,фантастика        0.00             2012  Мамору Хосода   \n",
       "\n",
       "    main_genres  percent_of_budget  \n",
       "933       аниме                NaN  "
      ]
     },
     "execution_count": 161,
     "metadata": {},
     "output_type": "execute_result"
    }
   ],
   "source": [
    "movies.sample()"
   ]
  },
  {
   "cell_type": "code",
   "execution_count": 162,
   "id": "2fb248d5",
   "metadata": {},
   "outputs": [
    {
     "name": "stdout",
     "output_type": "stream",
     "text": [
      "<class 'pandas.core.frame.DataFrame'>\n",
      "Int64Index: 7486 entries, 0 to 7485\n",
      "Data columns (total 20 columns):\n",
      " #   Column                 Non-Null Count  Dtype              \n",
      "---  ------                 --------------  -----              \n",
      " 0   title                  7486 non-null   object             \n",
      " 1   pu_number              7486 non-null   int64              \n",
      " 2   show_start_date        7486 non-null   datetime64[ns, UTC]\n",
      " 3   type                   7486 non-null   object             \n",
      " 4   film_studio            7486 non-null   object             \n",
      " 5   production_country     7486 non-null   object             \n",
      " 6   director               7486 non-null   object             \n",
      " 7   producer               7486 non-null   object             \n",
      " 8   age_restriction        7486 non-null   object             \n",
      " 9   refundable_support     332 non-null    float64            \n",
      " 10  nonrefundable_support  332 non-null    float64            \n",
      " 11  budget                 332 non-null    float64            \n",
      " 12  financing_source       332 non-null    object             \n",
      " 13  ratings                6519 non-null   float64            \n",
      " 14  genres                 7486 non-null   object             \n",
      " 15  box_office             3158 non-null   float64            \n",
      " 16  show_start_year        7486 non-null   int64              \n",
      " 17  main_director          7486 non-null   object             \n",
      " 18  main_genres            7486 non-null   object             \n",
      " 19  percent_of_budget      332 non-null    float64            \n",
      "dtypes: datetime64[ns, UTC](1), float64(6), int64(2), object(11)\n",
      "memory usage: 1.2+ MB\n"
     ]
    }
   ],
   "source": [
    "movies.info()"
   ]
  },
  {
   "cell_type": "code",
   "execution_count": 163,
   "id": "336244ca",
   "metadata": {},
   "outputs": [
    {
     "data": {
      "text/plain": [
       "count         332.00\n",
       "mean     11864457.83\n",
       "std      24916555.26\n",
       "min             0.00\n",
       "25%             0.00\n",
       "50%             0.00\n",
       "75%      15000000.00\n",
       "max     180000000.00\n",
       "Name: refundable_support, dtype: float64"
      ]
     },
     "execution_count": 163,
     "metadata": {},
     "output_type": "execute_result"
    }
   ],
   "source": [
    "movies['refundable_support'].describe()"
   ]
  },
  {
   "cell_type": "code",
   "execution_count": 164,
   "id": "cce44fe8",
   "metadata": {},
   "outputs": [
    {
     "data": {
      "text/plain": [
       "(0.0, 180000000.0)"
      ]
     },
     "execution_count": 164,
     "metadata": {},
     "output_type": "execute_result"
    },
    {
     "data": {
      "image/png": "[encoded data removed]",
      "text/plain": [
       "<Figure size 720x360 with 1 Axes>"
      ]
     },
     "metadata": {
      "needs_background": "light"
     },
     "output_type": "display_data"
    }
   ],
   "source": [
    "movies.boxplot(column = 'refundable_support', figsize=(10, 5))\n",
    "plt.ylim(0, 180000000)"
   ]
  },
  {
   "cell_type": "code",
   "execution_count": 165,
   "id": "5b38dce4",
   "metadata": {},
   "outputs": [
    {
     "data": {
      "text/plain": [
       "Text(0.5, 1.0, 'refundable support')"
      ]
     },
     "execution_count": 165,
     "metadata": {},
     "output_type": "execute_result"
    },
    {
     "data": {
      "image/png": "[encoded data removed]",
      "text/plain": [
       "<Figure size 720x360 with 1 Axes>"
      ]
     },
     "metadata": {
      "needs_background": "light"
     },
     "output_type": "display_data"
    }
   ],
   "source": [
    "movies['refundable_support'].hist(bins = 30, figsize=(10,5))\n",
    "plt.title('refundable support')"
   ]
  },
  {
   "cell_type": "code",
   "execution_count": 166,
   "id": "0a43f4e3",
   "metadata": {},
   "outputs": [
    {
     "data": {
      "text/plain": [
       "count         332.00\n",
       "mean     48980988.89\n",
       "std      59980117.92\n",
       "min             0.00\n",
       "25%      25000000.00\n",
       "50%      30000000.00\n",
       "75%      40375000.00\n",
       "max     400000000.00\n",
       "Name: nonrefundable_support, dtype: float64"
      ]
     },
     "execution_count": 166,
     "metadata": {},
     "output_type": "execute_result"
    }
   ],
   "source": [
    "movies['nonrefundable_support'].describe()"
   ]
  },
  {
   "cell_type": "code",
   "execution_count": 167,
   "id": "5efef810",
   "metadata": {},
   "outputs": [
    {
     "data": {
      "text/plain": [
       "(0.0, 400000000.0)"
      ]
     },
     "execution_count": 167,
     "metadata": {},
     "output_type": "execute_result"
    },
    {
     "data": {
      "image/png": "[encoded data removed]",
      "text/plain": [
       "<Figure size 720x360 with 1 Axes>"
      ]
     },
     "metadata": {
      "needs_background": "light"
     },
     "output_type": "display_data"
    }
   ],
   "source": [
    "movies.boxplot(column = 'nonrefundable_support', figsize=(10,5))\n",
    "plt.ylim(0, 400000000)"
   ]
  },
  {
   "cell_type": "code",
   "execution_count": 168,
   "id": "0be0e26a",
   "metadata": {},
   "outputs": [
    {
     "data": {
      "text/plain": [
       "Text(0.5, 1.0, 'nonrefundable support')"
      ]
     },
     "execution_count": 168,
     "metadata": {},
     "output_type": "execute_result"
    },
    {
     "data": {
      "image/png": "[encoded data removed]",
      "text/plain": [
       "<Figure size 720x360 with 1 Axes>"
      ]
     },
     "metadata": {
      "needs_background": "light"
     },
     "output_type": "display_data"
    }
   ],
   "source": [
    "movies['nonrefundable_support'].hist(bins = 30, figsize=(10, 5))\n",
    "plt.title('nonrefundable support')"
   ]
  },
  {
   "cell_type": "markdown",
   "id": "d474fb71",
   "metadata": {},
   "source": [
    "Thus, we can conclude that only 332 studios received state support, which is a small percentage of films, approximately 5%.\n",
    "- There are much more non-refundable funds than refundable ones.\n",
    "- The maximum number of films receive about 20 million rubles of refundable funds, while the state generally allocates about 25 million rubles of non-refundable funds.\n",
    "- There are also outlier values reaching up to 180 million refundable and 400 million non-refundable funds."
   ]
  },
  {
   "cell_type": "markdown",
   "id": "87bc56e5",
   "metadata": {},
   "source": [
    "### Do such films pay off well, what is their rating"
   ]
  },
  {
   "cell_type": "code",
   "execution_count": 86,
   "id": "b83b6a63",
   "metadata": {
    "scrolled": true
   },
   "outputs": [
    {
     "data": {
      "text/html": [
       "<div>\n",
       "<style scoped>\n",
       "    .dataframe tbody tr th:only-of-type {\n",
       "        vertical-align: middle;\n",
       "    }\n",
       "\n",
       "    .dataframe tbody tr th {\n",
       "        vertical-align: top;\n",
       "    }\n",
       "\n",
       "    .dataframe thead th {\n",
       "        text-align: right;\n",
       "    }\n",
       "</style>\n",
       "<table border=\"1\" class=\"dataframe\">\n",
       "  <thead>\n",
       "    <tr style=\"text-align: right;\">\n",
       "      <th></th>\n",
       "      <th>title</th>\n",
       "      <th>pu_number</th>\n",
       "      <th>show_start_date</th>\n",
       "      <th>type</th>\n",
       "      <th>film_studio</th>\n",
       "      <th>production_country</th>\n",
       "      <th>director</th>\n",
       "      <th>producer</th>\n",
       "      <th>age_restriction</th>\n",
       "      <th>refundable_support</th>\n",
       "      <th>nonrefundable_support</th>\n",
       "      <th>budget</th>\n",
       "      <th>financing_source</th>\n",
       "      <th>ratings</th>\n",
       "      <th>genres</th>\n",
       "      <th>box_office</th>\n",
       "      <th>show_start_year</th>\n",
       "      <th>main_director</th>\n",
       "      <th>main_genres</th>\n",
       "      <th>percent_of_budget</th>\n",
       "    </tr>\n",
       "  </thead>\n",
       "  <tbody>\n",
       "    <tr>\n",
       "      <th>1870</th>\n",
       "      <td>А зори здесь тихие..._</td>\n",
       "      <td>111002915</td>\n",
       "      <td>2015-03-16 12:00:00+00:00</td>\n",
       "      <td>Художественный</td>\n",
       "      <td>ООО \"Компания \"Реал-Дакота\"</td>\n",
       "      <td>Россия</td>\n",
       "      <td>Р.Давлетьяров</td>\n",
       "      <td>not defined</td>\n",
       "      <td>«12+» - для детей старше 12 лет</td>\n",
       "      <td>50000000.00</td>\n",
       "      <td>100000000.00</td>\n",
       "      <td>220588394.00</td>\n",
       "      <td>Фонд кино</td>\n",
       "      <td>8.50</td>\n",
       "      <td>драма,военный,история</td>\n",
       "      <td>249166767.70</td>\n",
       "      <td>2015</td>\n",
       "      <td>Р.Давлетьяров</td>\n",
       "      <td>драма</td>\n",
       "      <td>0.68</td>\n",
       "    </tr>\n",
       "    <tr>\n",
       "      <th>1903</th>\n",
       "      <td>Призрак_.</td>\n",
       "      <td>111001815</td>\n",
       "      <td>2015-03-02 12:00:00+00:00</td>\n",
       "      <td>Художественный</td>\n",
       "      <td>ООО \"Водород 2011\"</td>\n",
       "      <td>Россия</td>\n",
       "      <td>А.Войтинский</td>\n",
       "      <td>С.Сельянов</td>\n",
       "      <td>«6+» - для детей старше 6 лет</td>\n",
       "      <td>0.00</td>\n",
       "      <td>75000000.00</td>\n",
       "      <td>139551503.00</td>\n",
       "      <td>Фонд кино</td>\n",
       "      <td>7.00</td>\n",
       "      <td>триллер,боевик,приключения</td>\n",
       "      <td>352804320.40</td>\n",
       "      <td>2015</td>\n",
       "      <td>А.Войтинский</td>\n",
       "      <td>триллер</td>\n",
       "      <td>0.54</td>\n",
       "    </tr>\n",
       "    <tr>\n",
       "      <th>1987</th>\n",
       "      <td>Елки Лохматые</td>\n",
       "      <td>111023114</td>\n",
       "      <td>2014-12-10 12:00:00+00:00</td>\n",
       "      <td>Художественный</td>\n",
       "      <td>ООО \"ТаББаК\"</td>\n",
       "      <td>Россия</td>\n",
       "      <td>Максим Свешников</td>\n",
       "      <td>Тимур Бекмамбетов, Евгения Аронова</td>\n",
       "      <td>«6+» - для детей старше 6 лет</td>\n",
       "      <td>26000000.00</td>\n",
       "      <td>30000000.00</td>\n",
       "      <td>80000000.00</td>\n",
       "      <td>Фонд кино</td>\n",
       "      <td>5.00</td>\n",
       "      <td>семейный,комедия</td>\n",
       "      <td>121225633.80</td>\n",
       "      <td>2014</td>\n",
       "      <td>Максим Свешников</td>\n",
       "      <td>семейный</td>\n",
       "      <td>0.70</td>\n",
       "    </tr>\n",
       "    <tr>\n",
       "      <th>2005</th>\n",
       "      <td>Снежная Королева 2: Перезаморозка</td>\n",
       "      <td>114000214</td>\n",
       "      <td>2014-11-13 12:00:00+00:00</td>\n",
       "      <td>Анимационный</td>\n",
       "      <td>ООО \"ВИЗАРТ ФИЛЬМ\"</td>\n",
       "      <td>Россия</td>\n",
       "      <td>А.Цицилин</td>\n",
       "      <td>ООО \"ВИЗАРТ ФИЛЬМ\", ООО \"ТаББаК\"</td>\n",
       "      <td>«0+» - для любой зрительской аудитории</td>\n",
       "      <td>30000000.00</td>\n",
       "      <td>40000000.00</td>\n",
       "      <td>252489571.00</td>\n",
       "      <td>Фонд кино</td>\n",
       "      <td>6.50</td>\n",
       "      <td>мультфильм,фэнтези,приключения</td>\n",
       "      <td>313489846.50</td>\n",
       "      <td>2014</td>\n",
       "      <td>А.Цицилин</td>\n",
       "      <td>мультфильм</td>\n",
       "      <td>0.28</td>\n",
       "    </tr>\n",
       "    <tr>\n",
       "      <th>2053</th>\n",
       "      <td>14+</td>\n",
       "      <td>111023614</td>\n",
       "      <td>2014-12-19 12:00:00+00:00</td>\n",
       "      <td>Художественный</td>\n",
       "      <td>ООО Киностудия  \"Сентябрь\"</td>\n",
       "      <td>Россия</td>\n",
       "      <td>А.Зайцев</td>\n",
       "      <td>О.Гранина, А.Зайцев</td>\n",
       "      <td>«16+» - для детей старше 16 лет</td>\n",
       "      <td>0.00</td>\n",
       "      <td>23000000.00</td>\n",
       "      <td>0.00</td>\n",
       "      <td>Министерство культуры, Фонд кино</td>\n",
       "      <td>6.60</td>\n",
       "      <td>мелодрама</td>\n",
       "      <td>10234016.10</td>\n",
       "      <td>2014</td>\n",
       "      <td>А.Зайцев</td>\n",
       "      <td>мелодрама</td>\n",
       "      <td>inf</td>\n",
       "    </tr>\n",
       "    <tr>\n",
       "      <th>...</th>\n",
       "      <td>...</td>\n",
       "      <td>...</td>\n",
       "      <td>...</td>\n",
       "      <td>...</td>\n",
       "      <td>...</td>\n",
       "      <td>...</td>\n",
       "      <td>...</td>\n",
       "      <td>...</td>\n",
       "      <td>...</td>\n",
       "      <td>...</td>\n",
       "      <td>...</td>\n",
       "      <td>...</td>\n",
       "      <td>...</td>\n",
       "      <td>...</td>\n",
       "      <td>...</td>\n",
       "      <td>...</td>\n",
       "      <td>...</td>\n",
       "      <td>...</td>\n",
       "      <td>...</td>\n",
       "      <td>...</td>\n",
       "    </tr>\n",
       "    <tr>\n",
       "      <th>6972</th>\n",
       "      <td>Верность</td>\n",
       "      <td>111009119</td>\n",
       "      <td>2019-06-13 12:00:00+00:00</td>\n",
       "      <td>Художественный</td>\n",
       "      <td>ООО \"Друг Друга\", ООО \"1-2-3 Продакшн\"</td>\n",
       "      <td>Россия</td>\n",
       "      <td>Н.Сайфуллаева</td>\n",
       "      <td>С.Корнихин, В.Федорович, Е.Никишов, П.Лилиенфе...</td>\n",
       "      <td>«18+» - запрещено для детей</td>\n",
       "      <td>0.00</td>\n",
       "      <td>30000000.00</td>\n",
       "      <td>46300000.00</td>\n",
       "      <td>Министерство культуры</td>\n",
       "      <td>6.20</td>\n",
       "      <td>драма</td>\n",
       "      <td>97637352.29</td>\n",
       "      <td>2019</td>\n",
       "      <td>Н.Сайфуллаева</td>\n",
       "      <td>драма</td>\n",
       "      <td>0.65</td>\n",
       "    </tr>\n",
       "    <tr>\n",
       "      <th>6991</th>\n",
       "      <td>Давай разведемся!</td>\n",
       "      <td>111009519</td>\n",
       "      <td>2019-06-12 12:00:00+00:00</td>\n",
       "      <td>Художественный</td>\n",
       "      <td>ООО Кинокомпания \"Глобус-фильм\"</td>\n",
       "      <td>Россия</td>\n",
       "      <td>А.Пармас</td>\n",
       "      <td>С.Сельянов, К.Эрнст, Н.Дрозд-Макан</td>\n",
       "      <td>«12+» - для детей старше 12 лет</td>\n",
       "      <td>0.00</td>\n",
       "      <td>25000000.00</td>\n",
       "      <td>38000000.00</td>\n",
       "      <td>Министерство культуры</td>\n",
       "      <td>5.90</td>\n",
       "      <td>комедия</td>\n",
       "      <td>103098290.54</td>\n",
       "      <td>2019</td>\n",
       "      <td>А.Пармас</td>\n",
       "      <td>комедия</td>\n",
       "      <td>0.66</td>\n",
       "    </tr>\n",
       "    <tr>\n",
       "      <th>7453</th>\n",
       "      <td>Фиксики против кработов</td>\n",
       "      <td>114004819</td>\n",
       "      <td>2019-12-21 12:00:00+00:00</td>\n",
       "      <td>Анимационный</td>\n",
       "      <td>АО \"Аэроплан\"</td>\n",
       "      <td>Россия</td>\n",
       "      <td>В.Бедошвили, О.Ужинов, И.Пшонкин, Д.Цыбулькин</td>\n",
       "      <td>Г.Васильев, С.Саркисов, И.Попов</td>\n",
       "      <td>«6+» - для детей старше 6 лет</td>\n",
       "      <td>80000000.00</td>\n",
       "      <td>40000000.00</td>\n",
       "      <td>270000000.00</td>\n",
       "      <td>Фонд кино</td>\n",
       "      <td>7.50</td>\n",
       "      <td>мультфильм,детский,приключения</td>\n",
       "      <td>387590521.72</td>\n",
       "      <td>2019</td>\n",
       "      <td>В.Бедошвили</td>\n",
       "      <td>мультфильм</td>\n",
       "      <td>0.44</td>\n",
       "    </tr>\n",
       "    <tr>\n",
       "      <th>7456</th>\n",
       "      <td>Холоп</td>\n",
       "      <td>111021719</td>\n",
       "      <td>2019-12-19 12:00:00+00:00</td>\n",
       "      <td>Художественный</td>\n",
       "      <td>ООО \"МЕМ-МЕДИА\" по заказу АО \"ВБД Груп\"</td>\n",
       "      <td>Россия</td>\n",
       "      <td>К.Шипенко</td>\n",
       "      <td>Э.Илоян, Д.Жалинский, В.Дусмухаметов, Т.Бадзие...</td>\n",
       "      <td>«12+» - для детей старше 12 лет</td>\n",
       "      <td>25000000.00</td>\n",
       "      <td>35000000.00</td>\n",
       "      <td>160000000.00</td>\n",
       "      <td>Фонд кино</td>\n",
       "      <td>6.80</td>\n",
       "      <td>комедия</td>\n",
       "      <td>3073568690.79</td>\n",
       "      <td>2019</td>\n",
       "      <td>К.Шипенко</td>\n",
       "      <td>комедия</td>\n",
       "      <td>0.38</td>\n",
       "    </tr>\n",
       "    <tr>\n",
       "      <th>7466</th>\n",
       "      <td>Иван Царевич и Серый Волк 4</td>\n",
       "      <td>114005019</td>\n",
       "      <td>2019-12-20 12:00:00+00:00</td>\n",
       "      <td>Анимационный</td>\n",
       "      <td>ООО \"Студия анимационного кино \"Мельница\"</td>\n",
       "      <td>Россия</td>\n",
       "      <td>Д.Шмидт, К.Феоктистов</td>\n",
       "      <td>С.Сельянов, А.Боярский</td>\n",
       "      <td>«6+» - для детей старше 6 лет</td>\n",
       "      <td>100000000.00</td>\n",
       "      <td>0.00</td>\n",
       "      <td>190000000.00</td>\n",
       "      <td>Фонд кино</td>\n",
       "      <td>6.70</td>\n",
       "      <td>мультфильм,приключения,семейный</td>\n",
       "      <td>501069235.00</td>\n",
       "      <td>2019</td>\n",
       "      <td>Д.Шмидт</td>\n",
       "      <td>мультфильм</td>\n",
       "      <td>0.53</td>\n",
       "    </tr>\n",
       "  </tbody>\n",
       "</table>\n",
       "<p>83 rows × 20 columns</p>\n",
       "</div>"
      ],
      "text/plain": [
       "                                  title  pu_number           show_start_date  \\\n",
       "1870             А зори здесь тихие..._  111002915 2015-03-16 12:00:00+00:00   \n",
       "1903                          Призрак_.  111001815 2015-03-02 12:00:00+00:00   \n",
       "1987                      Елки Лохматые  111023114 2014-12-10 12:00:00+00:00   \n",
       "2005  Снежная Королева 2: Перезаморозка  114000214 2014-11-13 12:00:00+00:00   \n",
       "2053                                14+  111023614 2014-12-19 12:00:00+00:00   \n",
       "...                                 ...        ...                       ...   \n",
       "6972                           Верность  111009119 2019-06-13 12:00:00+00:00   \n",
       "6991                  Давай разведемся!  111009519 2019-06-12 12:00:00+00:00   \n",
       "7453            Фиксики против кработов  114004819 2019-12-21 12:00:00+00:00   \n",
       "7456                              Холоп  111021719 2019-12-19 12:00:00+00:00   \n",
       "7466        Иван Царевич и Серый Волк 4  114005019 2019-12-20 12:00:00+00:00   \n",
       "\n",
       "                type                                film_studio  \\\n",
       "1870  Художественный                ООО \"Компания \"Реал-Дакота\"   \n",
       "1903  Художественный                         ООО \"Водород 2011\"   \n",
       "1987  Художественный                               ООО \"ТаББаК\"   \n",
       "2005    Анимационный                         ООО \"ВИЗАРТ ФИЛЬМ\"   \n",
       "2053  Художественный                 ООО Киностудия  \"Сентябрь\"   \n",
       "...              ...                                        ...   \n",
       "6972  Художественный     ООО \"Друг Друга\", ООО \"1-2-3 Продакшн\"   \n",
       "6991  Художественный            ООО Кинокомпания \"Глобус-фильм\"   \n",
       "7453    Анимационный                              АО \"Аэроплан\"   \n",
       "7456  Художественный    ООО \"МЕМ-МЕДИА\" по заказу АО \"ВБД Груп\"   \n",
       "7466    Анимационный  ООО \"Студия анимационного кино \"Мельница\"   \n",
       "\n",
       "     production_country                                       director  \\\n",
       "1870             Россия                                  Р.Давлетьяров   \n",
       "1903             Россия                                   А.Войтинский   \n",
       "1987             Россия                               Максим Свешников   \n",
       "2005             Россия                                      А.Цицилин   \n",
       "2053             Россия                                       А.Зайцев   \n",
       "...                 ...                                            ...   \n",
       "6972             Россия                                  Н.Сайфуллаева   \n",
       "6991             Россия                                       А.Пармас   \n",
       "7453             Россия  В.Бедошвили, О.Ужинов, И.Пшонкин, Д.Цыбулькин   \n",
       "7456             Россия                                      К.Шипенко   \n",
       "7466             Россия                          Д.Шмидт, К.Феоктистов   \n",
       "\n",
       "                                               producer  \\\n",
       "1870                                        not defined   \n",
       "1903                                         С.Сельянов   \n",
       "1987                 Тимур Бекмамбетов, Евгения Аронова   \n",
       "2005                   ООО \"ВИЗАРТ ФИЛЬМ\", ООО \"ТаББаК\"   \n",
       "2053                                О.Гранина, А.Зайцев   \n",
       "...                                                 ...   \n",
       "6972  С.Корнихин, В.Федорович, Е.Никишов, П.Лилиенфе...   \n",
       "6991                 С.Сельянов, К.Эрнст, Н.Дрозд-Макан   \n",
       "7453                    Г.Васильев, С.Саркисов, И.Попов   \n",
       "7456  Э.Илоян, Д.Жалинский, В.Дусмухаметов, Т.Бадзие...   \n",
       "7466                             С.Сельянов, А.Боярский   \n",
       "\n",
       "                             age_restriction  refundable_support  \\\n",
       "1870         «12+» - для детей старше 12 лет         50000000.00   \n",
       "1903           «6+» - для детей старше 6 лет                0.00   \n",
       "1987           «6+» - для детей старше 6 лет         26000000.00   \n",
       "2005  «0+» - для любой зрительской аудитории         30000000.00   \n",
       "2053         «16+» - для детей старше 16 лет                0.00   \n",
       "...                                      ...                 ...   \n",
       "6972             «18+» - запрещено для детей                0.00   \n",
       "6991         «12+» - для детей старше 12 лет                0.00   \n",
       "7453           «6+» - для детей старше 6 лет         80000000.00   \n",
       "7456         «12+» - для детей старше 12 лет         25000000.00   \n",
       "7466           «6+» - для детей старше 6 лет        100000000.00   \n",
       "\n",
       "      nonrefundable_support       budget                  financing_source  \\\n",
       "1870           100000000.00 220588394.00                         Фонд кино   \n",
       "1903            75000000.00 139551503.00                         Фонд кино   \n",
       "1987            30000000.00  80000000.00                         Фонд кино   \n",
       "2005            40000000.00 252489571.00                         Фонд кино   \n",
       "2053            23000000.00         0.00  Министерство культуры, Фонд кино   \n",
       "...                     ...          ...                               ...   \n",
       "6972            30000000.00  46300000.00             Министерство культуры   \n",
       "6991            25000000.00  38000000.00             Министерство культуры   \n",
       "7453            40000000.00 270000000.00                         Фонд кино   \n",
       "7456            35000000.00 160000000.00                         Фонд кино   \n",
       "7466                   0.00 190000000.00                         Фонд кино   \n",
       "\n",
       "      ratings                           genres    box_office  show_start_year  \\\n",
       "1870     8.50            драма,военный,история  249166767.70             2015   \n",
       "1903     7.00       триллер,боевик,приключения  352804320.40             2015   \n",
       "1987     5.00                 семейный,комедия  121225633.80             2014   \n",
       "2005     6.50   мультфильм,фэнтези,приключения  313489846.50             2014   \n",
       "2053     6.60                        мелодрама   10234016.10             2014   \n",
       "...       ...                              ...           ...              ...   \n",
       "6972     6.20                            драма   97637352.29             2019   \n",
       "6991     5.90                          комедия  103098290.54             2019   \n",
       "7453     7.50   мультфильм,детский,приключения  387590521.72             2019   \n",
       "7456     6.80                          комедия 3073568690.79             2019   \n",
       "7466     6.70  мультфильм,приключения,семейный  501069235.00             2019   \n",
       "\n",
       "         main_director main_genres  percent_of_budget  \n",
       "1870     Р.Давлетьяров       драма               0.68  \n",
       "1903      А.Войтинский     триллер               0.54  \n",
       "1987  Максим Свешников    семейный               0.70  \n",
       "2005         А.Цицилин  мультфильм               0.28  \n",
       "2053          А.Зайцев   мелодрама                inf  \n",
       "...                ...         ...                ...  \n",
       "6972     Н.Сайфуллаева       драма               0.65  \n",
       "6991          А.Пармас     комедия               0.66  \n",
       "7453       В.Бедошвили  мультфильм               0.44  \n",
       "7456         К.Шипенко     комедия               0.38  \n",
       "7466           Д.Шмидт  мультфильм               0.53  \n",
       "\n",
       "[83 rows x 20 columns]"
      ]
     },
     "execution_count": 86,
     "metadata": {},
     "output_type": "execute_result"
    }
   ],
   "source": [
    "rich_movies = movies[(movies['box_office']/movies['budget']) > 1]\n",
    "rich_movies"
   ]
  },
  {
   "cell_type": "code",
   "execution_count": 169,
   "id": "397d6a24",
   "metadata": {},
   "outputs": [
    {
     "data": {
      "text/plain": [
       "Text(0.5, 1.0, 'Payback films')"
      ]
     },
     "execution_count": 169,
     "metadata": {},
     "output_type": "execute_result"
    },
    {
     "data": {
      "image/png": "[encoded data removed]",
      "text/plain": [
       "<Figure size 720x360 with 1 Axes>"
      ]
     },
     "metadata": {
      "needs_background": "light"
     },
     "output_type": "display_data"
    }
   ],
   "source": [
    "rich_movies.plot(x='box_office', y='budget', kind='scatter', figsize=(10, 5))\n",
    "plt.title('Payback films')"
   ]
  },
  {
   "cell_type": "code",
   "execution_count": 170,
   "id": "5d7ad132",
   "metadata": {},
   "outputs": [
    {
     "data": {
      "text/plain": [
       "count   81.00\n",
       "mean     6.07\n",
       "std      1.06\n",
       "min      2.90\n",
       "25%      5.20\n",
       "50%      6.20\n",
       "75%      6.80\n",
       "max      8.50\n",
       "Name: ratings, dtype: float64"
      ]
     },
     "execution_count": 170,
     "metadata": {},
     "output_type": "execute_result"
    }
   ],
   "source": [
    "rich_movies['ratings'].describe()"
   ]
  },
  {
   "cell_type": "code",
   "execution_count": 171,
   "id": "f20c87aa",
   "metadata": {},
   "outputs": [
    {
     "data": {
      "text/plain": [
       "Text(0.5, 1.0, 'Payback films rating')"
      ]
     },
     "execution_count": 171,
     "metadata": {},
     "output_type": "execute_result"
    },
    {
     "data": {
      "image/png": "[encoded data removed]",
      "text/plain": [
       "<Figure size 720x360 with 1 Axes>"
      ]
     },
     "metadata": {
      "needs_background": "light"
     },
     "output_type": "display_data"
    }
   ],
   "source": [
    "rich_movies.boxplot(column = 'ratings', figsize=(10, 5))\n",
    "plt.ylim(0, 10)\n",
    "plt.title('Payback films rating')"
   ]
  },
  {
   "cell_type": "markdown",
   "id": "f9c09deb",
   "metadata": {},
   "source": [
    "### Conclusions\n",
    "- There are very few films that pay off, only 83. To present the data, I used data on the budget and funds raised of films.\n",
    "- The rating of these films reaches the maximum rating of 9.4 points, however, this is an outlier. Most films are kept in the 5-7 marks.\n"
   ]
  },
  {
   "cell_type": "markdown",
   "id": "1a06a7f5",
   "metadata": {},
   "source": [
    "# General conclusion"
   ]
  },
  {
   "cell_type": "markdown",
   "id": "92f0b41f",
   "metadata": {},
   "source": [
    "We have done a great job of analyzing the films of the Ministry of Culture of the Russian Federation. Based on the data, we can now make a general conclusion:\n",
    "\n",
    "**We have analyzed and pre-processed the data itself:**\n",
    "- Changed the name of one of the columns\n",
    "- Changed gaps in categorical data to \"Undefined\"\n",
    "- Converted data where needed\n",
    "- Added a couple of new columns that helped us with data analysis\n",
    "\n",
    "**What patterns did we find:**\n",
    "\n",
    "- There are quite a few implicit duplicates in the data. All data is the same in them, except for some columns. As I assumed, such lines are not duplicates, they were probably released in different rentals, at different times, on different sites, so we cannot classify them as duplicates\n",
    "- We found a problem in categorical data: Values ​​are written separated by commas, which means we cannot analyze and categorize such data\n",
    "- There are also quite a few missing values ​​in the data, for example, related to budget and money. We would also not be able to replace such passes, due to the fact that not all films are sponsored by the state, and publicly this data cannot be found and replaced, because they simply do not exist anywhere. Putting the median value there is incorrect and impossible\n",
    "- There are probably small errors in the data, since the budget data in our 17 lines shows `0`, while state support was indicated. The description says that the budget includes state support.\n",
    "- There are data in the ratings that are worth checking, there are films whose rating is from 1 to 4, which is rather strange, because the rating is general for the film, there may be a problem with the service showing the film\n",
    "\n",
    "**Data analysis:**\n",
    "\n",
    "- The fee increases every year. The most profitable year was 2018. From 2010 to 2013, the amount of fees was minimal, in 2014 a sharp increase began. I think this is due to the collapse of the ruble in 2014, which is growing to this day, which is why the amount of fees has increased.\n",
    "- Nevertheless, the median and average box office figures were the highest in 2017, which we explained by the fact that the price per film in 2017 was higher, and the availability of films was lower, respectively, the median and high. The year 2010-2013 continues to remain with us on the podium in the antitope.\n",
    "- Films that collect the highest fees are limited to 16+. This is not surprising, because this is perhaps the most common restriction for films with an interesting plot for people who have the opportunity to go to the cinema: adults and teenagers. Next come films 12+, 6+ and 18+. The minimum fees belong to films with a 0+ limit.\n",
    "- After analyzing films with state support, we saw that only 332 studios received it - which is only 5% of the total. Non-returned funds were given in larger volumes than returned ones. So most of the films received 20 million rubles, and non-refundable - about 25 million rubles. The maximum support was allocated 180 million rubles of repayable funds and 400 million non-refundable.\n",
    "- Among all the films, there were not so many that paid off - only 83. The rating of such films fluctuates around 5-7 points, however, there are those who deserve up to 9.4 points, but, unfortunately, this is just an outlier"
   ]
  }
 ],
 "metadata": {
  "ExecuteTimeLog": [
   {
    "duration": 2651,
    "start_time": "2022-03-07T14:59:04.595Z"
   },
   {
    "duration": -999,
    "start_time": "2022-03-07T14:59:08.249Z"
   },
   {
    "duration": -1000,
    "start_time": "2022-03-07T14:59:08.251Z"
   },
   {
    "duration": -1000,
    "start_time": "2022-03-07T14:59:08.252Z"
   },
   {
    "duration": -1002,
    "start_time": "2022-03-07T14:59:08.254Z"
   },
   {
    "duration": -1007,
    "start_time": "2022-03-07T14:59:08.260Z"
   },
   {
    "duration": -1007,
    "start_time": "2022-03-07T14:59:08.261Z"
   },
   {
    "duration": -1008,
    "start_time": "2022-03-07T14:59:08.263Z"
   },
   {
    "duration": -1008,
    "start_time": "2022-03-07T14:59:08.264Z"
   },
   {
    "duration": -1009,
    "start_time": "2022-03-07T14:59:08.265Z"
   },
   {
    "duration": -1009,
    "start_time": "2022-03-07T14:59:08.266Z"
   },
   {
    "duration": -1010,
    "start_time": "2022-03-07T14:59:08.268Z"
   },
   {
    "duration": -1010,
    "start_time": "2022-03-07T14:59:08.269Z"
   },
   {
    "duration": -1010,
    "start_time": "2022-03-07T14:59:08.270Z"
   },
   {
    "duration": -1015,
    "start_time": "2022-03-07T14:59:08.276Z"
   },
   {
    "duration": -1015,
    "start_time": "2022-03-07T14:59:08.277Z"
   },
   {
    "duration": -1016,
    "start_time": "2022-03-07T14:59:08.279Z"
   },
   {
    "duration": -1017,
    "start_time": "2022-03-07T14:59:08.280Z"
   },
   {
    "duration": -1017,
    "start_time": "2022-03-07T14:59:08.281Z"
   },
   {
    "duration": -1017,
    "start_time": "2022-03-07T14:59:08.282Z"
   },
   {
    "duration": -1018,
    "start_time": "2022-03-07T14:59:08.284Z"
   },
   {
    "duration": -1018,
    "start_time": "2022-03-07T14:59:08.285Z"
   },
   {
    "duration": -1018,
    "start_time": "2022-03-07T14:59:08.286Z"
   },
   {
    "duration": -1019,
    "start_time": "2022-03-07T14:59:08.288Z"
   },
   {
    "duration": -1023,
    "start_time": "2022-03-07T14:59:08.293Z"
   },
   {
    "duration": -1023,
    "start_time": "2022-03-07T14:59:08.294Z"
   },
   {
    "duration": -1024,
    "start_time": "2022-03-07T14:59:08.295Z"
   },
   {
    "duration": -1024,
    "start_time": "2022-03-07T14:59:08.296Z"
   },
   {
    "duration": -1025,
    "start_time": "2022-03-07T14:59:08.298Z"
   },
   {
    "duration": -1025,
    "start_time": "2022-03-07T14:59:08.299Z"
   },
   {
    "duration": -1025,
    "start_time": "2022-03-07T14:59:08.300Z"
   },
   {
    "duration": -1026,
    "start_time": "2022-03-07T14:59:08.301Z"
   },
   {
    "duration": -1026,
    "start_time": "2022-03-07T14:59:08.302Z"
   },
   {
    "duration": -1027,
    "start_time": "2022-03-07T14:59:08.304Z"
   },
   {
    "duration": -1027,
    "start_time": "2022-03-07T14:59:08.305Z"
   },
   {
    "duration": -1028,
    "start_time": "2022-03-07T14:59:08.306Z"
   },
   {
    "duration": -1029,
    "start_time": "2022-03-07T14:59:08.308Z"
   },
   {
    "duration": -1029,
    "start_time": "2022-03-07T14:59:08.309Z"
   },
   {
    "duration": -1029,
    "start_time": "2022-03-07T14:59:08.310Z"
   },
   {
    "duration": -1030,
    "start_time": "2022-03-07T14:59:08.311Z"
   },
   {
    "duration": -1030,
    "start_time": "2022-03-07T14:59:08.312Z"
   },
   {
    "duration": -1029,
    "start_time": "2022-03-07T14:59:08.313Z"
   },
   {
    "duration": -1030,
    "start_time": "2022-03-07T14:59:08.314Z"
   },
   {
    "duration": -1030,
    "start_time": "2022-03-07T14:59:08.315Z"
   },
   {
    "duration": -1031,
    "start_time": "2022-03-07T14:59:08.317Z"
   },
   {
    "duration": -1031,
    "start_time": "2022-03-07T14:59:08.318Z"
   },
   {
    "duration": -1032,
    "start_time": "2022-03-07T14:59:08.319Z"
   },
   {
    "duration": -1032,
    "start_time": "2022-03-07T14:59:08.320Z"
   },
   {
    "duration": -1020,
    "start_time": "2022-03-07T14:59:08.321Z"
   },
   {
    "duration": -1020,
    "start_time": "2022-03-07T14:59:08.322Z"
   },
   {
    "duration": -1021,
    "start_time": "2022-03-07T14:59:08.324Z"
   },
   {
    "duration": -1021,
    "start_time": "2022-03-07T14:59:08.325Z"
   },
   {
    "duration": -1022,
    "start_time": "2022-03-07T14:59:08.326Z"
   },
   {
    "duration": -1022,
    "start_time": "2022-03-07T14:59:08.327Z"
   },
   {
    "duration": -1022,
    "start_time": "2022-03-07T14:59:08.328Z"
   },
   {
    "duration": -1022,
    "start_time": "2022-03-07T14:59:08.329Z"
   },
   {
    "duration": -1022,
    "start_time": "2022-03-07T14:59:08.330Z"
   },
   {
    "duration": -1023,
    "start_time": "2022-03-07T14:59:08.331Z"
   },
   {
    "duration": -1024,
    "start_time": "2022-03-07T14:59:08.333Z"
   },
   {
    "duration": -1024,
    "start_time": "2022-03-07T14:59:08.334Z"
   },
   {
    "duration": -1025,
    "start_time": "2022-03-07T14:59:08.335Z"
   },
   {
    "duration": -1031,
    "start_time": "2022-03-07T14:59:08.342Z"
   },
   {
    "duration": -1031,
    "start_time": "2022-03-07T14:59:08.343Z"
   },
   {
    "duration": -1031,
    "start_time": "2022-03-07T14:59:08.344Z"
   },
   {
    "duration": -1031,
    "start_time": "2022-03-07T14:59:08.345Z"
   },
   {
    "duration": -1031,
    "start_time": "2022-03-07T14:59:08.346Z"
   },
   {
    "duration": -1032,
    "start_time": "2022-03-07T14:59:08.347Z"
   },
   {
    "duration": -1032,
    "start_time": "2022-03-07T14:59:08.348Z"
   },
   {
    "duration": -1033,
    "start_time": "2022-03-07T14:59:08.350Z"
   },
   {
    "duration": -1033,
    "start_time": "2022-03-07T14:59:08.351Z"
   },
   {
    "duration": 2030,
    "start_time": "2022-03-07T15:04:08.972Z"
   },
   {
    "duration": 328,
    "start_time": "2022-03-07T15:16:53.599Z"
   },
   {
    "duration": -991,
    "start_time": "2022-03-07T15:16:54.921Z"
   },
   {
    "duration": -992,
    "start_time": "2022-03-07T15:16:54.923Z"
   },
   {
    "duration": -1003,
    "start_time": "2022-03-07T15:16:54.935Z"
   },
   {
    "duration": -1005,
    "start_time": "2022-03-07T15:16:54.938Z"
   },
   {
    "duration": -1005,
    "start_time": "2022-03-07T15:16:54.939Z"
   },
   {
    "duration": -1006,
    "start_time": "2022-03-07T15:16:54.941Z"
   },
   {
    "duration": -1005,
    "start_time": "2022-03-07T15:16:54.942Z"
   },
   {
    "duration": -1005,
    "start_time": "2022-03-07T15:16:54.943Z"
   },
   {
    "duration": -1009,
    "start_time": "2022-03-07T15:16:54.947Z"
   },
   {
    "duration": -1010,
    "start_time": "2022-03-07T15:16:54.949Z"
   },
   {
    "duration": -1010,
    "start_time": "2022-03-07T15:16:54.950Z"
   },
   {
    "duration": -1010,
    "start_time": "2022-03-07T15:16:54.951Z"
   },
   {
    "duration": -1010,
    "start_time": "2022-03-07T15:16:54.952Z"
   },
   {
    "duration": -1011,
    "start_time": "2022-03-07T15:16:54.954Z"
   },
   {
    "duration": -1011,
    "start_time": "2022-03-07T15:16:54.955Z"
   },
   {
    "duration": -1012,
    "start_time": "2022-03-07T15:16:54.957Z"
   },
   {
    "duration": -1013,
    "start_time": "2022-03-07T15:16:54.958Z"
   },
   {
    "duration": -1013,
    "start_time": "2022-03-07T15:16:54.959Z"
   },
   {
    "duration": -1013,
    "start_time": "2022-03-07T15:16:54.960Z"
   },
   {
    "duration": -1014,
    "start_time": "2022-03-07T15:16:54.961Z"
   },
   {
    "duration": -1014,
    "start_time": "2022-03-07T15:16:54.962Z"
   },
   {
    "duration": -1015,
    "start_time": "2022-03-07T15:16:54.964Z"
   },
   {
    "duration": -1015,
    "start_time": "2022-03-07T15:16:54.965Z"
   },
   {
    "duration": -1020,
    "start_time": "2022-03-07T15:16:54.971Z"
   },
   {
    "duration": -1020,
    "start_time": "2022-03-07T15:16:54.972Z"
   },
   {
    "duration": -1021,
    "start_time": "2022-03-07T15:16:54.973Z"
   },
   {
    "duration": -1022,
    "start_time": "2022-03-07T15:16:54.975Z"
   },
   {
    "duration": -1022,
    "start_time": "2022-03-07T15:16:54.976Z"
   },
   {
    "duration": -1022,
    "start_time": "2022-03-07T15:16:54.977Z"
   },
   {
    "duration": -1022,
    "start_time": "2022-03-07T15:16:54.978Z"
   },
   {
    "duration": -1030,
    "start_time": "2022-03-07T15:16:54.987Z"
   },
   {
    "duration": -1033,
    "start_time": "2022-03-07T15:16:54.991Z"
   },
   {
    "duration": -1034,
    "start_time": "2022-03-07T15:16:54.993Z"
   },
   {
    "duration": -1033,
    "start_time": "2022-03-07T15:16:54.994Z"
   },
   {
    "duration": -1033,
    "start_time": "2022-03-07T15:16:54.995Z"
   },
   {
    "duration": -1033,
    "start_time": "2022-03-07T15:16:54.996Z"
   },
   {
    "duration": -1034,
    "start_time": "2022-03-07T15:16:54.997Z"
   },
   {
    "duration": -1035,
    "start_time": "2022-03-07T15:16:54.999Z"
   },
   {
    "duration": -1035,
    "start_time": "2022-03-07T15:16:55.000Z"
   },
   {
    "duration": -1000,
    "start_time": "2022-03-07T15:16:55.001Z"
   },
   {
    "duration": -1000,
    "start_time": "2022-03-07T15:16:55.002Z"
   },
   {
    "duration": -1000,
    "start_time": "2022-03-07T15:16:55.003Z"
   },
   {
    "duration": -1006,
    "start_time": "2022-03-07T15:16:55.010Z"
   },
   {
    "duration": -1008,
    "start_time": "2022-03-07T15:16:55.012Z"
   },
   {
    "duration": -1008,
    "start_time": "2022-03-07T15:16:55.013Z"
   },
   {
    "duration": -1008,
    "start_time": "2022-03-07T15:16:55.014Z"
   },
   {
    "duration": -1008,
    "start_time": "2022-03-07T15:16:55.015Z"
   },
   {
    "duration": -1009,
    "start_time": "2022-03-07T15:16:55.017Z"
   },
   {
    "duration": -1010,
    "start_time": "2022-03-07T15:16:55.018Z"
   },
   {
    "duration": -1009,
    "start_time": "2022-03-07T15:16:55.019Z"
   },
   {
    "duration": -1010,
    "start_time": "2022-03-07T15:16:55.020Z"
   },
   {
    "duration": -1010,
    "start_time": "2022-03-07T15:16:55.021Z"
   },
   {
    "duration": -1010,
    "start_time": "2022-03-07T15:16:55.022Z"
   },
   {
    "duration": -1010,
    "start_time": "2022-03-07T15:16:55.023Z"
   },
   {
    "duration": -1011,
    "start_time": "2022-03-07T15:16:55.025Z"
   },
   {
    "duration": -1020,
    "start_time": "2022-03-07T15:16:55.035Z"
   },
   {
    "duration": -1020,
    "start_time": "2022-03-07T15:16:55.036Z"
   },
   {
    "duration": -1021,
    "start_time": "2022-03-07T15:16:55.038Z"
   },
   {
    "duration": -1021,
    "start_time": "2022-03-07T15:16:55.039Z"
   },
   {
    "duration": -1024,
    "start_time": "2022-03-07T15:16:55.042Z"
   },
   {
    "duration": -1024,
    "start_time": "2022-03-07T15:16:55.043Z"
   },
   {
    "duration": -1024,
    "start_time": "2022-03-07T15:16:55.044Z"
   },
   {
    "duration": -1024,
    "start_time": "2022-03-07T15:16:55.045Z"
   },
   {
    "duration": -1026,
    "start_time": "2022-03-07T15:16:55.048Z"
   },
   {
    "duration": -1026,
    "start_time": "2022-03-07T15:16:55.049Z"
   },
   {
    "duration": -1026,
    "start_time": "2022-03-07T15:16:55.050Z"
   },
   {
    "duration": -1026,
    "start_time": "2022-03-07T15:16:55.051Z"
   },
   {
    "duration": 140,
    "start_time": "2022-03-07T15:17:19.428Z"
   },
   {
    "duration": 280,
    "start_time": "2022-03-07T15:17:23.801Z"
   },
   {
    "duration": -997,
    "start_time": "2022-03-07T15:17:25.082Z"
   },
   {
    "duration": -998,
    "start_time": "2022-03-07T15:17:25.084Z"
   },
   {
    "duration": -997,
    "start_time": "2022-03-07T15:17:25.085Z"
   },
   {
    "duration": -998,
    "start_time": "2022-03-07T15:17:25.087Z"
   },
   {
    "duration": -998,
    "start_time": "2022-03-07T15:17:25.088Z"
   },
   {
    "duration": -997,
    "start_time": "2022-03-07T15:17:25.089Z"
   },
   {
    "duration": -998,
    "start_time": "2022-03-07T15:17:25.091Z"
   },
   {
    "duration": -1002,
    "start_time": "2022-03-07T15:17:25.096Z"
   },
   {
    "duration": -1003,
    "start_time": "2022-03-07T15:17:25.098Z"
   },
   {
    "duration": -1003,
    "start_time": "2022-03-07T15:17:25.099Z"
   },
   {
    "duration": -1002,
    "start_time": "2022-03-07T15:17:25.100Z"
   },
   {
    "duration": -1002,
    "start_time": "2022-03-07T15:17:25.101Z"
   },
   {
    "duration": -1003,
    "start_time": "2022-03-07T15:17:25.103Z"
   },
   {
    "duration": -1003,
    "start_time": "2022-03-07T15:17:25.104Z"
   },
   {
    "duration": -1002,
    "start_time": "2022-03-07T15:17:25.105Z"
   },
   {
    "duration": -1002,
    "start_time": "2022-03-07T15:17:25.106Z"
   },
   {
    "duration": -1002,
    "start_time": "2022-03-07T15:17:25.107Z"
   },
   {
    "duration": -1007,
    "start_time": "2022-03-07T15:17:25.113Z"
   },
   {
    "duration": -1007,
    "start_time": "2022-03-07T15:17:25.114Z"
   },
   {
    "duration": -1006,
    "start_time": "2022-03-07T15:17:25.115Z"
   },
   {
    "duration": -1006,
    "start_time": "2022-03-07T15:17:25.116Z"
   },
   {
    "duration": -1007,
    "start_time": "2022-03-07T15:17:25.118Z"
   },
   {
    "duration": -1007,
    "start_time": "2022-03-07T15:17:25.119Z"
   },
   {
    "duration": -1006,
    "start_time": "2022-03-07T15:17:25.120Z"
   },
   {
    "duration": -1006,
    "start_time": "2022-03-07T15:17:25.121Z"
   },
   {
    "duration": -1006,
    "start_time": "2022-03-07T15:17:25.122Z"
   },
   {
    "duration": -1006,
    "start_time": "2022-03-07T15:17:25.123Z"
   },
   {
    "duration": -1006,
    "start_time": "2022-03-07T15:17:25.125Z"
   },
   {
    "duration": -1010,
    "start_time": "2022-03-07T15:17:25.130Z"
   },
   {
    "duration": -1010,
    "start_time": "2022-03-07T15:17:25.131Z"
   },
   {
    "duration": -1010,
    "start_time": "2022-03-07T15:17:25.132Z"
   },
   {
    "duration": -1010,
    "start_time": "2022-03-07T15:17:25.133Z"
   },
   {
    "duration": -1009,
    "start_time": "2022-03-07T15:17:25.134Z"
   },
   {
    "duration": -1009,
    "start_time": "2022-03-07T15:17:25.135Z"
   },
   {
    "duration": -1009,
    "start_time": "2022-03-07T15:17:25.136Z"
   },
   {
    "duration": -1060,
    "start_time": "2022-03-07T15:17:25.188Z"
   },
   {
    "duration": -1084,
    "start_time": "2022-03-07T15:17:25.214Z"
   },
   {
    "duration": -1084,
    "start_time": "2022-03-07T15:17:25.215Z"
   },
   {
    "duration": -1084,
    "start_time": "2022-03-07T15:17:25.216Z"
   },
   {
    "duration": -1127,
    "start_time": "2022-03-07T15:17:25.260Z"
   },
   {
    "duration": -1127,
    "start_time": "2022-03-07T15:17:25.261Z"
   },
   {
    "duration": -1127,
    "start_time": "2022-03-07T15:17:25.262Z"
   },
   {
    "duration": -1128,
    "start_time": "2022-03-07T15:17:25.264Z"
   },
   {
    "duration": -1128,
    "start_time": "2022-03-07T15:17:25.265Z"
   },
   {
    "duration": -1129,
    "start_time": "2022-03-07T15:17:25.266Z"
   },
   {
    "duration": -1129,
    "start_time": "2022-03-07T15:17:25.267Z"
   },
   {
    "duration": -1129,
    "start_time": "2022-03-07T15:17:25.268Z"
   },
   {
    "duration": -1132,
    "start_time": "2022-03-07T15:17:25.273Z"
   },
   {
    "duration": -1134,
    "start_time": "2022-03-07T15:17:25.275Z"
   },
   {
    "duration": -1150,
    "start_time": "2022-03-07T15:17:25.292Z"
   },
   {
    "duration": -1150,
    "start_time": "2022-03-07T15:17:25.293Z"
   },
   {
    "duration": -1151,
    "start_time": "2022-03-07T15:17:25.295Z"
   },
   {
    "duration": -1096,
    "start_time": "2022-03-07T15:17:25.296Z"
   },
   {
    "duration": -1096,
    "start_time": "2022-03-07T15:17:25.297Z"
   },
   {
    "duration": -1096,
    "start_time": "2022-03-07T15:17:25.298Z"
   },
   {
    "duration": -1096,
    "start_time": "2022-03-07T15:17:25.299Z"
   },
   {
    "duration": -1096,
    "start_time": "2022-03-07T15:17:25.300Z"
   },
   {
    "duration": -1096,
    "start_time": "2022-03-07T15:17:25.301Z"
   },
   {
    "duration": -1097,
    "start_time": "2022-03-07T15:17:25.303Z"
   },
   {
    "duration": -1098,
    "start_time": "2022-03-07T15:17:25.304Z"
   },
   {
    "duration": -1101,
    "start_time": "2022-03-07T15:17:25.308Z"
   },
   {
    "duration": -1109,
    "start_time": "2022-03-07T15:17:25.317Z"
   },
   {
    "duration": -1118,
    "start_time": "2022-03-07T15:17:25.327Z"
   },
   {
    "duration": -1118,
    "start_time": "2022-03-07T15:17:25.328Z"
   },
   {
    "duration": -1118,
    "start_time": "2022-03-07T15:17:25.329Z"
   },
   {
    "duration": -1119,
    "start_time": "2022-03-07T15:17:25.330Z"
   },
   {
    "duration": -1119,
    "start_time": "2022-03-07T15:17:25.331Z"
   },
   {
    "duration": 299,
    "start_time": "2022-03-07T15:18:43.079Z"
   },
   {
    "duration": -997,
    "start_time": "2022-03-07T15:18:44.378Z"
   },
   {
    "duration": -998,
    "start_time": "2022-03-07T15:18:44.380Z"
   },
   {
    "duration": -998,
    "start_time": "2022-03-07T15:18:44.381Z"
   },
   {
    "duration": -999,
    "start_time": "2022-03-07T15:18:44.383Z"
   },
   {
    "duration": -999,
    "start_time": "2022-03-07T15:18:44.384Z"
   },
   {
    "duration": -999,
    "start_time": "2022-03-07T15:18:44.385Z"
   },
   {
    "duration": -1000,
    "start_time": "2022-03-07T15:18:44.387Z"
   },
   {
    "duration": -1001,
    "start_time": "2022-03-07T15:18:44.389Z"
   },
   {
    "duration": -1001,
    "start_time": "2022-03-07T15:18:44.390Z"
   },
   {
    "duration": -1001,
    "start_time": "2022-03-07T15:18:44.391Z"
   },
   {
    "duration": -1001,
    "start_time": "2022-03-07T15:18:44.392Z"
   },
   {
    "duration": -1001,
    "start_time": "2022-03-07T15:18:44.393Z"
   },
   {
    "duration": -1002,
    "start_time": "2022-03-07T15:18:44.395Z"
   },
   {
    "duration": -1002,
    "start_time": "2022-03-07T15:18:44.396Z"
   },
   {
    "duration": -1002,
    "start_time": "2022-03-07T15:18:44.397Z"
   },
   {
    "duration": -1002,
    "start_time": "2022-03-07T15:18:44.398Z"
   },
   {
    "duration": -1007,
    "start_time": "2022-03-07T15:18:44.404Z"
   },
   {
    "duration": -1008,
    "start_time": "2022-03-07T15:18:44.406Z"
   },
   {
    "duration": -1008,
    "start_time": "2022-03-07T15:18:44.407Z"
   },
   {
    "duration": -1008,
    "start_time": "2022-03-07T15:18:44.408Z"
   },
   {
    "duration": -1008,
    "start_time": "2022-03-07T15:18:44.409Z"
   },
   {
    "duration": -1008,
    "start_time": "2022-03-07T15:18:44.410Z"
   },
   {
    "duration": -1008,
    "start_time": "2022-03-07T15:18:44.411Z"
   },
   {
    "duration": -1008,
    "start_time": "2022-03-07T15:18:44.412Z"
   },
   {
    "duration": -1010,
    "start_time": "2022-03-07T15:18:44.414Z"
   },
   {
    "duration": -1010,
    "start_time": "2022-03-07T15:18:44.415Z"
   },
   {
    "duration": -1010,
    "start_time": "2022-03-07T15:18:44.416Z"
   },
   {
    "duration": -1010,
    "start_time": "2022-03-07T15:18:44.417Z"
   },
   {
    "duration": -1011,
    "start_time": "2022-03-07T15:18:44.418Z"
   },
   {
    "duration": -1012,
    "start_time": "2022-03-07T15:18:44.420Z"
   },
   {
    "duration": -1012,
    "start_time": "2022-03-07T15:18:44.421Z"
   },
   {
    "duration": -1012,
    "start_time": "2022-03-07T15:18:44.422Z"
   },
   {
    "duration": -1012,
    "start_time": "2022-03-07T15:18:44.423Z"
   },
   {
    "duration": -1012,
    "start_time": "2022-03-07T15:18:44.424Z"
   },
   {
    "duration": -1012,
    "start_time": "2022-03-07T15:18:44.425Z"
   },
   {
    "duration": -1014,
    "start_time": "2022-03-07T15:18:44.427Z"
   },
   {
    "duration": -1014,
    "start_time": "2022-03-07T15:18:44.428Z"
   },
   {
    "duration": -1014,
    "start_time": "2022-03-07T15:18:44.429Z"
   },
   {
    "duration": -1014,
    "start_time": "2022-03-07T15:18:44.430Z"
   },
   {
    "duration": -1014,
    "start_time": "2022-03-07T15:18:44.431Z"
   },
   {
    "duration": -1014,
    "start_time": "2022-03-07T15:18:44.432Z"
   },
   {
    "duration": -1021,
    "start_time": "2022-03-07T15:18:44.439Z"
   },
   {
    "duration": -1021,
    "start_time": "2022-03-07T15:18:44.440Z"
   },
   {
    "duration": -1021,
    "start_time": "2022-03-07T15:18:44.441Z"
   },
   {
    "duration": -1021,
    "start_time": "2022-03-07T15:18:44.442Z"
   },
   {
    "duration": -1022,
    "start_time": "2022-03-07T15:18:44.444Z"
   },
   {
    "duration": -1078,
    "start_time": "2022-03-07T15:18:44.501Z"
   },
   {
    "duration": -1115,
    "start_time": "2022-03-07T15:18:44.538Z"
   },
   {
    "duration": -1132,
    "start_time": "2022-03-07T15:18:44.556Z"
   },
   {
    "duration": -1132,
    "start_time": "2022-03-07T15:18:44.557Z"
   },
   {
    "duration": -1132,
    "start_time": "2022-03-07T15:18:44.558Z"
   },
   {
    "duration": -1132,
    "start_time": "2022-03-07T15:18:44.559Z"
   },
   {
    "duration": -1134,
    "start_time": "2022-03-07T15:18:44.561Z"
   },
   {
    "duration": -1134,
    "start_time": "2022-03-07T15:18:44.562Z"
   },
   {
    "duration": -1134,
    "start_time": "2022-03-07T15:18:44.563Z"
   },
   {
    "duration": -1134,
    "start_time": "2022-03-07T15:18:44.564Z"
   },
   {
    "duration": -1134,
    "start_time": "2022-03-07T15:18:44.565Z"
   },
   {
    "duration": -1135,
    "start_time": "2022-03-07T15:18:44.566Z"
   },
   {
    "duration": -1135,
    "start_time": "2022-03-07T15:18:44.567Z"
   },
   {
    "duration": -1136,
    "start_time": "2022-03-07T15:18:44.569Z"
   },
   {
    "duration": -1136,
    "start_time": "2022-03-07T15:18:44.570Z"
   },
   {
    "duration": -1156,
    "start_time": "2022-03-07T15:18:44.590Z"
   },
   {
    "duration": -1165,
    "start_time": "2022-03-07T15:18:44.600Z"
   },
   {
    "duration": -1165,
    "start_time": "2022-03-07T15:18:44.601Z"
   },
   {
    "duration": -1165,
    "start_time": "2022-03-07T15:18:44.602Z"
   },
   {
    "duration": -1165,
    "start_time": "2022-03-07T15:18:44.603Z"
   },
   {
    "duration": -1166,
    "start_time": "2022-03-07T15:18:44.604Z"
   },
   {
    "duration": 133,
    "start_time": "2022-03-07T15:19:41.571Z"
   },
   {
    "duration": 10,
    "start_time": "2022-03-07T15:19:45.305Z"
   },
   {
    "duration": 4,
    "start_time": "2022-03-07T15:19:45.317Z"
   },
   {
    "duration": 14,
    "start_time": "2022-03-07T15:19:45.323Z"
   },
   {
    "duration": 19,
    "start_time": "2022-03-07T15:19:45.339Z"
   },
   {
    "duration": 21,
    "start_time": "2022-03-07T15:19:45.401Z"
   },
   {
    "duration": 9,
    "start_time": "2022-03-07T15:19:45.423Z"
   },
   {
    "duration": 23,
    "start_time": "2022-03-07T15:19:45.433Z"
   },
   {
    "duration": 5,
    "start_time": "2022-03-07T15:19:45.457Z"
   },
   {
    "duration": 36,
    "start_time": "2022-03-07T15:19:45.465Z"
   },
   {
    "duration": 17,
    "start_time": "2022-03-07T15:19:45.503Z"
   },
   {
    "duration": 3,
    "start_time": "2022-03-07T15:19:45.522Z"
   },
   {
    "duration": 7,
    "start_time": "2022-03-07T15:19:45.527Z"
   },
   {
    "duration": 4,
    "start_time": "2022-03-07T15:19:45.535Z"
   },
   {
    "duration": 8,
    "start_time": "2022-03-07T15:19:45.540Z"
   },
   {
    "duration": 8,
    "start_time": "2022-03-07T15:19:45.550Z"
   },
   {
    "duration": 9,
    "start_time": "2022-03-07T15:19:45.560Z"
   },
   {
    "duration": 33,
    "start_time": "2022-03-07T15:19:45.571Z"
   },
   {
    "duration": 6,
    "start_time": "2022-03-07T15:19:45.605Z"
   },
   {
    "duration": 7,
    "start_time": "2022-03-07T15:19:45.613Z"
   },
   {
    "duration": 11,
    "start_time": "2022-03-07T15:19:45.622Z"
   },
   {
    "duration": 6,
    "start_time": "2022-03-07T15:19:45.635Z"
   },
   {
    "duration": 13,
    "start_time": "2022-03-07T15:19:45.643Z"
   },
   {
    "duration": 7,
    "start_time": "2022-03-07T15:19:45.657Z"
   },
   {
    "duration": 35,
    "start_time": "2022-03-07T15:19:45.666Z"
   },
   {
    "duration": 9,
    "start_time": "2022-03-07T15:19:45.702Z"
   },
   {
    "duration": 14,
    "start_time": "2022-03-07T15:19:45.713Z"
   },
   {
    "duration": 7,
    "start_time": "2022-03-07T15:19:45.731Z"
   },
   {
    "duration": 16,
    "start_time": "2022-03-07T15:19:45.740Z"
   },
   {
    "duration": 12,
    "start_time": "2022-03-07T15:19:45.757Z"
   },
   {
    "duration": 37,
    "start_time": "2022-03-07T15:19:45.771Z"
   },
   {
    "duration": 16,
    "start_time": "2022-03-07T15:19:45.809Z"
   },
   {
    "duration": 8,
    "start_time": "2022-03-07T15:19:45.826Z"
   },
   {
    "duration": 15,
    "start_time": "2022-03-07T15:19:45.835Z"
   },
   {
    "duration": 8,
    "start_time": "2022-03-07T15:19:45.851Z"
   },
   {
    "duration": 13,
    "start_time": "2022-03-07T15:19:45.860Z"
   },
   {
    "duration": 38,
    "start_time": "2022-03-07T15:19:45.875Z"
   },
   {
    "duration": 14,
    "start_time": "2022-03-07T15:19:45.915Z"
   },
   {
    "duration": 18,
    "start_time": "2022-03-07T15:19:45.930Z"
   },
   {
    "duration": 6,
    "start_time": "2022-03-07T15:19:45.949Z"
   },
   {
    "duration": 7,
    "start_time": "2022-03-07T15:19:45.956Z"
   },
   {
    "duration": 40,
    "start_time": "2022-03-07T15:19:45.964Z"
   },
   {
    "duration": 24,
    "start_time": "2022-03-07T15:19:46.005Z"
   },
   {
    "duration": 17,
    "start_time": "2022-03-07T15:19:46.030Z"
   },
   {
    "duration": 10,
    "start_time": "2022-03-07T15:19:46.049Z"
   },
   {
    "duration": 5,
    "start_time": "2022-03-07T15:19:46.060Z"
   },
   {
    "duration": 203,
    "start_time": "2022-03-07T15:19:46.067Z"
   },
   {
    "duration": 340,
    "start_time": "2022-03-07T15:19:46.272Z"
   },
   {
    "duration": 181,
    "start_time": "2022-03-07T15:19:46.613Z"
   },
   {
    "duration": 7,
    "start_time": "2022-03-07T15:19:46.796Z"
   },
   {
    "duration": 15,
    "start_time": "2022-03-07T15:19:46.804Z"
   },
   {
    "duration": 210,
    "start_time": "2022-03-07T15:19:46.820Z"
   },
   {
    "duration": 11,
    "start_time": "2022-03-07T15:19:47.032Z"
   },
   {
    "duration": 177,
    "start_time": "2022-03-07T15:19:47.045Z"
   },
   {
    "duration": 7,
    "start_time": "2022-03-07T15:19:47.223Z"
   },
   {
    "duration": 17,
    "start_time": "2022-03-07T15:19:47.232Z"
   },
   {
    "duration": 286,
    "start_time": "2022-03-07T15:19:47.250Z"
   },
   {
    "duration": 15,
    "start_time": "2022-03-07T15:19:47.538Z"
   },
   {
    "duration": 26,
    "start_time": "2022-03-07T15:19:47.554Z"
   },
   {
    "duration": 7,
    "start_time": "2022-03-07T15:19:47.581Z"
   },
   {
    "duration": 136,
    "start_time": "2022-03-07T15:19:47.589Z"
   },
   {
    "duration": 201,
    "start_time": "2022-03-07T15:19:47.726Z"
   },
   {
    "duration": 6,
    "start_time": "2022-03-07T15:19:47.929Z"
   },
   {
    "duration": 128,
    "start_time": "2022-03-07T15:19:47.937Z"
   },
   {
    "duration": 206,
    "start_time": "2022-03-07T15:19:48.067Z"
   },
   {
    "duration": 36,
    "start_time": "2022-03-07T15:19:48.275Z"
   },
   {
    "duration": 268,
    "start_time": "2022-03-07T15:19:48.312Z"
   },
   {
    "duration": 20,
    "start_time": "2022-03-07T15:19:48.582Z"
   },
   {
    "duration": 122,
    "start_time": "2022-03-07T15:19:48.603Z"
   },
   {
    "duration": 296,
    "start_time": "2022-03-07T19:29:30.302Z"
   },
   {
    "duration": 4,
    "start_time": "2022-03-07T19:29:34.842Z"
   },
   {
    "duration": 18,
    "start_time": "2022-03-07T22:37:24.557Z"
   },
   {
    "duration": 185,
    "start_time": "2022-03-07T22:37:44.320Z"
   },
   {
    "duration": 176,
    "start_time": "2022-03-07T22:51:14.661Z"
   },
   {
    "duration": 221,
    "start_time": "2022-03-07T22:56:29.015Z"
   },
   {
    "duration": 150,
    "start_time": "2022-03-07T22:57:05.160Z"
   },
   {
    "duration": 145,
    "start_time": "2022-03-07T22:57:10.247Z"
   },
   {
    "duration": 140,
    "start_time": "2022-03-07T22:57:15.833Z"
   },
   {
    "duration": 173,
    "start_time": "2022-03-07T22:58:24.066Z"
   },
   {
    "duration": 186,
    "start_time": "2022-03-07T23:06:29.666Z"
   },
   {
    "duration": 193,
    "start_time": "2022-03-07T23:06:35.144Z"
   },
   {
    "duration": 3354,
    "start_time": "2022-03-07T23:41:09.789Z"
   },
   {
    "duration": -492,
    "start_time": "2022-03-07T23:41:13.639Z"
   },
   {
    "duration": -494,
    "start_time": "2022-03-07T23:41:13.642Z"
   },
   {
    "duration": -496,
    "start_time": "2022-03-07T23:41:13.645Z"
   },
   {
    "duration": -497,
    "start_time": "2022-03-07T23:41:13.648Z"
   },
   {
    "duration": -497,
    "start_time": "2022-03-07T23:41:13.649Z"
   },
   {
    "duration": -498,
    "start_time": "2022-03-07T23:41:13.651Z"
   },
   {
    "duration": -500,
    "start_time": "2022-03-07T23:41:13.653Z"
   },
   {
    "duration": -499,
    "start_time": "2022-03-07T23:41:13.654Z"
   },
   {
    "duration": -499,
    "start_time": "2022-03-07T23:41:13.655Z"
   },
   {
    "duration": -500,
    "start_time": "2022-03-07T23:41:13.657Z"
   },
   {
    "duration": -500,
    "start_time": "2022-03-07T23:41:13.658Z"
   },
   {
    "duration": -500,
    "start_time": "2022-03-07T23:41:13.659Z"
   },
   {
    "duration": -501,
    "start_time": "2022-03-07T23:41:13.661Z"
   },
   {
    "duration": -502,
    "start_time": "2022-03-07T23:41:13.663Z"
   },
   {
    "duration": -507,
    "start_time": "2022-03-07T23:41:13.669Z"
   },
   {
    "duration": -507,
    "start_time": "2022-03-07T23:41:13.670Z"
   },
   {
    "duration": -508,
    "start_time": "2022-03-07T23:41:13.672Z"
   },
   {
    "duration": -508,
    "start_time": "2022-03-07T23:41:13.673Z"
   },
   {
    "duration": -509,
    "start_time": "2022-03-07T23:41:13.675Z"
   },
   {
    "duration": -510,
    "start_time": "2022-03-07T23:41:13.676Z"
   },
   {
    "duration": -510,
    "start_time": "2022-03-07T23:41:13.677Z"
   },
   {
    "duration": -511,
    "start_time": "2022-03-07T23:41:13.679Z"
   },
   {
    "duration": -511,
    "start_time": "2022-03-07T23:41:13.680Z"
   },
   {
    "duration": -512,
    "start_time": "2022-03-07T23:41:13.682Z"
   },
   {
    "duration": -512,
    "start_time": "2022-03-07T23:41:13.683Z"
   },
   {
    "duration": -513,
    "start_time": "2022-03-07T23:41:13.685Z"
   },
   {
    "duration": -513,
    "start_time": "2022-03-07T23:41:13.686Z"
   },
   {
    "duration": -513,
    "start_time": "2022-03-07T23:41:13.687Z"
   },
   {
    "duration": -514,
    "start_time": "2022-03-07T23:41:13.689Z"
   },
   {
    "duration": -514,
    "start_time": "2022-03-07T23:41:13.690Z"
   },
   {
    "duration": -515,
    "start_time": "2022-03-07T23:41:13.692Z"
   },
   {
    "duration": -515,
    "start_time": "2022-03-07T23:41:13.693Z"
   },
   {
    "duration": -515,
    "start_time": "2022-03-07T23:41:13.694Z"
   },
   {
    "duration": -516,
    "start_time": "2022-03-07T23:41:13.696Z"
   },
   {
    "duration": -516,
    "start_time": "2022-03-07T23:41:13.697Z"
   },
   {
    "duration": -517,
    "start_time": "2022-03-07T23:41:13.699Z"
   },
   {
    "duration": -518,
    "start_time": "2022-03-07T23:41:13.701Z"
   },
   {
    "duration": -519,
    "start_time": "2022-03-07T23:41:13.702Z"
   },
   {
    "duration": -520,
    "start_time": "2022-03-07T23:41:13.704Z"
   },
   {
    "duration": -520,
    "start_time": "2022-03-07T23:41:13.705Z"
   },
   {
    "duration": -521,
    "start_time": "2022-03-07T23:41:13.706Z"
   },
   {
    "duration": -521,
    "start_time": "2022-03-07T23:41:13.707Z"
   },
   {
    "duration": -523,
    "start_time": "2022-03-07T23:41:13.709Z"
   },
   {
    "duration": -523,
    "start_time": "2022-03-07T23:41:13.710Z"
   },
   {
    "duration": -524,
    "start_time": "2022-03-07T23:41:13.712Z"
   },
   {
    "duration": -513,
    "start_time": "2022-03-07T23:41:13.713Z"
   },
   {
    "duration": -519,
    "start_time": "2022-03-07T23:41:13.720Z"
   },
   {
    "duration": -519,
    "start_time": "2022-03-07T23:41:13.721Z"
   },
   {
    "duration": -520,
    "start_time": "2022-03-07T23:41:13.723Z"
   },
   {
    "duration": -520,
    "start_time": "2022-03-07T23:41:13.724Z"
   },
   {
    "duration": -521,
    "start_time": "2022-03-07T23:41:13.726Z"
   },
   {
    "duration": -522,
    "start_time": "2022-03-07T23:41:13.727Z"
   },
   {
    "duration": -521,
    "start_time": "2022-03-07T23:41:13.728Z"
   },
   {
    "duration": -522,
    "start_time": "2022-03-07T23:41:13.730Z"
   },
   {
    "duration": -522,
    "start_time": "2022-03-07T23:41:13.731Z"
   },
   {
    "duration": -522,
    "start_time": "2022-03-07T23:41:13.732Z"
   },
   {
    "duration": -524,
    "start_time": "2022-03-07T23:41:13.734Z"
   },
   {
    "duration": -524,
    "start_time": "2022-03-07T23:41:13.735Z"
   },
   {
    "duration": -522,
    "start_time": "2022-03-07T23:41:13.736Z"
   },
   {
    "duration": -524,
    "start_time": "2022-03-07T23:41:13.738Z"
   },
   {
    "duration": -524,
    "start_time": "2022-03-07T23:41:13.739Z"
   },
   {
    "duration": -524,
    "start_time": "2022-03-07T23:41:13.740Z"
   },
   {
    "duration": -525,
    "start_time": "2022-03-07T23:41:13.742Z"
   },
   {
    "duration": -525,
    "start_time": "2022-03-07T23:41:13.743Z"
   },
   {
    "duration": -526,
    "start_time": "2022-03-07T23:41:13.745Z"
   },
   {
    "duration": -527,
    "start_time": "2022-03-07T23:41:13.746Z"
   },
   {
    "duration": -527,
    "start_time": "2022-03-07T23:41:13.747Z"
   },
   {
    "duration": -528,
    "start_time": "2022-03-07T23:41:13.749Z"
   },
   {
    "duration": -528,
    "start_time": "2022-03-07T23:41:13.750Z"
   },
   {
    "duration": -528,
    "start_time": "2022-03-07T23:41:13.751Z"
   },
   {
    "duration": 1944,
    "start_time": "2022-03-07T23:41:17.458Z"
   },
   {
    "duration": 103,
    "start_time": "2022-03-07T23:41:24.791Z"
   },
   {
    "duration": 10,
    "start_time": "2022-03-07T23:41:24.896Z"
   },
   {
    "duration": 4,
    "start_time": "2022-03-07T23:41:24.908Z"
   },
   {
    "duration": 14,
    "start_time": "2022-03-07T23:41:24.914Z"
   },
   {
    "duration": 14,
    "start_time": "2022-03-07T23:41:24.930Z"
   },
   {
    "duration": 19,
    "start_time": "2022-03-07T23:41:24.945Z"
   },
   {
    "duration": 36,
    "start_time": "2022-03-07T23:41:24.965Z"
   },
   {
    "duration": 21,
    "start_time": "2022-03-07T23:41:25.002Z"
   },
   {
    "duration": 5,
    "start_time": "2022-03-07T23:41:25.025Z"
   },
   {
    "duration": 9,
    "start_time": "2022-03-07T23:41:25.031Z"
   },
   {
    "duration": 16,
    "start_time": "2022-03-07T23:41:25.042Z"
   },
   {
    "duration": 3,
    "start_time": "2022-03-07T23:41:25.059Z"
   },
   {
    "duration": 38,
    "start_time": "2022-03-07T23:41:25.064Z"
   },
   {
    "duration": 3,
    "start_time": "2022-03-07T23:41:25.103Z"
   },
   {
    "duration": 5,
    "start_time": "2022-03-07T23:41:25.108Z"
   },
   {
    "duration": 10,
    "start_time": "2022-03-07T23:41:25.114Z"
   },
   {
    "duration": 8,
    "start_time": "2022-03-07T23:41:25.125Z"
   },
   {
    "duration": 7,
    "start_time": "2022-03-07T23:41:25.135Z"
   },
   {
    "duration": 9,
    "start_time": "2022-03-07T23:41:25.144Z"
   },
   {
    "duration": 10,
    "start_time": "2022-03-07T23:41:25.154Z"
   },
   {
    "duration": 11,
    "start_time": "2022-03-07T23:41:25.166Z"
   },
   {
    "duration": 9,
    "start_time": "2022-03-07T23:41:25.178Z"
   },
   {
    "duration": 17,
    "start_time": "2022-03-07T23:41:25.188Z"
   },
   {
    "duration": 4,
    "start_time": "2022-03-07T23:41:25.206Z"
   },
   {
    "duration": 17,
    "start_time": "2022-03-07T23:41:25.212Z"
   },
   {
    "duration": 13,
    "start_time": "2022-03-07T23:41:25.230Z"
   },
   {
    "duration": 16,
    "start_time": "2022-03-07T23:41:25.247Z"
   },
   {
    "duration": 7,
    "start_time": "2022-03-07T23:41:25.265Z"
   },
   {
    "duration": 35,
    "start_time": "2022-03-07T23:41:25.273Z"
   },
   {
    "duration": 13,
    "start_time": "2022-03-07T23:41:25.310Z"
   },
   {
    "duration": 8,
    "start_time": "2022-03-07T23:41:25.325Z"
   },
   {
    "duration": 17,
    "start_time": "2022-03-07T23:41:25.335Z"
   },
   {
    "duration": 8,
    "start_time": "2022-03-07T23:41:25.353Z"
   },
   {
    "duration": 39,
    "start_time": "2022-03-07T23:41:25.363Z"
   },
   {
    "duration": 4,
    "start_time": "2022-03-07T23:41:25.403Z"
   },
   {
    "duration": 15,
    "start_time": "2022-03-07T23:41:25.409Z"
   },
   {
    "duration": 15,
    "start_time": "2022-03-07T23:41:25.426Z"
   },
   {
    "duration": 15,
    "start_time": "2022-03-07T23:41:25.443Z"
   },
   {
    "duration": 23,
    "start_time": "2022-03-07T23:41:25.459Z"
   },
   {
    "duration": 23,
    "start_time": "2022-03-07T23:41:25.483Z"
   },
   {
    "duration": 7,
    "start_time": "2022-03-07T23:41:25.507Z"
   },
   {
    "duration": 15,
    "start_time": "2022-03-07T23:41:25.516Z"
   },
   {
    "duration": 23,
    "start_time": "2022-03-07T23:41:25.533Z"
   },
   {
    "duration": 46,
    "start_time": "2022-03-07T23:41:25.557Z"
   },
   {
    "duration": 10,
    "start_time": "2022-03-07T23:41:25.604Z"
   },
   {
    "duration": 6,
    "start_time": "2022-03-07T23:41:25.615Z"
   },
   {
    "duration": 173,
    "start_time": "2022-03-07T23:41:25.622Z"
   },
   {
    "duration": 328,
    "start_time": "2022-03-07T23:41:25.796Z"
   },
   {
    "duration": 182,
    "start_time": "2022-03-07T23:41:26.126Z"
   },
   {
    "duration": 4,
    "start_time": "2022-03-07T23:41:26.310Z"
   },
   {
    "duration": 15,
    "start_time": "2022-03-07T23:41:26.315Z"
   },
   {
    "duration": 223,
    "start_time": "2022-03-07T23:41:26.331Z"
   },
   {
    "duration": 12,
    "start_time": "2022-03-07T23:41:26.555Z"
   },
   {
    "duration": 171,
    "start_time": "2022-03-07T23:41:26.568Z"
   },
   {
    "duration": 7,
    "start_time": "2022-03-07T23:41:26.741Z"
   },
   {
    "duration": 17,
    "start_time": "2022-03-07T23:41:26.750Z"
   },
   {
    "duration": 289,
    "start_time": "2022-03-07T23:41:26.768Z"
   },
   {
    "duration": 14,
    "start_time": "2022-03-07T23:41:27.058Z"
   },
   {
    "duration": 12,
    "start_time": "2022-03-07T23:41:27.073Z"
   },
   {
    "duration": 19,
    "start_time": "2022-03-07T23:41:27.087Z"
   },
   {
    "duration": 148,
    "start_time": "2022-03-07T23:41:27.107Z"
   },
   {
    "duration": 214,
    "start_time": "2022-03-07T23:41:27.256Z"
   },
   {
    "duration": 6,
    "start_time": "2022-03-07T23:41:27.472Z"
   },
   {
    "duration": 133,
    "start_time": "2022-03-07T23:41:27.480Z"
   },
   {
    "duration": 205,
    "start_time": "2022-03-07T23:41:27.614Z"
   },
   {
    "duration": 31,
    "start_time": "2022-03-07T23:41:27.820Z"
   },
   {
    "duration": 292,
    "start_time": "2022-03-07T23:41:27.853Z"
   },
   {
    "duration": 8,
    "start_time": "2022-03-07T23:41:28.147Z"
   },
   {
    "duration": 144,
    "start_time": "2022-03-07T23:41:28.157Z"
   },
   {
    "duration": 2747,
    "start_time": "2022-03-08T11:12:18.042Z"
   },
   {
    "duration": 2275,
    "start_time": "2022-03-08T11:12:59.672Z"
   },
   {
    "duration": 362,
    "start_time": "2022-03-08T12:17:17.018Z"
   },
   {
    "duration": 100,
    "start_time": "2022-03-08T12:17:33.280Z"
   },
   {
    "duration": 11,
    "start_time": "2022-03-08T12:18:07.008Z"
   },
   {
    "duration": 6,
    "start_time": "2022-03-08T12:18:11.854Z"
   },
   {
    "duration": 12,
    "start_time": "2022-03-08T12:18:16.550Z"
   },
   {
    "duration": 23,
    "start_time": "2022-03-08T12:18:21.603Z"
   },
   {
    "duration": 20,
    "start_time": "2022-03-08T12:18:32.630Z"
   },
   {
    "duration": 9,
    "start_time": "2022-03-08T12:19:54.077Z"
   },
   {
    "duration": 11,
    "start_time": "2022-03-08T12:20:34.800Z"
   },
   {
    "duration": 20,
    "start_time": "2022-03-08T12:20:49.758Z"
   },
   {
    "duration": 83,
    "start_time": "2022-03-08T12:22:23.446Z"
   },
   {
    "duration": 48,
    "start_time": "2022-03-08T12:22:26.143Z"
   },
   {
    "duration": 10,
    "start_time": "2022-03-08T12:22:33.020Z"
   },
   {
    "duration": 6,
    "start_time": "2022-03-08T12:22:33.730Z"
   },
   {
    "duration": 12,
    "start_time": "2022-03-08T12:22:36.541Z"
   },
   {
    "duration": 19,
    "start_time": "2022-03-08T12:22:37.700Z"
   },
   {
    "duration": 23,
    "start_time": "2022-03-08T12:22:41.816Z"
   },
   {
    "duration": 9,
    "start_time": "2022-03-08T12:22:46.353Z"
   },
   {
    "duration": 19,
    "start_time": "2022-03-08T12:22:50.057Z"
   },
   {
    "duration": 8,
    "start_time": "2022-03-08T12:23:06.761Z"
   },
   {
    "duration": 16,
    "start_time": "2022-03-08T12:23:44.213Z"
   },
   {
    "duration": 18,
    "start_time": "2022-03-08T12:23:49.463Z"
   },
   {
    "duration": 5,
    "start_time": "2022-03-08T12:23:52.460Z"
   },
   {
    "duration": 325,
    "start_time": "2022-03-08T12:25:07.787Z"
   },
   {
    "duration": 7,
    "start_time": "2022-03-08T12:25:12.651Z"
   },
   {
    "duration": 4,
    "start_time": "2022-03-08T12:27:01.333Z"
   },
   {
    "duration": 4,
    "start_time": "2022-03-08T12:27:07.253Z"
   },
   {
    "duration": 4,
    "start_time": "2022-03-08T12:27:14.492Z"
   },
   {
    "duration": 5,
    "start_time": "2022-03-08T12:27:29.537Z"
   },
   {
    "duration": 4,
    "start_time": "2022-03-08T12:27:32.465Z"
   },
   {
    "duration": 6,
    "start_time": "2022-03-08T12:27:50.218Z"
   },
   {
    "duration": 4,
    "start_time": "2022-03-08T12:28:00.984Z"
   },
   {
    "duration": 7,
    "start_time": "2022-03-08T12:28:05.348Z"
   },
   {
    "duration": 15,
    "start_time": "2022-03-08T12:28:58.639Z"
   },
   {
    "duration": 6,
    "start_time": "2022-03-08T12:29:07.629Z"
   },
   {
    "duration": 25,
    "start_time": "2022-03-08T12:29:12.861Z"
   },
   {
    "duration": 10,
    "start_time": "2022-03-08T12:29:27.305Z"
   },
   {
    "duration": 16,
    "start_time": "2022-03-08T12:29:29.152Z"
   },
   {
    "duration": 9,
    "start_time": "2022-03-08T12:29:35.029Z"
   },
   {
    "duration": 12,
    "start_time": "2022-03-08T12:29:39.745Z"
   },
   {
    "duration": 13,
    "start_time": "2022-03-08T12:29:49.946Z"
   },
   {
    "duration": 6,
    "start_time": "2022-03-08T12:31:04.616Z"
   },
   {
    "duration": 345,
    "start_time": "2022-03-08T12:31:26.817Z"
   },
   {
    "duration": 304,
    "start_time": "2022-03-08T12:32:02.728Z"
   },
   {
    "duration": 4,
    "start_time": "2022-03-08T12:32:05.598Z"
   },
   {
    "duration": 5,
    "start_time": "2022-03-08T12:32:07.950Z"
   },
   {
    "duration": 6,
    "start_time": "2022-03-08T12:32:20.058Z"
   },
   {
    "duration": 9,
    "start_time": "2022-03-08T12:37:32.741Z"
   },
   {
    "duration": 14,
    "start_time": "2022-03-08T12:37:40.868Z"
   },
   {
    "duration": 6,
    "start_time": "2022-03-08T12:37:47.267Z"
   },
   {
    "duration": 6,
    "start_time": "2022-03-08T12:40:50.654Z"
   },
   {
    "duration": 12,
    "start_time": "2022-03-08T12:40:52.694Z"
   },
   {
    "duration": 7,
    "start_time": "2022-03-08T12:41:43.317Z"
   },
   {
    "duration": 4,
    "start_time": "2022-03-08T12:42:05.470Z"
   },
   {
    "duration": 5,
    "start_time": "2022-03-08T12:45:09.245Z"
   },
   {
    "duration": 7,
    "start_time": "2022-03-08T12:45:22.949Z"
   },
   {
    "duration": 7,
    "start_time": "2022-03-08T12:47:12.906Z"
   },
   {
    "duration": 4,
    "start_time": "2022-03-08T12:47:14.337Z"
   },
   {
    "duration": 7,
    "start_time": "2022-03-08T12:47:40.937Z"
   },
   {
    "duration": 5,
    "start_time": "2022-03-08T12:47:42.874Z"
   },
   {
    "duration": 8,
    "start_time": "2022-03-08T12:48:35.477Z"
   },
   {
    "duration": 4,
    "start_time": "2022-03-08T12:48:36.937Z"
   },
   {
    "duration": 8,
    "start_time": "2022-03-08T12:48:40.638Z"
   },
   {
    "duration": 9,
    "start_time": "2022-03-08T12:48:46.177Z"
   },
   {
    "duration": 18,
    "start_time": "2022-03-08T12:48:48.572Z"
   },
   {
    "duration": 9,
    "start_time": "2022-03-08T12:48:51.418Z"
   },
   {
    "duration": 75,
    "start_time": "2022-03-08T12:49:05.066Z"
   },
   {
    "duration": 43,
    "start_time": "2022-03-08T12:49:05.964Z"
   },
   {
    "duration": 89,
    "start_time": "2022-03-08T12:49:08.041Z"
   },
   {
    "duration": 13,
    "start_time": "2022-03-08T12:49:09.101Z"
   },
   {
    "duration": 6,
    "start_time": "2022-03-08T12:49:10.040Z"
   },
   {
    "duration": 13,
    "start_time": "2022-03-08T12:49:11.727Z"
   },
   {
    "duration": 23,
    "start_time": "2022-03-08T12:49:12.713Z"
   },
   {
    "duration": 20,
    "start_time": "2022-03-08T12:49:13.381Z"
   },
   {
    "duration": 12,
    "start_time": "2022-03-08T12:49:14.101Z"
   },
   {
    "duration": 19,
    "start_time": "2022-03-08T12:49:15.061Z"
   },
   {
    "duration": 6,
    "start_time": "2022-03-08T12:49:17.924Z"
   },
   {
    "duration": 9,
    "start_time": "2022-03-08T12:49:18.573Z"
   },
   {
    "duration": 16,
    "start_time": "2022-03-08T12:49:19.241Z"
   },
   {
    "duration": 4,
    "start_time": "2022-03-08T12:49:20.501Z"
   },
   {
    "duration": 7,
    "start_time": "2022-03-08T12:49:21.940Z"
   },
   {
    "duration": 4,
    "start_time": "2022-03-08T12:49:23.561Z"
   },
   {
    "duration": 4,
    "start_time": "2022-03-08T12:49:24.193Z"
   },
   {
    "duration": 4,
    "start_time": "2022-03-08T12:49:24.873Z"
   },
   {
    "duration": 4,
    "start_time": "2022-03-08T12:49:25.873Z"
   },
   {
    "duration": 4,
    "start_time": "2022-03-08T12:49:26.441Z"
   },
   {
    "duration": 4,
    "start_time": "2022-03-08T12:49:27.493Z"
   },
   {
    "duration": 4,
    "start_time": "2022-03-08T12:49:27.921Z"
   },
   {
    "duration": 6,
    "start_time": "2022-03-08T12:49:28.995Z"
   },
   {
    "duration": 4,
    "start_time": "2022-03-08T12:49:29.541Z"
   },
   {
    "duration": 5,
    "start_time": "2022-03-08T12:49:30.926Z"
   },
   {
    "duration": 4,
    "start_time": "2022-03-08T12:49:31.481Z"
   },
   {
    "duration": 7,
    "start_time": "2022-03-08T12:49:32.780Z"
   },
   {
    "duration": 4,
    "start_time": "2022-03-08T12:49:34.333Z"
   },
   {
    "duration": 8,
    "start_time": "2022-03-08T12:50:56.173Z"
   },
   {
    "duration": 4,
    "start_time": "2022-03-08T12:50:57.633Z"
   },
   {
    "duration": 14,
    "start_time": "2022-03-08T12:51:01.626Z"
   },
   {
    "duration": 9,
    "start_time": "2022-03-08T12:51:09.061Z"
   },
   {
    "duration": 16,
    "start_time": "2022-03-08T12:51:11.493Z"
   },
   {
    "duration": 8,
    "start_time": "2022-03-08T12:51:13.885Z"
   },
   {
    "duration": 18,
    "start_time": "2022-03-08T12:51:39.507Z"
   },
   {
    "duration": 14,
    "start_time": "2022-03-08T12:51:40.826Z"
   },
   {
    "duration": 7,
    "start_time": "2022-03-08T12:51:46.827Z"
   },
   {
    "duration": 5,
    "start_time": "2022-03-08T12:51:48.019Z"
   },
   {
    "duration": 7,
    "start_time": "2022-03-08T12:51:52.029Z"
   },
   {
    "duration": 8,
    "start_time": "2022-03-08T12:51:53.099Z"
   },
   {
    "duration": 10,
    "start_time": "2022-03-08T12:51:57.547Z"
   },
   {
    "duration": 14,
    "start_time": "2022-03-08T12:52:01.259Z"
   },
   {
    "duration": 7,
    "start_time": "2022-03-08T12:52:03.563Z"
   },
   {
    "duration": 15,
    "start_time": "2022-03-08T12:52:04.139Z"
   },
   {
    "duration": 4,
    "start_time": "2022-03-08T12:52:07.620Z"
   },
   {
    "duration": 10,
    "start_time": "2022-03-08T12:52:10.095Z"
   },
   {
    "duration": 17,
    "start_time": "2022-03-08T12:52:11.549Z"
   },
   {
    "duration": 21,
    "start_time": "2022-03-08T12:52:16.306Z"
   },
   {
    "duration": 7,
    "start_time": "2022-03-08T12:52:21.307Z"
   },
   {
    "duration": 7,
    "start_time": "2022-03-08T12:52:25.603Z"
   },
   {
    "duration": 8,
    "start_time": "2022-03-08T12:53:06.183Z"
   },
   {
    "duration": 7,
    "start_time": "2022-03-08T12:53:42.023Z"
   },
   {
    "duration": 7,
    "start_time": "2022-03-08T12:53:51.972Z"
   },
   {
    "duration": 13,
    "start_time": "2022-03-08T13:02:38.856Z"
   },
   {
    "duration": 24,
    "start_time": "2022-03-08T13:03:26.627Z"
   },
   {
    "duration": 16,
    "start_time": "2022-03-08T13:03:58.127Z"
   },
   {
    "duration": 13,
    "start_time": "2022-03-08T13:04:48.004Z"
   },
   {
    "duration": 6,
    "start_time": "2022-03-08T13:04:58.605Z"
   },
   {
    "duration": 159,
    "start_time": "2022-03-08T13:05:14.044Z"
   },
   {
    "duration": 309,
    "start_time": "2022-03-08T13:05:55.844Z"
   },
   {
    "duration": 190,
    "start_time": "2022-03-08T13:06:02.733Z"
   },
   {
    "duration": 13,
    "start_time": "2022-03-08T13:06:42.452Z"
   },
   {
    "duration": 208,
    "start_time": "2022-03-08T13:06:57.724Z"
   },
   {
    "duration": 11,
    "start_time": "2022-03-08T13:07:07.341Z"
   },
   {
    "duration": 174,
    "start_time": "2022-03-08T13:07:11.792Z"
   },
   {
    "duration": 12,
    "start_time": "2022-03-08T13:10:54.315Z"
   },
   {
    "duration": 19,
    "start_time": "2022-03-08T13:11:03.116Z"
   },
   {
    "duration": 290,
    "start_time": "2022-03-08T13:11:07.955Z"
   },
   {
    "duration": 15,
    "start_time": "2022-03-08T13:11:18.694Z"
   },
   {
    "duration": 10,
    "start_time": "2022-03-08T13:11:26.022Z"
   },
   {
    "duration": 7,
    "start_time": "2022-03-08T13:11:30.644Z"
   },
   {
    "duration": 143,
    "start_time": "2022-03-08T13:11:36.207Z"
   },
   {
    "duration": 126,
    "start_time": "2022-03-08T13:11:49.073Z"
   },
   {
    "duration": 126,
    "start_time": "2022-03-08T13:11:51.664Z"
   },
   {
    "duration": 129,
    "start_time": "2022-03-08T13:11:55.264Z"
   },
   {
    "duration": 194,
    "start_time": "2022-03-08T13:12:13.747Z"
   },
   {
    "duration": 200,
    "start_time": "2022-03-08T13:12:32.792Z"
   },
   {
    "duration": 196,
    "start_time": "2022-03-08T13:12:38.617Z"
   },
   {
    "duration": 135,
    "start_time": "2022-03-08T13:13:19.450Z"
   },
   {
    "duration": 7,
    "start_time": "2022-03-08T13:13:33.391Z"
   },
   {
    "duration": 198,
    "start_time": "2022-03-08T13:13:42.043Z"
   },
   {
    "duration": 231,
    "start_time": "2022-03-08T13:13:49.671Z"
   },
   {
    "duration": 26,
    "start_time": "2022-03-08T13:14:46.460Z"
   },
   {
    "duration": 34,
    "start_time": "2022-03-08T13:15:49.805Z"
   },
   {
    "duration": 280,
    "start_time": "2022-03-08T13:16:47.872Z"
   },
   {
    "duration": 7,
    "start_time": "2022-03-08T13:16:57.697Z"
   },
   {
    "duration": 127,
    "start_time": "2022-03-08T13:17:10.282Z"
   },
   {
    "duration": 773,
    "start_time": "2022-03-08T13:32:36.528Z"
   },
   {
    "duration": 26,
    "start_time": "2022-03-08T13:32:37.303Z"
   },
   {
    "duration": 61,
    "start_time": "2022-03-08T13:32:37.331Z"
   },
   {
    "duration": 11,
    "start_time": "2022-03-08T13:32:37.394Z"
   },
   {
    "duration": 6,
    "start_time": "2022-03-08T13:32:37.407Z"
   },
   {
    "duration": 16,
    "start_time": "2022-03-08T13:32:37.415Z"
   },
   {
    "duration": 20,
    "start_time": "2022-03-08T13:32:37.433Z"
   },
   {
    "duration": 55,
    "start_time": "2022-03-08T13:32:37.456Z"
   },
   {
    "duration": 11,
    "start_time": "2022-03-08T13:32:37.513Z"
   },
   {
    "duration": 28,
    "start_time": "2022-03-08T13:32:37.526Z"
   },
   {
    "duration": 7,
    "start_time": "2022-03-08T13:32:37.556Z"
   },
   {
    "duration": 36,
    "start_time": "2022-03-08T13:32:37.565Z"
   },
   {
    "duration": 20,
    "start_time": "2022-03-08T13:32:37.603Z"
   },
   {
    "duration": 5,
    "start_time": "2022-03-08T13:32:37.625Z"
   },
   {
    "duration": 11,
    "start_time": "2022-03-08T13:32:37.632Z"
   },
   {
    "duration": 6,
    "start_time": "2022-03-08T13:32:37.645Z"
   },
   {
    "duration": 6,
    "start_time": "2022-03-08T13:32:37.653Z"
   },
   {
    "duration": 41,
    "start_time": "2022-03-08T13:32:37.661Z"
   },
   {
    "duration": 6,
    "start_time": "2022-03-08T13:32:37.704Z"
   },
   {
    "duration": 7,
    "start_time": "2022-03-08T13:32:37.712Z"
   },
   {
    "duration": 10,
    "start_time": "2022-03-08T13:32:37.720Z"
   },
   {
    "duration": 9,
    "start_time": "2022-03-08T13:32:37.733Z"
   },
   {
    "duration": 15,
    "start_time": "2022-03-08T13:32:37.747Z"
   },
   {
    "duration": 16,
    "start_time": "2022-03-08T13:32:37.765Z"
   },
   {
    "duration": 7,
    "start_time": "2022-03-08T13:32:37.802Z"
   },
   {
    "duration": 16,
    "start_time": "2022-03-08T13:32:37.811Z"
   },
   {
    "duration": 13,
    "start_time": "2022-03-08T13:32:37.829Z"
   },
   {
    "duration": 9,
    "start_time": "2022-03-08T13:32:37.844Z"
   },
   {
    "duration": 15,
    "start_time": "2022-03-08T13:32:37.855Z"
   },
   {
    "duration": 31,
    "start_time": "2022-03-08T13:32:37.872Z"
   },
   {
    "duration": 17,
    "start_time": "2022-03-08T13:32:37.905Z"
   },
   {
    "duration": 12,
    "start_time": "2022-03-08T13:32:37.925Z"
   },
   {
    "duration": 20,
    "start_time": "2022-03-08T13:32:37.939Z"
   },
   {
    "duration": 48,
    "start_time": "2022-03-08T13:32:37.961Z"
   },
   {
    "duration": 19,
    "start_time": "2022-03-08T13:32:38.011Z"
   },
   {
    "duration": 29,
    "start_time": "2022-03-08T13:32:38.032Z"
   },
   {
    "duration": 6,
    "start_time": "2022-03-08T13:32:38.063Z"
   },
   {
    "duration": 12,
    "start_time": "2022-03-08T13:32:38.070Z"
   },
   {
    "duration": 20,
    "start_time": "2022-03-08T13:32:38.084Z"
   },
   {
    "duration": 9,
    "start_time": "2022-03-08T13:32:38.106Z"
   },
   {
    "duration": 13,
    "start_time": "2022-03-08T13:32:38.117Z"
   },
   {
    "duration": 17,
    "start_time": "2022-03-08T13:32:38.132Z"
   },
   {
    "duration": 12,
    "start_time": "2022-03-08T13:32:38.151Z"
   },
   {
    "duration": 49,
    "start_time": "2022-03-08T13:32:38.164Z"
   },
   {
    "duration": 5,
    "start_time": "2022-03-08T13:32:38.215Z"
   },
   {
    "duration": 14,
    "start_time": "2022-03-08T13:32:38.221Z"
   },
   {
    "duration": 19,
    "start_time": "2022-03-08T13:32:38.237Z"
   },
   {
    "duration": 44,
    "start_time": "2022-03-08T13:32:38.258Z"
   },
   {
    "duration": 8,
    "start_time": "2022-03-08T13:32:38.304Z"
   },
   {
    "duration": 9,
    "start_time": "2022-03-08T13:32:38.313Z"
   },
   {
    "duration": 8,
    "start_time": "2022-03-08T13:32:38.324Z"
   },
   {
    "duration": 8,
    "start_time": "2022-03-08T13:32:38.334Z"
   },
   {
    "duration": 11,
    "start_time": "2022-03-08T13:32:38.344Z"
   },
   {
    "duration": 55,
    "start_time": "2022-03-08T13:32:38.357Z"
   },
   {
    "duration": 26,
    "start_time": "2022-03-08T13:32:38.414Z"
   },
   {
    "duration": 20,
    "start_time": "2022-03-08T13:32:38.442Z"
   },
   {
    "duration": 37,
    "start_time": "2022-03-08T13:32:38.464Z"
   },
   {
    "duration": 8,
    "start_time": "2022-03-08T13:32:38.504Z"
   },
   {
    "duration": 204,
    "start_time": "2022-03-08T13:32:38.514Z"
   },
   {
    "duration": 351,
    "start_time": "2022-03-08T13:32:38.720Z"
   },
   {
    "duration": 222,
    "start_time": "2022-03-08T13:32:39.073Z"
   },
   {
    "duration": 14,
    "start_time": "2022-03-08T13:32:39.301Z"
   },
   {
    "duration": 262,
    "start_time": "2022-03-08T13:32:39.317Z"
   },
   {
    "duration": 21,
    "start_time": "2022-03-08T13:32:39.581Z"
   },
   {
    "duration": 227,
    "start_time": "2022-03-08T13:32:39.604Z"
   },
   {
    "duration": 9,
    "start_time": "2022-03-08T13:32:39.833Z"
   },
   {
    "duration": 20,
    "start_time": "2022-03-08T13:32:39.845Z"
   },
   {
    "duration": 376,
    "start_time": "2022-03-08T13:32:39.871Z"
   },
   {
    "duration": 17,
    "start_time": "2022-03-08T13:32:40.250Z"
   },
   {
    "duration": 33,
    "start_time": "2022-03-08T13:32:40.269Z"
   },
   {
    "duration": 9,
    "start_time": "2022-03-08T13:32:40.304Z"
   },
   {
    "duration": 187,
    "start_time": "2022-03-08T13:32:40.315Z"
   },
   {
    "duration": 256,
    "start_time": "2022-03-08T13:32:40.505Z"
   },
   {
    "duration": 8,
    "start_time": "2022-03-08T13:32:40.763Z"
   },
   {
    "duration": 174,
    "start_time": "2022-03-08T13:32:40.773Z"
   },
   {
    "duration": 255,
    "start_time": "2022-03-08T13:32:40.950Z"
   },
   {
    "duration": 30,
    "start_time": "2022-03-08T13:32:41.208Z"
   },
   {
    "duration": 301,
    "start_time": "2022-03-08T13:32:41.240Z"
   },
   {
    "duration": 9,
    "start_time": "2022-03-08T13:32:41.543Z"
   },
   {
    "duration": 169,
    "start_time": "2022-03-08T13:32:41.553Z"
   },
   {
    "duration": 783,
    "start_time": "2022-03-08T13:33:00.306Z"
   },
   {
    "duration": 25,
    "start_time": "2022-03-08T13:33:01.091Z"
   },
   {
    "duration": 16,
    "start_time": "2022-03-08T13:33:01.119Z"
   },
   {
    "duration": 25,
    "start_time": "2022-03-08T13:33:01.137Z"
   },
   {
    "duration": 21,
    "start_time": "2022-03-08T13:33:01.164Z"
   },
   {
    "duration": 29,
    "start_time": "2022-03-08T13:33:01.187Z"
   },
   {
    "duration": 41,
    "start_time": "2022-03-08T13:33:01.218Z"
   },
   {
    "duration": 25,
    "start_time": "2022-03-08T13:33:01.261Z"
   },
   {
    "duration": 12,
    "start_time": "2022-03-08T13:33:01.291Z"
   },
   {
    "duration": 42,
    "start_time": "2022-03-08T13:33:01.306Z"
   },
   {
    "duration": 11,
    "start_time": "2022-03-08T13:33:01.350Z"
   },
   {
    "duration": 32,
    "start_time": "2022-03-08T13:33:01.363Z"
   },
   {
    "duration": 46,
    "start_time": "2022-03-08T13:33:01.398Z"
   },
   {
    "duration": 24,
    "start_time": "2022-03-08T13:33:01.446Z"
   },
   {
    "duration": 59,
    "start_time": "2022-03-08T13:33:01.473Z"
   },
   {
    "duration": 35,
    "start_time": "2022-03-08T13:33:01.534Z"
   },
   {
    "duration": 24,
    "start_time": "2022-03-08T13:33:01.571Z"
   },
   {
    "duration": 20,
    "start_time": "2022-03-08T13:33:01.597Z"
   },
   {
    "duration": 22,
    "start_time": "2022-03-08T13:33:01.619Z"
   },
   {
    "duration": 16,
    "start_time": "2022-03-08T13:33:01.643Z"
   },
   {
    "duration": 23,
    "start_time": "2022-03-08T13:33:01.661Z"
   },
   {
    "duration": 21,
    "start_time": "2022-03-08T13:33:01.686Z"
   },
   {
    "duration": 24,
    "start_time": "2022-03-08T13:33:01.708Z"
   },
   {
    "duration": 21,
    "start_time": "2022-03-08T13:33:01.734Z"
   },
   {
    "duration": 51,
    "start_time": "2022-03-08T13:33:01.757Z"
   },
   {
    "duration": 70,
    "start_time": "2022-03-08T13:33:01.809Z"
   },
   {
    "duration": 32,
    "start_time": "2022-03-08T13:33:01.884Z"
   },
   {
    "duration": 45,
    "start_time": "2022-03-08T13:33:01.919Z"
   },
   {
    "duration": 44,
    "start_time": "2022-03-08T13:33:01.966Z"
   },
   {
    "duration": 47,
    "start_time": "2022-03-08T13:33:02.012Z"
   },
   {
    "duration": 104,
    "start_time": "2022-03-08T13:33:02.061Z"
   },
   {
    "duration": 26,
    "start_time": "2022-03-08T13:33:02.167Z"
   },
   {
    "duration": 28,
    "start_time": "2022-03-08T13:33:02.195Z"
   },
   {
    "duration": 9,
    "start_time": "2022-03-08T13:33:02.225Z"
   },
   {
    "duration": 26,
    "start_time": "2022-03-08T13:33:02.236Z"
   },
   {
    "duration": 44,
    "start_time": "2022-03-08T13:33:02.264Z"
   },
   {
    "duration": 10,
    "start_time": "2022-03-08T13:33:02.310Z"
   },
   {
    "duration": 17,
    "start_time": "2022-03-08T13:33:02.322Z"
   },
   {
    "duration": 16,
    "start_time": "2022-03-08T13:33:02.342Z"
   },
   {
    "duration": 11,
    "start_time": "2022-03-08T13:33:02.361Z"
   },
   {
    "duration": 14,
    "start_time": "2022-03-08T13:33:02.375Z"
   },
   {
    "duration": 20,
    "start_time": "2022-03-08T13:33:02.401Z"
   },
   {
    "duration": 43,
    "start_time": "2022-03-08T13:33:02.424Z"
   },
   {
    "duration": 38,
    "start_time": "2022-03-08T13:33:02.468Z"
   },
   {
    "duration": 12,
    "start_time": "2022-03-08T13:33:02.507Z"
   },
   {
    "duration": 42,
    "start_time": "2022-03-08T13:33:02.521Z"
   },
   {
    "duration": 101,
    "start_time": "2022-03-08T13:33:02.564Z"
   },
   {
    "duration": 18,
    "start_time": "2022-03-08T13:33:02.667Z"
   },
   {
    "duration": 74,
    "start_time": "2022-03-08T13:33:02.687Z"
   },
   {
    "duration": 9,
    "start_time": "2022-03-08T13:33:02.763Z"
   },
   {
    "duration": 20,
    "start_time": "2022-03-08T13:33:02.775Z"
   },
   {
    "duration": 31,
    "start_time": "2022-03-08T13:33:02.797Z"
   },
   {
    "duration": 13,
    "start_time": "2022-03-08T13:33:02.830Z"
   },
   {
    "duration": 64,
    "start_time": "2022-03-08T13:33:02.845Z"
   },
   {
    "duration": 58,
    "start_time": "2022-03-08T13:33:02.912Z"
   },
   {
    "duration": 22,
    "start_time": "2022-03-08T13:33:02.973Z"
   },
   {
    "duration": 27,
    "start_time": "2022-03-08T13:33:02.997Z"
   },
   {
    "duration": 7,
    "start_time": "2022-03-08T13:33:03.026Z"
   },
   {
    "duration": 203,
    "start_time": "2022-03-08T13:33:03.035Z"
   },
   {
    "duration": 362,
    "start_time": "2022-03-08T13:33:03.240Z"
   },
   {
    "duration": 241,
    "start_time": "2022-03-08T13:33:03.604Z"
   },
   {
    "duration": 16,
    "start_time": "2022-03-08T13:33:03.847Z"
   },
   {
    "duration": 285,
    "start_time": "2022-03-08T13:33:03.866Z"
   },
   {
    "duration": 16,
    "start_time": "2022-03-08T13:33:04.152Z"
   },
   {
    "duration": 221,
    "start_time": "2022-03-08T13:33:04.169Z"
   },
   {
    "duration": 19,
    "start_time": "2022-03-08T13:33:04.392Z"
   },
   {
    "duration": 37,
    "start_time": "2022-03-08T13:33:04.413Z"
   },
   {
    "duration": 339,
    "start_time": "2022-03-08T13:33:04.453Z"
   },
   {
    "duration": 22,
    "start_time": "2022-03-08T13:33:04.794Z"
   },
   {
    "duration": 19,
    "start_time": "2022-03-08T13:33:04.818Z"
   },
   {
    "duration": 12,
    "start_time": "2022-03-08T13:33:04.838Z"
   },
   {
    "duration": 186,
    "start_time": "2022-03-08T13:33:04.852Z"
   },
   {
    "duration": 242,
    "start_time": "2022-03-08T13:33:05.040Z"
   },
   {
    "duration": 21,
    "start_time": "2022-03-08T13:33:05.284Z"
   },
   {
    "duration": 163,
    "start_time": "2022-03-08T13:33:05.307Z"
   },
   {
    "duration": 259,
    "start_time": "2022-03-08T13:33:05.472Z"
   },
   {
    "duration": 33,
    "start_time": "2022-03-08T13:33:05.734Z"
   },
   {
    "duration": 355,
    "start_time": "2022-03-08T13:33:05.769Z"
   },
   {
    "duration": 8,
    "start_time": "2022-03-08T13:33:06.125Z"
   },
   {
    "duration": 168,
    "start_time": "2022-03-08T13:33:06.135Z"
   },
   {
    "duration": 792,
    "start_time": "2022-03-08T21:09:11.498Z"
   },
   {
    "duration": 47,
    "start_time": "2022-03-08T21:09:12.292Z"
   },
   {
    "duration": 2,
    "start_time": "2022-03-08T21:09:12.343Z"
   },
   {
    "duration": 14,
    "start_time": "2022-03-08T21:09:12.347Z"
   },
   {
    "duration": 5,
    "start_time": "2022-03-08T21:09:12.363Z"
   },
   {
    "duration": 17,
    "start_time": "2022-03-08T21:09:12.370Z"
   },
   {
    "duration": 19,
    "start_time": "2022-03-08T21:09:12.388Z"
   },
   {
    "duration": 23,
    "start_time": "2022-03-08T21:09:12.409Z"
   },
   {
    "duration": 11,
    "start_time": "2022-03-08T21:09:12.434Z"
   },
   {
    "duration": 50,
    "start_time": "2022-03-08T21:09:12.447Z"
   },
   {
    "duration": 6,
    "start_time": "2022-03-08T21:09:12.498Z"
   },
   {
    "duration": 12,
    "start_time": "2022-03-08T21:09:12.506Z"
   },
   {
    "duration": 20,
    "start_time": "2022-03-08T21:09:12.520Z"
   },
   {
    "duration": 4,
    "start_time": "2022-03-08T21:09:12.541Z"
   },
   {
    "duration": 7,
    "start_time": "2022-03-08T21:09:12.578Z"
   },
   {
    "duration": 8,
    "start_time": "2022-03-08T21:09:12.587Z"
   },
   {
    "duration": 7,
    "start_time": "2022-03-08T21:09:12.597Z"
   },
   {
    "duration": 5,
    "start_time": "2022-03-08T21:09:12.606Z"
   },
   {
    "duration": 6,
    "start_time": "2022-03-08T21:09:12.613Z"
   },
   {
    "duration": 6,
    "start_time": "2022-03-08T21:09:12.621Z"
   },
   {
    "duration": 6,
    "start_time": "2022-03-08T21:09:12.628Z"
   },
   {
    "duration": 43,
    "start_time": "2022-03-08T21:09:12.636Z"
   },
   {
    "duration": 13,
    "start_time": "2022-03-08T21:09:12.681Z"
   },
   {
    "duration": 8,
    "start_time": "2022-03-08T21:09:12.696Z"
   },
   {
    "duration": 8,
    "start_time": "2022-03-08T21:09:12.706Z"
   },
   {
    "duration": 4,
    "start_time": "2022-03-08T21:09:12.719Z"
   },
   {
    "duration": 8,
    "start_time": "2022-03-08T21:09:12.726Z"
   },
   {
    "duration": 6,
    "start_time": "2022-03-08T21:09:12.736Z"
   },
   {
    "duration": 39,
    "start_time": "2022-03-08T21:09:12.744Z"
   },
   {
    "duration": 4,
    "start_time": "2022-03-08T21:09:12.785Z"
   },
   {
    "duration": 19,
    "start_time": "2022-03-08T21:09:12.791Z"
   },
   {
    "duration": 14,
    "start_time": "2022-03-08T21:09:12.811Z"
   },
   {
    "duration": 21,
    "start_time": "2022-03-08T21:09:12.827Z"
   },
   {
    "duration": 35,
    "start_time": "2022-03-08T21:09:12.849Z"
   },
   {
    "duration": 14,
    "start_time": "2022-03-08T21:09:12.885Z"
   },
   {
    "duration": 18,
    "start_time": "2022-03-08T21:09:12.901Z"
   },
   {
    "duration": 5,
    "start_time": "2022-03-08T21:09:12.921Z"
   },
   {
    "duration": 5,
    "start_time": "2022-03-08T21:09:12.928Z"
   },
   {
    "duration": 44,
    "start_time": "2022-03-08T21:09:12.934Z"
   },
   {
    "duration": 8,
    "start_time": "2022-03-08T21:09:12.980Z"
   },
   {
    "duration": 11,
    "start_time": "2022-03-08T21:09:12.990Z"
   },
   {
    "duration": 17,
    "start_time": "2022-03-08T21:09:13.003Z"
   },
   {
    "duration": 7,
    "start_time": "2022-03-08T21:09:13.022Z"
   },
   {
    "duration": 47,
    "start_time": "2022-03-08T21:09:13.031Z"
   },
   {
    "duration": 5,
    "start_time": "2022-03-08T21:09:13.080Z"
   },
   {
    "duration": 12,
    "start_time": "2022-03-08T21:09:13.087Z"
   },
   {
    "duration": 16,
    "start_time": "2022-03-08T21:09:13.101Z"
   },
   {
    "duration": 16,
    "start_time": "2022-03-08T21:09:13.119Z"
   },
   {
    "duration": 49,
    "start_time": "2022-03-08T21:09:13.136Z"
   },
   {
    "duration": 8,
    "start_time": "2022-03-08T21:09:13.186Z"
   },
   {
    "duration": 10,
    "start_time": "2022-03-08T21:09:13.195Z"
   },
   {
    "duration": 10,
    "start_time": "2022-03-08T21:09:13.206Z"
   },
   {
    "duration": 8,
    "start_time": "2022-03-08T21:09:13.218Z"
   },
   {
    "duration": 50,
    "start_time": "2022-03-08T21:09:13.227Z"
   },
   {
    "duration": 27,
    "start_time": "2022-03-08T21:09:13.279Z"
   },
   {
    "duration": 18,
    "start_time": "2022-03-08T21:09:13.308Z"
   },
   {
    "duration": 11,
    "start_time": "2022-03-08T21:09:13.328Z"
   },
   {
    "duration": 38,
    "start_time": "2022-03-08T21:09:13.340Z"
   },
   {
    "duration": 220,
    "start_time": "2022-03-08T21:09:13.380Z"
   },
   {
    "duration": 361,
    "start_time": "2022-03-08T21:09:13.602Z"
   },
   {
    "duration": 247,
    "start_time": "2022-03-08T21:09:13.965Z"
   },
   {
    "duration": 14,
    "start_time": "2022-03-08T21:09:14.213Z"
   },
   {
    "duration": 287,
    "start_time": "2022-03-08T21:09:14.229Z"
   },
   {
    "duration": 13,
    "start_time": "2022-03-08T21:09:14.518Z"
   },
   {
    "duration": 231,
    "start_time": "2022-03-08T21:09:14.532Z"
   },
   {
    "duration": 18,
    "start_time": "2022-03-08T21:09:14.764Z"
   },
   {
    "duration": 18,
    "start_time": "2022-03-08T21:09:14.784Z"
   },
   {
    "duration": 387,
    "start_time": "2022-03-08T21:09:14.804Z"
   },
   {
    "duration": 16,
    "start_time": "2022-03-08T21:09:15.192Z"
   },
   {
    "duration": 30,
    "start_time": "2022-03-08T21:09:15.209Z"
   },
   {
    "duration": 15,
    "start_time": "2022-03-08T21:09:15.241Z"
   },
   {
    "duration": 184,
    "start_time": "2022-03-08T21:09:15.258Z"
   },
   {
    "duration": 275,
    "start_time": "2022-03-08T21:09:15.444Z"
   },
   {
    "duration": 8,
    "start_time": "2022-03-08T21:09:15.721Z"
   },
   {
    "duration": 206,
    "start_time": "2022-03-08T21:09:15.730Z"
   },
   {
    "duration": 271,
    "start_time": "2022-03-08T21:09:15.938Z"
   },
   {
    "duration": 29,
    "start_time": "2022-03-08T21:09:16.211Z"
   },
   {
    "duration": 382,
    "start_time": "2022-03-08T21:09:16.242Z"
   },
   {
    "duration": 8,
    "start_time": "2022-03-08T21:09:16.626Z"
   },
   {
    "duration": 168,
    "start_time": "2022-03-08T21:09:16.641Z"
   },
   {
    "duration": 813,
    "start_time": "2022-03-09T07:31:58.982Z"
   },
   {
    "duration": 30,
    "start_time": "2022-03-09T07:31:59.797Z"
   },
   {
    "duration": 2,
    "start_time": "2022-03-09T07:31:59.829Z"
   },
   {
    "duration": 11,
    "start_time": "2022-03-09T07:31:59.833Z"
   },
   {
    "duration": 5,
    "start_time": "2022-03-09T07:31:59.846Z"
   },
   {
    "duration": 14,
    "start_time": "2022-03-09T07:31:59.852Z"
   },
   {
    "duration": 17,
    "start_time": "2022-03-09T07:31:59.867Z"
   },
   {
    "duration": 47,
    "start_time": "2022-03-09T07:31:59.886Z"
   },
   {
    "duration": 10,
    "start_time": "2022-03-09T07:31:59.935Z"
   },
   {
    "duration": 23,
    "start_time": "2022-03-09T07:31:59.947Z"
   },
   {
    "duration": 5,
    "start_time": "2022-03-09T07:31:59.972Z"
   },
   {
    "duration": 13,
    "start_time": "2022-03-09T07:31:59.979Z"
   },
   {
    "duration": 42,
    "start_time": "2022-03-09T07:31:59.994Z"
   },
   {
    "duration": 4,
    "start_time": "2022-03-09T07:32:00.038Z"
   },
   {
    "duration": 11,
    "start_time": "2022-03-09T07:32:00.043Z"
   },
   {
    "duration": 15,
    "start_time": "2022-03-09T07:32:00.056Z"
   },
   {
    "duration": 4,
    "start_time": "2022-03-09T07:32:00.073Z"
   },
   {
    "duration": 6,
    "start_time": "2022-03-09T07:32:00.078Z"
   },
   {
    "duration": 10,
    "start_time": "2022-03-09T07:32:00.085Z"
   },
   {
    "duration": 15,
    "start_time": "2022-03-09T07:32:00.096Z"
   },
   {
    "duration": 20,
    "start_time": "2022-03-09T07:32:00.113Z"
   },
   {
    "duration": 4,
    "start_time": "2022-03-09T07:32:00.134Z"
   },
   {
    "duration": 12,
    "start_time": "2022-03-09T07:32:00.142Z"
   },
   {
    "duration": 21,
    "start_time": "2022-03-09T07:32:00.157Z"
   },
   {
    "duration": 7,
    "start_time": "2022-03-09T07:32:00.179Z"
   },
   {
    "duration": 9,
    "start_time": "2022-03-09T07:32:00.188Z"
   },
   {
    "duration": 12,
    "start_time": "2022-03-09T07:32:00.199Z"
   },
   {
    "duration": 9,
    "start_time": "2022-03-09T07:32:00.212Z"
   },
   {
    "duration": 17,
    "start_time": "2022-03-09T07:32:00.223Z"
   },
   {
    "duration": 12,
    "start_time": "2022-03-09T07:32:00.241Z"
   },
   {
    "duration": 16,
    "start_time": "2022-03-09T07:32:00.255Z"
   },
   {
    "duration": 12,
    "start_time": "2022-03-09T07:32:00.273Z"
   },
   {
    "duration": 18,
    "start_time": "2022-03-09T07:32:00.287Z"
   },
   {
    "duration": 27,
    "start_time": "2022-03-09T07:32:00.306Z"
   },
   {
    "duration": 14,
    "start_time": "2022-03-09T07:32:00.334Z"
   },
   {
    "duration": 13,
    "start_time": "2022-03-09T07:32:00.350Z"
   },
   {
    "duration": 7,
    "start_time": "2022-03-09T07:32:00.364Z"
   },
   {
    "duration": 8,
    "start_time": "2022-03-09T07:32:00.372Z"
   },
   {
    "duration": 9,
    "start_time": "2022-03-09T07:32:00.381Z"
   },
   {
    "duration": 25,
    "start_time": "2022-03-09T07:32:00.392Z"
   },
   {
    "duration": 26,
    "start_time": "2022-03-09T07:32:00.419Z"
   },
   {
    "duration": 15,
    "start_time": "2022-03-09T07:32:00.447Z"
   },
   {
    "duration": 15,
    "start_time": "2022-03-09T07:32:00.463Z"
   },
   {
    "duration": 13,
    "start_time": "2022-03-09T07:32:00.479Z"
   },
   {
    "duration": 14,
    "start_time": "2022-03-09T07:32:00.494Z"
   },
   {
    "duration": 28,
    "start_time": "2022-03-09T07:32:00.509Z"
   },
   {
    "duration": 21,
    "start_time": "2022-03-09T07:32:00.539Z"
   },
   {
    "duration": 14,
    "start_time": "2022-03-09T07:32:00.562Z"
   },
   {
    "duration": 10,
    "start_time": "2022-03-09T07:32:00.577Z"
   },
   {
    "duration": 14,
    "start_time": "2022-03-09T07:32:00.588Z"
   },
   {
    "duration": 11,
    "start_time": "2022-03-09T07:32:00.604Z"
   },
   {
    "duration": 9,
    "start_time": "2022-03-09T07:32:00.633Z"
   },
   {
    "duration": 12,
    "start_time": "2022-03-09T07:32:00.643Z"
   },
   {
    "duration": 22,
    "start_time": "2022-03-09T07:32:00.657Z"
   },
   {
    "duration": 31,
    "start_time": "2022-03-09T07:32:00.681Z"
   },
   {
    "duration": 25,
    "start_time": "2022-03-09T07:32:00.713Z"
   },
   {
    "duration": 11,
    "start_time": "2022-03-09T07:32:00.739Z"
   },
   {
    "duration": 5,
    "start_time": "2022-03-09T07:32:00.752Z"
   },
   {
    "duration": 196,
    "start_time": "2022-03-09T07:32:00.759Z"
   },
   {
    "duration": 345,
    "start_time": "2022-03-09T07:32:00.956Z"
   },
   {
    "duration": 200,
    "start_time": "2022-03-09T07:32:01.303Z"
   },
   {
    "duration": 12,
    "start_time": "2022-03-09T07:32:01.505Z"
   },
   {
    "duration": 240,
    "start_time": "2022-03-09T07:32:01.519Z"
   },
   {
    "duration": 12,
    "start_time": "2022-03-09T07:32:01.761Z"
   },
   {
    "duration": 198,
    "start_time": "2022-03-09T07:32:01.774Z"
   },
   {
    "duration": 8,
    "start_time": "2022-03-09T07:32:01.974Z"
   },
   {
    "duration": 19,
    "start_time": "2022-03-09T07:32:01.983Z"
   },
   {
    "duration": 339,
    "start_time": "2022-03-09T07:32:02.006Z"
   },
   {
    "duration": 14,
    "start_time": "2022-03-09T07:32:02.346Z"
   },
   {
    "duration": 13,
    "start_time": "2022-03-09T07:32:02.361Z"
   },
   {
    "duration": 7,
    "start_time": "2022-03-09T07:32:02.375Z"
   },
   {
    "duration": 171,
    "start_time": "2022-03-09T07:32:02.383Z"
   },
   {
    "duration": 255,
    "start_time": "2022-03-09T07:32:02.555Z"
   },
   {
    "duration": 7,
    "start_time": "2022-03-09T07:32:02.812Z"
   },
   {
    "duration": 144,
    "start_time": "2022-03-09T07:32:02.821Z"
   },
   {
    "duration": 218,
    "start_time": "2022-03-09T07:32:02.967Z"
   },
   {
    "duration": 27,
    "start_time": "2022-03-09T07:32:03.186Z"
   },
   {
    "duration": 305,
    "start_time": "2022-03-09T07:32:03.215Z"
   },
   {
    "duration": 16,
    "start_time": "2022-03-09T07:32:03.522Z"
   },
   {
    "duration": 132,
    "start_time": "2022-03-09T07:32:03.540Z"
   },
   {
    "duration": 10,
    "start_time": "2022-03-09T08:01:32.935Z"
   },
   {
    "duration": 60,
    "start_time": "2022-03-09T08:02:04.626Z"
   },
   {
    "duration": 10,
    "start_time": "2022-03-09T08:02:15.452Z"
   },
   {
    "duration": 7,
    "start_time": "2022-03-09T08:39:15.697Z"
   },
   {
    "duration": 630,
    "start_time": "2022-03-09T08:56:21.093Z"
   },
   {
    "duration": 27,
    "start_time": "2022-03-09T08:56:21.725Z"
   },
   {
    "duration": 3,
    "start_time": "2022-03-09T08:56:21.754Z"
   },
   {
    "duration": 13,
    "start_time": "2022-03-09T08:56:21.758Z"
   },
   {
    "duration": 5,
    "start_time": "2022-03-09T08:56:21.773Z"
   },
   {
    "duration": 12,
    "start_time": "2022-03-09T08:56:21.780Z"
   },
   {
    "duration": 17,
    "start_time": "2022-03-09T08:56:21.793Z"
   },
   {
    "duration": 38,
    "start_time": "2022-03-09T08:56:21.812Z"
   },
   {
    "duration": 9,
    "start_time": "2022-03-09T08:56:21.852Z"
   },
   {
    "duration": 23,
    "start_time": "2022-03-09T08:56:21.862Z"
   },
   {
    "duration": 6,
    "start_time": "2022-03-09T08:56:21.887Z"
   },
   {
    "duration": 14,
    "start_time": "2022-03-09T08:56:21.894Z"
   },
   {
    "duration": 17,
    "start_time": "2022-03-09T08:56:21.933Z"
   },
   {
    "duration": 4,
    "start_time": "2022-03-09T08:56:21.952Z"
   },
   {
    "duration": 7,
    "start_time": "2022-03-09T08:56:21.958Z"
   },
   {
    "duration": 7,
    "start_time": "2022-03-09T08:56:21.967Z"
   },
   {
    "duration": 8,
    "start_time": "2022-03-09T08:56:21.975Z"
   },
   {
    "duration": 5,
    "start_time": "2022-03-09T08:56:21.984Z"
   },
   {
    "duration": 6,
    "start_time": "2022-03-09T08:56:21.991Z"
   },
   {
    "duration": 37,
    "start_time": "2022-03-09T08:56:21.998Z"
   },
   {
    "duration": 4,
    "start_time": "2022-03-09T08:56:22.037Z"
   },
   {
    "duration": 5,
    "start_time": "2022-03-09T08:56:22.043Z"
   },
   {
    "duration": 6,
    "start_time": "2022-03-09T08:56:22.052Z"
   },
   {
    "duration": 7,
    "start_time": "2022-03-09T08:56:22.060Z"
   },
   {
    "duration": 6,
    "start_time": "2022-03-09T08:56:22.069Z"
   },
   {
    "duration": 5,
    "start_time": "2022-03-09T08:56:22.076Z"
   },
   {
    "duration": 8,
    "start_time": "2022-03-09T08:56:22.083Z"
   },
   {
    "duration": 43,
    "start_time": "2022-03-09T08:56:22.093Z"
   },
   {
    "duration": 10,
    "start_time": "2022-03-09T08:56:22.137Z"
   },
   {
    "duration": 5,
    "start_time": "2022-03-09T08:56:22.149Z"
   },
   {
    "duration": 14,
    "start_time": "2022-03-09T08:56:22.156Z"
   },
   {
    "duration": 10,
    "start_time": "2022-03-09T08:56:22.172Z"
   },
   {
    "duration": 50,
    "start_time": "2022-03-09T08:56:22.184Z"
   },
   {
    "duration": 10,
    "start_time": "2022-03-09T08:56:22.236Z"
   },
   {
    "duration": 13,
    "start_time": "2022-03-09T08:56:22.248Z"
   },
   {
    "duration": 16,
    "start_time": "2022-03-09T08:56:22.263Z"
   },
   {
    "duration": 5,
    "start_time": "2022-03-09T08:56:22.280Z"
   },
   {
    "duration": 5,
    "start_time": "2022-03-09T08:56:22.286Z"
   },
   {
    "duration": 41,
    "start_time": "2022-03-09T08:56:22.293Z"
   },
   {
    "duration": 8,
    "start_time": "2022-03-09T08:56:22.335Z"
   },
   {
    "duration": 9,
    "start_time": "2022-03-09T08:56:22.344Z"
   },
   {
    "duration": 14,
    "start_time": "2022-03-09T08:56:22.355Z"
   },
   {
    "duration": 5,
    "start_time": "2022-03-09T08:56:22.370Z"
   },
   {
    "duration": 12,
    "start_time": "2022-03-09T08:56:22.377Z"
   },
   {
    "duration": 4,
    "start_time": "2022-03-09T08:56:22.433Z"
   },
   {
    "duration": 11,
    "start_time": "2022-03-09T08:56:22.439Z"
   },
   {
    "duration": 14,
    "start_time": "2022-03-09T08:56:22.451Z"
   },
   {
    "duration": 15,
    "start_time": "2022-03-09T08:56:22.466Z"
   },
   {
    "duration": 7,
    "start_time": "2022-03-09T08:56:22.483Z"
   },
   {
    "duration": 6,
    "start_time": "2022-03-09T08:56:22.492Z"
   },
   {
    "duration": 40,
    "start_time": "2022-03-09T08:56:22.499Z"
   },
   {
    "duration": 7,
    "start_time": "2022-03-09T08:56:22.540Z"
   },
   {
    "duration": 10,
    "start_time": "2022-03-09T08:56:22.549Z"
   },
   {
    "duration": 14,
    "start_time": "2022-03-09T08:56:22.561Z"
   },
   {
    "duration": 22,
    "start_time": "2022-03-09T08:56:22.577Z"
   },
   {
    "duration": 40,
    "start_time": "2022-03-09T08:56:22.601Z"
   },
   {
    "duration": 9,
    "start_time": "2022-03-09T08:56:22.643Z"
   },
   {
    "duration": 4,
    "start_time": "2022-03-09T08:56:22.654Z"
   },
   {
    "duration": 183,
    "start_time": "2022-03-09T08:56:22.659Z"
   },
   {
    "duration": 352,
    "start_time": "2022-03-09T08:56:22.844Z"
   },
   {
    "duration": 193,
    "start_time": "2022-03-09T08:56:23.197Z"
   },
   {
    "duration": 12,
    "start_time": "2022-03-09T08:56:23.392Z"
   },
   {
    "duration": 229,
    "start_time": "2022-03-09T08:56:23.406Z"
   },
   {
    "duration": 12,
    "start_time": "2022-03-09T08:56:23.636Z"
   },
   {
    "duration": 186,
    "start_time": "2022-03-09T08:56:23.649Z"
   },
   {
    "duration": 8,
    "start_time": "2022-03-09T08:56:23.836Z"
   },
   {
    "duration": 16,
    "start_time": "2022-03-09T08:56:23.846Z"
   },
   {
    "duration": 321,
    "start_time": "2022-03-09T08:56:23.866Z"
   },
   {
    "duration": 14,
    "start_time": "2022-03-09T08:56:24.189Z"
   },
   {
    "duration": 14,
    "start_time": "2022-03-09T08:56:24.204Z"
   },
   {
    "duration": 19,
    "start_time": "2022-03-09T08:56:24.219Z"
   },
   {
    "duration": 151,
    "start_time": "2022-03-09T08:56:24.239Z"
   },
   {
    "duration": 214,
    "start_time": "2022-03-09T08:56:24.392Z"
   },
   {
    "duration": 7,
    "start_time": "2022-03-09T08:56:24.608Z"
   },
   {
    "duration": 145,
    "start_time": "2022-03-09T08:56:24.616Z"
   },
   {
    "duration": 226,
    "start_time": "2022-03-09T08:56:24.762Z"
   },
   {
    "duration": 28,
    "start_time": "2022-03-09T08:56:24.990Z"
   },
   {
    "duration": 288,
    "start_time": "2022-03-09T08:56:25.032Z"
   },
   {
    "duration": 16,
    "start_time": "2022-03-09T08:56:25.322Z"
   },
   {
    "duration": 135,
    "start_time": "2022-03-09T08:56:25.340Z"
   },
   {
    "duration": 740,
    "start_time": "2022-03-10T12:18:00.425Z"
   },
   {
    "duration": 24,
    "start_time": "2022-03-10T12:18:05.736Z"
   },
   {
    "duration": 12,
    "start_time": "2022-03-10T12:18:12.991Z"
   },
   {
    "duration": 6,
    "start_time": "2022-03-10T12:18:13.928Z"
   },
   {
    "duration": 14,
    "start_time": "2022-03-10T12:18:18.121Z"
   },
   {
    "duration": 18,
    "start_time": "2022-03-10T12:18:18.819Z"
   },
   {
    "duration": 22,
    "start_time": "2022-03-10T12:18:20.522Z"
   },
   {
    "duration": 10,
    "start_time": "2022-03-10T12:18:23.811Z"
   },
   {
    "duration": 24,
    "start_time": "2022-03-10T12:18:28.011Z"
   },
   {
    "duration": 7,
    "start_time": "2022-03-10T12:18:34.490Z"
   },
   {
    "duration": 11,
    "start_time": "2022-03-10T12:18:35.060Z"
   },
   {
    "duration": 26,
    "start_time": "2022-03-10T12:18:37.644Z"
   },
   {
    "duration": 4,
    "start_time": "2022-03-10T12:18:38.373Z"
   },
   {
    "duration": 7,
    "start_time": "2022-03-10T12:18:39.587Z"
   },
   {
    "duration": 4,
    "start_time": "2022-03-10T12:18:43.529Z"
   },
   {
    "duration": 5,
    "start_time": "2022-03-10T12:18:44.380Z"
   },
   {
    "duration": 4,
    "start_time": "2022-03-10T12:18:46.005Z"
   },
   {
    "duration": 6,
    "start_time": "2022-03-10T12:18:46.448Z"
   },
   {
    "duration": 5,
    "start_time": "2022-03-10T12:18:49.322Z"
   },
   {
    "duration": 7,
    "start_time": "2022-03-10T12:18:50.240Z"
   },
   {
    "duration": 5,
    "start_time": "2022-03-10T12:18:50.713Z"
   },
   {
    "duration": 8,
    "start_time": "2022-03-10T12:18:51.755Z"
   },
   {
    "duration": 5,
    "start_time": "2022-03-10T12:18:53.574Z"
   },
   {
    "duration": 5,
    "start_time": "2022-03-10T12:18:54.630Z"
   },
   {
    "duration": 5,
    "start_time": "2022-03-10T12:18:55.088Z"
   },
   {
    "duration": 8,
    "start_time": "2022-03-10T12:18:56.565Z"
   },
   {
    "duration": 4,
    "start_time": "2022-03-10T12:18:57.331Z"
   },
   {
    "duration": 24,
    "start_time": "2022-03-10T12:19:01.054Z"
   },
   {
    "duration": 5,
    "start_time": "2022-03-10T12:19:03.260Z"
   },
   {
    "duration": 14,
    "start_time": "2022-03-10T12:19:03.986Z"
   },
   {
    "duration": 9,
    "start_time": "2022-03-10T12:19:05.095Z"
   },
   {
    "duration": 18,
    "start_time": "2022-03-10T12:19:05.558Z"
   },
   {
    "duration": 9,
    "start_time": "2022-03-10T12:19:06.926Z"
   },
   {
    "duration": 13,
    "start_time": "2022-03-10T12:19:07.851Z"
   },
   {
    "duration": 16,
    "start_time": "2022-03-10T12:19:09.559Z"
   },
   {
    "duration": 5,
    "start_time": "2022-03-10T12:19:12.087Z"
   },
   {
    "duration": 5,
    "start_time": "2022-03-10T12:19:12.563Z"
   },
   {
    "duration": 7,
    "start_time": "2022-03-10T12:19:12.899Z"
   },
   {
    "duration": 8,
    "start_time": "2022-03-10T12:19:13.317Z"
   },
   {
    "duration": 10,
    "start_time": "2022-03-10T12:19:25.569Z"
   },
   {
    "duration": 16,
    "start_time": "2022-03-10T12:19:26.850Z"
   },
   {
    "duration": 7,
    "start_time": "2022-03-10T12:19:29.011Z"
   },
   {
    "duration": 15,
    "start_time": "2022-03-10T12:19:30.768Z"
   },
   {
    "duration": 4,
    "start_time": "2022-03-10T12:19:34.906Z"
   },
   {
    "duration": 11,
    "start_time": "2022-03-10T12:19:35.968Z"
   },
   {
    "duration": 14,
    "start_time": "2022-03-10T12:19:37.893Z"
   },
   {
    "duration": 15,
    "start_time": "2022-03-10T12:19:40.601Z"
   },
   {
    "duration": 8,
    "start_time": "2022-03-10T12:19:43.682Z"
   },
   {
    "duration": 9,
    "start_time": "2022-03-10T12:19:44.502Z"
   },
   {
    "duration": 8,
    "start_time": "2022-03-10T12:19:46.730Z"
   },
   {
    "duration": 8,
    "start_time": "2022-03-10T12:19:47.208Z"
   },
   {
    "duration": 10,
    "start_time": "2022-03-10T12:21:01.967Z"
   },
   {
    "duration": 16,
    "start_time": "2022-03-10T12:21:02.935Z"
   },
   {
    "duration": 6,
    "start_time": "2022-03-10T12:21:05.798Z"
   },
   {
    "duration": 15,
    "start_time": "2022-03-10T12:21:06.587Z"
   },
   {
    "duration": 24,
    "start_time": "2022-03-10T12:23:03.702Z"
   },
   {
    "duration": 21,
    "start_time": "2022-03-10T12:28:28.878Z"
   },
   {
    "duration": 8,
    "start_time": "2022-03-10T12:32:38.018Z"
   },
   {
    "duration": 173,
    "start_time": "2022-03-10T12:32:55.118Z"
   },
   {
    "duration": 183,
    "start_time": "2022-03-10T12:33:06.817Z"
   },
   {
    "duration": 230,
    "start_time": "2022-03-10T12:33:10.303Z"
   },
   {
    "duration": 267,
    "start_time": "2022-03-10T12:33:16.146Z"
   },
   {
    "duration": 14,
    "start_time": "2022-03-10T12:36:19.178Z"
   },
   {
    "duration": 25,
    "start_time": "2022-03-10T12:36:19.869Z"
   },
   {
    "duration": 25,
    "start_time": "2022-03-10T12:36:21.583Z"
   },
   {
    "duration": 10,
    "start_time": "2022-03-10T12:36:51.295Z"
   },
   {
    "duration": 5,
    "start_time": "2022-03-10T12:36:56.267Z"
   },
   {
    "duration": 187,
    "start_time": "2022-03-10T12:36:58.306Z"
   },
   {
    "duration": 358,
    "start_time": "2022-03-10T12:37:12.771Z"
   },
   {
    "duration": 229,
    "start_time": "2022-03-10T12:37:15.367Z"
   },
   {
    "duration": 13,
    "start_time": "2022-03-10T12:37:27.426Z"
   },
   {
    "duration": 211,
    "start_time": "2022-03-10T12:37:34.347Z"
   },
   {
    "duration": 18,
    "start_time": "2022-03-10T12:37:36.610Z"
   },
   {
    "duration": 212,
    "start_time": "2022-03-10T12:37:41.879Z"
   },
   {
    "duration": 9,
    "start_time": "2022-03-10T12:53:42.763Z"
   },
   {
    "duration": 18,
    "start_time": "2022-03-10T12:53:46.597Z"
   },
   {
    "duration": 339,
    "start_time": "2022-03-10T12:53:48.523Z"
   },
   {
    "duration": 15,
    "start_time": "2022-03-10T12:53:59.409Z"
   },
   {
    "duration": 11,
    "start_time": "2022-03-10T12:54:02.205Z"
   },
   {
    "duration": 7,
    "start_time": "2022-03-10T12:54:04.442Z"
   },
   {
    "duration": 160,
    "start_time": "2022-03-10T12:54:06.204Z"
   },
   {
    "duration": 239,
    "start_time": "2022-03-10T12:54:08.060Z"
   },
   {
    "duration": 8,
    "start_time": "2022-03-10T12:54:10.496Z"
   },
   {
    "duration": 153,
    "start_time": "2022-03-10T12:54:12.006Z"
   },
   {
    "duration": 249,
    "start_time": "2022-03-10T12:54:14.736Z"
   },
   {
    "duration": 30,
    "start_time": "2022-03-10T12:54:25.414Z"
   },
   {
    "duration": 404,
    "start_time": "2022-03-10T12:54:32.993Z"
   },
   {
    "duration": 8,
    "start_time": "2022-03-10T12:54:37.368Z"
   },
   {
    "duration": 135,
    "start_time": "2022-03-10T12:54:38.292Z"
   },
   {
    "duration": 1503,
    "start_time": "2022-03-22T10:08:03.599Z"
   },
   {
    "duration": 101,
    "start_time": "2022-03-22T10:08:34.527Z"
   },
   {
    "duration": 137,
    "start_time": "2022-03-22T10:08:34.630Z"
   },
   {
    "duration": 2,
    "start_time": "2022-03-22T10:08:34.769Z"
   },
   {
    "duration": 18,
    "start_time": "2022-03-22T10:08:34.772Z"
   },
   {
    "duration": 9,
    "start_time": "2022-03-22T10:08:34.793Z"
   },
   {
    "duration": 15,
    "start_time": "2022-03-22T10:08:34.804Z"
   },
   {
    "duration": 24,
    "start_time": "2022-03-22T10:08:34.821Z"
   },
   {
    "duration": 24,
    "start_time": "2022-03-22T10:08:34.846Z"
   },
   {
    "duration": 35,
    "start_time": "2022-03-22T10:08:34.871Z"
   },
   {
    "duration": 20,
    "start_time": "2022-03-22T10:08:34.907Z"
   },
   {
    "duration": 5,
    "start_time": "2022-03-22T10:08:34.928Z"
   },
   {
    "duration": 20,
    "start_time": "2022-03-22T10:08:34.934Z"
   },
   {
    "duration": 17,
    "start_time": "2022-03-22T10:08:34.955Z"
   },
   {
    "duration": 5,
    "start_time": "2022-03-22T10:08:35.000Z"
   },
   {
    "duration": 10,
    "start_time": "2022-03-22T10:08:35.007Z"
   },
   {
    "duration": 7,
    "start_time": "2022-03-22T10:08:35.019Z"
   },
   {
    "duration": 6,
    "start_time": "2022-03-22T10:08:35.027Z"
   },
   {
    "duration": 12,
    "start_time": "2022-03-22T10:08:35.034Z"
   },
   {
    "duration": 10,
    "start_time": "2022-03-22T10:08:35.048Z"
   },
   {
    "duration": 7,
    "start_time": "2022-03-22T10:08:35.060Z"
   },
   {
    "duration": 16,
    "start_time": "2022-03-22T10:08:35.068Z"
   },
   {
    "duration": 17,
    "start_time": "2022-03-22T10:08:35.085Z"
   },
   {
    "duration": 7,
    "start_time": "2022-03-22T10:08:35.103Z"
   },
   {
    "duration": 10,
    "start_time": "2022-03-22T10:08:35.111Z"
   },
   {
    "duration": 10,
    "start_time": "2022-03-22T10:08:35.122Z"
   },
   {
    "duration": 8,
    "start_time": "2022-03-22T10:08:35.134Z"
   },
   {
    "duration": 10,
    "start_time": "2022-03-22T10:08:35.144Z"
   },
   {
    "duration": 11,
    "start_time": "2022-03-22T10:08:35.156Z"
   },
   {
    "duration": 14,
    "start_time": "2022-03-22T10:08:35.168Z"
   },
   {
    "duration": 8,
    "start_time": "2022-03-22T10:08:35.184Z"
   },
   {
    "duration": 13,
    "start_time": "2022-03-22T10:08:35.201Z"
   },
   {
    "duration": 19,
    "start_time": "2022-03-22T10:08:35.215Z"
   },
   {
    "duration": 22,
    "start_time": "2022-03-22T10:08:35.235Z"
   },
   {
    "duration": 10,
    "start_time": "2022-03-22T10:08:35.259Z"
   },
   {
    "duration": 33,
    "start_time": "2022-03-22T10:08:35.270Z"
   },
   {
    "duration": 18,
    "start_time": "2022-03-22T10:08:35.305Z"
   },
   {
    "duration": 6,
    "start_time": "2022-03-22T10:08:35.325Z"
   },
   {
    "duration": 8,
    "start_time": "2022-03-22T10:08:35.333Z"
   },
   {
    "duration": 12,
    "start_time": "2022-03-22T10:08:35.343Z"
   },
   {
    "duration": 14,
    "start_time": "2022-03-22T10:08:35.356Z"
   },
   {
    "duration": 29,
    "start_time": "2022-03-22T10:08:35.373Z"
   },
   {
    "duration": 15,
    "start_time": "2022-03-22T10:08:35.404Z"
   },
   {
    "duration": 10,
    "start_time": "2022-03-22T10:08:35.420Z"
   },
   {
    "duration": 18,
    "start_time": "2022-03-22T10:08:35.432Z"
   },
   {
    "duration": 5,
    "start_time": "2022-03-22T10:08:35.451Z"
   },
   {
    "duration": 19,
    "start_time": "2022-03-22T10:08:35.457Z"
   },
   {
    "duration": 34,
    "start_time": "2022-03-22T10:08:35.478Z"
   },
   {
    "duration": 16,
    "start_time": "2022-03-22T10:08:35.514Z"
   },
   {
    "duration": 10,
    "start_time": "2022-03-22T10:08:35.531Z"
   },
   {
    "duration": 9,
    "start_time": "2022-03-22T10:08:35.542Z"
   },
   {
    "duration": 14,
    "start_time": "2022-03-22T10:08:35.552Z"
   },
   {
    "duration": 34,
    "start_time": "2022-03-22T10:08:35.568Z"
   },
   {
    "duration": 21,
    "start_time": "2022-03-22T10:08:35.604Z"
   },
   {
    "duration": 19,
    "start_time": "2022-03-22T10:08:35.627Z"
   },
   {
    "duration": 23,
    "start_time": "2022-03-22T10:08:35.648Z"
   },
   {
    "duration": 133,
    "start_time": "2022-03-22T10:08:52.325Z"
   },
   {
    "duration": 128,
    "start_time": "2022-03-22T10:09:13.417Z"
   },
   {
    "duration": 155,
    "start_time": "2022-03-22T10:09:35.913Z"
   },
   {
    "duration": 139,
    "start_time": "2022-03-22T10:09:41.437Z"
   },
   {
    "duration": 179,
    "start_time": "2022-03-22T10:09:46.925Z"
   },
   {
    "duration": 142,
    "start_time": "2022-03-22T10:10:05.223Z"
   },
   {
    "duration": 133,
    "start_time": "2022-03-22T10:10:16.431Z"
   },
   {
    "duration": 973,
    "start_time": "2022-07-04T14:53:29.497Z"
   },
   {
    "duration": 124,
    "start_time": "2022-07-04T14:53:38.320Z"
   },
   {
    "duration": 14,
    "start_time": "2022-07-04T14:53:45.088Z"
   },
   {
    "duration": 15,
    "start_time": "2022-07-04T14:53:49.653Z"
   },
   {
    "duration": 15,
    "start_time": "2022-07-04T14:54:01.438Z"
   },
   {
    "duration": 4,
    "start_time": "2022-07-04T14:54:24.765Z"
   },
   {
    "duration": 22,
    "start_time": "2022-07-04T14:54:41.136Z"
   },
   {
    "duration": 37,
    "start_time": "2022-07-04T14:55:09.807Z"
   },
   {
    "duration": 26,
    "start_time": "2022-07-04T14:55:27.278Z"
   },
   {
    "duration": 21,
    "start_time": "2022-07-04T14:55:36.094Z"
   },
   {
    "duration": 41,
    "start_time": "2022-07-04T14:56:11.409Z"
   },
   {
    "duration": 4,
    "start_time": "2022-07-04T15:03:33.208Z"
   },
   {
    "duration": 13,
    "start_time": "2022-07-04T15:03:38.196Z"
   },
   {
    "duration": 34,
    "start_time": "2022-07-04T15:03:55.318Z"
   },
   {
    "duration": 4,
    "start_time": "2022-07-04T15:03:58.468Z"
   },
   {
    "duration": 7,
    "start_time": "2022-07-04T15:04:49.569Z"
   },
   {
    "duration": 123,
    "start_time": "2022-07-04T16:53:43.077Z"
   },
   {
    "duration": 52,
    "start_time": "2022-07-04T16:53:45.873Z"
   },
   {
    "duration": 14,
    "start_time": "2022-07-04T16:53:46.611Z"
   },
   {
    "duration": 11,
    "start_time": "2022-07-04T16:53:48.602Z"
   },
   {
    "duration": 16,
    "start_time": "2022-07-04T16:53:49.232Z"
   },
   {
    "duration": 25,
    "start_time": "2022-07-04T16:53:50.050Z"
   },
   {
    "duration": 28,
    "start_time": "2022-07-04T16:53:51.870Z"
   },
   {
    "duration": 14,
    "start_time": "2022-07-04T16:53:52.472Z"
   },
   {
    "duration": 31,
    "start_time": "2022-07-04T16:53:53.814Z"
   },
   {
    "duration": 4,
    "start_time": "2022-07-04T16:53:55.819Z"
   },
   {
    "duration": 12,
    "start_time": "2022-07-04T16:53:58.308Z"
   },
   {
    "duration": 19,
    "start_time": "2022-07-04T16:53:59.556Z"
   },
   {
    "duration": 5,
    "start_time": "2022-07-04T16:54:02.486Z"
   },
   {
    "duration": 8,
    "start_time": "2022-07-04T16:54:03.966Z"
   },
   {
    "duration": 5,
    "start_time": "2022-07-04T16:54:04.709Z"
   },
   {
    "duration": 5,
    "start_time": "2022-07-04T16:54:09.320Z"
   },
   {
    "duration": 9,
    "start_time": "2022-07-04T16:54:10.428Z"
   },
   {
    "duration": 13,
    "start_time": "2022-07-04T16:54:12.824Z"
   },
   {
    "duration": 5,
    "start_time": "2022-07-04T16:54:13.759Z"
   },
   {
    "duration": 5,
    "start_time": "2022-07-04T16:54:44.560Z"
   },
   {
    "duration": 11,
    "start_time": "2022-07-04T16:54:50.139Z"
   },
   {
    "duration": 15,
    "start_time": "2022-07-04T16:55:17.729Z"
   },
   {
    "duration": 4,
    "start_time": "2022-07-04T16:55:25.322Z"
   },
   {
    "duration": 9,
    "start_time": "2022-07-04T16:55:42.558Z"
   },
   {
    "duration": 5,
    "start_time": "2022-07-04T16:55:43.457Z"
   },
   {
    "duration": 7,
    "start_time": "2022-07-04T16:56:05.212Z"
   },
   {
    "duration": 5,
    "start_time": "2022-07-04T16:56:08.659Z"
   },
   {
    "duration": 9,
    "start_time": "2022-07-04T16:57:28.782Z"
   },
   {
    "duration": 5,
    "start_time": "2022-07-04T16:57:32.520Z"
   },
   {
    "duration": 13,
    "start_time": "2022-07-04T16:57:38.200Z"
   },
   {
    "duration": 24,
    "start_time": "2022-07-04T16:58:32.032Z"
   },
   {
    "duration": 25,
    "start_time": "2022-07-04T16:58:33.424Z"
   },
   {
    "duration": 13,
    "start_time": "2022-07-04T16:58:35.227Z"
   },
   {
    "duration": 18,
    "start_time": "2022-07-04T16:59:47.883Z"
   },
   {
    "duration": 19,
    "start_time": "2022-07-04T17:00:05.335Z"
   },
   {
    "duration": 6,
    "start_time": "2022-07-04T17:01:16.882Z"
   },
   {
    "duration": 4,
    "start_time": "2022-07-04T17:01:17.763Z"
   },
   {
    "duration": 7,
    "start_time": "2022-07-04T17:01:20.293Z"
   },
   {
    "duration": 8,
    "start_time": "2022-07-04T17:01:23.011Z"
   },
   {
    "duration": 10,
    "start_time": "2022-07-04T17:02:17.805Z"
   },
   {
    "duration": 21,
    "start_time": "2022-07-04T17:02:27.154Z"
   },
   {
    "duration": 5,
    "start_time": "2022-07-04T17:02:31.798Z"
   },
   {
    "duration": 18,
    "start_time": "2022-07-04T17:02:36.907Z"
   },
   {
    "duration": 5,
    "start_time": "2022-07-04T17:04:58.166Z"
   },
   {
    "duration": 28,
    "start_time": "2022-07-04T17:04:59.519Z"
   },
   {
    "duration": 14,
    "start_time": "2022-07-04T17:05:03.796Z"
   },
   {
    "duration": 17,
    "start_time": "2022-07-04T17:06:00.002Z"
   },
   {
    "duration": 8,
    "start_time": "2022-07-04T17:06:03.113Z"
   },
   {
    "duration": 192,
    "start_time": "2022-07-04T17:06:19.173Z"
   },
   {
    "duration": 190,
    "start_time": "2022-07-04T17:06:24.059Z"
   },
   {
    "duration": 16,
    "start_time": "2022-07-04T17:06:32.059Z"
   },
   {
    "duration": 269,
    "start_time": "2022-07-04T17:06:35.703Z"
   },
   {
    "duration": 15,
    "start_time": "2022-07-04T17:06:39.357Z"
   },
   {
    "duration": 227,
    "start_time": "2022-07-04T17:06:43.148Z"
   },
   {
    "duration": 10,
    "start_time": "2022-07-04T17:06:45.896Z"
   },
   {
    "duration": 276,
    "start_time": "2022-07-04T17:06:49.066Z"
   },
   {
    "duration": 28,
    "start_time": "2022-07-04T17:10:07.651Z"
   },
   {
    "duration": 45,
    "start_time": "2022-07-04T17:10:10.935Z"
   },
   {
    "duration": 9,
    "start_time": "2022-07-04T17:13:59.603Z"
   },
   {
    "duration": 150,
    "start_time": "2022-07-04T17:14:12.775Z"
   },
   {
    "duration": 18,
    "start_time": "2022-07-04T17:15:51.283Z"
   },
   {
    "duration": 30,
    "start_time": "2022-07-04T17:16:20.513Z"
   },
   {
    "duration": 22,
    "start_time": "2022-07-04T17:16:39.188Z"
   },
   {
    "duration": 17,
    "start_time": "2022-07-04T17:18:09.568Z"
   },
   {
    "duration": 8,
    "start_time": "2022-07-04T17:19:09.982Z"
   },
   {
    "duration": 160,
    "start_time": "2022-07-04T17:19:54.261Z"
   },
   {
    "duration": 92,
    "start_time": "2022-07-04T17:21:09.956Z"
   },
   {
    "duration": 215,
    "start_time": "2022-07-04T17:21:18.749Z"
   },
   {
    "duration": 84,
    "start_time": "2022-07-04T17:21:26.363Z"
   },
   {
    "duration": 11,
    "start_time": "2022-07-04T17:21:29.951Z"
   },
   {
    "duration": 171,
    "start_time": "2022-07-04T17:21:41.225Z"
   },
   {
    "duration": 9,
    "start_time": "2022-07-04T17:22:06.005Z"
   },
   {
    "duration": 10,
    "start_time": "2022-07-04T17:22:13.402Z"
   },
   {
    "duration": 211,
    "start_time": "2022-07-04T17:22:18.059Z"
   },
   {
    "duration": 9,
    "start_time": "2022-07-04T17:22:34.796Z"
   },
   {
    "duration": 6,
    "start_time": "2022-07-04T17:22:39.802Z"
   },
   {
    "duration": 157,
    "start_time": "2022-07-04T17:22:42.849Z"
   },
   {
    "duration": 7,
    "start_time": "2022-07-04T17:23:32.254Z"
   },
   {
    "duration": 174,
    "start_time": "2022-07-04T17:23:34.180Z"
   },
   {
    "duration": 183,
    "start_time": "2022-07-04T17:25:11.692Z"
   },
   {
    "duration": 191,
    "start_time": "2022-07-04T17:25:52.666Z"
   },
   {
    "duration": 173,
    "start_time": "2022-07-04T17:26:16.691Z"
   },
   {
    "duration": 237,
    "start_time": "2022-07-04T17:26:25.451Z"
   },
   {
    "duration": 12,
    "start_time": "2022-07-04T17:45:34.398Z"
   },
   {
    "duration": 193,
    "start_time": "2022-07-04T17:47:12.961Z"
   },
   {
    "duration": 17,
    "start_time": "2022-07-04T17:47:20.222Z"
   },
   {
    "duration": 161,
    "start_time": "2022-07-04T17:47:59.696Z"
   },
   {
    "duration": 180,
    "start_time": "2022-07-04T17:48:06.513Z"
   },
   {
    "duration": 911,
    "start_time": "2022-07-05T08:28:53.318Z"
   },
   {
    "duration": 80,
    "start_time": "2022-07-05T08:29:10.619Z"
   },
   {
    "duration": 43,
    "start_time": "2022-07-05T08:29:10.701Z"
   },
   {
    "duration": 14,
    "start_time": "2022-07-05T08:29:10.745Z"
   },
   {
    "duration": 11,
    "start_time": "2022-07-05T08:29:10.763Z"
   },
   {
    "duration": 16,
    "start_time": "2022-07-05T08:29:10.778Z"
   },
   {
    "duration": 49,
    "start_time": "2022-07-05T08:29:10.795Z"
   },
   {
    "duration": 22,
    "start_time": "2022-07-05T08:29:10.846Z"
   },
   {
    "duration": 13,
    "start_time": "2022-07-05T08:29:10.869Z"
   },
   {
    "duration": 20,
    "start_time": "2022-07-05T08:29:10.883Z"
   },
   {
    "duration": 4,
    "start_time": "2022-07-05T08:29:10.905Z"
   },
   {
    "duration": 41,
    "start_time": "2022-07-05T08:29:10.911Z"
   },
   {
    "duration": 17,
    "start_time": "2022-07-05T08:29:10.953Z"
   },
   {
    "duration": 6,
    "start_time": "2022-07-05T08:29:10.971Z"
   },
   {
    "duration": 14,
    "start_time": "2022-07-05T08:29:10.978Z"
   },
   {
    "duration": 6,
    "start_time": "2022-07-05T08:29:10.993Z"
   },
   {
    "duration": 11,
    "start_time": "2022-07-05T08:29:11.001Z"
   },
   {
    "duration": 6,
    "start_time": "2022-07-05T08:29:11.014Z"
   },
   {
    "duration": 22,
    "start_time": "2022-07-05T08:29:11.021Z"
   },
   {
    "duration": 4,
    "start_time": "2022-07-05T08:29:11.045Z"
   },
   {
    "duration": 6,
    "start_time": "2022-07-05T08:29:11.050Z"
   },
   {
    "duration": 7,
    "start_time": "2022-07-05T08:29:11.057Z"
   },
   {
    "duration": 7,
    "start_time": "2022-07-05T08:29:11.065Z"
   },
   {
    "duration": 5,
    "start_time": "2022-07-05T08:29:11.074Z"
   },
   {
    "duration": 7,
    "start_time": "2022-07-05T08:29:11.080Z"
   },
   {
    "duration": 4,
    "start_time": "2022-07-05T08:29:11.088Z"
   },
   {
    "duration": 8,
    "start_time": "2022-07-05T08:29:11.093Z"
   },
   {
    "duration": 41,
    "start_time": "2022-07-05T08:29:11.102Z"
   },
   {
    "duration": 8,
    "start_time": "2022-07-05T08:29:11.146Z"
   },
   {
    "duration": 5,
    "start_time": "2022-07-05T08:29:11.156Z"
   },
   {
    "duration": 16,
    "start_time": "2022-07-05T08:29:11.163Z"
   },
   {
    "duration": 14,
    "start_time": "2022-07-05T08:29:11.180Z"
   },
   {
    "duration": 16,
    "start_time": "2022-07-05T08:29:11.195Z"
   },
   {
    "duration": 9,
    "start_time": "2022-07-05T08:29:11.242Z"
   },
   {
    "duration": 14,
    "start_time": "2022-07-05T08:29:11.252Z"
   },
   {
    "duration": 16,
    "start_time": "2022-07-05T08:29:11.267Z"
   },
   {
    "duration": 6,
    "start_time": "2022-07-05T08:29:11.285Z"
   },
   {
    "duration": 6,
    "start_time": "2022-07-05T08:29:11.292Z"
   },
   {
    "duration": 7,
    "start_time": "2022-07-05T08:29:11.299Z"
   },
   {
    "duration": 38,
    "start_time": "2022-07-05T08:29:11.307Z"
   },
   {
    "duration": 8,
    "start_time": "2022-07-05T08:29:11.347Z"
   },
   {
    "duration": 19,
    "start_time": "2022-07-05T08:29:11.357Z"
   },
   {
    "duration": 7,
    "start_time": "2022-07-05T08:29:11.377Z"
   },
   {
    "duration": 14,
    "start_time": "2022-07-05T08:29:11.386Z"
   },
   {
    "duration": 4,
    "start_time": "2022-07-05T08:29:11.402Z"
   },
   {
    "duration": 45,
    "start_time": "2022-07-05T08:29:11.408Z"
   },
   {
    "duration": 12,
    "start_time": "2022-07-05T08:29:11.454Z"
   },
   {
    "duration": 18,
    "start_time": "2022-07-05T08:29:11.467Z"
   },
   {
    "duration": 12,
    "start_time": "2022-07-05T08:29:11.487Z"
   },
   {
    "duration": 179,
    "start_time": "2022-07-05T08:29:11.501Z"
   },
   {
    "duration": 8,
    "start_time": "2022-07-05T08:29:11.681Z"
   },
   {
    "duration": 169,
    "start_time": "2022-07-05T08:29:11.690Z"
   },
   {
    "duration": 7,
    "start_time": "2022-07-05T08:29:11.861Z"
   },
   {
    "duration": 159,
    "start_time": "2022-07-05T08:29:11.869Z"
   },
   {
    "duration": 13,
    "start_time": "2022-07-05T08:29:12.030Z"
   },
   {
    "duration": 164,
    "start_time": "2022-07-05T08:29:12.045Z"
   },
   {
    "duration": 22,
    "start_time": "2022-07-05T08:29:12.211Z"
   },
   {
    "duration": 50,
    "start_time": "2022-07-05T08:29:12.234Z"
   },
   {
    "duration": 18,
    "start_time": "2022-07-05T08:29:12.286Z"
   },
   {
    "duration": 215,
    "start_time": "2022-07-05T08:29:12.306Z"
   },
   {
    "duration": 21,
    "start_time": "2022-07-05T08:29:12.522Z"
   },
   {
    "duration": 40,
    "start_time": "2022-07-05T08:29:12.544Z"
   },
   {
    "duration": 34,
    "start_time": "2022-07-05T08:29:12.586Z"
   },
   {
    "duration": 10,
    "start_time": "2022-07-05T08:29:12.621Z"
   },
   {
    "duration": 31,
    "start_time": "2022-07-05T08:29:12.632Z"
   },
   {
    "duration": 151,
    "start_time": "2022-07-05T08:29:12.665Z"
   },
   {
    "duration": 147,
    "start_time": "2022-07-05T08:29:12.817Z"
   },
   {
    "duration": 147,
    "start_time": "2022-07-05T08:29:12.965Z"
   },
   {
    "duration": 12,
    "start_time": "2022-07-05T08:29:13.114Z"
   },
   {
    "duration": 179,
    "start_time": "2022-07-05T08:29:13.127Z"
   },
   {
    "duration": 11,
    "start_time": "2022-07-05T08:29:13.307Z"
   },
   {
    "duration": 170,
    "start_time": "2022-07-05T08:29:13.320Z"
   },
   {
    "duration": 9,
    "start_time": "2022-07-05T08:29:33.238Z"
   },
   {
    "duration": 18,
    "start_time": "2022-07-05T08:29:43.863Z"
   },
   {
    "duration": 271,
    "start_time": "2022-07-05T08:30:21.406Z"
   },
   {
    "duration": 14,
    "start_time": "2022-07-05T08:33:42.636Z"
   },
   {
    "duration": 18,
    "start_time": "2022-07-05T08:33:44.412Z"
   },
   {
    "duration": 9,
    "start_time": "2022-07-05T08:33:46.238Z"
   },
   {
    "duration": 164,
    "start_time": "2022-07-05T08:33:59.840Z"
   },
   {
    "duration": 112,
    "start_time": "2022-07-05T08:34:07.931Z"
   },
   {
    "duration": 162,
    "start_time": "2022-07-05T08:34:27.280Z"
   },
   {
    "duration": 149,
    "start_time": "2022-07-05T08:34:41.618Z"
   },
   {
    "duration": 8,
    "start_time": "2022-07-05T08:35:00.037Z"
   },
   {
    "duration": 186,
    "start_time": "2022-07-05T08:35:11.839Z"
   },
   {
    "duration": 161,
    "start_time": "2022-07-05T08:35:31.556Z"
   },
   {
    "duration": 25,
    "start_time": "2022-07-05T08:36:22.991Z"
   },
   {
    "duration": 88,
    "start_time": "2022-07-05T08:37:57.784Z"
   },
   {
    "duration": 23,
    "start_time": "2022-07-05T08:37:57.874Z"
   },
   {
    "duration": 14,
    "start_time": "2022-07-05T08:37:57.898Z"
   },
   {
    "duration": 28,
    "start_time": "2022-07-05T08:37:57.914Z"
   },
   {
    "duration": 15,
    "start_time": "2022-07-05T08:37:57.944Z"
   },
   {
    "duration": 27,
    "start_time": "2022-07-05T08:37:57.960Z"
   },
   {
    "duration": 59,
    "start_time": "2022-07-05T08:37:57.988Z"
   },
   {
    "duration": 14,
    "start_time": "2022-07-05T08:37:58.049Z"
   },
   {
    "duration": 22,
    "start_time": "2022-07-05T08:37:58.065Z"
   },
   {
    "duration": 4,
    "start_time": "2022-07-05T08:37:58.089Z"
   },
   {
    "duration": 17,
    "start_time": "2022-07-05T08:37:58.095Z"
   },
   {
    "duration": 46,
    "start_time": "2022-07-05T08:37:58.113Z"
   },
   {
    "duration": 4,
    "start_time": "2022-07-05T08:37:58.161Z"
   },
   {
    "duration": 8,
    "start_time": "2022-07-05T08:37:58.168Z"
   },
   {
    "duration": 5,
    "start_time": "2022-07-05T08:37:58.178Z"
   },
   {
    "duration": 4,
    "start_time": "2022-07-05T08:37:58.185Z"
   },
   {
    "duration": 5,
    "start_time": "2022-07-05T08:37:58.191Z"
   },
   {
    "duration": 6,
    "start_time": "2022-07-05T08:37:58.197Z"
   },
   {
    "duration": 4,
    "start_time": "2022-07-05T08:37:58.243Z"
   },
   {
    "duration": 7,
    "start_time": "2022-07-05T08:37:58.249Z"
   },
   {
    "duration": 7,
    "start_time": "2022-07-05T08:37:58.258Z"
   },
   {
    "duration": 8,
    "start_time": "2022-07-05T08:37:58.267Z"
   },
   {
    "duration": 5,
    "start_time": "2022-07-05T08:37:58.277Z"
   },
   {
    "duration": 7,
    "start_time": "2022-07-05T08:37:58.283Z"
   },
   {
    "duration": 6,
    "start_time": "2022-07-05T08:37:58.291Z"
   },
   {
    "duration": 45,
    "start_time": "2022-07-05T08:37:58.299Z"
   },
   {
    "duration": 5,
    "start_time": "2022-07-05T08:37:58.345Z"
   },
   {
    "duration": 12,
    "start_time": "2022-07-05T08:37:58.351Z"
   },
   {
    "duration": 6,
    "start_time": "2022-07-05T08:37:58.365Z"
   },
   {
    "duration": 17,
    "start_time": "2022-07-05T08:37:58.373Z"
   },
   {
    "duration": 16,
    "start_time": "2022-07-05T08:37:58.392Z"
   },
   {
    "duration": 44,
    "start_time": "2022-07-05T08:37:58.410Z"
   },
   {
    "duration": 10,
    "start_time": "2022-07-05T08:37:58.456Z"
   },
   {
    "duration": 16,
    "start_time": "2022-07-05T08:37:58.467Z"
   },
   {
    "duration": 16,
    "start_time": "2022-07-05T08:37:58.485Z"
   },
   {
    "duration": 6,
    "start_time": "2022-07-05T08:37:58.502Z"
   },
   {
    "duration": 36,
    "start_time": "2022-07-05T08:37:58.509Z"
   },
   {
    "duration": 6,
    "start_time": "2022-07-05T08:37:58.546Z"
   },
   {
    "duration": 11,
    "start_time": "2022-07-05T08:37:58.554Z"
   },
   {
    "duration": 11,
    "start_time": "2022-07-05T08:37:58.566Z"
   },
   {
    "duration": 18,
    "start_time": "2022-07-05T08:37:58.581Z"
   },
   {
    "duration": 45,
    "start_time": "2022-07-05T08:37:58.601Z"
   },
   {
    "duration": 15,
    "start_time": "2022-07-05T08:37:58.648Z"
   },
   {
    "duration": 7,
    "start_time": "2022-07-05T08:37:58.665Z"
   },
   {
    "duration": 16,
    "start_time": "2022-07-05T08:37:58.673Z"
   },
   {
    "duration": 13,
    "start_time": "2022-07-05T08:37:58.691Z"
   },
   {
    "duration": 48,
    "start_time": "2022-07-05T08:37:58.706Z"
   },
   {
    "duration": 9,
    "start_time": "2022-07-05T08:37:58.755Z"
   },
   {
    "duration": 190,
    "start_time": "2022-07-05T08:37:58.766Z"
   },
   {
    "duration": 8,
    "start_time": "2022-07-05T08:37:58.958Z"
   },
   {
    "duration": 201,
    "start_time": "2022-07-05T08:37:58.968Z"
   },
   {
    "duration": 8,
    "start_time": "2022-07-05T08:37:59.171Z"
   },
   {
    "duration": 184,
    "start_time": "2022-07-05T08:37:59.181Z"
   },
   {
    "duration": 9,
    "start_time": "2022-07-05T08:37:59.367Z"
   },
   {
    "duration": 178,
    "start_time": "2022-07-05T08:37:59.378Z"
   },
   {
    "duration": 26,
    "start_time": "2022-07-05T08:37:59.558Z"
   },
   {
    "duration": 20,
    "start_time": "2022-07-05T08:37:59.586Z"
   },
   {
    "duration": 35,
    "start_time": "2022-07-05T08:37:59.608Z"
   },
   {
    "duration": 153,
    "start_time": "2022-07-05T08:37:59.645Z"
   },
   {
    "duration": 15,
    "start_time": "2022-07-05T08:37:59.800Z"
   },
   {
    "duration": 37,
    "start_time": "2022-07-05T08:37:59.816Z"
   },
   {
    "duration": 17,
    "start_time": "2022-07-05T08:37:59.855Z"
   },
   {
    "duration": 10,
    "start_time": "2022-07-05T08:37:59.874Z"
   },
   {
    "duration": 9,
    "start_time": "2022-07-05T08:37:59.886Z"
   },
   {
    "duration": 187,
    "start_time": "2022-07-05T08:37:59.897Z"
   },
   {
    "duration": 169,
    "start_time": "2022-07-05T08:38:00.085Z"
   },
   {
    "duration": 173,
    "start_time": "2022-07-05T08:38:00.256Z"
   },
   {
    "duration": 22,
    "start_time": "2022-07-05T08:38:00.431Z"
   },
   {
    "duration": 297,
    "start_time": "2022-07-05T08:38:00.454Z"
   },
   {
    "duration": 15,
    "start_time": "2022-07-05T08:38:00.753Z"
   },
   {
    "duration": 208,
    "start_time": "2022-07-05T08:38:00.770Z"
   },
   {
    "duration": 10,
    "start_time": "2022-07-05T08:38:00.980Z"
   },
   {
    "duration": 27,
    "start_time": "2022-07-05T08:38:00.992Z"
   },
   {
    "duration": 286,
    "start_time": "2022-07-05T08:38:01.021Z"
   },
   {
    "duration": 17,
    "start_time": "2022-07-05T08:38:01.309Z"
   },
   {
    "duration": 31,
    "start_time": "2022-07-05T08:38:01.341Z"
   },
   {
    "duration": 17,
    "start_time": "2022-07-05T08:38:01.374Z"
   },
   {
    "duration": 217,
    "start_time": "2022-07-05T08:38:01.393Z"
   },
   {
    "duration": 191,
    "start_time": "2022-07-05T08:38:01.612Z"
   },
   {
    "duration": 8,
    "start_time": "2022-07-05T08:38:01.805Z"
   },
   {
    "duration": 146,
    "start_time": "2022-07-05T08:38:01.815Z"
   },
   {
    "duration": 182,
    "start_time": "2022-07-05T08:38:01.962Z"
   },
   {
    "duration": 159,
    "start_time": "2022-07-05T08:38:14.842Z"
   },
   {
    "duration": 8,
    "start_time": "2022-07-05T08:38:21.260Z"
   },
   {
    "duration": 116,
    "start_time": "2022-07-05T08:38:46.666Z"
   }
  ],
  "kernelspec": {
   "display_name": "Python 3 (ipykernel)",
   "language": "python",
   "name": "python3"
  },
  "language_info": {
   "codemirror_mode": {
    "name": "ipython",
    "version": 3
   },
   "file_extension": ".py",
   "mimetype": "text/x-python",
   "name": "python",
   "nbconvert_exporter": "python",
   "pygments_lexer": "ipython3",
   "version": "3.9.5"
  },
  "toc": {
   "base_numbering": 1,
   "nav_menu": {},
   "number_sections": true,
   "sideBar": true,
   "skip_h1_title": true,
   "title_cell": "Table of Contents",
   "title_sidebar": "Contents",
   "toc_cell": false,
   "toc_position": {},
   "toc_section_display": true,
   "toc_window_display": false
  }
 },
 "nbformat": 4,
 "nbformat_minor": 5
}
