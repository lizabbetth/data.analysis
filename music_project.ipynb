{
 "cells": [
  {
   "cell_type": "markdown",
   "metadata": {
    "id": "E0vqbgi9ay0H"
   },
   "source": [
    "# YANDEX.MUSIC"
   ]
  },
  {
   "cell_type": "markdown",
   "metadata": {
    "id": "VUC88oWjTJw2"
   },
   "source": [
    "Comparison of Moscow and St. Petersburg is surrounded by myths. For example:\n",
    "  * Moscow is a metropolis subject to the rigid rhythm of the working week;\n",
    "  * St. Petersburg is a cultural capital, with its own tastes.\n",
    "\n",
    "\n",
    "**Research Purpose** - Test three hypotheses:\n",
    "1. User activity depends on the day of the week. Moreover, in Moscow and St. Petersburg is manifests itself in different ways.\n",
    "2. On Monday morning, certain genres prevail in Moscow, while others prevail in St. Petersburg. Also, different genres dominate on Friday evenings, depending on the city.\n",
    "3. Moscow and St. Petersburg prefer different genres of music. In Moscow, they listen to pop music more often, in St. Petersburg - Russian rap.\n",
    "\n",
    "**Research Progress**\n",
    "\n",
    "We received the data `yandex_music_project.csv`. Nothing is known about the quality of the data. Therefore, before testing hypotheses, a review of the data is required.\n",
    "\n",
    " \n",
    "Thus, the study will take place in three stages:\n",
    "  1. Data review.\n",
    "  2. Data preprocessing.\n",
    "  3. Hypothesis testing.\n",
    "\n",
    "According to the data documentation:\n",
    "* `userID` - user ID;\n",
    "* `Track` — track name;\n",
    "* `artist` — artist name;\n",
    "* `genre` — genre name;\n",
    "* `City` - user's city;\n",
    "* `time` - start time of listening;\n",
    "* `Day` - the day of the week."
   ]
  },
  {
   "cell_type": "markdown",
   "metadata": {
    "id": "Ml1hmfXC_Zcs"
   },
   "source": [
    "## Data overview\n",
    "\n",
    "\n",
    "\n"
   ]
  },
  {
   "cell_type": "code",
   "execution_count": 8,
   "metadata": {
    "id": "AXN7PHPN_Zcs"
   },
   "outputs": [],
   "source": [
    "import pandas as pd"
   ]
  },
  {
   "cell_type": "code",
   "execution_count": 9,
   "metadata": {
    "id": "fFVu7vqh_Zct",
    "scrolled": true
   },
   "outputs": [
    {
     "data": {
      "text/html": [
       "<div>\n",
       "<style scoped>\n",
       "    .dataframe tbody tr th:only-of-type {\n",
       "        vertical-align: middle;\n",
       "    }\n",
       "\n",
       "    .dataframe tbody tr th {\n",
       "        vertical-align: top;\n",
       "    }\n",
       "\n",
       "    .dataframe thead th {\n",
       "        text-align: right;\n",
       "    }\n",
       "</style>\n",
       "<table border=\"1\" class=\"dataframe\">\n",
       "  <thead>\n",
       "    <tr style=\"text-align: right;\">\n",
       "      <th></th>\n",
       "      <th>userID</th>\n",
       "      <th>Track</th>\n",
       "      <th>artist</th>\n",
       "      <th>genre</th>\n",
       "      <th>City</th>\n",
       "      <th>time</th>\n",
       "      <th>Day</th>\n",
       "    </tr>\n",
       "  </thead>\n",
       "  <tbody>\n",
       "    <tr>\n",
       "      <th>0</th>\n",
       "      <td>FFB692EC</td>\n",
       "      <td>Kamigata To Boots</td>\n",
       "      <td>The Mass Missile</td>\n",
       "      <td>rock</td>\n",
       "      <td>Saint-Petersburg</td>\n",
       "      <td>20:28:33</td>\n",
       "      <td>Wednesday</td>\n",
       "    </tr>\n",
       "    <tr>\n",
       "      <th>1</th>\n",
       "      <td>55204538</td>\n",
       "      <td>Delayed Because of Accident</td>\n",
       "      <td>Andreas Rönnberg</td>\n",
       "      <td>rock</td>\n",
       "      <td>Moscow</td>\n",
       "      <td>14:07:09</td>\n",
       "      <td>Friday</td>\n",
       "    </tr>\n",
       "    <tr>\n",
       "      <th>2</th>\n",
       "      <td>20EC38</td>\n",
       "      <td>Funiculì funiculà</td>\n",
       "      <td>Mario Lanza</td>\n",
       "      <td>pop</td>\n",
       "      <td>Saint-Petersburg</td>\n",
       "      <td>20:58:07</td>\n",
       "      <td>Wednesday</td>\n",
       "    </tr>\n",
       "    <tr>\n",
       "      <th>3</th>\n",
       "      <td>A3DD03C9</td>\n",
       "      <td>Dragons in the Sunset</td>\n",
       "      <td>Fire + Ice</td>\n",
       "      <td>folk</td>\n",
       "      <td>Saint-Petersburg</td>\n",
       "      <td>08:37:09</td>\n",
       "      <td>Monday</td>\n",
       "    </tr>\n",
       "    <tr>\n",
       "      <th>4</th>\n",
       "      <td>E2DC1FAE</td>\n",
       "      <td>Soul People</td>\n",
       "      <td>Space Echo</td>\n",
       "      <td>dance</td>\n",
       "      <td>Moscow</td>\n",
       "      <td>08:34:34</td>\n",
       "      <td>Monday</td>\n",
       "    </tr>\n",
       "  </tbody>\n",
       "</table>\n",
       "</div>"
      ],
      "text/plain": [
       "     userID                        Track            artist  genre  \\\n",
       "0  FFB692EC            Kamigata To Boots  The Mass Missile   rock   \n",
       "1  55204538  Delayed Because of Accident  Andreas Rönnberg   rock   \n",
       "2    20EC38            Funiculì funiculà       Mario Lanza    pop   \n",
       "3  A3DD03C9        Dragons in the Sunset        Fire + Ice   folk   \n",
       "4  E2DC1FAE                  Soul People        Space Echo  dance   \n",
       "\n",
       "             City        time        Day  \n",
       "0  Saint-Petersburg  20:28:33  Wednesday  \n",
       "1            Moscow  14:07:09     Friday  \n",
       "2  Saint-Petersburg  20:58:07  Wednesday  \n",
       "3  Saint-Petersburg  08:37:09     Monday  \n",
       "4            Moscow  08:34:34     Monday  "
      ]
     },
     "execution_count": 9,
     "metadata": {},
     "output_type": "execute_result"
    }
   ],
   "source": [
    "df = pd.read_csv('/datasets/yandex_music_project.csv')\n",
    "df.head()"
   ]
  },
  {
   "cell_type": "code",
   "execution_count": 10,
   "metadata": {
    "id": "DSf2kIb-_Zct",
    "scrolled": false
   },
   "outputs": [
    {
     "name": "stdout",
     "output_type": "stream",
     "text": [
      "<class 'pandas.core.frame.DataFrame'>\n",
      "RangeIndex: 65079 entries, 0 to 65078\n",
      "Data columns (total 7 columns):\n",
      " #   Column    Non-Null Count  Dtype \n",
      "---  ------    --------------  ----- \n",
      " 0     userID  65079 non-null  object\n",
      " 1   Track     63848 non-null  object\n",
      " 2   artist    57876 non-null  object\n",
      " 3   genre     63881 non-null  object\n",
      " 4     City    65079 non-null  object\n",
      " 5   time      65079 non-null  object\n",
      " 6   Day       65079 non-null  object\n",
      "dtypes: object(7)\n",
      "memory usage: 3.5+ MB\n"
     ]
    }
   ],
   "source": [
    "df.info()"
   ]
  },
  {
   "cell_type": "code",
   "execution_count": 11,
   "metadata": {},
   "outputs": [
    {
     "data": {
      "text/html": [
       "<div>\n",
       "<style scoped>\n",
       "    .dataframe tbody tr th:only-of-type {\n",
       "        vertical-align: middle;\n",
       "    }\n",
       "\n",
       "    .dataframe tbody tr th {\n",
       "        vertical-align: top;\n",
       "    }\n",
       "\n",
       "    .dataframe thead th {\n",
       "        text-align: right;\n",
       "    }\n",
       "</style>\n",
       "<table border=\"1\" class=\"dataframe\">\n",
       "  <thead>\n",
       "    <tr style=\"text-align: right;\">\n",
       "      <th></th>\n",
       "      <th>userID</th>\n",
       "      <th>Track</th>\n",
       "      <th>artist</th>\n",
       "      <th>genre</th>\n",
       "      <th>City</th>\n",
       "      <th>time</th>\n",
       "      <th>Day</th>\n",
       "    </tr>\n",
       "  </thead>\n",
       "  <tbody>\n",
       "    <tr>\n",
       "      <th>count</th>\n",
       "      <td>65079</td>\n",
       "      <td>63848</td>\n",
       "      <td>57876</td>\n",
       "      <td>63881</td>\n",
       "      <td>65079</td>\n",
       "      <td>65079</td>\n",
       "      <td>65079</td>\n",
       "    </tr>\n",
       "    <tr>\n",
       "      <th>unique</th>\n",
       "      <td>41748</td>\n",
       "      <td>47245</td>\n",
       "      <td>43605</td>\n",
       "      <td>289</td>\n",
       "      <td>2</td>\n",
       "      <td>20392</td>\n",
       "      <td>3</td>\n",
       "    </tr>\n",
       "    <tr>\n",
       "      <th>top</th>\n",
       "      <td>A8AE9169</td>\n",
       "      <td>Intro</td>\n",
       "      <td>Rocket</td>\n",
       "      <td>pop</td>\n",
       "      <td>Moscow</td>\n",
       "      <td>21:51:22</td>\n",
       "      <td>Friday</td>\n",
       "    </tr>\n",
       "    <tr>\n",
       "      <th>freq</th>\n",
       "      <td>76</td>\n",
       "      <td>34</td>\n",
       "      <td>6</td>\n",
       "      <td>8850</td>\n",
       "      <td>45360</td>\n",
       "      <td>14</td>\n",
       "      <td>23149</td>\n",
       "    </tr>\n",
       "  </tbody>\n",
       "</table>\n",
       "</div>"
      ],
      "text/plain": [
       "          userID  Track  artist  genre   City        time     Day\n",
       "count      65079  63848   57876  63881    65079     65079   65079\n",
       "unique     41748  47245   43605    289        2     20392       3\n",
       "top     A8AE9169  Intro  Rocket    pop   Moscow  21:51:22  Friday\n",
       "freq          76     34       6   8850    45360        14   23149"
      ]
     },
     "execution_count": 11,
     "metadata": {},
     "output_type": "execute_result"
    }
   ],
   "source": [
    "df.describe()"
   ]
  },
  {
   "cell_type": "markdown",
   "metadata": {
    "id": "TaQ2Iwbr_Zct"
   },
   "source": [
    "**Conclusion**\n",
    "\n",
    "So the table has seven columns. The data type in all columns is `object`.\n",
    "\n",
    "\n",
    "\n",
    "There are three style violations in the column headings:\n",
    "1. Lowercase letters are combined with uppercase.\n",
    "2. There are gaps.\n",
    "3. The snake case is not respected.\n",
    "\n",
    "\n",
    "\n",
    "The number of values in the columns varies. This means there are missing values in the data.\n",
    "\n",
    "To move forward, we need to fix problems in the data."
   ]
  },
  {
   "cell_type": "markdown",
   "metadata": {
    "id": "SjYF6Ub9_Zct"
   },
   "source": [
    "## Data preprocessing\n"
   ]
  },
  {
   "cell_type": "markdown",
   "metadata": {
    "id": "dIaKXr29_Zct"
   },
   "source": [
    "### Стиль заголовков\n",
    "\n",
    "Firstly we change the column names"
   ]
  },
  {
   "cell_type": "code",
   "execution_count": 12,
   "metadata": {
    "id": "oKOTdF_Q_Zct"
   },
   "outputs": [
    {
     "data": {
      "text/plain": [
       "Index(['  userID', 'Track', 'artist', 'genre', '  City  ', 'time', 'Day'], dtype='object')"
      ]
     },
     "execution_count": 12,
     "metadata": {},
     "output_type": "execute_result"
    }
   ],
   "source": [
    "df.columns"
   ]
  },
  {
   "cell_type": "code",
   "execution_count": 13,
   "metadata": {
    "id": "ISlFqs5y_Zct"
   },
   "outputs": [
    {
     "data": {
      "text/plain": [
       "Index(['user_id', 'track', 'artist', 'genre', 'city', 'time', 'day'], dtype='object')"
      ]
     },
     "execution_count": 13,
     "metadata": {},
     "output_type": "execute_result"
    }
   ],
   "source": [
    "df = df.rename(columns = {'  userID':'user_id', 'Track':'track', '  City  ':'city', 'Day':'day'})\n",
    "df.columns"
   ]
  },
  {
   "cell_type": "markdown",
   "metadata": {
    "id": "5ISfbcfY_Zct"
   },
   "source": [
    "### Missing values\n"
   ]
  },
  {
   "cell_type": "code",
   "execution_count": 14,
   "metadata": {
    "id": "RskX29qr_Zct"
   },
   "outputs": [
    {
     "data": {
      "text/plain": [
       "user_id       0\n",
       "track      1231\n",
       "artist     7203\n",
       "genre      1198\n",
       "city          0\n",
       "time          0\n",
       "day           0\n",
       "dtype: int64"
      ]
     },
     "execution_count": 14,
     "metadata": {},
     "output_type": "execute_result"
    }
   ],
   "source": [
    "df.isna().sum()"
   ]
  },
  {
   "cell_type": "markdown",
   "metadata": {
    "id": "qubhgnlO_Zct"
   },
   "source": [
    "Not all missing values affect the study. So in `track` and `artist` the gaps are not important for the job.\n",
    "\n",
    "But omissions in `genre` can interfere with the comparison of musical tastes in Moscow and St. Petersburg. \n",
    "\n",
    "Let's do:\n",
    "* fill in these gaps with explicit notation,\n",
    "* estimate how much they will damage the calculations."
   ]
  },
  {
   "cell_type": "code",
   "execution_count": 15,
   "metadata": {
    "id": "KplB5qWs_Zct"
   },
   "outputs": [
    {
     "data": {
      "text/plain": [
       "user_id    0\n",
       "track      0\n",
       "artist     0\n",
       "genre      0\n",
       "city       0\n",
       "time       0\n",
       "day        0\n",
       "dtype: int64"
      ]
     },
     "execution_count": 15,
     "metadata": {},
     "output_type": "execute_result"
    }
   ],
   "source": [
    "columns_to_replace = ['track', 'artist', 'genre']\n",
    "for column in columns_to_replace:\n",
    "    df[column] = df[column].fillna('unknown')\n",
    "\n",
    "df.isna().sum()\n",
    "                                   "
   ]
  },
  {
   "cell_type": "markdown",
   "metadata": {
    "id": "BWKRtBJ3_Zct"
   },
   "source": [
    "### Duplicates\n"
   ]
  },
  {
   "cell_type": "code",
   "execution_count": 16,
   "metadata": {
    "id": "36eES_S0_Zct"
   },
   "outputs": [
    {
     "data": {
      "text/plain": [
       "3826"
      ]
     },
     "execution_count": 16,
     "metadata": {},
     "output_type": "execute_result"
    }
   ],
   "source": [
    "df.duplicated().sum()"
   ]
  },
  {
   "cell_type": "markdown",
   "metadata": {},
   "source": [
    "We have `3826` explicit duplicates here. We don't need them, so I'm just gonna remove all of them. "
   ]
  },
  {
   "cell_type": "code",
   "execution_count": 17,
   "metadata": {
    "id": "exFHq6tt_Zct"
   },
   "outputs": [
    {
     "data": {
      "text/plain": [
       "0"
      ]
     },
     "execution_count": 17,
     "metadata": {},
     "output_type": "execute_result"
    }
   ],
   "source": [
    "df = df.drop_duplicates().reset_index(drop=True)\n",
    "df.duplicated().sum()"
   ]
  },
  {
   "cell_type": "code",
   "execution_count": 21,
   "metadata": {
    "id": "JIUcqzZN_Zct"
   },
   "outputs": [
    {
     "data": {
      "text/plain": [
       "['acid',\n",
       " 'acoustic',\n",
       " 'action',\n",
       " 'adult',\n",
       " 'africa',\n",
       " 'afrikaans',\n",
       " 'alternative',\n",
       " 'alternativepunk',\n",
       " 'ambient',\n",
       " 'americana',\n",
       " 'animated',\n",
       " 'anime',\n",
       " 'arabesk',\n",
       " 'arabic',\n",
       " 'arena',\n",
       " 'argentinetango',\n",
       " 'art',\n",
       " 'audiobook',\n",
       " 'author',\n",
       " 'avantgarde',\n",
       " 'axé',\n",
       " 'baile',\n",
       " 'balkan',\n",
       " 'beats',\n",
       " 'bigroom',\n",
       " 'black',\n",
       " 'bluegrass',\n",
       " 'blues',\n",
       " 'bollywood',\n",
       " 'bossa',\n",
       " 'brazilian',\n",
       " 'breakbeat',\n",
       " 'breaks',\n",
       " 'broadway',\n",
       " 'cantautori',\n",
       " 'cantopop',\n",
       " 'canzone',\n",
       " 'caribbean',\n",
       " 'caucasian',\n",
       " 'celtic',\n",
       " 'chamber',\n",
       " 'chanson',\n",
       " 'children',\n",
       " 'chill',\n",
       " 'chinese',\n",
       " 'choral',\n",
       " 'christian',\n",
       " 'christmas',\n",
       " 'classical',\n",
       " 'classicmetal',\n",
       " 'club',\n",
       " 'colombian',\n",
       " 'comedy',\n",
       " 'conjazz',\n",
       " 'contemporary',\n",
       " 'country',\n",
       " 'cuban',\n",
       " 'dance',\n",
       " 'dancehall',\n",
       " 'dancepop',\n",
       " 'dark',\n",
       " 'death',\n",
       " 'deep',\n",
       " 'deutschrock',\n",
       " 'deutschspr',\n",
       " 'dirty',\n",
       " 'disco',\n",
       " 'dnb',\n",
       " 'documentary',\n",
       " 'downbeat',\n",
       " 'downtempo',\n",
       " 'drum',\n",
       " 'dub',\n",
       " 'dubstep',\n",
       " 'eastern',\n",
       " 'easy',\n",
       " 'electronic',\n",
       " 'electropop',\n",
       " 'emo',\n",
       " 'entehno',\n",
       " 'epicmetal',\n",
       " 'estrada',\n",
       " 'ethnic',\n",
       " 'eurofolk',\n",
       " 'european',\n",
       " 'experimental',\n",
       " 'extrememetal',\n",
       " 'fado',\n",
       " 'fairytail',\n",
       " 'film',\n",
       " 'fitness',\n",
       " 'flamenco',\n",
       " 'folk',\n",
       " 'folklore',\n",
       " 'folkmetal',\n",
       " 'folkrock',\n",
       " 'folktronica',\n",
       " 'forró',\n",
       " 'frankreich',\n",
       " 'französisch',\n",
       " 'french',\n",
       " 'funk',\n",
       " 'future',\n",
       " 'gangsta',\n",
       " 'garage',\n",
       " 'german',\n",
       " 'ghazal',\n",
       " 'gitarre',\n",
       " 'glitch',\n",
       " 'gospel',\n",
       " 'gothic',\n",
       " 'grime',\n",
       " 'grunge',\n",
       " 'gypsy',\n",
       " 'handsup',\n",
       " \"hard'n'heavy\",\n",
       " 'hardcore',\n",
       " 'hardstyle',\n",
       " 'hardtechno',\n",
       " 'hip',\n",
       " 'hip-hop',\n",
       " 'hiphop',\n",
       " 'historisch',\n",
       " 'holiday',\n",
       " 'hop',\n",
       " 'horror',\n",
       " 'house',\n",
       " 'hymn',\n",
       " 'idm',\n",
       " 'independent',\n",
       " 'indian',\n",
       " 'indie',\n",
       " 'indipop',\n",
       " 'industrial',\n",
       " 'inspirational',\n",
       " 'instrumental',\n",
       " 'international',\n",
       " 'irish',\n",
       " 'jam',\n",
       " 'japanese',\n",
       " 'jazz',\n",
       " 'jewish',\n",
       " 'jpop',\n",
       " 'jungle',\n",
       " 'k-pop',\n",
       " 'karadeniz',\n",
       " 'karaoke',\n",
       " 'kayokyoku',\n",
       " 'korean',\n",
       " 'laiko',\n",
       " 'latin',\n",
       " 'latino',\n",
       " 'leftfield',\n",
       " 'local',\n",
       " 'lounge',\n",
       " 'loungeelectronic',\n",
       " 'lovers',\n",
       " 'malaysian',\n",
       " 'mandopop',\n",
       " 'marschmusik',\n",
       " 'meditative',\n",
       " 'mediterranean',\n",
       " 'melodic',\n",
       " 'metal',\n",
       " 'metalcore',\n",
       " 'mexican',\n",
       " 'middle',\n",
       " 'minimal',\n",
       " 'miscellaneous',\n",
       " 'modern',\n",
       " 'mood',\n",
       " 'mpb',\n",
       " 'muslim',\n",
       " 'native',\n",
       " 'neoklassik',\n",
       " 'neue',\n",
       " 'new',\n",
       " 'newage',\n",
       " 'newwave',\n",
       " 'nu',\n",
       " 'nujazz',\n",
       " 'numetal',\n",
       " 'oceania',\n",
       " 'old',\n",
       " 'opera',\n",
       " 'orchestral',\n",
       " 'other',\n",
       " 'piano',\n",
       " 'podcasts',\n",
       " 'pop',\n",
       " 'popdance',\n",
       " 'popelectronic',\n",
       " 'popeurodance',\n",
       " 'poprussian',\n",
       " 'post',\n",
       " 'posthardcore',\n",
       " 'postrock',\n",
       " 'power',\n",
       " 'progmetal',\n",
       " 'progressive',\n",
       " 'psychedelic',\n",
       " 'punjabi',\n",
       " 'punk',\n",
       " 'quebecois',\n",
       " 'ragga',\n",
       " 'ram',\n",
       " 'rancheras',\n",
       " 'rap',\n",
       " 'rave',\n",
       " 'reggae',\n",
       " 'reggaeton',\n",
       " 'regional',\n",
       " 'relax',\n",
       " 'religious',\n",
       " 'retro',\n",
       " 'rhythm',\n",
       " 'rnb',\n",
       " 'rnr',\n",
       " 'rock',\n",
       " 'rockabilly',\n",
       " 'rockalternative',\n",
       " 'rockindie',\n",
       " 'rockother',\n",
       " 'romance',\n",
       " 'roots',\n",
       " 'ruspop',\n",
       " 'rusrap',\n",
       " 'rusrock',\n",
       " 'russian',\n",
       " 'salsa',\n",
       " 'samba',\n",
       " 'scenic',\n",
       " 'schlager',\n",
       " 'self',\n",
       " 'sertanejo',\n",
       " 'shanson',\n",
       " 'shoegazing',\n",
       " 'showtunes',\n",
       " 'singer',\n",
       " 'ska',\n",
       " 'skarock',\n",
       " 'slow',\n",
       " 'smooth',\n",
       " 'soft',\n",
       " 'soul',\n",
       " 'soulful',\n",
       " 'sound',\n",
       " 'soundtrack',\n",
       " 'southern',\n",
       " 'specialty',\n",
       " 'speech',\n",
       " 'spiritual',\n",
       " 'sport',\n",
       " 'stonerrock',\n",
       " 'surf',\n",
       " 'swing',\n",
       " 'synthpop',\n",
       " 'synthrock',\n",
       " 'sängerportrait',\n",
       " 'tango',\n",
       " 'tanzorchester',\n",
       " 'taraftar',\n",
       " 'tatar',\n",
       " 'tech',\n",
       " 'techno',\n",
       " 'teen',\n",
       " 'thrash',\n",
       " 'top',\n",
       " 'traditional',\n",
       " 'tradjazz',\n",
       " 'trance',\n",
       " 'tribal',\n",
       " 'trip',\n",
       " 'triphop',\n",
       " 'tropical',\n",
       " 'türk',\n",
       " 'türkçe',\n",
       " 'ukrrock',\n",
       " 'unknown',\n",
       " 'urban',\n",
       " 'uzbek',\n",
       " 'variété',\n",
       " 'vi',\n",
       " 'videogame',\n",
       " 'vocal',\n",
       " 'western',\n",
       " 'world',\n",
       " 'worldbeat',\n",
       " 'ïîï',\n",
       " 'электроника']"
      ]
     },
     "execution_count": 21,
     "metadata": {},
     "output_type": "execute_result"
    }
   ],
   "source": [
    "df['genre'].sort_values().unique().tolist()"
   ]
  },
  {
   "cell_type": "markdown",
   "metadata": {
    "id": "qej-Qmuo_Zct"
   },
   "source": [
    "In column `genre` I found few duplicates^ such as\n",
    "\n",
    "* *hip*,\n",
    "* *hop*,\n",
    "* *hip-hop*,\n",
    "* *hiphop*\n",
    "\n"
   ]
  },
  {
   "cell_type": "code",
   "execution_count": 23,
   "metadata": {
    "id": "ErNDkmns_Zct",
    "scrolled": true
   },
   "outputs": [
    {
     "data": {
      "text/plain": [
       "['acid',\n",
       " 'acoustic',\n",
       " 'action',\n",
       " 'adult',\n",
       " 'africa',\n",
       " 'afrikaans',\n",
       " 'alternative',\n",
       " 'alternativepunk',\n",
       " 'ambient',\n",
       " 'americana',\n",
       " 'animated',\n",
       " 'anime',\n",
       " 'arabesk',\n",
       " 'arabic',\n",
       " 'arena',\n",
       " 'argentinetango',\n",
       " 'art',\n",
       " 'audiobook',\n",
       " 'author',\n",
       " 'avantgarde',\n",
       " 'axé',\n",
       " 'baile',\n",
       " 'balkan',\n",
       " 'beats',\n",
       " 'bigroom',\n",
       " 'black',\n",
       " 'bluegrass',\n",
       " 'blues',\n",
       " 'bollywood',\n",
       " 'bossa',\n",
       " 'brazilian',\n",
       " 'breakbeat',\n",
       " 'breaks',\n",
       " 'broadway',\n",
       " 'cantautori',\n",
       " 'cantopop',\n",
       " 'canzone',\n",
       " 'caribbean',\n",
       " 'caucasian',\n",
       " 'celtic',\n",
       " 'chamber',\n",
       " 'chanson',\n",
       " 'children',\n",
       " 'chill',\n",
       " 'chinese',\n",
       " 'choral',\n",
       " 'christian',\n",
       " 'christmas',\n",
       " 'classical',\n",
       " 'classicmetal',\n",
       " 'club',\n",
       " 'colombian',\n",
       " 'comedy',\n",
       " 'conjazz',\n",
       " 'contemporary',\n",
       " 'country',\n",
       " 'cuban',\n",
       " 'dance',\n",
       " 'dancehall',\n",
       " 'dancepop',\n",
       " 'dark',\n",
       " 'death',\n",
       " 'deep',\n",
       " 'deutschrock',\n",
       " 'deutschspr',\n",
       " 'dirty',\n",
       " 'disco',\n",
       " 'dnb',\n",
       " 'documentary',\n",
       " 'downbeat',\n",
       " 'downtempo',\n",
       " 'drum',\n",
       " 'dub',\n",
       " 'dubstep',\n",
       " 'eastern',\n",
       " 'easy',\n",
       " 'electronic',\n",
       " 'electropop',\n",
       " 'emo',\n",
       " 'entehno',\n",
       " 'epicmetal',\n",
       " 'estrada',\n",
       " 'ethnic',\n",
       " 'eurofolk',\n",
       " 'european',\n",
       " 'experimental',\n",
       " 'extrememetal',\n",
       " 'fado',\n",
       " 'fairytail',\n",
       " 'film',\n",
       " 'fitness',\n",
       " 'flamenco',\n",
       " 'folk',\n",
       " 'folklore',\n",
       " 'folkmetal',\n",
       " 'folkrock',\n",
       " 'folktronica',\n",
       " 'forró',\n",
       " 'frankreich',\n",
       " 'französisch',\n",
       " 'french',\n",
       " 'funk',\n",
       " 'future',\n",
       " 'gangsta',\n",
       " 'garage',\n",
       " 'german',\n",
       " 'ghazal',\n",
       " 'gitarre',\n",
       " 'glitch',\n",
       " 'gospel',\n",
       " 'gothic',\n",
       " 'grime',\n",
       " 'grunge',\n",
       " 'gypsy',\n",
       " 'handsup',\n",
       " \"hard'n'heavy\",\n",
       " 'hardcore',\n",
       " 'hardstyle',\n",
       " 'hardtechno',\n",
       " 'hiphop',\n",
       " 'historisch',\n",
       " 'holiday',\n",
       " 'horror',\n",
       " 'house',\n",
       " 'hymn',\n",
       " 'idm',\n",
       " 'independent',\n",
       " 'indian',\n",
       " 'indie',\n",
       " 'indipop',\n",
       " 'industrial',\n",
       " 'inspirational',\n",
       " 'instrumental',\n",
       " 'international',\n",
       " 'irish',\n",
       " 'jam',\n",
       " 'japanese',\n",
       " 'jazz',\n",
       " 'jewish',\n",
       " 'jpop',\n",
       " 'jungle',\n",
       " 'k-pop',\n",
       " 'karadeniz',\n",
       " 'karaoke',\n",
       " 'kayokyoku',\n",
       " 'korean',\n",
       " 'laiko',\n",
       " 'latin',\n",
       " 'latino',\n",
       " 'leftfield',\n",
       " 'local',\n",
       " 'lounge',\n",
       " 'loungeelectronic',\n",
       " 'lovers',\n",
       " 'malaysian',\n",
       " 'mandopop',\n",
       " 'marschmusik',\n",
       " 'meditative',\n",
       " 'mediterranean',\n",
       " 'melodic',\n",
       " 'metal',\n",
       " 'metalcore',\n",
       " 'mexican',\n",
       " 'middle',\n",
       " 'minimal',\n",
       " 'miscellaneous',\n",
       " 'modern',\n",
       " 'mood',\n",
       " 'mpb',\n",
       " 'muslim',\n",
       " 'native',\n",
       " 'neoklassik',\n",
       " 'neue',\n",
       " 'new',\n",
       " 'newage',\n",
       " 'newwave',\n",
       " 'nu',\n",
       " 'nujazz',\n",
       " 'numetal',\n",
       " 'oceania',\n",
       " 'old',\n",
       " 'opera',\n",
       " 'orchestral',\n",
       " 'other',\n",
       " 'piano',\n",
       " 'podcasts',\n",
       " 'pop',\n",
       " 'popdance',\n",
       " 'popelectronic',\n",
       " 'popeurodance',\n",
       " 'poprussian',\n",
       " 'post',\n",
       " 'posthardcore',\n",
       " 'postrock',\n",
       " 'power',\n",
       " 'progmetal',\n",
       " 'progressive',\n",
       " 'psychedelic',\n",
       " 'punjabi',\n",
       " 'punk',\n",
       " 'quebecois',\n",
       " 'ragga',\n",
       " 'ram',\n",
       " 'rancheras',\n",
       " 'rap',\n",
       " 'rave',\n",
       " 'reggae',\n",
       " 'reggaeton',\n",
       " 'regional',\n",
       " 'relax',\n",
       " 'religious',\n",
       " 'retro',\n",
       " 'rhythm',\n",
       " 'rnb',\n",
       " 'rnr',\n",
       " 'rock',\n",
       " 'rockabilly',\n",
       " 'rockalternative',\n",
       " 'rockindie',\n",
       " 'rockother',\n",
       " 'romance',\n",
       " 'roots',\n",
       " 'ruspop',\n",
       " 'rusrap',\n",
       " 'rusrock',\n",
       " 'russian',\n",
       " 'salsa',\n",
       " 'samba',\n",
       " 'scenic',\n",
       " 'schlager',\n",
       " 'self',\n",
       " 'sertanejo',\n",
       " 'shanson',\n",
       " 'shoegazing',\n",
       " 'showtunes',\n",
       " 'singer',\n",
       " 'ska',\n",
       " 'skarock',\n",
       " 'slow',\n",
       " 'smooth',\n",
       " 'soft',\n",
       " 'soul',\n",
       " 'soulful',\n",
       " 'sound',\n",
       " 'soundtrack',\n",
       " 'southern',\n",
       " 'specialty',\n",
       " 'speech',\n",
       " 'spiritual',\n",
       " 'sport',\n",
       " 'stonerrock',\n",
       " 'surf',\n",
       " 'swing',\n",
       " 'synthpop',\n",
       " 'synthrock',\n",
       " 'sängerportrait',\n",
       " 'tango',\n",
       " 'tanzorchester',\n",
       " 'taraftar',\n",
       " 'tatar',\n",
       " 'tech',\n",
       " 'techno',\n",
       " 'teen',\n",
       " 'thrash',\n",
       " 'top',\n",
       " 'traditional',\n",
       " 'tradjazz',\n",
       " 'trance',\n",
       " 'tribal',\n",
       " 'trip',\n",
       " 'triphop',\n",
       " 'tropical',\n",
       " 'türk',\n",
       " 'türkçe',\n",
       " 'ukrrock',\n",
       " 'unknown',\n",
       " 'urban',\n",
       " 'uzbek',\n",
       " 'variété',\n",
       " 'vi',\n",
       " 'videogame',\n",
       " 'vocal',\n",
       " 'western',\n",
       " 'world',\n",
       " 'worldbeat',\n",
       " 'ïîï',\n",
       " 'электроника']"
      ]
     },
     "execution_count": 23,
     "metadata": {},
     "output_type": "execute_result"
    }
   ],
   "source": [
    "def replace_wrong_genres(wrong_genres, correct_genre):\n",
    "    for wrong_genre in wrong_genres:\n",
    "        df['genre'] = df['genre'].replace(wrong_genres, correct_genre)\n",
    "\n",
    "duplicates = ['hip', 'hop', 'hip-hop']\n",
    "name = 'hiphop'\n",
    "replace_wrong_genres(duplicates, name)\n",
    "\n",
    "df['genre'].sort_values().unique().tolist()"
   ]
  },
  {
   "cell_type": "markdown",
   "metadata": {
    "id": "jz6a9-7HQUDd"
   },
   "source": [
    "**Выводы**\n",
    "\n",
    "Now we don't have duplicates and the columns look good"
   ]
  },
  {
   "cell_type": "markdown",
   "metadata": {
    "id": "WttZHXH0SqKk"
   },
   "source": [
    "## Hypothesis testing"
   ]
  },
  {
   "cell_type": "markdown",
   "metadata": {
    "id": "Im936VVi_Zcu"
   },
   "source": [
    "### Comparison of user behavior of two capitals"
   ]
  },
  {
   "cell_type": "markdown",
   "metadata": {
    "id": "nwt_MuaL_Zcu"
   },
   "source": [
    "The first hypothesis states that users listen to music differently in Moscow and St. Petersburg. Let's check this statement for three days of the week: Monday, Wednesday and Friday.\n"
   ]
  },
  {
   "cell_type": "code",
   "execution_count": 24,
   "metadata": {
    "id": "0_Qs96oh_Zcu"
   },
   "outputs": [
    {
     "data": {
      "text/html": [
       "<div>\n",
       "<style scoped>\n",
       "    .dataframe tbody tr th:only-of-type {\n",
       "        vertical-align: middle;\n",
       "    }\n",
       "\n",
       "    .dataframe tbody tr th {\n",
       "        vertical-align: top;\n",
       "    }\n",
       "\n",
       "    .dataframe thead th {\n",
       "        text-align: right;\n",
       "    }\n",
       "</style>\n",
       "<table border=\"1\" class=\"dataframe\">\n",
       "  <thead>\n",
       "    <tr style=\"text-align: right;\">\n",
       "      <th></th>\n",
       "      <th>user_id</th>\n",
       "      <th>track</th>\n",
       "      <th>artist</th>\n",
       "      <th>genre</th>\n",
       "      <th>time</th>\n",
       "      <th>day</th>\n",
       "    </tr>\n",
       "    <tr>\n",
       "      <th>city</th>\n",
       "      <th></th>\n",
       "      <th></th>\n",
       "      <th></th>\n",
       "      <th></th>\n",
       "      <th></th>\n",
       "      <th></th>\n",
       "    </tr>\n",
       "  </thead>\n",
       "  <tbody>\n",
       "    <tr>\n",
       "      <th>Moscow</th>\n",
       "      <td>42741</td>\n",
       "      <td>42741</td>\n",
       "      <td>42741</td>\n",
       "      <td>42741</td>\n",
       "      <td>42741</td>\n",
       "      <td>42741</td>\n",
       "    </tr>\n",
       "    <tr>\n",
       "      <th>Saint-Petersburg</th>\n",
       "      <td>18512</td>\n",
       "      <td>18512</td>\n",
       "      <td>18512</td>\n",
       "      <td>18512</td>\n",
       "      <td>18512</td>\n",
       "      <td>18512</td>\n",
       "    </tr>\n",
       "  </tbody>\n",
       "</table>\n",
       "</div>"
      ],
      "text/plain": [
       "                  user_id  track  artist  genre   time    day\n",
       "city                                                         \n",
       "Moscow              42741  42741   42741  42741  42741  42741\n",
       "Saint-Petersburg    18512  18512   18512  18512  18512  18512"
      ]
     },
     "execution_count": 24,
     "metadata": {},
     "output_type": "execute_result"
    }
   ],
   "source": [
    "df.groupby('city').count()"
   ]
  },
  {
   "cell_type": "markdown",
   "metadata": {
    "id": "dzli3w8o_Zcu"
   },
   "source": [
    "The time of listening in Moscow is higher than in St. Petersburg. It does not follow from this that Moscow users listen to music more often. There are simply more users in Moscow.\n",
    "\n"
   ]
  },
  {
   "cell_type": "code",
   "execution_count": 25,
   "metadata": {
    "id": "uZMKjiJz_Zcu",
    "scrolled": true
   },
   "outputs": [
    {
     "data": {
      "text/html": [
       "<div>\n",
       "<style scoped>\n",
       "    .dataframe tbody tr th:only-of-type {\n",
       "        vertical-align: middle;\n",
       "    }\n",
       "\n",
       "    .dataframe tbody tr th {\n",
       "        vertical-align: top;\n",
       "    }\n",
       "\n",
       "    .dataframe thead th {\n",
       "        text-align: right;\n",
       "    }\n",
       "</style>\n",
       "<table border=\"1\" class=\"dataframe\">\n",
       "  <thead>\n",
       "    <tr style=\"text-align: right;\">\n",
       "      <th></th>\n",
       "      <th>user_id</th>\n",
       "      <th>track</th>\n",
       "      <th>artist</th>\n",
       "      <th>genre</th>\n",
       "      <th>city</th>\n",
       "      <th>time</th>\n",
       "    </tr>\n",
       "    <tr>\n",
       "      <th>day</th>\n",
       "      <th></th>\n",
       "      <th></th>\n",
       "      <th></th>\n",
       "      <th></th>\n",
       "      <th></th>\n",
       "      <th></th>\n",
       "    </tr>\n",
       "  </thead>\n",
       "  <tbody>\n",
       "    <tr>\n",
       "      <th>Friday</th>\n",
       "      <td>21840</td>\n",
       "      <td>21840</td>\n",
       "      <td>21840</td>\n",
       "      <td>21840</td>\n",
       "      <td>21840</td>\n",
       "      <td>21840</td>\n",
       "    </tr>\n",
       "    <tr>\n",
       "      <th>Monday</th>\n",
       "      <td>21354</td>\n",
       "      <td>21354</td>\n",
       "      <td>21354</td>\n",
       "      <td>21354</td>\n",
       "      <td>21354</td>\n",
       "      <td>21354</td>\n",
       "    </tr>\n",
       "    <tr>\n",
       "      <th>Wednesday</th>\n",
       "      <td>18059</td>\n",
       "      <td>18059</td>\n",
       "      <td>18059</td>\n",
       "      <td>18059</td>\n",
       "      <td>18059</td>\n",
       "      <td>18059</td>\n",
       "    </tr>\n",
       "  </tbody>\n",
       "</table>\n",
       "</div>"
      ],
      "text/plain": [
       "           user_id  track  artist  genre   city   time\n",
       "day                                                   \n",
       "Friday       21840  21840   21840  21840  21840  21840\n",
       "Monday       21354  21354   21354  21354  21354  21354\n",
       "Wednesday    18059  18059   18059  18059  18059  18059"
      ]
     },
     "execution_count": 25,
     "metadata": {},
     "output_type": "execute_result"
    }
   ],
   "source": [
    "df.groupby('day').count()"
   ]
  },
  {
   "cell_type": "markdown",
   "metadata": {
    "id": "cC2tNrlL_Zcu"
   },
   "source": [
    "On average, users from the two cities are less active on Wednesdays. But the picture may change if we consider each city separately."
   ]
  },
  {
   "cell_type": "code",
   "execution_count": 26,
   "metadata": {
    "id": "Nz3GdQB1_Zcu"
   },
   "outputs": [],
   "source": [
    "def number_tracks(day, city):\n",
    "    track_list = df.loc[(df['day'] == day) & (df['city'] == city)]\n",
    "    track_list_count = track_list['user_id'].count()\n",
    "    return(track_list_count)"
   ]
  },
  {
   "cell_type": "code",
   "execution_count": 27,
   "metadata": {
    "id": "rJcRATNQ_Zcu"
   },
   "outputs": [
    {
     "data": {
      "text/plain": [
       "15740"
      ]
     },
     "execution_count": 27,
     "metadata": {},
     "output_type": "execute_result"
    }
   ],
   "source": [
    "number_tracks('Monday', 'Moscow')"
   ]
  },
  {
   "cell_type": "code",
   "execution_count": 28,
   "metadata": {
    "id": "hq_ncZ5T_Zcu"
   },
   "outputs": [
    {
     "data": {
      "text/plain": [
       "5614"
      ]
     },
     "execution_count": 28,
     "metadata": {},
     "output_type": "execute_result"
    }
   ],
   "source": [
    "number_tracks('Monday', 'Saint-Petersburg')"
   ]
  },
  {
   "cell_type": "code",
   "execution_count": 29,
   "metadata": {
    "id": "_NTy2VPU_Zcu"
   },
   "outputs": [
    {
     "data": {
      "text/plain": [
       "11056"
      ]
     },
     "execution_count": 29,
     "metadata": {},
     "output_type": "execute_result"
    }
   ],
   "source": [
    "number_tracks('Wednesday', 'Moscow')"
   ]
  },
  {
   "cell_type": "code",
   "execution_count": 30,
   "metadata": {
    "id": "j2y3TAwo_Zcu"
   },
   "outputs": [
    {
     "data": {
      "text/plain": [
       "7003"
      ]
     },
     "execution_count": 30,
     "metadata": {},
     "output_type": "execute_result"
    }
   ],
   "source": [
    "number_tracks('Wednesday', 'Saint-Petersburg')"
   ]
  },
  {
   "cell_type": "code",
   "execution_count": 31,
   "metadata": {
    "id": "vYDw5u_K_Zcu"
   },
   "outputs": [
    {
     "data": {
      "text/plain": [
       "15945"
      ]
     },
     "execution_count": 31,
     "metadata": {},
     "output_type": "execute_result"
    }
   ],
   "source": [
    "number_tracks('Friday', 'Moscow')"
   ]
  },
  {
   "cell_type": "code",
   "execution_count": 32,
   "metadata": {
    "id": "8_yzFtW3_Zcu"
   },
   "outputs": [
    {
     "data": {
      "text/plain": [
       "5895"
      ]
     },
     "execution_count": 32,
     "metadata": {},
     "output_type": "execute_result"
    }
   ],
   "source": [
    "number_tracks('Friday', 'Saint-Petersburg')"
   ]
  },
  {
   "cell_type": "code",
   "execution_count": 33,
   "metadata": {
    "id": "APAcLpOr_Zcu"
   },
   "outputs": [
    {
     "data": {
      "text/html": [
       "<div>\n",
       "<style scoped>\n",
       "    .dataframe tbody tr th:only-of-type {\n",
       "        vertical-align: middle;\n",
       "    }\n",
       "\n",
       "    .dataframe tbody tr th {\n",
       "        vertical-align: top;\n",
       "    }\n",
       "\n",
       "    .dataframe thead th {\n",
       "        text-align: right;\n",
       "    }\n",
       "</style>\n",
       "<table border=\"1\" class=\"dataframe\">\n",
       "  <thead>\n",
       "    <tr style=\"text-align: right;\">\n",
       "      <th></th>\n",
       "      <th>city</th>\n",
       "      <th>monday</th>\n",
       "      <th>wednesday</th>\n",
       "      <th>friday</th>\n",
       "    </tr>\n",
       "  </thead>\n",
       "  <tbody>\n",
       "    <tr>\n",
       "      <th>0</th>\n",
       "      <td>Moscow</td>\n",
       "      <td>15740</td>\n",
       "      <td>11056</td>\n",
       "      <td>15945</td>\n",
       "    </tr>\n",
       "    <tr>\n",
       "      <th>1</th>\n",
       "      <td>Saint-Petersburg</td>\n",
       "      <td>5614</td>\n",
       "      <td>7003</td>\n",
       "      <td>5895</td>\n",
       "    </tr>\n",
       "  </tbody>\n",
       "</table>\n",
       "</div>"
      ],
      "text/plain": [
       "               city monday wednesday friday\n",
       "0            Moscow  15740     11056  15945\n",
       "1  Saint-Petersburg   5614      7003   5895"
      ]
     },
     "metadata": {},
     "output_type": "display_data"
    }
   ],
   "source": [
    "column = ['city', 'monday', 'wednesday', 'friday']\n",
    "data = [\n",
    "    ['Moscow', '15740', '11056', '15945'],\n",
    "    ['Saint-Petersburg', '5614', '7003', '5895']\n",
    "]\n",
    "table = pd.DataFrame(data=data, columns=column)\n",
    "display(table)"
   ]
  },
  {
   "cell_type": "markdown",
   "metadata": {
    "id": "-EgPIHYu_Zcu"
   },
   "source": [
    "**Conclusion**\n",
    "\n",
    "The data shows the difference in user behavior:\n",
    "\n",
    "- In Moscow, the peak of listening falls on Monday and Friday, and on Wednesday there is a noticeable decline.\n",
    "- In St. Petersburg, on the contrary, they listen to music more on Wednesdays. Activity on Monday and Friday here is almost equally inferior to Wednesday.\n",
    "\n",
    "So the data support the first hypothesis."
   ]
  },
  {
   "cell_type": "markdown",
   "metadata": {
    "id": "atZAxtq4_Zcu"
   },
   "source": [
    "### Music at the beginning and the end of the week"
   ]
  },
  {
   "cell_type": "markdown",
   "metadata": {
    "id": "eXrQqXFH_Zcu"
   },
   "source": [
    "According to the second hypothesis, on Monday morning certain genres predominate in Moscow, while others dominate in St. Petersburg. Also, Friday evenings are dominated by different genres, depending on the city."
   ]
  },
  {
   "cell_type": "code",
   "execution_count": 34,
   "metadata": {
    "id": "qeaFfM_P_Zcu"
   },
   "outputs": [
    {
     "data": {
      "text/html": [
       "<div>\n",
       "<style scoped>\n",
       "    .dataframe tbody tr th:only-of-type {\n",
       "        vertical-align: middle;\n",
       "    }\n",
       "\n",
       "    .dataframe tbody tr th {\n",
       "        vertical-align: top;\n",
       "    }\n",
       "\n",
       "    .dataframe thead th {\n",
       "        text-align: right;\n",
       "    }\n",
       "</style>\n",
       "<table border=\"1\" class=\"dataframe\">\n",
       "  <thead>\n",
       "    <tr style=\"text-align: right;\">\n",
       "      <th></th>\n",
       "      <th>user_id</th>\n",
       "      <th>track</th>\n",
       "      <th>artist</th>\n",
       "      <th>genre</th>\n",
       "      <th>city</th>\n",
       "      <th>time</th>\n",
       "      <th>day</th>\n",
       "    </tr>\n",
       "  </thead>\n",
       "  <tbody>\n",
       "    <tr>\n",
       "      <th>1</th>\n",
       "      <td>55204538</td>\n",
       "      <td>Delayed Because of Accident</td>\n",
       "      <td>Andreas Rönnberg</td>\n",
       "      <td>rock</td>\n",
       "      <td>Moscow</td>\n",
       "      <td>14:07:09</td>\n",
       "      <td>Friday</td>\n",
       "    </tr>\n",
       "    <tr>\n",
       "      <th>4</th>\n",
       "      <td>E2DC1FAE</td>\n",
       "      <td>Soul People</td>\n",
       "      <td>Space Echo</td>\n",
       "      <td>dance</td>\n",
       "      <td>Moscow</td>\n",
       "      <td>08:34:34</td>\n",
       "      <td>Monday</td>\n",
       "    </tr>\n",
       "    <tr>\n",
       "      <th>6</th>\n",
       "      <td>4CB90AA5</td>\n",
       "      <td>True</td>\n",
       "      <td>Roman Messer</td>\n",
       "      <td>dance</td>\n",
       "      <td>Moscow</td>\n",
       "      <td>13:00:07</td>\n",
       "      <td>Wednesday</td>\n",
       "    </tr>\n",
       "    <tr>\n",
       "      <th>7</th>\n",
       "      <td>F03E1C1F</td>\n",
       "      <td>Feeling This Way</td>\n",
       "      <td>Polina Griffith</td>\n",
       "      <td>dance</td>\n",
       "      <td>Moscow</td>\n",
       "      <td>20:47:49</td>\n",
       "      <td>Wednesday</td>\n",
       "    </tr>\n",
       "    <tr>\n",
       "      <th>8</th>\n",
       "      <td>8FA1D3BE</td>\n",
       "      <td>И вновь продолжается бой</td>\n",
       "      <td>unknown</td>\n",
       "      <td>ruspop</td>\n",
       "      <td>Moscow</td>\n",
       "      <td>09:17:40</td>\n",
       "      <td>Friday</td>\n",
       "    </tr>\n",
       "    <tr>\n",
       "      <th>...</th>\n",
       "      <td>...</td>\n",
       "      <td>...</td>\n",
       "      <td>...</td>\n",
       "      <td>...</td>\n",
       "      <td>...</td>\n",
       "      <td>...</td>\n",
       "      <td>...</td>\n",
       "    </tr>\n",
       "    <tr>\n",
       "      <th>61247</th>\n",
       "      <td>83A474E7</td>\n",
       "      <td>I Worship Only What You Bleed</td>\n",
       "      <td>The Black Dahlia Murder</td>\n",
       "      <td>extrememetal</td>\n",
       "      <td>Moscow</td>\n",
       "      <td>21:07:12</td>\n",
       "      <td>Monday</td>\n",
       "    </tr>\n",
       "    <tr>\n",
       "      <th>61248</th>\n",
       "      <td>729CBB09</td>\n",
       "      <td>My Name</td>\n",
       "      <td>McLean</td>\n",
       "      <td>rnb</td>\n",
       "      <td>Moscow</td>\n",
       "      <td>13:32:28</td>\n",
       "      <td>Wednesday</td>\n",
       "    </tr>\n",
       "    <tr>\n",
       "      <th>61250</th>\n",
       "      <td>C5E3A0D5</td>\n",
       "      <td>Jalopiina</td>\n",
       "      <td>unknown</td>\n",
       "      <td>industrial</td>\n",
       "      <td>Moscow</td>\n",
       "      <td>20:09:26</td>\n",
       "      <td>Friday</td>\n",
       "    </tr>\n",
       "    <tr>\n",
       "      <th>61251</th>\n",
       "      <td>321D0506</td>\n",
       "      <td>Freight Train</td>\n",
       "      <td>Chas McDevitt</td>\n",
       "      <td>rock</td>\n",
       "      <td>Moscow</td>\n",
       "      <td>21:43:59</td>\n",
       "      <td>Friday</td>\n",
       "    </tr>\n",
       "    <tr>\n",
       "      <th>61252</th>\n",
       "      <td>3A64EF84</td>\n",
       "      <td>Tell Me Sweet Little Lies</td>\n",
       "      <td>Monica Lopez</td>\n",
       "      <td>country</td>\n",
       "      <td>Moscow</td>\n",
       "      <td>21:59:46</td>\n",
       "      <td>Friday</td>\n",
       "    </tr>\n",
       "  </tbody>\n",
       "</table>\n",
       "<p>42741 rows × 7 columns</p>\n",
       "</div>"
      ],
      "text/plain": [
       "        user_id                          track                   artist  \\\n",
       "1      55204538    Delayed Because of Accident         Andreas Rönnberg   \n",
       "4      E2DC1FAE                    Soul People               Space Echo   \n",
       "6      4CB90AA5                           True             Roman Messer   \n",
       "7      F03E1C1F               Feeling This Way          Polina Griffith   \n",
       "8      8FA1D3BE       И вновь продолжается бой                  unknown   \n",
       "...         ...                            ...                      ...   \n",
       "61247  83A474E7  I Worship Only What You Bleed  The Black Dahlia Murder   \n",
       "61248  729CBB09                        My Name                   McLean   \n",
       "61250  C5E3A0D5                      Jalopiina                  unknown   \n",
       "61251  321D0506                  Freight Train            Chas McDevitt   \n",
       "61252  3A64EF84      Tell Me Sweet Little Lies             Monica Lopez   \n",
       "\n",
       "              genre    city      time        day  \n",
       "1              rock  Moscow  14:07:09     Friday  \n",
       "4             dance  Moscow  08:34:34     Monday  \n",
       "6             dance  Moscow  13:00:07  Wednesday  \n",
       "7             dance  Moscow  20:47:49  Wednesday  \n",
       "8            ruspop  Moscow  09:17:40     Friday  \n",
       "...             ...     ...       ...        ...  \n",
       "61247  extrememetal  Moscow  21:07:12     Monday  \n",
       "61248           rnb  Moscow  13:32:28  Wednesday  \n",
       "61250    industrial  Moscow  20:09:26     Friday  \n",
       "61251          rock  Moscow  21:43:59     Friday  \n",
       "61252       country  Moscow  21:59:46     Friday  \n",
       "\n",
       "[42741 rows x 7 columns]"
      ]
     },
     "metadata": {},
     "output_type": "display_data"
    }
   ],
   "source": [
    "moscow_general = df.loc[df['city'] == 'Moscow']\n",
    "display(moscow_general)"
   ]
  },
  {
   "cell_type": "code",
   "execution_count": 35,
   "metadata": {
    "id": "ORaVRKto_Zcu"
   },
   "outputs": [
    {
     "data": {
      "text/html": [
       "<div>\n",
       "<style scoped>\n",
       "    .dataframe tbody tr th:only-of-type {\n",
       "        vertical-align: middle;\n",
       "    }\n",
       "\n",
       "    .dataframe tbody tr th {\n",
       "        vertical-align: top;\n",
       "    }\n",
       "\n",
       "    .dataframe thead th {\n",
       "        text-align: right;\n",
       "    }\n",
       "</style>\n",
       "<table border=\"1\" class=\"dataframe\">\n",
       "  <thead>\n",
       "    <tr style=\"text-align: right;\">\n",
       "      <th></th>\n",
       "      <th>user_id</th>\n",
       "      <th>track</th>\n",
       "      <th>artist</th>\n",
       "      <th>genre</th>\n",
       "      <th>city</th>\n",
       "      <th>time</th>\n",
       "      <th>day</th>\n",
       "    </tr>\n",
       "  </thead>\n",
       "  <tbody>\n",
       "    <tr>\n",
       "      <th>0</th>\n",
       "      <td>FFB692EC</td>\n",
       "      <td>Kamigata To Boots</td>\n",
       "      <td>The Mass Missile</td>\n",
       "      <td>rock</td>\n",
       "      <td>Saint-Petersburg</td>\n",
       "      <td>20:28:33</td>\n",
       "      <td>Wednesday</td>\n",
       "    </tr>\n",
       "    <tr>\n",
       "      <th>2</th>\n",
       "      <td>20EC38</td>\n",
       "      <td>Funiculì funiculà</td>\n",
       "      <td>Mario Lanza</td>\n",
       "      <td>pop</td>\n",
       "      <td>Saint-Petersburg</td>\n",
       "      <td>20:58:07</td>\n",
       "      <td>Wednesday</td>\n",
       "    </tr>\n",
       "    <tr>\n",
       "      <th>3</th>\n",
       "      <td>A3DD03C9</td>\n",
       "      <td>Dragons in the Sunset</td>\n",
       "      <td>Fire + Ice</td>\n",
       "      <td>folk</td>\n",
       "      <td>Saint-Petersburg</td>\n",
       "      <td>08:37:09</td>\n",
       "      <td>Monday</td>\n",
       "    </tr>\n",
       "    <tr>\n",
       "      <th>5</th>\n",
       "      <td>842029A1</td>\n",
       "      <td>Преданная</td>\n",
       "      <td>IMPERVTOR</td>\n",
       "      <td>rusrap</td>\n",
       "      <td>Saint-Petersburg</td>\n",
       "      <td>13:09:41</td>\n",
       "      <td>Friday</td>\n",
       "    </tr>\n",
       "    <tr>\n",
       "      <th>9</th>\n",
       "      <td>E772D5C0</td>\n",
       "      <td>Pessimist</td>\n",
       "      <td>unknown</td>\n",
       "      <td>dance</td>\n",
       "      <td>Saint-Petersburg</td>\n",
       "      <td>21:20:49</td>\n",
       "      <td>Wednesday</td>\n",
       "    </tr>\n",
       "    <tr>\n",
       "      <th>...</th>\n",
       "      <td>...</td>\n",
       "      <td>...</td>\n",
       "      <td>...</td>\n",
       "      <td>...</td>\n",
       "      <td>...</td>\n",
       "      <td>...</td>\n",
       "      <td>...</td>\n",
       "    </tr>\n",
       "    <tr>\n",
       "      <th>61239</th>\n",
       "      <td>D94F810B</td>\n",
       "      <td>Theme from the Walking Dead</td>\n",
       "      <td>Proyecto Halloween</td>\n",
       "      <td>film</td>\n",
       "      <td>Saint-Petersburg</td>\n",
       "      <td>21:14:40</td>\n",
       "      <td>Monday</td>\n",
       "    </tr>\n",
       "    <tr>\n",
       "      <th>61240</th>\n",
       "      <td>BC8EC5CF</td>\n",
       "      <td>Red Lips: Gta (Rover Rework)</td>\n",
       "      <td>Rover</td>\n",
       "      <td>electronic</td>\n",
       "      <td>Saint-Petersburg</td>\n",
       "      <td>21:06:50</td>\n",
       "      <td>Monday</td>\n",
       "    </tr>\n",
       "    <tr>\n",
       "      <th>61241</th>\n",
       "      <td>29E04611</td>\n",
       "      <td>Bre Petrunko</td>\n",
       "      <td>Perunika Trio</td>\n",
       "      <td>world</td>\n",
       "      <td>Saint-Petersburg</td>\n",
       "      <td>13:56:00</td>\n",
       "      <td>Monday</td>\n",
       "    </tr>\n",
       "    <tr>\n",
       "      <th>61242</th>\n",
       "      <td>1B91C621</td>\n",
       "      <td>(Hello) Cloud Mountain</td>\n",
       "      <td>sleepmakeswaves</td>\n",
       "      <td>postrock</td>\n",
       "      <td>Saint-Petersburg</td>\n",
       "      <td>09:22:13</td>\n",
       "      <td>Monday</td>\n",
       "    </tr>\n",
       "    <tr>\n",
       "      <th>61249</th>\n",
       "      <td>D08D4A55</td>\n",
       "      <td>Maybe One Day (feat. Black Spade)</td>\n",
       "      <td>Blu &amp; Exile</td>\n",
       "      <td>hiphop</td>\n",
       "      <td>Saint-Petersburg</td>\n",
       "      <td>10:00:00</td>\n",
       "      <td>Monday</td>\n",
       "    </tr>\n",
       "  </tbody>\n",
       "</table>\n",
       "<p>18512 rows × 7 columns</p>\n",
       "</div>"
      ],
      "text/plain": [
       "        user_id                              track              artist  \\\n",
       "0      FFB692EC                  Kamigata To Boots    The Mass Missile   \n",
       "2        20EC38                  Funiculì funiculà         Mario Lanza   \n",
       "3      A3DD03C9              Dragons in the Sunset          Fire + Ice   \n",
       "5      842029A1                          Преданная           IMPERVTOR   \n",
       "9      E772D5C0                          Pessimist             unknown   \n",
       "...         ...                                ...                 ...   \n",
       "61239  D94F810B        Theme from the Walking Dead  Proyecto Halloween   \n",
       "61240  BC8EC5CF       Red Lips: Gta (Rover Rework)               Rover   \n",
       "61241  29E04611                       Bre Petrunko       Perunika Trio   \n",
       "61242  1B91C621             (Hello) Cloud Mountain     sleepmakeswaves   \n",
       "61249  D08D4A55  Maybe One Day (feat. Black Spade)         Blu & Exile   \n",
       "\n",
       "            genre              city      time        day  \n",
       "0            rock  Saint-Petersburg  20:28:33  Wednesday  \n",
       "2             pop  Saint-Petersburg  20:58:07  Wednesday  \n",
       "3            folk  Saint-Petersburg  08:37:09     Monday  \n",
       "5          rusrap  Saint-Petersburg  13:09:41     Friday  \n",
       "9           dance  Saint-Petersburg  21:20:49  Wednesday  \n",
       "...           ...               ...       ...        ...  \n",
       "61239        film  Saint-Petersburg  21:14:40     Monday  \n",
       "61240  electronic  Saint-Petersburg  21:06:50     Monday  \n",
       "61241       world  Saint-Petersburg  13:56:00     Monday  \n",
       "61242    postrock  Saint-Petersburg  09:22:13     Monday  \n",
       "61249      hiphop  Saint-Petersburg  10:00:00     Monday  \n",
       "\n",
       "[18512 rows x 7 columns]"
      ]
     },
     "metadata": {},
     "output_type": "display_data"
    }
   ],
   "source": [
    "spb_general = df.loc[df['city'] == 'Saint-Petersburg']\n",
    "display(spb_general)"
   ]
  },
  {
   "cell_type": "code",
   "execution_count": 36,
   "metadata": {
    "id": "laJT9BYl_Zcu"
   },
   "outputs": [],
   "source": [
    "def genre_weekday(table, day, time1, time2):\n",
    "    genre_df = table.loc[(table['day'] == day) & (table['time'] > time1) & (table['time'] < time2)]\n",
    "    genre_df_count = genre_df.groupby('genre')['genre'].count()\n",
    "    genre_df_sorted = genre_df_count.sort_values(ascending = False)\n",
    "    return(genre_df_sorted.head(10))"
   ]
  },
  {
   "cell_type": "code",
   "execution_count": 37,
   "metadata": {
    "id": "yz7itPUQ_Zcu"
   },
   "outputs": [
    {
     "data": {
      "text/plain": [
       "genre\n",
       "pop            781\n",
       "dance          549\n",
       "electronic     480\n",
       "rock           474\n",
       "hiphop         286\n",
       "ruspop         186\n",
       "world          181\n",
       "rusrap         175\n",
       "alternative    164\n",
       "unknown        161\n",
       "Name: genre, dtype: int64"
      ]
     },
     "execution_count": 37,
     "metadata": {},
     "output_type": "execute_result"
    }
   ],
   "source": [
    "genre_weekday(moscow_general, 'Monday', '07:00', '11:00')"
   ]
  },
  {
   "cell_type": "code",
   "execution_count": 38,
   "metadata": {
    "id": "kwUcHPdy_Zcu"
   },
   "outputs": [
    {
     "data": {
      "text/plain": [
       "genre\n",
       "pop            218\n",
       "dance          182\n",
       "rock           162\n",
       "electronic     147\n",
       "hiphop          80\n",
       "ruspop          64\n",
       "alternative     58\n",
       "rusrap          55\n",
       "jazz            44\n",
       "classical       40\n",
       "Name: genre, dtype: int64"
      ]
     },
     "execution_count": 38,
     "metadata": {},
     "output_type": "execute_result"
    }
   ],
   "source": [
    "genre_weekday(spb_general, 'Monday', '07:00', '11:00')"
   ]
  },
  {
   "cell_type": "code",
   "execution_count": 39,
   "metadata": {
    "id": "EzXVRE1o_Zcu"
   },
   "outputs": [
    {
     "data": {
      "text/plain": [
       "genre\n",
       "pop            713\n",
       "rock           517\n",
       "dance          495\n",
       "electronic     482\n",
       "hiphop         273\n",
       "world          208\n",
       "ruspop         170\n",
       "alternative    163\n",
       "classical      163\n",
       "rusrap         142\n",
       "Name: genre, dtype: int64"
      ]
     },
     "execution_count": 39,
     "metadata": {},
     "output_type": "execute_result"
    }
   ],
   "source": [
    "genre_weekday(moscow_general, 'Friday', '17:00', '23:00')"
   ]
  },
  {
   "cell_type": "code",
   "execution_count": 40,
   "metadata": {
    "id": "JZaEKu5v_Zcu"
   },
   "outputs": [
    {
     "data": {
      "text/plain": [
       "genre\n",
       "pop            256\n",
       "electronic     216\n",
       "rock           216\n",
       "dance          210\n",
       "hiphop          97\n",
       "alternative     63\n",
       "jazz            61\n",
       "classical       60\n",
       "rusrap          59\n",
       "world           54\n",
       "Name: genre, dtype: int64"
      ]
     },
     "execution_count": 40,
     "metadata": {},
     "output_type": "execute_result"
    }
   ],
   "source": [
    "genre_weekday(spb_general, 'Friday', '17:00', '23:00')"
   ]
  },
  {
   "cell_type": "markdown",
   "metadata": {
    "id": "wrCe4MNX_Zcu"
   },
   "source": [
    "**Conclusion**\n",
    "\n",
    "If we compare the top 10 genres on Monday morning, we can draw the following conclusions:\n",
    "\n",
    "1. In Moscow and St. Petersburg they listen to similar music. The only difference is that the Moscow rating includes the “world” genre, while the St. Petersburg rating includes jazz and classical.\n",
    "\n",
    "2. There were so many missing values ​​in Moscow that the value `'unknown'` took tenth place among the most popular genres. This means that missing values ​​occupy a significant share in the data and threaten the reliability of the study.\n",
    "\n",
    "Friday night does not change this picture. Some genres rise a little higher, others go down, but overall the top 10 stays the same.\n",
    "\n",
    "Thus, the second hypothesis was only partially confirmed:\n",
    "* Users listen to similar music at the beginning of the week and at the end.\n",
    "* The difference between Moscow and St. Petersburg is not very pronounced. In Moscow, they listen to Russian popular music more often, in St. Petersburg - jazz.\n",
    "\n",
    "However, gaps in the data cast doubt on this result. There are so many of them in Moscow that the top 10 ranking could look different if it were not for the lost genre data."
   ]
  },
  {
   "cell_type": "markdown",
   "metadata": {
    "id": "JolODAqr_Zcu"
   },
   "source": [
    "### Genre preferences in Moscow and St. Petersburg\n",
    "\n",
    "Hypothesis: St. Petersburg is the capital of rap, the music of this genre is listened to more often than in Moscow. And Moscow is a city of contrasts, which, nevertheless, is dominated by pop music."
   ]
  },
  {
   "cell_type": "code",
   "execution_count": 41,
   "metadata": {
    "id": "r19lIPke_Zcu"
   },
   "outputs": [
    {
     "data": {
      "text/plain": [
       "genre\n",
       "pop            5892\n",
       "dance          4435\n",
       "rock           3965\n",
       "electronic     3786\n",
       "hiphop         2096\n",
       "classical      1616\n",
       "world          1432\n",
       "alternative    1379\n",
       "ruspop         1372\n",
       "rusrap         1161\n",
       "Name: genre, dtype: int64"
      ]
     },
     "execution_count": 41,
     "metadata": {},
     "output_type": "execute_result"
    }
   ],
   "source": [
    "moscow_genres = moscow_general.groupby('genre')['genre'].count().sort_values(ascending = False)\n",
    "moscow_genres.head(10)"
   ]
  },
  {
   "cell_type": "code",
   "execution_count": 42,
   "metadata": {
    "id": "gluLIpE7_Zcv"
   },
   "outputs": [
    {
     "data": {
      "text/plain": [
       "genre\n",
       "pop            2431\n",
       "dance          1932\n",
       "rock           1879\n",
       "electronic     1736\n",
       "hiphop          960\n",
       "alternative     649\n",
       "classical       646\n",
       "rusrap          564\n",
       "ruspop          538\n",
       "world           515\n",
       "Name: genre, dtype: int64"
      ]
     },
     "execution_count": 42,
     "metadata": {},
     "output_type": "execute_result"
    }
   ],
   "source": [
    "spb_genres = spb_general.groupby('genre')['genre'].count().sort_values(ascending = False)\n",
    "spb_genres.head(10)"
   ]
  },
  {
   "cell_type": "markdown",
   "metadata": {
    "id": "nVhnJEm__Zcv"
   },
   "source": [
    "**Conclusion**\n",
    "\n",
    "The hypothesis was partially confirmed:\n",
    "* Pop music is the most popular genre in Moscow, as the hypothesis suggested. Moreover, in the top 10 genres there is a close genre - Russian popular music.\n",
    "* Contrary to expectations, rap is equally popular in Moscow and St. Petersburg."
   ]
  },
  {
   "cell_type": "markdown",
   "metadata": {
    "id": "ykKQ0N65_Zcv"
   },
   "source": [
    "## Research results"
   ]
  },
  {
   "cell_type": "markdown",
   "metadata": {
    "id": "tjUwbHb3_Zcv"
   },
   "source": [
    "We tested three hypotheses and found:\n",
    "\n",
    "1. The day of the week has a different effect on the activity of users in Moscow and St. Petersburg.\n",
    "\n",
    "The first hypothesis was fully confirmed.\n",
    "\n",
    "2. Musical preferences do not change much during the week - be it Moscow or St. Petersburg. Small differences are noticeable at the beginning of the week, on Mondays:\n",
    "* in Moscow they listen to music of the “world” genre,\n",
    "* in St. Petersburg - jazz and classical music.\n",
    "\n",
    "Thus, the second hypothesis was only partly confirmed. This result could have been different were it not for gaps in the data.\n",
    "\n",
    "3. The tastes of users of Moscow and St. Petersburg have more in common than differences. Contrary to expectations, genre preferences in St. Petersburg resemble those in Moscow.\n",
    "\n",
    "The third hypothesis was not confirmed. If there are differences in preferences, they are invisible to the bulk of users.\n"
   ]
  }
 ],
 "metadata": {
  "ExecuteTimeLog": [
   {
    "duration": 596,
    "start_time": "2021-07-26T12:39:30.402Z"
   },
   {
    "duration": 324,
    "start_time": "2021-07-26T12:40:31.948Z"
   },
   {
    "duration": 3,
    "start_time": "2021-07-26T12:40:38.738Z"
   },
   {
    "duration": 164,
    "start_time": "2021-07-26T12:40:52.488Z"
   },
   {
    "duration": 16,
    "start_time": "2021-07-26T12:41:33.196Z"
   },
   {
    "duration": 37,
    "start_time": "2021-07-26T12:41:56.803Z"
   },
   {
    "duration": 23,
    "start_time": "2021-07-26T12:42:06.369Z"
   },
   {
    "duration": 3,
    "start_time": "2021-07-26T12:46:45.489Z"
   },
   {
    "duration": 4,
    "start_time": "2021-07-26T12:46:56.580Z"
   },
   {
    "duration": 3,
    "start_time": "2021-07-26T12:47:01.490Z"
   },
   {
    "duration": 18,
    "start_time": "2021-07-26T12:51:03.468Z"
   },
   {
    "duration": 4,
    "start_time": "2021-07-26T12:51:24.132Z"
   },
   {
    "duration": 21,
    "start_time": "2021-07-26T12:52:34.599Z"
   },
   {
    "duration": 20,
    "start_time": "2021-07-26T12:52:48.488Z"
   },
   {
    "duration": 22,
    "start_time": "2021-07-26T12:52:53.540Z"
   },
   {
    "duration": 16,
    "start_time": "2021-07-26T12:56:32.296Z"
   },
   {
    "duration": 21,
    "start_time": "2021-07-26T12:56:55.275Z"
   },
   {
    "duration": 54,
    "start_time": "2021-07-26T12:58:33.068Z"
   },
   {
    "duration": 58,
    "start_time": "2021-07-26T13:00:03.618Z"
   },
   {
    "duration": 48,
    "start_time": "2021-07-26T13:00:23.624Z"
   },
   {
    "duration": 5,
    "start_time": "2021-07-26T13:01:27.576Z"
   },
   {
    "duration": 3,
    "start_time": "2021-07-26T13:17:10.717Z"
   },
   {
    "duration": 14,
    "start_time": "2021-07-26T13:17:16.486Z"
   },
   {
    "duration": 6,
    "start_time": "2021-07-26T13:18:09.771Z"
   },
   {
    "duration": 32,
    "start_time": "2021-07-26T13:21:53.244Z"
   },
   {
    "duration": 48,
    "start_time": "2021-07-26T13:22:49.351Z"
   },
   {
    "duration": 3,
    "start_time": "2021-07-26T13:30:51.824Z"
   },
   {
    "duration": 606,
    "start_time": "2021-07-26T13:32:12.815Z"
   },
   {
    "duration": 4,
    "start_time": "2021-07-26T13:35:56.582Z"
   },
   {
    "duration": 572,
    "start_time": "2021-07-26T13:35:59.307Z"
   },
   {
    "duration": 4,
    "start_time": "2021-07-26T13:36:57.028Z"
   },
   {
    "duration": 607,
    "start_time": "2021-07-26T13:37:02.398Z"
   },
   {
    "duration": 3,
    "start_time": "2021-07-26T13:37:38.860Z"
   },
   {
    "duration": 582,
    "start_time": "2021-07-26T13:37:41.525Z"
   },
   {
    "duration": 703,
    "start_time": "2021-07-26T13:38:38.950Z"
   },
   {
    "duration": 3,
    "start_time": "2021-07-26T13:41:33.488Z"
   },
   {
    "duration": 603,
    "start_time": "2021-07-26T13:41:36.089Z"
   },
   {
    "duration": 3,
    "start_time": "2021-07-26T13:44:52.811Z"
   },
   {
    "duration": 672,
    "start_time": "2021-07-26T13:44:55.714Z"
   },
   {
    "duration": 3,
    "start_time": "2021-07-26T13:50:03.068Z"
   },
   {
    "duration": 15,
    "start_time": "2021-07-26T13:50:05.772Z"
   },
   {
    "duration": 13,
    "start_time": "2021-07-26T13:51:56.904Z"
   },
   {
    "duration": 15,
    "start_time": "2021-07-26T13:52:13.900Z"
   },
   {
    "duration": 15,
    "start_time": "2021-07-26T13:52:28.259Z"
   },
   {
    "duration": 15,
    "start_time": "2021-07-26T13:52:40.863Z"
   },
   {
    "duration": 20,
    "start_time": "2021-07-26T13:52:48.541Z"
   },
   {
    "duration": 275,
    "start_time": "2021-07-26T14:02:28.527Z"
   },
   {
    "duration": 285,
    "start_time": "2021-07-26T14:03:32.790Z"
   },
   {
    "duration": 346,
    "start_time": "2021-07-26T14:06:47.291Z"
   },
   {
    "duration": 284,
    "start_time": "2021-07-26T14:07:09.237Z"
   },
   {
    "duration": 288,
    "start_time": "2021-07-26T14:08:15.992Z"
   },
   {
    "duration": 456,
    "start_time": "2021-07-29T16:21:04.847Z"
   },
   {
    "duration": 418,
    "start_time": "2021-07-29T16:21:27.338Z"
   },
   {
    "duration": 951,
    "start_time": "2021-07-29T16:21:40.812Z"
   },
   {
    "duration": 462,
    "start_time": "2021-07-29T16:21:49.201Z"
   },
   {
    "duration": 23,
    "start_time": "2021-07-29T16:22:04.681Z"
   },
   {
    "duration": 423,
    "start_time": "2021-07-29T16:29:18.413Z"
   },
   {
    "duration": 6,
    "start_time": "2021-07-29T16:33:17.362Z"
   },
   {
    "duration": 6,
    "start_time": "2021-07-29T16:33:23.576Z"
   },
   {
    "duration": 14,
    "start_time": "2021-07-29T16:33:32.002Z"
   },
   {
    "duration": 538,
    "start_time": "2021-07-29T16:37:21.909Z"
   },
   {
    "duration": 4,
    "start_time": "2021-07-29T16:37:29.445Z"
   },
   {
    "duration": 4,
    "start_time": "2021-07-29T16:37:53.474Z"
   },
   {
    "duration": 4,
    "start_time": "2021-07-29T16:37:55.739Z"
   },
   {
    "duration": 7,
    "start_time": "2021-07-29T16:38:07.919Z"
   },
   {
    "duration": 7,
    "start_time": "2021-07-29T16:39:02.527Z"
   },
   {
    "duration": 306,
    "start_time": "2021-09-03T11:15:49.186Z"
   },
   {
    "duration": 6,
    "start_time": "2021-09-03T11:16:24.390Z"
   },
   {
    "duration": 6,
    "start_time": "2021-09-03T11:16:34.145Z"
   },
   {
    "duration": 5,
    "start_time": "2021-09-03T11:16:42.835Z"
   },
   {
    "duration": 6,
    "start_time": "2021-09-03T11:16:58.030Z"
   },
   {
    "duration": 6,
    "start_time": "2021-09-03T11:17:13.957Z"
   },
   {
    "duration": 6,
    "start_time": "2021-09-03T11:37:39.058Z"
   },
   {
    "duration": 6,
    "start_time": "2021-09-03T11:37:44.324Z"
   },
   {
    "duration": 6,
    "start_time": "2021-09-03T11:38:03.368Z"
   },
   {
    "duration": 5,
    "start_time": "2021-09-03T11:38:52.280Z"
   },
   {
    "duration": 339,
    "start_time": "2021-09-07T10:24:51.843Z"
   },
   {
    "duration": 6,
    "start_time": "2021-09-07T10:25:06.080Z"
   },
   {
    "duration": 258,
    "start_time": "2021-09-07T10:25:08.908Z"
   },
   {
    "duration": 735,
    "start_time": "2021-09-07T10:25:31.847Z"
   },
   {
    "duration": 295,
    "start_time": "2021-09-07T10:25:43.973Z"
   },
   {
    "duration": 177,
    "start_time": "2021-09-07T10:25:50.315Z"
   },
   {
    "duration": 24,
    "start_time": "2021-09-07T10:25:52.304Z"
   },
   {
    "duration": 32,
    "start_time": "2021-09-07T10:25:57.168Z"
   },
   {
    "duration": 6,
    "start_time": "2021-09-07T10:26:01.053Z"
   },
   {
    "duration": 27,
    "start_time": "2021-09-07T10:26:04.561Z"
   },
   {
    "duration": 4,
    "start_time": "2021-09-07T10:26:08.898Z"
   },
   {
    "duration": 29,
    "start_time": "2021-09-07T10:26:11.333Z"
   },
   {
    "duration": 25,
    "start_time": "2021-09-07T10:26:15.334Z"
   },
   {
    "duration": 27,
    "start_time": "2021-09-07T10:26:19.771Z"
   },
   {
    "duration": 83,
    "start_time": "2021-09-07T10:26:24.973Z"
   },
   {
    "duration": 97,
    "start_time": "2021-09-07T10:26:27.866Z"
   },
   {
    "duration": 76,
    "start_time": "2021-09-07T10:26:30.598Z"
   },
   {
    "duration": 12,
    "start_time": "2021-09-07T10:26:34.392Z"
   },
   {
    "duration": 4,
    "start_time": "2021-09-07T10:26:38.857Z"
   },
   {
    "duration": 22,
    "start_time": "2021-09-07T10:26:41.779Z"
   },
   {
    "duration": 8,
    "start_time": "2021-09-07T10:26:44.076Z"
   },
   {
    "duration": 40,
    "start_time": "2021-09-07T10:26:47.601Z"
   },
   {
    "duration": 43,
    "start_time": "2021-09-07T10:26:49.707Z"
   },
   {
    "duration": 5,
    "start_time": "2021-09-07T10:26:53.962Z"
   },
   {
    "duration": 20,
    "start_time": "2021-09-07T10:26:55.646Z"
   },
   {
    "duration": 17,
    "start_time": "2021-09-07T10:26:57.491Z"
   },
   {
    "duration": 18,
    "start_time": "2021-09-07T10:27:00.021Z"
   },
   {
    "duration": 17,
    "start_time": "2021-09-07T10:27:01.055Z"
   },
   {
    "duration": 20,
    "start_time": "2021-09-07T10:27:02.165Z"
   },
   {
    "duration": 18,
    "start_time": "2021-09-07T10:27:04.350Z"
   },
   {
    "duration": 12,
    "start_time": "2021-09-07T10:27:07.694Z"
   },
   {
    "duration": 7,
    "start_time": "2021-09-07T10:27:11.872Z"
   },
   {
    "duration": 6,
    "start_time": "2021-09-07T10:27:14.166Z"
   },
   {
    "duration": 6,
    "start_time": "2021-09-07T10:27:17.085Z"
   },
   {
    "duration": -125,
    "start_time": "2021-09-07T10:27:27.516Z"
   },
   {
    "duration": 7661,
    "start_time": "2021-09-07T10:28:28.618Z"
   },
   {
    "duration": 8280,
    "start_time": "2021-09-07T10:29:05.259Z"
   },
   {
    "duration": -103,
    "start_time": "2021-09-07T10:29:13.645Z"
   },
   {
    "duration": 7978,
    "start_time": "2021-09-07T10:29:47.031Z"
   },
   {
    "duration": 5,
    "start_time": "2021-09-07T10:30:12.528Z"
   },
   {
    "duration": 7725,
    "start_time": "2021-09-07T10:30:16.931Z"
   },
   {
    "duration": 5,
    "start_time": "2021-09-07T10:36:06.104Z"
   },
   {
    "duration": 7686,
    "start_time": "2021-09-07T10:36:09.746Z"
   },
   {
    "duration": 7762,
    "start_time": "2021-09-07T10:37:34.343Z"
   },
   {
    "duration": 6,
    "start_time": "2021-09-07T10:37:57.714Z"
   },
   {
    "duration": 8317,
    "start_time": "2021-09-07T10:38:01.862Z"
   },
   {
    "duration": 8279,
    "start_time": "2021-09-07T10:39:19.203Z"
   },
   {
    "duration": 117,
    "start_time": "2021-09-07T11:09:04.386Z"
   },
   {
    "duration": 5,
    "start_time": "2021-09-07T11:09:17.715Z"
   },
   {
    "duration": 9560,
    "start_time": "2021-09-07T11:09:22.307Z"
   },
   {
    "duration": 16,
    "start_time": "2021-09-07T13:57:34.661Z"
   },
   {
    "duration": 6,
    "start_time": "2021-09-07T13:58:37.672Z"
   },
   {
    "duration": 14,
    "start_time": "2021-09-07T13:58:59.109Z"
   },
   {
    "duration": 8,
    "start_time": "2021-09-07T13:59:13.293Z"
   },
   {
    "duration": 8077,
    "start_time": "2021-09-07T18:58:11.661Z"
   },
   {
    "duration": 6697,
    "start_time": "2021-09-07T19:34:46.252Z"
   },
   {
    "duration": 6,
    "start_time": "2021-09-07T19:34:54.246Z"
   },
   {
    "duration": 5,
    "start_time": "2021-09-07T19:34:58.363Z"
   },
   {
    "duration": 29,
    "start_time": "2021-09-07T19:35:04.552Z"
   },
   {
    "duration": 7662,
    "start_time": "2021-09-07T19:35:28.420Z"
   },
   {
    "duration": 7,
    "start_time": "2021-09-07T19:37:01.659Z"
   },
   {
    "duration": 7,
    "start_time": "2021-09-07T19:37:23.883Z"
   },
   {
    "duration": 7,
    "start_time": "2021-09-07T19:37:58.794Z"
   },
   {
    "duration": 5,
    "start_time": "2021-09-07T19:39:15.183Z"
   },
   {
    "duration": 7954,
    "start_time": "2021-09-07T19:39:42.886Z"
   },
   {
    "duration": 252,
    "start_time": "2021-09-07T19:46:25.312Z"
   },
   {
    "duration": 5,
    "start_time": "2021-09-07T19:46:32.780Z"
   },
   {
    "duration": 7491,
    "start_time": "2021-09-07T19:46:36.756Z"
   },
   {
    "duration": 7391,
    "start_time": "2021-09-07T19:46:48.080Z"
   },
   {
    "duration": 5,
    "start_time": "2021-09-07T19:47:17.992Z"
   },
   {
    "duration": 7386,
    "start_time": "2021-09-07T19:47:25.029Z"
   },
   {
    "duration": 5,
    "start_time": "2021-09-07T19:48:03.521Z"
   },
   {
    "duration": 7787,
    "start_time": "2021-09-07T19:48:06.883Z"
   },
   {
    "duration": 588,
    "start_time": "2021-09-07T19:48:30.353Z"
   },
   {
    "duration": 7,
    "start_time": "2021-09-07T19:49:28.482Z"
   },
   {
    "duration": 522,
    "start_time": "2021-09-07T19:49:33.700Z"
   },
   {
    "duration": 7567,
    "start_time": "2021-09-07T19:49:52.631Z"
   },
   {
    "duration": 7,
    "start_time": "2021-09-07T19:51:25.334Z"
   },
   {
    "duration": 8330,
    "start_time": "2021-09-07T19:51:30.339Z"
   },
   {
    "duration": 212,
    "start_time": "2021-09-08T10:58:34.929Z"
   },
   {
    "duration": 579,
    "start_time": "2021-09-08T10:58:48.561Z"
   },
   {
    "duration": 184,
    "start_time": "2021-09-08T10:58:51.097Z"
   },
   {
    "duration": 16,
    "start_time": "2021-09-08T10:58:53.567Z"
   },
   {
    "duration": 24,
    "start_time": "2021-09-08T10:58:56.482Z"
   },
   {
    "duration": 4,
    "start_time": "2021-09-08T10:59:00.876Z"
   },
   {
    "duration": 24,
    "start_time": "2021-09-08T10:59:02.197Z"
   },
   {
    "duration": 3,
    "start_time": "2021-09-08T10:59:02.737Z"
   },
   {
    "duration": 22,
    "start_time": "2021-09-08T10:59:03.436Z"
   },
   {
    "duration": 17,
    "start_time": "2021-09-08T10:59:04.559Z"
   },
   {
    "duration": 22,
    "start_time": "2021-09-08T10:59:05.507Z"
   },
   {
    "duration": 56,
    "start_time": "2021-09-08T10:59:06.358Z"
   },
   {
    "duration": 61,
    "start_time": "2021-09-08T10:59:07.130Z"
   },
   {
    "duration": 48,
    "start_time": "2021-09-08T10:59:07.920Z"
   },
   {
    "duration": 7,
    "start_time": "2021-09-08T10:59:09.217Z"
   },
   {
    "duration": 3,
    "start_time": "2021-09-08T10:59:10.180Z"
   },
   {
    "duration": 16,
    "start_time": "2021-09-08T10:59:11.102Z"
   },
   {
    "duration": 7,
    "start_time": "2021-09-08T10:59:12.621Z"
   },
   {
    "duration": 31,
    "start_time": "2021-09-08T10:59:16.076Z"
   },
   {
    "duration": 30,
    "start_time": "2021-09-08T10:59:17.193Z"
   },
   {
    "duration": 3,
    "start_time": "2021-09-08T10:59:18.601Z"
   },
   {
    "duration": 17,
    "start_time": "2021-09-08T10:59:20.228Z"
   },
   {
    "duration": 14,
    "start_time": "2021-09-08T10:59:20.612Z"
   },
   {
    "duration": 15,
    "start_time": "2021-09-08T10:59:21.019Z"
   },
   {
    "duration": 14,
    "start_time": "2021-09-08T10:59:21.506Z"
   },
   {
    "duration": 15,
    "start_time": "2021-09-08T10:59:21.967Z"
   },
   {
    "duration": 15,
    "start_time": "2021-09-08T10:59:22.565Z"
   },
   {
    "duration": 9,
    "start_time": "2021-09-08T10:59:24.903Z"
   },
   {
    "duration": 19,
    "start_time": "2021-09-08T10:59:28.199Z"
   },
   {
    "duration": 17,
    "start_time": "2021-09-08T11:04:10.424Z"
   },
   {
    "duration": 4,
    "start_time": "2021-09-08T11:04:15.383Z"
   },
   {
    "duration": 17,
    "start_time": "2021-09-08T11:04:19.077Z"
   },
   {
    "duration": 9,
    "start_time": "2021-09-08T11:04:38.678Z"
   },
   {
    "duration": 4,
    "start_time": "2021-09-08T11:05:32.309Z"
   },
   {
    "duration": 449,
    "start_time": "2021-09-08T11:05:36.831Z"
   },
   {
    "duration": 4,
    "start_time": "2021-09-08T11:05:55.264Z"
   },
   {
    "duration": 383,
    "start_time": "2021-09-08T11:05:57.995Z"
   },
   {
    "duration": 5,
    "start_time": "2021-09-08T11:11:22.608Z"
   },
   {
    "duration": 18,
    "start_time": "2021-09-08T11:11:25.086Z"
   },
   {
    "duration": 4,
    "start_time": "2021-09-08T11:13:32.292Z"
   },
   {
    "duration": 381,
    "start_time": "2021-09-08T11:13:34.930Z"
   },
   {
    "duration": 4,
    "start_time": "2021-09-08T11:13:48.508Z"
   },
   {
    "duration": 17,
    "start_time": "2021-09-08T11:13:56.384Z"
   },
   {
    "duration": 17,
    "start_time": "2021-09-08T11:14:13.455Z"
   },
   {
    "duration": 17,
    "start_time": "2021-09-08T11:14:18.801Z"
   },
   {
    "duration": 17,
    "start_time": "2021-09-08T11:14:26.237Z"
   },
   {
    "duration": 17,
    "start_time": "2021-09-08T11:14:56.282Z"
   },
   {
    "duration": 17,
    "start_time": "2021-09-08T11:15:08.245Z"
   },
   {
    "duration": 11,
    "start_time": "2021-09-08T11:24:12.359Z"
   },
   {
    "duration": 16,
    "start_time": "2021-09-08T11:25:04.595Z"
   },
   {
    "duration": 22,
    "start_time": "2021-09-08T11:25:16.533Z"
   },
   {
    "duration": 21,
    "start_time": "2021-09-08T11:25:19.444Z"
   },
   {
    "duration": 26,
    "start_time": "2021-09-08T11:25:28.261Z"
   },
   {
    "duration": 15,
    "start_time": "2021-09-08T11:25:48.525Z"
   },
   {
    "duration": 18,
    "start_time": "2021-09-08T11:26:19.487Z"
   },
   {
    "duration": 5,
    "start_time": "2021-09-08T11:29:06.439Z"
   },
   {
    "duration": 387,
    "start_time": "2021-09-08T11:29:10.748Z"
   },
   {
    "duration": 4,
    "start_time": "2021-09-08T11:29:31.525Z"
   },
   {
    "duration": 362,
    "start_time": "2021-09-08T11:29:37.240Z"
   },
   {
    "duration": 3,
    "start_time": "2021-09-08T11:29:57.738Z"
   },
   {
    "duration": 378,
    "start_time": "2021-09-08T11:30:01.097Z"
   },
   {
    "duration": 4,
    "start_time": "2021-09-08T11:30:44.444Z"
   },
   {
    "duration": 460,
    "start_time": "2021-09-08T11:30:46.812Z"
   },
   {
    "duration": 5,
    "start_time": "2021-09-08T11:30:59.380Z"
   },
   {
    "duration": 16,
    "start_time": "2021-09-08T11:31:11.160Z"
   },
   {
    "duration": 4,
    "start_time": "2021-09-08T11:31:33.652Z"
   },
   {
    "duration": 395,
    "start_time": "2021-09-08T11:31:39.272Z"
   },
   {
    "duration": 6,
    "start_time": "2021-09-08T11:31:56.772Z"
   },
   {
    "duration": 16,
    "start_time": "2021-09-08T11:32:00.754Z"
   },
   {
    "duration": 3,
    "start_time": "2021-09-08T11:32:22.135Z"
   },
   {
    "duration": 17,
    "start_time": "2021-09-08T11:32:24.595Z"
   },
   {
    "duration": 12,
    "start_time": "2021-09-08T11:32:41.403Z"
   },
   {
    "duration": 17,
    "start_time": "2021-09-08T11:32:47.733Z"
   },
   {
    "duration": 13,
    "start_time": "2021-09-08T11:33:12.139Z"
   },
   {
    "duration": 183,
    "start_time": "2021-09-08T11:37:34.251Z"
   },
   {
    "duration": 8,
    "start_time": "2021-09-08T11:38:24.734Z"
   },
   {
    "duration": 11,
    "start_time": "2021-09-08T11:39:11.137Z"
   },
   {
    "duration": 8,
    "start_time": "2021-09-08T11:39:28.038Z"
   },
   {
    "duration": 5,
    "start_time": "2021-09-08T11:39:40.720Z"
   },
   {
    "duration": 6,
    "start_time": "2021-09-08T11:40:41.234Z"
   },
   {
    "duration": 5,
    "start_time": "2021-09-08T11:42:51.065Z"
   },
   {
    "duration": 81,
    "start_time": "2021-09-08T16:51:34.244Z"
   },
   {
    "duration": 602,
    "start_time": "2021-09-08T16:52:22.499Z"
   },
   {
    "duration": 132,
    "start_time": "2021-09-08T16:52:23.103Z"
   },
   {
    "duration": 16,
    "start_time": "2021-09-08T16:52:23.237Z"
   },
   {
    "duration": 35,
    "start_time": "2021-09-08T16:52:23.254Z"
   },
   {
    "duration": 2,
    "start_time": "2021-09-08T16:52:23.291Z"
   },
   {
    "duration": 26,
    "start_time": "2021-09-08T16:52:23.295Z"
   },
   {
    "duration": 5,
    "start_time": "2021-09-08T16:52:23.323Z"
   },
   {
    "duration": 24,
    "start_time": "2021-09-08T16:52:23.331Z"
   },
   {
    "duration": 34,
    "start_time": "2021-09-08T16:52:23.357Z"
   },
   {
    "duration": 21,
    "start_time": "2021-09-08T16:52:23.393Z"
   },
   {
    "duration": 58,
    "start_time": "2021-09-08T16:52:23.416Z"
   },
   {
    "duration": 89,
    "start_time": "2021-09-08T16:52:23.475Z"
   },
   {
    "duration": 64,
    "start_time": "2021-09-08T16:52:23.565Z"
   },
   {
    "duration": 7,
    "start_time": "2021-09-08T16:52:23.631Z"
   },
   {
    "duration": 4,
    "start_time": "2021-09-08T16:52:23.640Z"
   },
   {
    "duration": 18,
    "start_time": "2021-09-08T16:52:23.646Z"
   },
   {
    "duration": 27,
    "start_time": "2021-09-08T16:52:23.665Z"
   },
   {
    "duration": 34,
    "start_time": "2021-09-08T16:52:23.694Z"
   },
   {
    "duration": 32,
    "start_time": "2021-09-08T16:52:23.730Z"
   },
   {
    "duration": 28,
    "start_time": "2021-09-08T16:52:23.765Z"
   },
   {
    "duration": 23,
    "start_time": "2021-09-08T16:52:23.795Z"
   },
   {
    "duration": 15,
    "start_time": "2021-09-08T16:52:23.820Z"
   },
   {
    "duration": 15,
    "start_time": "2021-09-08T16:52:23.839Z"
   },
   {
    "duration": 42,
    "start_time": "2021-09-08T16:52:23.855Z"
   },
   {
    "duration": 15,
    "start_time": "2021-09-08T16:52:23.899Z"
   },
   {
    "duration": 13,
    "start_time": "2021-09-08T16:52:23.916Z"
   },
   {
    "duration": 10,
    "start_time": "2021-09-08T16:52:23.930Z"
   },
   {
    "duration": 24,
    "start_time": "2021-09-08T16:52:23.941Z"
   },
   {
    "duration": 18,
    "start_time": "2021-09-08T16:52:23.992Z"
   },
   {
    "duration": 3,
    "start_time": "2021-09-08T16:52:24.012Z"
   },
   {
    "duration": 24,
    "start_time": "2021-09-08T16:52:24.017Z"
   },
   {
    "duration": 12,
    "start_time": "2021-09-08T16:52:24.042Z"
   },
   {
    "duration": 42,
    "start_time": "2021-09-08T16:52:24.056Z"
   },
   {
    "duration": 13,
    "start_time": "2021-09-08T16:52:24.100Z"
   },
   {
    "duration": 9,
    "start_time": "2021-09-08T16:52:24.115Z"
   },
   {
    "duration": 5,
    "start_time": "2021-09-08T16:52:24.126Z"
   },
   {
    "duration": 17,
    "start_time": "2021-09-08T16:52:24.132Z"
   },
   {
    "duration": 10,
    "start_time": "2021-09-08T16:52:24.151Z"
   },
   {
    "duration": 88,
    "start_time": "2021-09-08T16:54:53.194Z"
   },
   {
    "duration": 139,
    "start_time": "2021-09-09T07:48:09.156Z"
   },
   {
    "duration": 355,
    "start_time": "2022-07-02T15:19:47.088Z"
   },
   {
    "duration": 449,
    "start_time": "2022-07-02T15:19:49.632Z"
   },
   {
    "duration": 16,
    "start_time": "2022-07-02T15:19:51.895Z"
   },
   {
    "duration": 174,
    "start_time": "2022-07-02T15:21:19.393Z"
   },
   {
    "duration": 163,
    "start_time": "2022-07-02T15:21:22.250Z"
   },
   {
    "duration": 28,
    "start_time": "2022-07-02T15:21:38.301Z"
   },
   {
    "duration": 116,
    "start_time": "2022-07-02T15:21:47.753Z"
   },
   {
    "duration": 3,
    "start_time": "2022-07-02T17:39:02.778Z"
   },
   {
    "duration": 162,
    "start_time": "2022-07-02T17:39:03.910Z"
   },
   {
    "duration": 27,
    "start_time": "2022-07-02T17:39:04.708Z"
   },
   {
    "duration": 138,
    "start_time": "2022-07-02T17:39:06.784Z"
   },
   {
    "duration": 4,
    "start_time": "2022-07-02T17:39:09.109Z"
   },
   {
    "duration": 10,
    "start_time": "2022-07-02T17:39:36.390Z"
   },
   {
    "duration": 22,
    "start_time": "2022-07-02T17:40:19.298Z"
   },
   {
    "duration": 34,
    "start_time": "2022-07-02T17:42:16.537Z"
   },
   {
    "duration": 62,
    "start_time": "2022-07-02T17:42:44.418Z"
   },
   {
    "duration": 120,
    "start_time": "2022-07-02T17:43:01.924Z"
   },
   {
    "duration": 61,
    "start_time": "2022-07-02T17:44:41.425Z"
   },
   {
    "duration": 11,
    "start_time": "2022-07-02T17:47:33.255Z"
   },
   {
    "duration": 33,
    "start_time": "2022-07-02T17:48:59.878Z"
   },
   {
    "duration": 40,
    "start_time": "2022-07-02T17:49:13.586Z"
   },
   {
    "duration": 26,
    "start_time": "2022-07-02T17:51:31.098Z"
   },
   {
    "duration": 57,
    "start_time": "2022-07-02T17:51:47.790Z"
   },
   {
    "duration": 29,
    "start_time": "2022-07-02T17:58:16.684Z"
   },
   {
    "duration": 30,
    "start_time": "2022-07-02T18:01:13.864Z"
   },
   {
    "duration": 3,
    "start_time": "2022-07-02T18:02:44.531Z"
   },
   {
    "duration": 15,
    "start_time": "2022-07-02T18:02:53.964Z"
   },
   {
    "duration": 13,
    "start_time": "2022-07-02T18:02:54.729Z"
   },
   {
    "duration": 16,
    "start_time": "2022-07-02T18:02:55.477Z"
   },
   {
    "duration": 14,
    "start_time": "2022-07-02T18:02:57.262Z"
   },
   {
    "duration": 17,
    "start_time": "2022-07-02T18:02:57.847Z"
   },
   {
    "duration": 15,
    "start_time": "2022-07-02T18:02:58.456Z"
   },
   {
    "duration": 9,
    "start_time": "2022-07-02T18:03:39.190Z"
   },
   {
    "duration": 20,
    "start_time": "2022-07-02T18:05:45.370Z"
   },
   {
    "duration": 18,
    "start_time": "2022-07-02T18:05:52.126Z"
   },
   {
    "duration": 3,
    "start_time": "2022-07-02T18:06:07.134Z"
   },
   {
    "duration": 14,
    "start_time": "2022-07-02T18:06:32.124Z"
   },
   {
    "duration": 11,
    "start_time": "2022-07-02T18:06:38.235Z"
   },
   {
    "duration": 17,
    "start_time": "2022-07-02T18:06:44.102Z"
   },
   {
    "duration": 11,
    "start_time": "2022-07-02T18:06:48.279Z"
   },
   {
    "duration": 10,
    "start_time": "2022-07-02T18:08:23.115Z"
   },
   {
    "duration": 7,
    "start_time": "2022-07-02T18:08:36.631Z"
   }
  ],
  "colab": {
   "collapsed_sections": [
    "E0vqbgi9ay0H",
    "VUC88oWjTJw2"
   ],
   "name": "yandex_music_project_2021.2.ipynb",
   "provenance": []
  },
  "kernelspec": {
   "display_name": "Python 3 (ipykernel)",
   "language": "python",
   "name": "python3"
  },
  "language_info": {
   "codemirror_mode": {
    "name": "ipython",
    "version": 3
   },
   "file_extension": ".py",
   "mimetype": "text/x-python",
   "name": "python",
   "nbconvert_exporter": "python",
   "pygments_lexer": "ipython3",
   "version": "3.9.5"
  },
  "toc": {
   "base_numbering": 1,
   "nav_menu": {},
   "number_sections": true,
   "sideBar": true,
   "skip_h1_title": true,
   "title_cell": "Table of Contents",
   "title_sidebar": "Contents",
   "toc_cell": false,
   "toc_position": {
    "height": "calc(100% - 180px)",
    "left": "10px",
    "top": "150px",
    "width": "270.391px"
   },
   "toc_section_display": true,
   "toc_window_display": false
  }
 },
 "nbformat": 4,
 "nbformat_minor": 1
}
